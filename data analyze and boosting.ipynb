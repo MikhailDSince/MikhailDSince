{
 "cells": [
  {
   "cell_type": "markdown",
   "metadata": {},
   "source": [
    "# Определение стоимости автомобилей"
   ]
  },
  {
   "cell_type": "markdown",
   "metadata": {},
   "source": [
    "Сервис по продаже автомобилей с пробегом разрабатывает приложение для привлечения новых клиентов. В нём можно быстро узнать рыночную стоимость своего автомобиля. В вашем распоряжении исторические данные: технические характеристики, комплектации и цены автомобилей. Вам нужно построить модель для определения стоимости. \n",
    "\n",
    "Заказчику важны:\n",
    "\n",
    "- качество предсказания;\n",
    "- скорость предсказания;\n",
    "- время обучения."
   ]
  },
  {
   "cell_type": "markdown",
   "metadata": {},
   "source": [
    "Загрузим данные и рассмотрим их."
   ]
  },
  {
   "cell_type": "code",
   "execution_count": 1,
   "metadata": {},
   "outputs": [],
   "source": [
    "import pandas as pd\n",
    "from sklearn.linear_model import LinearRegression\n",
    "from sklearn.metrics import mean_squared_error\n",
    "from sklearn.model_selection import train_test_split\n",
    "from sklearn.tree import DecisionTreeRegressor\n",
    "from sklearn.preprocessing import OrdinalEncoder\n",
    "from sklearn.model_selection import GridSearchCV\n",
    "from sklearn.metrics import make_scorer\n",
    "from sklearn.model_selection import cross_val_score\n",
    "from sklearn.linear_model import LinearRegression\n",
    "from sklearn.preprocessing import StandardScaler\n",
    "from lightgbm import LGBMRegressor\n",
    "from tqdm import tqdm\n",
    "from catboost import CatBoostRegressor\n",
    "from sklearn.ensemble import RandomForestRegressor"
   ]
  },
  {
   "cell_type": "markdown",
   "metadata": {},
   "source": [
    "<div class=\"alert alert-block alert-success\">\n",
    "<b>✔️ Успех:</b>\n",
    "\n",
    "Правильное решение — выделять отдельную ячейку в начале проекта под подключение библиотек и настройки. Tак код легче поддерживать 👌 Но также стоит соблюдать рекомендации PEP-8 при написании кода. У импортов есть тоже определенные правила. Это сделано для повышения читабельности и простоты работы с кодом.\n",
    "\n",
    "https://pythonworld.ru/osnovy/pep-8-rukovodstvo-po-napisaniyu-koda-na-python.html\n",
    "</div>"
   ]
  },
  {
   "cell_type": "markdown",
   "metadata": {},
   "source": [
    "## Подготовка данных"
   ]
  },
  {
   "cell_type": "code",
   "execution_count": 2,
   "metadata": {},
   "outputs": [
    {
     "data": {
      "text/html": [
       "<div>\n",
       "<style scoped>\n",
       "    .dataframe tbody tr th:only-of-type {\n",
       "        vertical-align: middle;\n",
       "    }\n",
       "\n",
       "    .dataframe tbody tr th {\n",
       "        vertical-align: top;\n",
       "    }\n",
       "\n",
       "    .dataframe thead th {\n",
       "        text-align: right;\n",
       "    }\n",
       "</style>\n",
       "<table border=\"1\" class=\"dataframe\">\n",
       "  <thead>\n",
       "    <tr style=\"text-align: right;\">\n",
       "      <th></th>\n",
       "      <th>DateCrawled</th>\n",
       "      <th>Price</th>\n",
       "      <th>VehicleType</th>\n",
       "      <th>RegistrationYear</th>\n",
       "      <th>Gearbox</th>\n",
       "      <th>Power</th>\n",
       "      <th>Model</th>\n",
       "      <th>Kilometer</th>\n",
       "      <th>RegistrationMonth</th>\n",
       "      <th>FuelType</th>\n",
       "      <th>Brand</th>\n",
       "      <th>NotRepaired</th>\n",
       "      <th>DateCreated</th>\n",
       "      <th>NumberOfPictures</th>\n",
       "      <th>PostalCode</th>\n",
       "      <th>LastSeen</th>\n",
       "    </tr>\n",
       "  </thead>\n",
       "  <tbody>\n",
       "    <tr>\n",
       "      <th>0</th>\n",
       "      <td>2016-03-24 11:52:17</td>\n",
       "      <td>480</td>\n",
       "      <td>NaN</td>\n",
       "      <td>1993</td>\n",
       "      <td>manual</td>\n",
       "      <td>0</td>\n",
       "      <td>golf</td>\n",
       "      <td>150000</td>\n",
       "      <td>0</td>\n",
       "      <td>petrol</td>\n",
       "      <td>volkswagen</td>\n",
       "      <td>NaN</td>\n",
       "      <td>2016-03-24 00:00:00</td>\n",
       "      <td>0</td>\n",
       "      <td>70435</td>\n",
       "      <td>2016-04-07 03:16:57</td>\n",
       "    </tr>\n",
       "    <tr>\n",
       "      <th>1</th>\n",
       "      <td>2016-03-24 10:58:45</td>\n",
       "      <td>18300</td>\n",
       "      <td>coupe</td>\n",
       "      <td>2011</td>\n",
       "      <td>manual</td>\n",
       "      <td>190</td>\n",
       "      <td>NaN</td>\n",
       "      <td>125000</td>\n",
       "      <td>5</td>\n",
       "      <td>gasoline</td>\n",
       "      <td>audi</td>\n",
       "      <td>yes</td>\n",
       "      <td>2016-03-24 00:00:00</td>\n",
       "      <td>0</td>\n",
       "      <td>66954</td>\n",
       "      <td>2016-04-07 01:46:50</td>\n",
       "    </tr>\n",
       "    <tr>\n",
       "      <th>2</th>\n",
       "      <td>2016-03-14 12:52:21</td>\n",
       "      <td>9800</td>\n",
       "      <td>suv</td>\n",
       "      <td>2004</td>\n",
       "      <td>auto</td>\n",
       "      <td>163</td>\n",
       "      <td>grand</td>\n",
       "      <td>125000</td>\n",
       "      <td>8</td>\n",
       "      <td>gasoline</td>\n",
       "      <td>jeep</td>\n",
       "      <td>NaN</td>\n",
       "      <td>2016-03-14 00:00:00</td>\n",
       "      <td>0</td>\n",
       "      <td>90480</td>\n",
       "      <td>2016-04-05 12:47:46</td>\n",
       "    </tr>\n",
       "    <tr>\n",
       "      <th>3</th>\n",
       "      <td>2016-03-17 16:54:04</td>\n",
       "      <td>1500</td>\n",
       "      <td>small</td>\n",
       "      <td>2001</td>\n",
       "      <td>manual</td>\n",
       "      <td>75</td>\n",
       "      <td>golf</td>\n",
       "      <td>150000</td>\n",
       "      <td>6</td>\n",
       "      <td>petrol</td>\n",
       "      <td>volkswagen</td>\n",
       "      <td>no</td>\n",
       "      <td>2016-03-17 00:00:00</td>\n",
       "      <td>0</td>\n",
       "      <td>91074</td>\n",
       "      <td>2016-03-17 17:40:17</td>\n",
       "    </tr>\n",
       "    <tr>\n",
       "      <th>4</th>\n",
       "      <td>2016-03-31 17:25:20</td>\n",
       "      <td>3600</td>\n",
       "      <td>small</td>\n",
       "      <td>2008</td>\n",
       "      <td>manual</td>\n",
       "      <td>69</td>\n",
       "      <td>fabia</td>\n",
       "      <td>90000</td>\n",
       "      <td>7</td>\n",
       "      <td>gasoline</td>\n",
       "      <td>skoda</td>\n",
       "      <td>no</td>\n",
       "      <td>2016-03-31 00:00:00</td>\n",
       "      <td>0</td>\n",
       "      <td>60437</td>\n",
       "      <td>2016-04-06 10:17:21</td>\n",
       "    </tr>\n",
       "  </tbody>\n",
       "</table>\n",
       "</div>"
      ],
      "text/plain": [
       "           DateCrawled  Price VehicleType  RegistrationYear Gearbox  Power  \\\n",
       "0  2016-03-24 11:52:17    480         NaN              1993  manual      0   \n",
       "1  2016-03-24 10:58:45  18300       coupe              2011  manual    190   \n",
       "2  2016-03-14 12:52:21   9800         suv              2004    auto    163   \n",
       "3  2016-03-17 16:54:04   1500       small              2001  manual     75   \n",
       "4  2016-03-31 17:25:20   3600       small              2008  manual     69   \n",
       "\n",
       "   Model  Kilometer  RegistrationMonth  FuelType       Brand NotRepaired  \\\n",
       "0   golf     150000                  0    petrol  volkswagen         NaN   \n",
       "1    NaN     125000                  5  gasoline        audi         yes   \n",
       "2  grand     125000                  8  gasoline        jeep         NaN   \n",
       "3   golf     150000                  6    petrol  volkswagen          no   \n",
       "4  fabia      90000                  7  gasoline       skoda          no   \n",
       "\n",
       "           DateCreated  NumberOfPictures  PostalCode             LastSeen  \n",
       "0  2016-03-24 00:00:00                 0       70435  2016-04-07 03:16:57  \n",
       "1  2016-03-24 00:00:00                 0       66954  2016-04-07 01:46:50  \n",
       "2  2016-03-14 00:00:00                 0       90480  2016-04-05 12:47:46  \n",
       "3  2016-03-17 00:00:00                 0       91074  2016-03-17 17:40:17  \n",
       "4  2016-03-31 00:00:00                 0       60437  2016-04-06 10:17:21  "
      ]
     },
     "execution_count": 2,
     "metadata": {},
     "output_type": "execute_result"
    }
   ],
   "source": [
    "data = pd.read_csv(\"/datasets/autos.csv\")\n",
    "data.head(5)"
   ]
  },
  {
   "cell_type": "code",
   "execution_count": 3,
   "metadata": {},
   "outputs": [
    {
     "name": "stdout",
     "output_type": "stream",
     "text": [
      "<class 'pandas.core.frame.DataFrame'>\n",
      "RangeIndex: 354369 entries, 0 to 354368\n",
      "Data columns (total 16 columns):\n",
      " #   Column             Non-Null Count   Dtype \n",
      "---  ------             --------------   ----- \n",
      " 0   DateCrawled        354369 non-null  object\n",
      " 1   Price              354369 non-null  int64 \n",
      " 2   VehicleType        316879 non-null  object\n",
      " 3   RegistrationYear   354369 non-null  int64 \n",
      " 4   Gearbox            334536 non-null  object\n",
      " 5   Power              354369 non-null  int64 \n",
      " 6   Model              334664 non-null  object\n",
      " 7   Kilometer          354369 non-null  int64 \n",
      " 8   RegistrationMonth  354369 non-null  int64 \n",
      " 9   FuelType           321474 non-null  object\n",
      " 10  Brand              354369 non-null  object\n",
      " 11  NotRepaired        283215 non-null  object\n",
      " 12  DateCreated        354369 non-null  object\n",
      " 13  NumberOfPictures   354369 non-null  int64 \n",
      " 14  PostalCode         354369 non-null  int64 \n",
      " 15  LastSeen           354369 non-null  object\n",
      "dtypes: int64(7), object(9)\n",
      "memory usage: 43.3+ MB\n"
     ]
    }
   ],
   "source": [
    "data.info()"
   ]
  },
  {
   "cell_type": "markdown",
   "metadata": {},
   "source": [
    "Всего в данных 354369 строк, в некоторых столбцах присутствуют пропуски. Рассмотрим столбцы с пропусками и приму решение, как с ними бороться."
   ]
  },
  {
   "cell_type": "code",
   "execution_count": 4,
   "metadata": {},
   "outputs": [
    {
     "data": {
      "text/plain": [
       "array([nan, 'coupe', 'suv', 'small', 'sedan', 'convertible', 'bus',\n",
       "       'wagon', 'other'], dtype=object)"
      ]
     },
     "execution_count": 4,
     "metadata": {},
     "output_type": "execute_result"
    }
   ],
   "source": [
    "data[\"VehicleType\"].unique()"
   ]
  },
  {
   "cell_type": "code",
   "execution_count": 5,
   "metadata": {},
   "outputs": [
    {
     "data": {
      "text/plain": [
       "0.1057936783409384"
      ]
     },
     "execution_count": 5,
     "metadata": {},
     "output_type": "execute_result"
    }
   ],
   "source": [
    "data[\"VehicleType\"].isna().sum()/len(data)"
   ]
  },
  {
   "cell_type": "markdown",
   "metadata": {},
   "source": [
    "В столбце видим 10% пропусков, для удаления данных это достаточно большая велечина. Поэтому считаю необходимым заменить нулевые значения в столбце заглушкой. "
   ]
  },
  {
   "cell_type": "code",
   "execution_count": 6,
   "metadata": {},
   "outputs": [],
   "source": [
    "data[\"VehicleType\"] = data[\"VehicleType\"].fillna(\"no_type\")"
   ]
  },
  {
   "cell_type": "markdown",
   "metadata": {},
   "source": [
    "<div class=\"alert alert-block alert-success\">\n",
    "<b>✔️ Успех:</b> 👍\n",
    "</div>"
   ]
  },
  {
   "cell_type": "code",
   "execution_count": 7,
   "metadata": {},
   "outputs": [
    {
     "data": {
      "text/plain": [
       "array([1993, 2011, 2004, 2001, 2008, 1995, 1980, 2014, 1998, 2005, 1910,\n",
       "       2016, 2007, 2009, 2002, 2018, 1997, 1990, 2017, 1981, 2003, 1994,\n",
       "       1991, 1984, 2006, 1999, 2012, 2010, 2000, 1992, 2013, 1996, 1985,\n",
       "       1989, 2015, 1982, 1976, 1983, 1973, 1111, 1969, 1971, 1987, 1986,\n",
       "       1988, 1970, 1965, 1945, 1925, 1974, 1979, 1955, 1978, 1972, 1968,\n",
       "       1977, 1961, 1960, 1966, 1975, 1963, 1964, 5000, 1954, 1958, 1967,\n",
       "       1959, 9999, 1956, 3200, 1000, 1941, 8888, 1500, 2200, 4100, 1962,\n",
       "       1929, 1957, 1940, 3000, 2066, 1949, 2019, 1937, 1951, 1800, 1953,\n",
       "       1234, 8000, 5300, 9000, 2900, 6000, 5900, 5911, 1933, 1400, 1950,\n",
       "       4000, 1948, 1952, 1200, 8500, 1932, 1255, 3700, 3800, 4800, 1942,\n",
       "       7000, 1935, 1936, 6500, 1923, 2290, 2500, 1930, 1001, 9450, 1944,\n",
       "       1943, 1934, 1938, 1688, 2800, 1253, 1928, 1919, 5555, 5600, 1600,\n",
       "       2222, 1039, 9996, 1300, 8455, 1931, 1915, 4500, 1920, 1602, 7800,\n",
       "       9229, 1947, 1927, 7100, 8200, 1946, 7500, 3500])"
      ]
     },
     "execution_count": 7,
     "metadata": {},
     "output_type": "execute_result"
    }
   ],
   "source": [
    "data[\"RegistrationYear\"].unique()"
   ]
  },
  {
   "cell_type": "code",
   "execution_count": 8,
   "metadata": {},
   "outputs": [
    {
     "data": {
      "text/plain": [
       "<AxesSubplot:>"
      ]
     },
     "execution_count": 8,
     "metadata": {},
     "output_type": "execute_result"
    },
    {
     "data": {
      "image/png": "[encoded data removed]",
      "text/plain": [
       "<Figure size 432x288 with 1 Axes>"
      ]
     },
     "metadata": {
      "needs_background": "light"
     },
     "output_type": "display_data"
    }
   ],
   "source": [
    "data[\"RegistrationYear\"].hist()"
   ]
  },
  {
   "cell_type": "markdown",
   "metadata": {},
   "source": [
    "В столбце RegistrationYear очень много выбросов, которые просто невозможны по логике, так как автомобили были изобретены только в 1885 году. Я считаю необходимым ограничить данные в столбце диапазоном от 1900, так как теоретически возможна продажа раритеных автомобилей до настоящего времени."
   ]
  },
  {
   "cell_type": "code",
   "execution_count": 9,
   "metadata": {},
   "outputs": [
    {
     "data": {
      "text/plain": [
       "339773"
      ]
     },
     "execution_count": 9,
     "metadata": {},
     "output_type": "execute_result"
    }
   ],
   "source": [
    "data = data[(data[\"RegistrationYear\"] >= 1900)&(data[\"RegistrationYear\"] <= 2016)]\n",
    "len(data)"
   ]
  },
  {
   "cell_type": "markdown",
   "metadata": {},
   "source": [
    "<div class=\"alert alert-block alert-danger\">\n",
    "<b>❌ Замечание:</b>\n",
    "\n",
    "Максимальный год — год выгрузки 2016.\n",
    "</div>"
   ]
  },
  {
   "cell_type": "markdown",
   "metadata": {},
   "source": [
    "<div class=\"alert alert-block alert-info\">\n",
    "<b>Изменения:</b> Изменил верхнюю границу года регистрации.\n",
    "</div>"
   ]
  },
  {
   "cell_type": "code",
   "execution_count": 10,
   "metadata": {},
   "outputs": [
    {
     "data": {
      "text/plain": [
       "array(['manual', 'auto', nan], dtype=object)"
      ]
     },
     "execution_count": 10,
     "metadata": {},
     "output_type": "execute_result"
    }
   ],
   "source": [
    "data[\"Gearbox\"].unique()"
   ]
  },
  {
   "cell_type": "code",
   "execution_count": 11,
   "metadata": {},
   "outputs": [
    {
     "data": {
      "text/plain": [
       "0.05270872023380316"
      ]
     },
     "execution_count": 11,
     "metadata": {},
     "output_type": "execute_result"
    }
   ],
   "source": [
    "data[\"Gearbox\"].isna().sum()/len(data)"
   ]
  },
  {
   "cell_type": "markdown",
   "metadata": {},
   "source": [
    "В столбце с коробкой передач всего 5.5% пропусков, зная что распределение этого столбца биномиальное и добавление 3-его значения в виде заглушки только загрязнит данные, считаю необходимым удалить все пропуска."
   ]
  },
  {
   "cell_type": "code",
   "execution_count": 12,
   "metadata": {},
   "outputs": [],
   "source": [
    "data = data.dropna(subset = [\"Gearbox\"])"
   ]
  },
  {
   "cell_type": "code",
   "execution_count": 13,
   "metadata": {},
   "outputs": [
    {
     "data": {
      "text/plain": [
       "0.043313324882559096"
      ]
     },
     "execution_count": 13,
     "metadata": {},
     "output_type": "execute_result"
    }
   ],
   "source": [
    "data[\"Model\"].isna().sum()/len(data)"
   ]
  },
  {
   "cell_type": "markdown",
   "metadata": {},
   "source": [
    "Пропуска в столбце с моделями заменим заглушкой \"no_model\""
   ]
  },
  {
   "cell_type": "code",
   "execution_count": 14,
   "metadata": {},
   "outputs": [],
   "source": [
    "data[\"Model\"] = data[\"Model\"].fillna(\"no_model\") "
   ]
  },
  {
   "cell_type": "markdown",
   "metadata": {},
   "source": [
    "Рассмотрим столбце Kilometer на наличие выбросов"
   ]
  },
  {
   "cell_type": "code",
   "execution_count": 15,
   "metadata": {},
   "outputs": [
    {
     "data": {
      "text/plain": [
       "<AxesSubplot:>"
      ]
     },
     "execution_count": 15,
     "metadata": {},
     "output_type": "execute_result"
    },
    {
     "data": {
      "image/png": "[encoded data removed]",
      "text/plain": [
       "<Figure size 432x288 with 1 Axes>"
      ]
     },
     "metadata": {
      "needs_background": "light"
     },
     "output_type": "display_data"
    }
   ],
   "source": [
    "data[\"Kilometer\"].hist()"
   ]
  },
  {
   "cell_type": "markdown",
   "metadata": {},
   "source": [
    "Аномальных значений пробега не наблюдается"
   ]
  },
  {
   "cell_type": "code",
   "execution_count": 16,
   "metadata": {},
   "outputs": [
    {
     "data": {
      "text/plain": [
       "array(['petrol', 'gasoline', nan, 'lpg', 'other', 'hybrid', 'cng',\n",
       "       'electric'], dtype=object)"
      ]
     },
     "execution_count": 16,
     "metadata": {},
     "output_type": "execute_result"
    }
   ],
   "source": [
    "data[\"FuelType\"].unique()"
   ]
  },
  {
   "cell_type": "markdown",
   "metadata": {},
   "source": [
    "Пропуски в столбце с топливом отнесем к категории other."
   ]
  },
  {
   "cell_type": "code",
   "execution_count": 17,
   "metadata": {},
   "outputs": [],
   "source": [
    "data[\"FuelType\"] = data[\"FuelType\"].fillna(\"other\")"
   ]
  },
  {
   "cell_type": "code",
   "execution_count": 18,
   "metadata": {},
   "outputs": [
    {
     "data": {
      "text/plain": [
       "array([nan, 'yes', 'no'], dtype=object)"
      ]
     },
     "execution_count": 18,
     "metadata": {},
     "output_type": "execute_result"
    }
   ],
   "source": [
    "data[\"NotRepaired\"].unique()"
   ]
  },
  {
   "cell_type": "code",
   "execution_count": 19,
   "metadata": {},
   "outputs": [
    {
     "data": {
      "text/plain": [
       "0.16569109934630777"
      ]
     },
     "execution_count": 19,
     "metadata": {},
     "output_type": "execute_result"
    }
   ],
   "source": [
    "data[\"NotRepaired\"].isna().sum()/len(data)"
   ]
  },
  {
   "cell_type": "markdown",
   "metadata": {},
   "source": [
    "Количество пропусков в столбце с ремонтом 17.5 процентов. Это очень много для удаления, поэтому отесем все пропуска к категории \"unknown\""
   ]
  },
  {
   "cell_type": "code",
   "execution_count": 20,
   "metadata": {},
   "outputs": [],
   "source": [
    "data[\"NotRepaired\"] = data[\"NotRepaired\"].fillna(\"unknown\")"
   ]
  },
  {
   "cell_type": "markdown",
   "metadata": {},
   "source": [
    "<div class=\"alert alert-block alert-success\">\n",
    "<b>✔️ Успех:</b>\n",
    "\n",
    "Пропуски успешно заполнены 👍 Модели теперь не будут капризничать)\n",
    "</div>"
   ]
  },
  {
   "cell_type": "markdown",
   "metadata": {},
   "source": [
    "Переведем столбцы DateCrawled, DateCreated, LastSeen в формат datetime."
   ]
  },
  {
   "cell_type": "code",
   "execution_count": 21,
   "metadata": {},
   "outputs": [],
   "source": [
    "data[\"DateCrawled\"]= pd.to_datetime(data[\"DateCrawled\"], format = \"%Y-%m-%d %H:%M:%S\")\n",
    "data[\"DateCreated\"]= pd.to_datetime(data[\"DateCreated\"], format = \"%Y-%m-%d %H:%M:%S\")\n",
    "data[\"LastSeen\"]= pd.to_datetime(data[\"LastSeen\"], format = \"%Y-%m-%d %H:%M:%S\")"
   ]
  },
  {
   "cell_type": "markdown",
   "metadata": {},
   "source": [
    "Также необходимо удалить все не связанные с целевым признаком столбцы. Считаю, что столбцы DateCrawled, DateCreated, NumberOfPictures, PostalCode, LastSeen никак не влияют на цену автомобиля. Удалю их."
   ]
  },
  {
   "cell_type": "code",
   "execution_count": 22,
   "metadata": {},
   "outputs": [],
   "source": [
    "data = data.drop([\"DateCrawled\", \"DateCreated\", \"NumberOfPictures\", \"PostalCode\", \"LastSeen\"], axis = 1)"
   ]
  },
  {
   "cell_type": "markdown",
   "metadata": {},
   "source": [
    "<div class=\"alert alert-block alert-success\">\n",
    "<b>✔️ Успех:</b>\n",
    "\n",
    "Удалить неинформативные признаки - хорошее решение 👍\n",
    "</div>"
   ]
  },
  {
   "cell_type": "markdown",
   "metadata": {},
   "source": [
    "Рассмотрим столбец RegistrationMonth"
   ]
  },
  {
   "cell_type": "code",
   "execution_count": 23,
   "metadata": {},
   "outputs": [
    {
     "name": "stdout",
     "output_type": "stream",
     "text": [
      "0 24855\n",
      "1 21619\n",
      "2 20005\n",
      "3 32357\n",
      "4 27447\n",
      "5 27329\n",
      "6 29435\n",
      "7 25551\n",
      "8 21177\n",
      "9 22435\n",
      "10 24514\n",
      "11 22392\n",
      "12 22748\n"
     ]
    }
   ],
   "source": [
    "for i in range(0,13):\n",
    "    print(i, (data[\"RegistrationMonth\"] == i).sum())"
   ]
  },
  {
   "cell_type": "markdown",
   "metadata": {},
   "source": [
    "В нем всего 13 различных значений, что совершенно не соответствует логике. В отличии от удаленных столбцов у него может быть зависимость от категорального признака. Проверим наличие линейной зависимости."
   ]
  },
  {
   "cell_type": "code",
   "execution_count": 24,
   "metadata": {},
   "outputs": [
    {
     "data": {
      "text/plain": [
       "0.08597050316204201"
      ]
     },
     "execution_count": 24,
     "metadata": {},
     "output_type": "execute_result"
    }
   ],
   "source": [
    "data[\"RegistrationMonth\"].corr(data[\"Price\"])"
   ]
  },
  {
   "cell_type": "markdown",
   "metadata": {},
   "source": [
    "Линейная зависимость маленькая, также плохо видны причинноследственная зависимость между столбцами, так как обычно покупатели смотрят на год регистрации машины, поэтому удалим этот столбец."
   ]
  },
  {
   "cell_type": "code",
   "execution_count": 25,
   "metadata": {},
   "outputs": [],
   "source": [
    "data = data.drop(\"RegistrationMonth\", axis = 1)"
   ]
  },
  {
   "cell_type": "markdown",
   "metadata": {},
   "source": [
    "Рассмотрим распределение значений в столбце Price."
   ]
  },
  {
   "cell_type": "code",
   "execution_count": 26,
   "metadata": {},
   "outputs": [
    {
     "data": {
      "text/plain": [
       "<AxesSubplot:>"
      ]
     },
     "execution_count": 26,
     "metadata": {},
     "output_type": "execute_result"
    },
    {
     "data": {
      "image/png": "[encoded data removed]",
      "text/plain": [
       "<Figure size 432x288 with 1 Axes>"
      ]
     },
     "metadata": {
      "needs_background": "light"
     },
     "output_type": "display_data"
    }
   ],
   "source": [
    "data[\"Price\"].hist()"
   ]
  },
  {
   "cell_type": "code",
   "execution_count": 27,
   "metadata": {},
   "outputs": [
    {
     "data": {
      "text/plain": [
       "<AxesSubplot:>"
      ]
     },
     "execution_count": 27,
     "metadata": {},
     "output_type": "execute_result"
    },
    {
     "data": {
      "image/png": "[encoded data removed]",
      "text/plain": [
       "<Figure size 432x288 with 1 Axes>"
      ]
     },
     "metadata": {
      "needs_background": "light"
     },
     "output_type": "display_data"
    }
   ],
   "source": [
    "data.boxplot(\"Price\")"
   ]
  },
  {
   "cell_type": "code",
   "execution_count": 28,
   "metadata": {},
   "outputs": [
    {
     "data": {
      "text/plain": [
       "count    321864.000000\n",
       "mean       4597.441068\n",
       "std        4579.971144\n",
       "min           0.000000\n",
       "25%        1199.000000\n",
       "50%        2900.000000\n",
       "75%        6700.000000\n",
       "max       20000.000000\n",
       "Name: Price, dtype: float64"
      ]
     },
     "execution_count": 28,
     "metadata": {},
     "output_type": "execute_result"
    }
   ],
   "source": [
    "data[\"Price\"].describe()"
   ]
  },
  {
   "cell_type": "markdown",
   "metadata": {},
   "source": [
    "Распределение имеет хвост враво. По правилу 3-х сигм избавимся от выбросов с правой стороны."
   ]
  },
  {
   "cell_type": "code",
   "execution_count": 29,
   "metadata": {},
   "outputs": [
    {
     "data": {
      "text/plain": [
       "18337.35449945645"
      ]
     },
     "execution_count": 29,
     "metadata": {},
     "output_type": "execute_result"
    }
   ],
   "source": [
    "data[\"Price\"].mean() + 3 * data[\"Price\"].std()"
   ]
  },
  {
   "cell_type": "code",
   "execution_count": 30,
   "metadata": {},
   "outputs": [],
   "source": [
    "data = data[data[\"Price\"] < 18202]"
   ]
  },
  {
   "cell_type": "markdown",
   "metadata": {},
   "source": [
    "<div class=\"alert alert-block alert-danger\">\n",
    "<b>❌ Замечание:</b>\n",
    "\n",
    "Присутствуют нулевые значения в признаке price. Цена не может быть нулевой, к тому же это целевой признак. Самое интересное, что на нескольких сайтах по продаже подержанных автомобилей в Германии (страну можно определить по почтовым индексам, большинство из них из Германии) показало, что цены, действительно, начинаются с 0 и 1 евро, но это единичные объявления. Не понятно, то ли это ошибка при заполнении формы, то ли машины на металлолом. Но я все-таки склоняюсь к тому, чтобы избавиться от таких данных.\n",
    "</div>"
   ]
  },
  {
   "cell_type": "markdown",
   "metadata": {},
   "source": [
    "<div class=\"alert alert-block alert-success\">\n",
    "<b>✔️ Успешно исправлено</b>\n",
    "</div>"
   ]
  },
  {
   "cell_type": "code",
   "execution_count": 31,
   "metadata": {},
   "outputs": [
    {
     "data": {
      "text/plain": [
       "0.8527545573572364"
      ]
     },
     "execution_count": 31,
     "metadata": {},
     "output_type": "execute_result"
    }
   ],
   "source": [
    "(data[\"Price\"] < 2).sum()/(data[\"Price\"] <= 100).sum()"
   ]
  },
  {
   "cell_type": "code",
   "execution_count": 32,
   "metadata": {},
   "outputs": [
    {
     "data": {
      "text/plain": [
       "0.031293434650647524"
      ]
     },
     "execution_count": 32,
     "metadata": {},
     "output_type": "execute_result"
    }
   ],
   "source": [
    "(data[\"Price\"] <= 100).sum()/len(data)"
   ]
  },
  {
   "cell_type": "markdown",
   "metadata": {},
   "source": [
    "<div class=\"alert alert-block alert-info\">\n",
    "<b>Комментарий студента:</b> Цена 0 и 1 входят в диапазон нормальных значений распределения цены, но по смыслу они не подходят, врядли кто-то будет продавать машину меньше, чем за 100 евро. Причем обьявления с ценой 0-1 составляют 85 процентов от обьявлений с ценой до 100 евро. Также обьявления с ценой до 100 евро составляют всего 3 процента от всех обьявлений в базе. Таким образом считаю необходимым удалить обьявления с ценой меньшей или равной 100.\n",
    "</div>"
   ]
  },
  {
   "cell_type": "code",
   "execution_count": 33,
   "metadata": {},
   "outputs": [],
   "source": [
    "data = data[data[\"Price\"] > 100]"
   ]
  },
  {
   "cell_type": "markdown",
   "metadata": {},
   "source": [
    "Также рассмотрим распределение в столбце Kilometer."
   ]
  },
  {
   "cell_type": "code",
   "execution_count": 34,
   "metadata": {},
   "outputs": [
    {
     "data": {
      "text/plain": [
       "<AxesSubplot:>"
      ]
     },
     "execution_count": 34,
     "metadata": {},
     "output_type": "execute_result"
    },
    {
     "data": {
      "image/png": "[encoded data removed]",
      "text/plain": [
       "<Figure size 432x288 with 1 Axes>"
      ]
     },
     "metadata": {
      "needs_background": "light"
     },
     "output_type": "display_data"
    }
   ],
   "source": [
    "data[\"Kilometer\"].hist()"
   ]
  },
  {
   "cell_type": "code",
   "execution_count": 35,
   "metadata": {},
   "outputs": [
    {
     "data": {
      "text/plain": [
       "<AxesSubplot:>"
      ]
     },
     "execution_count": 35,
     "metadata": {},
     "output_type": "execute_result"
    },
    {
     "data": {
      "image/png": "[encoded data removed]",
      "text/plain": [
       "<Figure size 432x288 with 1 Axes>"
      ]
     },
     "metadata": {
      "needs_background": "light"
     },
     "output_type": "display_data"
    }
   ],
   "source": [
    "data.boxplot(\"Kilometer\")"
   ]
  },
  {
   "cell_type": "code",
   "execution_count": 36,
   "metadata": {},
   "outputs": [
    {
     "data": {
      "text/plain": [
       "count    307358.000000\n",
       "mean     129159.676989\n",
       "std       36275.958646\n",
       "min        5000.000000\n",
       "25%      125000.000000\n",
       "50%      150000.000000\n",
       "75%      150000.000000\n",
       "max      150000.000000\n",
       "Name: Kilometer, dtype: float64"
      ]
     },
     "execution_count": 36,
     "metadata": {},
     "output_type": "execute_result"
    }
   ],
   "source": [
    "data[\"Kilometer\"].describe()"
   ]
  },
  {
   "cell_type": "markdown",
   "metadata": {},
   "source": [
    "Распределение имеет большой хвост в левую сторону. Применим правилу 3-х сигм для удаления выбросов слева."
   ]
  },
  {
   "cell_type": "code",
   "execution_count": 37,
   "metadata": {},
   "outputs": [],
   "source": [
    "data = data[data[\"Kilometer\"] > data[\"Kilometer\"].mean() - 3 * data[\"Kilometer\"].std()]"
   ]
  },
  {
   "cell_type": "markdown",
   "metadata": {},
   "source": [
    "Все проблемы с данными были устранены, далее приступим к обучению и тестированию моделей."
   ]
  },
  {
   "cell_type": "markdown",
   "metadata": {},
   "source": [
    "<div class=\"alert alert-block alert-danger\">\n",
    "<b>❌ Замечание:</b>\n",
    "\n",
    "В признаке 'power' есть выбросы и аномалии. Мощность можно ограничить максимальной и минимальной приемлемыми значениями\n",
    "</div>"
   ]
  },
  {
   "cell_type": "markdown",
   "metadata": {},
   "source": [
    "<div class=\"alert alert-block alert-success\">\n",
    "<b>✔️ Успешно исправлено</b>\n",
    "</div>"
   ]
  },
  {
   "cell_type": "code",
   "execution_count": 38,
   "metadata": {},
   "outputs": [
    {
     "data": {
      "text/plain": [
       "<AxesSubplot:>"
      ]
     },
     "execution_count": 38,
     "metadata": {},
     "output_type": "execute_result"
    },
    {
     "data": {
      "image/png": "[encoded data removed]",
      "text/plain": [
       "<Figure size 432x288 with 1 Axes>"
      ]
     },
     "metadata": {
      "needs_background": "light"
     },
     "output_type": "display_data"
    }
   ],
   "source": [
    "data[\"Power\"].hist()"
   ]
  },
  {
   "cell_type": "code",
   "execution_count": 39,
   "metadata": {},
   "outputs": [
    {
     "data": {
      "text/plain": [
       "count    299984.000000\n",
       "mean        114.987616\n",
       "std         171.907850\n",
       "min           0.000000\n",
       "25%          75.000000\n",
       "50%         107.000000\n",
       "75%         143.000000\n",
       "max       20000.000000\n",
       "Name: Power, dtype: float64"
      ]
     },
     "execution_count": 39,
     "metadata": {},
     "output_type": "execute_result"
    }
   ],
   "source": [
    "data[\"Power\"].describe()"
   ]
  },
  {
   "cell_type": "code",
   "execution_count": 40,
   "metadata": {},
   "outputs": [
    {
     "data": {
      "text/plain": [
       "<AxesSubplot:>"
      ]
     },
     "execution_count": 40,
     "metadata": {},
     "output_type": "execute_result"
    },
    {
     "data": {
      "image/png": "[encoded data removed]",
      "text/plain": [
       "<Figure size 432x288 with 1 Axes>"
      ]
     },
     "metadata": {
      "needs_background": "light"
     },
     "output_type": "display_data"
    }
   ],
   "source": [
    "data = data[data[\"Power\"] < data[\"Power\"].mean() + 3 * data[\"Power\"].std()]\n",
    "data[\"Power\"].hist()"
   ]
  },
  {
   "cell_type": "code",
   "execution_count": 41,
   "metadata": {},
   "outputs": [
    {
     "data": {
      "text/plain": [
       "0.07031703557391379"
      ]
     },
     "execution_count": 41,
     "metadata": {},
     "output_type": "execute_result"
    }
   ],
   "source": [
    "(data[\"Power\"] < 10).sum()/len(data)"
   ]
  },
  {
   "cell_type": "code",
   "execution_count": 42,
   "metadata": {},
   "outputs": [],
   "source": [
    "data = data[data[\"Power\"] > 10]"
   ]
  },
  {
   "cell_type": "markdown",
   "metadata": {},
   "source": [
    "## Обучение моделей"
   ]
  },
  {
   "cell_type": "markdown",
   "metadata": {},
   "source": [
    "По заданию проекта нам необходимо решать задачу регрессии, а именно предсказывать цену автомобиля по признакам. Для этого будем обучать несколько моделей в том числе модель градиентного бустинга. Сравнивать и анализировать результаты. Качество модели будем оценивать с помощью метрики RMSE. RMSE больше, чем MAE восприимчив к ошибкам."
   ]
  },
  {
   "cell_type": "markdown",
   "metadata": {},
   "source": [
    "Для обучения базовых моделей необходимо закодировать категоральные признаки. Применим порядковое кодирование."
   ]
  },
  {
   "cell_type": "markdown",
   "metadata": {},
   "source": [
    "<div class=\"alert alert-block alert-info\">\n",
    "<b>Комментарий студента:</b> Разделим датасет на количественные и качественные признаки\n",
    "</div>"
   ]
  },
  {
   "cell_type": "code",
   "execution_count": 43,
   "metadata": {},
   "outputs": [],
   "source": [
    "data = data.reset_index().drop(\"index\", axis = 1)"
   ]
  },
  {
   "cell_type": "code",
   "execution_count": 44,
   "metadata": {},
   "outputs": [],
   "source": [
    "data_categ = data[[\"VehicleType\", \"Gearbox\", \"Model\", \"FuelType\", \"Brand\", \"NotRepaired\"]]\n",
    "data = data.drop([\"VehicleType\", \"Gearbox\", \"Model\", \"FuelType\", \"Brand\", \"NotRepaired\"], axis = 1)"
   ]
  },
  {
   "cell_type": "code",
   "execution_count": 45,
   "metadata": {},
   "outputs": [],
   "source": [
    "encoder = OrdinalEncoder()\n",
    "encoder.fit(data_categ)\n",
    "data_code = encoder.transform(data_categ)\n",
    "data_code = pd.DataFrame(data_code, columns = data_categ.columns)"
   ]
  },
  {
   "cell_type": "code",
   "execution_count": 46,
   "metadata": {},
   "outputs": [
    {
     "data": {
      "text/html": [
       "<div>\n",
       "<style scoped>\n",
       "    .dataframe tbody tr th:only-of-type {\n",
       "        vertical-align: middle;\n",
       "    }\n",
       "\n",
       "    .dataframe tbody tr th {\n",
       "        vertical-align: top;\n",
       "    }\n",
       "\n",
       "    .dataframe thead th {\n",
       "        text-align: right;\n",
       "    }\n",
       "</style>\n",
       "<table border=\"1\" class=\"dataframe\">\n",
       "  <thead>\n",
       "    <tr style=\"text-align: right;\">\n",
       "      <th></th>\n",
       "      <th>Price</th>\n",
       "      <th>RegistrationYear</th>\n",
       "      <th>Power</th>\n",
       "      <th>Kilometer</th>\n",
       "      <th>VehicleType</th>\n",
       "      <th>Gearbox</th>\n",
       "      <th>Model</th>\n",
       "      <th>FuelType</th>\n",
       "      <th>Brand</th>\n",
       "      <th>NotRepaired</th>\n",
       "    </tr>\n",
       "  </thead>\n",
       "  <tbody>\n",
       "    <tr>\n",
       "      <th>0</th>\n",
       "      <td>9800</td>\n",
       "      <td>2004</td>\n",
       "      <td>163</td>\n",
       "      <td>125000</td>\n",
       "      <td>7.0</td>\n",
       "      <td>0.0</td>\n",
       "      <td>117.0</td>\n",
       "      <td>2.0</td>\n",
       "      <td>14.0</td>\n",
       "      <td>1.0</td>\n",
       "    </tr>\n",
       "    <tr>\n",
       "      <th>1</th>\n",
       "      <td>1500</td>\n",
       "      <td>2001</td>\n",
       "      <td>75</td>\n",
       "      <td>150000</td>\n",
       "      <td>6.0</td>\n",
       "      <td>1.0</td>\n",
       "      <td>116.0</td>\n",
       "      <td>6.0</td>\n",
       "      <td>38.0</td>\n",
       "      <td>0.0</td>\n",
       "    </tr>\n",
       "    <tr>\n",
       "      <th>2</th>\n",
       "      <td>3600</td>\n",
       "      <td>2008</td>\n",
       "      <td>69</td>\n",
       "      <td>90000</td>\n",
       "      <td>6.0</td>\n",
       "      <td>1.0</td>\n",
       "      <td>101.0</td>\n",
       "      <td>2.0</td>\n",
       "      <td>31.0</td>\n",
       "      <td>0.0</td>\n",
       "    </tr>\n",
       "    <tr>\n",
       "      <th>3</th>\n",
       "      <td>650</td>\n",
       "      <td>1995</td>\n",
       "      <td>102</td>\n",
       "      <td>150000</td>\n",
       "      <td>5.0</td>\n",
       "      <td>1.0</td>\n",
       "      <td>11.0</td>\n",
       "      <td>6.0</td>\n",
       "      <td>2.0</td>\n",
       "      <td>2.0</td>\n",
       "    </tr>\n",
       "    <tr>\n",
       "      <th>4</th>\n",
       "      <td>2200</td>\n",
       "      <td>2004</td>\n",
       "      <td>109</td>\n",
       "      <td>150000</td>\n",
       "      <td>1.0</td>\n",
       "      <td>1.0</td>\n",
       "      <td>8.0</td>\n",
       "      <td>6.0</td>\n",
       "      <td>25.0</td>\n",
       "      <td>0.0</td>\n",
       "    </tr>\n",
       "    <tr>\n",
       "      <th>...</th>\n",
       "      <td>...</td>\n",
       "      <td>...</td>\n",
       "      <td>...</td>\n",
       "      <td>...</td>\n",
       "      <td>...</td>\n",
       "      <td>...</td>\n",
       "      <td>...</td>\n",
       "      <td>...</td>\n",
       "      <td>...</td>\n",
       "      <td>...</td>\n",
       "    </tr>\n",
       "    <tr>\n",
       "      <th>278623</th>\n",
       "      <td>5250</td>\n",
       "      <td>2016</td>\n",
       "      <td>150</td>\n",
       "      <td>150000</td>\n",
       "      <td>3.0</td>\n",
       "      <td>0.0</td>\n",
       "      <td>4.0</td>\n",
       "      <td>5.0</td>\n",
       "      <td>0.0</td>\n",
       "      <td>0.0</td>\n",
       "    </tr>\n",
       "    <tr>\n",
       "      <th>278624</th>\n",
       "      <td>3200</td>\n",
       "      <td>2004</td>\n",
       "      <td>225</td>\n",
       "      <td>150000</td>\n",
       "      <td>5.0</td>\n",
       "      <td>1.0</td>\n",
       "      <td>140.0</td>\n",
       "      <td>6.0</td>\n",
       "      <td>30.0</td>\n",
       "      <td>2.0</td>\n",
       "    </tr>\n",
       "    <tr>\n",
       "      <th>278625</th>\n",
       "      <td>1199</td>\n",
       "      <td>2000</td>\n",
       "      <td>101</td>\n",
       "      <td>125000</td>\n",
       "      <td>1.0</td>\n",
       "      <td>0.0</td>\n",
       "      <td>106.0</td>\n",
       "      <td>6.0</td>\n",
       "      <td>32.0</td>\n",
       "      <td>0.0</td>\n",
       "    </tr>\n",
       "    <tr>\n",
       "      <th>278626</th>\n",
       "      <td>9200</td>\n",
       "      <td>1996</td>\n",
       "      <td>102</td>\n",
       "      <td>150000</td>\n",
       "      <td>0.0</td>\n",
       "      <td>1.0</td>\n",
       "      <td>224.0</td>\n",
       "      <td>2.0</td>\n",
       "      <td>38.0</td>\n",
       "      <td>0.0</td>\n",
       "    </tr>\n",
       "    <tr>\n",
       "      <th>278627</th>\n",
       "      <td>3400</td>\n",
       "      <td>2002</td>\n",
       "      <td>100</td>\n",
       "      <td>150000</td>\n",
       "      <td>8.0</td>\n",
       "      <td>1.0</td>\n",
       "      <td>116.0</td>\n",
       "      <td>2.0</td>\n",
       "      <td>38.0</td>\n",
       "      <td>1.0</td>\n",
       "    </tr>\n",
       "  </tbody>\n",
       "</table>\n",
       "<p>278628 rows × 10 columns</p>\n",
       "</div>"
      ],
      "text/plain": [
       "        Price  RegistrationYear  Power  Kilometer  VehicleType  Gearbox  \\\n",
       "0        9800              2004    163     125000          7.0      0.0   \n",
       "1        1500              2001     75     150000          6.0      1.0   \n",
       "2        3600              2008     69      90000          6.0      1.0   \n",
       "3         650              1995    102     150000          5.0      1.0   \n",
       "4        2200              2004    109     150000          1.0      1.0   \n",
       "...       ...               ...    ...        ...          ...      ...   \n",
       "278623   5250              2016    150     150000          3.0      0.0   \n",
       "278624   3200              2004    225     150000          5.0      1.0   \n",
       "278625   1199              2000    101     125000          1.0      0.0   \n",
       "278626   9200              1996    102     150000          0.0      1.0   \n",
       "278627   3400              2002    100     150000          8.0      1.0   \n",
       "\n",
       "        Model  FuelType  Brand  NotRepaired  \n",
       "0       117.0       2.0   14.0          1.0  \n",
       "1       116.0       6.0   38.0          0.0  \n",
       "2       101.0       2.0   31.0          0.0  \n",
       "3        11.0       6.0    2.0          2.0  \n",
       "4         8.0       6.0   25.0          0.0  \n",
       "...       ...       ...    ...          ...  \n",
       "278623    4.0       5.0    0.0          0.0  \n",
       "278624  140.0       6.0   30.0          2.0  \n",
       "278625  106.0       6.0   32.0          0.0  \n",
       "278626  224.0       2.0   38.0          0.0  \n",
       "278627  116.0       2.0   38.0          1.0  \n",
       "\n",
       "[278628 rows x 10 columns]"
      ]
     },
     "execution_count": 46,
     "metadata": {},
     "output_type": "execute_result"
    }
   ],
   "source": [
    "data_code = data.join(data_code)\n",
    "data_code"
   ]
  },
  {
   "cell_type": "code",
   "execution_count": 47,
   "metadata": {},
   "outputs": [
    {
     "data": {
      "text/html": [
       "<div>\n",
       "<style scoped>\n",
       "    .dataframe tbody tr th:only-of-type {\n",
       "        vertical-align: middle;\n",
       "    }\n",
       "\n",
       "    .dataframe tbody tr th {\n",
       "        vertical-align: top;\n",
       "    }\n",
       "\n",
       "    .dataframe thead th {\n",
       "        text-align: right;\n",
       "    }\n",
       "</style>\n",
       "<table border=\"1\" class=\"dataframe\">\n",
       "  <thead>\n",
       "    <tr style=\"text-align: right;\">\n",
       "      <th></th>\n",
       "      <th>Price</th>\n",
       "      <th>RegistrationYear</th>\n",
       "      <th>Power</th>\n",
       "      <th>Kilometer</th>\n",
       "      <th>VehicleType</th>\n",
       "      <th>Gearbox</th>\n",
       "      <th>Model</th>\n",
       "      <th>FuelType</th>\n",
       "      <th>Brand</th>\n",
       "      <th>NotRepaired</th>\n",
       "    </tr>\n",
       "  </thead>\n",
       "  <tbody>\n",
       "    <tr>\n",
       "      <th>0</th>\n",
       "      <td>9800</td>\n",
       "      <td>2004</td>\n",
       "      <td>163</td>\n",
       "      <td>125000</td>\n",
       "      <td>7.0</td>\n",
       "      <td>0.0</td>\n",
       "      <td>117.0</td>\n",
       "      <td>2.0</td>\n",
       "      <td>14.0</td>\n",
       "      <td>1.0</td>\n",
       "    </tr>\n",
       "    <tr>\n",
       "      <th>1</th>\n",
       "      <td>1500</td>\n",
       "      <td>2001</td>\n",
       "      <td>75</td>\n",
       "      <td>150000</td>\n",
       "      <td>6.0</td>\n",
       "      <td>1.0</td>\n",
       "      <td>116.0</td>\n",
       "      <td>6.0</td>\n",
       "      <td>38.0</td>\n",
       "      <td>0.0</td>\n",
       "    </tr>\n",
       "    <tr>\n",
       "      <th>2</th>\n",
       "      <td>3600</td>\n",
       "      <td>2008</td>\n",
       "      <td>69</td>\n",
       "      <td>90000</td>\n",
       "      <td>6.0</td>\n",
       "      <td>1.0</td>\n",
       "      <td>101.0</td>\n",
       "      <td>2.0</td>\n",
       "      <td>31.0</td>\n",
       "      <td>0.0</td>\n",
       "    </tr>\n",
       "    <tr>\n",
       "      <th>3</th>\n",
       "      <td>650</td>\n",
       "      <td>1995</td>\n",
       "      <td>102</td>\n",
       "      <td>150000</td>\n",
       "      <td>5.0</td>\n",
       "      <td>1.0</td>\n",
       "      <td>11.0</td>\n",
       "      <td>6.0</td>\n",
       "      <td>2.0</td>\n",
       "      <td>2.0</td>\n",
       "    </tr>\n",
       "    <tr>\n",
       "      <th>4</th>\n",
       "      <td>2200</td>\n",
       "      <td>2004</td>\n",
       "      <td>109</td>\n",
       "      <td>150000</td>\n",
       "      <td>1.0</td>\n",
       "      <td>1.0</td>\n",
       "      <td>8.0</td>\n",
       "      <td>6.0</td>\n",
       "      <td>25.0</td>\n",
       "      <td>0.0</td>\n",
       "    </tr>\n",
       "    <tr>\n",
       "      <th>...</th>\n",
       "      <td>...</td>\n",
       "      <td>...</td>\n",
       "      <td>...</td>\n",
       "      <td>...</td>\n",
       "      <td>...</td>\n",
       "      <td>...</td>\n",
       "      <td>...</td>\n",
       "      <td>...</td>\n",
       "      <td>...</td>\n",
       "      <td>...</td>\n",
       "    </tr>\n",
       "    <tr>\n",
       "      <th>278623</th>\n",
       "      <td>5250</td>\n",
       "      <td>2016</td>\n",
       "      <td>150</td>\n",
       "      <td>150000</td>\n",
       "      <td>3.0</td>\n",
       "      <td>0.0</td>\n",
       "      <td>4.0</td>\n",
       "      <td>5.0</td>\n",
       "      <td>0.0</td>\n",
       "      <td>0.0</td>\n",
       "    </tr>\n",
       "    <tr>\n",
       "      <th>278624</th>\n",
       "      <td>3200</td>\n",
       "      <td>2004</td>\n",
       "      <td>225</td>\n",
       "      <td>150000</td>\n",
       "      <td>5.0</td>\n",
       "      <td>1.0</td>\n",
       "      <td>140.0</td>\n",
       "      <td>6.0</td>\n",
       "      <td>30.0</td>\n",
       "      <td>2.0</td>\n",
       "    </tr>\n",
       "    <tr>\n",
       "      <th>278625</th>\n",
       "      <td>1199</td>\n",
       "      <td>2000</td>\n",
       "      <td>101</td>\n",
       "      <td>125000</td>\n",
       "      <td>1.0</td>\n",
       "      <td>0.0</td>\n",
       "      <td>106.0</td>\n",
       "      <td>6.0</td>\n",
       "      <td>32.0</td>\n",
       "      <td>0.0</td>\n",
       "    </tr>\n",
       "    <tr>\n",
       "      <th>278626</th>\n",
       "      <td>9200</td>\n",
       "      <td>1996</td>\n",
       "      <td>102</td>\n",
       "      <td>150000</td>\n",
       "      <td>0.0</td>\n",
       "      <td>1.0</td>\n",
       "      <td>224.0</td>\n",
       "      <td>2.0</td>\n",
       "      <td>38.0</td>\n",
       "      <td>0.0</td>\n",
       "    </tr>\n",
       "    <tr>\n",
       "      <th>278627</th>\n",
       "      <td>3400</td>\n",
       "      <td>2002</td>\n",
       "      <td>100</td>\n",
       "      <td>150000</td>\n",
       "      <td>8.0</td>\n",
       "      <td>1.0</td>\n",
       "      <td>116.0</td>\n",
       "      <td>2.0</td>\n",
       "      <td>38.0</td>\n",
       "      <td>1.0</td>\n",
       "    </tr>\n",
       "  </tbody>\n",
       "</table>\n",
       "<p>278628 rows × 10 columns</p>\n",
       "</div>"
      ],
      "text/plain": [
       "        Price  RegistrationYear  Power  Kilometer  VehicleType  Gearbox  \\\n",
       "0        9800              2004    163     125000          7.0      0.0   \n",
       "1        1500              2001     75     150000          6.0      1.0   \n",
       "2        3600              2008     69      90000          6.0      1.0   \n",
       "3         650              1995    102     150000          5.0      1.0   \n",
       "4        2200              2004    109     150000          1.0      1.0   \n",
       "...       ...               ...    ...        ...          ...      ...   \n",
       "278623   5250              2016    150     150000          3.0      0.0   \n",
       "278624   3200              2004    225     150000          5.0      1.0   \n",
       "278625   1199              2000    101     125000          1.0      0.0   \n",
       "278626   9200              1996    102     150000          0.0      1.0   \n",
       "278627   3400              2002    100     150000          8.0      1.0   \n",
       "\n",
       "        Model  FuelType  Brand  NotRepaired  \n",
       "0       117.0       2.0   14.0          1.0  \n",
       "1       116.0       6.0   38.0          0.0  \n",
       "2       101.0       2.0   31.0          0.0  \n",
       "3        11.0       6.0    2.0          2.0  \n",
       "4         8.0       6.0   25.0          0.0  \n",
       "...       ...       ...    ...          ...  \n",
       "278623    4.0       5.0    0.0          0.0  \n",
       "278624  140.0       6.0   30.0          2.0  \n",
       "278625  106.0       6.0   32.0          0.0  \n",
       "278626  224.0       2.0   38.0          0.0  \n",
       "278627  116.0       2.0   38.0          1.0  \n",
       "\n",
       "[278628 rows x 10 columns]"
      ]
     },
     "execution_count": 47,
     "metadata": {},
     "output_type": "execute_result"
    }
   ],
   "source": [
    "data_code"
   ]
  },
  {
   "cell_type": "markdown",
   "metadata": {},
   "source": [
    "<div class=\"alert alert-block alert-success\">\n",
    "<b>✔️ Успех:</b>\n",
    "\n",
    "Для моделей, основанных на деревьях решений, порядковое кодирование отлично подойдет 👍\n",
    "</div>"
   ]
  },
  {
   "cell_type": "markdown",
   "metadata": {},
   "source": [
    "<div class=\"alert alert-block alert-danger\">\n",
    "<b>❌ Замечание:</b>\n",
    "\n",
    "В этой кодировке важно преобразовать только категориальные признаки. Если этого не сделать, то целевая переменная тоже закодируется и метрики будут неадекватными. Можешь это исправить?) \n",
    "</div>"
   ]
  },
  {
   "cell_type": "markdown",
   "metadata": {},
   "source": [
    "<div class=\"alert alert-block alert-success\">\n",
    "<b>✔️ Успешно исправлено</b>\n",
    "</div>"
   ]
  },
  {
   "cell_type": "markdown",
   "metadata": {},
   "source": [
    "Разделим данные на обучающую и тестовую выборку."
   ]
  },
  {
   "cell_type": "code",
   "execution_count": 48,
   "metadata": {},
   "outputs": [],
   "source": [
    "target_code = data_code[\"Price\"]\n",
    "features_code = data_code.drop(\"Price\", axis = 1)\n",
    "train_features_code, test_features_code, train_target_code, test_target_code = train_test_split(features_code, target_code, test_size = 0.25, random_state = 12345)  "
   ]
  },
  {
   "cell_type": "markdown",
   "metadata": {},
   "source": [
    "<div class=\"alert alert-block alert-success\">\n",
    "<b>✔️ Успех:</b> \n",
    "\n",
    "Данные поделены верно, пропорции выбраны адекватные 👍\n",
    "</div>"
   ]
  },
  {
   "cell_type": "markdown",
   "metadata": {},
   "source": [
    "Напишем свой скорер для оценки rmse. Так как нам необходима минимальная оценка rmse, в скорере будем искать отрицательное значение rmse. Далее будем искать наилучшие параметры с помощью GridSearch_CV"
   ]
  },
  {
   "cell_type": "code",
   "execution_count": 49,
   "metadata": {},
   "outputs": [],
   "source": [
    "def rmse(targ, pred):\n",
    "    return -1 * mean_squared_error(targ, pred, squared = False)"
   ]
  },
  {
   "cell_type": "code",
   "execution_count": 50,
   "metadata": {},
   "outputs": [],
   "source": [
    "rmse_reverse = make_scorer(rmse)"
   ]
  },
  {
   "cell_type": "markdown",
   "metadata": {},
   "source": [
    "Также напишем скорер для расчета rmse для кросс-валидации"
   ]
  },
  {
   "cell_type": "code",
   "execution_count": 51,
   "metadata": {},
   "outputs": [],
   "source": [
    "def rmse_1(targ, pred):\n",
    "    return mean_squared_error(targ, pred, squared = False)"
   ]
  },
  {
   "cell_type": "code",
   "execution_count": 52,
   "metadata": {},
   "outputs": [],
   "source": [
    "rmse_score = make_scorer(rmse_1)"
   ]
  },
  {
   "cell_type": "markdown",
   "metadata": {},
   "source": [
    "<div class=\"alert alert-block alert-success\">\n",
    "<b>✔️ Успех:</b>\n",
    "\n",
    "Хорошие помощники 👍\n",
    "</div>"
   ]
  },
  {
   "cell_type": "markdown",
   "metadata": {},
   "source": [
    "Обучим решающее дерево. Применим кросс-вадидацию"
   ]
  },
  {
   "cell_type": "code",
   "execution_count": 53,
   "metadata": {},
   "outputs": [
    {
     "name": "stdout",
     "output_type": "stream",
     "text": [
      "CPU times: user 4.33 s, sys: 176 ms, total: 4.5 s\n",
      "Wall time: 4.51 s\n"
     ]
    },
    {
     "data": {
      "text/plain": [
       "{'max_depth': 100}"
      ]
     },
     "execution_count": 53,
     "metadata": {},
     "output_type": "execute_result"
    }
   ],
   "source": [
    "%%time\n",
    "parameter = {\"max_depth\": [1,100]}\n",
    "model = DecisionTreeRegressor(random_state = 12345)\n",
    "model_grid = GridSearchCV(model, parameter, scoring = rmse_reverse)\n",
    "model_grid.fit(train_features_code, train_target_code)\n",
    "model_grid.best_params_"
   ]
  },
  {
   "cell_type": "code",
   "execution_count": 54,
   "metadata": {},
   "outputs": [
    {
     "name": "stdout",
     "output_type": "stream",
     "text": [
      "1793.035109644603\n",
      "CPU times: user 4.34 s, sys: 28 ms, total: 4.36 s\n",
      "Wall time: 4.38 s\n"
     ]
    }
   ],
   "source": [
    "%%time\n",
    "model = DecisionTreeRegressor(random_state = 12345, max_depth = 100)\n",
    "model.fit(train_features_code, train_target_code)\n",
    "cross_rmse = cross_val_score(model, train_features_code, train_target_code, scoring = rmse_score).mean()\n",
    "print(cross_rmse)"
   ]
  },
  {
   "cell_type": "markdown",
   "metadata": {},
   "source": [
    "Решающее дерево с подобранными параметрами показывает хороший результат метрики RMSE. Время кросс-валидации равняется 4.5 секунды."
   ]
  },
  {
   "cell_type": "markdown",
   "metadata": {},
   "source": [
    "Далее рассмотрим метод ближайших соседей и линейную регрессию для данной выбоки. Для этого необходимо закодировать данные в выборке One Hot Encoding, так как в данных методах. Так как эти методы используют веса features метод прямого кодирования нельзя. "
   ]
  },
  {
   "cell_type": "code",
   "execution_count": 55,
   "metadata": {},
   "outputs": [],
   "source": [
    "data_OHE = pd.get_dummies(data, drop_first = True)"
   ]
  },
  {
   "cell_type": "code",
   "execution_count": 56,
   "metadata": {},
   "outputs": [],
   "source": [
    "target_OHE = data_OHE[\"Price\"]\n",
    "features_OHE = data_OHE.drop(\"Price\", axis = 1)\n",
    "train_features_OHE, test_features_OHE, train_target_OHE, test_target_OHE = train_test_split(features_OHE, target_OHE, test_size = 0.25, random_state = 12345)  "
   ]
  },
  {
   "cell_type": "code",
   "execution_count": 57,
   "metadata": {},
   "outputs": [
    {
     "name": "stdout",
     "output_type": "stream",
     "text": [
      "2843.2502138243462\n",
      "CPU times: user 304 ms, sys: 538 ms, total: 842 ms\n",
      "Wall time: 850 ms\n"
     ]
    }
   ],
   "source": [
    "%%time\n",
    "model = LinearRegression()\n",
    "model.fit(train_features_OHE, train_target_OHE)\n",
    "cross_rmse = cross_val_score(model, train_features_OHE, train_target_OHE, scoring = rmse_score).mean()\n",
    "print(cross_rmse)"
   ]
  },
  {
   "cell_type": "markdown",
   "metadata": {},
   "source": [
    "<div class=\"alert alert-block alert-success\">\n",
    "<b>✔️ Успех:</b> \n",
    "\n",
    "Для линейных моделей прямое кодирование отлично подойдет 👍\n",
    "</div>"
   ]
  },
  {
   "cell_type": "markdown",
   "metadata": {},
   "source": [
    "Линейная регрессия на кросс-валидации показала ужасный результат. Метрика RMSE больше 2500. Регрессия дает очень большое количество ошибок. Попробуем провести масштабирование количественных признаков и посмотрим результат"
   ]
  },
  {
   "cell_type": "markdown",
   "metadata": {},
   "source": [
    "Проведем масштабирование признаков линейной регрессии. Масштабировать будем только столбцы незакадированные OHE, так как это абсолютно бессмысленно и будет только переполнять память."
   ]
  },
  {
   "cell_type": "code",
   "execution_count": 58,
   "metadata": {},
   "outputs": [],
   "source": [
    "data_OHE_number = data_OHE[[\"RegistrationYear\",\"Power\", \"Kilometer\"]]\n",
    "data_OHE_qualitative = data_OHE.drop([\"RegistrationYear\",\"Power\", \"Kilometer\"], axis = 1)\n",
    "data_OHE_qualitative = data_OHE_qualitative.reset_index().drop(\"index\", axis = 1)"
   ]
  },
  {
   "cell_type": "code",
   "execution_count": 59,
   "metadata": {},
   "outputs": [],
   "source": [
    "scaler = StandardScaler()\n",
    "data_scale = scaler.fit_transform(data_OHE_number)"
   ]
  },
  {
   "cell_type": "code",
   "execution_count": 60,
   "metadata": {},
   "outputs": [],
   "source": [
    "data_scale = pd.DataFrame(data_scale, columns = data_OHE_number.columns)\n",
    "data_scale = data_scale.join(data_OHE_qualitative)"
   ]
  },
  {
   "cell_type": "code",
   "execution_count": 61,
   "metadata": {},
   "outputs": [],
   "source": [
    "target_scale = data_scale[\"Price\"]\n",
    "features_scale = data_scale.drop(\"Price\", axis = 1)\n",
    "train_features_scale, test_features_scale, train_target_scale, test_target_scale = train_test_split(features_scale, target_scale, test_size = 0.25, random_state = 12345)  "
   ]
  },
  {
   "cell_type": "code",
   "execution_count": 62,
   "metadata": {},
   "outputs": [
    {
     "name": "stdout",
     "output_type": "stream",
     "text": [
      "2843.250213824346\n",
      "CPU times: user 286 ms, sys: 432 ms, total: 718 ms\n",
      "Wall time: 711 ms\n"
     ]
    }
   ],
   "source": [
    "%%time\n",
    "model = LinearRegression()\n",
    "model.fit(train_features_scale, train_target_scale)\n",
    "cross_rmse = cross_val_score(model, train_features_scale, train_target_scale, scoring = rmse_score).mean()\n",
    "print(cross_rmse)"
   ]
  },
  {
   "cell_type": "markdown",
   "metadata": {},
   "source": [
    "Масштабирование признаков не дало никакого улучшения метрики RMSE на кросс-валидации. "
   ]
  },
  {
   "cell_type": "markdown",
   "metadata": {},
   "source": [
    "Теперь приступим к обучению ансамбля на основе градиентного бустинга. Будем пользоваться алгоритмом из библиотеки lightGBM. При помощи поиска по сетке GridSearch_CV найдем оптимальные параметры модели, при которой получим лучший параметр мктрики RMSE."
   ]
  },
  {
   "cell_type": "code",
   "execution_count": 63,
   "metadata": {},
   "outputs": [],
   "source": [
    "##%%time\n",
    "#parameter = {\"n_estimators\": [1,1000,50],\"max_depth\": [1,100,10], \"learning_rate\": [0.1, 1, 0.1]}\n",
    "#model = LGBMRegressor()\n",
    "#model_grid = GridSearchCV(model, parameter, scoring = rmse_reverse)\n",
    "#model_grid.fit(train_features_code, train_target_code)\n",
    "#model_grid.best_params_"
   ]
  },
  {
   "cell_type": "markdown",
   "metadata": {},
   "source": [
    "Обучим модель с найденными гиперпараметрами и посмотрим метрику RMSE на кросс-валидации."
   ]
  },
  {
   "cell_type": "code",
   "execution_count": 64,
   "metadata": {},
   "outputs": [
    {
     "name": "stdout",
     "output_type": "stream",
     "text": [
      "1433.9200709125216\n",
      "CPU times: user 2h 20min 37s, sys: 1min 21s, total: 2h 21min 59s\n",
      "Wall time: 2h 22min 56s\n"
     ]
    }
   ],
   "source": [
    "%%time\n",
    "model = LGBMRegressor(n_estimators = 1000, max_depth = 100, learning_rate = 0.1)\n",
    "model.fit(train_features_code, train_target_code)\n",
    "cross_rmse = cross_val_score(model, train_features_code, train_target_code, scoring = rmse_score).mean()\n",
    "print(cross_rmse)"
   ]
  },
  {
   "cell_type": "markdown",
   "metadata": {},
   "source": [
    "Время обучения модели LightGBM равняется 3 минут 40 секунд. При этом метрика RMSE имеет отличный результат. Теперь рассмотрим бустинг catboost."
   ]
  },
  {
   "cell_type": "code",
   "execution_count": 65,
   "metadata": {},
   "outputs": [
    {
     "name": "stderr",
     "output_type": "stream",
     "text": [
      "/opt/conda/lib/python3.9/site-packages/sklearn/model_selection/_validation.py:610: FitFailedWarning: Estimator fit failed. The score on this train-test partition for these parameters will be set to nan. Details: \n",
      "Traceback (most recent call last):\n",
      "  File \"/opt/conda/lib/python3.9/site-packages/sklearn/model_selection/_validation.py\", line 593, in _fit_and_score\n",
      "    estimator.fit(X_train, y_train, **fit_params)\n",
      "  File \"/opt/conda/lib/python3.9/site-packages/catboost/core.py\", line 5299, in fit\n",
      "    return self._fit(X, y, cat_features, None, None, None, sample_weight, None, None, None, None, baseline,\n",
      "  File \"/opt/conda/lib/python3.9/site-packages/catboost/core.py\", line 2021, in _fit\n",
      "    train_params = self._prepare_train_params(\n",
      "  File \"/opt/conda/lib/python3.9/site-packages/catboost/core.py\", line 1953, in _prepare_train_params\n",
      "    _check_train_params(params)\n",
      "  File \"_catboost.pyx\", line 5839, in _catboost._check_train_params\n",
      "  File \"_catboost.pyx\", line 5858, in _catboost._check_train_params\n",
      "_catboost.CatBoostError: catboost/private/libs/options/oblivious_tree_options.cpp:122: Maximum tree depth is 16\n",
      "\n",
      "  warnings.warn(\"Estimator fit failed. The score on this train-test\"\n",
      "/opt/conda/lib/python3.9/site-packages/sklearn/model_selection/_validation.py:610: FitFailedWarning: Estimator fit failed. The score on this train-test partition for these parameters will be set to nan. Details: \n",
      "Traceback (most recent call last):\n",
      "  File \"/opt/conda/lib/python3.9/site-packages/sklearn/model_selection/_validation.py\", line 593, in _fit_and_score\n",
      "    estimator.fit(X_train, y_train, **fit_params)\n",
      "  File \"/opt/conda/lib/python3.9/site-packages/catboost/core.py\", line 5299, in fit\n",
      "    return self._fit(X, y, cat_features, None, None, None, sample_weight, None, None, None, None, baseline,\n",
      "  File \"/opt/conda/lib/python3.9/site-packages/catboost/core.py\", line 2021, in _fit\n",
      "    train_params = self._prepare_train_params(\n",
      "  File \"/opt/conda/lib/python3.9/site-packages/catboost/core.py\", line 1953, in _prepare_train_params\n",
      "    _check_train_params(params)\n",
      "  File \"_catboost.pyx\", line 5839, in _catboost._check_train_params\n",
      "  File \"_catboost.pyx\", line 5858, in _catboost._check_train_params\n",
      "_catboost.CatBoostError: catboost/private/libs/options/oblivious_tree_options.cpp:122: Maximum tree depth is 16\n",
      "\n",
      "  warnings.warn(\"Estimator fit failed. The score on this train-test\"\n",
      "/opt/conda/lib/python3.9/site-packages/sklearn/model_selection/_validation.py:610: FitFailedWarning: Estimator fit failed. The score on this train-test partition for these parameters will be set to nan. Details: \n",
      "Traceback (most recent call last):\n",
      "  File \"/opt/conda/lib/python3.9/site-packages/sklearn/model_selection/_validation.py\", line 593, in _fit_and_score\n",
      "    estimator.fit(X_train, y_train, **fit_params)\n",
      "  File \"/opt/conda/lib/python3.9/site-packages/catboost/core.py\", line 5299, in fit\n",
      "    return self._fit(X, y, cat_features, None, None, None, sample_weight, None, None, None, None, baseline,\n",
      "  File \"/opt/conda/lib/python3.9/site-packages/catboost/core.py\", line 2021, in _fit\n",
      "    train_params = self._prepare_train_params(\n",
      "  File \"/opt/conda/lib/python3.9/site-packages/catboost/core.py\", line 1953, in _prepare_train_params\n",
      "    _check_train_params(params)\n",
      "  File \"_catboost.pyx\", line 5839, in _catboost._check_train_params\n",
      "  File \"_catboost.pyx\", line 5858, in _catboost._check_train_params\n",
      "_catboost.CatBoostError: catboost/private/libs/options/oblivious_tree_options.cpp:122: Maximum tree depth is 16\n",
      "\n",
      "  warnings.warn(\"Estimator fit failed. The score on this train-test\"\n",
      "/opt/conda/lib/python3.9/site-packages/sklearn/model_selection/_validation.py:610: FitFailedWarning: Estimator fit failed. The score on this train-test partition for these parameters will be set to nan. Details: \n",
      "Traceback (most recent call last):\n",
      "  File \"/opt/conda/lib/python3.9/site-packages/sklearn/model_selection/_validation.py\", line 593, in _fit_and_score\n",
      "    estimator.fit(X_train, y_train, **fit_params)\n",
      "  File \"/opt/conda/lib/python3.9/site-packages/catboost/core.py\", line 5299, in fit\n",
      "    return self._fit(X, y, cat_features, None, None, None, sample_weight, None, None, None, None, baseline,\n",
      "  File \"/opt/conda/lib/python3.9/site-packages/catboost/core.py\", line 2021, in _fit\n",
      "    train_params = self._prepare_train_params(\n",
      "  File \"/opt/conda/lib/python3.9/site-packages/catboost/core.py\", line 1953, in _prepare_train_params\n",
      "    _check_train_params(params)\n",
      "  File \"_catboost.pyx\", line 5839, in _catboost._check_train_params\n",
      "  File \"_catboost.pyx\", line 5858, in _catboost._check_train_params\n",
      "_catboost.CatBoostError: catboost/private/libs/options/oblivious_tree_options.cpp:122: Maximum tree depth is 16\n",
      "\n",
      "  warnings.warn(\"Estimator fit failed. The score on this train-test\"\n",
      "/opt/conda/lib/python3.9/site-packages/sklearn/model_selection/_validation.py:610: FitFailedWarning: Estimator fit failed. The score on this train-test partition for these parameters will be set to nan. Details: \n",
      "Traceback (most recent call last):\n",
      "  File \"/opt/conda/lib/python3.9/site-packages/sklearn/model_selection/_validation.py\", line 593, in _fit_and_score\n",
      "    estimator.fit(X_train, y_train, **fit_params)\n",
      "  File \"/opt/conda/lib/python3.9/site-packages/catboost/core.py\", line 5299, in fit\n",
      "    return self._fit(X, y, cat_features, None, None, None, sample_weight, None, None, None, None, baseline,\n",
      "  File \"/opt/conda/lib/python3.9/site-packages/catboost/core.py\", line 2021, in _fit\n",
      "    train_params = self._prepare_train_params(\n",
      "  File \"/opt/conda/lib/python3.9/site-packages/catboost/core.py\", line 1953, in _prepare_train_params\n",
      "    _check_train_params(params)\n",
      "  File \"_catboost.pyx\", line 5839, in _catboost._check_train_params\n",
      "  File \"_catboost.pyx\", line 5858, in _catboost._check_train_params\n",
      "_catboost.CatBoostError: catboost/private/libs/options/oblivious_tree_options.cpp:122: Maximum tree depth is 16\n",
      "\n",
      "  warnings.warn(\"Estimator fit failed. The score on this train-test\"\n",
      "/opt/conda/lib/python3.9/site-packages/sklearn/model_selection/_validation.py:610: FitFailedWarning: Estimator fit failed. The score on this train-test partition for these parameters will be set to nan. Details: \n",
      "Traceback (most recent call last):\n",
      "  File \"/opt/conda/lib/python3.9/site-packages/sklearn/model_selection/_validation.py\", line 593, in _fit_and_score\n",
      "    estimator.fit(X_train, y_train, **fit_params)\n",
      "  File \"/opt/conda/lib/python3.9/site-packages/catboost/core.py\", line 5299, in fit\n",
      "    return self._fit(X, y, cat_features, None, None, None, sample_weight, None, None, None, None, baseline,\n",
      "  File \"/opt/conda/lib/python3.9/site-packages/catboost/core.py\", line 2021, in _fit\n",
      "    train_params = self._prepare_train_params(\n",
      "  File \"/opt/conda/lib/python3.9/site-packages/catboost/core.py\", line 1953, in _prepare_train_params\n",
      "    _check_train_params(params)\n",
      "  File \"_catboost.pyx\", line 5839, in _catboost._check_train_params\n",
      "  File \"_catboost.pyx\", line 5858, in _catboost._check_train_params\n",
      "_catboost.CatBoostError: catboost/private/libs/options/oblivious_tree_options.cpp:122: Maximum tree depth is 16\n",
      "\n",
      "  warnings.warn(\"Estimator fit failed. The score on this train-test\"\n",
      "/opt/conda/lib/python3.9/site-packages/sklearn/model_selection/_validation.py:610: FitFailedWarning: Estimator fit failed. The score on this train-test partition for these parameters will be set to nan. Details: \n",
      "Traceback (most recent call last):\n",
      "  File \"/opt/conda/lib/python3.9/site-packages/sklearn/model_selection/_validation.py\", line 593, in _fit_and_score\n",
      "    estimator.fit(X_train, y_train, **fit_params)\n",
      "  File \"/opt/conda/lib/python3.9/site-packages/catboost/core.py\", line 5299, in fit\n",
      "    return self._fit(X, y, cat_features, None, None, None, sample_weight, None, None, None, None, baseline,\n",
      "  File \"/opt/conda/lib/python3.9/site-packages/catboost/core.py\", line 2021, in _fit\n",
      "    train_params = self._prepare_train_params(\n",
      "  File \"/opt/conda/lib/python3.9/site-packages/catboost/core.py\", line 1953, in _prepare_train_params\n",
      "    _check_train_params(params)\n",
      "  File \"_catboost.pyx\", line 5839, in _catboost._check_train_params\n",
      "  File \"_catboost.pyx\", line 5858, in _catboost._check_train_params\n",
      "_catboost.CatBoostError: catboost/private/libs/options/oblivious_tree_options.cpp:122: Maximum tree depth is 16\n",
      "\n",
      "  warnings.warn(\"Estimator fit failed. The score on this train-test\"\n",
      "/opt/conda/lib/python3.9/site-packages/sklearn/model_selection/_validation.py:610: FitFailedWarning: Estimator fit failed. The score on this train-test partition for these parameters will be set to nan. Details: \n",
      "Traceback (most recent call last):\n",
      "  File \"/opt/conda/lib/python3.9/site-packages/sklearn/model_selection/_validation.py\", line 593, in _fit_and_score\n",
      "    estimator.fit(X_train, y_train, **fit_params)\n",
      "  File \"/opt/conda/lib/python3.9/site-packages/catboost/core.py\", line 5299, in fit\n",
      "    return self._fit(X, y, cat_features, None, None, None, sample_weight, None, None, None, None, baseline,\n",
      "  File \"/opt/conda/lib/python3.9/site-packages/catboost/core.py\", line 2021, in _fit\n",
      "    train_params = self._prepare_train_params(\n",
      "  File \"/opt/conda/lib/python3.9/site-packages/catboost/core.py\", line 1953, in _prepare_train_params\n",
      "    _check_train_params(params)\n",
      "  File \"_catboost.pyx\", line 5839, in _catboost._check_train_params\n",
      "  File \"_catboost.pyx\", line 5858, in _catboost._check_train_params\n",
      "_catboost.CatBoostError: catboost/private/libs/options/oblivious_tree_options.cpp:122: Maximum tree depth is 16\n",
      "\n",
      "  warnings.warn(\"Estimator fit failed. The score on this train-test\"\n",
      "/opt/conda/lib/python3.9/site-packages/sklearn/model_selection/_validation.py:610: FitFailedWarning: Estimator fit failed. The score on this train-test partition for these parameters will be set to nan. Details: \n",
      "Traceback (most recent call last):\n",
      "  File \"/opt/conda/lib/python3.9/site-packages/sklearn/model_selection/_validation.py\", line 593, in _fit_and_score\n",
      "    estimator.fit(X_train, y_train, **fit_params)\n",
      "  File \"/opt/conda/lib/python3.9/site-packages/catboost/core.py\", line 5299, in fit\n",
      "    return self._fit(X, y, cat_features, None, None, None, sample_weight, None, None, None, None, baseline,\n",
      "  File \"/opt/conda/lib/python3.9/site-packages/catboost/core.py\", line 2021, in _fit\n",
      "    train_params = self._prepare_train_params(\n",
      "  File \"/opt/conda/lib/python3.9/site-packages/catboost/core.py\", line 1953, in _prepare_train_params\n",
      "    _check_train_params(params)\n",
      "  File \"_catboost.pyx\", line 5839, in _catboost._check_train_params\n",
      "  File \"_catboost.pyx\", line 5858, in _catboost._check_train_params\n",
      "_catboost.CatBoostError: catboost/private/libs/options/oblivious_tree_options.cpp:122: Maximum tree depth is 16\n",
      "\n",
      "  warnings.warn(\"Estimator fit failed. The score on this train-test\"\n",
      "/opt/conda/lib/python3.9/site-packages/sklearn/model_selection/_validation.py:610: FitFailedWarning: Estimator fit failed. The score on this train-test partition for these parameters will be set to nan. Details: \n",
      "Traceback (most recent call last):\n",
      "  File \"/opt/conda/lib/python3.9/site-packages/sklearn/model_selection/_validation.py\", line 593, in _fit_and_score\n",
      "    estimator.fit(X_train, y_train, **fit_params)\n",
      "  File \"/opt/conda/lib/python3.9/site-packages/catboost/core.py\", line 5299, in fit\n",
      "    return self._fit(X, y, cat_features, None, None, None, sample_weight, None, None, None, None, baseline,\n",
      "  File \"/opt/conda/lib/python3.9/site-packages/catboost/core.py\", line 2021, in _fit\n",
      "    train_params = self._prepare_train_params(\n",
      "  File \"/opt/conda/lib/python3.9/site-packages/catboost/core.py\", line 1953, in _prepare_train_params\n",
      "    _check_train_params(params)\n",
      "  File \"_catboost.pyx\", line 5839, in _catboost._check_train_params\n",
      "  File \"_catboost.pyx\", line 5858, in _catboost._check_train_params\n",
      "_catboost.CatBoostError: catboost/private/libs/options/oblivious_tree_options.cpp:122: Maximum tree depth is 16\n",
      "\n",
      "  warnings.warn(\"Estimator fit failed. The score on this train-test\"\n",
      "/opt/conda/lib/python3.9/site-packages/sklearn/model_selection/_validation.py:610: FitFailedWarning: Estimator fit failed. The score on this train-test partition for these parameters will be set to nan. Details: \n",
      "Traceback (most recent call last):\n",
      "  File \"/opt/conda/lib/python3.9/site-packages/sklearn/model_selection/_validation.py\", line 593, in _fit_and_score\n",
      "    estimator.fit(X_train, y_train, **fit_params)\n",
      "  File \"/opt/conda/lib/python3.9/site-packages/catboost/core.py\", line 5299, in fit\n",
      "    return self._fit(X, y, cat_features, None, None, None, sample_weight, None, None, None, None, baseline,\n",
      "  File \"/opt/conda/lib/python3.9/site-packages/catboost/core.py\", line 2021, in _fit\n",
      "    train_params = self._prepare_train_params(\n",
      "  File \"/opt/conda/lib/python3.9/site-packages/catboost/core.py\", line 1953, in _prepare_train_params\n",
      "    _check_train_params(params)\n",
      "  File \"_catboost.pyx\", line 5839, in _catboost._check_train_params\n",
      "  File \"_catboost.pyx\", line 5858, in _catboost._check_train_params\n",
      "_catboost.CatBoostError: catboost/private/libs/options/oblivious_tree_options.cpp:122: Maximum tree depth is 16\n",
      "\n",
      "  warnings.warn(\"Estimator fit failed. The score on this train-test\"\n",
      "/opt/conda/lib/python3.9/site-packages/sklearn/model_selection/_validation.py:610: FitFailedWarning: Estimator fit failed. The score on this train-test partition for these parameters will be set to nan. Details: \n",
      "Traceback (most recent call last):\n",
      "  File \"/opt/conda/lib/python3.9/site-packages/sklearn/model_selection/_validation.py\", line 593, in _fit_and_score\n",
      "    estimator.fit(X_train, y_train, **fit_params)\n",
      "  File \"/opt/conda/lib/python3.9/site-packages/catboost/core.py\", line 5299, in fit\n",
      "    return self._fit(X, y, cat_features, None, None, None, sample_weight, None, None, None, None, baseline,\n",
      "  File \"/opt/conda/lib/python3.9/site-packages/catboost/core.py\", line 2021, in _fit\n",
      "    train_params = self._prepare_train_params(\n",
      "  File \"/opt/conda/lib/python3.9/site-packages/catboost/core.py\", line 1953, in _prepare_train_params\n",
      "    _check_train_params(params)\n",
      "  File \"_catboost.pyx\", line 5839, in _catboost._check_train_params\n",
      "  File \"_catboost.pyx\", line 5858, in _catboost._check_train_params\n",
      "_catboost.CatBoostError: catboost/private/libs/options/oblivious_tree_options.cpp:122: Maximum tree depth is 16\n",
      "\n",
      "  warnings.warn(\"Estimator fit failed. The score on this train-test\"\n",
      "/opt/conda/lib/python3.9/site-packages/sklearn/model_selection/_validation.py:610: FitFailedWarning: Estimator fit failed. The score on this train-test partition for these parameters will be set to nan. Details: \n",
      "Traceback (most recent call last):\n",
      "  File \"/opt/conda/lib/python3.9/site-packages/sklearn/model_selection/_validation.py\", line 593, in _fit_and_score\n",
      "    estimator.fit(X_train, y_train, **fit_params)\n",
      "  File \"/opt/conda/lib/python3.9/site-packages/catboost/core.py\", line 5299, in fit\n",
      "    return self._fit(X, y, cat_features, None, None, None, sample_weight, None, None, None, None, baseline,\n",
      "  File \"/opt/conda/lib/python3.9/site-packages/catboost/core.py\", line 2021, in _fit\n",
      "    train_params = self._prepare_train_params(\n",
      "  File \"/opt/conda/lib/python3.9/site-packages/catboost/core.py\", line 1953, in _prepare_train_params\n",
      "    _check_train_params(params)\n",
      "  File \"_catboost.pyx\", line 5839, in _catboost._check_train_params\n",
      "  File \"_catboost.pyx\", line 5858, in _catboost._check_train_params\n",
      "_catboost.CatBoostError: catboost/private/libs/options/oblivious_tree_options.cpp:122: Maximum tree depth is 16\n",
      "\n",
      "  warnings.warn(\"Estimator fit failed. The score on this train-test\"\n",
      "/opt/conda/lib/python3.9/site-packages/sklearn/model_selection/_validation.py:610: FitFailedWarning: Estimator fit failed. The score on this train-test partition for these parameters will be set to nan. Details: \n",
      "Traceback (most recent call last):\n",
      "  File \"/opt/conda/lib/python3.9/site-packages/sklearn/model_selection/_validation.py\", line 593, in _fit_and_score\n",
      "    estimator.fit(X_train, y_train, **fit_params)\n",
      "  File \"/opt/conda/lib/python3.9/site-packages/catboost/core.py\", line 5299, in fit\n",
      "    return self._fit(X, y, cat_features, None, None, None, sample_weight, None, None, None, None, baseline,\n",
      "  File \"/opt/conda/lib/python3.9/site-packages/catboost/core.py\", line 2021, in _fit\n",
      "    train_params = self._prepare_train_params(\n",
      "  File \"/opt/conda/lib/python3.9/site-packages/catboost/core.py\", line 1953, in _prepare_train_params\n",
      "    _check_train_params(params)\n",
      "  File \"_catboost.pyx\", line 5839, in _catboost._check_train_params\n",
      "  File \"_catboost.pyx\", line 5858, in _catboost._check_train_params\n",
      "_catboost.CatBoostError: catboost/private/libs/options/oblivious_tree_options.cpp:122: Maximum tree depth is 16\n",
      "\n",
      "  warnings.warn(\"Estimator fit failed. The score on this train-test\"\n",
      "/opt/conda/lib/python3.9/site-packages/sklearn/model_selection/_validation.py:610: FitFailedWarning: Estimator fit failed. The score on this train-test partition for these parameters will be set to nan. Details: \n",
      "Traceback (most recent call last):\n",
      "  File \"/opt/conda/lib/python3.9/site-packages/sklearn/model_selection/_validation.py\", line 593, in _fit_and_score\n",
      "    estimator.fit(X_train, y_train, **fit_params)\n",
      "  File \"/opt/conda/lib/python3.9/site-packages/catboost/core.py\", line 5299, in fit\n",
      "    return self._fit(X, y, cat_features, None, None, None, sample_weight, None, None, None, None, baseline,\n",
      "  File \"/opt/conda/lib/python3.9/site-packages/catboost/core.py\", line 2021, in _fit\n",
      "    train_params = self._prepare_train_params(\n",
      "  File \"/opt/conda/lib/python3.9/site-packages/catboost/core.py\", line 1953, in _prepare_train_params\n",
      "    _check_train_params(params)\n",
      "  File \"_catboost.pyx\", line 5839, in _catboost._check_train_params\n",
      "  File \"_catboost.pyx\", line 5858, in _catboost._check_train_params\n",
      "_catboost.CatBoostError: catboost/private/libs/options/oblivious_tree_options.cpp:122: Maximum tree depth is 16\n",
      "\n",
      "  warnings.warn(\"Estimator fit failed. The score on this train-test\"\n",
      "/opt/conda/lib/python3.9/site-packages/sklearn/model_selection/_search.py:918: UserWarning: One or more of the test scores are non-finite: [-3604.70829933 -1983.13377656 -2147.11828993            nan\n",
      "            nan            nan -2873.08783679 -1427.3574065\n",
      " -1512.94391821]\n",
      "  warnings.warn(\n"
     ]
    },
    {
     "name": "stdout",
     "output_type": "stream",
     "text": [
      "CPU times: user 6min 53s, sys: 1.97 s, total: 6min 55s\n",
      "Wall time: 7min 21s\n"
     ]
    },
    {
     "data": {
      "text/plain": [
       "{'max_depth': 10, 'n_estimators': 1000}"
      ]
     },
     "execution_count": 65,
     "metadata": {},
     "output_type": "execute_result"
    }
   ],
   "source": [
    "%%time\n",
    "parameter = {\"n_estimators\": [1,1000,50],\"max_depth\": [1,100,10]}\n",
    "model = CatBoostRegressor(verbose = False)\n",
    "model_grid = GridSearchCV(model, parameter, scoring = rmse_reverse)\n",
    "model_grid.fit(train_features_code, train_target_code)\n",
    "model_grid.best_params_"
   ]
  },
  {
   "cell_type": "code",
   "execution_count": 66,
   "metadata": {},
   "outputs": [
    {
     "name": "stdout",
     "output_type": "stream",
     "text": [
      "1427.3574064950506\n",
      "CPU times: user 5min 6s, sys: 1.18 s, total: 5min 7s\n",
      "Wall time: 5min 14s\n"
     ]
    }
   ],
   "source": [
    "%%time\n",
    "model = CatBoostRegressor(max_depth = 10, n_estimators = 1000, verbose = False)\n",
    "model.fit(train_features_code, train_target_code)\n",
    "cross_rmse = cross_val_score(model, train_features_code, train_target_code, scoring = rmse_score).mean()\n",
    "print(cross_rmse)"
   ]
  },
  {
   "cell_type": "markdown",
   "metadata": {},
   "source": [
    "Модель catboost с оптимальными параметрами показала практичеcки такой же результат метрики RMSE на кросс-валидации. При этом время обучения модели повысилось на 1.5 минуты."
   ]
  },
  {
   "cell_type": "markdown",
   "metadata": {},
   "source": [
    "Сделаем выводы."
   ]
  },
  {
   "cell_type": "markdown",
   "metadata": {},
   "source": [
    "<div class=\"alert alert-block alert-success\">\n",
    "<b>✔️ Успех:</b>\n",
    "\n",
    "По модельной части замечаний нет - все сделано четко 💪\n",
    "</div>"
   ]
  },
  {
   "cell_type": "markdown",
   "metadata": {},
   "source": [
    "## Анализ моделей"
   ]
  },
  {
   "cell_type": "markdown",
   "metadata": {},
   "source": [
    "Модели градиентного бустинга дают лучший результат метрики RMSE, чем базовые модели линейной регрессии и дерева решений. Но время обучения моделей бустинга гораздо выше, причем время обучения catboost, на 1.5 минуты больше, чем модели lightGBM. Таким образом, считаю лучшей модель градиетного бустинга lightGBM по совокупности критериев метрики RMSE и времени работы. Рассмотрим метрику RMSE на тестовых данных."
   ]
  },
  {
   "cell_type": "code",
   "execution_count": 67,
   "metadata": {},
   "outputs": [
    {
     "name": "stdout",
     "output_type": "stream",
     "text": [
      "1398.697335517303\n",
      "CPU times: user 1min 47s, sys: 735 ms, total: 1min 48s\n",
      "Wall time: 1min 48s\n"
     ]
    }
   ],
   "source": [
    "%%time\n",
    "model = LGBMRegressor(n_estimators = 1000, max_depth = 100, learning_rate = 0.1)\n",
    "model.fit(train_features_code, train_target_code)\n",
    "pred = model.predict(test_features_code)\n",
    "print(mean_squared_error(test_target_code, pred, squared = False))"
   ]
  },
  {
   "cell_type": "markdown",
   "metadata": {},
   "source": [
    "Модель lightGBM показал отличный результат на тестовой выборке. Время обучения 43 секунды. Мера RMSE 337. Также рассмотрим модель Catboost для предсказания."
   ]
  },
  {
   "cell_type": "code",
   "execution_count": 68,
   "metadata": {},
   "outputs": [
    {
     "name": "stdout",
     "output_type": "stream",
     "text": [
      "1391.2502620601601\n",
      "CPU times: user 58.5 s, sys: 131 ms, total: 58.7 s\n",
      "Wall time: 1min\n"
     ]
    }
   ],
   "source": [
    "%%time\n",
    "model = CatBoostRegressor(max_depth = 10, n_estimators = 1000, verbose = False)\n",
    "model.fit(train_features_code, train_target_code)\n",
    "pred = model.predict(test_features_code)\n",
    "print(mean_squared_error(test_target_code, pred, squared = False))"
   ]
  },
  {
   "cell_type": "markdown",
   "metadata": {},
   "source": [
    "Модель catboost имеет время обучения на 15 секунд больше, при этом RMSE почти такой же как у lightGBM. "
   ]
  },
  {
   "cell_type": "markdown",
   "metadata": {},
   "source": [
    "Мы рассмотрели датасет с данными по автомобилям, провели предобработку данных, рассмотрели распределение некоторых столбцов и избавились от критических значений. Далее я обучил несколько моделей на подготовленных данных и и провел их кроссвалидацию. Проведя сравнение значений метрики RMSE при кросс-валидации, а также время обучения и предсказания моделей, я сделал вывод о том, что лучшей для данного датасета будет модель lighyGBM, так как она дала такой же результат, как модель catboost, но время обучения и предсказания у нее меньше. Все задачи проекта выполнены."
   ]
  },
  {
   "cell_type": "markdown",
   "metadata": {},
   "source": [
    "<div class=\"alert alert-block alert-success\">\n",
    "<b>✔️ Успех:</b>\n",
    "\n",
    "Вывод соответствует исследованию 👍\n",
    "</div>"
   ]
  },
  {
   "cell_type": "markdown",
   "metadata": {},
   "source": [
    "<div class=\"alert alert-block alert-info\">\n",
    "<b>Комментарий студента:</b> Я убрал выбросы в столбце Power, а также убрал нулевые значения в остальных столбцах в датасете. Также мной был изменен алгоритм прямого кодирования - кодировались только категоральные признаки. Далее я провел обучение моделей на предобработаном датасете, а алгоритмы деревьев и ансамбли бустинга на датасете закодированном с помощью прямого кодироания, а модели регрессии на датасете закодированном OHE. После изменения алгоритма OrdinalEncoder значения RMSE повысились, так как при кодировании всех столбцов значения в них уменьшились, а значит RMSE, также уменьшилось. Время обучения и кросс-валидации lightGBMRegressor неадекватно высоки. Мера RMSE у моделей lightGBM и Catboost примерно одинаковы. Модели на основе градиентного бустинга показали лучший результат RMSE из всех. Сравнив предсказания lightGBM и Catboost на тестовой выборке, я получил почти одинаковые результаты RMSE (у catboost чуть лучше). Время работы catboost на 50 секунд меньше, чем у lightGBM. Таким образом считаю, что модель CatboostRegressor с оптимальными параметрами, лучшая для решения задачи регрессии для данных. \n",
    "</div>"
   ]
  },
  {
   "cell_type": "markdown",
   "metadata": {},
   "source": [
    "<div class=\"alert alert-block alert-info\">\n",
    "<b>Комментарий ревьюера:</b>\n",
    "\n",
    "Спасибо за качественную работу)\n",
    "</div>"
   ]
  },
  {
   "cell_type": "markdown",
   "metadata": {},
   "source": [
    "# <font color='orange'>Общее впечатление</font>\n",
    "* Этот проект выполнен очень хорошо\n",
    "* Видно, что приложено много усилий\n",
    "* Молодец, что структурируешь ноутбук, приятно проверять такие работы\n",
    "* У тебя чистый и лаконичный код\n",
    "* Мне было интересно читать твои промежуточные выводы\n",
    "* Твой уровень подачи материала находится на высоком уровне\n",
    "* Исправь, пожалуйста, мои замечания. Затем отправляй на повторную проверку\n",
    "* Жду новую версию проекта 👋"
   ]
  },
  {
   "cell_type": "markdown",
   "metadata": {},
   "source": [
    "# <font color='orange'>2. Общее впечатление</font>\n",
    "* Спасибо за быстрое внесение правок\n",
    "* Теперь проект выглядит лучше )\n",
    "* Критических замечаний нет\n",
    "* Молодец, отличная работа!\n",
    "* Надеюсь, ревью было полезным\n",
    "* Удачи в дальнейшем обучении 👋"
   ]
  }
 ],
 "metadata": {
  "ExecuteTimeLog": [
   {
    "duration": 399,
    "start_time": "2022-08-13T08:08:59.813Z"
   },
   {
    "duration": 1047,
    "start_time": "2022-08-13T08:09:37.828Z"
   },
   {
    "duration": 807,
    "start_time": "2022-08-13T08:09:43.346Z"
   },
   {
    "duration": 123,
    "start_time": "2022-08-13T08:10:28.304Z"
   },
   {
    "duration": 19,
    "start_time": "2022-08-13T08:26:43.474Z"
   },
   {
    "duration": 15,
    "start_time": "2022-08-13T08:27:36.590Z"
   },
   {
    "duration": 17,
    "start_time": "2022-08-13T08:27:41.368Z"
   },
   {
    "duration": 16,
    "start_time": "2022-08-13T08:27:58.899Z"
   },
   {
    "duration": 20,
    "start_time": "2022-08-13T08:33:11.128Z"
   },
   {
    "duration": 6,
    "start_time": "2022-08-13T08:34:13.042Z"
   },
   {
    "duration": 5,
    "start_time": "2022-08-13T08:35:54.741Z"
   },
   {
    "duration": 5,
    "start_time": "2022-08-13T08:36:04.034Z"
   },
   {
    "duration": 511,
    "start_time": "2022-08-13T08:36:59.640Z"
   },
   {
    "duration": 59,
    "start_time": "2022-08-13T08:41:07.683Z"
   },
   {
    "duration": 10,
    "start_time": "2022-08-13T08:41:12.006Z"
   },
   {
    "duration": 11,
    "start_time": "2022-08-13T08:41:17.507Z"
   },
   {
    "duration": 210,
    "start_time": "2022-08-13T08:41:30.584Z"
   },
   {
    "duration": 381,
    "start_time": "2022-08-13T08:42:28.857Z"
   },
   {
    "duration": 917,
    "start_time": "2022-08-13T08:42:29.240Z"
   },
   {
    "duration": 157,
    "start_time": "2022-08-13T08:42:30.162Z"
   },
   {
    "duration": 28,
    "start_time": "2022-08-13T08:42:30.321Z"
   },
   {
    "duration": 44,
    "start_time": "2022-08-13T08:42:30.351Z"
   },
   {
    "duration": 61,
    "start_time": "2022-08-13T08:42:30.396Z"
   },
   {
    "duration": 15,
    "start_time": "2022-08-13T08:42:30.459Z"
   },
   {
    "duration": 469,
    "start_time": "2022-08-13T08:42:30.475Z"
   },
   {
    "duration": 8,
    "start_time": "2022-08-13T08:42:30.946Z"
   },
   {
    "duration": 8,
    "start_time": "2022-08-13T08:42:41.275Z"
   },
   {
    "duration": 7,
    "start_time": "2022-08-13T08:43:04.337Z"
   },
   {
    "duration": 7,
    "start_time": "2022-08-13T08:43:49.568Z"
   },
   {
    "duration": 7,
    "start_time": "2022-08-13T08:44:01.569Z"
   },
   {
    "duration": 12,
    "start_time": "2022-08-13T08:44:23.373Z"
   },
   {
    "duration": 12,
    "start_time": "2022-08-13T08:44:40.645Z"
   },
   {
    "duration": 7,
    "start_time": "2022-08-13T08:44:48.041Z"
   },
   {
    "duration": 7,
    "start_time": "2022-08-13T08:45:21.719Z"
   },
   {
    "duration": 6,
    "start_time": "2022-08-13T08:45:41.611Z"
   },
   {
    "duration": 9,
    "start_time": "2022-08-13T08:45:47.751Z"
   },
   {
    "duration": 4,
    "start_time": "2022-08-13T08:47:21.319Z"
   },
   {
    "duration": 9,
    "start_time": "2022-08-13T08:47:24.837Z"
   },
   {
    "duration": 5,
    "start_time": "2022-08-13T08:47:44.065Z"
   },
   {
    "duration": 5,
    "start_time": "2022-08-13T08:47:49.638Z"
   },
   {
    "duration": 5,
    "start_time": "2022-08-13T08:47:52.892Z"
   },
   {
    "duration": 380,
    "start_time": "2022-08-13T08:48:01.870Z"
   },
   {
    "duration": 833,
    "start_time": "2022-08-13T08:48:02.252Z"
   },
   {
    "duration": 138,
    "start_time": "2022-08-13T08:48:03.087Z"
   },
   {
    "duration": 21,
    "start_time": "2022-08-13T08:48:03.227Z"
   },
   {
    "duration": 36,
    "start_time": "2022-08-13T08:48:03.250Z"
   },
   {
    "duration": 43,
    "start_time": "2022-08-13T08:48:03.288Z"
   },
   {
    "duration": 8,
    "start_time": "2022-08-13T08:48:03.333Z"
   },
   {
    "duration": 383,
    "start_time": "2022-08-13T08:48:03.343Z"
   },
   {
    "duration": 7,
    "start_time": "2022-08-13T08:48:03.728Z"
   },
   {
    "duration": 6,
    "start_time": "2022-08-13T08:48:12.123Z"
   },
   {
    "duration": 6,
    "start_time": "2022-08-13T08:48:19.993Z"
   },
   {
    "duration": 6,
    "start_time": "2022-08-13T08:48:40.990Z"
   },
   {
    "duration": 10,
    "start_time": "2022-08-13T08:48:47.209Z"
   },
   {
    "duration": 6,
    "start_time": "2022-08-13T08:48:52.173Z"
   },
   {
    "duration": 49,
    "start_time": "2022-08-13T08:51:12.330Z"
   },
   {
    "duration": 71,
    "start_time": "2022-08-13T08:51:15.445Z"
   },
   {
    "duration": 50,
    "start_time": "2022-08-13T08:51:34.986Z"
   },
   {
    "duration": 59,
    "start_time": "2022-08-13T08:51:42.319Z"
   },
   {
    "duration": 53,
    "start_time": "2022-08-13T08:53:00.958Z"
   },
   {
    "duration": 42,
    "start_time": "2022-08-13T08:53:08.178Z"
   },
   {
    "duration": 47,
    "start_time": "2022-08-13T08:53:14.680Z"
   },
   {
    "duration": 45,
    "start_time": "2022-08-13T08:53:52.117Z"
   },
   {
    "duration": 57,
    "start_time": "2022-08-13T08:53:56.345Z"
   },
   {
    "duration": 19,
    "start_time": "2022-08-13T08:55:25.979Z"
   },
   {
    "duration": 16,
    "start_time": "2022-08-13T08:55:46.608Z"
   },
   {
    "duration": 21,
    "start_time": "2022-08-13T08:55:55.954Z"
   },
   {
    "duration": 20,
    "start_time": "2022-08-13T08:56:07.171Z"
   },
   {
    "duration": 63,
    "start_time": "2022-08-13T08:59:43.745Z"
   },
   {
    "duration": 69,
    "start_time": "2022-08-13T08:59:56.621Z"
   },
   {
    "duration": 54,
    "start_time": "2022-08-13T09:00:03.446Z"
   },
   {
    "duration": 20,
    "start_time": "2022-08-13T09:00:50.380Z"
   },
   {
    "duration": 24,
    "start_time": "2022-08-13T09:01:15.502Z"
   },
   {
    "duration": 15,
    "start_time": "2022-08-13T09:01:29.132Z"
   },
   {
    "duration": 19,
    "start_time": "2022-08-13T09:03:08.158Z"
   },
   {
    "duration": 5,
    "start_time": "2022-08-13T09:03:45.822Z"
   },
   {
    "duration": 137,
    "start_time": "2022-08-13T09:03:58.337Z"
   },
   {
    "duration": 153,
    "start_time": "2022-08-13T09:05:14.998Z"
   },
   {
    "duration": 7,
    "start_time": "2022-08-13T09:06:39.868Z"
   },
   {
    "duration": 30,
    "start_time": "2022-08-13T09:07:26.197Z"
   },
   {
    "duration": 103,
    "start_time": "2022-08-13T09:08:47.290Z"
   },
   {
    "duration": 16,
    "start_time": "2022-08-13T09:08:50.850Z"
   },
   {
    "duration": 15,
    "start_time": "2022-08-13T09:08:58.465Z"
   },
   {
    "duration": 20,
    "start_time": "2022-08-13T09:10:00.825Z"
   },
   {
    "duration": 35,
    "start_time": "2022-08-13T09:10:08.148Z"
   },
   {
    "duration": 18,
    "start_time": "2022-08-13T09:10:15.760Z"
   },
   {
    "duration": 20,
    "start_time": "2022-08-13T09:11:56.233Z"
   },
   {
    "duration": 15,
    "start_time": "2022-08-13T09:12:27.635Z"
   },
   {
    "duration": 19,
    "start_time": "2022-08-13T09:14:55.052Z"
   },
   {
    "duration": 207,
    "start_time": "2022-08-13T09:15:09.360Z"
   },
   {
    "duration": 19,
    "start_time": "2022-08-13T09:15:21.852Z"
   },
   {
    "duration": 237,
    "start_time": "2022-08-13T09:17:02.105Z"
   },
   {
    "duration": 6,
    "start_time": "2022-08-13T09:18:41.153Z"
   },
   {
    "duration": 5,
    "start_time": "2022-08-13T09:19:03.773Z"
   },
   {
    "duration": 6,
    "start_time": "2022-08-13T09:19:27.141Z"
   },
   {
    "duration": 5,
    "start_time": "2022-08-13T09:19:29.381Z"
   },
   {
    "duration": 19,
    "start_time": "2022-08-13T09:22:50.769Z"
   },
   {
    "duration": 472,
    "start_time": "2022-08-13T09:23:41.235Z"
   },
   {
    "duration": 427,
    "start_time": "2022-08-13T09:23:52.033Z"
   },
   {
    "duration": 627,
    "start_time": "2022-08-13T09:24:06.056Z"
   },
   {
    "duration": 498,
    "start_time": "2022-08-13T09:24:19.387Z"
   },
   {
    "duration": 398,
    "start_time": "2022-08-13T09:27:10.877Z"
   },
   {
    "duration": 390,
    "start_time": "2022-08-13T09:27:27.764Z"
   },
   {
    "duration": 33,
    "start_time": "2022-08-13T09:28:46.029Z"
   },
   {
    "duration": 4,
    "start_time": "2022-08-13T09:28:50.593Z"
   },
   {
    "duration": 32,
    "start_time": "2022-08-13T09:28:53.212Z"
   },
   {
    "duration": 5,
    "start_time": "2022-08-13T09:28:53.788Z"
   },
   {
    "duration": 433,
    "start_time": "2022-08-13T09:29:00.507Z"
   },
   {
    "duration": 5,
    "start_time": "2022-08-13T09:30:03.210Z"
   },
   {
    "duration": 425,
    "start_time": "2022-08-13T09:30:36.307Z"
   },
   {
    "duration": 564,
    "start_time": "2022-08-13T09:30:44.482Z"
   },
   {
    "duration": 61,
    "start_time": "2022-08-13T09:30:56.394Z"
   },
   {
    "duration": 6,
    "start_time": "2022-08-13T09:30:58.946Z"
   },
   {
    "duration": 196,
    "start_time": "2022-08-13T09:31:32.155Z"
   },
   {
    "duration": 5,
    "start_time": "2022-08-13T09:31:33.020Z"
   },
   {
    "duration": 5,
    "start_time": "2022-08-13T09:31:33.433Z"
   },
   {
    "duration": 5,
    "start_time": "2022-08-13T09:31:33.798Z"
   },
   {
    "duration": 15,
    "start_time": "2022-08-13T09:37:41.410Z"
   },
   {
    "duration": 237,
    "start_time": "2022-08-13T09:39:51.873Z"
   },
   {
    "duration": 259,
    "start_time": "2022-08-13T09:40:05.668Z"
   },
   {
    "duration": 616,
    "start_time": "2022-08-13T09:50:56.082Z"
   },
   {
    "duration": 3,
    "start_time": "2022-08-13T09:52:13.445Z"
   },
   {
    "duration": 841,
    "start_time": "2022-08-13T09:54:47.293Z"
   },
   {
    "duration": 773,
    "start_time": "2022-08-13T09:54:50.982Z"
   },
   {
    "duration": 119,
    "start_time": "2022-08-13T09:55:41.482Z"
   },
   {
    "duration": 1052,
    "start_time": "2022-08-13T09:56:12.738Z"
   },
   {
    "duration": 782,
    "start_time": "2022-08-13T09:56:13.793Z"
   },
   {
    "duration": 134,
    "start_time": "2022-08-13T09:56:14.577Z"
   },
   {
    "duration": 20,
    "start_time": "2022-08-13T09:56:14.714Z"
   },
   {
    "duration": 18,
    "start_time": "2022-08-13T09:56:14.736Z"
   },
   {
    "duration": 22,
    "start_time": "2022-08-13T09:56:14.756Z"
   },
   {
    "duration": 6,
    "start_time": "2022-08-13T09:56:14.780Z"
   },
   {
    "duration": 378,
    "start_time": "2022-08-13T09:56:14.809Z"
   },
   {
    "duration": 60,
    "start_time": "2022-08-13T09:56:15.189Z"
   },
   {
    "duration": 19,
    "start_time": "2022-08-13T09:56:15.252Z"
   },
   {
    "duration": 18,
    "start_time": "2022-08-13T09:56:15.273Z"
   },
   {
    "duration": 73,
    "start_time": "2022-08-13T09:56:15.308Z"
   },
   {
    "duration": 30,
    "start_time": "2022-08-13T09:56:15.382Z"
   },
   {
    "duration": 18,
    "start_time": "2022-08-13T09:56:15.414Z"
   },
   {
    "duration": 148,
    "start_time": "2022-08-13T09:56:15.434Z"
   },
   {
    "duration": 24,
    "start_time": "2022-08-13T09:56:15.584Z"
   },
   {
    "duration": 18,
    "start_time": "2022-08-13T09:56:15.609Z"
   },
   {
    "duration": 20,
    "start_time": "2022-08-13T09:56:15.628Z"
   },
   {
    "duration": 23,
    "start_time": "2022-08-13T09:56:15.649Z"
   },
   {
    "duration": 41,
    "start_time": "2022-08-13T09:56:15.674Z"
   },
   {
    "duration": 239,
    "start_time": "2022-08-13T09:56:15.717Z"
   },
   {
    "duration": 100,
    "start_time": "2022-08-13T09:56:15.958Z"
   },
   {
    "duration": 50,
    "start_time": "2022-08-13T09:56:16.060Z"
   },
   {
    "duration": 0,
    "start_time": "2022-08-13T09:56:16.111Z"
   },
   {
    "duration": 14,
    "start_time": "2022-08-13T09:57:23.378Z"
   },
   {
    "duration": 25,
    "start_time": "2022-08-13T10:00:29.083Z"
   },
   {
    "duration": 110,
    "start_time": "2022-08-13T10:00:36.750Z"
   },
   {
    "duration": 21,
    "start_time": "2022-08-13T10:00:53.318Z"
   },
   {
    "duration": 19,
    "start_time": "2022-08-13T10:02:32.291Z"
   },
   {
    "duration": 395,
    "start_time": "2022-08-13T10:02:40.523Z"
   },
   {
    "duration": 8,
    "start_time": "2022-08-13T10:02:57.723Z"
   },
   {
    "duration": 6,
    "start_time": "2022-08-13T10:03:04.252Z"
   },
   {
    "duration": 60,
    "start_time": "2022-08-13T10:03:18.593Z"
   },
   {
    "duration": 5,
    "start_time": "2022-08-13T10:03:21.751Z"
   },
   {
    "duration": 16,
    "start_time": "2022-08-13T10:04:59.705Z"
   },
   {
    "duration": 17,
    "start_time": "2022-08-13T10:05:07.924Z"
   },
   {
    "duration": 1036,
    "start_time": "2022-08-13T10:05:22.968Z"
   },
   {
    "duration": 881,
    "start_time": "2022-08-13T10:05:24.006Z"
   },
   {
    "duration": 149,
    "start_time": "2022-08-13T10:05:24.889Z"
   },
   {
    "duration": 23,
    "start_time": "2022-08-13T10:05:25.041Z"
   },
   {
    "duration": 21,
    "start_time": "2022-08-13T10:05:25.065Z"
   },
   {
    "duration": 36,
    "start_time": "2022-08-13T10:05:25.087Z"
   },
   {
    "duration": 6,
    "start_time": "2022-08-13T10:05:25.125Z"
   },
   {
    "duration": 384,
    "start_time": "2022-08-13T10:05:25.133Z"
   },
   {
    "duration": 56,
    "start_time": "2022-08-13T10:05:25.519Z"
   },
   {
    "duration": 33,
    "start_time": "2022-08-13T10:05:25.578Z"
   },
   {
    "duration": 17,
    "start_time": "2022-08-13T10:05:25.613Z"
   },
   {
    "duration": 96,
    "start_time": "2022-08-13T10:05:25.632Z"
   },
   {
    "duration": 17,
    "start_time": "2022-08-13T10:05:25.729Z"
   },
   {
    "duration": 25,
    "start_time": "2022-08-13T10:05:25.747Z"
   },
   {
    "duration": 165,
    "start_time": "2022-08-13T10:05:25.774Z"
   },
   {
    "duration": 31,
    "start_time": "2022-08-13T10:05:25.941Z"
   },
   {
    "duration": 34,
    "start_time": "2022-08-13T10:05:25.973Z"
   },
   {
    "duration": 28,
    "start_time": "2022-08-13T10:05:26.009Z"
   },
   {
    "duration": 29,
    "start_time": "2022-08-13T10:05:26.039Z"
   },
   {
    "duration": 29,
    "start_time": "2022-08-13T10:05:26.070Z"
   },
   {
    "duration": 251,
    "start_time": "2022-08-13T10:05:26.101Z"
   },
   {
    "duration": 27,
    "start_time": "2022-08-13T10:05:26.354Z"
   },
   {
    "duration": 30,
    "start_time": "2022-08-13T10:05:26.383Z"
   },
   {
    "duration": 61,
    "start_time": "2022-08-13T10:05:26.414Z"
   },
   {
    "duration": 0,
    "start_time": "2022-08-13T10:05:26.477Z"
   },
   {
    "duration": 154,
    "start_time": "2022-08-13T10:07:57.481Z"
   },
   {
    "duration": 9,
    "start_time": "2022-08-13T10:10:06.448Z"
   },
   {
    "duration": 23,
    "start_time": "2022-08-13T10:14:06.039Z"
   },
   {
    "duration": 17,
    "start_time": "2022-08-13T10:14:11.489Z"
   },
   {
    "duration": 1046,
    "start_time": "2022-08-13T10:14:31.090Z"
   },
   {
    "duration": 1033,
    "start_time": "2022-08-13T10:14:38.550Z"
   },
   {
    "duration": 908,
    "start_time": "2022-08-13T10:14:39.585Z"
   },
   {
    "duration": 147,
    "start_time": "2022-08-13T10:14:40.494Z"
   },
   {
    "duration": 20,
    "start_time": "2022-08-13T10:14:40.643Z"
   },
   {
    "duration": 21,
    "start_time": "2022-08-13T10:14:40.664Z"
   },
   {
    "duration": 46,
    "start_time": "2022-08-13T10:14:40.687Z"
   },
   {
    "duration": 8,
    "start_time": "2022-08-13T10:14:40.736Z"
   },
   {
    "duration": 387,
    "start_time": "2022-08-13T10:14:40.746Z"
   },
   {
    "duration": 51,
    "start_time": "2022-08-13T10:14:41.136Z"
   },
   {
    "duration": 41,
    "start_time": "2022-08-13T10:14:41.190Z"
   },
   {
    "duration": 16,
    "start_time": "2022-08-13T10:14:41.232Z"
   },
   {
    "duration": 79,
    "start_time": "2022-08-13T10:14:41.249Z"
   },
   {
    "duration": 15,
    "start_time": "2022-08-13T10:14:41.330Z"
   },
   {
    "duration": 24,
    "start_time": "2022-08-13T10:14:41.347Z"
   },
   {
    "duration": 157,
    "start_time": "2022-08-13T10:14:41.373Z"
   },
   {
    "duration": 20,
    "start_time": "2022-08-13T10:14:41.532Z"
   },
   {
    "duration": 21,
    "start_time": "2022-08-13T10:14:41.554Z"
   },
   {
    "duration": 44,
    "start_time": "2022-08-13T10:14:41.577Z"
   },
   {
    "duration": 20,
    "start_time": "2022-08-13T10:14:41.623Z"
   },
   {
    "duration": 20,
    "start_time": "2022-08-13T10:14:41.645Z"
   },
   {
    "duration": 256,
    "start_time": "2022-08-13T10:14:41.667Z"
   },
   {
    "duration": 28,
    "start_time": "2022-08-13T10:14:41.927Z"
   },
   {
    "duration": 16,
    "start_time": "2022-08-13T10:14:41.956Z"
   },
   {
    "duration": 10,
    "start_time": "2022-08-13T10:14:41.973Z"
   },
   {
    "duration": 44,
    "start_time": "2022-08-13T10:14:41.984Z"
   },
   {
    "duration": 18,
    "start_time": "2022-08-13T10:14:42.031Z"
   },
   {
    "duration": 50,
    "start_time": "2022-08-13T10:14:42.051Z"
   },
   {
    "duration": 0,
    "start_time": "2022-08-13T10:14:42.103Z"
   },
   {
    "duration": 56,
    "start_time": "2022-08-13T10:15:18.974Z"
   },
   {
    "duration": 3,
    "start_time": "2022-08-13T10:16:07.378Z"
   },
   {
    "duration": 108,
    "start_time": "2022-08-13T10:18:49.002Z"
   },
   {
    "duration": 79,
    "start_time": "2022-08-13T10:21:10.688Z"
   },
   {
    "duration": 94,
    "start_time": "2022-08-13T10:22:56.385Z"
   },
   {
    "duration": 20,
    "start_time": "2022-08-13T10:24:23.761Z"
   },
   {
    "duration": 58,
    "start_time": "2022-08-13T10:24:53.298Z"
   },
   {
    "duration": 485,
    "start_time": "2022-08-13T10:30:18.018Z"
   },
   {
    "duration": 3,
    "start_time": "2022-08-13T10:32:35.396Z"
   },
   {
    "duration": 81,
    "start_time": "2022-08-13T10:36:59.852Z"
   },
   {
    "duration": 30,
    "start_time": "2022-08-13T10:40:00.540Z"
   },
   {
    "duration": 1119,
    "start_time": "2022-08-13T10:40:07.081Z"
   },
   {
    "duration": 902,
    "start_time": "2022-08-13T10:40:08.202Z"
   },
   {
    "duration": 183,
    "start_time": "2022-08-13T10:40:09.106Z"
   },
   {
    "duration": 34,
    "start_time": "2022-08-13T10:40:09.291Z"
   },
   {
    "duration": 27,
    "start_time": "2022-08-13T10:40:09.327Z"
   },
   {
    "duration": 32,
    "start_time": "2022-08-13T10:40:09.357Z"
   },
   {
    "duration": 13,
    "start_time": "2022-08-13T10:40:09.391Z"
   },
   {
    "duration": 612,
    "start_time": "2022-08-13T10:40:09.406Z"
   },
   {
    "duration": 56,
    "start_time": "2022-08-13T10:40:10.020Z"
   },
   {
    "duration": 32,
    "start_time": "2022-08-13T10:40:10.079Z"
   },
   {
    "duration": 20,
    "start_time": "2022-08-13T10:40:10.113Z"
   },
   {
    "duration": 91,
    "start_time": "2022-08-13T10:40:10.134Z"
   },
   {
    "duration": 17,
    "start_time": "2022-08-13T10:40:10.227Z"
   },
   {
    "duration": 24,
    "start_time": "2022-08-13T10:40:10.246Z"
   },
   {
    "duration": 176,
    "start_time": "2022-08-13T10:40:10.272Z"
   },
   {
    "duration": 23,
    "start_time": "2022-08-13T10:40:10.450Z"
   },
   {
    "duration": 40,
    "start_time": "2022-08-13T10:40:10.475Z"
   },
   {
    "duration": 28,
    "start_time": "2022-08-13T10:40:10.517Z"
   },
   {
    "duration": 33,
    "start_time": "2022-08-13T10:40:10.547Z"
   },
   {
    "duration": 54,
    "start_time": "2022-08-13T10:40:10.582Z"
   },
   {
    "duration": 277,
    "start_time": "2022-08-13T10:40:10.639Z"
   },
   {
    "duration": 28,
    "start_time": "2022-08-13T10:40:10.918Z"
   },
   {
    "duration": 15,
    "start_time": "2022-08-13T10:40:10.947Z"
   },
   {
    "duration": 11,
    "start_time": "2022-08-13T10:40:10.963Z"
   },
   {
    "duration": 46,
    "start_time": "2022-08-13T10:40:10.975Z"
   },
   {
    "duration": 94,
    "start_time": "2022-08-13T10:40:11.022Z"
   },
   {
    "duration": 124,
    "start_time": "2022-08-13T10:40:11.118Z"
   },
   {
    "duration": 184,
    "start_time": "2022-08-13T10:40:11.244Z"
   },
   {
    "duration": 568,
    "start_time": "2022-08-13T10:41:45.230Z"
   },
   {
    "duration": 605,
    "start_time": "2022-08-13T10:41:52.967Z"
   },
   {
    "duration": 608,
    "start_time": "2022-08-13T10:42:43.833Z"
   },
   {
    "duration": 609,
    "start_time": "2022-08-13T10:42:49.847Z"
   },
   {
    "duration": 623,
    "start_time": "2022-08-13T10:42:59.377Z"
   },
   {
    "duration": 594,
    "start_time": "2022-08-13T10:43:17.359Z"
   },
   {
    "duration": 53,
    "start_time": "2022-08-13T10:43:55.726Z"
   },
   {
    "duration": 523,
    "start_time": "2022-08-13T10:44:01.808Z"
   },
   {
    "duration": 488,
    "start_time": "2022-08-13T10:45:00.859Z"
   },
   {
    "duration": 11,
    "start_time": "2022-08-13T10:45:10.311Z"
   },
   {
    "duration": 212,
    "start_time": "2022-08-13T10:45:21.500Z"
   },
   {
    "duration": 74,
    "start_time": "2022-08-13T10:45:34.025Z"
   },
   {
    "duration": 888,
    "start_time": "2022-08-13T10:45:37.738Z"
   },
   {
    "duration": 3,
    "start_time": "2022-08-13T10:49:04.333Z"
   },
   {
    "duration": 10,
    "start_time": "2022-08-13T10:51:36.898Z"
   },
   {
    "duration": 10,
    "start_time": "2022-08-13T10:52:23.580Z"
   },
   {
    "duration": 10,
    "start_time": "2022-08-13T10:54:54.530Z"
   },
   {
    "duration": 10,
    "start_time": "2022-08-13T10:55:30.235Z"
   },
   {
    "duration": 14,
    "start_time": "2022-08-13T10:57:45.475Z"
   },
   {
    "duration": 14,
    "start_time": "2022-08-13T10:57:49.241Z"
   },
   {
    "duration": 4592,
    "start_time": "2022-08-13T10:57:52.125Z"
   },
   {
    "duration": 14,
    "start_time": "2022-08-13T10:58:01.243Z"
   },
   {
    "duration": 3,
    "start_time": "2022-08-13T11:03:46.190Z"
   },
   {
    "duration": 10,
    "start_time": "2022-08-13T11:04:18.992Z"
   },
   {
    "duration": 3,
    "start_time": "2022-08-13T11:04:45.546Z"
   },
   {
    "duration": 2,
    "start_time": "2022-08-13T11:04:50.944Z"
   },
   {
    "duration": 3923,
    "start_time": "2022-08-13T11:05:04.656Z"
   },
   {
    "duration": 3788,
    "start_time": "2022-08-13T11:05:52.948Z"
   },
   {
    "duration": 3737,
    "start_time": "2022-08-13T11:06:17.182Z"
   },
   {
    "duration": 71,
    "start_time": "2022-08-13T11:08:19.429Z"
   },
   {
    "duration": 119,
    "start_time": "2022-08-13T11:08:46.475Z"
   },
   {
    "duration": 81,
    "start_time": "2022-08-13T11:08:59.942Z"
   },
   {
    "duration": 84,
    "start_time": "2022-08-13T11:09:34.325Z"
   },
   {
    "duration": 87,
    "start_time": "2022-08-13T11:10:01.261Z"
   },
   {
    "duration": 72,
    "start_time": "2022-08-13T11:10:37.054Z"
   },
   {
    "duration": 71,
    "start_time": "2022-08-13T11:10:44.348Z"
   },
   {
    "duration": 868,
    "start_time": "2022-08-13T11:10:50.185Z"
   },
   {
    "duration": 3,
    "start_time": "2022-08-13T11:12:09.429Z"
   },
   {
    "duration": 3,
    "start_time": "2022-08-13T11:12:10.240Z"
   },
   {
    "duration": 4717,
    "start_time": "2022-08-13T11:12:11.125Z"
   },
   {
    "duration": 880,
    "start_time": "2022-08-13T11:12:21.073Z"
   },
   {
    "duration": 4523,
    "start_time": "2022-08-13T11:12:31.025Z"
   },
   {
    "duration": 871,
    "start_time": "2022-08-13T11:12:40.494Z"
   },
   {
    "duration": 4543,
    "start_time": "2022-08-13T11:16:08.086Z"
   },
   {
    "duration": 881,
    "start_time": "2022-08-13T11:16:16.013Z"
   },
   {
    "duration": 4556,
    "start_time": "2022-08-13T11:16:21.210Z"
   },
   {
    "duration": 916,
    "start_time": "2022-08-13T11:16:25.768Z"
   },
   {
    "duration": 1047,
    "start_time": "2022-08-15T11:30:23.812Z"
   },
   {
    "duration": 1089,
    "start_time": "2022-08-15T11:30:24.861Z"
   },
   {
    "duration": 139,
    "start_time": "2022-08-15T11:30:25.952Z"
   },
   {
    "duration": 23,
    "start_time": "2022-08-15T11:30:26.093Z"
   },
   {
    "duration": 27,
    "start_time": "2022-08-15T11:30:26.119Z"
   },
   {
    "duration": 33,
    "start_time": "2022-08-15T11:30:26.148Z"
   },
   {
    "duration": 7,
    "start_time": "2022-08-15T11:30:26.183Z"
   },
   {
    "duration": 510,
    "start_time": "2022-08-15T11:30:26.191Z"
   },
   {
    "duration": 78,
    "start_time": "2022-08-15T11:30:26.703Z"
   },
   {
    "duration": 19,
    "start_time": "2022-08-15T11:30:26.783Z"
   },
   {
    "duration": 34,
    "start_time": "2022-08-15T11:30:26.804Z"
   },
   {
    "duration": 73,
    "start_time": "2022-08-15T11:30:26.840Z"
   },
   {
    "duration": 32,
    "start_time": "2022-08-15T11:30:26.915Z"
   },
   {
    "duration": 22,
    "start_time": "2022-08-15T11:30:26.951Z"
   },
   {
    "duration": 163,
    "start_time": "2022-08-15T11:30:26.975Z"
   },
   {
    "duration": 24,
    "start_time": "2022-08-15T11:30:27.139Z"
   },
   {
    "duration": 19,
    "start_time": "2022-08-15T11:30:27.164Z"
   },
   {
    "duration": 21,
    "start_time": "2022-08-15T11:30:27.184Z"
   },
   {
    "duration": 34,
    "start_time": "2022-08-15T11:30:27.207Z"
   },
   {
    "duration": 26,
    "start_time": "2022-08-15T11:30:27.243Z"
   },
   {
    "duration": 232,
    "start_time": "2022-08-15T11:30:27.270Z"
   },
   {
    "duration": 35,
    "start_time": "2022-08-15T11:30:27.504Z"
   },
   {
    "duration": 18,
    "start_time": "2022-08-15T11:30:27.540Z"
   },
   {
    "duration": 15,
    "start_time": "2022-08-15T11:30:27.560Z"
   },
   {
    "duration": 35,
    "start_time": "2022-08-15T11:30:27.577Z"
   },
   {
    "duration": 610,
    "start_time": "2022-08-15T11:30:27.614Z"
   },
   {
    "duration": 54,
    "start_time": "2022-08-15T11:30:28.225Z"
   },
   {
    "duration": 3,
    "start_time": "2022-08-15T11:30:28.281Z"
   },
   {
    "duration": 14,
    "start_time": "2022-08-15T11:30:28.285Z"
   },
   {
    "duration": 4661,
    "start_time": "2022-08-15T11:30:28.300Z"
   },
   {
    "duration": 932,
    "start_time": "2022-08-15T11:30:32.962Z"
   },
   {
    "duration": 6,
    "start_time": "2022-08-15T11:31:05.866Z"
   },
   {
    "duration": 4,
    "start_time": "2022-08-15T11:31:28.820Z"
   },
   {
    "duration": 4,
    "start_time": "2022-08-15T11:31:34.694Z"
   },
   {
    "duration": 134,
    "start_time": "2022-08-15T11:31:47.019Z"
   },
   {
    "duration": 12,
    "start_time": "2022-08-15T11:32:13.987Z"
   },
   {
    "duration": 71,
    "start_time": "2022-08-15T11:32:24.663Z"
   },
   {
    "duration": 5,
    "start_time": "2022-08-15T11:32:31.461Z"
   },
   {
    "duration": 5,
    "start_time": "2022-08-15T11:32:37.134Z"
   },
   {
    "duration": 131,
    "start_time": "2022-08-15T11:35:18.524Z"
   },
   {
    "duration": 106,
    "start_time": "2022-08-15T11:35:35.679Z"
   },
   {
    "duration": 393,
    "start_time": "2022-08-15T11:35:50.150Z"
   },
   {
    "duration": 14,
    "start_time": "2022-08-15T11:37:16.345Z"
   },
   {
    "duration": 52,
    "start_time": "2022-08-15T11:42:17.295Z"
   },
   {
    "duration": 8,
    "start_time": "2022-08-15T11:43:09.814Z"
   },
   {
    "duration": 6,
    "start_time": "2022-08-15T11:43:25.192Z"
   },
   {
    "duration": 4,
    "start_time": "2022-08-15T11:44:05.895Z"
   },
   {
    "duration": 5,
    "start_time": "2022-08-15T11:44:09.887Z"
   },
   {
    "duration": 8,
    "start_time": "2022-08-15T11:44:41.651Z"
   },
   {
    "duration": 6,
    "start_time": "2022-08-15T11:44:56.808Z"
   },
   {
    "duration": 6,
    "start_time": "2022-08-15T11:45:02.342Z"
   },
   {
    "duration": 5,
    "start_time": "2022-08-15T11:45:19.422Z"
   },
   {
    "duration": 930,
    "start_time": "2022-08-15T11:45:26.269Z"
   },
   {
    "duration": 709,
    "start_time": "2022-08-15T11:45:27.201Z"
   },
   {
    "duration": 123,
    "start_time": "2022-08-15T11:45:27.912Z"
   },
   {
    "duration": 18,
    "start_time": "2022-08-15T11:45:28.037Z"
   },
   {
    "duration": 18,
    "start_time": "2022-08-15T11:45:28.057Z"
   },
   {
    "duration": 18,
    "start_time": "2022-08-15T11:45:28.077Z"
   },
   {
    "duration": 6,
    "start_time": "2022-08-15T11:45:28.097Z"
   },
   {
    "duration": 1283,
    "start_time": "2022-08-15T11:45:28.104Z"
   },
   {
    "duration": 52,
    "start_time": "2022-08-15T11:45:29.388Z"
   },
   {
    "duration": 18,
    "start_time": "2022-08-15T11:45:29.441Z"
   },
   {
    "duration": 19,
    "start_time": "2022-08-15T11:45:29.460Z"
   },
   {
    "duration": 79,
    "start_time": "2022-08-15T11:45:29.480Z"
   },
   {
    "duration": 14,
    "start_time": "2022-08-15T11:45:29.560Z"
   },
   {
    "duration": 18,
    "start_time": "2022-08-15T11:45:29.577Z"
   },
   {
    "duration": 128,
    "start_time": "2022-08-15T11:45:29.596Z"
   },
   {
    "duration": 24,
    "start_time": "2022-08-15T11:45:29.726Z"
   },
   {
    "duration": 22,
    "start_time": "2022-08-15T11:45:29.751Z"
   },
   {
    "duration": 24,
    "start_time": "2022-08-15T11:45:29.774Z"
   },
   {
    "duration": 20,
    "start_time": "2022-08-15T11:45:29.800Z"
   },
   {
    "duration": 21,
    "start_time": "2022-08-15T11:45:29.822Z"
   },
   {
    "duration": 211,
    "start_time": "2022-08-15T11:45:29.844Z"
   },
   {
    "duration": 27,
    "start_time": "2022-08-15T11:45:30.056Z"
   },
   {
    "duration": 13,
    "start_time": "2022-08-15T11:45:30.085Z"
   },
   {
    "duration": 7,
    "start_time": "2022-08-15T11:45:30.100Z"
   },
   {
    "duration": 40,
    "start_time": "2022-08-15T11:45:30.108Z"
   },
   {
    "duration": 138,
    "start_time": "2022-08-15T11:45:30.149Z"
   },
   {
    "duration": 392,
    "start_time": "2022-08-15T11:45:30.288Z"
   },
   {
    "duration": 16,
    "start_time": "2022-08-15T11:45:30.682Z"
   },
   {
    "duration": 14,
    "start_time": "2022-08-15T11:45:30.699Z"
   },
   {
    "duration": 38,
    "start_time": "2022-08-15T11:45:30.715Z"
   },
   {
    "duration": 577,
    "start_time": "2022-08-15T11:45:30.755Z"
   },
   {
    "duration": 48,
    "start_time": "2022-08-15T11:45:31.334Z"
   },
   {
    "duration": 3,
    "start_time": "2022-08-15T11:45:31.383Z"
   },
   {
    "duration": 14,
    "start_time": "2022-08-15T11:45:31.387Z"
   },
   {
    "duration": 4500,
    "start_time": "2022-08-15T11:45:31.402Z"
   },
   {
    "duration": 850,
    "start_time": "2022-08-15T11:45:35.903Z"
   },
   {
    "duration": 31,
    "start_time": "2022-08-15T11:46:06.133Z"
   },
   {
    "duration": 113,
    "start_time": "2022-08-15T11:48:45.195Z"
   },
   {
    "duration": 49,
    "start_time": "2022-08-15T11:49:14.058Z"
   },
   {
    "duration": 352,
    "start_time": "2022-08-15T11:49:56.715Z"
   },
   {
    "duration": 13,
    "start_time": "2022-08-15T11:50:44.348Z"
   },
   {
    "duration": 6,
    "start_time": "2022-08-15T11:53:29.241Z"
   },
   {
    "duration": 7,
    "start_time": "2022-08-15T11:53:46.282Z"
   },
   {
    "duration": 8,
    "start_time": "2022-08-15T11:53:55.770Z"
   },
   {
    "duration": 7,
    "start_time": "2022-08-15T11:54:01.465Z"
   },
   {
    "duration": 7,
    "start_time": "2022-08-15T11:54:06.053Z"
   },
   {
    "duration": 8,
    "start_time": "2022-08-15T11:54:09.593Z"
   },
   {
    "duration": 6,
    "start_time": "2022-08-15T11:54:41.913Z"
   },
   {
    "duration": 5,
    "start_time": "2022-08-15T11:55:13.264Z"
   },
   {
    "duration": 6,
    "start_time": "2022-08-15T11:56:01.045Z"
   },
   {
    "duration": 4,
    "start_time": "2022-08-15T11:56:16.934Z"
   },
   {
    "duration": 6,
    "start_time": "2022-08-15T11:56:27.187Z"
   },
   {
    "duration": 4,
    "start_time": "2022-08-15T11:56:35.512Z"
   },
   {
    "duration": 5,
    "start_time": "2022-08-15T11:56:42.628Z"
   },
   {
    "duration": 5,
    "start_time": "2022-08-15T11:56:45.886Z"
   },
   {
    "duration": 7,
    "start_time": "2022-08-15T11:57:05.920Z"
   },
   {
    "duration": 9,
    "start_time": "2022-08-15T11:57:10.453Z"
   },
   {
    "duration": 21,
    "start_time": "2022-08-15T11:57:34.562Z"
   },
   {
    "duration": 544,
    "start_time": "2022-08-15T11:59:27.317Z"
   },
   {
    "duration": 38,
    "start_time": "2022-08-15T11:59:29.325Z"
   },
   {
    "duration": 3,
    "start_time": "2022-08-15T11:59:31.020Z"
   },
   {
    "duration": 2,
    "start_time": "2022-08-15T11:59:31.577Z"
   },
   {
    "duration": 4051,
    "start_time": "2022-08-15T11:59:32.188Z"
   },
   {
    "duration": 796,
    "start_time": "2022-08-15T11:59:36.241Z"
   },
   {
    "duration": 781,
    "start_time": "2022-08-15T12:15:37.214Z"
   },
   {
    "duration": 102,
    "start_time": "2022-08-15T12:24:59.073Z"
   },
   {
    "duration": 641,
    "start_time": "2022-08-15T12:25:53.879Z"
   },
   {
    "duration": 608,
    "start_time": "2022-08-15T12:26:01.314Z"
   },
   {
    "duration": 550,
    "start_time": "2022-08-15T12:26:27.338Z"
   },
   {
    "duration": 459,
    "start_time": "2022-08-15T12:27:09.911Z"
   },
   {
    "duration": 4,
    "start_time": "2022-08-15T12:27:20.416Z"
   },
   {
    "duration": 32,
    "start_time": "2022-08-15T12:27:27.450Z"
   },
   {
    "duration": 3,
    "start_time": "2022-08-15T12:28:14.833Z"
   },
   {
    "duration": 9,
    "start_time": "2022-08-15T12:30:00.104Z"
   },
   {
    "duration": 25247,
    "start_time": "2022-08-15T12:30:08.503Z"
   },
   {
    "duration": 19192,
    "start_time": "2022-08-15T12:31:06.773Z"
   },
   {
    "duration": 3,
    "start_time": "2022-08-15T12:34:48.672Z"
   },
   {
    "duration": 38923,
    "start_time": "2022-08-15T12:42:51.446Z"
   },
   {
    "duration": 10,
    "start_time": "2022-08-15T12:43:37.687Z"
   },
   {
    "duration": 1022,
    "start_time": "2022-08-15T12:44:27.273Z"
   },
   {
    "duration": 755,
    "start_time": "2022-08-15T12:44:28.297Z"
   },
   {
    "duration": 138,
    "start_time": "2022-08-15T12:44:29.054Z"
   },
   {
    "duration": 19,
    "start_time": "2022-08-15T12:44:29.194Z"
   },
   {
    "duration": 29,
    "start_time": "2022-08-15T12:44:29.215Z"
   },
   {
    "duration": 21,
    "start_time": "2022-08-15T12:44:29.246Z"
   },
   {
    "duration": 5,
    "start_time": "2022-08-15T12:44:29.269Z"
   },
   {
    "duration": 347,
    "start_time": "2022-08-15T12:44:29.276Z"
   },
   {
    "duration": 70,
    "start_time": "2022-08-15T12:44:29.624Z"
   },
   {
    "duration": 28,
    "start_time": "2022-08-15T12:44:29.697Z"
   },
   {
    "duration": 24,
    "start_time": "2022-08-15T12:44:29.727Z"
   },
   {
    "duration": 70,
    "start_time": "2022-08-15T12:44:29.752Z"
   },
   {
    "duration": 18,
    "start_time": "2022-08-15T12:44:29.824Z"
   },
   {
    "duration": 17,
    "start_time": "2022-08-15T12:44:29.846Z"
   },
   {
    "duration": 136,
    "start_time": "2022-08-15T12:44:29.864Z"
   },
   {
    "duration": 19,
    "start_time": "2022-08-15T12:44:30.002Z"
   },
   {
    "duration": 52,
    "start_time": "2022-08-15T12:44:30.022Z"
   },
   {
    "duration": 28,
    "start_time": "2022-08-15T12:44:30.076Z"
   },
   {
    "duration": 24,
    "start_time": "2022-08-15T12:44:30.106Z"
   },
   {
    "duration": 46,
    "start_time": "2022-08-15T12:44:30.132Z"
   },
   {
    "duration": 231,
    "start_time": "2022-08-15T12:44:30.179Z"
   },
   {
    "duration": 28,
    "start_time": "2022-08-15T12:44:30.412Z"
   },
   {
    "duration": 15,
    "start_time": "2022-08-15T12:44:30.442Z"
   },
   {
    "duration": 26,
    "start_time": "2022-08-15T12:44:30.459Z"
   },
   {
    "duration": 55,
    "start_time": "2022-08-15T12:44:30.487Z"
   },
   {
    "duration": 147,
    "start_time": "2022-08-15T12:44:30.543Z"
   },
   {
    "duration": 363,
    "start_time": "2022-08-15T12:44:30.693Z"
   },
   {
    "duration": 15,
    "start_time": "2022-08-15T12:44:31.058Z"
   },
   {
    "duration": 10,
    "start_time": "2022-08-15T12:44:31.075Z"
   },
   {
    "duration": 26,
    "start_time": "2022-08-15T12:44:31.087Z"
   },
   {
    "duration": 163,
    "start_time": "2022-08-15T12:44:31.114Z"
   },
   {
    "duration": 378,
    "start_time": "2022-08-15T12:44:31.279Z"
   },
   {
    "duration": 13,
    "start_time": "2022-08-15T12:44:31.658Z"
   },
   {
    "duration": 33,
    "start_time": "2022-08-15T12:44:31.672Z"
   },
   {
    "duration": 618,
    "start_time": "2022-08-15T12:44:31.706Z"
   },
   {
    "duration": 56,
    "start_time": "2022-08-15T12:44:32.326Z"
   },
   {
    "duration": 2,
    "start_time": "2022-08-15T12:44:32.384Z"
   },
   {
    "duration": 15,
    "start_time": "2022-08-15T12:44:32.388Z"
   },
   {
    "duration": 4444,
    "start_time": "2022-08-15T12:44:32.404Z"
   },
   {
    "duration": 4048,
    "start_time": "2022-08-15T12:44:36.850Z"
   },
   {
    "duration": 653,
    "start_time": "2022-08-15T12:44:40.902Z"
   },
   {
    "duration": 482,
    "start_time": "2022-08-15T12:44:41.556Z"
   },
   {
    "duration": 33583,
    "start_time": "2022-08-15T12:44:42.040Z"
   },
   {
    "duration": 4,
    "start_time": "2022-08-15T12:47:38.917Z"
   },
   {
    "duration": 40692,
    "start_time": "2022-08-15T12:48:03.170Z"
   },
   {
    "duration": 40416,
    "start_time": "2022-08-15T12:49:11.241Z"
   },
   {
    "duration": 44914,
    "start_time": "2022-08-15T12:50:24.995Z"
   },
   {
    "duration": 4625,
    "start_time": "2022-08-15T12:51:33.794Z"
   },
   {
    "duration": 41173,
    "start_time": "2022-08-15T12:51:48.888Z"
   },
   {
    "duration": 39401,
    "start_time": "2022-08-15T12:53:06.172Z"
   },
   {
    "duration": 548,
    "start_time": "2022-08-15T12:54:12.512Z"
   },
   {
    "duration": 42,
    "start_time": "2022-08-15T12:54:15.103Z"
   },
   {
    "duration": 2,
    "start_time": "2022-08-15T12:54:16.484Z"
   },
   {
    "duration": 2,
    "start_time": "2022-08-15T12:54:17.154Z"
   },
   {
    "duration": 4334,
    "start_time": "2022-08-15T12:54:18.497Z"
   },
   {
    "duration": 4032,
    "start_time": "2022-08-15T12:54:22.833Z"
   },
   {
    "duration": 150,
    "start_time": "2022-08-15T12:55:22.990Z"
   },
   {
    "duration": 4263,
    "start_time": "2022-08-15T12:57:27.474Z"
   },
   {
    "duration": 2521,
    "start_time": "2022-08-15T13:01:00.317Z"
   },
   {
    "duration": 3954,
    "start_time": "2022-08-15T13:01:13.664Z"
   },
   {
    "duration": 3,
    "start_time": "2022-08-15T13:02:02.907Z"
   },
   {
    "duration": 833,
    "start_time": "2022-08-15T13:02:50.150Z"
   },
   {
    "duration": 847,
    "start_time": "2022-08-15T13:03:08.086Z"
   },
   {
    "duration": 869,
    "start_time": "2022-08-15T13:03:30.387Z"
   },
   {
    "duration": 819,
    "start_time": "2022-08-15T13:03:59.925Z"
   },
   {
    "duration": 575,
    "start_time": "2022-08-15T13:04:39.863Z"
   },
   {
    "duration": 39,
    "start_time": "2022-08-15T13:04:40.729Z"
   },
   {
    "duration": 3,
    "start_time": "2022-08-15T13:04:41.843Z"
   },
   {
    "duration": 2,
    "start_time": "2022-08-15T13:04:42.421Z"
   },
   {
    "duration": 4296,
    "start_time": "2022-08-15T13:04:43.401Z"
   },
   {
    "duration": 3977,
    "start_time": "2022-08-15T13:04:47.699Z"
   },
   {
    "duration": 4,
    "start_time": "2022-08-15T13:09:49.021Z"
   },
   {
    "duration": 3819,
    "start_time": "2022-08-15T13:10:02.747Z"
   },
   {
    "duration": 2,
    "start_time": "2022-08-15T13:11:03.073Z"
   },
   {
    "duration": 3880,
    "start_time": "2022-08-15T13:11:16.111Z"
   },
   {
    "duration": 3939,
    "start_time": "2022-08-15T13:11:29.002Z"
   },
   {
    "duration": 3940,
    "start_time": "2022-08-15T13:11:49.509Z"
   },
   {
    "duration": 3932,
    "start_time": "2022-08-15T13:12:06.915Z"
   },
   {
    "duration": 2,
    "start_time": "2022-08-15T13:13:12.012Z"
   },
   {
    "duration": 2,
    "start_time": "2022-08-15T13:13:12.467Z"
   },
   {
    "duration": 3881,
    "start_time": "2022-08-15T13:13:17.754Z"
   },
   {
    "duration": 835,
    "start_time": "2022-08-15T13:15:08.111Z"
   },
   {
    "duration": 3862,
    "start_time": "2022-08-15T13:15:14.993Z"
   },
   {
    "duration": 2,
    "start_time": "2022-08-15T13:17:15.477Z"
   },
   {
    "duration": 4345,
    "start_time": "2022-08-15T13:17:29.131Z"
   },
   {
    "duration": 2,
    "start_time": "2022-08-15T13:17:45.815Z"
   },
   {
    "duration": 3965,
    "start_time": "2022-08-15T13:17:54.347Z"
   },
   {
    "duration": 4184,
    "start_time": "2022-08-15T13:18:22.119Z"
   },
   {
    "duration": 3931,
    "start_time": "2022-08-15T13:19:16.925Z"
   },
   {
    "duration": 3911,
    "start_time": "2022-08-15T13:19:29.478Z"
   },
   {
    "duration": 582,
    "start_time": "2022-08-15T13:19:56.325Z"
   },
   {
    "duration": 466,
    "start_time": "2022-08-15T13:19:56.909Z"
   },
   {
    "duration": 122061,
    "start_time": "2022-08-15T13:19:58.183Z"
   },
   {
    "duration": 126,
    "start_time": "2022-08-15T13:22:00.248Z"
   },
   {
    "duration": 989,
    "start_time": "2022-08-15T13:23:50.614Z"
   },
   {
    "duration": 709,
    "start_time": "2022-08-15T13:23:51.605Z"
   },
   {
    "duration": 123,
    "start_time": "2022-08-15T13:23:52.316Z"
   },
   {
    "duration": 19,
    "start_time": "2022-08-15T13:23:52.441Z"
   },
   {
    "duration": 15,
    "start_time": "2022-08-15T13:23:52.463Z"
   },
   {
    "duration": 18,
    "start_time": "2022-08-15T13:23:52.480Z"
   },
   {
    "duration": 7,
    "start_time": "2022-08-15T13:23:52.500Z"
   },
   {
    "duration": 382,
    "start_time": "2022-08-15T13:23:52.509Z"
   },
   {
    "duration": 52,
    "start_time": "2022-08-15T13:23:52.893Z"
   },
   {
    "duration": 18,
    "start_time": "2022-08-15T13:23:52.947Z"
   },
   {
    "duration": 17,
    "start_time": "2022-08-15T13:23:52.967Z"
   },
   {
    "duration": 84,
    "start_time": "2022-08-15T13:23:52.985Z"
   },
   {
    "duration": 15,
    "start_time": "2022-08-15T13:23:53.071Z"
   },
   {
    "duration": 18,
    "start_time": "2022-08-15T13:23:53.089Z"
   },
   {
    "duration": 131,
    "start_time": "2022-08-15T13:23:53.109Z"
   },
   {
    "duration": 18,
    "start_time": "2022-08-15T13:23:53.242Z"
   },
   {
    "duration": 21,
    "start_time": "2022-08-15T13:23:53.261Z"
   },
   {
    "duration": 17,
    "start_time": "2022-08-15T13:23:53.284Z"
   },
   {
    "duration": 16,
    "start_time": "2022-08-15T13:23:53.302Z"
   },
   {
    "duration": 35,
    "start_time": "2022-08-15T13:23:53.319Z"
   },
   {
    "duration": 218,
    "start_time": "2022-08-15T13:23:53.355Z"
   },
   {
    "duration": 25,
    "start_time": "2022-08-15T13:23:53.575Z"
   },
   {
    "duration": 16,
    "start_time": "2022-08-15T13:23:53.602Z"
   },
   {
    "duration": 25,
    "start_time": "2022-08-15T13:23:53.619Z"
   },
   {
    "duration": 15,
    "start_time": "2022-08-15T13:23:53.646Z"
   },
   {
    "duration": 169,
    "start_time": "2022-08-15T13:23:53.663Z"
   },
   {
    "duration": 377,
    "start_time": "2022-08-15T13:23:53.837Z"
   },
   {
    "duration": 29,
    "start_time": "2022-08-15T13:23:54.216Z"
   },
   {
    "duration": 7,
    "start_time": "2022-08-15T13:23:54.247Z"
   },
   {
    "duration": 25,
    "start_time": "2022-08-15T13:23:54.255Z"
   },
   {
    "duration": 141,
    "start_time": "2022-08-15T13:23:54.281Z"
   },
   {
    "duration": 360,
    "start_time": "2022-08-15T13:23:54.424Z"
   },
   {
    "duration": 15,
    "start_time": "2022-08-15T13:23:54.786Z"
   },
   {
    "duration": 51,
    "start_time": "2022-08-15T13:23:54.802Z"
   },
   {
    "duration": 577,
    "start_time": "2022-08-15T13:23:54.855Z"
   },
   {
    "duration": 57,
    "start_time": "2022-08-15T13:23:55.434Z"
   },
   {
    "duration": 3,
    "start_time": "2022-08-15T13:23:55.493Z"
   },
   {
    "duration": 8,
    "start_time": "2022-08-15T13:23:55.498Z"
   },
   {
    "duration": 75,
    "start_time": "2022-08-15T13:23:55.508Z"
   },
   {
    "duration": 6,
    "start_time": "2022-08-15T13:23:55.585Z"
   },
   {
    "duration": 4382,
    "start_time": "2022-08-15T13:23:55.594Z"
   },
   {
    "duration": 3946,
    "start_time": "2022-08-15T13:23:59.978Z"
   },
   {
    "duration": 596,
    "start_time": "2022-08-15T13:24:03.925Z"
   },
   {
    "duration": 289,
    "start_time": "2022-08-15T13:24:04.522Z"
   },
   {
    "duration": 0,
    "start_time": "2022-08-15T13:24:04.813Z"
   },
   {
    "duration": 382,
    "start_time": "2022-08-15T13:24:44.792Z"
   },
   {
    "duration": 99088,
    "start_time": "2022-08-15T13:24:51.353Z"
   },
   {
    "duration": 102067,
    "start_time": "2022-08-15T13:26:54.877Z"
   },
   {
    "duration": 3,
    "start_time": "2022-08-15T13:32:05.254Z"
   },
   {
    "duration": 103,
    "start_time": "2022-08-15T13:33:17.914Z"
   },
   {
    "duration": 2261,
    "start_time": "2022-08-15T13:35:33.813Z"
   },
   {
    "duration": 3220,
    "start_time": "2022-08-15T13:36:04.246Z"
   },
   {
    "duration": 3206,
    "start_time": "2022-08-15T13:36:19.454Z"
   },
   {
    "duration": 9,
    "start_time": "2022-08-15T13:38:01.566Z"
   },
   {
    "duration": 4,
    "start_time": "2022-08-15T13:38:26.394Z"
   },
   {
    "duration": 15,
    "start_time": "2022-08-15T13:39:09.200Z"
   },
   {
    "duration": 17,
    "start_time": "2022-08-15T13:39:58.683Z"
   },
   {
    "duration": 2,
    "start_time": "2022-08-15T13:40:19.959Z"
   },
   {
    "duration": 1139,
    "start_time": "2022-08-15T13:40:21.876Z"
   },
   {
    "duration": 68,
    "start_time": "2022-08-15T13:40:34.758Z"
   },
   {
    "duration": 139,
    "start_time": "2022-08-15T13:41:27.500Z"
   },
   {
    "duration": 985,
    "start_time": "2022-08-15T13:41:36.140Z"
   },
   {
    "duration": 1019,
    "start_time": "2022-08-15T13:41:37.127Z"
   },
   {
    "duration": 116,
    "start_time": "2022-08-15T13:41:38.148Z"
   },
   {
    "duration": 18,
    "start_time": "2022-08-15T13:41:38.266Z"
   },
   {
    "duration": 20,
    "start_time": "2022-08-15T13:41:38.286Z"
   },
   {
    "duration": 30,
    "start_time": "2022-08-15T13:41:38.308Z"
   },
   {
    "duration": 6,
    "start_time": "2022-08-15T13:41:38.339Z"
   },
   {
    "duration": 333,
    "start_time": "2022-08-15T13:41:38.346Z"
   },
   {
    "duration": 47,
    "start_time": "2022-08-15T13:41:38.681Z"
   },
   {
    "duration": 17,
    "start_time": "2022-08-15T13:41:38.738Z"
   },
   {
    "duration": 19,
    "start_time": "2022-08-15T13:41:38.756Z"
   },
   {
    "duration": 77,
    "start_time": "2022-08-15T13:41:38.776Z"
   },
   {
    "duration": 14,
    "start_time": "2022-08-15T13:41:38.855Z"
   },
   {
    "duration": 18,
    "start_time": "2022-08-15T13:41:38.871Z"
   },
   {
    "duration": 163,
    "start_time": "2022-08-15T13:41:38.890Z"
   },
   {
    "duration": 23,
    "start_time": "2022-08-15T13:41:39.055Z"
   },
   {
    "duration": 25,
    "start_time": "2022-08-15T13:41:39.080Z"
   },
   {
    "duration": 33,
    "start_time": "2022-08-15T13:41:39.107Z"
   },
   {
    "duration": 15,
    "start_time": "2022-08-15T13:41:39.141Z"
   },
   {
    "duration": 21,
    "start_time": "2022-08-15T13:41:39.157Z"
   },
   {
    "duration": 226,
    "start_time": "2022-08-15T13:41:39.180Z"
   },
   {
    "duration": 33,
    "start_time": "2022-08-15T13:41:39.408Z"
   },
   {
    "duration": 13,
    "start_time": "2022-08-15T13:41:39.443Z"
   },
   {
    "duration": 8,
    "start_time": "2022-08-15T13:41:39.457Z"
   },
   {
    "duration": 17,
    "start_time": "2022-08-15T13:41:39.466Z"
   },
   {
    "duration": 157,
    "start_time": "2022-08-15T13:41:39.485Z"
   },
   {
    "duration": 363,
    "start_time": "2022-08-15T13:41:39.644Z"
   },
   {
    "duration": 14,
    "start_time": "2022-08-15T13:41:40.009Z"
   },
   {
    "duration": 6,
    "start_time": "2022-08-15T13:41:40.037Z"
   },
   {
    "duration": 23,
    "start_time": "2022-08-15T13:41:40.045Z"
   },
   {
    "duration": 132,
    "start_time": "2022-08-15T13:41:40.069Z"
   },
   {
    "duration": 383,
    "start_time": "2022-08-15T13:41:40.203Z"
   },
   {
    "duration": 13,
    "start_time": "2022-08-15T13:41:40.587Z"
   },
   {
    "duration": 43,
    "start_time": "2022-08-15T13:41:40.601Z"
   },
   {
    "duration": 556,
    "start_time": "2022-08-15T13:41:40.646Z"
   },
   {
    "duration": 61,
    "start_time": "2022-08-15T13:41:41.203Z"
   },
   {
    "duration": 2,
    "start_time": "2022-08-15T13:41:41.266Z"
   },
   {
    "duration": 6,
    "start_time": "2022-08-15T13:41:41.270Z"
   },
   {
    "duration": 5,
    "start_time": "2022-08-15T13:41:41.278Z"
   },
   {
    "duration": 2,
    "start_time": "2022-08-15T13:41:41.353Z"
   },
   {
    "duration": 4300,
    "start_time": "2022-08-15T13:41:41.359Z"
   },
   {
    "duration": 4087,
    "start_time": "2022-08-15T13:41:45.661Z"
   },
   {
    "duration": 600,
    "start_time": "2022-08-15T13:41:49.750Z"
   },
   {
    "duration": 490,
    "start_time": "2022-08-15T13:41:50.352Z"
   },
   {
    "duration": 951,
    "start_time": "2022-08-15T13:42:15.358Z"
   },
   {
    "duration": 721,
    "start_time": "2022-08-15T13:42:16.311Z"
   },
   {
    "duration": 118,
    "start_time": "2022-08-15T13:42:17.033Z"
   },
   {
    "duration": 18,
    "start_time": "2022-08-15T13:42:17.152Z"
   },
   {
    "duration": 17,
    "start_time": "2022-08-15T13:42:17.172Z"
   },
   {
    "duration": 26,
    "start_time": "2022-08-15T13:42:17.191Z"
   },
   {
    "duration": 19,
    "start_time": "2022-08-15T13:42:17.219Z"
   },
   {
    "duration": 335,
    "start_time": "2022-08-15T13:42:17.239Z"
   },
   {
    "duration": 45,
    "start_time": "2022-08-15T13:42:17.575Z"
   },
   {
    "duration": 24,
    "start_time": "2022-08-15T13:42:17.622Z"
   },
   {
    "duration": 22,
    "start_time": "2022-08-15T13:42:17.647Z"
   },
   {
    "duration": 77,
    "start_time": "2022-08-15T13:42:17.670Z"
   },
   {
    "duration": 14,
    "start_time": "2022-08-15T13:42:17.749Z"
   },
   {
    "duration": 17,
    "start_time": "2022-08-15T13:42:17.766Z"
   },
   {
    "duration": 124,
    "start_time": "2022-08-15T13:42:17.784Z"
   },
   {
    "duration": 18,
    "start_time": "2022-08-15T13:42:17.910Z"
   },
   {
    "duration": 17,
    "start_time": "2022-08-15T13:42:17.938Z"
   },
   {
    "duration": 17,
    "start_time": "2022-08-15T13:42:17.957Z"
   },
   {
    "duration": 17,
    "start_time": "2022-08-15T13:42:17.975Z"
   },
   {
    "duration": 18,
    "start_time": "2022-08-15T13:42:17.993Z"
   },
   {
    "duration": 232,
    "start_time": "2022-08-15T13:42:18.012Z"
   },
   {
    "duration": 26,
    "start_time": "2022-08-15T13:42:18.246Z"
   },
   {
    "duration": 15,
    "start_time": "2022-08-15T13:42:18.273Z"
   },
   {
    "duration": 9,
    "start_time": "2022-08-15T13:42:18.289Z"
   },
   {
    "duration": 42,
    "start_time": "2022-08-15T13:42:18.299Z"
   },
   {
    "duration": 148,
    "start_time": "2022-08-15T13:42:18.343Z"
   },
   {
    "duration": 334,
    "start_time": "2022-08-15T13:42:18.492Z"
   },
   {
    "duration": 21,
    "start_time": "2022-08-15T13:42:18.827Z"
   },
   {
    "duration": 5,
    "start_time": "2022-08-15T13:42:18.849Z"
   },
   {
    "duration": 23,
    "start_time": "2022-08-15T13:42:18.855Z"
   },
   {
    "duration": 170,
    "start_time": "2022-08-15T13:42:18.880Z"
   },
   {
    "duration": 371,
    "start_time": "2022-08-15T13:42:19.052Z"
   },
   {
    "duration": 19,
    "start_time": "2022-08-15T13:42:19.425Z"
   },
   {
    "duration": 21,
    "start_time": "2022-08-15T13:42:19.445Z"
   },
   {
    "duration": 536,
    "start_time": "2022-08-15T13:42:19.467Z"
   },
   {
    "duration": 52,
    "start_time": "2022-08-15T13:42:20.004Z"
   },
   {
    "duration": 2,
    "start_time": "2022-08-15T13:42:20.058Z"
   },
   {
    "duration": 6,
    "start_time": "2022-08-15T13:42:20.062Z"
   },
   {
    "duration": 12,
    "start_time": "2022-08-15T13:42:20.070Z"
   },
   {
    "duration": 6,
    "start_time": "2022-08-15T13:42:20.083Z"
   },
   {
    "duration": 4074,
    "start_time": "2022-08-15T13:42:20.092Z"
   },
   {
    "duration": 3772,
    "start_time": "2022-08-15T13:42:24.167Z"
   },
   {
    "duration": 602,
    "start_time": "2022-08-15T13:42:27.940Z"
   },
   {
    "duration": 482,
    "start_time": "2022-08-15T13:42:28.544Z"
   },
   {
    "duration": 106015,
    "start_time": "2022-08-15T13:42:29.028Z"
   },
   {
    "duration": 3254,
    "start_time": "2022-08-15T13:44:15.046Z"
   },
   {
    "duration": 3,
    "start_time": "2022-08-15T13:44:18.301Z"
   },
   {
    "duration": 1166,
    "start_time": "2022-08-15T13:44:18.305Z"
   },
   {
    "duration": 42,
    "start_time": "2022-08-15T13:45:04.604Z"
   },
   {
    "duration": 6,
    "start_time": "2022-08-15T13:45:04.953Z"
   },
   {
    "duration": 1098,
    "start_time": "2022-08-15T13:45:18.263Z"
   },
   {
    "duration": 973,
    "start_time": "2022-08-15T13:45:19.363Z"
   },
   {
    "duration": 114,
    "start_time": "2022-08-15T13:45:20.337Z"
   },
   {
    "duration": 18,
    "start_time": "2022-08-15T13:45:20.453Z"
   },
   {
    "duration": 19,
    "start_time": "2022-08-15T13:45:20.473Z"
   },
   {
    "duration": 21,
    "start_time": "2022-08-15T13:45:20.493Z"
   },
   {
    "duration": 7,
    "start_time": "2022-08-15T13:45:20.516Z"
   },
   {
    "duration": 333,
    "start_time": "2022-08-15T13:45:20.538Z"
   },
   {
    "duration": 47,
    "start_time": "2022-08-15T13:45:20.872Z"
   },
   {
    "duration": 29,
    "start_time": "2022-08-15T13:45:20.920Z"
   },
   {
    "duration": 15,
    "start_time": "2022-08-15T13:45:20.951Z"
   },
   {
    "duration": 80,
    "start_time": "2022-08-15T13:45:20.967Z"
   },
   {
    "duration": 14,
    "start_time": "2022-08-15T13:45:21.049Z"
   },
   {
    "duration": 18,
    "start_time": "2022-08-15T13:45:21.066Z"
   },
   {
    "duration": 127,
    "start_time": "2022-08-15T13:45:21.085Z"
   },
   {
    "duration": 26,
    "start_time": "2022-08-15T13:45:21.213Z"
   },
   {
    "duration": 17,
    "start_time": "2022-08-15T13:45:21.240Z"
   },
   {
    "duration": 17,
    "start_time": "2022-08-15T13:45:21.258Z"
   },
   {
    "duration": 18,
    "start_time": "2022-08-15T13:45:21.276Z"
   },
   {
    "duration": 18,
    "start_time": "2022-08-15T13:45:21.295Z"
   },
   {
    "duration": 229,
    "start_time": "2022-08-15T13:45:21.314Z"
   },
   {
    "duration": 27,
    "start_time": "2022-08-15T13:45:21.544Z"
   },
   {
    "duration": 13,
    "start_time": "2022-08-15T13:45:21.572Z"
   },
   {
    "duration": 7,
    "start_time": "2022-08-15T13:45:21.587Z"
   },
   {
    "duration": 16,
    "start_time": "2022-08-15T13:45:21.596Z"
   },
   {
    "duration": 162,
    "start_time": "2022-08-15T13:45:21.613Z"
   },
   {
    "duration": 337,
    "start_time": "2022-08-15T13:45:21.777Z"
   },
   {
    "duration": 24,
    "start_time": "2022-08-15T13:45:22.116Z"
   },
   {
    "duration": 5,
    "start_time": "2022-08-15T13:45:22.141Z"
   },
   {
    "duration": 20,
    "start_time": "2022-08-15T13:45:22.147Z"
   },
   {
    "duration": 131,
    "start_time": "2022-08-15T13:45:22.169Z"
   },
   {
    "duration": 341,
    "start_time": "2022-08-15T13:45:22.302Z"
   },
   {
    "duration": 12,
    "start_time": "2022-08-15T13:45:22.645Z"
   },
   {
    "duration": 22,
    "start_time": "2022-08-15T13:45:22.659Z"
   },
   {
    "duration": 566,
    "start_time": "2022-08-15T13:45:22.682Z"
   },
   {
    "duration": 49,
    "start_time": "2022-08-15T13:45:23.249Z"
   },
   {
    "duration": 3,
    "start_time": "2022-08-15T13:45:23.299Z"
   },
   {
    "duration": 6,
    "start_time": "2022-08-15T13:45:23.303Z"
   },
   {
    "duration": 4,
    "start_time": "2022-08-15T13:45:23.310Z"
   },
   {
    "duration": 5,
    "start_time": "2022-08-15T13:45:23.315Z"
   },
   {
    "duration": 4144,
    "start_time": "2022-08-15T13:45:23.323Z"
   },
   {
    "duration": 3829,
    "start_time": "2022-08-15T13:45:27.469Z"
   },
   {
    "duration": 642,
    "start_time": "2022-08-15T13:45:31.300Z"
   },
   {
    "duration": 463,
    "start_time": "2022-08-15T13:45:31.944Z"
   },
   {
    "duration": 103133,
    "start_time": "2022-08-15T13:45:32.408Z"
   },
   {
    "duration": 3231,
    "start_time": "2022-08-15T13:47:15.543Z"
   },
   {
    "duration": 3,
    "start_time": "2022-08-15T13:47:18.776Z"
   },
   {
    "duration": 1169,
    "start_time": "2022-08-15T13:47:18.781Z"
   },
   {
    "duration": 41,
    "start_time": "2022-08-15T13:50:05.177Z"
   },
   {
    "duration": 967,
    "start_time": "2022-08-15T13:50:13.053Z"
   },
   {
    "duration": 972,
    "start_time": "2022-08-15T13:50:14.021Z"
   },
   {
    "duration": 113,
    "start_time": "2022-08-15T13:50:14.994Z"
   },
   {
    "duration": 18,
    "start_time": "2022-08-15T13:50:15.109Z"
   },
   {
    "duration": 16,
    "start_time": "2022-08-15T13:50:15.138Z"
   },
   {
    "duration": 18,
    "start_time": "2022-08-15T13:50:15.155Z"
   },
   {
    "duration": 6,
    "start_time": "2022-08-15T13:50:15.175Z"
   },
   {
    "duration": 322,
    "start_time": "2022-08-15T13:50:15.183Z"
   },
   {
    "duration": 51,
    "start_time": "2022-08-15T13:50:15.506Z"
   },
   {
    "duration": 18,
    "start_time": "2022-08-15T13:50:15.559Z"
   },
   {
    "duration": 17,
    "start_time": "2022-08-15T13:50:15.578Z"
   },
   {
    "duration": 77,
    "start_time": "2022-08-15T13:50:15.597Z"
   },
   {
    "duration": 16,
    "start_time": "2022-08-15T13:50:15.676Z"
   },
   {
    "duration": 24,
    "start_time": "2022-08-15T13:50:15.694Z"
   },
   {
    "duration": 132,
    "start_time": "2022-08-15T13:50:15.720Z"
   },
   {
    "duration": 18,
    "start_time": "2022-08-15T13:50:15.854Z"
   },
   {
    "duration": 18,
    "start_time": "2022-08-15T13:50:15.874Z"
   },
   {
    "duration": 18,
    "start_time": "2022-08-15T13:50:15.893Z"
   },
   {
    "duration": 32,
    "start_time": "2022-08-15T13:50:15.912Z"
   },
   {
    "duration": 18,
    "start_time": "2022-08-15T13:50:15.946Z"
   },
   {
    "duration": 235,
    "start_time": "2022-08-15T13:50:15.965Z"
   },
   {
    "duration": 36,
    "start_time": "2022-08-15T13:50:16.202Z"
   },
   {
    "duration": 14,
    "start_time": "2022-08-15T13:50:16.240Z"
   },
   {
    "duration": 8,
    "start_time": "2022-08-15T13:50:16.256Z"
   },
   {
    "duration": 15,
    "start_time": "2022-08-15T13:50:16.265Z"
   },
   {
    "duration": 151,
    "start_time": "2022-08-15T13:50:16.282Z"
   },
   {
    "duration": 348,
    "start_time": "2022-08-15T13:50:16.434Z"
   },
   {
    "duration": 15,
    "start_time": "2022-08-15T13:50:16.785Z"
   },
   {
    "duration": 12,
    "start_time": "2022-08-15T13:50:16.801Z"
   },
   {
    "duration": 59,
    "start_time": "2022-08-15T13:50:16.814Z"
   },
   {
    "duration": 115,
    "start_time": "2022-08-15T13:50:16.875Z"
   },
   {
    "duration": 350,
    "start_time": "2022-08-15T13:50:16.991Z"
   },
   {
    "duration": 13,
    "start_time": "2022-08-15T13:50:17.342Z"
   },
   {
    "duration": 34,
    "start_time": "2022-08-15T13:50:17.356Z"
   },
   {
    "duration": 558,
    "start_time": "2022-08-15T13:50:17.392Z"
   },
   {
    "duration": 45,
    "start_time": "2022-08-15T13:50:17.952Z"
   },
   {
    "duration": 3,
    "start_time": "2022-08-15T13:50:17.998Z"
   },
   {
    "duration": 25,
    "start_time": "2022-08-15T13:50:18.002Z"
   },
   {
    "duration": 11,
    "start_time": "2022-08-15T13:50:18.029Z"
   },
   {
    "duration": 20,
    "start_time": "2022-08-15T13:50:18.041Z"
   },
   {
    "duration": 4176,
    "start_time": "2022-08-15T13:50:18.063Z"
   },
   {
    "duration": 3708,
    "start_time": "2022-08-15T13:50:22.240Z"
   },
   {
    "duration": 559,
    "start_time": "2022-08-15T13:50:25.949Z"
   },
   {
    "duration": 454,
    "start_time": "2022-08-15T13:50:26.510Z"
   },
   {
    "duration": 100872,
    "start_time": "2022-08-15T13:50:26.966Z"
   },
   {
    "duration": 102,
    "start_time": "2022-08-15T13:52:07.840Z"
   },
   {
    "duration": 0,
    "start_time": "2022-08-15T13:52:07.943Z"
   },
   {
    "duration": 0,
    "start_time": "2022-08-15T13:52:07.944Z"
   },
   {
    "duration": 0,
    "start_time": "2022-08-15T13:52:07.945Z"
   },
   {
    "duration": 0,
    "start_time": "2022-08-15T13:52:07.947Z"
   },
   {
    "duration": 2,
    "start_time": "2022-08-15T13:53:06.304Z"
   },
   {
    "duration": 3154,
    "start_time": "2022-08-15T13:53:07.640Z"
   },
   {
    "duration": 2,
    "start_time": "2022-08-15T13:53:10.796Z"
   },
   {
    "duration": 1134,
    "start_time": "2022-08-15T13:53:10.800Z"
   },
   {
    "duration": 44,
    "start_time": "2022-08-15T13:54:44.659Z"
   },
   {
    "duration": 1000,
    "start_time": "2022-08-15T13:55:03.466Z"
   },
   {
    "duration": 977,
    "start_time": "2022-08-15T13:55:04.468Z"
   },
   {
    "duration": 121,
    "start_time": "2022-08-15T13:55:05.446Z"
   },
   {
    "duration": 18,
    "start_time": "2022-08-15T13:55:05.569Z"
   },
   {
    "duration": 18,
    "start_time": "2022-08-15T13:55:05.588Z"
   },
   {
    "duration": 39,
    "start_time": "2022-08-15T13:55:05.607Z"
   },
   {
    "duration": 5,
    "start_time": "2022-08-15T13:55:05.648Z"
   },
   {
    "duration": 342,
    "start_time": "2022-08-15T13:55:05.654Z"
   },
   {
    "duration": 53,
    "start_time": "2022-08-15T13:55:05.997Z"
   },
   {
    "duration": 18,
    "start_time": "2022-08-15T13:55:06.053Z"
   },
   {
    "duration": 23,
    "start_time": "2022-08-15T13:55:06.072Z"
   },
   {
    "duration": 95,
    "start_time": "2022-08-15T13:55:06.097Z"
   },
   {
    "duration": 15,
    "start_time": "2022-08-15T13:55:06.193Z"
   },
   {
    "duration": 19,
    "start_time": "2022-08-15T13:55:06.210Z"
   },
   {
    "duration": 127,
    "start_time": "2022-08-15T13:55:06.237Z"
   },
   {
    "duration": 18,
    "start_time": "2022-08-15T13:55:06.365Z"
   },
   {
    "duration": 20,
    "start_time": "2022-08-15T13:55:06.385Z"
   },
   {
    "duration": 18,
    "start_time": "2022-08-15T13:55:06.406Z"
   },
   {
    "duration": 15,
    "start_time": "2022-08-15T13:55:06.438Z"
   },
   {
    "duration": 20,
    "start_time": "2022-08-15T13:55:06.455Z"
   },
   {
    "duration": 219,
    "start_time": "2022-08-15T13:55:06.476Z"
   },
   {
    "duration": 32,
    "start_time": "2022-08-15T13:55:06.697Z"
   },
   {
    "duration": 23,
    "start_time": "2022-08-15T13:55:06.731Z"
   },
   {
    "duration": 9,
    "start_time": "2022-08-15T13:55:06.755Z"
   },
   {
    "duration": 20,
    "start_time": "2022-08-15T13:55:06.766Z"
   },
   {
    "duration": 163,
    "start_time": "2022-08-15T13:55:06.788Z"
   },
   {
    "duration": 414,
    "start_time": "2022-08-15T13:55:06.953Z"
   },
   {
    "duration": 14,
    "start_time": "2022-08-15T13:55:07.370Z"
   },
   {
    "duration": 4,
    "start_time": "2022-08-15T13:55:07.386Z"
   },
   {
    "duration": 20,
    "start_time": "2022-08-15T13:55:07.392Z"
   },
   {
    "duration": 156,
    "start_time": "2022-08-15T13:55:07.413Z"
   },
   {
    "duration": 375,
    "start_time": "2022-08-15T13:55:07.570Z"
   },
   {
    "duration": 12,
    "start_time": "2022-08-15T13:55:07.947Z"
   },
   {
    "duration": 22,
    "start_time": "2022-08-15T13:55:07.961Z"
   },
   {
    "duration": 560,
    "start_time": "2022-08-15T13:55:07.985Z"
   },
   {
    "duration": 47,
    "start_time": "2022-08-15T13:55:08.546Z"
   },
   {
    "duration": 3,
    "start_time": "2022-08-15T13:55:08.594Z"
   },
   {
    "duration": 12,
    "start_time": "2022-08-15T13:55:08.598Z"
   },
   {
    "duration": 7,
    "start_time": "2022-08-15T13:55:08.611Z"
   },
   {
    "duration": 7,
    "start_time": "2022-08-15T13:55:08.620Z"
   },
   {
    "duration": 4268,
    "start_time": "2022-08-15T13:55:08.629Z"
   },
   {
    "duration": 3776,
    "start_time": "2022-08-15T13:55:12.899Z"
   },
   {
    "duration": 563,
    "start_time": "2022-08-15T13:55:16.677Z"
   },
   {
    "duration": 470,
    "start_time": "2022-08-15T13:55:17.242Z"
   },
   {
    "duration": 104228,
    "start_time": "2022-08-15T13:55:17.714Z"
   },
   {
    "duration": 94,
    "start_time": "2022-08-15T13:57:01.944Z"
   },
   {
    "duration": 3066,
    "start_time": "2022-08-15T13:57:02.040Z"
   },
   {
    "duration": 3,
    "start_time": "2022-08-15T13:57:05.108Z"
   },
   {
    "duration": 1129,
    "start_time": "2022-08-15T13:57:05.112Z"
   },
   {
    "duration": 40,
    "start_time": "2022-08-15T14:00:20.413Z"
   },
   {
    "duration": 986,
    "start_time": "2022-08-15T14:01:07.835Z"
   },
   {
    "duration": 1044,
    "start_time": "2022-08-15T14:01:08.822Z"
   },
   {
    "duration": 115,
    "start_time": "2022-08-15T14:01:09.868Z"
   },
   {
    "duration": 18,
    "start_time": "2022-08-15T14:01:09.984Z"
   },
   {
    "duration": 21,
    "start_time": "2022-08-15T14:01:10.004Z"
   },
   {
    "duration": 25,
    "start_time": "2022-08-15T14:01:10.026Z"
   },
   {
    "duration": 6,
    "start_time": "2022-08-15T14:01:10.052Z"
   },
   {
    "duration": 357,
    "start_time": "2022-08-15T14:01:10.060Z"
   },
   {
    "duration": 48,
    "start_time": "2022-08-15T14:01:10.419Z"
   },
   {
    "duration": 17,
    "start_time": "2022-08-15T14:01:10.469Z"
   },
   {
    "duration": 18,
    "start_time": "2022-08-15T14:01:10.488Z"
   },
   {
    "duration": 80,
    "start_time": "2022-08-15T14:01:10.508Z"
   },
   {
    "duration": 15,
    "start_time": "2022-08-15T14:01:10.589Z"
   },
   {
    "duration": 17,
    "start_time": "2022-08-15T14:01:10.606Z"
   },
   {
    "duration": 131,
    "start_time": "2022-08-15T14:01:10.625Z"
   },
   {
    "duration": 18,
    "start_time": "2022-08-15T14:01:10.757Z"
   },
   {
    "duration": 20,
    "start_time": "2022-08-15T14:01:10.776Z"
   },
   {
    "duration": 17,
    "start_time": "2022-08-15T14:01:10.798Z"
   },
   {
    "duration": 27,
    "start_time": "2022-08-15T14:01:10.816Z"
   },
   {
    "duration": 18,
    "start_time": "2022-08-15T14:01:10.844Z"
   },
   {
    "duration": 219,
    "start_time": "2022-08-15T14:01:10.863Z"
   },
   {
    "duration": 26,
    "start_time": "2022-08-15T14:01:11.084Z"
   },
   {
    "duration": 28,
    "start_time": "2022-08-15T14:01:11.112Z"
   },
   {
    "duration": 8,
    "start_time": "2022-08-15T14:01:11.141Z"
   },
   {
    "duration": 17,
    "start_time": "2022-08-15T14:01:11.151Z"
   },
   {
    "duration": 148,
    "start_time": "2022-08-15T14:01:11.170Z"
   },
   {
    "duration": 340,
    "start_time": "2022-08-15T14:01:11.320Z"
   },
   {
    "duration": 15,
    "start_time": "2022-08-15T14:01:11.661Z"
   },
   {
    "duration": 6,
    "start_time": "2022-08-15T14:01:11.677Z"
   },
   {
    "duration": 26,
    "start_time": "2022-08-15T14:01:11.684Z"
   },
   {
    "duration": 136,
    "start_time": "2022-08-15T14:01:11.711Z"
   },
   {
    "duration": 346,
    "start_time": "2022-08-15T14:01:11.848Z"
   },
   {
    "duration": 17,
    "start_time": "2022-08-15T14:01:12.196Z"
   },
   {
    "duration": 30,
    "start_time": "2022-08-15T14:01:12.214Z"
   },
   {
    "duration": 535,
    "start_time": "2022-08-15T14:01:12.246Z"
   },
   {
    "duration": 56,
    "start_time": "2022-08-15T14:01:12.782Z"
   },
   {
    "duration": 3,
    "start_time": "2022-08-15T14:01:12.840Z"
   },
   {
    "duration": 6,
    "start_time": "2022-08-15T14:01:12.844Z"
   },
   {
    "duration": 6,
    "start_time": "2022-08-15T14:01:12.851Z"
   },
   {
    "duration": 5,
    "start_time": "2022-08-15T14:01:12.858Z"
   },
   {
    "duration": 4094,
    "start_time": "2022-08-15T14:01:12.865Z"
   },
   {
    "duration": 3761,
    "start_time": "2022-08-15T14:01:16.961Z"
   },
   {
    "duration": 621,
    "start_time": "2022-08-15T14:01:20.724Z"
   },
   {
    "duration": 451,
    "start_time": "2022-08-15T14:01:21.346Z"
   },
   {
    "duration": 1090,
    "start_time": "2022-08-15T14:03:08.665Z"
   },
   {
    "duration": 754,
    "start_time": "2022-08-15T14:03:09.758Z"
   },
   {
    "duration": 140,
    "start_time": "2022-08-15T14:03:10.514Z"
   },
   {
    "duration": 18,
    "start_time": "2022-08-15T14:03:10.655Z"
   },
   {
    "duration": 22,
    "start_time": "2022-08-15T14:03:10.675Z"
   },
   {
    "duration": 26,
    "start_time": "2022-08-15T14:03:10.698Z"
   },
   {
    "duration": 13,
    "start_time": "2022-08-15T14:03:10.726Z"
   },
   {
    "duration": 407,
    "start_time": "2022-08-15T14:03:10.741Z"
   },
   {
    "duration": 52,
    "start_time": "2022-08-15T14:03:11.149Z"
   },
   {
    "duration": 17,
    "start_time": "2022-08-15T14:03:11.202Z"
   },
   {
    "duration": 47,
    "start_time": "2022-08-15T14:03:11.221Z"
   },
   {
    "duration": 70,
    "start_time": "2022-08-15T14:03:11.269Z"
   },
   {
    "duration": 19,
    "start_time": "2022-08-15T14:03:11.341Z"
   },
   {
    "duration": 19,
    "start_time": "2022-08-15T14:03:11.362Z"
   },
   {
    "duration": 136,
    "start_time": "2022-08-15T14:03:11.383Z"
   },
   {
    "duration": 30,
    "start_time": "2022-08-15T14:03:11.520Z"
   },
   {
    "duration": 21,
    "start_time": "2022-08-15T14:03:11.552Z"
   },
   {
    "duration": 16,
    "start_time": "2022-08-15T14:03:11.575Z"
   },
   {
    "duration": 20,
    "start_time": "2022-08-15T14:03:11.593Z"
   },
   {
    "duration": 37,
    "start_time": "2022-08-15T14:03:11.614Z"
   },
   {
    "duration": 244,
    "start_time": "2022-08-15T14:03:11.653Z"
   },
   {
    "duration": 27,
    "start_time": "2022-08-15T14:03:11.898Z"
   },
   {
    "duration": 24,
    "start_time": "2022-08-15T14:03:11.926Z"
   },
   {
    "duration": 10,
    "start_time": "2022-08-15T14:03:11.952Z"
   },
   {
    "duration": 20,
    "start_time": "2022-08-15T14:03:11.963Z"
   },
   {
    "duration": 147,
    "start_time": "2022-08-15T14:03:11.984Z"
   },
   {
    "duration": 361,
    "start_time": "2022-08-15T14:03:12.149Z"
   },
   {
    "duration": 14,
    "start_time": "2022-08-15T14:03:12.512Z"
   },
   {
    "duration": 16,
    "start_time": "2022-08-15T14:03:12.527Z"
   },
   {
    "duration": 32,
    "start_time": "2022-08-15T14:03:12.545Z"
   },
   {
    "duration": 126,
    "start_time": "2022-08-15T14:03:12.579Z"
   },
   {
    "duration": 379,
    "start_time": "2022-08-15T14:03:12.707Z"
   },
   {
    "duration": 12,
    "start_time": "2022-08-15T14:03:13.087Z"
   },
   {
    "duration": 37,
    "start_time": "2022-08-15T14:03:13.101Z"
   },
   {
    "duration": 586,
    "start_time": "2022-08-15T14:03:13.140Z"
   },
   {
    "duration": 55,
    "start_time": "2022-08-15T14:03:13.728Z"
   },
   {
    "duration": 3,
    "start_time": "2022-08-15T14:03:13.784Z"
   },
   {
    "duration": 22,
    "start_time": "2022-08-15T14:03:13.788Z"
   },
   {
    "duration": 55,
    "start_time": "2022-08-15T14:03:13.811Z"
   },
   {
    "duration": 30,
    "start_time": "2022-08-15T14:03:13.867Z"
   },
   {
    "duration": 4409,
    "start_time": "2022-08-15T14:03:13.900Z"
   },
   {
    "duration": 4042,
    "start_time": "2022-08-15T14:03:18.310Z"
   },
   {
    "duration": 669,
    "start_time": "2022-08-15T14:03:22.353Z"
   },
   {
    "duration": 499,
    "start_time": "2022-08-15T14:03:23.023Z"
   },
   {
    "duration": 112922,
    "start_time": "2022-08-15T14:03:23.524Z"
   },
   {
    "duration": 90,
    "start_time": "2022-08-15T14:05:16.448Z"
   },
   {
    "duration": 65,
    "start_time": "2022-08-15T14:05:16.540Z"
   },
   {
    "duration": 0,
    "start_time": "2022-08-15T14:05:16.607Z"
   },
   {
    "duration": 0,
    "start_time": "2022-08-15T14:05:16.608Z"
   },
   {
    "duration": 0,
    "start_time": "2022-08-15T14:05:16.610Z"
   },
   {
    "duration": 0,
    "start_time": "2022-08-15T14:05:16.611Z"
   },
   {
    "duration": 100,
    "start_time": "2022-08-15T14:05:25.339Z"
   },
   {
    "duration": 9,
    "start_time": "2022-08-15T14:06:09.811Z"
   },
   {
    "duration": 5,
    "start_time": "2022-08-15T14:06:30.884Z"
   },
   {
    "duration": 3244,
    "start_time": "2022-08-15T14:06:31.924Z"
   },
   {
    "duration": 3,
    "start_time": "2022-08-15T14:06:35.169Z"
   },
   {
    "duration": 1213,
    "start_time": "2022-08-15T14:06:35.174Z"
   },
   {
    "duration": 3218,
    "start_time": "2022-08-15T14:09:28.971Z"
   },
   {
    "duration": 1160,
    "start_time": "2022-08-15T14:09:42.376Z"
   },
   {
    "duration": 1053,
    "start_time": "2022-08-15T14:09:43.538Z"
   },
   {
    "duration": 132,
    "start_time": "2022-08-15T14:09:44.593Z"
   },
   {
    "duration": 35,
    "start_time": "2022-08-15T14:09:44.727Z"
   },
   {
    "duration": 29,
    "start_time": "2022-08-15T14:09:44.763Z"
   },
   {
    "duration": 35,
    "start_time": "2022-08-15T14:09:44.794Z"
   },
   {
    "duration": 19,
    "start_time": "2022-08-15T14:09:44.831Z"
   },
   {
    "duration": 389,
    "start_time": "2022-08-15T14:09:44.851Z"
   },
   {
    "duration": 48,
    "start_time": "2022-08-15T14:09:45.241Z"
   },
   {
    "duration": 18,
    "start_time": "2022-08-15T14:09:45.291Z"
   },
   {
    "duration": 34,
    "start_time": "2022-08-15T14:09:45.311Z"
   },
   {
    "duration": 68,
    "start_time": "2022-08-15T14:09:45.347Z"
   },
   {
    "duration": 25,
    "start_time": "2022-08-15T14:09:45.416Z"
   },
   {
    "duration": 38,
    "start_time": "2022-08-15T14:09:45.444Z"
   },
   {
    "duration": 121,
    "start_time": "2022-08-15T14:09:45.483Z"
   },
   {
    "duration": 18,
    "start_time": "2022-08-15T14:09:45.606Z"
   },
   {
    "duration": 26,
    "start_time": "2022-08-15T14:09:45.626Z"
   },
   {
    "duration": 17,
    "start_time": "2022-08-15T14:09:45.654Z"
   },
   {
    "duration": 20,
    "start_time": "2022-08-15T14:09:45.673Z"
   },
   {
    "duration": 22,
    "start_time": "2022-08-15T14:09:45.695Z"
   },
   {
    "duration": 217,
    "start_time": "2022-08-15T14:09:45.739Z"
   },
   {
    "duration": 25,
    "start_time": "2022-08-15T14:09:45.958Z"
   },
   {
    "duration": 14,
    "start_time": "2022-08-15T14:09:45.985Z"
   },
   {
    "duration": 9,
    "start_time": "2022-08-15T14:09:46.000Z"
   },
   {
    "duration": 39,
    "start_time": "2022-08-15T14:09:46.010Z"
   },
   {
    "duration": 150,
    "start_time": "2022-08-15T14:09:46.051Z"
   },
   {
    "duration": 400,
    "start_time": "2022-08-15T14:09:46.202Z"
   },
   {
    "duration": 16,
    "start_time": "2022-08-15T14:09:46.604Z"
   },
   {
    "duration": 22,
    "start_time": "2022-08-15T14:09:46.621Z"
   },
   {
    "duration": 40,
    "start_time": "2022-08-15T14:09:46.644Z"
   },
   {
    "duration": 126,
    "start_time": "2022-08-15T14:09:46.686Z"
   },
   {
    "duration": 385,
    "start_time": "2022-08-15T14:09:46.814Z"
   },
   {
    "duration": 12,
    "start_time": "2022-08-15T14:09:47.200Z"
   },
   {
    "duration": 45,
    "start_time": "2022-08-15T14:09:47.214Z"
   },
   {
    "duration": 545,
    "start_time": "2022-08-15T14:09:47.261Z"
   },
   {
    "duration": 54,
    "start_time": "2022-08-15T14:09:47.808Z"
   },
   {
    "duration": 4,
    "start_time": "2022-08-15T14:09:47.866Z"
   },
   {
    "duration": 13,
    "start_time": "2022-08-15T14:09:47.871Z"
   },
   {
    "duration": 7,
    "start_time": "2022-08-15T14:09:47.885Z"
   },
   {
    "duration": 5,
    "start_time": "2022-08-15T14:09:47.893Z"
   },
   {
    "duration": 4375,
    "start_time": "2022-08-15T14:09:47.902Z"
   },
   {
    "duration": 3856,
    "start_time": "2022-08-15T14:09:52.279Z"
   },
   {
    "duration": 646,
    "start_time": "2022-08-15T14:09:56.138Z"
   },
   {
    "duration": 471,
    "start_time": "2022-08-15T14:09:56.786Z"
   },
   {
    "duration": 163180,
    "start_time": "2022-08-15T14:09:57.259Z"
   },
   {
    "duration": 7,
    "start_time": "2022-08-15T14:12:40.442Z"
   },
   {
    "duration": 99,
    "start_time": "2022-08-15T14:12:40.451Z"
   },
   {
    "duration": 2090,
    "start_time": "2022-08-15T14:12:40.552Z"
   },
   {
    "duration": 3175,
    "start_time": "2022-08-15T14:12:42.644Z"
   },
   {
    "duration": 4,
    "start_time": "2022-08-15T14:12:45.820Z"
   },
   {
    "duration": 1152,
    "start_time": "2022-08-15T14:12:45.825Z"
   },
   {
    "duration": 859,
    "start_time": "2022-08-15T14:13:39.640Z"
   },
   {
    "duration": 958,
    "start_time": "2022-08-15T14:13:47.650Z"
   },
   {
    "duration": 2081,
    "start_time": "2022-08-15T14:13:55.584Z"
   },
   {
    "duration": 1068,
    "start_time": "2022-08-15T14:20:26.988Z"
   },
   {
    "duration": 1168,
    "start_time": "2022-08-15T14:20:28.059Z"
   },
   {
    "duration": 125,
    "start_time": "2022-08-15T14:20:29.228Z"
   },
   {
    "duration": 19,
    "start_time": "2022-08-15T14:20:29.355Z"
   },
   {
    "duration": 19,
    "start_time": "2022-08-15T14:20:29.375Z"
   },
   {
    "duration": 43,
    "start_time": "2022-08-15T14:20:29.395Z"
   },
   {
    "duration": 70,
    "start_time": "2022-08-15T14:20:29.440Z"
   },
   {
    "duration": 402,
    "start_time": "2022-08-15T14:20:29.512Z"
   },
   {
    "duration": 54,
    "start_time": "2022-08-15T14:20:29.915Z"
   },
   {
    "duration": 19,
    "start_time": "2022-08-15T14:20:29.972Z"
   },
   {
    "duration": 23,
    "start_time": "2022-08-15T14:20:29.993Z"
   },
   {
    "duration": 100,
    "start_time": "2022-08-15T14:20:30.018Z"
   },
   {
    "duration": 22,
    "start_time": "2022-08-15T14:20:30.120Z"
   },
   {
    "duration": 42,
    "start_time": "2022-08-15T14:20:30.143Z"
   },
   {
    "duration": 167,
    "start_time": "2022-08-15T14:20:30.187Z"
   },
   {
    "duration": 20,
    "start_time": "2022-08-15T14:20:30.356Z"
   },
   {
    "duration": 60,
    "start_time": "2022-08-15T14:20:30.377Z"
   },
   {
    "duration": 36,
    "start_time": "2022-08-15T14:20:30.438Z"
   },
   {
    "duration": 25,
    "start_time": "2022-08-15T14:20:30.476Z"
   },
   {
    "duration": 106,
    "start_time": "2022-08-15T14:20:30.504Z"
   },
   {
    "duration": 267,
    "start_time": "2022-08-15T14:20:30.613Z"
   },
   {
    "duration": 26,
    "start_time": "2022-08-15T14:20:30.884Z"
   },
   {
    "duration": 34,
    "start_time": "2022-08-15T14:20:30.912Z"
   },
   {
    "duration": 12,
    "start_time": "2022-08-15T14:20:30.948Z"
   },
   {
    "duration": 41,
    "start_time": "2022-08-15T14:20:30.961Z"
   },
   {
    "duration": 166,
    "start_time": "2022-08-15T14:20:31.004Z"
   },
   {
    "duration": 367,
    "start_time": "2022-08-15T14:20:31.173Z"
   },
   {
    "duration": 16,
    "start_time": "2022-08-15T14:20:31.543Z"
   },
   {
    "duration": 7,
    "start_time": "2022-08-15T14:20:31.561Z"
   },
   {
    "duration": 33,
    "start_time": "2022-08-15T14:20:31.570Z"
   },
   {
    "duration": 142,
    "start_time": "2022-08-15T14:20:31.605Z"
   },
   {
    "duration": 364,
    "start_time": "2022-08-15T14:20:31.748Z"
   },
   {
    "duration": 14,
    "start_time": "2022-08-15T14:20:32.113Z"
   },
   {
    "duration": 23,
    "start_time": "2022-08-15T14:20:32.138Z"
   },
   {
    "duration": 569,
    "start_time": "2022-08-15T14:20:32.162Z"
   },
   {
    "duration": 64,
    "start_time": "2022-08-15T14:20:32.732Z"
   },
   {
    "duration": 3,
    "start_time": "2022-08-15T14:20:32.798Z"
   },
   {
    "duration": 9,
    "start_time": "2022-08-15T14:20:32.802Z"
   },
   {
    "duration": 5,
    "start_time": "2022-08-15T14:20:32.812Z"
   },
   {
    "duration": 7,
    "start_time": "2022-08-15T14:20:32.818Z"
   },
   {
    "duration": 4408,
    "start_time": "2022-08-15T14:20:32.827Z"
   },
   {
    "duration": 4000,
    "start_time": "2022-08-15T14:20:37.238Z"
   },
   {
    "duration": 673,
    "start_time": "2022-08-15T14:20:41.240Z"
   },
   {
    "duration": 462,
    "start_time": "2022-08-15T14:20:41.914Z"
   },
   {
    "duration": 209775,
    "start_time": "2022-08-15T14:20:42.378Z"
   },
   {
    "duration": 4,
    "start_time": "2022-08-15T14:24:12.237Z"
   },
   {
    "duration": 19,
    "start_time": "2022-08-15T14:24:12.243Z"
   },
   {
    "duration": 5,
    "start_time": "2022-08-15T14:24:12.263Z"
   },
   {
    "duration": 3158,
    "start_time": "2022-08-15T14:24:12.270Z"
   },
   {
    "duration": 3,
    "start_time": "2022-08-15T14:24:15.429Z"
   },
   {
    "duration": 1190,
    "start_time": "2022-08-15T14:24:15.439Z"
   },
   {
    "duration": 47,
    "start_time": "2022-08-15T18:33:31.193Z"
   },
   {
    "duration": 1135,
    "start_time": "2022-08-15T18:33:42.096Z"
   },
   {
    "duration": 4030,
    "start_time": "2022-08-15T18:33:43.233Z"
   },
   {
    "duration": 154,
    "start_time": "2022-08-15T18:33:47.267Z"
   },
   {
    "duration": 21,
    "start_time": "2022-08-15T18:33:47.423Z"
   },
   {
    "duration": 47,
    "start_time": "2022-08-15T18:33:47.447Z"
   },
   {
    "duration": 58,
    "start_time": "2022-08-15T18:33:47.496Z"
   },
   {
    "duration": 59,
    "start_time": "2022-08-15T18:33:47.564Z"
   },
   {
    "duration": 644,
    "start_time": "2022-08-15T18:33:47.625Z"
   },
   {
    "duration": 62,
    "start_time": "2022-08-15T18:33:48.270Z"
   },
   {
    "duration": 42,
    "start_time": "2022-08-15T18:33:48.334Z"
   },
   {
    "duration": 40,
    "start_time": "2022-08-15T18:33:48.377Z"
   },
   {
    "duration": 82,
    "start_time": "2022-08-15T18:33:48.419Z"
   },
   {
    "duration": 13,
    "start_time": "2022-08-15T18:33:48.505Z"
   },
   {
    "duration": 26,
    "start_time": "2022-08-15T18:33:48.521Z"
   },
   {
    "duration": 157,
    "start_time": "2022-08-15T18:33:48.549Z"
   },
   {
    "duration": 33,
    "start_time": "2022-08-15T18:33:48.708Z"
   },
   {
    "duration": 42,
    "start_time": "2022-08-15T18:33:48.743Z"
   },
   {
    "duration": 32,
    "start_time": "2022-08-15T18:33:48.790Z"
   },
   {
    "duration": 15,
    "start_time": "2022-08-15T18:33:48.824Z"
   },
   {
    "duration": 27,
    "start_time": "2022-08-15T18:33:48.840Z"
   },
   {
    "duration": 289,
    "start_time": "2022-08-15T18:33:48.871Z"
   },
   {
    "duration": 31,
    "start_time": "2022-08-15T18:33:49.162Z"
   },
   {
    "duration": 24,
    "start_time": "2022-08-15T18:33:49.195Z"
   },
   {
    "duration": 9,
    "start_time": "2022-08-15T18:33:49.221Z"
   },
   {
    "duration": 35,
    "start_time": "2022-08-15T18:33:49.232Z"
   },
   {
    "duration": 162,
    "start_time": "2022-08-15T18:33:49.269Z"
   },
   {
    "duration": 422,
    "start_time": "2022-08-15T18:33:49.433Z"
   },
   {
    "duration": 21,
    "start_time": "2022-08-15T18:33:49.866Z"
   },
   {
    "duration": 23,
    "start_time": "2022-08-15T18:33:49.888Z"
   },
   {
    "duration": 22,
    "start_time": "2022-08-15T18:33:49.912Z"
   },
   {
    "duration": 149,
    "start_time": "2022-08-15T18:33:49.936Z"
   },
   {
    "duration": 480,
    "start_time": "2022-08-15T18:33:50.094Z"
   },
   {
    "duration": 16,
    "start_time": "2022-08-15T18:33:50.575Z"
   },
   {
    "duration": 39,
    "start_time": "2022-08-15T18:33:50.593Z"
   },
   {
    "duration": 639,
    "start_time": "2022-08-15T18:33:50.633Z"
   },
   {
    "duration": 60,
    "start_time": "2022-08-15T18:33:51.282Z"
   },
   {
    "duration": 3,
    "start_time": "2022-08-15T18:33:51.344Z"
   },
   {
    "duration": 6,
    "start_time": "2022-08-15T18:33:51.348Z"
   },
   {
    "duration": 46,
    "start_time": "2022-08-15T18:33:51.355Z"
   },
   {
    "duration": 5,
    "start_time": "2022-08-15T18:33:51.403Z"
   },
   {
    "duration": 4693,
    "start_time": "2022-08-15T18:33:51.412Z"
   },
   {
    "duration": 4463,
    "start_time": "2022-08-15T18:33:56.107Z"
   },
   {
    "duration": 687,
    "start_time": "2022-08-15T18:34:00.572Z"
   },
   {
    "duration": 492,
    "start_time": "2022-08-15T18:34:01.271Z"
   },
   {
    "duration": 1227,
    "start_time": "2022-08-15T18:38:52.271Z"
   },
   {
    "duration": 871,
    "start_time": "2022-08-15T18:38:53.503Z"
   },
   {
    "duration": 135,
    "start_time": "2022-08-15T18:38:54.379Z"
   },
   {
    "duration": 20,
    "start_time": "2022-08-15T18:38:54.517Z"
   },
   {
    "duration": 34,
    "start_time": "2022-08-15T18:38:54.539Z"
   },
   {
    "duration": 51,
    "start_time": "2022-08-15T18:38:54.575Z"
   },
   {
    "duration": 27,
    "start_time": "2022-08-15T18:38:54.628Z"
   },
   {
    "duration": 508,
    "start_time": "2022-08-15T18:38:54.657Z"
   },
   {
    "duration": 60,
    "start_time": "2022-08-15T18:38:55.167Z"
   },
   {
    "duration": 17,
    "start_time": "2022-08-15T18:38:55.230Z"
   },
   {
    "duration": 35,
    "start_time": "2022-08-15T18:38:55.248Z"
   },
   {
    "duration": 126,
    "start_time": "2022-08-15T18:38:55.286Z"
   },
   {
    "duration": 23,
    "start_time": "2022-08-15T18:38:55.414Z"
   },
   {
    "duration": 33,
    "start_time": "2022-08-15T18:38:55.440Z"
   },
   {
    "duration": 192,
    "start_time": "2022-08-15T18:38:55.479Z"
   },
   {
    "duration": 32,
    "start_time": "2022-08-15T18:38:55.672Z"
   },
   {
    "duration": 31,
    "start_time": "2022-08-15T18:38:55.708Z"
   },
   {
    "duration": 41,
    "start_time": "2022-08-15T18:38:55.741Z"
   },
   {
    "duration": 60,
    "start_time": "2022-08-15T18:38:55.784Z"
   },
   {
    "duration": 38,
    "start_time": "2022-08-15T18:38:55.845Z"
   },
   {
    "duration": 277,
    "start_time": "2022-08-15T18:38:55.884Z"
   },
   {
    "duration": 31,
    "start_time": "2022-08-15T18:38:56.162Z"
   },
   {
    "duration": 49,
    "start_time": "2022-08-15T18:38:56.195Z"
   },
   {
    "duration": 21,
    "start_time": "2022-08-15T18:38:56.246Z"
   },
   {
    "duration": 37,
    "start_time": "2022-08-15T18:38:56.273Z"
   },
   {
    "duration": 160,
    "start_time": "2022-08-15T18:38:56.313Z"
   },
   {
    "duration": 597,
    "start_time": "2022-08-15T18:38:56.474Z"
   },
   {
    "duration": 34,
    "start_time": "2022-08-15T18:38:57.079Z"
   },
   {
    "duration": 85,
    "start_time": "2022-08-15T18:38:57.119Z"
   },
   {
    "duration": 43,
    "start_time": "2022-08-15T18:38:57.209Z"
   },
   {
    "duration": 172,
    "start_time": "2022-08-15T18:38:57.262Z"
   },
   {
    "duration": 621,
    "start_time": "2022-08-15T18:38:57.439Z"
   },
   {
    "duration": 21,
    "start_time": "2022-08-15T18:38:58.064Z"
   },
   {
    "duration": 81,
    "start_time": "2022-08-15T18:38:58.089Z"
   },
   {
    "duration": 691,
    "start_time": "2022-08-15T18:38:58.180Z"
   },
   {
    "duration": 62,
    "start_time": "2022-08-15T18:38:58.876Z"
   },
   {
    "duration": 4,
    "start_time": "2022-08-15T18:38:58.939Z"
   },
   {
    "duration": 6,
    "start_time": "2022-08-15T18:38:58.944Z"
   },
   {
    "duration": 15,
    "start_time": "2022-08-15T18:38:58.951Z"
   },
   {
    "duration": 50,
    "start_time": "2022-08-15T18:38:58.968Z"
   },
   {
    "duration": 5261,
    "start_time": "2022-08-15T18:38:59.020Z"
   },
   {
    "duration": 5122,
    "start_time": "2022-08-15T18:39:04.289Z"
   },
   {
    "duration": 708,
    "start_time": "2022-08-15T18:39:09.412Z"
   },
   {
    "duration": 517,
    "start_time": "2022-08-15T18:39:10.127Z"
   },
   {
    "duration": 416713,
    "start_time": "2022-08-15T18:39:10.645Z"
   },
   {
    "duration": 39,
    "start_time": "2022-08-15T18:46:07.364Z"
   },
   {
    "duration": 3350,
    "start_time": "2022-08-15T18:46:07.459Z"
   },
   {
    "duration": 8,
    "start_time": "2022-08-15T18:46:10.814Z"
   },
   {
    "duration": 1571,
    "start_time": "2022-08-15T18:46:10.826Z"
   },
   {
    "duration": 4,
    "start_time": "2022-08-15T18:46:12.399Z"
   },
   {
    "duration": 50,
    "start_time": "2022-08-15T18:46:44.571Z"
   },
   {
    "duration": 26,
    "start_time": "2022-08-15T18:47:00.682Z"
   },
   {
    "duration": 47,
    "start_time": "2022-08-15T18:47:11.539Z"
   },
   {
    "duration": 25,
    "start_time": "2022-08-15T18:47:24.693Z"
   },
   {
    "duration": 5,
    "start_time": "2022-08-15T18:47:39.989Z"
   },
   {
    "duration": 39,
    "start_time": "2022-08-15T18:47:56.820Z"
   },
   {
    "duration": 30,
    "start_time": "2022-08-15T18:48:01.660Z"
   },
   {
    "duration": 150,
    "start_time": "2022-08-15T18:48:15.784Z"
   },
   {
    "duration": 44,
    "start_time": "2022-08-15T18:48:21.004Z"
   },
   {
    "duration": 2341,
    "start_time": "2022-08-15T18:50:18.985Z"
   },
   {
    "duration": 15,
    "start_time": "2022-08-15T18:50:51.360Z"
   },
   {
    "duration": 34,
    "start_time": "2022-08-15T18:50:58.989Z"
   },
   {
    "duration": 120,
    "start_time": "2022-08-15T18:52:29.208Z"
   },
   {
    "duration": 1682,
    "start_time": "2022-08-15T18:54:15.812Z"
   },
   {
    "duration": 4351,
    "start_time": "2022-08-15T18:54:17.497Z"
   },
   {
    "duration": 140,
    "start_time": "2022-08-15T18:54:21.849Z"
   },
   {
    "duration": 44,
    "start_time": "2022-08-15T18:54:21.993Z"
   },
   {
    "duration": 30,
    "start_time": "2022-08-15T18:54:22.039Z"
   },
   {
    "duration": 50,
    "start_time": "2022-08-15T18:54:22.078Z"
   },
   {
    "duration": 5,
    "start_time": "2022-08-15T18:54:22.130Z"
   },
   {
    "duration": 445,
    "start_time": "2022-08-15T18:54:22.137Z"
   },
   {
    "duration": 56,
    "start_time": "2022-08-15T18:54:22.585Z"
   },
   {
    "duration": 38,
    "start_time": "2022-08-15T18:54:22.643Z"
   },
   {
    "duration": 47,
    "start_time": "2022-08-15T18:54:22.682Z"
   },
   {
    "duration": 106,
    "start_time": "2022-08-15T18:54:22.731Z"
   },
   {
    "duration": 27,
    "start_time": "2022-08-15T18:54:22.840Z"
   },
   {
    "duration": 55,
    "start_time": "2022-08-15T18:54:22.870Z"
   },
   {
    "duration": 162,
    "start_time": "2022-08-15T18:54:22.927Z"
   },
   {
    "duration": 33,
    "start_time": "2022-08-15T18:54:23.090Z"
   },
   {
    "duration": 35,
    "start_time": "2022-08-15T18:54:23.124Z"
   },
   {
    "duration": 77,
    "start_time": "2022-08-15T18:54:23.161Z"
   },
   {
    "duration": 33,
    "start_time": "2022-08-15T18:54:23.239Z"
   },
   {
    "duration": 60,
    "start_time": "2022-08-15T18:54:23.273Z"
   },
   {
    "duration": 286,
    "start_time": "2022-08-15T18:54:23.334Z"
   },
   {
    "duration": 33,
    "start_time": "2022-08-15T18:54:23.622Z"
   },
   {
    "duration": 22,
    "start_time": "2022-08-15T18:54:23.657Z"
   },
   {
    "duration": 51,
    "start_time": "2022-08-15T18:54:23.683Z"
   },
   {
    "duration": 39,
    "start_time": "2022-08-15T18:54:23.736Z"
   },
   {
    "duration": 189,
    "start_time": "2022-08-15T18:54:23.777Z"
   },
   {
    "duration": 497,
    "start_time": "2022-08-15T18:54:23.967Z"
   },
   {
    "duration": 23,
    "start_time": "2022-08-15T18:54:24.470Z"
   },
   {
    "duration": 42,
    "start_time": "2022-08-15T18:54:24.497Z"
   },
   {
    "duration": 40,
    "start_time": "2022-08-15T18:54:24.540Z"
   },
   {
    "duration": 164,
    "start_time": "2022-08-15T18:54:24.590Z"
   },
   {
    "duration": 500,
    "start_time": "2022-08-15T18:54:24.766Z"
   },
   {
    "duration": 22,
    "start_time": "2022-08-15T18:54:25.272Z"
   },
   {
    "duration": 67,
    "start_time": "2022-08-15T18:54:25.309Z"
   },
   {
    "duration": 686,
    "start_time": "2022-08-15T18:54:25.381Z"
   },
   {
    "duration": 105,
    "start_time": "2022-08-15T18:54:26.071Z"
   },
   {
    "duration": 3,
    "start_time": "2022-08-15T18:54:26.179Z"
   },
   {
    "duration": 45,
    "start_time": "2022-08-15T18:54:26.183Z"
   },
   {
    "duration": 9,
    "start_time": "2022-08-15T18:54:26.230Z"
   },
   {
    "duration": 9,
    "start_time": "2022-08-15T18:54:26.241Z"
   },
   {
    "duration": 5416,
    "start_time": "2022-08-15T18:54:26.255Z"
   },
   {
    "duration": 4901,
    "start_time": "2022-08-15T18:54:31.680Z"
   },
   {
    "duration": 799,
    "start_time": "2022-08-15T18:54:36.588Z"
   },
   {
    "duration": 537,
    "start_time": "2022-08-15T18:54:37.397Z"
   },
   {
    "duration": 416428,
    "start_time": "2022-08-15T18:54:37.936Z"
   },
   {
    "duration": 151,
    "start_time": "2022-08-15T19:01:34.372Z"
   },
   {
    "duration": 30,
    "start_time": "2022-08-15T19:01:34.528Z"
   },
   {
    "duration": 4,
    "start_time": "2022-08-15T19:01:34.564Z"
   },
   {
    "duration": 68,
    "start_time": "2022-08-15T19:01:34.574Z"
   },
   {
    "duration": 5,
    "start_time": "2022-08-15T19:01:34.645Z"
   },
   {
    "duration": 15,
    "start_time": "2022-08-15T19:02:02.606Z"
   },
   {
    "duration": 801,
    "start_time": "2022-08-15T19:03:19.612Z"
   },
   {
    "duration": 1696,
    "start_time": "2022-08-15T19:03:29.131Z"
   },
   {
    "duration": 42,
    "start_time": "2022-08-15T19:04:27.189Z"
   },
   {
    "duration": 966,
    "start_time": "2022-08-15T19:04:39.432Z"
   },
   {
    "duration": 1532,
    "start_time": "2022-08-15T19:04:57.913Z"
   },
   {
    "duration": 147,
    "start_time": "2022-08-15T19:05:33.976Z"
   },
   {
    "duration": 164,
    "start_time": "2022-08-15T19:05:47.908Z"
   },
   {
    "duration": 194,
    "start_time": "2022-08-15T19:05:52.994Z"
   },
   {
    "duration": 290,
    "start_time": "2022-08-15T19:06:17.835Z"
   },
   {
    "duration": 270,
    "start_time": "2022-08-15T19:06:23.407Z"
   },
   {
    "duration": 71,
    "start_time": "2022-08-15T19:06:26.911Z"
   },
   {
    "duration": 42,
    "start_time": "2022-08-15T19:06:39.482Z"
   },
   {
    "duration": 81,
    "start_time": "2022-08-15T19:06:40.385Z"
   },
   {
    "duration": 117,
    "start_time": "2022-08-15T19:06:58.647Z"
   },
   {
    "duration": 575,
    "start_time": "2022-08-15T19:07:21.139Z"
   },
   {
    "duration": 1027,
    "start_time": "2022-08-16T12:06:38.061Z"
   },
   {
    "duration": 3670,
    "start_time": "2022-08-16T12:06:40.742Z"
   },
   {
    "duration": 186,
    "start_time": "2022-08-16T12:06:45.391Z"
   },
   {
    "duration": 19,
    "start_time": "2022-08-16T12:06:46.882Z"
   },
   {
    "duration": 22,
    "start_time": "2022-08-16T12:06:47.522Z"
   },
   {
    "duration": 29,
    "start_time": "2022-08-16T12:06:48.436Z"
   },
   {
    "duration": 6,
    "start_time": "2022-08-16T12:06:49.076Z"
   },
   {
    "duration": 596,
    "start_time": "2022-08-16T12:06:49.626Z"
   },
   {
    "duration": 66,
    "start_time": "2022-08-16T12:06:50.841Z"
   },
   {
    "duration": 23,
    "start_time": "2022-08-16T12:06:51.295Z"
   },
   {
    "duration": 22,
    "start_time": "2022-08-16T12:06:51.717Z"
   },
   {
    "duration": 80,
    "start_time": "2022-08-16T12:06:52.452Z"
   },
   {
    "duration": 21,
    "start_time": "2022-08-16T12:06:52.730Z"
   },
   {
    "duration": 24,
    "start_time": "2022-08-16T12:06:53.192Z"
   },
   {
    "duration": 126,
    "start_time": "2022-08-16T12:06:53.625Z"
   },
   {
    "duration": 19,
    "start_time": "2022-08-16T12:06:54.046Z"
   },
   {
    "duration": 24,
    "start_time": "2022-08-16T12:06:54.481Z"
   },
   {
    "duration": 24,
    "start_time": "2022-08-16T12:06:54.699Z"
   },
   {
    "duration": 28,
    "start_time": "2022-08-16T12:06:54.892Z"
   },
   {
    "duration": 24,
    "start_time": "2022-08-16T12:06:55.322Z"
   },
   {
    "duration": 230,
    "start_time": "2022-08-16T12:06:55.748Z"
   },
   {
    "duration": 35,
    "start_time": "2022-08-16T12:06:56.165Z"
   },
   {
    "duration": 14,
    "start_time": "2022-08-16T12:06:56.603Z"
   },
   {
    "duration": 9,
    "start_time": "2022-08-16T12:06:57.031Z"
   },
   {
    "duration": 18,
    "start_time": "2022-08-16T12:06:57.437Z"
   },
   {
    "duration": 138,
    "start_time": "2022-08-16T12:06:57.852Z"
   },
   {
    "duration": 347,
    "start_time": "2022-08-16T12:06:58.043Z"
   },
   {
    "duration": 23,
    "start_time": "2022-08-16T12:06:58.392Z"
   },
   {
    "duration": 6,
    "start_time": "2022-08-16T12:06:58.667Z"
   },
   {
    "duration": 21,
    "start_time": "2022-08-16T12:06:58.896Z"
   },
   {
    "duration": 121,
    "start_time": "2022-08-16T12:06:59.320Z"
   },
   {
    "duration": 428,
    "start_time": "2022-08-16T12:06:59.526Z"
   },
   {
    "duration": 14,
    "start_time": "2022-08-16T12:06:59.955Z"
   },
   {
    "duration": 25,
    "start_time": "2022-08-16T12:07:00.159Z"
   },
   {
    "duration": 511,
    "start_time": "2022-08-16T12:07:01.209Z"
   },
   {
    "duration": 53,
    "start_time": "2022-08-16T12:07:01.722Z"
   },
   {
    "duration": 3,
    "start_time": "2022-08-16T12:07:02.113Z"
   },
   {
    "duration": 3,
    "start_time": "2022-08-16T12:07:02.336Z"
   },
   {
    "duration": 3,
    "start_time": "2022-08-16T12:07:02.774Z"
   },
   {
    "duration": 2,
    "start_time": "2022-08-16T12:07:02.992Z"
   },
   {
    "duration": 4385,
    "start_time": "2022-08-16T12:07:03.439Z"
   },
   {
    "duration": 4280,
    "start_time": "2022-08-16T12:07:07.826Z"
   },
   {
    "duration": 648,
    "start_time": "2022-08-16T12:07:12.108Z"
   },
   {
    "duration": 501,
    "start_time": "2022-08-16T12:07:12.758Z"
   },
   {
    "duration": 99245,
    "start_time": "2022-08-16T12:07:13.261Z"
   },
   {
    "duration": 357,
    "start_time": "2022-08-16T12:08:52.507Z"
   },
   {
    "duration": 24,
    "start_time": "2022-08-16T12:08:52.866Z"
   },
   {
    "duration": 55,
    "start_time": "2022-08-16T12:08:52.892Z"
   },
   {
    "duration": 414,
    "start_time": "2022-08-16T12:08:52.949Z"
   },
   {
    "duration": 108846,
    "start_time": "2022-08-16T12:08:53.366Z"
   },
   {
    "duration": 31,
    "start_time": "2022-08-16T12:13:20.730Z"
   },
   {
    "duration": 5,
    "start_time": "2022-08-16T12:14:05.206Z"
   },
   {
    "duration": 30,
    "start_time": "2022-08-16T12:14:21.001Z"
   },
   {
    "duration": 27,
    "start_time": "2022-08-16T12:16:59.398Z"
   },
   {
    "duration": 53,
    "start_time": "2022-08-16T12:24:21.279Z"
   },
   {
    "duration": 1006,
    "start_time": "2022-08-16T12:40:45.599Z"
   },
   {
    "duration": 3721,
    "start_time": "2022-08-16T12:40:52.781Z"
   },
   {
    "duration": 3754,
    "start_time": "2022-08-16T12:41:19.875Z"
   },
   {
    "duration": 3,
    "start_time": "2022-08-16T12:42:17.418Z"
   },
   {
    "duration": 466292,
    "start_time": "2022-08-16T12:51:53.689Z"
   },
   {
    "duration": 1366,
    "start_time": "2022-08-16T13:00:09.179Z"
   },
   {
    "duration": 897,
    "start_time": "2022-08-16T13:00:10.547Z"
   },
   {
    "duration": 122,
    "start_time": "2022-08-16T13:00:11.446Z"
   },
   {
    "duration": 30,
    "start_time": "2022-08-16T13:00:11.570Z"
   },
   {
    "duration": 22,
    "start_time": "2022-08-16T13:00:11.607Z"
   },
   {
    "duration": 21,
    "start_time": "2022-08-16T13:00:11.631Z"
   },
   {
    "duration": 8,
    "start_time": "2022-08-16T13:00:11.654Z"
   },
   {
    "duration": 366,
    "start_time": "2022-08-16T13:00:11.664Z"
   },
   {
    "duration": 57,
    "start_time": "2022-08-16T13:00:12.031Z"
   },
   {
    "duration": 40,
    "start_time": "2022-08-16T13:00:12.089Z"
   },
   {
    "duration": 39,
    "start_time": "2022-08-16T13:00:12.130Z"
   },
   {
    "duration": 80,
    "start_time": "2022-08-16T13:00:12.171Z"
   },
   {
    "duration": 13,
    "start_time": "2022-08-16T13:00:12.253Z"
   },
   {
    "duration": 22,
    "start_time": "2022-08-16T13:00:12.268Z"
   },
   {
    "duration": 141,
    "start_time": "2022-08-16T13:00:12.291Z"
   },
   {
    "duration": 19,
    "start_time": "2022-08-16T13:00:12.434Z"
   },
   {
    "duration": 42,
    "start_time": "2022-08-16T13:00:12.454Z"
   },
   {
    "duration": 29,
    "start_time": "2022-08-16T13:00:12.498Z"
   },
   {
    "duration": 24,
    "start_time": "2022-08-16T13:00:12.528Z"
   },
   {
    "duration": 30,
    "start_time": "2022-08-16T13:00:12.554Z"
   },
   {
    "duration": 290,
    "start_time": "2022-08-16T13:00:12.586Z"
   },
   {
    "duration": 42,
    "start_time": "2022-08-16T13:00:12.878Z"
   },
   {
    "duration": 18,
    "start_time": "2022-08-16T13:00:12.921Z"
   },
   {
    "duration": 11,
    "start_time": "2022-08-16T13:00:12.940Z"
   },
   {
    "duration": 26,
    "start_time": "2022-08-16T13:00:12.953Z"
   },
   {
    "duration": 196,
    "start_time": "2022-08-16T13:00:12.981Z"
   },
   {
    "duration": 455,
    "start_time": "2022-08-16T13:00:13.179Z"
   },
   {
    "duration": 16,
    "start_time": "2022-08-16T13:00:13.636Z"
   },
   {
    "duration": 6,
    "start_time": "2022-08-16T13:00:13.653Z"
   },
   {
    "duration": 24,
    "start_time": "2022-08-16T13:00:13.660Z"
   },
   {
    "duration": 171,
    "start_time": "2022-08-16T13:00:13.686Z"
   },
   {
    "duration": 488,
    "start_time": "2022-08-16T13:00:13.859Z"
   },
   {
    "duration": 14,
    "start_time": "2022-08-16T13:00:14.349Z"
   },
   {
    "duration": 24,
    "start_time": "2022-08-16T13:00:14.364Z"
   },
   {
    "duration": 580,
    "start_time": "2022-08-16T13:00:14.389Z"
   },
   {
    "duration": 74,
    "start_time": "2022-08-16T13:00:14.970Z"
   },
   {
    "duration": 2,
    "start_time": "2022-08-16T13:00:15.046Z"
   },
   {
    "duration": 14,
    "start_time": "2022-08-16T13:00:15.050Z"
   },
   {
    "duration": 10,
    "start_time": "2022-08-16T13:00:15.066Z"
   },
   {
    "duration": 10,
    "start_time": "2022-08-16T13:00:15.078Z"
   },
   {
    "duration": 4559,
    "start_time": "2022-08-16T13:00:15.092Z"
   },
   {
    "duration": 4282,
    "start_time": "2022-08-16T13:00:19.652Z"
   },
   {
    "duration": 694,
    "start_time": "2022-08-16T13:00:23.936Z"
   },
   {
    "duration": 485,
    "start_time": "2022-08-16T13:00:24.632Z"
   },
   {
    "duration": 59265,
    "start_time": "2022-08-16T13:00:25.119Z"
   },
   {
    "duration": 268,
    "start_time": "2022-08-16T13:01:24.385Z"
   },
   {
    "duration": 27,
    "start_time": "2022-08-16T13:01:24.655Z"
   },
   {
    "duration": 65,
    "start_time": "2022-08-16T13:01:24.684Z"
   },
   {
    "duration": 441,
    "start_time": "2022-08-16T13:01:24.751Z"
   },
   {
    "duration": 1205,
    "start_time": "2022-08-16T13:02:26.058Z"
   },
   {
    "duration": 896,
    "start_time": "2022-08-16T13:02:27.265Z"
   },
   {
    "duration": 117,
    "start_time": "2022-08-16T13:02:28.163Z"
   },
   {
    "duration": 41,
    "start_time": "2022-08-16T13:02:28.281Z"
   },
   {
    "duration": 41,
    "start_time": "2022-08-16T13:02:28.323Z"
   },
   {
    "duration": 31,
    "start_time": "2022-08-16T13:02:28.365Z"
   },
   {
    "duration": 34,
    "start_time": "2022-08-16T13:02:28.397Z"
   },
   {
    "duration": 357,
    "start_time": "2022-08-16T13:02:28.433Z"
   },
   {
    "duration": 63,
    "start_time": "2022-08-16T13:02:28.792Z"
   },
   {
    "duration": 19,
    "start_time": "2022-08-16T13:02:28.858Z"
   },
   {
    "duration": 44,
    "start_time": "2022-08-16T13:02:28.879Z"
   },
   {
    "duration": 105,
    "start_time": "2022-08-16T13:02:28.924Z"
   },
   {
    "duration": 14,
    "start_time": "2022-08-16T13:02:29.031Z"
   },
   {
    "duration": 44,
    "start_time": "2022-08-16T13:02:29.047Z"
   },
   {
    "duration": 177,
    "start_time": "2022-08-16T13:02:29.093Z"
   },
   {
    "duration": 19,
    "start_time": "2022-08-16T13:02:29.271Z"
   },
   {
    "duration": 53,
    "start_time": "2022-08-16T13:02:29.291Z"
   },
   {
    "duration": 32,
    "start_time": "2022-08-16T13:02:29.346Z"
   },
   {
    "duration": 56,
    "start_time": "2022-08-16T13:02:29.379Z"
   },
   {
    "duration": 40,
    "start_time": "2022-08-16T13:02:29.436Z"
   },
   {
    "duration": 284,
    "start_time": "2022-08-16T13:02:29.478Z"
   },
   {
    "duration": 49,
    "start_time": "2022-08-16T13:02:29.763Z"
   },
   {
    "duration": 22,
    "start_time": "2022-08-16T13:02:29.814Z"
   },
   {
    "duration": 30,
    "start_time": "2022-08-16T13:02:29.837Z"
   },
   {
    "duration": 52,
    "start_time": "2022-08-16T13:02:29.868Z"
   },
   {
    "duration": 175,
    "start_time": "2022-08-16T13:02:29.921Z"
   },
   {
    "duration": 458,
    "start_time": "2022-08-16T13:02:30.098Z"
   },
   {
    "duration": 19,
    "start_time": "2022-08-16T13:02:30.560Z"
   },
   {
    "duration": 35,
    "start_time": "2022-08-16T13:02:30.581Z"
   },
   {
    "duration": 47,
    "start_time": "2022-08-16T13:02:30.618Z"
   },
   {
    "duration": 167,
    "start_time": "2022-08-16T13:02:30.667Z"
   },
   {
    "duration": 539,
    "start_time": "2022-08-16T13:02:30.836Z"
   },
   {
    "duration": 31,
    "start_time": "2022-08-16T13:02:31.377Z"
   },
   {
    "duration": 48,
    "start_time": "2022-08-16T13:02:31.410Z"
   },
   {
    "duration": 570,
    "start_time": "2022-08-16T13:02:31.459Z"
   },
   {
    "duration": 68,
    "start_time": "2022-08-16T13:02:32.031Z"
   },
   {
    "duration": 13,
    "start_time": "2022-08-16T13:02:32.108Z"
   },
   {
    "duration": 33,
    "start_time": "2022-08-16T13:02:32.122Z"
   },
   {
    "duration": 31,
    "start_time": "2022-08-16T13:02:32.156Z"
   },
   {
    "duration": 40,
    "start_time": "2022-08-16T13:02:32.188Z"
   },
   {
    "duration": 4689,
    "start_time": "2022-08-16T13:02:32.229Z"
   },
   {
    "duration": 4237,
    "start_time": "2022-08-16T13:02:36.920Z"
   },
   {
    "duration": 716,
    "start_time": "2022-08-16T13:02:41.158Z"
   },
   {
    "duration": 488,
    "start_time": "2022-08-16T13:02:41.876Z"
   },
   {
    "duration": 235341,
    "start_time": "2022-08-16T13:02:42.366Z"
   },
   {
    "duration": 364,
    "start_time": "2022-08-16T13:06:37.711Z"
   },
   {
    "duration": 33,
    "start_time": "2022-08-16T13:06:38.076Z"
   },
   {
    "duration": 50,
    "start_time": "2022-08-16T13:06:38.111Z"
   },
   {
    "duration": 410,
    "start_time": "2022-08-16T13:06:38.163Z"
   },
   {
    "duration": 100537,
    "start_time": "2022-08-16T13:06:38.575Z"
   },
   {
    "duration": 94,
    "start_time": "2022-08-16T13:08:19.114Z"
   },
   {
    "duration": 4652,
    "start_time": "2022-08-16T13:25:48.944Z"
   },
   {
    "duration": 4414,
    "start_time": "2022-08-16T13:26:03.592Z"
   },
   {
    "duration": 7852,
    "start_time": "2022-08-16T13:26:19.459Z"
   },
   {
    "duration": 5970,
    "start_time": "2022-08-16T13:26:34.848Z"
   },
   {
    "duration": 4432,
    "start_time": "2022-08-16T13:26:48.495Z"
   },
   {
    "duration": 4993,
    "start_time": "2022-08-16T13:26:58.635Z"
   },
   {
    "duration": 8453,
    "start_time": "2022-08-16T13:27:09.153Z"
   },
   {
    "duration": 4061,
    "start_time": "2022-08-16T13:27:21.962Z"
   },
   {
    "duration": 73,
    "start_time": "2022-08-16T13:27:37.200Z"
   },
   {
    "duration": 36344,
    "start_time": "2022-08-16T13:27:47.278Z"
   },
   {
    "duration": 29923,
    "start_time": "2022-08-16T13:29:38.492Z"
   },
   {
    "duration": 2106201,
    "start_time": "2022-08-16T13:30:17.014Z"
   },
   {
    "duration": 268,
    "start_time": "2022-08-16T14:27:20.278Z"
   },
   {
    "duration": 26,
    "start_time": "2022-08-16T14:27:21.421Z"
   },
   {
    "duration": 51,
    "start_time": "2022-08-16T14:27:23.674Z"
   },
   {
    "duration": 400,
    "start_time": "2022-08-16T14:27:26.122Z"
   },
   {
    "duration": 138227,
    "start_time": "2022-08-16T14:27:32.880Z"
   },
   {
    "duration": 1174,
    "start_time": "2022-08-16T14:49:12.884Z"
   },
   {
    "duration": 804,
    "start_time": "2022-08-16T14:49:14.061Z"
   },
   {
    "duration": 133,
    "start_time": "2022-08-16T14:49:14.866Z"
   },
   {
    "duration": 34,
    "start_time": "2022-08-16T14:49:15.001Z"
   },
   {
    "duration": 14,
    "start_time": "2022-08-16T14:49:15.039Z"
   },
   {
    "duration": 18,
    "start_time": "2022-08-16T14:49:15.055Z"
   },
   {
    "duration": 8,
    "start_time": "2022-08-16T14:49:15.075Z"
   },
   {
    "duration": 351,
    "start_time": "2022-08-16T14:49:15.084Z"
   },
   {
    "duration": 55,
    "start_time": "2022-08-16T14:49:15.436Z"
   },
   {
    "duration": 32,
    "start_time": "2022-08-16T14:49:15.493Z"
   },
   {
    "duration": 24,
    "start_time": "2022-08-16T14:49:15.527Z"
   },
   {
    "duration": 74,
    "start_time": "2022-08-16T14:49:15.552Z"
   },
   {
    "duration": 15,
    "start_time": "2022-08-16T14:49:15.628Z"
   },
   {
    "duration": 16,
    "start_time": "2022-08-16T14:49:15.647Z"
   },
   {
    "duration": 145,
    "start_time": "2022-08-16T14:49:15.664Z"
   },
   {
    "duration": 25,
    "start_time": "2022-08-16T14:49:15.813Z"
   },
   {
    "duration": 19,
    "start_time": "2022-08-16T14:49:15.839Z"
   },
   {
    "duration": 17,
    "start_time": "2022-08-16T14:49:15.859Z"
   },
   {
    "duration": 30,
    "start_time": "2022-08-16T14:49:15.877Z"
   },
   {
    "duration": 41,
    "start_time": "2022-08-16T14:49:15.908Z"
   },
   {
    "duration": 244,
    "start_time": "2022-08-16T14:49:15.951Z"
   },
   {
    "duration": 44,
    "start_time": "2022-08-16T14:49:16.197Z"
   },
   {
    "duration": 23,
    "start_time": "2022-08-16T14:49:16.243Z"
   },
   {
    "duration": 17,
    "start_time": "2022-08-16T14:49:16.268Z"
   },
   {
    "duration": 32,
    "start_time": "2022-08-16T14:49:16.287Z"
   },
   {
    "duration": 194,
    "start_time": "2022-08-16T14:49:16.324Z"
   },
   {
    "duration": 422,
    "start_time": "2022-08-16T14:49:16.524Z"
   },
   {
    "duration": 16,
    "start_time": "2022-08-16T14:49:16.948Z"
   },
   {
    "duration": 6,
    "start_time": "2022-08-16T14:49:16.965Z"
   },
   {
    "duration": 43,
    "start_time": "2022-08-16T14:49:16.972Z"
   },
   {
    "duration": 133,
    "start_time": "2022-08-16T14:49:17.024Z"
   },
   {
    "duration": 430,
    "start_time": "2022-08-16T14:49:17.158Z"
   },
   {
    "duration": 31,
    "start_time": "2022-08-16T14:49:17.589Z"
   },
   {
    "duration": 30,
    "start_time": "2022-08-16T14:49:17.621Z"
   },
   {
    "duration": 611,
    "start_time": "2022-08-16T14:49:17.653Z"
   },
   {
    "duration": 60,
    "start_time": "2022-08-16T14:49:18.265Z"
   },
   {
    "duration": 4,
    "start_time": "2022-08-16T14:49:18.327Z"
   },
   {
    "duration": 8,
    "start_time": "2022-08-16T14:49:18.332Z"
   },
   {
    "duration": 7,
    "start_time": "2022-08-16T14:49:18.342Z"
   },
   {
    "duration": 4,
    "start_time": "2022-08-16T14:49:18.351Z"
   },
   {
    "duration": 4536,
    "start_time": "2022-08-16T14:49:18.358Z"
   },
   {
    "duration": 4224,
    "start_time": "2022-08-16T14:49:22.895Z"
   },
   {
    "duration": 690,
    "start_time": "2022-08-16T14:49:27.120Z"
   },
   {
    "duration": 495,
    "start_time": "2022-08-16T14:49:27.812Z"
   },
   {
    "duration": 311716,
    "start_time": "2022-08-16T14:49:28.308Z"
   },
   {
    "duration": 414,
    "start_time": "2022-08-16T14:54:40.026Z"
   },
   {
    "duration": 21,
    "start_time": "2022-08-16T14:54:40.442Z"
   },
   {
    "duration": 63,
    "start_time": "2022-08-16T14:54:40.465Z"
   },
   {
    "duration": 441,
    "start_time": "2022-08-16T14:54:40.531Z"
   },
   {
    "duration": 188437,
    "start_time": "2022-08-16T14:54:40.973Z"
   },
   {
    "duration": 2773303,
    "start_time": "2022-08-16T14:57:49.412Z"
   },
   {
    "duration": 198893,
    "start_time": "2022-08-16T15:44:02.716Z"
   },
   {
    "duration": 47,
    "start_time": "2022-08-16T16:48:25.395Z"
   },
   {
    "duration": 409660,
    "start_time": "2022-08-16T16:49:55.748Z"
   },
   {
    "duration": 50,
    "start_time": "2022-08-16T16:57:25.118Z"
   },
   {
    "duration": 411649,
    "start_time": "2022-08-16T16:57:54.105Z"
   },
   {
    "duration": 311506,
    "start_time": "2022-08-16T17:18:31.264Z"
   },
   {
    "duration": 1208,
    "start_time": "2022-08-18T10:52:29.967Z"
   },
   {
    "duration": 1025,
    "start_time": "2022-08-18T10:52:31.176Z"
   },
   {
    "duration": 115,
    "start_time": "2022-08-18T10:52:32.202Z"
   },
   {
    "duration": 19,
    "start_time": "2022-08-18T10:52:32.319Z"
   },
   {
    "duration": 30,
    "start_time": "2022-08-18T10:52:32.340Z"
   },
   {
    "duration": 38,
    "start_time": "2022-08-18T10:52:32.372Z"
   },
   {
    "duration": 8,
    "start_time": "2022-08-18T10:52:32.412Z"
   },
   {
    "duration": 518,
    "start_time": "2022-08-18T10:52:32.421Z"
   },
   {
    "duration": 58,
    "start_time": "2022-08-18T10:52:32.940Z"
   },
   {
    "duration": 17,
    "start_time": "2022-08-18T10:52:33.010Z"
   },
   {
    "duration": 57,
    "start_time": "2022-08-18T10:52:33.028Z"
   },
   {
    "duration": 73,
    "start_time": "2022-08-18T10:52:33.086Z"
   },
   {
    "duration": 14,
    "start_time": "2022-08-18T10:52:33.161Z"
   },
   {
    "duration": 35,
    "start_time": "2022-08-18T10:52:33.176Z"
   },
   {
    "duration": 122,
    "start_time": "2022-08-18T10:52:33.213Z"
   },
   {
    "duration": 18,
    "start_time": "2022-08-18T10:52:33.336Z"
   },
   {
    "duration": 18,
    "start_time": "2022-08-18T10:52:33.355Z"
   },
   {
    "duration": 16,
    "start_time": "2022-08-18T10:52:33.374Z"
   },
   {
    "duration": 28,
    "start_time": "2022-08-18T10:52:33.391Z"
   },
   {
    "duration": 26,
    "start_time": "2022-08-18T10:52:33.421Z"
   },
   {
    "duration": 244,
    "start_time": "2022-08-18T10:52:33.449Z"
   },
   {
    "duration": 32,
    "start_time": "2022-08-18T10:52:33.695Z"
   },
   {
    "duration": 16,
    "start_time": "2022-08-18T10:52:33.728Z"
   },
   {
    "duration": 8,
    "start_time": "2022-08-18T10:52:33.745Z"
   },
   {
    "duration": 21,
    "start_time": "2022-08-18T10:52:33.754Z"
   },
   {
    "duration": 180,
    "start_time": "2022-08-18T10:52:33.776Z"
   },
   {
    "duration": 399,
    "start_time": "2022-08-18T10:52:33.958Z"
   },
   {
    "duration": 16,
    "start_time": "2022-08-18T10:52:34.360Z"
   },
   {
    "duration": 5,
    "start_time": "2022-08-18T10:52:34.377Z"
   },
   {
    "duration": 37,
    "start_time": "2022-08-18T10:52:34.383Z"
   },
   {
    "duration": 182,
    "start_time": "2022-08-18T10:52:34.422Z"
   },
   {
    "duration": 346,
    "start_time": "2022-08-18T10:52:34.611Z"
   },
   {
    "duration": 13,
    "start_time": "2022-08-18T10:52:34.958Z"
   },
   {
    "duration": 38,
    "start_time": "2022-08-18T10:52:34.973Z"
   },
   {
    "duration": 592,
    "start_time": "2022-08-18T10:52:35.012Z"
   },
   {
    "duration": 39,
    "start_time": "2022-08-18T10:52:35.605Z"
   },
   {
    "duration": 3,
    "start_time": "2022-08-18T10:52:35.646Z"
   },
   {
    "duration": 5,
    "start_time": "2022-08-18T10:52:35.650Z"
   },
   {
    "duration": 8,
    "start_time": "2022-08-18T10:52:35.656Z"
   },
   {
    "duration": 5,
    "start_time": "2022-08-18T10:52:35.665Z"
   },
   {
    "duration": 4628,
    "start_time": "2022-08-18T10:52:35.671Z"
   },
   {
    "duration": 4291,
    "start_time": "2022-08-18T10:52:40.301Z"
   },
   {
    "duration": 494,
    "start_time": "2022-08-18T10:52:44.593Z"
   },
   {
    "duration": 346,
    "start_time": "2022-08-18T10:52:45.089Z"
   },
   {
    "duration": 93581,
    "start_time": "2022-08-18T10:52:45.436Z"
   },
   {
    "duration": 290,
    "start_time": "2022-08-18T10:54:19.019Z"
   },
   {
    "duration": 24,
    "start_time": "2022-08-18T10:54:19.311Z"
   },
   {
    "duration": 39,
    "start_time": "2022-08-18T10:54:19.336Z"
   },
   {
    "duration": 312,
    "start_time": "2022-08-18T10:54:19.377Z"
   },
   {
    "duration": 107824,
    "start_time": "2022-08-18T10:54:19.691Z"
   },
   {
    "duration": 1427608,
    "start_time": "2022-08-18T10:56:07.516Z"
   },
   {
    "duration": 220229,
    "start_time": "2022-08-18T11:19:55.212Z"
   },
   {
    "duration": 433894,
    "start_time": "2022-08-18T11:23:35.443Z"
   },
   {
    "duration": 313683,
    "start_time": "2022-08-18T11:30:49.338Z"
   },
   {
    "duration": 56,
    "start_time": "2022-08-18T12:20:08.417Z"
   },
   {
    "duration": 14388,
    "start_time": "2022-08-18T12:20:41.229Z"
   },
   {
    "duration": 68005,
    "start_time": "2022-08-18T12:22:51.458Z"
   },
   {
    "duration": 109,
    "start_time": "2022-08-18T12:25:06.126Z"
   },
   {
    "duration": 61,
    "start_time": "2022-08-18T12:25:11.475Z"
   },
   {
    "duration": 67664,
    "start_time": "2022-08-18T12:25:58.417Z"
   },
   {
    "duration": 12,
    "start_time": "2022-08-18T12:31:07.345Z"
   },
   {
    "duration": 6,
    "start_time": "2022-08-18T12:31:13.683Z"
   },
   {
    "duration": 3625,
    "start_time": "2022-08-18T12:31:57.622Z"
   },
   {
    "duration": 5,
    "start_time": "2022-08-18T12:32:40.250Z"
   },
   {
    "duration": 66879,
    "start_time": "2022-08-18T12:33:09.188Z"
   },
   {
    "duration": 64709,
    "start_time": "2022-08-18T12:34:32.689Z"
   },
   {
    "duration": 5022,
    "start_time": "2022-08-18T12:36:25.739Z"
   },
   {
    "duration": 4273,
    "start_time": "2022-08-18T12:36:47.423Z"
   },
   {
    "duration": 43562,
    "start_time": "2022-08-18T13:28:16.769Z"
   },
   {
    "duration": 60999,
    "start_time": "2022-08-18T13:32:25.640Z"
   },
   {
    "duration": 445024,
    "start_time": "2022-08-18T13:53:56.752Z"
   },
   {
    "duration": 11,
    "start_time": "2022-08-18T14:15:13.771Z"
   },
   {
    "duration": 1212,
    "start_time": "2022-08-18T14:24:06.156Z"
   },
   {
    "duration": 985,
    "start_time": "2022-08-18T14:24:07.369Z"
   },
   {
    "duration": 105,
    "start_time": "2022-08-18T14:24:08.355Z"
   },
   {
    "duration": 19,
    "start_time": "2022-08-18T14:24:08.462Z"
   },
   {
    "duration": 17,
    "start_time": "2022-08-18T14:24:08.483Z"
   },
   {
    "duration": 26,
    "start_time": "2022-08-18T14:24:08.502Z"
   },
   {
    "duration": 20,
    "start_time": "2022-08-18T14:24:08.529Z"
   },
   {
    "duration": 280,
    "start_time": "2022-08-18T14:24:08.550Z"
   },
   {
    "duration": 45,
    "start_time": "2022-08-18T14:24:08.831Z"
   },
   {
    "duration": 17,
    "start_time": "2022-08-18T14:24:08.880Z"
   },
   {
    "duration": 15,
    "start_time": "2022-08-18T14:24:08.911Z"
   },
   {
    "duration": 68,
    "start_time": "2022-08-18T14:24:08.927Z"
   },
   {
    "duration": 24,
    "start_time": "2022-08-18T14:24:08.997Z"
   },
   {
    "duration": 17,
    "start_time": "2022-08-18T14:24:09.022Z"
   },
   {
    "duration": 144,
    "start_time": "2022-08-18T14:24:09.041Z"
   },
   {
    "duration": 27,
    "start_time": "2022-08-18T14:24:09.187Z"
   },
   {
    "duration": 21,
    "start_time": "2022-08-18T14:24:09.215Z"
   },
   {
    "duration": 18,
    "start_time": "2022-08-18T14:24:09.238Z"
   },
   {
    "duration": 21,
    "start_time": "2022-08-18T14:24:09.257Z"
   },
   {
    "duration": 32,
    "start_time": "2022-08-18T14:24:09.279Z"
   },
   {
    "duration": 256,
    "start_time": "2022-08-18T14:24:09.313Z"
   },
   {
    "duration": 29,
    "start_time": "2022-08-18T14:24:09.571Z"
   },
   {
    "duration": 22,
    "start_time": "2022-08-18T14:24:09.601Z"
   },
   {
    "duration": 8,
    "start_time": "2022-08-18T14:24:09.625Z"
   },
   {
    "duration": 18,
    "start_time": "2022-08-18T14:24:09.634Z"
   },
   {
    "duration": 163,
    "start_time": "2022-08-18T14:24:09.654Z"
   },
   {
    "duration": 352,
    "start_time": "2022-08-18T14:24:09.819Z"
   },
   {
    "duration": 17,
    "start_time": "2022-08-18T14:24:10.174Z"
   },
   {
    "duration": 21,
    "start_time": "2022-08-18T14:24:10.193Z"
   },
   {
    "duration": 22,
    "start_time": "2022-08-18T14:24:10.215Z"
   },
   {
    "duration": 206,
    "start_time": "2022-08-18T14:24:10.238Z"
   },
   {
    "duration": 357,
    "start_time": "2022-08-18T14:24:10.446Z"
   },
   {
    "duration": 13,
    "start_time": "2022-08-18T14:24:10.810Z"
   },
   {
    "duration": 24,
    "start_time": "2022-08-18T14:24:10.825Z"
   },
   {
    "duration": 612,
    "start_time": "2022-08-18T14:24:10.850Z"
   },
   {
    "duration": 50,
    "start_time": "2022-08-18T14:24:11.464Z"
   },
   {
    "duration": 3,
    "start_time": "2022-08-18T14:24:11.515Z"
   },
   {
    "duration": 6,
    "start_time": "2022-08-18T14:24:11.520Z"
   },
   {
    "duration": 10,
    "start_time": "2022-08-18T14:24:11.528Z"
   },
   {
    "duration": 5,
    "start_time": "2022-08-18T14:24:11.539Z"
   },
   {
    "duration": 4751,
    "start_time": "2022-08-18T14:24:11.545Z"
   },
   {
    "duration": 4309,
    "start_time": "2022-08-18T14:24:16.297Z"
   },
   {
    "duration": 463,
    "start_time": "2022-08-18T14:24:20.608Z"
   },
   {
    "duration": 352,
    "start_time": "2022-08-18T14:24:21.073Z"
   },
   {
    "duration": 86183,
    "start_time": "2022-08-18T14:24:21.427Z"
   },
   {
    "duration": 291,
    "start_time": "2022-08-18T14:25:47.615Z"
   },
   {
    "duration": 18,
    "start_time": "2022-08-18T14:25:47.908Z"
   },
   {
    "duration": 37,
    "start_time": "2022-08-18T14:25:47.927Z"
   },
   {
    "duration": 305,
    "start_time": "2022-08-18T14:25:47.966Z"
   },
   {
    "duration": 93138,
    "start_time": "2022-08-18T14:25:48.273Z"
   },
   {
    "duration": 1471610,
    "start_time": "2022-08-18T14:27:21.413Z"
   },
   {
    "duration": 255814,
    "start_time": "2022-08-18T14:51:53.024Z"
   },
   {
    "duration": 430953,
    "start_time": "2022-08-18T14:56:08.839Z"
   },
   {
    "duration": 311058,
    "start_time": "2022-08-18T15:03:19.793Z"
   },
   {
    "duration": 1267,
    "start_time": "2022-08-18T15:16:21.000Z"
   },
   {
    "duration": 1073,
    "start_time": "2022-08-18T15:16:22.269Z"
   },
   {
    "duration": 113,
    "start_time": "2022-08-18T15:16:23.343Z"
   },
   {
    "duration": 19,
    "start_time": "2022-08-18T15:16:23.458Z"
   },
   {
    "duration": 17,
    "start_time": "2022-08-18T15:16:23.479Z"
   },
   {
    "duration": 27,
    "start_time": "2022-08-18T15:16:23.497Z"
   },
   {
    "duration": 5,
    "start_time": "2022-08-18T15:16:23.526Z"
   },
   {
    "duration": 263,
    "start_time": "2022-08-18T15:16:23.533Z"
   },
   {
    "duration": 53,
    "start_time": "2022-08-18T15:16:23.798Z"
   },
   {
    "duration": 17,
    "start_time": "2022-08-18T15:16:23.854Z"
   },
   {
    "duration": 15,
    "start_time": "2022-08-18T15:16:23.873Z"
   },
   {
    "duration": 78,
    "start_time": "2022-08-18T15:16:23.889Z"
   },
   {
    "duration": 14,
    "start_time": "2022-08-18T15:16:23.968Z"
   },
   {
    "duration": 28,
    "start_time": "2022-08-18T15:16:23.983Z"
   },
   {
    "duration": 137,
    "start_time": "2022-08-18T15:16:24.012Z"
   },
   {
    "duration": 20,
    "start_time": "2022-08-18T15:16:24.151Z"
   },
   {
    "duration": 20,
    "start_time": "2022-08-18T15:16:24.172Z"
   },
   {
    "duration": 28,
    "start_time": "2022-08-18T15:16:24.194Z"
   },
   {
    "duration": 16,
    "start_time": "2022-08-18T15:16:24.223Z"
   },
   {
    "duration": 23,
    "start_time": "2022-08-18T15:16:24.240Z"
   },
   {
    "duration": 242,
    "start_time": "2022-08-18T15:16:24.265Z"
   },
   {
    "duration": 28,
    "start_time": "2022-08-18T15:16:24.510Z"
   },
   {
    "duration": 16,
    "start_time": "2022-08-18T15:16:24.540Z"
   },
   {
    "duration": 8,
    "start_time": "2022-08-18T15:16:24.557Z"
   },
   {
    "duration": 44,
    "start_time": "2022-08-18T15:16:24.567Z"
   },
   {
    "duration": 143,
    "start_time": "2022-08-18T15:16:24.613Z"
   },
   {
    "duration": 344,
    "start_time": "2022-08-18T15:16:24.757Z"
   },
   {
    "duration": 16,
    "start_time": "2022-08-18T15:16:25.110Z"
   },
   {
    "duration": 5,
    "start_time": "2022-08-18T15:16:25.127Z"
   },
   {
    "duration": 28,
    "start_time": "2022-08-18T15:16:25.134Z"
   },
   {
    "duration": 191,
    "start_time": "2022-08-18T15:16:25.164Z"
   },
   {
    "duration": 347,
    "start_time": "2022-08-18T15:16:25.356Z"
   },
   {
    "duration": 14,
    "start_time": "2022-08-18T15:16:25.711Z"
   },
   {
    "duration": 24,
    "start_time": "2022-08-18T15:16:25.726Z"
   },
   {
    "duration": 601,
    "start_time": "2022-08-18T15:16:25.752Z"
   },
   {
    "duration": 36,
    "start_time": "2022-08-18T15:16:26.355Z"
   },
   {
    "duration": 3,
    "start_time": "2022-08-18T15:16:26.392Z"
   },
   {
    "duration": 17,
    "start_time": "2022-08-18T15:16:26.396Z"
   },
   {
    "duration": 18,
    "start_time": "2022-08-18T15:16:26.414Z"
   },
   {
    "duration": 6,
    "start_time": "2022-08-18T15:16:26.433Z"
   },
   {
    "duration": 4665,
    "start_time": "2022-08-18T15:16:26.441Z"
   },
   {
    "duration": 4370,
    "start_time": "2022-08-18T15:16:31.107Z"
   },
   {
    "duration": 461,
    "start_time": "2022-08-18T15:16:35.479Z"
   },
   {
    "duration": 343,
    "start_time": "2022-08-18T15:16:35.941Z"
   },
   {
    "duration": 85840,
    "start_time": "2022-08-18T15:16:36.286Z"
   },
   {
    "duration": 290,
    "start_time": "2022-08-18T15:18:02.210Z"
   },
   {
    "duration": 22,
    "start_time": "2022-08-18T15:18:02.503Z"
   },
   {
    "duration": 40,
    "start_time": "2022-08-18T15:18:02.527Z"
   },
   {
    "duration": 330,
    "start_time": "2022-08-18T15:18:02.570Z"
   },
   {
    "duration": 85008,
    "start_time": "2022-08-18T15:18:02.902Z"
   },
   {
    "duration": 1419902,
    "start_time": "2022-08-18T15:19:27.912Z"
   },
   {
    "duration": 215824,
    "start_time": "2022-08-18T15:43:07.816Z"
   },
   {
    "duration": 426794,
    "start_time": "2022-08-18T15:46:43.642Z"
   },
   {
    "duration": 313548,
    "start_time": "2022-08-18T15:53:50.437Z"
   },
   {
    "duration": 40625,
    "start_time": "2022-08-18T15:59:03.987Z"
   },
   {
    "duration": 60680,
    "start_time": "2022-08-18T15:59:44.613Z"
   },
   {
    "duration": 49,
    "start_time": "2022-08-19T13:07:27.615Z"
   },
   {
    "duration": 1446,
    "start_time": "2022-08-19T13:07:38.944Z"
   },
   {
    "duration": 2882,
    "start_time": "2022-08-19T13:07:42.474Z"
   },
   {
    "duration": 124,
    "start_time": "2022-08-19T13:07:46.015Z"
   },
   {
    "duration": 21,
    "start_time": "2022-08-19T13:07:47.031Z"
   },
   {
    "duration": 29,
    "start_time": "2022-08-19T13:07:47.289Z"
   },
   {
    "duration": 28,
    "start_time": "2022-08-19T13:07:47.742Z"
   },
   {
    "duration": 6,
    "start_time": "2022-08-19T13:07:48.184Z"
   },
   {
    "duration": 532,
    "start_time": "2022-08-19T13:07:48.395Z"
   },
   {
    "duration": 81,
    "start_time": "2022-08-19T13:07:48.930Z"
   },
   {
    "duration": 25,
    "start_time": "2022-08-19T13:07:50.128Z"
   },
   {
    "duration": 18,
    "start_time": "2022-08-19T13:07:50.477Z"
   },
   {
    "duration": 77,
    "start_time": "2022-08-19T13:07:51.353Z"
   },
   {
    "duration": 16,
    "start_time": "2022-08-19T13:07:51.865Z"
   },
   {
    "duration": 18,
    "start_time": "2022-08-19T13:07:52.618Z"
   },
   {
    "duration": 185,
    "start_time": "2022-08-19T13:07:53.156Z"
   },
   {
    "duration": 19,
    "start_time": "2022-08-19T13:07:53.930Z"
   },
   {
    "duration": 17,
    "start_time": "2022-08-19T13:07:54.437Z"
   },
   {
    "duration": 20,
    "start_time": "2022-08-19T13:07:54.644Z"
   },
   {
    "duration": 16,
    "start_time": "2022-08-19T13:07:54.863Z"
   },
   {
    "duration": 19,
    "start_time": "2022-08-19T13:07:55.726Z"
   },
   {
    "duration": 322,
    "start_time": "2022-08-19T13:07:56.417Z"
   },
   {
    "duration": 38,
    "start_time": "2022-08-19T13:07:57.368Z"
   },
   {
    "duration": 24,
    "start_time": "2022-08-19T13:07:58.076Z"
   },
   {
    "duration": 11,
    "start_time": "2022-08-19T13:07:59.069Z"
   },
   {
    "duration": 23,
    "start_time": "2022-08-19T13:07:59.569Z"
   },
   {
    "duration": 176,
    "start_time": "2022-08-19T13:08:00.022Z"
   },
   {
    "duration": 541,
    "start_time": "2022-08-19T13:08:00.950Z"
   },
   {
    "duration": 22,
    "start_time": "2022-08-19T13:08:01.532Z"
   },
   {
    "duration": 8,
    "start_time": "2022-08-19T13:08:03.778Z"
   },
   {
    "duration": 22,
    "start_time": "2022-08-19T13:08:04.639Z"
   },
   {
    "duration": 151,
    "start_time": "2022-08-19T13:08:07.737Z"
   },
   {
    "duration": 438,
    "start_time": "2022-08-19T13:08:08.734Z"
   },
   {
    "duration": 18,
    "start_time": "2022-08-19T13:08:09.239Z"
   },
   {
    "duration": 28,
    "start_time": "2022-08-19T13:08:10.818Z"
   },
   {
    "duration": 642,
    "start_time": "2022-08-19T13:12:21.051Z"
   },
   {
    "duration": 26,
    "start_time": "2022-08-19T13:12:21.696Z"
   },
   {
    "duration": 24,
    "start_time": "2022-08-19T13:16:03.506Z"
   },
   {
    "duration": 7,
    "start_time": "2022-08-19T13:19:05.192Z"
   },
   {
    "duration": 41,
    "start_time": "2022-08-19T13:19:16.642Z"
   },
   {
    "duration": 33,
    "start_time": "2022-08-19T13:19:34.594Z"
   },
   {
    "duration": 32,
    "start_time": "2022-08-19T13:19:43.913Z"
   },
   {
    "duration": 33,
    "start_time": "2022-08-19T13:19:51.908Z"
   },
   {
    "duration": 15,
    "start_time": "2022-08-19T13:20:47.406Z"
   },
   {
    "duration": 6,
    "start_time": "2022-08-19T13:23:10.809Z"
   },
   {
    "duration": 5,
    "start_time": "2022-08-19T13:23:37.242Z"
   },
   {
    "duration": 4,
    "start_time": "2022-08-19T13:23:42.894Z"
   },
   {
    "duration": 5,
    "start_time": "2022-08-19T13:23:47.810Z"
   },
   {
    "duration": 5,
    "start_time": "2022-08-19T13:23:50.853Z"
   },
   {
    "duration": 5,
    "start_time": "2022-08-19T13:23:54.431Z"
   },
   {
    "duration": 5,
    "start_time": "2022-08-19T13:23:57.366Z"
   },
   {
    "duration": 5,
    "start_time": "2022-08-19T13:24:02.517Z"
   },
   {
    "duration": 5,
    "start_time": "2022-08-19T13:24:05.380Z"
   },
   {
    "duration": 5,
    "start_time": "2022-08-19T13:24:07.951Z"
   },
   {
    "duration": 5,
    "start_time": "2022-08-19T13:24:10.448Z"
   },
   {
    "duration": 94,
    "start_time": "2022-08-19T13:24:14.093Z"
   },
   {
    "duration": 5,
    "start_time": "2022-08-19T13:24:19.654Z"
   },
   {
    "duration": 6,
    "start_time": "2022-08-19T13:24:22.221Z"
   },
   {
    "duration": 5,
    "start_time": "2022-08-19T13:24:52.439Z"
   },
   {
    "duration": 175,
    "start_time": "2022-08-19T13:28:03.428Z"
   },
   {
    "duration": 316,
    "start_time": "2022-08-19T13:28:28.717Z"
   },
   {
    "duration": 6,
    "start_time": "2022-08-19T13:28:41.337Z"
   },
   {
    "duration": 7,
    "start_time": "2022-08-19T13:28:46.725Z"
   },
   {
    "duration": 7,
    "start_time": "2022-08-19T13:29:00.285Z"
   },
   {
    "duration": 6,
    "start_time": "2022-08-19T13:31:16.373Z"
   },
   {
    "duration": 6,
    "start_time": "2022-08-19T13:31:22.815Z"
   },
   {
    "duration": 6,
    "start_time": "2022-08-19T13:31:35.027Z"
   },
   {
    "duration": 6,
    "start_time": "2022-08-19T13:31:39.359Z"
   },
   {
    "duration": 6,
    "start_time": "2022-08-19T13:31:42.930Z"
   },
   {
    "duration": 6,
    "start_time": "2022-08-19T13:32:38.323Z"
   },
   {
    "duration": 6,
    "start_time": "2022-08-19T13:32:48.921Z"
   },
   {
    "duration": 7,
    "start_time": "2022-08-19T13:33:45.314Z"
   },
   {
    "duration": 6,
    "start_time": "2022-08-19T13:33:59.342Z"
   },
   {
    "duration": 27,
    "start_time": "2022-08-19T13:34:30.031Z"
   },
   {
    "duration": 7,
    "start_time": "2022-08-19T13:43:34.904Z"
   },
   {
    "duration": 7,
    "start_time": "2022-08-19T13:45:54.739Z"
   },
   {
    "duration": 5,
    "start_time": "2022-08-19T13:48:11.743Z"
   },
   {
    "duration": 26,
    "start_time": "2022-08-19T13:51:17.697Z"
   },
   {
    "duration": 24,
    "start_time": "2022-08-19T13:51:29.984Z"
   },
   {
    "duration": 28,
    "start_time": "2022-08-19T13:51:36.830Z"
   },
   {
    "duration": 1631,
    "start_time": "2022-08-19T13:52:04.079Z"
   },
   {
    "duration": 6,
    "start_time": "2022-08-19T13:52:09.230Z"
   },
   {
    "duration": 9,
    "start_time": "2022-08-19T13:52:19.518Z"
   },
   {
    "duration": 193,
    "start_time": "2022-08-19T13:52:41.473Z"
   },
   {
    "duration": 17,
    "start_time": "2022-08-19T13:53:08.480Z"
   },
   {
    "duration": 143,
    "start_time": "2022-08-19T13:55:00.192Z"
   },
   {
    "duration": 76,
    "start_time": "2022-08-19T13:55:19.504Z"
   },
   {
    "duration": 21,
    "start_time": "2022-08-19T13:55:38.096Z"
   },
   {
    "duration": 441,
    "start_time": "2022-08-19T13:55:45.377Z"
   },
   {
    "duration": 251,
    "start_time": "2022-08-19T13:55:56.553Z"
   },
   {
    "duration": 5,
    "start_time": "2022-08-19T14:17:20.940Z"
   },
   {
    "duration": 5,
    "start_time": "2022-08-19T14:17:24.993Z"
   },
   {
    "duration": 5,
    "start_time": "2022-08-19T14:17:29.784Z"
   },
   {
    "duration": 6,
    "start_time": "2022-08-19T14:17:32.937Z"
   },
   {
    "duration": 119,
    "start_time": "2022-08-19T14:17:38.678Z"
   },
   {
    "duration": 6,
    "start_time": "2022-08-19T14:17:42.035Z"
   },
   {
    "duration": 10,
    "start_time": "2022-08-19T14:17:56.467Z"
   },
   {
    "duration": 5,
    "start_time": "2022-08-19T14:18:43.933Z"
   },
   {
    "duration": 6,
    "start_time": "2022-08-19T14:21:14.181Z"
   },
   {
    "duration": 6,
    "start_time": "2022-08-19T14:21:19.168Z"
   },
   {
    "duration": 6,
    "start_time": "2022-08-19T14:31:14.558Z"
   },
   {
    "duration": 11,
    "start_time": "2022-08-19T14:31:33.079Z"
   },
   {
    "duration": 11,
    "start_time": "2022-08-19T14:37:40.442Z"
   },
   {
    "duration": 45,
    "start_time": "2022-08-19T14:37:44.492Z"
   },
   {
    "duration": 22,
    "start_time": "2022-08-19T14:38:04.922Z"
   },
   {
    "duration": 19,
    "start_time": "2022-08-19T14:42:49.658Z"
   },
   {
    "duration": 5,
    "start_time": "2022-08-19T14:42:56.136Z"
   },
   {
    "duration": 4,
    "start_time": "2022-08-19T14:43:10.239Z"
   },
   {
    "duration": 815,
    "start_time": "2022-08-19T14:43:10.757Z"
   },
   {
    "duration": 127,
    "start_time": "2022-08-19T14:43:11.573Z"
   },
   {
    "duration": 22,
    "start_time": "2022-08-19T14:43:11.702Z"
   },
   {
    "duration": 17,
    "start_time": "2022-08-19T14:43:11.727Z"
   },
   {
    "duration": 18,
    "start_time": "2022-08-19T14:43:11.829Z"
   },
   {
    "duration": 7,
    "start_time": "2022-08-19T14:43:12.223Z"
   },
   {
    "duration": 151,
    "start_time": "2022-08-19T14:43:12.432Z"
   },
   {
    "duration": 42,
    "start_time": "2022-08-19T14:43:12.760Z"
   },
   {
    "duration": 20,
    "start_time": "2022-08-19T14:43:13.350Z"
   },
   {
    "duration": 16,
    "start_time": "2022-08-19T14:43:13.539Z"
   },
   {
    "duration": 67,
    "start_time": "2022-08-19T14:43:13.942Z"
   },
   {
    "duration": 15,
    "start_time": "2022-08-19T14:43:14.136Z"
   },
   {
    "duration": 17,
    "start_time": "2022-08-19T14:43:14.515Z"
   },
   {
    "duration": 149,
    "start_time": "2022-08-19T14:43:15.141Z"
   },
   {
    "duration": 20,
    "start_time": "2022-08-19T14:43:15.573Z"
   },
   {
    "duration": 17,
    "start_time": "2022-08-19T14:43:16.240Z"
   },
   {
    "duration": 21,
    "start_time": "2022-08-19T14:43:16.445Z"
   },
   {
    "duration": 18,
    "start_time": "2022-08-19T14:43:16.642Z"
   },
   {
    "duration": 19,
    "start_time": "2022-08-19T14:43:17.037Z"
   },
   {
    "duration": 205,
    "start_time": "2022-08-19T14:43:17.680Z"
   },
   {
    "duration": 22,
    "start_time": "2022-08-19T14:43:18.064Z"
   },
   {
    "duration": 16,
    "start_time": "2022-08-19T14:43:18.642Z"
   },
   {
    "duration": 10,
    "start_time": "2022-08-19T14:43:19.053Z"
   },
   {
    "duration": 17,
    "start_time": "2022-08-19T14:43:20.271Z"
   },
   {
    "duration": 252,
    "start_time": "2022-08-19T14:43:20.690Z"
   },
   {
    "duration": 438,
    "start_time": "2022-08-19T14:43:21.367Z"
   },
   {
    "duration": 18,
    "start_time": "2022-08-19T14:43:22.136Z"
   },
   {
    "duration": 7,
    "start_time": "2022-08-19T14:43:26.243Z"
   },
   {
    "duration": 23,
    "start_time": "2022-08-19T14:43:28.481Z"
   },
   {
    "duration": 7,
    "start_time": "2022-08-19T14:43:31.153Z"
   },
   {
    "duration": 5,
    "start_time": "2022-08-19T14:43:31.798Z"
   },
   {
    "duration": 24,
    "start_time": "2022-08-19T14:43:32.621Z"
   },
   {
    "duration": 177,
    "start_time": "2022-08-19T14:43:33.026Z"
   },
   {
    "duration": 408,
    "start_time": "2022-08-19T14:43:33.821Z"
   },
   {
    "duration": 15,
    "start_time": "2022-08-19T14:43:34.350Z"
   },
   {
    "duration": 30,
    "start_time": "2022-08-19T14:43:36.625Z"
   },
   {
    "duration": 162,
    "start_time": "2022-08-19T14:43:39.578Z"
   },
   {
    "duration": 170,
    "start_time": "2022-08-19T14:44:04.962Z"
   },
   {
    "duration": 17,
    "start_time": "2022-08-19T14:44:05.620Z"
   },
   {
    "duration": 236,
    "start_time": "2022-08-19T14:44:06.507Z"
   },
   {
    "duration": 5,
    "start_time": "2022-08-19T14:44:07.227Z"
   },
   {
    "duration": 20,
    "start_time": "2022-08-19T14:44:10.473Z"
   },
   {
    "duration": 7,
    "start_time": "2022-08-19T14:44:21.196Z"
   },
   {
    "duration": 20,
    "start_time": "2022-08-19T14:44:24.331Z"
   },
   {
    "duration": 1263,
    "start_time": "2022-08-19T14:44:27.527Z"
   },
   {
    "duration": 14,
    "start_time": "2022-08-19T14:46:53.962Z"
   },
   {
    "duration": 32,
    "start_time": "2022-08-19T14:47:05.631Z"
   },
   {
    "duration": 25,
    "start_time": "2022-08-19T14:48:06.476Z"
   },
   {
    "duration": 21,
    "start_time": "2022-08-19T14:50:37.079Z"
   },
   {
    "duration": 473,
    "start_time": "2022-08-19T14:51:06.516Z"
   },
   {
    "duration": 387,
    "start_time": "2022-08-19T14:51:20.971Z"
   },
   {
    "duration": 16,
    "start_time": "2022-08-19T14:51:23.119Z"
   },
   {
    "duration": 56,
    "start_time": "2022-08-19T14:52:11.590Z"
   },
   {
    "duration": 57,
    "start_time": "2022-08-19T14:52:27.782Z"
   },
   {
    "duration": 3,
    "start_time": "2022-08-19T14:52:29.688Z"
   },
   {
    "duration": 3,
    "start_time": "2022-08-19T14:52:30.248Z"
   },
   {
    "duration": 3,
    "start_time": "2022-08-19T14:52:30.935Z"
   },
   {
    "duration": 4,
    "start_time": "2022-08-19T14:52:31.179Z"
   },
   {
    "duration": 315,
    "start_time": "2022-08-19T14:52:33.360Z"
   },
   {
    "duration": 12,
    "start_time": "2022-08-19T14:54:12.934Z"
   },
   {
    "duration": 19,
    "start_time": "2022-08-19T14:54:22.069Z"
   },
   {
    "duration": 27,
    "start_time": "2022-08-19T14:54:33.066Z"
   },
   {
    "duration": 14,
    "start_time": "2022-08-19T14:55:00.847Z"
   },
   {
    "duration": 77,
    "start_time": "2022-08-19T14:55:01.254Z"
   },
   {
    "duration": 19,
    "start_time": "2022-08-19T14:55:03.208Z"
   },
   {
    "duration": 4,
    "start_time": "2022-08-19T14:55:36.255Z"
   },
   {
    "duration": 877,
    "start_time": "2022-08-19T14:55:36.747Z"
   },
   {
    "duration": 127,
    "start_time": "2022-08-19T14:55:37.626Z"
   },
   {
    "duration": 36,
    "start_time": "2022-08-19T14:55:37.754Z"
   },
   {
    "duration": 17,
    "start_time": "2022-08-19T14:55:37.792Z"
   },
   {
    "duration": 20,
    "start_time": "2022-08-19T14:55:37.811Z"
   },
   {
    "duration": 7,
    "start_time": "2022-08-19T14:55:38.149Z"
   },
   {
    "duration": 157,
    "start_time": "2022-08-19T14:55:38.332Z"
   },
   {
    "duration": 39,
    "start_time": "2022-08-19T14:55:39.209Z"
   },
   {
    "duration": 27,
    "start_time": "2022-08-19T14:55:39.754Z"
   },
   {
    "duration": 16,
    "start_time": "2022-08-19T14:55:39.949Z"
   },
   {
    "duration": 74,
    "start_time": "2022-08-19T14:55:40.283Z"
   },
   {
    "duration": 15,
    "start_time": "2022-08-19T14:55:40.452Z"
   },
   {
    "duration": 18,
    "start_time": "2022-08-19T14:55:40.810Z"
   },
   {
    "duration": 164,
    "start_time": "2022-08-19T14:55:41.165Z"
   },
   {
    "duration": 21,
    "start_time": "2022-08-19T14:55:41.529Z"
   },
   {
    "duration": 18,
    "start_time": "2022-08-19T14:55:41.909Z"
   },
   {
    "duration": 19,
    "start_time": "2022-08-19T14:55:42.080Z"
   },
   {
    "duration": 19,
    "start_time": "2022-08-19T14:55:42.261Z"
   },
   {
    "duration": 19,
    "start_time": "2022-08-19T14:55:42.628Z"
   },
   {
    "duration": 228,
    "start_time": "2022-08-19T14:55:43.479Z"
   },
   {
    "duration": 23,
    "start_time": "2022-08-19T14:55:44.327Z"
   },
   {
    "duration": 17,
    "start_time": "2022-08-19T14:55:44.984Z"
   },
   {
    "duration": 10,
    "start_time": "2022-08-19T14:55:45.731Z"
   },
   {
    "duration": 29,
    "start_time": "2022-08-19T14:55:54.051Z"
   },
   {
    "duration": 175,
    "start_time": "2022-08-19T14:55:54.429Z"
   },
   {
    "duration": 466,
    "start_time": "2022-08-19T14:55:54.625Z"
   },
   {
    "duration": 19,
    "start_time": "2022-08-19T14:55:55.093Z"
   },
   {
    "duration": 6,
    "start_time": "2022-08-19T14:55:55.210Z"
   },
   {
    "duration": 26,
    "start_time": "2022-08-19T14:55:56.265Z"
   },
   {
    "duration": 6,
    "start_time": "2022-08-19T14:55:57.042Z"
   },
   {
    "duration": 5,
    "start_time": "2022-08-19T14:55:57.263Z"
   },
   {
    "duration": 24,
    "start_time": "2022-08-19T14:56:01.733Z"
   },
   {
    "duration": 191,
    "start_time": "2022-08-19T14:56:02.750Z"
   },
   {
    "duration": 422,
    "start_time": "2022-08-19T14:56:03.379Z"
   },
   {
    "duration": 15,
    "start_time": "2022-08-19T14:56:04.287Z"
   },
   {
    "duration": 24,
    "start_time": "2022-08-19T14:56:05.708Z"
   },
   {
    "duration": 178,
    "start_time": "2022-08-19T14:56:07.637Z"
   },
   {
    "duration": 17,
    "start_time": "2022-08-19T14:56:07.828Z"
   },
   {
    "duration": 183,
    "start_time": "2022-08-19T14:56:08.022Z"
   },
   {
    "duration": 6,
    "start_time": "2022-08-19T14:56:08.226Z"
   },
   {
    "duration": 25,
    "start_time": "2022-08-19T14:56:08.752Z"
   },
   {
    "duration": 20,
    "start_time": "2022-08-19T14:56:14.608Z"
   },
   {
    "duration": 9,
    "start_time": "2022-08-19T14:56:32.482Z"
   },
   {
    "duration": 513,
    "start_time": "2022-08-19T14:57:06.438Z"
   },
   {
    "duration": 8,
    "start_time": "2022-08-19T14:57:06.960Z"
   },
   {
    "duration": 444,
    "start_time": "2022-08-19T14:58:14.492Z"
   },
   {
    "duration": 20,
    "start_time": "2022-08-19T14:58:15.616Z"
   },
   {
    "duration": 51,
    "start_time": "2022-08-19T14:58:31.770Z"
   },
   {
    "duration": 365,
    "start_time": "2022-08-19T15:04:20.449Z"
   },
   {
    "duration": 2111,
    "start_time": "2022-08-19T15:04:42.807Z"
   },
   {
    "duration": 10,
    "start_time": "2022-08-19T15:05:11.276Z"
   },
   {
    "duration": 1817,
    "start_time": "2022-08-19T15:05:35.645Z"
   },
   {
    "duration": 2994,
    "start_time": "2022-08-19T15:05:37.464Z"
   },
   {
    "duration": 121,
    "start_time": "2022-08-19T15:05:40.460Z"
   },
   {
    "duration": 21,
    "start_time": "2022-08-19T15:05:40.583Z"
   },
   {
    "duration": 20,
    "start_time": "2022-08-19T15:05:40.607Z"
   },
   {
    "duration": 43,
    "start_time": "2022-08-19T15:05:40.629Z"
   },
   {
    "duration": 10,
    "start_time": "2022-08-19T15:05:42.950Z"
   },
   {
    "duration": 324,
    "start_time": "2022-08-19T15:05:43.113Z"
   },
   {
    "duration": 52,
    "start_time": "2022-08-19T15:05:43.608Z"
   },
   {
    "duration": 19,
    "start_time": "2022-08-19T15:05:44.055Z"
   },
   {
    "duration": 16,
    "start_time": "2022-08-19T15:05:44.261Z"
   },
   {
    "duration": 74,
    "start_time": "2022-08-19T15:05:44.640Z"
   },
   {
    "duration": 15,
    "start_time": "2022-08-19T15:05:44.830Z"
   },
   {
    "duration": 17,
    "start_time": "2022-08-19T15:05:45.214Z"
   },
   {
    "duration": 152,
    "start_time": "2022-08-19T15:05:45.578Z"
   },
   {
    "duration": 21,
    "start_time": "2022-08-19T15:05:45.959Z"
   },
   {
    "duration": 18,
    "start_time": "2022-08-19T15:05:46.348Z"
   },
   {
    "duration": 22,
    "start_time": "2022-08-19T15:05:46.557Z"
   },
   {
    "duration": 19,
    "start_time": "2022-08-19T15:05:46.749Z"
   },
   {
    "duration": 19,
    "start_time": "2022-08-19T15:05:47.136Z"
   },
   {
    "duration": 257,
    "start_time": "2022-08-19T15:05:47.731Z"
   },
   {
    "duration": 31,
    "start_time": "2022-08-19T15:05:48.112Z"
   },
   {
    "duration": 17,
    "start_time": "2022-08-19T15:05:48.714Z"
   },
   {
    "duration": 11,
    "start_time": "2022-08-19T15:05:49.126Z"
   },
   {
    "duration": 19,
    "start_time": "2022-08-19T15:05:49.781Z"
   },
   {
    "duration": 164,
    "start_time": "2022-08-19T15:05:50.190Z"
   },
   {
    "duration": 429,
    "start_time": "2022-08-19T15:05:50.426Z"
   },
   {
    "duration": 20,
    "start_time": "2022-08-19T15:05:50.867Z"
   },
   {
    "duration": 8,
    "start_time": "2022-08-19T15:05:51.614Z"
   },
   {
    "duration": 23,
    "start_time": "2022-08-19T15:05:51.825Z"
   },
   {
    "duration": 7,
    "start_time": "2022-08-19T15:05:52.217Z"
   },
   {
    "duration": 5,
    "start_time": "2022-08-19T15:05:52.413Z"
   },
   {
    "duration": 23,
    "start_time": "2022-08-19T15:05:52.802Z"
   },
   {
    "duration": 284,
    "start_time": "2022-08-19T15:05:53.189Z"
   },
   {
    "duration": 460,
    "start_time": "2022-08-19T15:05:53.475Z"
   },
   {
    "duration": 15,
    "start_time": "2022-08-19T15:05:53.937Z"
   },
   {
    "duration": 25,
    "start_time": "2022-08-19T15:05:54.311Z"
   },
   {
    "duration": 175,
    "start_time": "2022-08-19T15:05:55.340Z"
   },
   {
    "duration": 17,
    "start_time": "2022-08-19T15:05:55.546Z"
   },
   {
    "duration": 183,
    "start_time": "2022-08-19T15:05:55.744Z"
   },
   {
    "duration": 5,
    "start_time": "2022-08-19T15:05:55.942Z"
   },
   {
    "duration": 23,
    "start_time": "2022-08-19T15:05:56.166Z"
   },
   {
    "duration": 19,
    "start_time": "2022-08-19T15:05:57.122Z"
   },
   {
    "duration": 406,
    "start_time": "2022-08-19T15:05:57.321Z"
   },
   {
    "duration": 19,
    "start_time": "2022-08-19T15:05:57.729Z"
   },
   {
    "duration": 147,
    "start_time": "2022-08-19T15:05:57.749Z"
   },
   {
    "duration": 1271,
    "start_time": "2022-08-19T15:06:03.069Z"
   },
   {
    "duration": 14,
    "start_time": "2022-08-19T15:06:34.832Z"
   },
   {
    "duration": 48,
    "start_time": "2022-08-19T15:06:59.806Z"
   },
   {
    "duration": 218,
    "start_time": "2022-08-19T15:07:16.072Z"
   },
   {
    "duration": 17,
    "start_time": "2022-08-19T15:07:29.139Z"
   },
   {
    "duration": 1864,
    "start_time": "2022-08-19T15:07:29.421Z"
   },
   {
    "duration": 1724,
    "start_time": "2022-08-19T15:09:10.206Z"
   },
   {
    "duration": 3237,
    "start_time": "2022-08-19T15:09:11.933Z"
   },
   {
    "duration": 148,
    "start_time": "2022-08-19T15:09:15.172Z"
   },
   {
    "duration": 24,
    "start_time": "2022-08-19T15:09:15.322Z"
   },
   {
    "duration": 57,
    "start_time": "2022-08-19T15:09:15.349Z"
   },
   {
    "duration": 51,
    "start_time": "2022-08-19T15:09:15.408Z"
   },
   {
    "duration": 41,
    "start_time": "2022-08-19T15:09:15.461Z"
   },
   {
    "duration": 378,
    "start_time": "2022-08-19T15:09:15.504Z"
   },
   {
    "duration": 59,
    "start_time": "2022-08-19T15:09:15.884Z"
   },
   {
    "duration": 38,
    "start_time": "2022-08-19T15:09:15.945Z"
   },
   {
    "duration": 59,
    "start_time": "2022-08-19T15:09:15.984Z"
   },
   {
    "duration": 173,
    "start_time": "2022-08-19T15:09:16.045Z"
   },
   {
    "duration": 22,
    "start_time": "2022-08-19T15:09:16.220Z"
   },
   {
    "duration": 38,
    "start_time": "2022-08-19T15:09:16.245Z"
   },
   {
    "duration": 188,
    "start_time": "2022-08-19T15:09:16.285Z"
   },
   {
    "duration": 24,
    "start_time": "2022-08-19T15:09:16.479Z"
   },
   {
    "duration": 25,
    "start_time": "2022-08-19T15:09:16.505Z"
   },
   {
    "duration": 22,
    "start_time": "2022-08-19T15:09:16.532Z"
   },
   {
    "duration": 26,
    "start_time": "2022-08-19T15:09:16.567Z"
   },
   {
    "duration": 23,
    "start_time": "2022-08-19T15:09:16.595Z"
   },
   {
    "duration": 333,
    "start_time": "2022-08-19T15:09:16.620Z"
   },
   {
    "duration": 42,
    "start_time": "2022-08-19T15:09:16.955Z"
   },
   {
    "duration": 19,
    "start_time": "2022-08-19T15:09:16.999Z"
   },
   {
    "duration": 11,
    "start_time": "2022-08-19T15:09:17.021Z"
   },
   {
    "duration": 57,
    "start_time": "2022-08-19T15:09:17.034Z"
   },
   {
    "duration": 192,
    "start_time": "2022-08-19T15:09:17.093Z"
   },
   {
    "duration": 451,
    "start_time": "2022-08-19T15:09:17.287Z"
   },
   {
    "duration": 31,
    "start_time": "2022-08-19T15:09:17.740Z"
   },
   {
    "duration": 11,
    "start_time": "2022-08-19T15:09:17.773Z"
   },
   {
    "duration": 25,
    "start_time": "2022-08-19T15:09:17.785Z"
   },
   {
    "duration": 7,
    "start_time": "2022-08-19T15:09:17.812Z"
   },
   {
    "duration": 6,
    "start_time": "2022-08-19T15:09:17.821Z"
   },
   {
    "duration": 57,
    "start_time": "2022-08-19T15:09:17.829Z"
   },
   {
    "duration": 273,
    "start_time": "2022-08-19T15:09:17.888Z"
   },
   {
    "duration": 434,
    "start_time": "2022-08-19T15:09:18.163Z"
   },
   {
    "duration": 16,
    "start_time": "2022-08-19T15:09:18.598Z"
   },
   {
    "duration": 24,
    "start_time": "2022-08-19T15:09:18.615Z"
   },
   {
    "duration": 204,
    "start_time": "2022-08-19T15:09:18.641Z"
   },
   {
    "duration": 28,
    "start_time": "2022-08-19T15:09:18.847Z"
   },
   {
    "duration": 184,
    "start_time": "2022-08-19T15:09:18.879Z"
   },
   {
    "duration": 7,
    "start_time": "2022-08-19T15:09:19.068Z"
   },
   {
    "duration": 50,
    "start_time": "2022-08-19T15:09:19.077Z"
   },
   {
    "duration": 18,
    "start_time": "2022-08-19T15:09:19.129Z"
   },
   {
    "duration": 425,
    "start_time": "2022-08-19T15:09:19.149Z"
   },
   {
    "duration": 16,
    "start_time": "2022-08-19T15:09:19.579Z"
   },
   {
    "duration": 140,
    "start_time": "2022-08-19T15:09:19.597Z"
   },
   {
    "duration": 0,
    "start_time": "2022-08-19T15:09:19.739Z"
   },
   {
    "duration": 0,
    "start_time": "2022-08-19T15:09:19.740Z"
   },
   {
    "duration": 0,
    "start_time": "2022-08-19T15:09:19.741Z"
   },
   {
    "duration": 0,
    "start_time": "2022-08-19T15:09:19.742Z"
   },
   {
    "duration": 0,
    "start_time": "2022-08-19T15:09:19.743Z"
   },
   {
    "duration": 0,
    "start_time": "2022-08-19T15:09:19.744Z"
   },
   {
    "duration": 0,
    "start_time": "2022-08-19T15:09:19.745Z"
   },
   {
    "duration": 0,
    "start_time": "2022-08-19T15:09:19.746Z"
   },
   {
    "duration": 0,
    "start_time": "2022-08-19T15:09:19.749Z"
   },
   {
    "duration": 1,
    "start_time": "2022-08-19T15:09:19.749Z"
   },
   {
    "duration": 0,
    "start_time": "2022-08-19T15:09:19.750Z"
   },
   {
    "duration": 0,
    "start_time": "2022-08-19T15:09:19.751Z"
   },
   {
    "duration": 0,
    "start_time": "2022-08-19T15:09:19.752Z"
   },
   {
    "duration": 0,
    "start_time": "2022-08-19T15:09:19.768Z"
   },
   {
    "duration": 0,
    "start_time": "2022-08-19T15:09:19.770Z"
   },
   {
    "duration": 0,
    "start_time": "2022-08-19T15:09:19.771Z"
   },
   {
    "duration": 0,
    "start_time": "2022-08-19T15:09:19.772Z"
   },
   {
    "duration": 0,
    "start_time": "2022-08-19T15:09:19.774Z"
   },
   {
    "duration": 0,
    "start_time": "2022-08-19T15:09:19.775Z"
   },
   {
    "duration": 0,
    "start_time": "2022-08-19T15:09:19.776Z"
   },
   {
    "duration": 0,
    "start_time": "2022-08-19T15:09:19.777Z"
   },
   {
    "duration": 15,
    "start_time": "2022-08-19T15:10:05.814Z"
   },
   {
    "duration": 12,
    "start_time": "2022-08-19T15:10:25.193Z"
   },
   {
    "duration": 18,
    "start_time": "2022-08-19T15:10:31.626Z"
   },
   {
    "duration": 16,
    "start_time": "2022-08-19T15:10:39.188Z"
   },
   {
    "duration": 51,
    "start_time": "2022-08-19T15:11:02.162Z"
   },
   {
    "duration": 49,
    "start_time": "2022-08-19T15:11:09.522Z"
   },
   {
    "duration": 1455,
    "start_time": "2022-08-19T15:11:27.111Z"
   },
   {
    "duration": 948,
    "start_time": "2022-08-19T15:11:28.568Z"
   },
   {
    "duration": 155,
    "start_time": "2022-08-19T15:11:29.518Z"
   },
   {
    "duration": 23,
    "start_time": "2022-08-19T15:11:29.674Z"
   },
   {
    "duration": 21,
    "start_time": "2022-08-19T15:11:29.699Z"
   },
   {
    "duration": 23,
    "start_time": "2022-08-19T15:11:29.722Z"
   },
   {
    "duration": 22,
    "start_time": "2022-08-19T15:11:29.747Z"
   },
   {
    "duration": 328,
    "start_time": "2022-08-19T15:11:29.770Z"
   },
   {
    "duration": 71,
    "start_time": "2022-08-19T15:11:30.100Z"
   },
   {
    "duration": 21,
    "start_time": "2022-08-19T15:11:30.173Z"
   },
   {
    "duration": 31,
    "start_time": "2022-08-19T15:11:30.196Z"
   },
   {
    "duration": 101,
    "start_time": "2022-08-19T15:11:30.229Z"
   },
   {
    "duration": 16,
    "start_time": "2022-08-19T15:11:30.333Z"
   },
   {
    "duration": 33,
    "start_time": "2022-08-19T15:11:30.353Z"
   },
   {
    "duration": 182,
    "start_time": "2022-08-19T15:11:30.389Z"
   },
   {
    "duration": 22,
    "start_time": "2022-08-19T15:11:30.574Z"
   },
   {
    "duration": 52,
    "start_time": "2022-08-19T15:11:30.598Z"
   },
   {
    "duration": 25,
    "start_time": "2022-08-19T15:11:30.652Z"
   },
   {
    "duration": 29,
    "start_time": "2022-08-19T15:11:30.679Z"
   },
   {
    "duration": 27,
    "start_time": "2022-08-19T15:11:30.710Z"
   },
   {
    "duration": 277,
    "start_time": "2022-08-19T15:11:30.739Z"
   },
   {
    "duration": 40,
    "start_time": "2022-08-19T15:11:31.019Z"
   },
   {
    "duration": 27,
    "start_time": "2022-08-19T15:11:31.070Z"
   },
   {
    "duration": 18,
    "start_time": "2022-08-19T15:11:31.100Z"
   },
   {
    "duration": 51,
    "start_time": "2022-08-19T15:11:31.121Z"
   },
   {
    "duration": 196,
    "start_time": "2022-08-19T15:11:31.175Z"
   },
   {
    "duration": 497,
    "start_time": "2022-08-19T15:11:31.373Z"
   },
   {
    "duration": 20,
    "start_time": "2022-08-19T15:11:31.871Z"
   },
   {
    "duration": 17,
    "start_time": "2022-08-19T15:11:31.893Z"
   },
   {
    "duration": 38,
    "start_time": "2022-08-19T15:11:31.912Z"
   },
   {
    "duration": 20,
    "start_time": "2022-08-19T15:11:31.953Z"
   },
   {
    "duration": 11,
    "start_time": "2022-08-19T15:11:31.975Z"
   },
   {
    "duration": 30,
    "start_time": "2022-08-19T15:11:31.989Z"
   },
   {
    "duration": 292,
    "start_time": "2022-08-19T15:11:32.021Z"
   },
   {
    "duration": 398,
    "start_time": "2022-08-19T15:11:32.315Z"
   },
   {
    "duration": 16,
    "start_time": "2022-08-19T15:11:32.714Z"
   },
   {
    "duration": 42,
    "start_time": "2022-08-19T15:11:32.732Z"
   },
   {
    "duration": 170,
    "start_time": "2022-08-19T15:11:32.776Z"
   },
   {
    "duration": 24,
    "start_time": "2022-08-19T15:11:32.949Z"
   },
   {
    "duration": 186,
    "start_time": "2022-08-19T15:11:32.975Z"
   },
   {
    "duration": 6,
    "start_time": "2022-08-19T15:11:33.169Z"
   },
   {
    "duration": 22,
    "start_time": "2022-08-19T15:11:33.177Z"
   },
   {
    "duration": 18,
    "start_time": "2022-08-19T15:11:33.201Z"
   },
   {
    "duration": 430,
    "start_time": "2022-08-19T15:11:33.221Z"
   },
   {
    "duration": 26,
    "start_time": "2022-08-19T15:11:33.653Z"
   },
   {
    "duration": 62,
    "start_time": "2022-08-19T15:11:33.681Z"
   },
   {
    "duration": 53,
    "start_time": "2022-08-19T15:11:33.745Z"
   },
   {
    "duration": 4,
    "start_time": "2022-08-19T15:11:33.800Z"
   },
   {
    "duration": 16,
    "start_time": "2022-08-19T15:11:33.805Z"
   },
   {
    "duration": 10,
    "start_time": "2022-08-19T15:11:33.823Z"
   },
   {
    "duration": 8,
    "start_time": "2022-08-19T15:11:33.835Z"
   },
   {
    "duration": 4740,
    "start_time": "2022-08-19T15:11:33.845Z"
   },
   {
    "duration": 4418,
    "start_time": "2022-08-19T15:11:38.588Z"
   },
   {
    "duration": 10,
    "start_time": "2022-08-19T15:11:43.008Z"
   },
   {
    "duration": 51,
    "start_time": "2022-08-19T15:11:43.021Z"
   },
   {
    "duration": 597,
    "start_time": "2022-08-19T15:11:43.074Z"
   },
   {
    "duration": 13,
    "start_time": "2022-08-19T15:11:43.673Z"
   },
   {
    "duration": 120,
    "start_time": "2022-08-19T15:11:43.688Z"
   },
   {
    "duration": 6,
    "start_time": "2022-08-19T15:11:43.810Z"
   },
   {
    "duration": 57,
    "start_time": "2022-08-19T15:11:43.818Z"
   },
   {
    "duration": 600,
    "start_time": "2022-08-19T15:11:43.877Z"
   },
   {
    "duration": 1563703,
    "start_time": "2022-08-19T15:11:44.479Z"
   },
   {
    "duration": 364831,
    "start_time": "2022-08-19T15:40:39.772Z"
   },
   {
    "duration": 263427,
    "start_time": "2022-08-19T15:46:44.605Z"
   },
   {
    "duration": 1409,
    "start_time": "2022-08-19T15:53:43.677Z"
   },
   {
    "duration": 930,
    "start_time": "2022-08-19T15:53:45.088Z"
   },
   {
    "duration": 140,
    "start_time": "2022-08-19T15:53:46.020Z"
   },
   {
    "duration": 21,
    "start_time": "2022-08-19T15:53:46.167Z"
   },
   {
    "duration": 21,
    "start_time": "2022-08-19T15:53:46.189Z"
   },
   {
    "duration": 26,
    "start_time": "2022-08-19T15:53:46.212Z"
   },
   {
    "duration": 30,
    "start_time": "2022-08-19T15:53:46.240Z"
   },
   {
    "duration": 347,
    "start_time": "2022-08-19T15:53:46.272Z"
   },
   {
    "duration": 74,
    "start_time": "2022-08-19T15:53:46.621Z"
   },
   {
    "duration": 29,
    "start_time": "2022-08-19T15:53:46.701Z"
   },
   {
    "duration": 36,
    "start_time": "2022-08-19T15:53:46.733Z"
   },
   {
    "duration": 108,
    "start_time": "2022-08-19T15:53:46.771Z"
   },
   {
    "duration": 24,
    "start_time": "2022-08-19T15:53:46.883Z"
   },
   {
    "duration": 25,
    "start_time": "2022-08-19T15:53:46.910Z"
   },
   {
    "duration": 170,
    "start_time": "2022-08-19T15:53:46.937Z"
   },
   {
    "duration": 20,
    "start_time": "2022-08-19T15:53:47.109Z"
   },
   {
    "duration": 19,
    "start_time": "2022-08-19T15:53:47.131Z"
   },
   {
    "duration": 25,
    "start_time": "2022-08-19T15:53:47.168Z"
   },
   {
    "duration": 17,
    "start_time": "2022-08-19T15:53:47.195Z"
   },
   {
    "duration": 20,
    "start_time": "2022-08-19T15:53:47.214Z"
   },
   {
    "duration": 284,
    "start_time": "2022-08-19T15:53:47.235Z"
   },
   {
    "duration": 32,
    "start_time": "2022-08-19T15:53:47.521Z"
   },
   {
    "duration": 20,
    "start_time": "2022-08-19T15:53:47.555Z"
   },
   {
    "duration": 10,
    "start_time": "2022-08-19T15:53:47.577Z"
   },
   {
    "duration": 19,
    "start_time": "2022-08-19T15:53:47.588Z"
   },
   {
    "duration": 197,
    "start_time": "2022-08-19T15:53:47.609Z"
   },
   {
    "duration": 462,
    "start_time": "2022-08-19T15:53:47.809Z"
   },
   {
    "duration": 19,
    "start_time": "2022-08-19T15:53:48.276Z"
   },
   {
    "duration": 8,
    "start_time": "2022-08-19T15:53:48.297Z"
   },
   {
    "duration": 24,
    "start_time": "2022-08-19T15:53:48.307Z"
   },
   {
    "duration": 116,
    "start_time": "2022-08-19T15:53:48.333Z"
   },
   {
    "duration": 18,
    "start_time": "2022-08-19T15:53:48.451Z"
   },
   {
    "duration": 23,
    "start_time": "2022-08-19T15:53:48.471Z"
   },
   {
    "duration": 186,
    "start_time": "2022-08-19T15:53:48.496Z"
   },
   {
    "duration": 395,
    "start_time": "2022-08-19T15:53:48.684Z"
   },
   {
    "duration": 16,
    "start_time": "2022-08-19T15:53:49.080Z"
   },
   {
    "duration": 24,
    "start_time": "2022-08-19T15:53:49.097Z"
   },
   {
    "duration": 182,
    "start_time": "2022-08-19T15:53:49.123Z"
   },
   {
    "duration": 17,
    "start_time": "2022-08-19T15:53:49.307Z"
   },
   {
    "duration": 188,
    "start_time": "2022-08-19T15:53:49.325Z"
   },
   {
    "duration": 5,
    "start_time": "2022-08-19T15:53:49.516Z"
   },
   {
    "duration": 22,
    "start_time": "2022-08-19T15:53:49.523Z"
   },
   {
    "duration": 33,
    "start_time": "2022-08-19T15:53:49.547Z"
   },
   {
    "duration": 394,
    "start_time": "2022-08-19T15:53:49.582Z"
   },
   {
    "duration": 15,
    "start_time": "2022-08-19T15:53:49.979Z"
   },
   {
    "duration": 49,
    "start_time": "2022-08-19T15:53:49.996Z"
   },
   {
    "duration": 58,
    "start_time": "2022-08-19T15:53:50.047Z"
   },
   {
    "duration": 3,
    "start_time": "2022-08-19T15:53:50.107Z"
   },
   {
    "duration": 6,
    "start_time": "2022-08-19T15:53:50.112Z"
   },
   {
    "duration": 7,
    "start_time": "2022-08-19T15:53:50.120Z"
   },
   {
    "duration": 7,
    "start_time": "2022-08-19T15:53:50.128Z"
   },
   {
    "duration": 4477,
    "start_time": "2022-08-19T15:53:50.137Z"
   },
   {
    "duration": 4244,
    "start_time": "2022-08-19T15:53:54.615Z"
   },
   {
    "duration": 14,
    "start_time": "2022-08-19T15:53:58.861Z"
   },
   {
    "duration": 28,
    "start_time": "2022-08-19T15:53:58.877Z"
   },
   {
    "duration": 574,
    "start_time": "2022-08-19T15:53:58.906Z"
   },
   {
    "duration": 98,
    "start_time": "2022-08-19T15:53:59.482Z"
   },
   {
    "duration": 110,
    "start_time": "2022-08-19T15:53:59.582Z"
   },
   {
    "duration": 6,
    "start_time": "2022-08-19T15:53:59.694Z"
   },
   {
    "duration": 36,
    "start_time": "2022-08-19T15:53:59.703Z"
   },
   {
    "duration": 930,
    "start_time": "2022-08-19T15:53:59.740Z"
   },
   {
    "duration": 1372,
    "start_time": "2022-08-19T17:05:40.982Z"
   },
   {
    "duration": 1022,
    "start_time": "2022-08-19T17:05:42.356Z"
   },
   {
    "duration": 145,
    "start_time": "2022-08-19T17:05:43.379Z"
   },
   {
    "duration": 22,
    "start_time": "2022-08-19T17:05:43.527Z"
   },
   {
    "duration": 38,
    "start_time": "2022-08-19T17:05:43.551Z"
   },
   {
    "duration": 37,
    "start_time": "2022-08-19T17:05:43.590Z"
   },
   {
    "duration": 7,
    "start_time": "2022-08-19T17:05:43.630Z"
   },
   {
    "duration": 319,
    "start_time": "2022-08-19T17:05:43.639Z"
   },
   {
    "duration": 63,
    "start_time": "2022-08-19T17:05:43.960Z"
   },
   {
    "duration": 20,
    "start_time": "2022-08-19T17:05:44.026Z"
   },
   {
    "duration": 35,
    "start_time": "2022-08-19T17:05:44.048Z"
   },
   {
    "duration": 90,
    "start_time": "2022-08-19T17:05:44.085Z"
   },
   {
    "duration": 15,
    "start_time": "2022-08-19T17:05:44.177Z"
   },
   {
    "duration": 19,
    "start_time": "2022-08-19T17:05:44.194Z"
   },
   {
    "duration": 182,
    "start_time": "2022-08-19T17:05:44.215Z"
   },
   {
    "duration": 20,
    "start_time": "2022-08-19T17:05:44.399Z"
   },
   {
    "duration": 21,
    "start_time": "2022-08-19T17:05:44.421Z"
   },
   {
    "duration": 38,
    "start_time": "2022-08-19T17:05:44.444Z"
   },
   {
    "duration": 15,
    "start_time": "2022-08-19T17:05:44.484Z"
   },
   {
    "duration": 28,
    "start_time": "2022-08-19T17:05:44.500Z"
   },
   {
    "duration": 262,
    "start_time": "2022-08-19T17:05:44.530Z"
   },
   {
    "duration": 30,
    "start_time": "2022-08-19T17:05:44.794Z"
   },
   {
    "duration": 17,
    "start_time": "2022-08-19T17:05:44.826Z"
   },
   {
    "duration": 27,
    "start_time": "2022-08-19T17:05:44.844Z"
   },
   {
    "duration": 21,
    "start_time": "2022-08-19T17:05:44.872Z"
   },
   {
    "duration": 190,
    "start_time": "2022-08-19T17:05:44.896Z"
   },
   {
    "duration": 462,
    "start_time": "2022-08-19T17:05:45.088Z"
   },
   {
    "duration": 27,
    "start_time": "2022-08-19T17:05:45.554Z"
   },
   {
    "duration": 10,
    "start_time": "2022-08-19T17:05:45.583Z"
   },
   {
    "duration": 25,
    "start_time": "2022-08-19T17:05:45.595Z"
   },
   {
    "duration": 110,
    "start_time": "2022-08-19T17:05:45.621Z"
   },
   {
    "duration": 6,
    "start_time": "2022-08-19T17:05:45.732Z"
   },
   {
    "duration": 48,
    "start_time": "2022-08-19T17:05:45.739Z"
   },
   {
    "duration": 181,
    "start_time": "2022-08-19T17:05:45.789Z"
   },
   {
    "duration": 422,
    "start_time": "2022-08-19T17:05:45.972Z"
   },
   {
    "duration": 15,
    "start_time": "2022-08-19T17:05:46.396Z"
   },
   {
    "duration": 24,
    "start_time": "2022-08-19T17:05:46.413Z"
   },
   {
    "duration": 224,
    "start_time": "2022-08-19T17:05:46.439Z"
   },
   {
    "duration": 20,
    "start_time": "2022-08-19T17:05:46.667Z"
   },
   {
    "duration": 210,
    "start_time": "2022-08-19T17:05:46.689Z"
   },
   {
    "duration": 5,
    "start_time": "2022-08-19T17:05:46.901Z"
   },
   {
    "duration": 25,
    "start_time": "2022-08-19T17:05:46.908Z"
   },
   {
    "duration": 38,
    "start_time": "2022-08-19T17:05:46.935Z"
   },
   {
    "duration": 379,
    "start_time": "2022-08-19T17:05:46.975Z"
   },
   {
    "duration": 21,
    "start_time": "2022-08-19T17:05:47.356Z"
   },
   {
    "duration": 50,
    "start_time": "2022-08-19T17:05:47.379Z"
   },
   {
    "duration": 61,
    "start_time": "2022-08-19T17:05:47.431Z"
   },
   {
    "duration": 3,
    "start_time": "2022-08-19T17:05:47.494Z"
   },
   {
    "duration": 8,
    "start_time": "2022-08-19T17:05:47.499Z"
   },
   {
    "duration": 8,
    "start_time": "2022-08-19T17:05:47.509Z"
   },
   {
    "duration": 8,
    "start_time": "2022-08-19T17:05:47.519Z"
   },
   {
    "duration": 4526,
    "start_time": "2022-08-19T17:05:47.529Z"
   },
   {
    "duration": 4274,
    "start_time": "2022-08-19T17:05:52.056Z"
   },
   {
    "duration": 12,
    "start_time": "2022-08-19T17:05:56.332Z"
   },
   {
    "duration": 61,
    "start_time": "2022-08-19T17:05:56.346Z"
   },
   {
    "duration": 762,
    "start_time": "2022-08-19T17:05:56.409Z"
   },
   {
    "duration": 102,
    "start_time": "2022-08-19T17:05:57.173Z"
   },
   {
    "duration": 104,
    "start_time": "2022-08-19T17:05:57.277Z"
   },
   {
    "duration": 6,
    "start_time": "2022-08-19T17:05:57.383Z"
   },
   {
    "duration": 42,
    "start_time": "2022-08-19T17:05:57.391Z"
   },
   {
    "duration": 737,
    "start_time": "2022-08-19T17:05:57.435Z"
   },
   {
    "duration": 110633,
    "start_time": "2022-08-19T17:05:58.174Z"
   },
   {
    "duration": 1390,
    "start_time": "2022-08-19T17:10:31.469Z"
   },
   {
    "duration": 996,
    "start_time": "2022-08-19T17:10:32.861Z"
   },
   {
    "duration": 125,
    "start_time": "2022-08-19T17:10:33.859Z"
   },
   {
    "duration": 23,
    "start_time": "2022-08-19T17:10:33.986Z"
   },
   {
    "duration": 19,
    "start_time": "2022-08-19T17:10:34.013Z"
   },
   {
    "duration": 49,
    "start_time": "2022-08-19T17:10:34.035Z"
   },
   {
    "duration": 7,
    "start_time": "2022-08-19T17:10:34.087Z"
   },
   {
    "duration": 343,
    "start_time": "2022-08-19T17:10:34.097Z"
   },
   {
    "duration": 66,
    "start_time": "2022-08-19T17:10:34.443Z"
   },
   {
    "duration": 21,
    "start_time": "2022-08-19T17:10:34.511Z"
   },
   {
    "duration": 18,
    "start_time": "2022-08-19T17:10:34.533Z"
   },
   {
    "duration": 80,
    "start_time": "2022-08-19T17:10:34.569Z"
   },
   {
    "duration": 27,
    "start_time": "2022-08-19T17:10:34.651Z"
   },
   {
    "duration": 24,
    "start_time": "2022-08-19T17:10:34.681Z"
   },
   {
    "duration": 177,
    "start_time": "2022-08-19T17:10:34.707Z"
   },
   {
    "duration": 21,
    "start_time": "2022-08-19T17:10:34.886Z"
   },
   {
    "duration": 24,
    "start_time": "2022-08-19T17:10:34.909Z"
   },
   {
    "duration": 36,
    "start_time": "2022-08-19T17:10:34.935Z"
   },
   {
    "duration": 20,
    "start_time": "2022-08-19T17:10:34.973Z"
   },
   {
    "duration": 20,
    "start_time": "2022-08-19T17:10:34.995Z"
   },
   {
    "duration": 303,
    "start_time": "2022-08-19T17:10:35.017Z"
   },
   {
    "duration": 45,
    "start_time": "2022-08-19T17:10:35.323Z"
   },
   {
    "duration": 18,
    "start_time": "2022-08-19T17:10:35.370Z"
   },
   {
    "duration": 11,
    "start_time": "2022-08-19T17:10:35.390Z"
   },
   {
    "duration": 22,
    "start_time": "2022-08-19T17:10:35.403Z"
   },
   {
    "duration": 203,
    "start_time": "2022-08-19T17:10:35.427Z"
   },
   {
    "duration": 452,
    "start_time": "2022-08-19T17:10:35.632Z"
   },
   {
    "duration": 21,
    "start_time": "2022-08-19T17:10:36.087Z"
   },
   {
    "duration": 7,
    "start_time": "2022-08-19T17:10:36.111Z"
   },
   {
    "duration": 51,
    "start_time": "2022-08-19T17:10:36.120Z"
   },
   {
    "duration": 8,
    "start_time": "2022-08-19T17:10:36.174Z"
   },
   {
    "duration": 11,
    "start_time": "2022-08-19T17:10:36.184Z"
   },
   {
    "duration": 27,
    "start_time": "2022-08-19T17:10:36.197Z"
   },
   {
    "duration": 346,
    "start_time": "2022-08-19T17:10:36.226Z"
   },
   {
    "duration": 487,
    "start_time": "2022-08-19T17:10:36.574Z"
   },
   {
    "duration": 20,
    "start_time": "2022-08-19T17:10:37.063Z"
   },
   {
    "duration": 51,
    "start_time": "2022-08-19T17:10:37.087Z"
   },
   {
    "duration": 185,
    "start_time": "2022-08-19T17:10:37.141Z"
   },
   {
    "duration": 19,
    "start_time": "2022-08-19T17:10:37.328Z"
   },
   {
    "duration": 226,
    "start_time": "2022-08-19T17:10:37.350Z"
   },
   {
    "duration": 6,
    "start_time": "2022-08-19T17:10:37.582Z"
   },
   {
    "duration": 32,
    "start_time": "2022-08-19T17:10:37.590Z"
   },
   {
    "duration": 21,
    "start_time": "2022-08-19T17:10:37.624Z"
   },
   {
    "duration": 401,
    "start_time": "2022-08-19T17:10:37.647Z"
   },
   {
    "duration": 19,
    "start_time": "2022-08-19T17:10:38.050Z"
   },
   {
    "duration": 50,
    "start_time": "2022-08-19T17:10:38.071Z"
   },
   {
    "duration": 1538,
    "start_time": "2022-08-19T17:10:38.124Z"
   },
   {
    "duration": 0,
    "start_time": "2022-08-19T17:10:39.664Z"
   },
   {
    "duration": 0,
    "start_time": "2022-08-19T17:10:39.666Z"
   },
   {
    "duration": 0,
    "start_time": "2022-08-19T17:10:39.668Z"
   },
   {
    "duration": 0,
    "start_time": "2022-08-19T17:10:39.669Z"
   },
   {
    "duration": 0,
    "start_time": "2022-08-19T17:10:39.671Z"
   },
   {
    "duration": 0,
    "start_time": "2022-08-19T17:10:39.673Z"
   },
   {
    "duration": 0,
    "start_time": "2022-08-19T17:10:39.674Z"
   },
   {
    "duration": 0,
    "start_time": "2022-08-19T17:10:39.675Z"
   },
   {
    "duration": 0,
    "start_time": "2022-08-19T17:10:39.677Z"
   },
   {
    "duration": 0,
    "start_time": "2022-08-19T17:10:39.678Z"
   },
   {
    "duration": 0,
    "start_time": "2022-08-19T17:10:39.679Z"
   },
   {
    "duration": 0,
    "start_time": "2022-08-19T17:10:39.681Z"
   },
   {
    "duration": 0,
    "start_time": "2022-08-19T17:10:39.682Z"
   },
   {
    "duration": 0,
    "start_time": "2022-08-19T17:10:39.684Z"
   },
   {
    "duration": 0,
    "start_time": "2022-08-19T17:10:39.685Z"
   },
   {
    "duration": 0,
    "start_time": "2022-08-19T17:10:39.686Z"
   },
   {
    "duration": 0,
    "start_time": "2022-08-19T17:10:39.687Z"
   },
   {
    "duration": 0,
    "start_time": "2022-08-19T17:10:39.688Z"
   },
   {
    "duration": 0,
    "start_time": "2022-08-19T17:10:39.689Z"
   },
   {
    "duration": 0,
    "start_time": "2022-08-19T17:10:39.690Z"
   },
   {
    "duration": 14,
    "start_time": "2022-08-19T17:11:38.978Z"
   },
   {
    "duration": 17,
    "start_time": "2022-08-19T17:12:14.411Z"
   },
   {
    "duration": 20,
    "start_time": "2022-08-19T17:12:25.122Z"
   },
   {
    "duration": 19,
    "start_time": "2022-08-19T17:12:26.545Z"
   },
   {
    "duration": 10,
    "start_time": "2022-08-19T17:12:49.633Z"
   },
   {
    "duration": 26,
    "start_time": "2022-08-19T17:13:53.461Z"
   },
   {
    "duration": 1381,
    "start_time": "2022-08-19T17:14:10.506Z"
   },
   {
    "duration": 893,
    "start_time": "2022-08-19T17:14:11.889Z"
   },
   {
    "duration": 123,
    "start_time": "2022-08-19T17:14:12.783Z"
   },
   {
    "duration": 21,
    "start_time": "2022-08-19T17:14:12.908Z"
   },
   {
    "duration": 18,
    "start_time": "2022-08-19T17:14:12.931Z"
   },
   {
    "duration": 19,
    "start_time": "2022-08-19T17:14:12.969Z"
   },
   {
    "duration": 8,
    "start_time": "2022-08-19T17:14:12.990Z"
   },
   {
    "duration": 329,
    "start_time": "2022-08-19T17:14:13.000Z"
   },
   {
    "duration": 64,
    "start_time": "2022-08-19T17:14:13.331Z"
   },
   {
    "duration": 20,
    "start_time": "2022-08-19T17:14:13.398Z"
   },
   {
    "duration": 31,
    "start_time": "2022-08-19T17:14:13.420Z"
   },
   {
    "duration": 85,
    "start_time": "2022-08-19T17:14:13.452Z"
   },
   {
    "duration": 15,
    "start_time": "2022-08-19T17:14:13.539Z"
   },
   {
    "duration": 31,
    "start_time": "2022-08-19T17:14:13.556Z"
   },
   {
    "duration": 165,
    "start_time": "2022-08-19T17:14:13.589Z"
   },
   {
    "duration": 24,
    "start_time": "2022-08-19T17:14:13.756Z"
   },
   {
    "duration": 23,
    "start_time": "2022-08-19T17:14:13.782Z"
   },
   {
    "duration": 19,
    "start_time": "2022-08-19T17:14:13.807Z"
   },
   {
    "duration": 18,
    "start_time": "2022-08-19T17:14:13.828Z"
   },
   {
    "duration": 19,
    "start_time": "2022-08-19T17:14:13.868Z"
   },
   {
    "duration": 266,
    "start_time": "2022-08-19T17:14:13.889Z"
   },
   {
    "duration": 34,
    "start_time": "2022-08-19T17:14:14.157Z"
   },
   {
    "duration": 17,
    "start_time": "2022-08-19T17:14:14.193Z"
   },
   {
    "duration": 9,
    "start_time": "2022-08-19T17:14:14.212Z"
   },
   {
    "duration": 46,
    "start_time": "2022-08-19T17:14:14.223Z"
   },
   {
    "duration": 175,
    "start_time": "2022-08-19T17:14:14.270Z"
   },
   {
    "duration": 452,
    "start_time": "2022-08-19T17:14:14.447Z"
   },
   {
    "duration": 19,
    "start_time": "2022-08-19T17:14:14.904Z"
   },
   {
    "duration": 7,
    "start_time": "2022-08-19T17:14:14.925Z"
   },
   {
    "duration": 43,
    "start_time": "2022-08-19T17:14:14.934Z"
   },
   {
    "duration": 6,
    "start_time": "2022-08-19T17:14:14.979Z"
   },
   {
    "duration": 100,
    "start_time": "2022-08-19T17:14:14.987Z"
   },
   {
    "duration": 28,
    "start_time": "2022-08-19T17:14:15.088Z"
   },
   {
    "duration": 186,
    "start_time": "2022-08-19T17:14:15.118Z"
   },
   {
    "duration": 436,
    "start_time": "2022-08-19T17:14:15.306Z"
   },
   {
    "duration": 16,
    "start_time": "2022-08-19T17:14:15.744Z"
   },
   {
    "duration": 24,
    "start_time": "2022-08-19T17:14:15.768Z"
   },
   {
    "duration": 181,
    "start_time": "2022-08-19T17:14:15.794Z"
   },
   {
    "duration": 16,
    "start_time": "2022-08-19T17:14:15.977Z"
   },
   {
    "duration": 191,
    "start_time": "2022-08-19T17:14:15.995Z"
   },
   {
    "duration": 6,
    "start_time": "2022-08-19T17:14:16.188Z"
   },
   {
    "duration": 41,
    "start_time": "2022-08-19T17:14:16.195Z"
   },
   {
    "duration": 53,
    "start_time": "2022-08-19T17:14:16.238Z"
   },
   {
    "duration": 23,
    "start_time": "2022-08-19T17:14:16.293Z"
   },
   {
    "duration": 478,
    "start_time": "2022-08-19T17:14:16.318Z"
   },
   {
    "duration": 38,
    "start_time": "2022-08-19T17:14:16.799Z"
   },
   {
    "duration": 1820,
    "start_time": "2022-08-19T17:14:16.839Z"
   },
   {
    "duration": 0,
    "start_time": "2022-08-19T17:14:18.661Z"
   },
   {
    "duration": 0,
    "start_time": "2022-08-19T17:14:18.662Z"
   },
   {
    "duration": 0,
    "start_time": "2022-08-19T17:14:18.663Z"
   },
   {
    "duration": 0,
    "start_time": "2022-08-19T17:14:18.665Z"
   },
   {
    "duration": 0,
    "start_time": "2022-08-19T17:14:18.666Z"
   },
   {
    "duration": 0,
    "start_time": "2022-08-19T17:14:18.667Z"
   },
   {
    "duration": 0,
    "start_time": "2022-08-19T17:14:18.668Z"
   },
   {
    "duration": 0,
    "start_time": "2022-08-19T17:14:18.669Z"
   },
   {
    "duration": 0,
    "start_time": "2022-08-19T17:14:18.670Z"
   },
   {
    "duration": 0,
    "start_time": "2022-08-19T17:14:18.671Z"
   },
   {
    "duration": 0,
    "start_time": "2022-08-19T17:14:18.671Z"
   },
   {
    "duration": 0,
    "start_time": "2022-08-19T17:14:18.672Z"
   },
   {
    "duration": 0,
    "start_time": "2022-08-19T17:14:18.673Z"
   },
   {
    "duration": 0,
    "start_time": "2022-08-19T17:14:18.674Z"
   },
   {
    "duration": 0,
    "start_time": "2022-08-19T17:14:18.675Z"
   },
   {
    "duration": 0,
    "start_time": "2022-08-19T17:14:18.676Z"
   },
   {
    "duration": 0,
    "start_time": "2022-08-19T17:14:18.677Z"
   },
   {
    "duration": 0,
    "start_time": "2022-08-19T17:14:18.678Z"
   },
   {
    "duration": 0,
    "start_time": "2022-08-19T17:14:18.679Z"
   },
   {
    "duration": 1,
    "start_time": "2022-08-19T17:14:18.679Z"
   },
   {
    "duration": 20,
    "start_time": "2022-08-19T17:14:39.331Z"
   },
   {
    "duration": 1254,
    "start_time": "2022-08-19T17:14:41.801Z"
   },
   {
    "duration": 19,
    "start_time": "2022-08-19T17:15:00.535Z"
   },
   {
    "duration": 1409,
    "start_time": "2022-08-19T17:15:23.449Z"
   },
   {
    "duration": 935,
    "start_time": "2022-08-19T17:15:24.860Z"
   },
   {
    "duration": 126,
    "start_time": "2022-08-19T17:15:25.797Z"
   },
   {
    "duration": 24,
    "start_time": "2022-08-19T17:15:25.924Z"
   },
   {
    "duration": 16,
    "start_time": "2022-08-19T17:15:25.968Z"
   },
   {
    "duration": 22,
    "start_time": "2022-08-19T17:15:25.986Z"
   },
   {
    "duration": 7,
    "start_time": "2022-08-19T17:15:26.010Z"
   },
   {
    "duration": 333,
    "start_time": "2022-08-19T17:15:26.020Z"
   },
   {
    "duration": 73,
    "start_time": "2022-08-19T17:15:26.356Z"
   },
   {
    "duration": 20,
    "start_time": "2022-08-19T17:15:26.431Z"
   },
   {
    "duration": 20,
    "start_time": "2022-08-19T17:15:26.469Z"
   },
   {
    "duration": 109,
    "start_time": "2022-08-19T17:15:26.491Z"
   },
   {
    "duration": 16,
    "start_time": "2022-08-19T17:15:26.603Z"
   },
   {
    "duration": 25,
    "start_time": "2022-08-19T17:15:26.624Z"
   },
   {
    "duration": 229,
    "start_time": "2022-08-19T17:15:26.652Z"
   },
   {
    "duration": 21,
    "start_time": "2022-08-19T17:15:26.883Z"
   },
   {
    "duration": 21,
    "start_time": "2022-08-19T17:15:26.906Z"
   },
   {
    "duration": 21,
    "start_time": "2022-08-19T17:15:26.928Z"
   },
   {
    "duration": 23,
    "start_time": "2022-08-19T17:15:26.951Z"
   },
   {
    "duration": 46,
    "start_time": "2022-08-19T17:15:26.976Z"
   },
   {
    "duration": 353,
    "start_time": "2022-08-19T17:15:27.024Z"
   },
   {
    "duration": 88,
    "start_time": "2022-08-19T17:15:27.380Z"
   },
   {
    "duration": 20,
    "start_time": "2022-08-19T17:15:27.470Z"
   },
   {
    "duration": 12,
    "start_time": "2022-08-19T17:15:27.492Z"
   },
   {
    "duration": 92,
    "start_time": "2022-08-19T17:15:27.507Z"
   },
   {
    "duration": 281,
    "start_time": "2022-08-19T17:15:27.602Z"
   },
   {
    "duration": 439,
    "start_time": "2022-08-19T17:15:27.885Z"
   },
   {
    "duration": 25,
    "start_time": "2022-08-19T17:15:28.327Z"
   },
   {
    "duration": 19,
    "start_time": "2022-08-19T17:15:28.354Z"
   },
   {
    "duration": 23,
    "start_time": "2022-08-19T17:15:28.375Z"
   },
   {
    "duration": 7,
    "start_time": "2022-08-19T17:15:28.400Z"
   },
   {
    "duration": 8,
    "start_time": "2022-08-19T17:15:28.409Z"
   },
   {
    "duration": 59,
    "start_time": "2022-08-19T17:15:28.419Z"
   },
   {
    "duration": 269,
    "start_time": "2022-08-19T17:15:28.480Z"
   },
   {
    "duration": 408,
    "start_time": "2022-08-19T17:15:28.751Z"
   },
   {
    "duration": 20,
    "start_time": "2022-08-19T17:15:29.161Z"
   },
   {
    "duration": 25,
    "start_time": "2022-08-19T17:15:29.182Z"
   },
   {
    "duration": 185,
    "start_time": "2022-08-19T17:15:29.208Z"
   },
   {
    "duration": 17,
    "start_time": "2022-08-19T17:15:29.395Z"
   },
   {
    "duration": 200,
    "start_time": "2022-08-19T17:15:29.414Z"
   },
   {
    "duration": 6,
    "start_time": "2022-08-19T17:15:29.618Z"
   },
   {
    "duration": 23,
    "start_time": "2022-08-19T17:15:29.625Z"
   },
   {
    "duration": 57,
    "start_time": "2022-08-19T17:15:29.650Z"
   },
   {
    "duration": 22,
    "start_time": "2022-08-19T17:15:29.709Z"
   },
   {
    "duration": 409,
    "start_time": "2022-08-19T17:15:29.733Z"
   },
   {
    "duration": 12,
    "start_time": "2022-08-19T17:15:30.144Z"
   },
   {
    "duration": 1572,
    "start_time": "2022-08-19T17:15:30.158Z"
   },
   {
    "duration": 0,
    "start_time": "2022-08-19T17:15:31.732Z"
   },
   {
    "duration": 0,
    "start_time": "2022-08-19T17:15:31.733Z"
   },
   {
    "duration": 0,
    "start_time": "2022-08-19T17:15:31.734Z"
   },
   {
    "duration": 0,
    "start_time": "2022-08-19T17:15:31.736Z"
   },
   {
    "duration": 0,
    "start_time": "2022-08-19T17:15:31.737Z"
   },
   {
    "duration": 0,
    "start_time": "2022-08-19T17:15:31.738Z"
   },
   {
    "duration": 0,
    "start_time": "2022-08-19T17:15:31.740Z"
   },
   {
    "duration": 0,
    "start_time": "2022-08-19T17:15:31.740Z"
   },
   {
    "duration": 0,
    "start_time": "2022-08-19T17:15:31.741Z"
   },
   {
    "duration": 0,
    "start_time": "2022-08-19T17:15:31.744Z"
   },
   {
    "duration": 0,
    "start_time": "2022-08-19T17:15:31.744Z"
   },
   {
    "duration": 0,
    "start_time": "2022-08-19T17:15:31.745Z"
   },
   {
    "duration": 0,
    "start_time": "2022-08-19T17:15:31.747Z"
   },
   {
    "duration": 0,
    "start_time": "2022-08-19T17:15:31.748Z"
   },
   {
    "duration": 0,
    "start_time": "2022-08-19T17:15:31.749Z"
   },
   {
    "duration": 0,
    "start_time": "2022-08-19T17:15:31.750Z"
   },
   {
    "duration": 0,
    "start_time": "2022-08-19T17:15:31.751Z"
   },
   {
    "duration": 0,
    "start_time": "2022-08-19T17:15:31.752Z"
   },
   {
    "duration": 0,
    "start_time": "2022-08-19T17:15:31.753Z"
   },
   {
    "duration": 0,
    "start_time": "2022-08-19T17:15:31.753Z"
   },
   {
    "duration": 16,
    "start_time": "2022-08-19T17:15:54.706Z"
   },
   {
    "duration": 25,
    "start_time": "2022-08-19T17:16:11.519Z"
   },
   {
    "duration": 15,
    "start_time": "2022-08-19T17:17:18.233Z"
   },
   {
    "duration": 1428,
    "start_time": "2022-08-19T17:17:24.365Z"
   },
   {
    "duration": 1017,
    "start_time": "2022-08-19T17:17:25.795Z"
   },
   {
    "duration": 126,
    "start_time": "2022-08-19T17:17:26.814Z"
   },
   {
    "duration": 29,
    "start_time": "2022-08-19T17:17:26.941Z"
   },
   {
    "duration": 27,
    "start_time": "2022-08-19T17:17:26.973Z"
   },
   {
    "duration": 46,
    "start_time": "2022-08-19T17:17:27.002Z"
   },
   {
    "duration": 41,
    "start_time": "2022-08-19T17:17:27.051Z"
   },
   {
    "duration": 423,
    "start_time": "2022-08-19T17:17:27.094Z"
   },
   {
    "duration": 65,
    "start_time": "2022-08-19T17:17:27.519Z"
   },
   {
    "duration": 19,
    "start_time": "2022-08-19T17:17:27.586Z"
   },
   {
    "duration": 21,
    "start_time": "2022-08-19T17:17:27.606Z"
   },
   {
    "duration": 96,
    "start_time": "2022-08-19T17:17:27.629Z"
   },
   {
    "duration": 15,
    "start_time": "2022-08-19T17:17:27.727Z"
   },
   {
    "duration": 29,
    "start_time": "2022-08-19T17:17:27.745Z"
   },
   {
    "duration": 165,
    "start_time": "2022-08-19T17:17:27.776Z"
   },
   {
    "duration": 28,
    "start_time": "2022-08-19T17:17:27.943Z"
   },
   {
    "duration": 22,
    "start_time": "2022-08-19T17:17:27.973Z"
   },
   {
    "duration": 19,
    "start_time": "2022-08-19T17:17:27.997Z"
   },
   {
    "duration": 19,
    "start_time": "2022-08-19T17:17:28.018Z"
   },
   {
    "duration": 41,
    "start_time": "2022-08-19T17:17:28.038Z"
   },
   {
    "duration": 257,
    "start_time": "2022-08-19T17:17:28.081Z"
   },
   {
    "duration": 35,
    "start_time": "2022-08-19T17:17:28.339Z"
   },
   {
    "duration": 16,
    "start_time": "2022-08-19T17:17:28.376Z"
   },
   {
    "duration": 10,
    "start_time": "2022-08-19T17:17:28.394Z"
   },
   {
    "duration": 20,
    "start_time": "2022-08-19T17:17:28.406Z"
   },
   {
    "duration": 196,
    "start_time": "2022-08-19T17:17:28.428Z"
   },
   {
    "duration": 454,
    "start_time": "2022-08-19T17:17:28.625Z"
   },
   {
    "duration": 19,
    "start_time": "2022-08-19T17:17:29.082Z"
   },
   {
    "duration": 7,
    "start_time": "2022-08-19T17:17:29.102Z"
   },
   {
    "duration": 23,
    "start_time": "2022-08-19T17:17:29.111Z"
   },
   {
    "duration": 7,
    "start_time": "2022-08-19T17:17:29.136Z"
   },
   {
    "duration": 33,
    "start_time": "2022-08-19T17:17:29.144Z"
   },
   {
    "duration": 31,
    "start_time": "2022-08-19T17:17:29.178Z"
   },
   {
    "duration": 264,
    "start_time": "2022-08-19T17:17:29.211Z"
   },
   {
    "duration": 449,
    "start_time": "2022-08-19T17:17:29.477Z"
   },
   {
    "duration": 16,
    "start_time": "2022-08-19T17:17:29.928Z"
   },
   {
    "duration": 39,
    "start_time": "2022-08-19T17:17:29.946Z"
   },
   {
    "duration": 207,
    "start_time": "2022-08-19T17:17:29.987Z"
   },
   {
    "duration": 20,
    "start_time": "2022-08-19T17:17:30.196Z"
   },
   {
    "duration": 212,
    "start_time": "2022-08-19T17:17:30.218Z"
   },
   {
    "duration": 5,
    "start_time": "2022-08-19T17:17:30.435Z"
   },
   {
    "duration": 40,
    "start_time": "2022-08-19T17:17:30.442Z"
   },
   {
    "duration": 42,
    "start_time": "2022-08-19T17:17:30.484Z"
   },
   {
    "duration": 23,
    "start_time": "2022-08-19T17:17:30.528Z"
   },
   {
    "duration": 417,
    "start_time": "2022-08-19T17:17:30.567Z"
   },
   {
    "duration": 18,
    "start_time": "2022-08-19T17:17:30.986Z"
   },
   {
    "duration": 11,
    "start_time": "2022-08-19T17:17:31.006Z"
   },
   {
    "duration": 77,
    "start_time": "2022-08-19T17:17:31.019Z"
   },
   {
    "duration": 3,
    "start_time": "2022-08-19T17:17:31.098Z"
   },
   {
    "duration": 17,
    "start_time": "2022-08-19T17:17:31.104Z"
   },
   {
    "duration": 15,
    "start_time": "2022-08-19T17:17:31.123Z"
   },
   {
    "duration": 14,
    "start_time": "2022-08-19T17:17:31.140Z"
   },
   {
    "duration": 4451,
    "start_time": "2022-08-19T17:17:31.156Z"
   },
   {
    "duration": 4134,
    "start_time": "2022-08-19T17:17:35.608Z"
   },
   {
    "duration": 10,
    "start_time": "2022-08-19T17:17:39.743Z"
   },
   {
    "duration": 40,
    "start_time": "2022-08-19T17:17:39.754Z"
   },
   {
    "duration": 582,
    "start_time": "2022-08-19T17:17:39.797Z"
   },
   {
    "duration": 91,
    "start_time": "2022-08-19T17:17:40.382Z"
   },
   {
    "duration": 129,
    "start_time": "2022-08-19T17:17:40.480Z"
   },
   {
    "duration": 6,
    "start_time": "2022-08-19T17:17:40.611Z"
   },
   {
    "duration": 45,
    "start_time": "2022-08-19T17:17:40.619Z"
   },
   {
    "duration": 507,
    "start_time": "2022-08-19T17:17:40.667Z"
   },
   {
    "duration": 1618,
    "start_time": "2022-08-19T18:17:00.589Z"
   },
   {
    "duration": 1136,
    "start_time": "2022-08-19T18:17:02.210Z"
   },
   {
    "duration": 247,
    "start_time": "2022-08-19T18:17:03.348Z"
   },
   {
    "duration": 26,
    "start_time": "2022-08-19T18:17:03.598Z"
   },
   {
    "duration": 20,
    "start_time": "2022-08-19T18:17:03.628Z"
   },
   {
    "duration": 31,
    "start_time": "2022-08-19T18:17:03.675Z"
   },
   {
    "duration": 9,
    "start_time": "2022-08-19T18:17:03.708Z"
   },
   {
    "duration": 407,
    "start_time": "2022-08-19T18:17:03.720Z"
   },
   {
    "duration": 79,
    "start_time": "2022-08-19T18:17:04.130Z"
   },
   {
    "duration": 27,
    "start_time": "2022-08-19T18:17:04.211Z"
   },
   {
    "duration": 49,
    "start_time": "2022-08-19T18:17:04.240Z"
   },
   {
    "duration": 131,
    "start_time": "2022-08-19T18:17:04.298Z"
   },
   {
    "duration": 21,
    "start_time": "2022-08-19T18:17:04.433Z"
   },
   {
    "duration": 40,
    "start_time": "2022-08-19T18:17:04.457Z"
   },
   {
    "duration": 255,
    "start_time": "2022-08-19T18:17:04.500Z"
   },
   {
    "duration": 48,
    "start_time": "2022-08-19T18:17:04.757Z"
   },
   {
    "duration": 68,
    "start_time": "2022-08-19T18:17:04.808Z"
   },
   {
    "duration": 74,
    "start_time": "2022-08-19T18:17:04.879Z"
   },
   {
    "duration": 168,
    "start_time": "2022-08-19T18:17:04.956Z"
   },
   {
    "duration": 67,
    "start_time": "2022-08-19T18:17:05.126Z"
   },
   {
    "duration": 293,
    "start_time": "2022-08-19T18:17:05.195Z"
   },
   {
    "duration": 39,
    "start_time": "2022-08-19T18:17:05.495Z"
   },
   {
    "duration": 30,
    "start_time": "2022-08-19T18:17:05.537Z"
   },
   {
    "duration": 12,
    "start_time": "2022-08-19T18:17:05.575Z"
   },
   {
    "duration": 53,
    "start_time": "2022-08-19T18:17:05.589Z"
   },
   {
    "duration": 252,
    "start_time": "2022-08-19T18:17:05.645Z"
   },
   {
    "duration": 580,
    "start_time": "2022-08-19T18:17:05.900Z"
   },
   {
    "duration": 25,
    "start_time": "2022-08-19T18:17:06.482Z"
   },
   {
    "duration": 27,
    "start_time": "2022-08-19T18:17:06.512Z"
   },
   {
    "duration": 67,
    "start_time": "2022-08-19T18:17:06.542Z"
   },
   {
    "duration": 17,
    "start_time": "2022-08-19T18:17:06.612Z"
   },
   {
    "duration": 9,
    "start_time": "2022-08-19T18:17:06.631Z"
   },
   {
    "duration": 48,
    "start_time": "2022-08-19T18:17:06.643Z"
   },
   {
    "duration": 419,
    "start_time": "2022-08-19T18:17:06.696Z"
   },
   {
    "duration": 527,
    "start_time": "2022-08-19T18:17:07.118Z"
   },
   {
    "duration": 35,
    "start_time": "2022-08-19T18:17:07.648Z"
   },
   {
    "duration": 30,
    "start_time": "2022-08-19T18:17:07.685Z"
   },
   {
    "duration": 197,
    "start_time": "2022-08-19T18:17:07.717Z"
   },
   {
    "duration": 23,
    "start_time": "2022-08-19T18:17:07.916Z"
   },
   {
    "duration": 267,
    "start_time": "2022-08-19T18:17:07.944Z"
   },
   {
    "duration": 7,
    "start_time": "2022-08-19T18:17:08.218Z"
   },
   {
    "duration": 49,
    "start_time": "2022-08-19T18:17:08.227Z"
   },
   {
    "duration": 48,
    "start_time": "2022-08-19T18:17:08.282Z"
   },
   {
    "duration": 23,
    "start_time": "2022-08-19T18:17:08.332Z"
   },
   {
    "duration": 506,
    "start_time": "2022-08-19T18:17:08.370Z"
   },
   {
    "duration": 28,
    "start_time": "2022-08-19T18:17:08.878Z"
   },
   {
    "duration": 13,
    "start_time": "2022-08-19T18:17:08.908Z"
   },
   {
    "duration": 103,
    "start_time": "2022-08-19T18:17:08.926Z"
   },
   {
    "duration": 4,
    "start_time": "2022-08-19T18:17:09.031Z"
   },
   {
    "duration": 5,
    "start_time": "2022-08-19T18:17:09.037Z"
   },
   {
    "duration": 8,
    "start_time": "2022-08-19T18:17:09.045Z"
   },
   {
    "duration": 15,
    "start_time": "2022-08-19T18:17:09.068Z"
   },
   {
    "duration": 5412,
    "start_time": "2022-08-19T18:17:09.088Z"
   },
   {
    "duration": 4532,
    "start_time": "2022-08-19T18:17:14.502Z"
   },
   {
    "duration": 10,
    "start_time": "2022-08-19T18:17:19.036Z"
   },
   {
    "duration": 48,
    "start_time": "2022-08-19T18:17:19.048Z"
   },
   {
    "duration": 697,
    "start_time": "2022-08-19T18:17:19.098Z"
   },
   {
    "duration": 88,
    "start_time": "2022-08-19T18:17:19.797Z"
   },
   {
    "duration": 117,
    "start_time": "2022-08-19T18:17:19.888Z"
   },
   {
    "duration": 7,
    "start_time": "2022-08-19T18:17:20.006Z"
   },
   {
    "duration": 43,
    "start_time": "2022-08-19T18:17:20.015Z"
   },
   {
    "duration": 420,
    "start_time": "2022-08-19T18:17:20.060Z"
   },
   {
    "duration": 278,
    "start_time": "2022-08-19T18:17:20.482Z"
   },
   {
    "duration": 0,
    "start_time": "2022-08-19T18:17:20.762Z"
   },
   {
    "duration": 0,
    "start_time": "2022-08-19T18:17:20.771Z"
   },
   {
    "duration": 0,
    "start_time": "2022-08-19T18:17:20.775Z"
   },
   {
    "duration": 0,
    "start_time": "2022-08-19T18:17:20.780Z"
   },
   {
    "duration": 0,
    "start_time": "2022-08-19T18:17:20.785Z"
   },
   {
    "duration": 1,
    "start_time": "2022-08-19T18:17:20.785Z"
   },
   {
    "duration": 22,
    "start_time": "2022-08-19T18:18:53.443Z"
   },
   {
    "duration": 35,
    "start_time": "2022-08-19T18:19:07.765Z"
   },
   {
    "duration": 1654,
    "start_time": "2022-08-19T18:19:52.924Z"
   },
   {
    "duration": 1171,
    "start_time": "2022-08-19T18:19:54.585Z"
   },
   {
    "duration": 163,
    "start_time": "2022-08-19T18:19:55.757Z"
   },
   {
    "duration": 23,
    "start_time": "2022-08-19T18:19:55.923Z"
   },
   {
    "duration": 47,
    "start_time": "2022-08-19T18:19:55.949Z"
   },
   {
    "duration": 38,
    "start_time": "2022-08-19T18:19:56.001Z"
   },
   {
    "duration": 8,
    "start_time": "2022-08-19T18:19:56.042Z"
   },
   {
    "duration": 371,
    "start_time": "2022-08-19T18:19:56.052Z"
   },
   {
    "duration": 93,
    "start_time": "2022-08-19T18:19:56.426Z"
   },
   {
    "duration": 33,
    "start_time": "2022-08-19T18:19:56.523Z"
   },
   {
    "duration": 29,
    "start_time": "2022-08-19T18:19:56.567Z"
   },
   {
    "duration": 134,
    "start_time": "2022-08-19T18:19:56.599Z"
   },
   {
    "duration": 51,
    "start_time": "2022-08-19T18:19:56.736Z"
   },
   {
    "duration": 38,
    "start_time": "2022-08-19T18:19:56.792Z"
   },
   {
    "duration": 207,
    "start_time": "2022-08-19T18:19:56.834Z"
   },
   {
    "duration": 28,
    "start_time": "2022-08-19T18:19:57.043Z"
   },
   {
    "duration": 34,
    "start_time": "2022-08-19T18:19:57.075Z"
   },
   {
    "duration": 20,
    "start_time": "2022-08-19T18:19:57.111Z"
   },
   {
    "duration": 18,
    "start_time": "2022-08-19T18:19:57.134Z"
   },
   {
    "duration": 38,
    "start_time": "2022-08-19T18:19:57.155Z"
   },
   {
    "duration": 284,
    "start_time": "2022-08-19T18:19:57.194Z"
   },
   {
    "duration": 35,
    "start_time": "2022-08-19T18:19:57.485Z"
   },
   {
    "duration": 18,
    "start_time": "2022-08-19T18:19:57.522Z"
   },
   {
    "duration": 37,
    "start_time": "2022-08-19T18:19:57.542Z"
   },
   {
    "duration": 25,
    "start_time": "2022-08-19T18:19:57.584Z"
   },
   {
    "duration": 196,
    "start_time": "2022-08-19T18:19:57.611Z"
   },
   {
    "duration": 515,
    "start_time": "2022-08-19T18:19:57.809Z"
   },
   {
    "duration": 22,
    "start_time": "2022-08-19T18:19:58.330Z"
   },
   {
    "duration": 19,
    "start_time": "2022-08-19T18:19:58.370Z"
   },
   {
    "duration": 27,
    "start_time": "2022-08-19T18:19:58.390Z"
   },
   {
    "duration": 106,
    "start_time": "2022-08-19T18:19:58.419Z"
   },
   {
    "duration": 9,
    "start_time": "2022-08-19T18:19:58.527Z"
   },
   {
    "duration": 49,
    "start_time": "2022-08-19T18:19:58.539Z"
   },
   {
    "duration": 202,
    "start_time": "2022-08-19T18:19:58.590Z"
   },
   {
    "duration": 488,
    "start_time": "2022-08-19T18:19:58.794Z"
   },
   {
    "duration": 21,
    "start_time": "2022-08-19T18:19:59.286Z"
   },
   {
    "duration": 33,
    "start_time": "2022-08-19T18:19:59.310Z"
   },
   {
    "duration": 233,
    "start_time": "2022-08-19T18:19:59.345Z"
   },
   {
    "duration": 21,
    "start_time": "2022-08-19T18:19:59.581Z"
   },
   {
    "duration": 223,
    "start_time": "2022-08-19T18:19:59.604Z"
   },
   {
    "duration": 7,
    "start_time": "2022-08-19T18:19:59.830Z"
   },
   {
    "duration": 49,
    "start_time": "2022-08-19T18:19:59.839Z"
   },
   {
    "duration": 50,
    "start_time": "2022-08-19T18:19:59.890Z"
   },
   {
    "duration": 45,
    "start_time": "2022-08-19T18:19:59.942Z"
   },
   {
    "duration": 558,
    "start_time": "2022-08-19T18:19:59.990Z"
   },
   {
    "duration": 47,
    "start_time": "2022-08-19T18:20:00.550Z"
   },
   {
    "duration": 30,
    "start_time": "2022-08-19T18:20:00.600Z"
   },
   {
    "duration": 111,
    "start_time": "2022-08-19T18:20:00.633Z"
   },
   {
    "duration": 5,
    "start_time": "2022-08-19T18:20:00.747Z"
   },
   {
    "duration": 14,
    "start_time": "2022-08-19T18:20:00.769Z"
   },
   {
    "duration": 21,
    "start_time": "2022-08-19T18:20:00.786Z"
   },
   {
    "duration": 14,
    "start_time": "2022-08-19T18:20:00.810Z"
   },
   {
    "duration": 5770,
    "start_time": "2022-08-19T18:20:00.827Z"
   },
   {
    "duration": 5150,
    "start_time": "2022-08-19T18:20:06.600Z"
   },
   {
    "duration": 29,
    "start_time": "2022-08-19T18:20:11.752Z"
   },
   {
    "duration": 35,
    "start_time": "2022-08-19T18:20:11.783Z"
   },
   {
    "duration": 751,
    "start_time": "2022-08-19T18:20:11.820Z"
   },
   {
    "duration": 24,
    "start_time": "2022-08-19T18:20:12.577Z"
   },
   {
    "duration": 55,
    "start_time": "2022-08-19T18:20:12.669Z"
   },
   {
    "duration": 7,
    "start_time": "2022-08-19T18:20:12.726Z"
   },
   {
    "duration": 46,
    "start_time": "2022-08-19T18:20:12.735Z"
   },
   {
    "duration": 707,
    "start_time": "2022-08-19T18:20:12.784Z"
   },
   {
    "duration": 250,
    "start_time": "2022-08-19T18:20:13.502Z"
   },
   {
    "duration": 0,
    "start_time": "2022-08-19T18:20:13.755Z"
   },
   {
    "duration": 0,
    "start_time": "2022-08-19T18:20:13.756Z"
   },
   {
    "duration": 0,
    "start_time": "2022-08-19T18:20:13.757Z"
   },
   {
    "duration": 0,
    "start_time": "2022-08-19T18:20:13.759Z"
   },
   {
    "duration": 0,
    "start_time": "2022-08-19T18:20:13.760Z"
   },
   {
    "duration": 0,
    "start_time": "2022-08-19T18:20:13.774Z"
   },
   {
    "duration": 1392,
    "start_time": "2022-08-19T18:37:59.513Z"
   },
   {
    "duration": 1110,
    "start_time": "2022-08-19T18:38:00.907Z"
   },
   {
    "duration": 136,
    "start_time": "2022-08-19T18:38:02.019Z"
   },
   {
    "duration": 29,
    "start_time": "2022-08-19T18:38:02.158Z"
   },
   {
    "duration": 26,
    "start_time": "2022-08-19T18:38:02.190Z"
   },
   {
    "duration": 24,
    "start_time": "2022-08-19T18:38:02.218Z"
   },
   {
    "duration": 6,
    "start_time": "2022-08-19T18:38:02.244Z"
   },
   {
    "duration": 330,
    "start_time": "2022-08-19T18:38:02.268Z"
   },
   {
    "duration": 55,
    "start_time": "2022-08-19T18:38:02.600Z"
   },
   {
    "duration": 28,
    "start_time": "2022-08-19T18:38:02.669Z"
   },
   {
    "duration": 16,
    "start_time": "2022-08-19T18:38:02.699Z"
   },
   {
    "duration": 92,
    "start_time": "2022-08-19T18:38:02.717Z"
   },
   {
    "duration": 17,
    "start_time": "2022-08-19T18:38:02.812Z"
   },
   {
    "duration": 47,
    "start_time": "2022-08-19T18:38:02.832Z"
   },
   {
    "duration": 164,
    "start_time": "2022-08-19T18:38:02.883Z"
   },
   {
    "duration": 36,
    "start_time": "2022-08-19T18:38:03.049Z"
   },
   {
    "duration": 18,
    "start_time": "2022-08-19T18:38:03.087Z"
   },
   {
    "duration": 20,
    "start_time": "2022-08-19T18:38:03.107Z"
   },
   {
    "duration": 16,
    "start_time": "2022-08-19T18:38:03.129Z"
   },
   {
    "duration": 41,
    "start_time": "2022-08-19T18:38:03.147Z"
   },
   {
    "duration": 270,
    "start_time": "2022-08-19T18:38:03.190Z"
   },
   {
    "duration": 48,
    "start_time": "2022-08-19T18:38:03.462Z"
   },
   {
    "duration": 19,
    "start_time": "2022-08-19T18:38:03.512Z"
   },
   {
    "duration": 10,
    "start_time": "2022-08-19T18:38:03.533Z"
   },
   {
    "duration": 41,
    "start_time": "2022-08-19T18:38:03.545Z"
   },
   {
    "duration": 192,
    "start_time": "2022-08-19T18:38:03.588Z"
   },
   {
    "duration": 439,
    "start_time": "2022-08-19T18:38:03.784Z"
   },
   {
    "duration": 19,
    "start_time": "2022-08-19T18:38:04.225Z"
   },
   {
    "duration": 34,
    "start_time": "2022-08-19T18:38:04.246Z"
   },
   {
    "duration": 24,
    "start_time": "2022-08-19T18:38:04.282Z"
   },
   {
    "duration": 7,
    "start_time": "2022-08-19T18:38:04.308Z"
   },
   {
    "duration": 6,
    "start_time": "2022-08-19T18:38:04.316Z"
   },
   {
    "duration": 26,
    "start_time": "2022-08-19T18:38:04.324Z"
   },
   {
    "duration": 279,
    "start_time": "2022-08-19T18:38:04.351Z"
   },
   {
    "duration": 446,
    "start_time": "2022-08-19T18:38:04.632Z"
   },
   {
    "duration": 21,
    "start_time": "2022-08-19T18:38:05.080Z"
   },
   {
    "duration": 35,
    "start_time": "2022-08-19T18:38:05.103Z"
   },
   {
    "duration": 211,
    "start_time": "2022-08-19T18:38:05.140Z"
   },
   {
    "duration": 23,
    "start_time": "2022-08-19T18:38:05.353Z"
   },
   {
    "duration": 207,
    "start_time": "2022-08-19T18:38:05.377Z"
   },
   {
    "duration": 6,
    "start_time": "2022-08-19T18:38:05.589Z"
   },
   {
    "duration": 26,
    "start_time": "2022-08-19T18:38:05.596Z"
   },
   {
    "duration": 55,
    "start_time": "2022-08-19T18:38:05.624Z"
   },
   {
    "duration": 22,
    "start_time": "2022-08-19T18:38:05.685Z"
   },
   {
    "duration": 426,
    "start_time": "2022-08-19T18:38:05.709Z"
   },
   {
    "duration": 45,
    "start_time": "2022-08-19T18:38:06.137Z"
   },
   {
    "duration": 18,
    "start_time": "2022-08-19T18:38:06.184Z"
   },
   {
    "duration": 78,
    "start_time": "2022-08-19T18:38:06.204Z"
   },
   {
    "duration": 4,
    "start_time": "2022-08-19T18:38:06.284Z"
   },
   {
    "duration": 6,
    "start_time": "2022-08-19T18:38:06.289Z"
   },
   {
    "duration": 8,
    "start_time": "2022-08-19T18:38:06.297Z"
   },
   {
    "duration": 5,
    "start_time": "2022-08-19T18:38:06.307Z"
   },
   {
    "duration": 4978,
    "start_time": "2022-08-19T18:38:06.314Z"
   },
   {
    "duration": 4332,
    "start_time": "2022-08-19T18:38:11.294Z"
   },
   {
    "duration": 10,
    "start_time": "2022-08-19T18:38:15.629Z"
   },
   {
    "duration": 45,
    "start_time": "2022-08-19T18:38:15.641Z"
   },
   {
    "duration": 487,
    "start_time": "2022-08-19T18:38:15.688Z"
   },
   {
    "duration": 112,
    "start_time": "2022-08-19T18:38:16.177Z"
   },
   {
    "duration": 110,
    "start_time": "2022-08-19T18:38:16.294Z"
   },
   {
    "duration": 6,
    "start_time": "2022-08-19T18:38:16.406Z"
   },
   {
    "duration": 33,
    "start_time": "2022-08-19T18:38:16.413Z"
   },
   {
    "duration": 523,
    "start_time": "2022-08-19T18:38:16.448Z"
   },
   {
    "duration": 214,
    "start_time": "2022-08-19T18:38:16.974Z"
   },
   {
    "duration": 0,
    "start_time": "2022-08-19T18:38:17.190Z"
   },
   {
    "duration": 0,
    "start_time": "2022-08-19T18:38:17.191Z"
   },
   {
    "duration": 0,
    "start_time": "2022-08-19T18:38:17.193Z"
   },
   {
    "duration": 0,
    "start_time": "2022-08-19T18:38:17.195Z"
   },
   {
    "duration": 0,
    "start_time": "2022-08-19T18:38:17.196Z"
   },
   {
    "duration": 0,
    "start_time": "2022-08-19T18:38:17.198Z"
   },
   {
    "duration": 342381,
    "start_time": "2022-08-19T18:38:28.784Z"
   },
   {
    "duration": 1451,
    "start_time": "2022-08-19T19:22:34.531Z"
   },
   {
    "duration": 1067,
    "start_time": "2022-08-19T19:22:35.984Z"
   },
   {
    "duration": 168,
    "start_time": "2022-08-19T19:22:37.053Z"
   },
   {
    "duration": 21,
    "start_time": "2022-08-19T19:22:37.223Z"
   },
   {
    "duration": 47,
    "start_time": "2022-08-19T19:22:37.247Z"
   },
   {
    "duration": 23,
    "start_time": "2022-08-19T19:22:37.298Z"
   },
   {
    "duration": 7,
    "start_time": "2022-08-19T19:22:37.323Z"
   },
   {
    "duration": 364,
    "start_time": "2022-08-19T19:22:37.332Z"
   },
   {
    "duration": 55,
    "start_time": "2022-08-19T19:22:37.698Z"
   },
   {
    "duration": 34,
    "start_time": "2022-08-19T19:22:37.755Z"
   },
   {
    "duration": 27,
    "start_time": "2022-08-19T19:22:37.790Z"
   },
   {
    "duration": 114,
    "start_time": "2022-08-19T19:22:37.818Z"
   },
   {
    "duration": 28,
    "start_time": "2022-08-19T19:22:37.936Z"
   },
   {
    "duration": 60,
    "start_time": "2022-08-19T19:22:37.970Z"
   },
   {
    "duration": 179,
    "start_time": "2022-08-19T19:22:38.034Z"
   },
   {
    "duration": 18,
    "start_time": "2022-08-19T19:22:38.215Z"
   },
   {
    "duration": 18,
    "start_time": "2022-08-19T19:22:38.235Z"
   },
   {
    "duration": 40,
    "start_time": "2022-08-19T19:22:38.255Z"
   },
   {
    "duration": 32,
    "start_time": "2022-08-19T19:22:38.298Z"
   },
   {
    "duration": 19,
    "start_time": "2022-08-19T19:22:38.332Z"
   },
   {
    "duration": 304,
    "start_time": "2022-08-19T19:22:38.353Z"
   },
   {
    "duration": 40,
    "start_time": "2022-08-19T19:22:38.660Z"
   },
   {
    "duration": 17,
    "start_time": "2022-08-19T19:22:38.702Z"
   },
   {
    "duration": 10,
    "start_time": "2022-08-19T19:22:38.721Z"
   },
   {
    "duration": 55,
    "start_time": "2022-08-19T19:22:38.733Z"
   },
   {
    "duration": 176,
    "start_time": "2022-08-19T19:22:38.797Z"
   },
   {
    "duration": 470,
    "start_time": "2022-08-19T19:22:38.983Z"
   },
   {
    "duration": 42,
    "start_time": "2022-08-19T19:22:39.454Z"
   },
   {
    "duration": 8,
    "start_time": "2022-08-19T19:22:39.503Z"
   },
   {
    "duration": 36,
    "start_time": "2022-08-19T19:22:39.514Z"
   },
   {
    "duration": 9,
    "start_time": "2022-08-19T19:22:39.551Z"
   },
   {
    "duration": 60,
    "start_time": "2022-08-19T19:22:39.562Z"
   },
   {
    "duration": 36,
    "start_time": "2022-08-19T19:22:39.623Z"
   },
   {
    "duration": 275,
    "start_time": "2022-08-19T19:22:39.661Z"
   },
   {
    "duration": 474,
    "start_time": "2022-08-19T19:22:39.938Z"
   },
   {
    "duration": 15,
    "start_time": "2022-08-19T19:22:40.414Z"
   },
   {
    "duration": 46,
    "start_time": "2022-08-19T19:22:40.431Z"
   },
   {
    "duration": 175,
    "start_time": "2022-08-19T19:22:40.479Z"
   },
   {
    "duration": 30,
    "start_time": "2022-08-19T19:22:40.656Z"
   },
   {
    "duration": 187,
    "start_time": "2022-08-19T19:22:40.688Z"
   },
   {
    "duration": 9,
    "start_time": "2022-08-19T19:22:40.890Z"
   },
   {
    "duration": 25,
    "start_time": "2022-08-19T19:22:40.901Z"
   },
   {
    "duration": 52,
    "start_time": "2022-08-19T19:22:40.927Z"
   },
   {
    "duration": 24,
    "start_time": "2022-08-19T19:22:40.983Z"
   },
   {
    "duration": 462,
    "start_time": "2022-08-19T19:22:41.009Z"
   },
   {
    "duration": 42,
    "start_time": "2022-08-19T19:22:41.480Z"
   },
   {
    "duration": 21,
    "start_time": "2022-08-19T19:22:41.524Z"
   },
   {
    "duration": 72,
    "start_time": "2022-08-19T19:22:41.548Z"
   },
   {
    "duration": 3,
    "start_time": "2022-08-19T19:22:41.622Z"
   },
   {
    "duration": 10,
    "start_time": "2022-08-19T19:22:41.627Z"
   },
   {
    "duration": 20,
    "start_time": "2022-08-19T19:22:41.640Z"
   },
   {
    "duration": 13,
    "start_time": "2022-08-19T19:22:41.662Z"
   },
   {
    "duration": 4733,
    "start_time": "2022-08-19T19:22:41.678Z"
   },
   {
    "duration": 4213,
    "start_time": "2022-08-19T19:22:46.413Z"
   },
   {
    "duration": 9,
    "start_time": "2022-08-19T19:22:50.628Z"
   },
   {
    "duration": 48,
    "start_time": "2022-08-19T19:22:50.639Z"
   },
   {
    "duration": 597,
    "start_time": "2022-08-19T19:22:50.689Z"
   },
   {
    "duration": 96,
    "start_time": "2022-08-19T19:22:51.288Z"
   },
   {
    "duration": 57,
    "start_time": "2022-08-19T19:22:51.386Z"
   },
   {
    "duration": 12,
    "start_time": "2022-08-19T19:22:51.445Z"
   },
   {
    "duration": 59,
    "start_time": "2022-08-19T19:22:51.458Z"
   },
   {
    "duration": 476,
    "start_time": "2022-08-19T19:22:51.519Z"
   },
   {
    "duration": 261,
    "start_time": "2022-08-19T19:22:51.997Z"
   },
   {
    "duration": 0,
    "start_time": "2022-08-19T19:22:52.261Z"
   },
   {
    "duration": 0,
    "start_time": "2022-08-19T19:22:52.261Z"
   },
   {
    "duration": 0,
    "start_time": "2022-08-19T19:22:52.263Z"
   },
   {
    "duration": 0,
    "start_time": "2022-08-19T19:22:52.264Z"
   },
   {
    "duration": 0,
    "start_time": "2022-08-19T19:22:52.264Z"
   },
   {
    "duration": 0,
    "start_time": "2022-08-19T19:22:52.265Z"
   },
   {
    "duration": 1533,
    "start_time": "2022-08-19T19:23:10.762Z"
   },
   {
    "duration": 937,
    "start_time": "2022-08-19T19:23:12.297Z"
   },
   {
    "duration": 152,
    "start_time": "2022-08-19T19:23:13.236Z"
   },
   {
    "duration": 22,
    "start_time": "2022-08-19T19:23:13.398Z"
   },
   {
    "duration": 18,
    "start_time": "2022-08-19T19:23:13.421Z"
   },
   {
    "duration": 34,
    "start_time": "2022-08-19T19:23:13.441Z"
   },
   {
    "duration": 23,
    "start_time": "2022-08-19T19:23:13.477Z"
   },
   {
    "duration": 348,
    "start_time": "2022-08-19T19:23:13.502Z"
   },
   {
    "duration": 64,
    "start_time": "2022-08-19T19:23:13.852Z"
   },
   {
    "duration": 21,
    "start_time": "2022-08-19T19:23:13.919Z"
   },
   {
    "duration": 50,
    "start_time": "2022-08-19T19:23:13.942Z"
   },
   {
    "duration": 106,
    "start_time": "2022-08-19T19:23:13.994Z"
   },
   {
    "duration": 17,
    "start_time": "2022-08-19T19:23:14.101Z"
   },
   {
    "duration": 17,
    "start_time": "2022-08-19T19:23:14.120Z"
   },
   {
    "duration": 189,
    "start_time": "2022-08-19T19:23:14.139Z"
   },
   {
    "duration": 20,
    "start_time": "2022-08-19T19:23:14.330Z"
   },
   {
    "duration": 40,
    "start_time": "2022-08-19T19:23:14.352Z"
   },
   {
    "duration": 23,
    "start_time": "2022-08-19T19:23:14.397Z"
   },
   {
    "duration": 15,
    "start_time": "2022-08-19T19:23:14.423Z"
   },
   {
    "duration": 51,
    "start_time": "2022-08-19T19:23:14.440Z"
   },
   {
    "duration": 269,
    "start_time": "2022-08-19T19:23:14.494Z"
   },
   {
    "duration": 39,
    "start_time": "2022-08-19T19:23:14.764Z"
   },
   {
    "duration": 15,
    "start_time": "2022-08-19T19:23:14.806Z"
   },
   {
    "duration": 10,
    "start_time": "2022-08-19T19:23:14.823Z"
   },
   {
    "duration": 55,
    "start_time": "2022-08-19T19:23:14.835Z"
   },
   {
    "duration": 190,
    "start_time": "2022-08-19T19:23:14.897Z"
   },
   {
    "duration": 531,
    "start_time": "2022-08-19T19:23:15.095Z"
   },
   {
    "duration": 21,
    "start_time": "2022-08-19T19:23:15.630Z"
   },
   {
    "duration": 11,
    "start_time": "2022-08-19T19:23:15.669Z"
   },
   {
    "duration": 46,
    "start_time": "2022-08-19T19:23:15.683Z"
   },
   {
    "duration": 99,
    "start_time": "2022-08-19T19:23:15.731Z"
   },
   {
    "duration": 6,
    "start_time": "2022-08-19T19:23:15.832Z"
   },
   {
    "duration": 52,
    "start_time": "2022-08-19T19:23:15.839Z"
   },
   {
    "duration": 201,
    "start_time": "2022-08-19T19:23:15.893Z"
   },
   {
    "duration": 462,
    "start_time": "2022-08-19T19:23:16.098Z"
   },
   {
    "duration": 27,
    "start_time": "2022-08-19T19:23:16.562Z"
   },
   {
    "duration": 43,
    "start_time": "2022-08-19T19:23:16.596Z"
   },
   {
    "duration": 207,
    "start_time": "2022-08-19T19:23:16.641Z"
   },
   {
    "duration": 33,
    "start_time": "2022-08-19T19:23:16.850Z"
   },
   {
    "duration": 219,
    "start_time": "2022-08-19T19:23:16.888Z"
   },
   {
    "duration": 5,
    "start_time": "2022-08-19T19:23:17.109Z"
   },
   {
    "duration": 24,
    "start_time": "2022-08-19T19:23:17.116Z"
   },
   {
    "duration": 59,
    "start_time": "2022-08-19T19:23:17.142Z"
   },
   {
    "duration": 21,
    "start_time": "2022-08-19T19:23:17.203Z"
   },
   {
    "duration": 479,
    "start_time": "2022-08-19T19:23:17.225Z"
   },
   {
    "duration": 26,
    "start_time": "2022-08-19T19:23:17.705Z"
   },
   {
    "duration": 36,
    "start_time": "2022-08-19T19:23:17.733Z"
   },
   {
    "duration": 69,
    "start_time": "2022-08-19T19:23:17.772Z"
   },
   {
    "duration": 3,
    "start_time": "2022-08-19T19:23:17.843Z"
   },
   {
    "duration": 17,
    "start_time": "2022-08-19T19:23:17.848Z"
   },
   {
    "duration": 36,
    "start_time": "2022-08-19T19:23:17.867Z"
   },
   {
    "duration": 7,
    "start_time": "2022-08-19T19:23:17.905Z"
   },
   {
    "duration": 4641,
    "start_time": "2022-08-19T19:23:17.914Z"
   },
   {
    "duration": 4324,
    "start_time": "2022-08-19T19:23:22.567Z"
   },
   {
    "duration": 25,
    "start_time": "2022-08-19T19:23:26.893Z"
   },
   {
    "duration": 35,
    "start_time": "2022-08-19T19:23:26.920Z"
   },
   {
    "duration": 444,
    "start_time": "2022-08-19T19:23:26.958Z"
   },
   {
    "duration": 20,
    "start_time": "2022-08-19T19:23:27.475Z"
   },
   {
    "duration": 145,
    "start_time": "2022-08-19T19:23:27.498Z"
   },
   {
    "duration": 7,
    "start_time": "2022-08-19T19:23:27.645Z"
   },
   {
    "duration": 78,
    "start_time": "2022-08-19T19:23:27.655Z"
   },
   {
    "duration": 360,
    "start_time": "2022-08-19T19:23:27.735Z"
   },
   {
    "duration": 6649591,
    "start_time": "2022-08-19T19:23:28.097Z"
   },
   {
    "duration": 185192,
    "start_time": "2022-08-19T21:14:17.689Z"
   },
   {
    "duration": 411323,
    "start_time": "2022-08-19T21:17:22.882Z"
   },
   {
    "duration": 298078,
    "start_time": "2022-08-19T21:24:14.207Z"
   },
   {
    "duration": 37417,
    "start_time": "2022-08-19T21:29:12.287Z"
   },
   {
    "duration": 59480,
    "start_time": "2022-08-19T21:29:49.706Z"
   },
   {
    "duration": 884744,
    "start_time": "2022-08-19T21:51:56.842Z"
   },
   {
    "duration": 1492,
    "start_time": "2022-08-20T10:05:32.176Z"
   },
   {
    "duration": 970,
    "start_time": "2022-08-20T10:05:33.677Z"
   },
   {
    "duration": 148,
    "start_time": "2022-08-20T10:05:34.649Z"
   },
   {
    "duration": 21,
    "start_time": "2022-08-20T10:05:34.801Z"
   },
   {
    "duration": 16,
    "start_time": "2022-08-20T10:05:34.825Z"
   },
   {
    "duration": 57,
    "start_time": "2022-08-20T10:05:34.843Z"
   },
   {
    "duration": 8,
    "start_time": "2022-08-20T10:05:34.902Z"
   },
   {
    "duration": 343,
    "start_time": "2022-08-20T10:05:34.912Z"
   },
   {
    "duration": 74,
    "start_time": "2022-08-20T10:05:35.257Z"
   },
   {
    "duration": 36,
    "start_time": "2022-08-20T10:05:35.333Z"
   },
   {
    "duration": 31,
    "start_time": "2022-08-20T10:05:35.371Z"
   },
   {
    "duration": 94,
    "start_time": "2022-08-20T10:05:35.404Z"
   },
   {
    "duration": 19,
    "start_time": "2022-08-20T10:05:35.502Z"
   },
   {
    "duration": 27,
    "start_time": "2022-08-20T10:05:35.526Z"
   },
   {
    "duration": 206,
    "start_time": "2022-08-20T10:05:35.555Z"
   },
   {
    "duration": 38,
    "start_time": "2022-08-20T10:05:35.763Z"
   },
   {
    "duration": 27,
    "start_time": "2022-08-20T10:05:35.803Z"
   },
   {
    "duration": 19,
    "start_time": "2022-08-20T10:05:35.832Z"
   },
   {
    "duration": 26,
    "start_time": "2022-08-20T10:05:35.853Z"
   },
   {
    "duration": 60,
    "start_time": "2022-08-20T10:05:35.881Z"
   },
   {
    "duration": 311,
    "start_time": "2022-08-20T10:05:35.943Z"
   },
   {
    "duration": 41,
    "start_time": "2022-08-20T10:05:36.256Z"
   },
   {
    "duration": 17,
    "start_time": "2022-08-20T10:05:36.301Z"
   },
   {
    "duration": 9,
    "start_time": "2022-08-20T10:05:36.320Z"
   },
   {
    "duration": 40,
    "start_time": "2022-08-20T10:05:36.331Z"
   },
   {
    "duration": 205,
    "start_time": "2022-08-20T10:05:36.381Z"
   },
   {
    "duration": 585,
    "start_time": "2022-08-20T10:05:36.592Z"
   },
   {
    "duration": 23,
    "start_time": "2022-08-20T10:05:37.181Z"
   },
   {
    "duration": 9,
    "start_time": "2022-08-20T10:05:37.207Z"
   },
   {
    "duration": 26,
    "start_time": "2022-08-20T10:05:37.218Z"
   },
   {
    "duration": 24,
    "start_time": "2022-08-20T10:05:37.246Z"
   },
   {
    "duration": 11,
    "start_time": "2022-08-20T10:05:37.272Z"
   },
   {
    "duration": 42,
    "start_time": "2022-08-20T10:05:37.285Z"
   },
   {
    "duration": 290,
    "start_time": "2022-08-20T10:05:37.330Z"
   },
   {
    "duration": 458,
    "start_time": "2022-08-20T10:05:37.621Z"
   },
   {
    "duration": 20,
    "start_time": "2022-08-20T10:05:38.082Z"
   },
   {
    "duration": 25,
    "start_time": "2022-08-20T10:05:38.103Z"
   },
   {
    "duration": 211,
    "start_time": "2022-08-20T10:05:38.130Z"
   },
   {
    "duration": 39,
    "start_time": "2022-08-20T10:05:38.343Z"
   },
   {
    "duration": 214,
    "start_time": "2022-08-20T10:05:38.388Z"
   },
   {
    "duration": 7,
    "start_time": "2022-08-20T10:05:38.610Z"
   },
   {
    "duration": 41,
    "start_time": "2022-08-20T10:05:38.620Z"
   },
   {
    "duration": 79,
    "start_time": "2022-08-20T10:05:38.664Z"
   },
   {
    "duration": 26,
    "start_time": "2022-08-20T10:05:38.745Z"
   },
   {
    "duration": 463,
    "start_time": "2022-08-20T10:05:38.773Z"
   },
   {
    "duration": 31,
    "start_time": "2022-08-20T10:05:39.238Z"
   },
   {
    "duration": 24,
    "start_time": "2022-08-20T10:05:39.273Z"
   },
   {
    "duration": 77,
    "start_time": "2022-08-20T10:05:39.301Z"
   },
   {
    "duration": 3,
    "start_time": "2022-08-20T10:05:39.385Z"
   },
   {
    "duration": 12,
    "start_time": "2022-08-20T10:05:39.396Z"
   },
   {
    "duration": 4,
    "start_time": "2022-08-20T10:05:39.410Z"
   },
   {
    "duration": 5,
    "start_time": "2022-08-20T10:05:39.416Z"
   },
   {
    "duration": 4997,
    "start_time": "2022-08-20T10:05:39.423Z"
   },
   {
    "duration": 4354,
    "start_time": "2022-08-20T10:05:44.423Z"
   },
   {
    "duration": 23,
    "start_time": "2022-08-20T10:05:48.778Z"
   },
   {
    "duration": 28,
    "start_time": "2022-08-20T10:05:48.803Z"
   },
   {
    "duration": 342,
    "start_time": "2022-08-20T10:05:48.833Z"
   },
   {
    "duration": 93,
    "start_time": "2022-08-20T10:05:49.182Z"
   },
   {
    "duration": 75,
    "start_time": "2022-08-20T10:05:49.295Z"
   },
   {
    "duration": 16,
    "start_time": "2022-08-20T10:05:49.377Z"
   },
   {
    "duration": 36,
    "start_time": "2022-08-20T10:05:49.400Z"
   },
   {
    "duration": 555,
    "start_time": "2022-08-20T10:05:49.438Z"
   },
   {
    "duration": 1550,
    "start_time": "2022-08-20T13:38:08.262Z"
   },
   {
    "duration": 1091,
    "start_time": "2022-08-20T13:38:09.814Z"
   },
   {
    "duration": 145,
    "start_time": "2022-08-20T13:38:10.906Z"
   },
   {
    "duration": 36,
    "start_time": "2022-08-20T13:38:11.053Z"
   },
   {
    "duration": 24,
    "start_time": "2022-08-20T13:38:11.091Z"
   },
   {
    "duration": 31,
    "start_time": "2022-08-20T13:38:11.117Z"
   },
   {
    "duration": 41,
    "start_time": "2022-08-20T13:38:11.150Z"
   },
   {
    "duration": 362,
    "start_time": "2022-08-20T13:38:11.198Z"
   },
   {
    "duration": 68,
    "start_time": "2022-08-20T13:38:11.562Z"
   },
   {
    "duration": 41,
    "start_time": "2022-08-20T13:38:11.633Z"
   },
   {
    "duration": 52,
    "start_time": "2022-08-20T13:38:11.676Z"
   },
   {
    "duration": 103,
    "start_time": "2022-08-20T13:38:11.730Z"
   },
   {
    "duration": 36,
    "start_time": "2022-08-20T13:38:11.835Z"
   },
   {
    "duration": 26,
    "start_time": "2022-08-20T13:38:11.873Z"
   },
   {
    "duration": 183,
    "start_time": "2022-08-20T13:38:11.902Z"
   },
   {
    "duration": 24,
    "start_time": "2022-08-20T13:38:12.092Z"
   },
   {
    "duration": 35,
    "start_time": "2022-08-20T13:38:12.118Z"
   },
   {
    "duration": 47,
    "start_time": "2022-08-20T13:38:12.156Z"
   },
   {
    "duration": 43,
    "start_time": "2022-08-20T13:38:12.206Z"
   },
   {
    "duration": 35,
    "start_time": "2022-08-20T13:38:12.251Z"
   },
   {
    "duration": 278,
    "start_time": "2022-08-20T13:38:12.292Z"
   },
   {
    "duration": 36,
    "start_time": "2022-08-20T13:38:12.572Z"
   },
   {
    "duration": 20,
    "start_time": "2022-08-20T13:38:12.611Z"
   },
   {
    "duration": 39,
    "start_time": "2022-08-20T13:38:12.634Z"
   },
   {
    "duration": 41,
    "start_time": "2022-08-20T13:38:12.677Z"
   },
   {
    "duration": 185,
    "start_time": "2022-08-20T13:38:12.722Z"
   },
   {
    "duration": 530,
    "start_time": "2022-08-20T13:38:12.909Z"
   },
   {
    "duration": 43,
    "start_time": "2022-08-20T13:38:13.443Z"
   },
   {
    "duration": 41,
    "start_time": "2022-08-20T13:38:13.490Z"
   },
   {
    "duration": 63,
    "start_time": "2022-08-20T13:38:13.533Z"
   },
   {
    "duration": 129,
    "start_time": "2022-08-20T13:38:13.598Z"
   },
   {
    "duration": 8,
    "start_time": "2022-08-20T13:38:13.729Z"
   },
   {
    "duration": 52,
    "start_time": "2022-08-20T13:38:13.740Z"
   },
   {
    "duration": 255,
    "start_time": "2022-08-20T13:38:13.794Z"
   },
   {
    "duration": 667,
    "start_time": "2022-08-20T13:38:14.052Z"
   },
   {
    "duration": 21,
    "start_time": "2022-08-20T13:38:14.722Z"
   },
   {
    "duration": 54,
    "start_time": "2022-08-20T13:38:14.746Z"
   },
   {
    "duration": 289,
    "start_time": "2022-08-20T13:38:14.802Z"
   },
   {
    "duration": 22,
    "start_time": "2022-08-20T13:38:15.094Z"
   },
   {
    "duration": 279,
    "start_time": "2022-08-20T13:38:15.119Z"
   },
   {
    "duration": 7,
    "start_time": "2022-08-20T13:38:15.401Z"
   },
   {
    "duration": 32,
    "start_time": "2022-08-20T13:38:15.411Z"
   },
   {
    "duration": 65,
    "start_time": "2022-08-20T13:38:15.445Z"
   },
   {
    "duration": 30,
    "start_time": "2022-08-20T13:38:15.512Z"
   },
   {
    "duration": 741,
    "start_time": "2022-08-20T13:38:15.545Z"
   },
   {
    "duration": 40,
    "start_time": "2022-08-20T13:38:16.295Z"
   },
   {
    "duration": 46,
    "start_time": "2022-08-20T13:38:16.337Z"
   },
   {
    "duration": 92,
    "start_time": "2022-08-20T13:38:16.386Z"
   },
   {
    "duration": 5,
    "start_time": "2022-08-20T13:38:16.484Z"
   },
   {
    "duration": 14,
    "start_time": "2022-08-20T13:38:16.495Z"
   },
   {
    "duration": 11,
    "start_time": "2022-08-20T13:38:16.515Z"
   },
   {
    "duration": 6,
    "start_time": "2022-08-20T13:38:16.529Z"
   },
   {
    "duration": 5067,
    "start_time": "2022-08-20T13:38:16.537Z"
   },
   {
    "duration": 4445,
    "start_time": "2022-08-20T13:38:21.606Z"
   },
   {
    "duration": 21,
    "start_time": "2022-08-20T13:38:26.053Z"
   },
   {
    "duration": 47,
    "start_time": "2022-08-20T13:38:26.084Z"
   },
   {
    "duration": 533,
    "start_time": "2022-08-20T13:38:26.134Z"
   },
   {
    "duration": 92,
    "start_time": "2022-08-20T13:38:26.677Z"
   },
   {
    "duration": 51,
    "start_time": "2022-08-20T13:38:26.777Z"
   },
   {
    "duration": 11,
    "start_time": "2022-08-20T13:38:26.834Z"
   },
   {
    "duration": 63,
    "start_time": "2022-08-20T13:38:26.847Z"
   },
   {
    "duration": 773,
    "start_time": "2022-08-20T13:38:26.913Z"
   },
   {
    "duration": 1624,
    "start_time": "2022-08-20T16:00:41.784Z"
   },
   {
    "duration": 1072,
    "start_time": "2022-08-20T16:00:43.410Z"
   },
   {
    "duration": 191,
    "start_time": "2022-08-20T16:00:44.489Z"
   },
   {
    "duration": 23,
    "start_time": "2022-08-20T16:00:44.687Z"
   },
   {
    "duration": 32,
    "start_time": "2022-08-20T16:00:44.712Z"
   },
   {
    "duration": 54,
    "start_time": "2022-08-20T16:00:44.746Z"
   },
   {
    "duration": 7,
    "start_time": "2022-08-20T16:00:44.802Z"
   },
   {
    "duration": 373,
    "start_time": "2022-08-20T16:00:44.811Z"
   },
   {
    "duration": 65,
    "start_time": "2022-08-20T16:00:45.191Z"
   },
   {
    "duration": 29,
    "start_time": "2022-08-20T16:00:45.258Z"
   },
   {
    "duration": 29,
    "start_time": "2022-08-20T16:00:45.294Z"
   },
   {
    "duration": 99,
    "start_time": "2022-08-20T16:00:45.325Z"
   },
   {
    "duration": 16,
    "start_time": "2022-08-20T16:00:45.426Z"
   },
   {
    "duration": 45,
    "start_time": "2022-08-20T16:00:45.445Z"
   },
   {
    "duration": 191,
    "start_time": "2022-08-20T16:00:45.493Z"
   },
   {
    "duration": 37,
    "start_time": "2022-08-20T16:00:45.688Z"
   },
   {
    "duration": 27,
    "start_time": "2022-08-20T16:00:45.727Z"
   },
   {
    "duration": 36,
    "start_time": "2022-08-20T16:00:45.756Z"
   },
   {
    "duration": 16,
    "start_time": "2022-08-20T16:00:45.794Z"
   },
   {
    "duration": 22,
    "start_time": "2022-08-20T16:00:45.813Z"
   },
   {
    "duration": 344,
    "start_time": "2022-08-20T16:00:45.838Z"
   },
   {
    "duration": 37,
    "start_time": "2022-08-20T16:00:46.185Z"
   },
   {
    "duration": 19,
    "start_time": "2022-08-20T16:00:46.224Z"
   },
   {
    "duration": 38,
    "start_time": "2022-08-20T16:00:46.245Z"
   },
   {
    "duration": 27,
    "start_time": "2022-08-20T16:00:46.284Z"
   },
   {
    "duration": 187,
    "start_time": "2022-08-20T16:00:46.314Z"
   },
   {
    "duration": 584,
    "start_time": "2022-08-20T16:00:46.507Z"
   },
   {
    "duration": 20,
    "start_time": "2022-08-20T16:00:47.092Z"
   },
   {
    "duration": 7,
    "start_time": "2022-08-20T16:00:47.114Z"
   },
   {
    "duration": 60,
    "start_time": "2022-08-20T16:00:47.124Z"
   },
   {
    "duration": 10,
    "start_time": "2022-08-20T16:00:47.187Z"
   },
   {
    "duration": 8,
    "start_time": "2022-08-20T16:00:47.199Z"
   },
   {
    "duration": 32,
    "start_time": "2022-08-20T16:00:47.209Z"
   },
   {
    "duration": 327,
    "start_time": "2022-08-20T16:00:47.244Z"
   },
   {
    "duration": 445,
    "start_time": "2022-08-20T16:00:47.577Z"
   },
   {
    "duration": 18,
    "start_time": "2022-08-20T16:00:48.025Z"
   },
   {
    "duration": 52,
    "start_time": "2022-08-20T16:00:48.045Z"
   },
   {
    "duration": 243,
    "start_time": "2022-08-20T16:00:48.099Z"
   },
   {
    "duration": 39,
    "start_time": "2022-08-20T16:00:48.344Z"
   },
   {
    "duration": 209,
    "start_time": "2022-08-20T16:00:48.386Z"
   },
   {
    "duration": 7,
    "start_time": "2022-08-20T16:00:48.597Z"
   },
   {
    "duration": 26,
    "start_time": "2022-08-20T16:00:48.606Z"
   },
   {
    "duration": 84,
    "start_time": "2022-08-20T16:00:48.634Z"
   },
   {
    "duration": 25,
    "start_time": "2022-08-20T16:00:48.721Z"
   },
   {
    "duration": 479,
    "start_time": "2022-08-20T16:00:48.748Z"
   },
   {
    "duration": 56,
    "start_time": "2022-08-20T16:00:49.229Z"
   },
   {
    "duration": 21,
    "start_time": "2022-08-20T16:00:49.290Z"
   },
   {
    "duration": 86,
    "start_time": "2022-08-20T16:00:49.314Z"
   },
   {
    "duration": 4,
    "start_time": "2022-08-20T16:00:49.401Z"
   },
   {
    "duration": 7,
    "start_time": "2022-08-20T16:00:49.407Z"
   },
   {
    "duration": 9,
    "start_time": "2022-08-20T16:00:49.416Z"
   },
   {
    "duration": 5,
    "start_time": "2022-08-20T16:00:49.428Z"
   },
   {
    "duration": 4983,
    "start_time": "2022-08-20T16:00:49.435Z"
   },
   {
    "duration": 4304,
    "start_time": "2022-08-20T16:00:54.420Z"
   },
   {
    "duration": 10,
    "start_time": "2022-08-20T16:00:58.725Z"
   },
   {
    "duration": 52,
    "start_time": "2022-08-20T16:00:58.737Z"
   },
   {
    "duration": 597,
    "start_time": "2022-08-20T16:00:58.791Z"
   },
   {
    "duration": 106,
    "start_time": "2022-08-20T16:00:59.389Z"
   },
   {
    "duration": 108,
    "start_time": "2022-08-20T16:00:59.498Z"
   },
   {
    "duration": 5,
    "start_time": "2022-08-20T16:00:59.608Z"
   },
   {
    "duration": 34,
    "start_time": "2022-08-20T16:00:59.615Z"
   },
   {
    "duration": 526,
    "start_time": "2022-08-20T16:00:59.651Z"
   },
   {
    "duration": 10,
    "start_time": "2022-08-20T16:01:00.179Z"
   },
   {
    "duration": 0,
    "start_time": "2022-08-20T16:01:00.193Z"
   },
   {
    "duration": 0,
    "start_time": "2022-08-20T16:01:00.269Z"
   },
   {
    "duration": 0,
    "start_time": "2022-08-20T16:01:00.270Z"
   },
   {
    "duration": 0,
    "start_time": "2022-08-20T16:01:00.271Z"
   },
   {
    "duration": 0,
    "start_time": "2022-08-20T16:01:00.274Z"
   },
   {
    "duration": 1437,
    "start_time": "2022-08-20T16:02:31.423Z"
   },
   {
    "duration": 1053,
    "start_time": "2022-08-20T16:02:32.862Z"
   },
   {
    "duration": 141,
    "start_time": "2022-08-20T16:02:33.917Z"
   },
   {
    "duration": 32,
    "start_time": "2022-08-20T16:02:34.060Z"
   },
   {
    "duration": 19,
    "start_time": "2022-08-20T16:02:34.094Z"
   },
   {
    "duration": 27,
    "start_time": "2022-08-20T16:02:34.116Z"
   },
   {
    "duration": 39,
    "start_time": "2022-08-20T16:02:34.145Z"
   },
   {
    "duration": 336,
    "start_time": "2022-08-20T16:02:34.187Z"
   },
   {
    "duration": 73,
    "start_time": "2022-08-20T16:02:34.525Z"
   },
   {
    "duration": 24,
    "start_time": "2022-08-20T16:02:34.603Z"
   },
   {
    "duration": 56,
    "start_time": "2022-08-20T16:02:34.629Z"
   },
   {
    "duration": 105,
    "start_time": "2022-08-20T16:02:34.686Z"
   },
   {
    "duration": 16,
    "start_time": "2022-08-20T16:02:34.792Z"
   },
   {
    "duration": 46,
    "start_time": "2022-08-20T16:02:34.810Z"
   },
   {
    "duration": 181,
    "start_time": "2022-08-20T16:02:34.858Z"
   },
   {
    "duration": 20,
    "start_time": "2022-08-20T16:02:35.041Z"
   },
   {
    "duration": 36,
    "start_time": "2022-08-20T16:02:35.068Z"
   },
   {
    "duration": 23,
    "start_time": "2022-08-20T16:02:35.106Z"
   },
   {
    "duration": 56,
    "start_time": "2022-08-20T16:02:35.130Z"
   },
   {
    "duration": 33,
    "start_time": "2022-08-20T16:02:35.188Z"
   },
   {
    "duration": 316,
    "start_time": "2022-08-20T16:02:35.223Z"
   },
   {
    "duration": 46,
    "start_time": "2022-08-20T16:02:35.542Z"
   },
   {
    "duration": 21,
    "start_time": "2022-08-20T16:02:35.590Z"
   },
   {
    "duration": 12,
    "start_time": "2022-08-20T16:02:35.614Z"
   },
   {
    "duration": 51,
    "start_time": "2022-08-20T16:02:35.628Z"
   },
   {
    "duration": 185,
    "start_time": "2022-08-20T16:02:35.684Z"
   },
   {
    "duration": 455,
    "start_time": "2022-08-20T16:02:35.873Z"
   },
   {
    "duration": 19,
    "start_time": "2022-08-20T16:02:36.334Z"
   },
   {
    "duration": 26,
    "start_time": "2022-08-20T16:02:36.355Z"
   },
   {
    "duration": 36,
    "start_time": "2022-08-20T16:02:36.383Z"
   },
   {
    "duration": 100,
    "start_time": "2022-08-20T16:02:36.422Z"
   },
   {
    "duration": 19,
    "start_time": "2022-08-20T16:02:36.524Z"
   },
   {
    "duration": 41,
    "start_time": "2022-08-20T16:02:36.545Z"
   },
   {
    "duration": 241,
    "start_time": "2022-08-20T16:02:36.591Z"
   },
   {
    "duration": 442,
    "start_time": "2022-08-20T16:02:36.834Z"
   },
   {
    "duration": 25,
    "start_time": "2022-08-20T16:02:37.278Z"
   },
   {
    "duration": 34,
    "start_time": "2022-08-20T16:02:37.305Z"
   },
   {
    "duration": 211,
    "start_time": "2022-08-20T16:02:37.342Z"
   },
   {
    "duration": 38,
    "start_time": "2022-08-20T16:02:37.554Z"
   },
   {
    "duration": 176,
    "start_time": "2022-08-20T16:02:37.594Z"
   },
   {
    "duration": 13,
    "start_time": "2022-08-20T16:02:37.774Z"
   },
   {
    "duration": 23,
    "start_time": "2022-08-20T16:02:37.789Z"
   },
   {
    "duration": 66,
    "start_time": "2022-08-20T16:02:37.814Z"
   },
   {
    "duration": 22,
    "start_time": "2022-08-20T16:02:37.882Z"
   },
   {
    "duration": 424,
    "start_time": "2022-08-20T16:02:37.906Z"
   },
   {
    "duration": 51,
    "start_time": "2022-08-20T16:02:38.332Z"
   },
   {
    "duration": 21,
    "start_time": "2022-08-20T16:02:38.385Z"
   },
   {
    "duration": 73,
    "start_time": "2022-08-20T16:02:38.407Z"
   },
   {
    "duration": 4,
    "start_time": "2022-08-20T16:02:38.482Z"
   },
   {
    "duration": 5,
    "start_time": "2022-08-20T16:02:38.488Z"
   },
   {
    "duration": 5,
    "start_time": "2022-08-20T16:02:38.495Z"
   },
   {
    "duration": 5,
    "start_time": "2022-08-20T16:02:38.502Z"
   },
   {
    "duration": 4650,
    "start_time": "2022-08-20T16:02:38.509Z"
   },
   {
    "duration": 4335,
    "start_time": "2022-08-20T16:02:43.161Z"
   },
   {
    "duration": 12,
    "start_time": "2022-08-20T16:02:47.500Z"
   },
   {
    "duration": 30,
    "start_time": "2022-08-20T16:02:47.514Z"
   },
   {
    "duration": 406,
    "start_time": "2022-08-20T16:02:47.569Z"
   },
   {
    "duration": 101,
    "start_time": "2022-08-20T16:02:47.977Z"
   },
   {
    "duration": 33,
    "start_time": "2022-08-20T16:02:48.084Z"
   },
   {
    "duration": 5,
    "start_time": "2022-08-20T16:02:48.119Z"
   },
   {
    "duration": 52,
    "start_time": "2022-08-20T16:02:48.126Z"
   },
   {
    "duration": 411,
    "start_time": "2022-08-20T16:02:48.180Z"
   },
   {
    "duration": 3,
    "start_time": "2022-08-20T16:02:48.593Z"
   },
   {
    "duration": 1587,
    "start_time": "2022-08-20T16:24:58.877Z"
   },
   {
    "duration": 1052,
    "start_time": "2022-08-20T16:25:00.466Z"
   },
   {
    "duration": 165,
    "start_time": "2022-08-20T16:25:01.519Z"
   },
   {
    "duration": 24,
    "start_time": "2022-08-20T16:25:01.687Z"
   },
   {
    "duration": 34,
    "start_time": "2022-08-20T16:25:01.713Z"
   },
   {
    "duration": 37,
    "start_time": "2022-08-20T16:25:01.748Z"
   },
   {
    "duration": 18,
    "start_time": "2022-08-20T16:25:01.787Z"
   },
   {
    "duration": 338,
    "start_time": "2022-08-20T16:25:01.807Z"
   },
   {
    "duration": 69,
    "start_time": "2022-08-20T16:25:02.147Z"
   },
   {
    "duration": 22,
    "start_time": "2022-08-20T16:25:02.219Z"
   },
   {
    "duration": 59,
    "start_time": "2022-08-20T16:25:02.243Z"
   },
   {
    "duration": 128,
    "start_time": "2022-08-20T16:25:02.304Z"
   },
   {
    "duration": 16,
    "start_time": "2022-08-20T16:25:02.434Z"
   },
   {
    "duration": 38,
    "start_time": "2022-08-20T16:25:02.452Z"
   },
   {
    "duration": 189,
    "start_time": "2022-08-20T16:25:02.492Z"
   },
   {
    "duration": 20,
    "start_time": "2022-08-20T16:25:02.684Z"
   },
   {
    "duration": 24,
    "start_time": "2022-08-20T16:25:02.706Z"
   },
   {
    "duration": 22,
    "start_time": "2022-08-20T16:25:02.732Z"
   },
   {
    "duration": 22,
    "start_time": "2022-08-20T16:25:02.771Z"
   },
   {
    "duration": 32,
    "start_time": "2022-08-20T16:25:02.795Z"
   },
   {
    "duration": 291,
    "start_time": "2022-08-20T16:25:02.829Z"
   },
   {
    "duration": 32,
    "start_time": "2022-08-20T16:25:03.122Z"
   },
   {
    "duration": 31,
    "start_time": "2022-08-20T16:25:03.156Z"
   },
   {
    "duration": 15,
    "start_time": "2022-08-20T16:25:03.190Z"
   },
   {
    "duration": 20,
    "start_time": "2022-08-20T16:25:03.207Z"
   },
   {
    "duration": 198,
    "start_time": "2022-08-20T16:25:03.229Z"
   },
   {
    "duration": 483,
    "start_time": "2022-08-20T16:25:03.429Z"
   },
   {
    "duration": 19,
    "start_time": "2022-08-20T16:25:03.916Z"
   },
   {
    "duration": 7,
    "start_time": "2022-08-20T16:25:03.937Z"
   },
   {
    "duration": 45,
    "start_time": "2022-08-20T16:25:03.946Z"
   },
   {
    "duration": 100,
    "start_time": "2022-08-20T16:25:03.992Z"
   },
   {
    "duration": 6,
    "start_time": "2022-08-20T16:25:04.093Z"
   },
   {
    "duration": 24,
    "start_time": "2022-08-20T16:25:04.101Z"
   },
   {
    "duration": 210,
    "start_time": "2022-08-20T16:25:04.127Z"
   },
   {
    "duration": 439,
    "start_time": "2022-08-20T16:25:04.339Z"
   },
   {
    "duration": 16,
    "start_time": "2022-08-20T16:25:04.781Z"
   },
   {
    "duration": 26,
    "start_time": "2022-08-20T16:25:04.799Z"
   },
   {
    "duration": 184,
    "start_time": "2022-08-20T16:25:04.826Z"
   },
   {
    "duration": 18,
    "start_time": "2022-08-20T16:25:05.012Z"
   },
   {
    "duration": 201,
    "start_time": "2022-08-20T16:25:05.032Z"
   },
   {
    "duration": 6,
    "start_time": "2022-08-20T16:25:05.235Z"
   },
   {
    "duration": 43,
    "start_time": "2022-08-20T16:25:05.243Z"
   },
   {
    "duration": 43,
    "start_time": "2022-08-20T16:25:05.288Z"
   },
   {
    "duration": 47,
    "start_time": "2022-08-20T16:25:05.333Z"
   },
   {
    "duration": 447,
    "start_time": "2022-08-20T16:25:05.384Z"
   },
   {
    "duration": 52,
    "start_time": "2022-08-20T16:25:05.833Z"
   },
   {
    "duration": 19,
    "start_time": "2022-08-20T16:25:05.887Z"
   },
   {
    "duration": 74,
    "start_time": "2022-08-20T16:25:05.908Z"
   },
   {
    "duration": 3,
    "start_time": "2022-08-20T16:25:05.985Z"
   },
   {
    "duration": 7,
    "start_time": "2022-08-20T16:25:05.990Z"
   },
   {
    "duration": 8,
    "start_time": "2022-08-20T16:25:05.998Z"
   },
   {
    "duration": 7,
    "start_time": "2022-08-20T16:25:06.008Z"
   },
   {
    "duration": 5074,
    "start_time": "2022-08-20T16:25:06.017Z"
   },
   {
    "duration": 4590,
    "start_time": "2022-08-20T16:25:11.093Z"
   },
   {
    "duration": 10,
    "start_time": "2022-08-20T16:25:15.685Z"
   },
   {
    "duration": 32,
    "start_time": "2022-08-20T16:25:15.697Z"
   },
   {
    "duration": 658,
    "start_time": "2022-08-20T16:25:15.731Z"
   },
   {
    "duration": 103,
    "start_time": "2022-08-20T16:25:16.394Z"
   },
   {
    "duration": 109,
    "start_time": "2022-08-20T16:25:16.499Z"
   },
   {
    "duration": 7,
    "start_time": "2022-08-20T16:25:16.611Z"
   },
   {
    "duration": 67,
    "start_time": "2022-08-20T16:25:16.620Z"
   },
   {
    "duration": 786,
    "start_time": "2022-08-20T16:25:16.692Z"
   },
   {
    "duration": 156,
    "start_time": "2022-08-20T16:25:17.481Z"
   },
   {
    "duration": 0,
    "start_time": "2022-08-20T16:25:17.639Z"
   },
   {
    "duration": 0,
    "start_time": "2022-08-20T16:25:17.641Z"
   },
   {
    "duration": 0,
    "start_time": "2022-08-20T16:25:17.642Z"
   },
   {
    "duration": 0,
    "start_time": "2022-08-20T16:25:17.643Z"
   },
   {
    "duration": 0,
    "start_time": "2022-08-20T16:25:17.645Z"
   },
   {
    "duration": 0,
    "start_time": "2022-08-20T16:25:17.646Z"
   },
   {
    "duration": 336887,
    "start_time": "2022-08-20T16:25:33.876Z"
   },
   {
    "duration": 461674,
    "start_time": "2022-08-20T16:31:49.790Z"
   },
   {
    "duration": 6892102,
    "start_time": "2022-08-20T16:39:59.978Z"
   },
   {
    "duration": 1612,
    "start_time": "2022-08-20T18:40:49.216Z"
   },
   {
    "duration": 944,
    "start_time": "2022-08-20T18:40:50.830Z"
   },
   {
    "duration": 134,
    "start_time": "2022-08-20T18:40:51.778Z"
   },
   {
    "duration": 22,
    "start_time": "2022-08-20T18:40:51.914Z"
   },
   {
    "duration": 52,
    "start_time": "2022-08-20T18:40:51.938Z"
   },
   {
    "duration": 22,
    "start_time": "2022-08-20T18:40:51.992Z"
   },
   {
    "duration": 8,
    "start_time": "2022-08-20T18:40:52.016Z"
   },
   {
    "duration": 378,
    "start_time": "2022-08-20T18:40:52.026Z"
   },
   {
    "duration": 62,
    "start_time": "2022-08-20T18:40:52.408Z"
   },
   {
    "duration": 21,
    "start_time": "2022-08-20T18:40:52.473Z"
   },
   {
    "duration": 32,
    "start_time": "2022-08-20T18:40:52.497Z"
   },
   {
    "duration": 96,
    "start_time": "2022-08-20T18:40:52.531Z"
   },
   {
    "duration": 17,
    "start_time": "2022-08-20T18:40:52.630Z"
   },
   {
    "duration": 31,
    "start_time": "2022-08-20T18:40:52.649Z"
   },
   {
    "duration": 176,
    "start_time": "2022-08-20T18:40:52.683Z"
   },
   {
    "duration": 25,
    "start_time": "2022-08-20T18:40:52.860Z"
   },
   {
    "duration": 20,
    "start_time": "2022-08-20T18:40:52.888Z"
   },
   {
    "duration": 20,
    "start_time": "2022-08-20T18:40:52.910Z"
   },
   {
    "duration": 40,
    "start_time": "2022-08-20T18:40:52.932Z"
   },
   {
    "duration": 20,
    "start_time": "2022-08-20T18:40:52.974Z"
   },
   {
    "duration": 258,
    "start_time": "2022-08-20T18:40:52.996Z"
   },
   {
    "duration": 38,
    "start_time": "2022-08-20T18:40:53.256Z"
   },
   {
    "duration": 19,
    "start_time": "2022-08-20T18:40:53.296Z"
   },
   {
    "duration": 11,
    "start_time": "2022-08-20T18:40:53.317Z"
   },
   {
    "duration": 47,
    "start_time": "2022-08-20T18:40:53.330Z"
   },
   {
    "duration": 208,
    "start_time": "2022-08-20T18:40:53.379Z"
   },
   {
    "duration": 441,
    "start_time": "2022-08-20T18:40:53.589Z"
   },
   {
    "duration": 19,
    "start_time": "2022-08-20T18:40:54.035Z"
   },
   {
    "duration": 15,
    "start_time": "2022-08-20T18:40:54.056Z"
   },
   {
    "duration": 31,
    "start_time": "2022-08-20T18:40:54.074Z"
   },
   {
    "duration": 106,
    "start_time": "2022-08-20T18:40:54.108Z"
   },
   {
    "duration": 7,
    "start_time": "2022-08-20T18:40:54.216Z"
   },
   {
    "duration": 48,
    "start_time": "2022-08-20T18:40:54.225Z"
   },
   {
    "duration": 194,
    "start_time": "2022-08-20T18:40:54.276Z"
   },
   {
    "duration": 418,
    "start_time": "2022-08-20T18:40:54.472Z"
   },
   {
    "duration": 17,
    "start_time": "2022-08-20T18:40:54.892Z"
   },
   {
    "duration": 36,
    "start_time": "2022-08-20T18:40:54.912Z"
   },
   {
    "duration": 196,
    "start_time": "2022-08-20T18:40:54.969Z"
   },
   {
    "duration": 25,
    "start_time": "2022-08-20T18:40:55.167Z"
   },
   {
    "duration": 205,
    "start_time": "2022-08-20T18:40:55.194Z"
   },
   {
    "duration": 6,
    "start_time": "2022-08-20T18:40:55.401Z"
   },
   {
    "duration": 38,
    "start_time": "2022-08-20T18:40:55.409Z"
   },
   {
    "duration": 63,
    "start_time": "2022-08-20T18:40:55.449Z"
   },
   {
    "duration": 26,
    "start_time": "2022-08-20T18:40:55.516Z"
   },
   {
    "duration": 446,
    "start_time": "2022-08-20T18:40:55.545Z"
   },
   {
    "duration": 26,
    "start_time": "2022-08-20T18:40:55.993Z"
   },
   {
    "duration": 23,
    "start_time": "2022-08-20T18:40:56.021Z"
   },
   {
    "duration": 57,
    "start_time": "2022-08-20T18:40:56.067Z"
   },
   {
    "duration": 4,
    "start_time": "2022-08-20T18:40:56.126Z"
   },
   {
    "duration": 5,
    "start_time": "2022-08-20T18:40:56.131Z"
   },
   {
    "duration": 5,
    "start_time": "2022-08-20T18:40:56.138Z"
   },
   {
    "duration": 23,
    "start_time": "2022-08-20T18:40:56.145Z"
   },
   {
    "duration": 4524,
    "start_time": "2022-08-20T18:40:56.170Z"
   },
   {
    "duration": 4381,
    "start_time": "2022-08-20T18:41:00.696Z"
   },
   {
    "duration": 11,
    "start_time": "2022-08-20T18:41:05.079Z"
   },
   {
    "duration": 37,
    "start_time": "2022-08-20T18:41:05.092Z"
   },
   {
    "duration": 855,
    "start_time": "2022-08-20T18:41:05.131Z"
   },
   {
    "duration": 88,
    "start_time": "2022-08-20T18:41:05.988Z"
   },
   {
    "duration": 110,
    "start_time": "2022-08-20T18:41:06.079Z"
   },
   {
    "duration": 6,
    "start_time": "2022-08-20T18:41:06.191Z"
   },
   {
    "duration": 43,
    "start_time": "2022-08-20T18:41:06.199Z"
   },
   {
    "duration": 739,
    "start_time": "2022-08-20T18:41:06.244Z"
   },
   {
    "duration": 4,
    "start_time": "2022-08-20T18:41:06.985Z"
   },
   {
    "duration": 8576702,
    "start_time": "2022-08-20T18:41:06.991Z"
   },
   {
    "duration": 441293,
    "start_time": "2022-08-20T21:04:03.695Z"
   },
   {
    "duration": 314012,
    "start_time": "2022-08-20T21:11:24.990Z"
   },
   {
    "duration": 108808,
    "start_time": "2022-08-20T21:16:39.004Z"
   },
   {
    "duration": 60011,
    "start_time": "2022-08-20T21:18:27.814Z"
   }
  ],
  "kernelspec": {
   "display_name": "Python 3 (ipykernel)",
   "language": "python",
   "name": "python3"
  },
  "language_info": {
   "codemirror_mode": {
    "name": "ipython",
    "version": 3
   },
   "file_extension": ".py",
   "mimetype": "text/x-python",
   "name": "python",
   "nbconvert_exporter": "python",
   "pygments_lexer": "ipython3",
   "version": "3.9.5"
  },
  "toc": {
   "base_numbering": 1,
   "nav_menu": {},
   "number_sections": true,
   "sideBar": true,
   "skip_h1_title": true,
   "title_cell": "Table of Contents",
   "title_sidebar": "Contents",
   "toc_cell": false,
   "toc_position": {},
   "toc_section_display": true,
   "toc_window_display": false
  }
 },
 "nbformat": 4,
 "nbformat_minor": 2
}
