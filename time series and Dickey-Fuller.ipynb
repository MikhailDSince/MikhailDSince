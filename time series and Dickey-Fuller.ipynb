{
 "cells": [
  {
   "cell_type": "markdown",
   "metadata": {
    "toc": true
   },
   "source": [
    "<h1>Содержание<span class=\"tocSkip\"></span></h1>\n",
    "<div class=\"toc\"><ul class=\"toc-item\"><li><span><a href=\"#Подготовка\" data-toc-modified-id=\"Подготовка-1\"><span class=\"toc-item-num\">1&nbsp;&nbsp;</span>Подготовка</a></span></li><li><span><a href=\"#Анализ\" data-toc-modified-id=\"Анализ-2\"><span class=\"toc-item-num\">2&nbsp;&nbsp;</span>Анализ</a></span></li><li><span><a href=\"#Обучение\" data-toc-modified-id=\"Обучение-3\"><span class=\"toc-item-num\">3&nbsp;&nbsp;</span>Обучение</a></span></li><li><span><a href=\"#Тестирование\" data-toc-modified-id=\"Тестирование-4\"><span class=\"toc-item-num\">4&nbsp;&nbsp;</span>Тестирование</a></span></li><li><span><a href=\"#Чек-лист-проверки\" data-toc-modified-id=\"Чек-лист-проверки-5\"><span class=\"toc-item-num\">5&nbsp;&nbsp;</span>Чек-лист проверки</a></span></li></ul></div>"
   ]
  },
  {
   "cell_type": "markdown",
   "metadata": {},
   "source": [
    "#  Прогнозирование заказов такси"
   ]
  },
  {
   "cell_type": "markdown",
   "metadata": {},
   "source": [
    "Компания «Чётенькое такси» собрала исторические данные о заказах такси в аэропортах. Чтобы привлекать больше водителей в период пиковой нагрузки, нужно спрогнозировать количество заказов такси на следующий час. Постройте модель для такого предсказания.\n",
    "\n",
    "Значение метрики *RMSE* на тестовой выборке должно быть не больше 48.\n",
    "\n",
    "Вам нужно:\n",
    "\n",
    "1. Загрузить данные и выполнить их ресемплирование по одному часу.\n",
    "2. Проанализировать данные.\n",
    "3. Обучить разные модели с различными гиперпараметрами. Сделать тестовую выборку размером 10% от исходных данных.\n",
    "4. Проверить данные на тестовой выборке и сделать выводы.\n",
    "\n",
    "\n",
    "Данные лежат в файле `taxi.csv`. Количество заказов находится в столбце `num_orders` (от англ. *number of orders*, «число заказов»)."
   ]
  },
  {
   "cell_type": "markdown",
   "metadata": {},
   "source": [
    "<div class=\"alert alert-success\">\n",
    "<h2> Комментарий ревьюера <a class=\"tocSkip\"> </h2>\n",
    "\n",
    "<b>Все отлично!👍:</b> Прекрасное вступление!\n",
    "    \n",
    "В нём есть всё, что необходимо, чтобы понять суть проекта с первых строк отчёта!\n",
    "    \n",
    "Спасибо, что есть оглавление в плагине toc и в виде гиперссылок - по проекту удобно перемещаться:)"
   ]
  },
  {
   "cell_type": "code",
   "execution_count": 1,
   "metadata": {},
   "outputs": [],
   "source": [
    "import pandas as pd\n",
    "from statsmodels.tsa.seasonal import seasonal_decompose\n",
    "from sklearn.model_selection import train_test_split\n",
    "from sklearn.linear_model import LinearRegression\n",
    "from sklearn.metrics import mean_squared_error\n",
    "from sklearn.model_selection import GridSearchCV\n",
    "from sklearn.metrics import make_scorer\n",
    "from sklearn.tree import DecisionTreeRegressor\n",
    "from sklearn.ensemble import RandomForestRegressor\n",
    "from catboost import CatBoostRegressor\n",
    "from sklearn.linear_model import Lasso\n",
    "from sklearn.neighbors import KNeighborsRegressor\n",
    "import matplotlib.pyplot as plt\n",
    "from sklearn.model_selection import cross_val_score\n",
    "from sklearn.model_selection import TimeSeriesSplit\n",
    "from sklearn.dummy import DummyRegressor\n",
    "from statsmodels.tsa.stattools import adfuller"
   ]
  },
  {
   "cell_type": "markdown",
   "metadata": {},
   "source": [
    "<div class=\"alert alert-success\">\n",
    "<h2> Комментарий ревьюера <a class=\"tocSkip\"> </h2>\n",
    "\n",
    "<b>Все отлично!👍:</b> Библиотеки импортировали - отлично! Спасибо, что перезапускаешь проект перед отправкой на ревью - это важный шаг, который поможет избежать простых и досадных ошибок при воспроизведении решнеия:)\n",
    "</div>"
   ]
  },
  {
   "cell_type": "markdown",
   "metadata": {},
   "source": [
    "## Подготовка"
   ]
  },
  {
   "cell_type": "markdown",
   "metadata": {},
   "source": [
    "Загрузим и рассморим данные"
   ]
  },
  {
   "cell_type": "code",
   "execution_count": 2,
   "metadata": {},
   "outputs": [
    {
     "name": "stdout",
     "output_type": "stream",
     "text": [
      "datetime      0\n",
      "num_orders    0\n",
      "dtype: int64\n",
      "\n",
      "<class 'pandas.core.frame.DataFrame'>\n",
      "RangeIndex: 26496 entries, 0 to 26495\n",
      "Data columns (total 2 columns):\n",
      " #   Column      Non-Null Count  Dtype \n",
      "---  ------      --------------  ----- \n",
      " 0   datetime    26496 non-null  object\n",
      " 1   num_orders  26496 non-null  int64 \n",
      "dtypes: int64(1), object(1)\n",
      "memory usage: 414.1+ KB\n"
     ]
    }
   ],
   "source": [
    "data = pd.read_csv('/datasets/taxi.csv')\n",
    "print(data.isna().sum())\n",
    "print()\n",
    "data.info()"
   ]
  },
  {
   "cell_type": "markdown",
   "metadata": {},
   "source": [
    "<div class=\"alert alert-success\">\n",
    "<h2> Комментарий ревьюера <a class=\"tocSkip\"> </h2>\n",
    "\n",
    "<b>Все отлично!👍</b> \n",
    "    \n",
    "Данные подгрузили и проверили.\n",
    "    \n",
    "При считывании данных из файла здорово перестраховывать себя от ошибок, связанных, например, с неверным указанием пути к файлу. А иногда бывает, что работаешь с файлом локально, выгружаешь его на сервер, ожидая, что он будет принимать данные, которые лежат на том же сервере, а код падает с ошибкой, потому что путь к файлу не поменялся с локального на серверный.\n",
    "    \n",
    "Для этого, например, можно использовать конструкцию `try-except`: сначала пробуешь локальный путь, при возникновении ошибки используется серверный путь (подробнее можешь почитать тут: https://pythonworld.ru/tipy-dannyx-v-python/isklyucheniya-v-python-konstrukciya-try-except-dlya-obrabotki-isklyuchenij.html).\n",
    "    \n",
    "Но еще лучше использовать библиотеку `os` - её использование позволит тебе отойти от прописывания путей к файлу (а локальные директории могут меняться часто в зависимости от пользователя) и перейти к автоматическому определению пути к файлу с помощью модуля `path`. Как пример:\n",
    "    \n",
    "    import os\n",
    "\n",
    "    pth1 = '/folder_1/data.csv'\n",
    "    pth2 = '/folder_2/data.csv'\n",
    "    \n",
    "    if os.path.exists(pth1):\n",
    "        query_1 = pd.read_csv(pth1)\n",
    "    elif os.path.exists(pth2):\n",
    "        query_1 = pd.read_csv(pth2)\n",
    "    else:\n",
    "        print('Something is wrong')\n",
    "    \n",
    "В нём мы указываем только непосредственно директорию с файлом, а уже путь к ней модуль `path` определит самостоятельно.\n",
    "\n",
    "Также ещё на этапе считывания данных можно спарсить дату и задать индекс-столбец: за первое действие отвечает параметр `parse_dates`, за второе - `index_col`. Это параметры метода Pandas `.read_csv()`.\n",
    "</div>"
   ]
  },
  {
   "cell_type": "markdown",
   "metadata": {},
   "source": [
    "Пропусков в данных нет, теперь подготовим данные к решению задачи регрессии на временных рядах. "
   ]
  },
  {
   "cell_type": "code",
   "execution_count": 3,
   "metadata": {},
   "outputs": [],
   "source": [
    "data[\"datetime\"] = pd.to_datetime(data[\"datetime\"], format = \"%Y-%m-%d %H:%M:%S\")\n",
    "data = data.set_index(\"datetime\")"
   ]
  },
  {
   "cell_type": "markdown",
   "metadata": {},
   "source": [
    "<div class=\"alert alert-success\">\n",
    "<h2> Комментарий ревьюера <a class=\"tocSkip\"> </h2>\n",
    "\n",
    "<b>Все отлично!👍:</b> Преобразовали дату и задали её как индекс таблицы - окей!\n",
    "</div>"
   ]
  },
  {
   "cell_type": "markdown",
   "metadata": {},
   "source": [
    "По условиям задачи необходима информация по количеству заказов такси на каждый час. Ресемплируем данные по 1 часу. В качестве агрегирующей функции возьмем сумму, так как необходимо предсказывать суммарное количество заказов на следующий час."
   ]
  },
  {
   "cell_type": "code",
   "execution_count": 4,
   "metadata": {},
   "outputs": [
    {
     "data": {
      "text/html": [
       "<div>\n",
       "<style scoped>\n",
       "    .dataframe tbody tr th:only-of-type {\n",
       "        vertical-align: middle;\n",
       "    }\n",
       "\n",
       "    .dataframe tbody tr th {\n",
       "        vertical-align: top;\n",
       "    }\n",
       "\n",
       "    .dataframe thead th {\n",
       "        text-align: right;\n",
       "    }\n",
       "</style>\n",
       "<table border=\"1\" class=\"dataframe\">\n",
       "  <thead>\n",
       "    <tr style=\"text-align: right;\">\n",
       "      <th></th>\n",
       "      <th>num_orders</th>\n",
       "    </tr>\n",
       "    <tr>\n",
       "      <th>datetime</th>\n",
       "      <th></th>\n",
       "    </tr>\n",
       "  </thead>\n",
       "  <tbody>\n",
       "    <tr>\n",
       "      <th>2018-03-01 00:00:00</th>\n",
       "      <td>124</td>\n",
       "    </tr>\n",
       "    <tr>\n",
       "      <th>2018-03-01 01:00:00</th>\n",
       "      <td>85</td>\n",
       "    </tr>\n",
       "    <tr>\n",
       "      <th>2018-03-01 02:00:00</th>\n",
       "      <td>71</td>\n",
       "    </tr>\n",
       "    <tr>\n",
       "      <th>2018-03-01 03:00:00</th>\n",
       "      <td>66</td>\n",
       "    </tr>\n",
       "    <tr>\n",
       "      <th>2018-03-01 04:00:00</th>\n",
       "      <td>43</td>\n",
       "    </tr>\n",
       "  </tbody>\n",
       "</table>\n",
       "</div>"
      ],
      "text/plain": [
       "                     num_orders\n",
       "datetime                       \n",
       "2018-03-01 00:00:00         124\n",
       "2018-03-01 01:00:00          85\n",
       "2018-03-01 02:00:00          71\n",
       "2018-03-01 03:00:00          66\n",
       "2018-03-01 04:00:00          43"
      ]
     },
     "execution_count": 4,
     "metadata": {},
     "output_type": "execute_result"
    }
   ],
   "source": [
    "data.sort_index(inplace=True)\n",
    "data = data.resample('1H').sum()\n",
    "data.head()"
   ]
  },
  {
   "cell_type": "markdown",
   "metadata": {},
   "source": [
    "<div class=\"alert alert-success\">\n",
    "<h2> Комментарий ревьюера <a class=\"tocSkip\"> </h2>\n",
    "\n",
    "<b>Все отлично!👍</b> \n",
    "    \n",
    "Выполнили ресэмплирование данных с градацией по часу с применением функции суммирования - отличное и наиболее логичное решение для этой задачи!\n",
    "</div>"
   ]
  },
  {
   "cell_type": "markdown",
   "metadata": {},
   "source": [
    "## Анализ"
   ]
  },
  {
   "cell_type": "markdown",
   "metadata": {},
   "source": [
    "Проведем анализ временных рядов. Рассмотрим график временного ряда."
   ]
  },
  {
   "cell_type": "code",
   "execution_count": 5,
   "metadata": {},
   "outputs": [
    {
     "data": {
      "image/png": "[encoded data removed]",
      "text/plain": [
       "<Figure size 1080x360 with 1 Axes>"
      ]
     },
     "metadata": {
      "needs_background": "light"
     },
     "output_type": "display_data"
    }
   ],
   "source": [
    "plt.figure(figsize=(15, 5))\n",
    "plt.plot(data)\n",
    "plt.title(\"график временного ряда\")\n",
    "plt.xlabel(\"время заказа\")\n",
    "plt.ylabel(\"количество заказов\")\n",
    "plt.show()"
   ]
  },
  {
   "cell_type": "markdown",
   "metadata": {},
   "source": [
    "По графику сложно понять происходящее с данными и выявить какие-то закономерности, но виден тренд на повышение заказов с течением времени. Построим график с учетом скользящего среднего."
   ]
  },
  {
   "cell_type": "code",
   "execution_count": 6,
   "metadata": {},
   "outputs": [
    {
     "data": {
      "image/png": "[encoded data removed]",
      "text/plain": [
       "<Figure size 1080x360 with 1 Axes>"
      ]
     },
     "metadata": {
      "needs_background": "light"
     },
     "output_type": "display_data"
    }
   ],
   "source": [
    "data[\"rolling_mean\"] = data[\"num_orders\"].shift().rolling(50).mean()\n",
    "plt.figure(figsize=(15, 5))\n",
    "plt.plot(data)\n",
    "plt.title(\"график временного ряда\")\n",
    "plt.xlabel(\"время заказа\")\n",
    "plt.ylabel(\"количество заказов\")\n",
    "plt.show()"
   ]
  },
  {
   "cell_type": "markdown",
   "metadata": {},
   "source": [
    "По графику видно, тренд на увелечение количества заказов в час, рассмотрим тренды и сезонность поближе."
   ]
  },
  {
   "cell_type": "markdown",
   "metadata": {},
   "source": [
    "<div class=\"alert alert-success\">\n",
    "<h2> Комментарий ревьюера <a class=\"tocSkip\"> </h2>\n",
    "\n",
    "<b>Все отлично!👍</b> \n",
    "    \n",
    "Сгладили исходный врмеменной ряд скользящей средней - окей!\n",
    "</div>"
   ]
  },
  {
   "cell_type": "markdown",
   "metadata": {},
   "source": [
    "<div class=\"alert alert-warning\">\n",
    "    <h2> Комментарий ревьюера <a class=\"tocSkip\"> </h2>\n",
    "    \n",
    "<b>Некоторые замечания и рекомендации⚠️:</b> \n",
    "\n",
    "При использовании `.rolling()` в такой постановке скользящее среднее считается с учётом текущего шага - это не совсем верно для задачи временных рядов, так как будет работать только для известных нам значений и сломается на предсказаниях.\n",
    "        \n",
    "Нужно либо использовать `.shift()` перед `.rolling()`, либо параметру `closed` при использовании `.rolling()` передать значение `left`.\n",
    "</div>"
   ]
  },
  {
   "cell_type": "markdown",
   "metadata": {},
   "source": [
    "<div class=\"alert alert-warning\">\n",
    "    <h2> Комментарий ревьюера v.2 <a class=\"tocSkip\"> </h2>\n",
    "    \n",
    "<b>Некоторые замечания и рекомендации⚠️:</b> \n",
    "\n",
    "Не учтено.\n",
    "</div>"
   ]
  },
  {
   "cell_type": "markdown",
   "metadata": {},
   "source": [
    "<div class=\"alert alert-success\">\n",
    "<h2> Комментарий ревьюера v.3 <a class=\"tocSkip\"> </h2>\n",
    "\n",
    "<b>Все отлично!👍</b> \n",
    "    \n",
    "Учтено!\n",
    "</div>"
   ]
  },
  {
   "cell_type": "code",
   "execution_count": 7,
   "metadata": {},
   "outputs": [
    {
     "data": {
      "image/png": "[encoded data removed]",
      "text/plain": [
       "<Figure size 1080x360 with 1 Axes>"
      ]
     },
     "metadata": {
      "needs_background": "light"
     },
     "output_type": "display_data"
    }
   ],
   "source": [
    "decomposed = seasonal_decompose(data[\"num_orders\"])\n",
    "plt.figure(figsize=(15, 5))\n",
    "plt.plot(decomposed.trend)\n",
    "plt.title(\"тренд\")\n",
    "plt.xlabel(\"время заказа\")\n",
    "plt.ylabel(\"количество заказов\")\n",
    "plt.show()"
   ]
  },
  {
   "cell_type": "code",
   "execution_count": 8,
   "metadata": {},
   "outputs": [
    {
     "data": {
      "image/png": "[encoded data removed]",
      "text/plain": [
       "<Figure size 1080x360 with 1 Axes>"
      ]
     },
     "metadata": {
      "needs_background": "light"
     },
     "output_type": "display_data"
    }
   ],
   "source": [
    "plt.figure(figsize=(15, 5))\n",
    "plt.plot(decomposed.seasonal)\n",
    "plt.title(\"сезонность\")\n",
    "plt.xlabel(\"время заказа\")\n",
    "plt.ylabel(\"количество заказов\")\n",
    "plt.show()"
   ]
  },
  {
   "cell_type": "markdown",
   "metadata": {},
   "source": [
    "<div class=\"alert alert-success\">\n",
    "<h2> Комментарий ревьюера <a class=\"tocSkip\"> </h2>\n",
    "\n",
    "<b>Все отлично!👍</b> \n",
    "    \n",
    "В номинации `Самый информативный график` побеждает :D \n",
    "    \n",
    "Чуть ниже будет коммент по этому поводу:)\n",
    "</div>"
   ]
  },
  {
   "cell_type": "markdown",
   "metadata": {},
   "source": [
    "Как и ожидалось из графика скользящего среднего есть четкий тренд на повышение количества заказов с каждым месяцем. Это обьясняестя тем, что в летние месяцы люди летают больше, соответственно и заказывают такси в аэропорты больше. Сезонность по историческим данным не наблюдается, так как даны данные только за полгода. Возможна есть какая-то сезонность если рассматривать данные за несколько лет, но отследить ее на полугодовом отрезке не представляется возможным."
   ]
  },
  {
   "cell_type": "markdown",
   "metadata": {},
   "source": [
    "<div class=\"alert alert-success\">\n",
    "<h2> Комментарий ревьюера <a class=\"tocSkip\"> </h2>\n",
    "\n",
    "<b>Все отлично!👍</b> \n",
    "    \n",
    "Тут всё чётенько!\n",
    "</div>"
   ]
  },
  {
   "cell_type": "markdown",
   "metadata": {},
   "source": [
    "<div class=\"alert alert-block alert-danger\">\n",
    "<h2> Комментарий ревьюера <a class=\"tocSkip\"></h2>\n",
    "\n",
    "    \n",
    "<b>На доработку❌:</b>\n",
    "Аналитическую часть этого раздела стоит дополнить:\n",
    "    \n",
    "1. Сезонную компоненту для лушчего понимания природы сезонности стоит дополнительно исследовать на более коротком промежутке времени - подойдёт 3-5 суток (а то синий квадрат правда не очень информативен). Для выполнения этого пункта стоит найти ответы на следующие вопросы:\n",
    "    \n",
    "- какова природа сезонности (часовая, суточная, дневная, недельная, месячная)?;\n",
    "    \n",
    "- в какие периоды (с учётом пункта выше) наблюдаются пики заказов, а в какие - спады?;\n",
    "    \n",
    "- чем обсуловлена природа сезонности? (важно помнить, что у нас данные про заказы такси в аэропортах - как это соотносится с пунктом выше).\n",
    "    \n",
    "    Давай постараемся не упустить ни один из пунктов?:)\n",
    "\n",
    "2. Важно визуализировать и проанализировать остатки после декомпозиции временного ряда. Тут можно сделать предположение о стационарности ряда - если остатки ведут себя стабильно и не показывают разброс с течением времени - можно предположить стационарность ряда, и наоборот -  и плавно перейти к п.3.\n",
    "\n",
    "3. Стоит оценить стационарность ряда и сделать об этом вывод. Сделать это можно с помощью сглаживания скользящим средним и последующей визуализацией сглаженного ряда на графике (отлично будет смотреться на графике исходного временного ряда как его дополнение) - это самый простой способ (частично ты его уже сделал, надо только прокомментировать). В реальных же задачах с временными рядами, в особенности - с финансовыми данными или биржевыми котировками, график не всегда поможет достоверно оценить стационарность ряда. Поэтому для оценки стационарности ряда лучше использовать тест Дики — Фуллера (подробнее о нём можно глянуть тут: https://www.statsmodels.org/dev/generated/statsmodels.tsa.stattools.adfuller.html, а вот тут можно глянуть пример реализации: https://www.helenkapatsa.ru/tiest-diki-fulliera/) - он даст наиболее точный результат. Рекомендую попробовать оба способа - важно понимать, как соотносятся результаты двух способов. Также тест Дики-Фуллера стоит провести на двух уровнях значимости - 1% и 5%. Может, результаты будут отличаться? Как в таком случае поступим?\n",
    "\n",
    "</div>"
   ]
  },
  {
   "cell_type": "markdown",
   "metadata": {},
   "source": [
    "<div class=\"alert alert-info\">\n",
    "<h2> Комментарий студента <a class=\"tocSkip\"> </h2>\n",
    "\n",
    "Рассмотрим график остатков\n",
    "</div>"
   ]
  },
  {
   "cell_type": "code",
   "execution_count": 9,
   "metadata": {},
   "outputs": [
    {
     "data": {
      "image/png": "[encoded data removed]",
      "text/plain": [
       "<Figure size 1080x360 with 1 Axes>"
      ]
     },
     "metadata": {
      "needs_background": "light"
     },
     "output_type": "display_data"
    }
   ],
   "source": [
    "plt.figure(figsize=(15, 5))\n",
    "plt.plot(decomposed.resid)\n",
    "plt.title(\"остатки\")\n",
    "plt.xlabel(\"время заказа\")\n",
    "plt.ylabel(\"количество заказов\")\n",
    "plt.show()"
   ]
  },
  {
   "cell_type": "markdown",
   "metadata": {},
   "source": [
    "Разброс остатков большой, можно сказать, что ряд не стационарный. Теперь необходимо рассмотреть поближе сезонность ряда. Рассмотрим срез ряда длиной в 5 суток, декомпозируем его и рассморим сезонность."
   ]
  },
  {
   "cell_type": "markdown",
   "metadata": {},
   "source": [
    "<div class=\"alert alert-block alert-danger\">\n",
    "<h2> Комментарий ревьюера v.2 <a class=\"tocSkip\"></h2>\n",
    "\n",
    "    \n",
    "<b>На доработку❌:</b>\n",
    "\n",
    "Вывод некорректный: стационарность/нестационарность ряда не может объясняться наличием тренда в ряде - в ряде так или иначе всегда будет какой-то тренд.\n",
    "    \n",
    "В целом вывода `Разброс остатков большой, можно сказать, что ряд не стационарный` хватило бы - про тренд стоит убрать.\n",
    "    \n",
    "Также не проведён тест Дики-Фуллера.\n",
    "</div>"
   ]
  },
  {
   "cell_type": "markdown",
   "metadata": {},
   "source": [
    "<div class=\"alert alert-info\">\n",
    "<h2> Комментарий студента <a class=\"tocSkip\"> </h2>\n",
    "\n",
    "Проведем тест Дики-Фуллера. В качетсве нулевой гипотезы возьмем, то что временной ряд нестационарен. Соответственно в качестве альтарнативной - временной ряд - стационарен. Проверим для двух уровней значимости 1% и 5%.\n",
    "</div>"
   ]
  },
  {
   "cell_type": "code",
   "execution_count": 10,
   "metadata": {},
   "outputs": [
    {
     "name": "stdout",
     "output_type": "stream",
     "text": [
      "Критерий ADF: -3.068924\n",
      "P-значение: 0.028940\n",
      "Критические значения:\n",
      "5%\n",
      "Нулевая гипотеза отвергнута – Временной ряд стационарен\n",
      "1%\n",
      "Нулевая гипотеза не отвергнута – Временной ряд не стационарен\n"
     ]
    }
   ],
   "source": [
    "result = adfuller(data['num_orders'], autolag='AIC')\n",
    "print('Критерий ADF: %f' % result[0])\n",
    "\n",
    "print('P-значение: %f' % result[1])\n",
    "\n",
    "print('Критические значения:')\n",
    "print(\"5%\")\n",
    "if result[0] < result[4][\"5%\"]:\n",
    "        print (\"Нулевая гипотеза отвергнута – Временной ряд стационарен\")\n",
    "else:\n",
    "        print (\"Нулевая гипотеза не отвергнута – Временной ряд не стационарен\")\n",
    "print(\"1%\")        \n",
    "if result[0] < result[4][\"1%\"]:\n",
    "    print (\"Нулевая гипотеза отвергнута – Временной ряд стационарен\")\n",
    "else:\n",
    "    print (\"Нулевая гипотеза не отвергнута – Временной ряд не стационарен\")\n",
    "        "
   ]
  },
  {
   "cell_type": "markdown",
   "metadata": {},
   "source": [
    "<div class=\"alert alert-info\">\n",
    "<h2> Комментарий студента <a class=\"tocSkip\"> </h2>\n",
    "\n",
    "Проведя тест Дики-Фуллера для временного ряда видно, что при альфа равном 5% - тест маркиркирует временной ряд как стационарный. При альфа равным 1% - временной ряд маркируется как нестационарный. Альфа в тестах - ошибка первого рода, показывает количество положительно завершенных тестов, на самом деле которые являются отрицательными. Таким образом получаем, что при альфа = 5%, мы предполагаем, что 5% процентов всех завершенных положительно тестов - совершили ошибку, соответственно при альфа = 1%, то только точность тестов выше. Вообще необходимая точность тестов определяется от поставленной задачи, но в нашем случае думаю можно положиться на альфа = 1%, и сказать, что временной ряд - нестационарный, то есть неотвергать нулевую гипотезу.\n",
    "</div>"
   ]
  },
  {
   "cell_type": "markdown",
   "metadata": {},
   "source": [
    "<div class=\"alert alert-success\">\n",
    "<h2> Комментарий ревьюера v.3 <a class=\"tocSkip\"> </h2>\n",
    "\n",
    "<b>Все отлично!👍</b> \n",
    "    \n",
    "Учтено! Отличное решение по тесту: в случае, когда один и тот же тест на разных уровнях значимости даёт разные результаты, стоит принять конвервативное решение и не отклонять гипотезу, чтобы не совершить ошибку второго рода, ошибочно её отклонив и приняв неверную альтернативную гипотезу.\n",
    "</div>"
   ]
  },
  {
   "cell_type": "code",
   "execution_count": 11,
   "metadata": {},
   "outputs": [
    {
     "data": {
      "image/png": "[encoded data removed]",
      "text/plain": [
       "<Figure size 1080x360 with 1 Axes>"
      ]
     },
     "metadata": {
      "needs_background": "light"
     },
     "output_type": "display_data"
    }
   ],
   "source": [
    "data_5 = data.loc[\"2018-03-01\":\"2018-03-05\"]\n",
    "dec = seasonal_decompose(data_5[\"num_orders\"])\n",
    "plt.figure(figsize=(15, 5))\n",
    "plt.plot(dec.seasonal)\n",
    "plt.title(\"сезонность\")\n",
    "plt.xlabel(\"время заказа\")\n",
    "plt.ylabel(\"количество заказов\")\n",
    "plt.show()"
   ]
  },
  {
   "cell_type": "markdown",
   "metadata": {},
   "source": [
    "<div class=\"alert alert-info\">\n",
    "<h2> Комментарий студента <a class=\"tocSkip\"> </h2>\n",
    "\n",
    "Теперь видна сезоннсоть в заказах. Сезонность суточная, пик ее наблюдается к концу суток, а спады в начале. Природа сезонности возможно связана скорее всего с тем, что большее количестов самолетов прибывает в дневное-вечернее время, соответственно и такси заказываются больше в это время. \n",
    "</div>"
   ]
  },
  {
   "cell_type": "markdown",
   "metadata": {},
   "source": [
    "<div class=\"alert alert-success\">\n",
    "<h2> Комментарий ревьюера v.2 <a class=\"tocSkip\"> </h2>\n",
    "\n",
    "<b>Все отлично!👍</b> \n",
    "    \n",
    "Учтено!\n",
    "</div>"
   ]
  },
  {
   "cell_type": "markdown",
   "metadata": {},
   "source": [
    "## Обучение"
   ]
  },
  {
   "cell_type": "markdown",
   "metadata": {},
   "source": [
    "Далее приступим к обучению моделей. Считаю необходимым в рамках текущей задачи пользоваться двумя выборками: обучающей и тестовой. Применим стратегию TimeSeriesSplit для кросс-валидации временных рядов."
   ]
  },
  {
   "cell_type": "markdown",
   "metadata": {},
   "source": [
    "<div class=\"alert alert-warning\">\n",
    "    <h2> Комментарий ревьюера <a class=\"tocSkip\"> </h2>\n",
    "    \n",
    "<b>Некоторые замечания и рекомендации⚠️:</b> \n",
    "\n",
    "Категорически с тобой не соглашусь:)\n",
    "        \n",
    "Ты прав насчёт того, что при обычной кросс-валидации фолды перемешиваются, и модель начинает \"подсматривать\" в будущее. Однако есть разные стратегии кросс-валидации, в том числе для временных рядов, одна из них (самая базовая) - `TimeSeriesSplit` (подробнее тут: https://scikit-learn.org/stable/modules/generated/sklearn.model_selection.TimeSeriesSplit.html). \n",
    "    \n",
    "Также рекомендую почитать статью о сплитовании для временных рядов - даст понимание, как работает `TimeSeriesSplit`: https://medium.com/@Hong_Tang/timeseries-split-with-sklearn-tips-8162c83612b9. \n",
    "</div>"
   ]
  },
  {
   "cell_type": "markdown",
   "metadata": {},
   "source": [
    "<div class=\"alert alert-block alert-danger\">\n",
    "<h2> Комментарий ревьюера v.2 <a class=\"tocSkip\"></h2>\n",
    "\n",
    "    \n",
    "<b>На доработку❌:</b>\n",
    "\n",
    "Этот вывод стоит переписать - сейчас в работе используется кросс-валидация.\n",
    "        \n",
    "</div>"
   ]
  },
  {
   "cell_type": "markdown",
   "metadata": {},
   "source": [
    "<div class=\"alert alert-success\">\n",
    "<h2> Комментарий ревьюера v.3 <a class=\"tocSkip\"> </h2>\n",
    "\n",
    "<b>Все отлично!👍</b> \n",
    "    \n",
    "Учтено!\n",
    "</div>"
   ]
  },
  {
   "cell_type": "code",
   "execution_count": 12,
   "metadata": {},
   "outputs": [],
   "source": [
    "data = data.drop(\"rolling_mean\", axis = 1)"
   ]
  },
  {
   "cell_type": "markdown",
   "metadata": {},
   "source": [
    "<div class=\"alert alert-success\">\n",
    "<h2> Комментарий ревьюера <a class=\"tocSkip\"> </h2>\n",
    "\n",
    "<b>Все отлично!👍</b> \n",
    "    \n",
    "Удалили ненужный признак - окей!\n",
    "</div>"
   ]
  },
  {
   "cell_type": "markdown",
   "metadata": {},
   "source": [
    "Теперь необходимо создать признаки для предсказания. Создадим календарные признаки: месяц, число, день недели, час. Также создадим несколько столбцов с отстающими значениями, максимальное отставание будем подбирать для каждой модели. Также будем подбирать оптимальный размер окна выборочного среднего. Для упрощения подбора создание признаков будем производиться функцией."
   ]
  },
  {
   "cell_type": "code",
   "execution_count": 13,
   "metadata": {},
   "outputs": [],
   "source": [
    "def features_creating(data, max_lag, rolling_mean_size):\n",
    "    dc = data.copy()\n",
    "    dc[\"day\"] = dc.index.day\n",
    "    dc['dayofweek'] = dc.index.dayofweek\n",
    "    dc[\"hour\"] = dc.index.hour\n",
    "    \n",
    "    for lag in range(1, max_lag + 1):\n",
    "        dc['lag_{}'.format(lag)] = dc['num_orders'].shift(lag)\n",
    "        \n",
    "    dc['rolling_mean'] = dc['num_orders'].shift().rolling(rolling_mean_size).mean()\n",
    "    return dc"
   ]
  },
  {
   "cell_type": "markdown",
   "metadata": {},
   "source": [
    "<div class=\"alert alert-success\">\n",
    "<h2> Комментарий ревьюера <a class=\"tocSkip\"> </h2>\n",
    "\n",
    "<b>Все отлично!👍:</b> Написали функцию для создания новых признаков - окей!"
   ]
  },
  {
   "cell_type": "markdown",
   "metadata": {},
   "source": [
    "<div class=\"alert alert-warning\">\n",
    "    <h2> Комментарий ревьюера <a class=\"tocSkip\"> </h2>\n",
    "    \n",
    "<b>Некоторые замечания и рекомендации⚠️:</b> \n",
    "Организация работы функции таким образом, чтобы она работала с глобальной переменной - не самая хорошая практика: если что-то пойдёт не так, придётся заново запускать весь процесс предобработки данных. \n",
    "        \n",
    "Лучше организовывать функцию так, чтобы она принимала на вход набор данных и возвращала результат работы, чтобы его можно было сохранить в новой переменной. Концепт:\n",
    "        \n",
    "    def foo(df):\n",
    "        df.dropna(inplace=True)\n",
    "    \n",
    "    foo(df)\n",
    "        \n",
    "В этом случае изменения необратимы, так как мы модифицировали глобальную переменную `df` - эту переменную придётся загружать в память заново и заново её обрабатывать.\n",
    "        \n",
    "\n",
    "    def foo(df):\n",
    "        return df.dropna()\n",
    "    \n",
    "    foo(df)\n",
    "        \n",
    "        \n",
    "Изменения будут необратимы и в таком случае, даже несмотря на на наличие `return`: несмотря на то, что работаем мы с локальной переменной, функция всё равно работает с объектом в памяти, связанным с глобальной переменной, пусть и через алиас.\n",
    "        \n",
    "    def foo(df):\n",
    "        df_foo = df.copy()\n",
    "        return df_foo.dropna()\n",
    "    \n",
    "    df_new = foo(df)\n",
    "        \n",
    "Здесь внутри функции исходный объект копируется, и работа уже происходит с новым объектом. В этом случае результат работы функции с исходными данными мы складываем в новую переменную - таким образом исходная глобальная переменная не подвергается вмешательству и сохранятся на случай, если функция сработала неправильно.\n",
    "        \n",
    "</div>"
   ]
  },
  {
   "cell_type": "markdown",
   "metadata": {},
   "source": [
    "<div class=\"alert alert-success\">\n",
    "<h2> Комментарий ревьюера v.2 <a class=\"tocSkip\"> </h2>\n",
    "\n",
    "<b>Все отлично!👍</b> \n",
    "    \n",
    "Учтено!\n",
    "</div>"
   ]
  },
  {
   "cell_type": "markdown",
   "metadata": {},
   "source": [
    "<div class=\"alert alert-block alert-danger\">\n",
    "<h2> Комментарий ревьюера <a class=\"tocSkip\"></h2>\n",
    "\n",
    "    \n",
    "<b>На доработку❌:</b>\n",
    "Концептуально выделение признака \"год\" из даты - хорошая идея, но конкретно в нашем наборе данных у нас нет наблюдений в какой-то иной год, кроме 2018. Таким образом, мы просто создали константный признак, не приносящий ценности для модели, но расширяющий признаковое пространство. Стоит его удалить:)\n",
    "        \n",
    "То же касается признака \"месяц\": так как у нас данные только за неполный год и так как данные отстортированы по возрастанию даты, модель сможет работать адекватно только с теми значениями месяца, которые были на обучающей выборке. В оперативных данных таких значений месяца не будет, и модель не сможет работать с ними корректно.\n",
    "        </div>"
   ]
  },
  {
   "cell_type": "markdown",
   "metadata": {},
   "source": [
    "<div class=\"alert alert-info\">\n",
    "<h2> Комментарий студента <a class=\"tocSkip\"> </h2>\n",
    "\n",
    "Переписал функцию с локальными переменными, а также удалил неинформативный признак месяц.\n",
    "</div>"
   ]
  },
  {
   "cell_type": "markdown",
   "metadata": {},
   "source": [
    "<div class=\"alert alert-success\">\n",
    "<h2> Комментарий ревьюера v.2 <a class=\"tocSkip\"> </h2>\n",
    "\n",
    "<b>Все отлично!👍</b> \n",
    "    \n",
    "Учтено!\n",
    "</div>"
   ]
  },
  {
   "cell_type": "code",
   "execution_count": 14,
   "metadata": {},
   "outputs": [],
   "source": [
    "data_new = features_creating(data, 24, 24)"
   ]
  },
  {
   "cell_type": "markdown",
   "metadata": {},
   "source": [
    "<div class=\"alert alert-success\">\n",
    "<h2> Комментарий ревьюера <a class=\"tocSkip\"> </h2>\n",
    "\n",
    "<b>Все отлично!👍:</b> Новые признаки создали - отлично!"
   ]
  },
  {
   "cell_type": "markdown",
   "metadata": {},
   "source": [
    "<div class=\"alert alert-warning\">\n",
    "    <h2> Комментарий ревьюера <a class=\"tocSkip\"> </h2>\n",
    "    \n",
    "<b>Некоторые замечания и рекомендации⚠️:</b> \n",
    "Давай немного порассуждаем о значении параметров этой функции:\n",
    "        \n",
    "1. Величина лага - показывает, на сколько шагов назад мы смотрим. В функции задано значение 7, соответственно наша будущая модель будет смотреть на 7 часов назад (так как в данных часовая грануляция). В целом неплохо, с этого можно начинать, но очевидно, что чем выше будет размер лага, тем точнее будут предсказания. \n",
    "2. Размер окна для скользящего среднего - показывает, сколько шагов мы будем использовать для расчёта среднего. Тут немного двоякий момент: если взять размер окна слишком маленьким, то модель будет быстрее схватывать новые тренды в данных, но не будет иметь достаточно истричности для формирования самого тренда, то есть получит хорошую уточняющую способность от оперативных данных, но уточнять особо будет нечего. С другой стороны, если задать слишком широкое окно для скользящего среднего, мы получим модель, хорошо помнящую, что было раньше, но довольно неповоротливую с точки зрения улавливания оперативных изменения - все вновь поступающие сигналы будут глушиться тяжёлым хвостом из прошлого.\n",
    "        \n",
    "В идеальном случае такие параметры лучше подбирать путём перебора: в цикла можно обучать простенькую модель вроде линейной регрессии с разными параметрами этой функции и замерять качество модели. Но в целом, так как у нас в данных имеется суточная сезонность, значение около 24 (плюс-минус) для обоих параметров будут оптимальными.\n",
    "</div>"
   ]
  },
  {
   "cell_type": "markdown",
   "metadata": {},
   "source": [
    "<div class=\"alert alert-info\">\n",
    "<h2> Комментарий студента <a class=\"tocSkip\"> </h2>\n",
    "\n",
    "Функцию возьмем с lag и размером окна по 24, так как имеем суточную сезонность.\n",
    "</div>"
   ]
  },
  {
   "cell_type": "markdown",
   "metadata": {},
   "source": [
    "<div class=\"alert alert-success\">\n",
    "<h2> Комментарий ревьюера v.2 <a class=\"tocSkip\"> </h2>\n",
    "\n",
    "<b>Все отлично!👍</b> \n",
    "    \n",
    "Учтено!\n",
    "</div>"
   ]
  },
  {
   "cell_type": "code",
   "execution_count": 15,
   "metadata": {},
   "outputs": [],
   "source": [
    "data_new = data_new.dropna(axis = 0)"
   ]
  },
  {
   "cell_type": "markdown",
   "metadata": {},
   "source": [
    "<div class=\"alert alert-success\">\n",
    "<h2> Комментарий ревьюера <a class=\"tocSkip\"> </h2>\n",
    "\n",
    "<b>Все отлично!👍:</b> Удалили строки, в которых после создания лаговых переменных появились пропуски - окей!"
   ]
  },
  {
   "cell_type": "code",
   "execution_count": 16,
   "metadata": {},
   "outputs": [],
   "source": [
    "train, test = train_test_split(data_new, shuffle = False, test_size = 0.1)"
   ]
  },
  {
   "cell_type": "markdown",
   "metadata": {},
   "source": [
    "<div class=\"alert alert-success\">\n",
    "<h2> Комментарий ревьюера <a class=\"tocSkip\"> </h2>\n",
    "\n",
    "<b>Все отлично!👍:</b>\n",
    "Сплитование сделано корректно как с точки зрения учёта специфики временного ряда (отключено перемешивание), так и размера тестовой выборки.\n",
    "</div>"
   ]
  },
  {
   "cell_type": "code",
   "execution_count": 17,
   "metadata": {},
   "outputs": [],
   "source": [
    "train_target = train[\"num_orders\"]\n",
    "train_features = train.drop(\"num_orders\", axis = 1)"
   ]
  },
  {
   "cell_type": "markdown",
   "metadata": {},
   "source": [
    "<div class=\"alert alert-success\">\n",
    "<h2> Комментарий ревьюера <a class=\"tocSkip\"> </h2>\n",
    "\n",
    "<b>Все отлично!👍:</b>\n",
    "Выделили признаки для обучения и целевой признак - хорошо!\n",
    "</div>"
   ]
  },
  {
   "cell_type": "markdown",
   "metadata": {},
   "source": [
    "<div class=\"alert alert-info\">\n",
    "<h2> Комментарий студента <a class=\"tocSkip\"> </h2>\n",
    "\n",
    "Применим кросс-валидацию для всех моделей, при этом применим параметр cv = TimeSeriesSplit для корректной валидации временных рядов.\n",
    "</div>"
   ]
  },
  {
   "cell_type": "markdown",
   "metadata": {},
   "source": [
    "Попробуем обучить модель линейной регрессии и посмотреть на ее результат метрики RMSE на валидационной выборке. Сделаем скорер для коректной работы GridSearchCV - минимизирующий метрику."
   ]
  },
  {
   "cell_type": "markdown",
   "metadata": {},
   "source": [
    "<div class=\"alert alert-block alert-danger\">\n",
    "<h2> Комментарий ревьюера v.2 <a class=\"tocSkip\"></h2>\n",
    "\n",
    "    \n",
    "<b>На доработку❌:</b>\n",
    "\n",
    "Тут некорректно: ни одна кросс-валидация не должна максимизировать `RMSE`, потому что сама суть этой функции потерь заключается в её минимизации. \n",
    "    \n",
    "Скоррер `rmse` стоит удалить - он концептуально неверен.\n",
    "        \n",
    "</div>"
   ]
  },
  {
   "cell_type": "markdown",
   "metadata": {},
   "source": [
    "<div class=\"alert alert-success\">\n",
    "<h2> Комментарий ревьюера v.3 <a class=\"tocSkip\"> </h2>\n",
    "\n",
    "<b>Все отлично!👍</b> \n",
    "    \n",
    "Учтено!\n",
    "</div>"
   ]
  },
  {
   "cell_type": "code",
   "execution_count": 18,
   "metadata": {},
   "outputs": [],
   "source": [
    "rmse_reverse = make_scorer(mean_squared_error, squared = False, greater_is_better = False)"
   ]
  },
  {
   "cell_type": "code",
   "execution_count": 19,
   "metadata": {},
   "outputs": [],
   "source": [
    "tssv = TimeSeriesSplit()"
   ]
  },
  {
   "cell_type": "code",
   "execution_count": 20,
   "metadata": {},
   "outputs": [
    {
     "name": "stdout",
     "output_type": "stream",
     "text": [
      "Метрика RMSE после кросс-валидации на линейной-регрессии: -27.151211915470082\n"
     ]
    }
   ],
   "source": [
    "model = LinearRegression()\n",
    "model.fit(train_features, train_target)\n",
    "cv_score = cross_val_score(model, train_features, train_target, scoring = rmse_reverse, cv = tssv).mean()\n",
    "print(\"Метрика RMSE после кросс-валидации на линейной-регрессии:\", cv_score)"
   ]
  },
  {
   "cell_type": "markdown",
   "metadata": {},
   "source": [
    "<div class=\"alert alert-success\">\n",
    "<h2> Комментарий ревьюера <a class=\"tocSkip\"> </h2>\n",
    "\n",
    "<b>Все отлично!👍:</b>\n",
    "Обучили модель линейной регрессии и протестировали на валидационной выборке - окей!\n",
    "</div>"
   ]
  },
  {
   "cell_type": "markdown",
   "metadata": {},
   "source": [
    "<div class=\"alert alert-warning\">\n",
    "    <h2> Комментарий ревьюера <a class=\"tocSkip\"> </h2>\n",
    "    \n",
    "<b>Некоторые замечания и рекомендации⚠️:</b> \n",
    "\n",
    "Стоит добавить подпись данных в выводе кода (здесь и далее по всему блоку работы с моделями).\n",
    "</div>"
   ]
  },
  {
   "cell_type": "markdown",
   "metadata": {},
   "source": [
    "<div class=\"alert alert-success\">\n",
    "<h2> Комментарий ревьюера v.2 <a class=\"tocSkip\"> </h2>\n",
    "\n",
    "<b>Все отлично!👍:</b>\n",
    "Учтено!\n",
    "</div>"
   ]
  },
  {
   "cell_type": "markdown",
   "metadata": {},
   "source": [
    "<div class=\"alert alert-block alert-danger\">\n",
    "<h2> Комментарий ревьюера <a class=\"tocSkip\"></h2>\n",
    "\n",
    "    \n",
    "<b>На доработку❌:</b>\n",
    "Раз уж далее мы проводим кросс-валидацию при подборе параметров, то давай сделаем её и для линейной регрессии. Так как в случае этого алгоритма подбирать параметры нам не нужно, мы можем использовать `cross_val_score` (https://scikit-learn.org/stable/modules/generated/sklearn.model_selection.cross_val_score.html).\n",
    "    \n",
    "Несколько подсказок (актуально и для `cross_val_score`, и для `GridSearchCV`:\n",
    "    \n",
    "1. При работе с этими инструментами дополнительно выделять валидационную выборку не нужно: исходные данные делятся на тренировочный и тестовый сеты, инструменты работают только с тренировочными данными, кросс-валидация также проводится на тренировочных данных - инструменты сами в ходе кросс-валидиации делят выборку на фолды и проводят промежуточное тестирование.\n",
    "2. Оценка на кросс-валидации в случае `cross_val_score` лежит в атрибуте `scores` (это то, что возвращает инструмент по завершении работы). Он представляет из себя массив, в котором лежит столько значений метрики, сколько фолдов указано при проведении кросс-валидации. Чтобы получить итоговую метрику качества на кросс-валидации, нужно взять среднее из этого массива, вроде:\n",
    "        \n",
    "        scores = cross_val_score(*твой код*)\n",
    "        np.mean(scores) - усреднённая метрика качества на кросс-валидации\n",
    "    В случае использования `GridSerachCV`/`RandomizedSearchCV` результаты кросс-валидации лежат в атрибуте `best_score_` - тут ничего не нужно усреднять, в атрибуте лежит уже усреднённая метрика. \n",
    "</div>"
   ]
  },
  {
   "cell_type": "markdown",
   "metadata": {},
   "source": [
    "<div class=\"alert alert-success\">\n",
    "<h2> Комментарий ревьюера v.2 <a class=\"tocSkip\"> </h2>\n",
    "\n",
    "<b>Все отлично!👍:</b>\n",
    "Учтено!\n",
    "</div>"
   ]
  },
  {
   "cell_type": "markdown",
   "metadata": {},
   "source": [
    "<div class=\"alert alert-block alert-danger\">\n",
    "<h2> Комментарий ревьюера v.2 <a class=\"tocSkip\"></h2>\n",
    "\n",
    "    \n",
    "<b>На доработку❌:</b>\n",
    "\n",
    "Следует изменить скорринг.\n",
    "        \n",
    "</div>"
   ]
  },
  {
   "cell_type": "markdown",
   "metadata": {},
   "source": [
    "<div class=\"alert alert-success\">\n",
    "<h2> Комментарий ревьюера v.3 <a class=\"tocSkip\"> </h2>\n",
    "\n",
    "<b>Все отлично!👍</b> \n",
    "    \n",
    "Учтено!\n",
    "</div>"
   ]
  },
  {
   "cell_type": "markdown",
   "metadata": {},
   "source": [
    "Попробуем обучить дерево решений, причем подберем парамеьры с помощью поиска по сетке. Для правильного подбора оптимальных параметров напишем скорер RMSE. Скорер должен показывать обратный RMSE, чтобы GridSerchCV показывал параметры модели, с лучшей метрикой."
   ]
  },
  {
   "cell_type": "markdown",
   "metadata": {},
   "source": [
    "<div class=\"alert alert-success\">\n",
    "<h2> Комментарий ревьюера <a class=\"tocSkip\"> </h2>\n",
    "\n",
    "<b>Все отлично!👍:</b>\n",
    "Создали скорринг для кросс-валидации - отлично!\n",
    "</div>"
   ]
  },
  {
   "cell_type": "markdown",
   "metadata": {},
   "source": [
    "<div class=\"alert alert-warning\">\n",
    "    <h2> Комментарий ревьюера <a class=\"tocSkip\"> </h2>\n",
    "    \n",
    "<b>Некоторые замечания и рекомендации⚠️:</b> \n",
    "\n",
    "Саму функцию `rmse` можно было бы и не объявлять: `make_scorer` прекрасно работает со всеми метриками в пакете `sklearn`. \n",
    "        \n",
    "Например, `make_scorer(mean_squared_error, squared = False)`.\n",
    "</div>"
   ]
  },
  {
   "cell_type": "markdown",
   "metadata": {},
   "source": [
    "<div class=\"alert alert-success\">\n",
    "<h2> Комментарий ревьюера v.2 <a class=\"tocSkip\"> </h2>\n",
    "\n",
    "<b>Все отлично!👍:</b>\n",
    "Учтено!\n",
    "</div>"
   ]
  },
  {
   "cell_type": "code",
   "execution_count": 21,
   "metadata": {},
   "outputs": [
    {
     "name": "stdout",
     "output_type": "stream",
     "text": [
      "Лучшая модель: DecisionTreeRegressor(max_depth=5)\n",
      "RMSE: -30.38527895593155\n"
     ]
    }
   ],
   "source": [
    "parameter = {\"max_depth\": range(1,6)}\n",
    "model = DecisionTreeRegressor()\n",
    "model_grid = GridSearchCV(model, parameter, scoring = rmse_reverse, cv = tssv)\n",
    "model_grid.fit(train_features, train_target)\n",
    "print(\"Лучшая модель:\", model_grid.best_estimator_)\n",
    "print(\"RMSE:\", model_grid.best_score_)"
   ]
  },
  {
   "cell_type": "markdown",
   "metadata": {},
   "source": [
    "<div class=\"alert alert-success\">\n",
    "<h2> Комментарий ревьюера v.2 <a class=\"tocSkip\"> </h2>\n",
    "\n",
    "<b>Все отлично!👍:</b>\n",
    "Учтено!\n",
    "</div>"
   ]
  },
  {
   "cell_type": "markdown",
   "metadata": {},
   "source": [
    "<div class=\"alert alert-block alert-danger\">\n",
    "<h2> Комментарий ревьюера <a class=\"tocSkip\"></h2>\n",
    "\n",
    "    \n",
    "<b>На доработку❌:</b>\n",
    "При использовании `GridSearchCV` заново валидироваться не нужно - результаты внутренней кросс-валидации лежат в атрибуте `best_score_` (актуально здесь и далее).\n",
    "        </div>"
   ]
  },
  {
   "cell_type": "markdown",
   "metadata": {},
   "source": [
    "<div class=\"alert alert-success\">\n",
    "<h2> Комментарий ревьюера v.2 <a class=\"tocSkip\"> </h2>\n",
    "\n",
    "<b>Все отлично!👍:</b>\n",
    "Учтено!\n",
    "</div>"
   ]
  },
  {
   "cell_type": "markdown",
   "metadata": {},
   "source": [
    "<div class=\"alert alert-info\">\n",
    "<h2> Комментарий студента <a class=\"tocSkip\"> </h2>\n",
    "\n",
    "Исправил кросс-валидацию и GridSearchCV. Есть вопрос к вам: если используем валидацию GridSearchCV и в нем scorer с параметром greater_is_better = False, то на выходе получим минимизированное значение метрики и оно будет отрицательное, подскажите каким образом выводить корректное значение best_score_\n",
    "</div>"
   ]
  },
  {
   "cell_type": "markdown",
   "metadata": {},
   "source": [
    "<div class=\"alert alert-success\">\n",
    "<h2> Комментарий ревьюера v.2 <a class=\"tocSkip\"> </h2>\n",
    "\n",
    "<b>Все отлично!👍:</b>\n",
    "Да, ты верно заметил, что оно отрицательное - это особенности работы `GridSearchCV`. Для корректного отображения метрики её можно просто вывести по модулю. К примеру:\n",
    "    \n",
    "    print(-model_grid.best_score_)\n",
    "</div>"
   ]
  },
  {
   "cell_type": "markdown",
   "metadata": {},
   "source": [
    "Дерево решений дало лучший результат метрики RMSE на кросс-валидации. Проверим резкльтат метрики на ансамблях, начнем с RandomForestRegressor."
   ]
  },
  {
   "cell_type": "markdown",
   "metadata": {},
   "source": [
    "<div class=\"alert alert-warning\">\n",
    "    <h2> Комментарий ревьюера v.2 <a class=\"tocSkip\"> </h2>\n",
    "    \n",
    "<b>Некоторые замечания и рекомендации⚠️:</b> \n",
    "\n",
    "Тут у нас уже кросс-валидация, а не валидационная выборка - стоит исправить вывод.\n",
    "</div>"
   ]
  },
  {
   "cell_type": "markdown",
   "metadata": {},
   "source": [
    "<div class=\"alert alert-success\">\n",
    "<h2> Комментарий ревьюера v.3 <a class=\"tocSkip\"> </h2>\n",
    "\n",
    "<b>Все отлично!👍:</b>\n",
    "Учтено!\n",
    "</div>"
   ]
  },
  {
   "cell_type": "code",
   "execution_count": 22,
   "metadata": {},
   "outputs": [
    {
     "name": "stdout",
     "output_type": "stream",
     "text": [
      "Лучшая модель: {'max_depth': 5, 'n_estimators': 41}\n",
      "RMSE: -27.087052966504654\n"
     ]
    }
   ],
   "source": [
    "parameter = {\"max_depth\": range(1,6), \"n_estimators\": range(1,100,4)}\n",
    "model = RandomForestRegressor()\n",
    "model_grid = GridSearchCV(model, parameter, scoring = rmse_reverse, cv = tssv)\n",
    "model_grid.fit(train_features, train_target)\n",
    "print(\"Лучшая модель:\", model_grid.best_params_)\n",
    "print(\"RMSE:\", model_grid.best_score_)"
   ]
  },
  {
   "cell_type": "markdown",
   "metadata": {},
   "source": [
    "Результат метрики RMSE на валидационной выборке равен 27.09, почти такая же как у линейной регрессии. Проверим результаты на моделе CatBoostRegressor. "
   ]
  },
  {
   "cell_type": "markdown",
   "metadata": {},
   "source": [
    "<div class=\"alert alert-warning\">\n",
    "    <h2> Комментарий ревьюера v.2 <a class=\"tocSkip\"> </h2>\n",
    "    \n",
    "<b>Некоторые замечания и рекомендации⚠️:</b> \n",
    "\n",
    "Вывод стоит подправить - метрика другая.\n",
    "</div>"
   ]
  },
  {
   "cell_type": "markdown",
   "metadata": {},
   "source": [
    "<div class=\"alert alert-success\">\n",
    "<h2> Комментарий ревьюера v.3 <a class=\"tocSkip\"> </h2>\n",
    "\n",
    "<b>Все отлично!👍:</b>\n",
    "Учтено!\n",
    "</div>"
   ]
  },
  {
   "cell_type": "markdown",
   "metadata": {},
   "source": [
    "<div class=\"alert alert-block alert-danger\">\n",
    "<h2> Комментарий ревьюера <a class=\"tocSkip\"></h2>\n",
    "\n",
    "    \n",
    "<b>На доработку❌:</b>\n",
    "Актуальны все предыдущие замечания.\n",
    "        </div>"
   ]
  },
  {
   "cell_type": "markdown",
   "metadata": {},
   "source": [
    "<div class=\"alert alert-success\">\n",
    "<h2> Комментарий ревьюера v.2 <a class=\"tocSkip\"> </h2>\n",
    "\n",
    "<b>Все отлично!👍:</b>\n",
    "Учтено!\n",
    "</div>"
   ]
  },
  {
   "cell_type": "code",
   "execution_count": 23,
   "metadata": {
    "scrolled": true
   },
   "outputs": [
    {
     "name": "stdout",
     "output_type": "stream",
     "text": [
      "Лучшая модель: {'max_depth': 4, 'n_estimators': 501}\n",
      "Результат: -24.227975499510244\n"
     ]
    }
   ],
   "source": [
    "parameter = {\"n_estimators\": range(1,1000,50),\"max_depth\": range(1,6)}\n",
    "model = CatBoostRegressor(verbose = False)\n",
    "model_grid = GridSearchCV(model, parameter, scoring = rmse_reverse, cv = tssv)\n",
    "model_grid.fit(train_features, train_target)\n",
    "print(\"Лучшая модель:\", model_grid.best_params_)\n",
    "print(\"Результат:\", model_grid.best_score_)"
   ]
  },
  {
   "cell_type": "markdown",
   "metadata": {},
   "source": [
    "Catboost показал лучший результат. Теперь посмотрим Ближайших соседей и сделаем вывод."
   ]
  },
  {
   "cell_type": "markdown",
   "metadata": {},
   "source": [
    "<div class=\"alert alert-block alert-danger\">\n",
    "<h2> Комментарий ревьюера <a class=\"tocSkip\"></h2>\n",
    "\n",
    "    \n",
    "<b>На доработку❌:</b>\n",
    "Тут также стоит обратить внимание на список параметров:\n",
    "1. `n_estimators` - ты, видимо, хотел последовательность от 1 до 1000 с шагов в 50, а получил список из 3 элементов - 1, 1000 и 50. Стоит использовать генераторы последовательностей, если передаёшь сразу списком:)\n",
    "2. `max_depth` - аналогично деревьям, очень высокая глубина. Та же рекомендация по границам этого параметра.\n",
    "</div>"
   ]
  },
  {
   "cell_type": "markdown",
   "metadata": {},
   "source": [
    "<div class=\"alert alert-success\">\n",
    "<h2> Комментарий ревьюера v.2 <a class=\"tocSkip\"> </h2>\n",
    "\n",
    "<b>Все отлично!👍:</b>\n",
    "Учтено!\n",
    "</div>"
   ]
  },
  {
   "cell_type": "markdown",
   "metadata": {},
   "source": [
    "<div class=\"alert alert-warning\">\n",
    "    <h2> Комментарий ревьюера v.2 <a class=\"tocSkip\"> </h2>\n",
    "    \n",
    "<b>Некоторые замечания и рекомендации⚠️:</b> \n",
    "\n",
    "Аналогично про валидационную выборку.\n",
    "</div>"
   ]
  },
  {
   "cell_type": "markdown",
   "metadata": {},
   "source": [
    "<div class=\"alert alert-success\">\n",
    "<h2> Комментарий ревьюера v.3 <a class=\"tocSkip\"> </h2>\n",
    "\n",
    "<b>Все отлично!👍:</b>\n",
    "Учтено!\n",
    "</div>"
   ]
  },
  {
   "cell_type": "markdown",
   "metadata": {},
   "source": [
    "<div class=\"alert alert-warning\">\n",
    "    <h2> Комментарий ревьюера <a class=\"tocSkip\"> </h2>\n",
    "    \n",
    "<b>Некоторые замечания и рекомендации⚠️:</b> \n",
    "\n",
    "`CatBoost` обычно очень крут - после исправления ошибок результаты изменятся:)\n",
    "</div>"
   ]
  },
  {
   "cell_type": "markdown",
   "metadata": {},
   "source": [
    "<div class=\"alert alert-success\">\n",
    "<h2> Комментарий ревьюера v.2 <a class=\"tocSkip\"> </h2>\n",
    "\n",
    "Стало лучше:)\n",
    "</div>"
   ]
  },
  {
   "cell_type": "markdown",
   "metadata": {},
   "source": [
    "<div class=\"alert alert-block alert-danger\">\n",
    "<h2> Комментарий ревьюера <a class=\"tocSkip\"></h2>\n",
    "\n",
    "    \n",
    "<b>На доработку❌:</b>\n",
    "Актуальны все предыдущие замечания.\n",
    "        </div>"
   ]
  },
  {
   "cell_type": "markdown",
   "metadata": {},
   "source": [
    "<div class=\"alert alert-success\">\n",
    "<h2> Комментарий ревьюера v.2 <a class=\"tocSkip\"> </h2>\n",
    "\n",
    "<b>Все отлично!👍:</b>\n",
    "Учтено!\n",
    "</div>"
   ]
  },
  {
   "cell_type": "code",
   "execution_count": 24,
   "metadata": {},
   "outputs": [
    {
     "name": "stdout",
     "output_type": "stream",
     "text": [
      "Метрика RMSE после кросс-валидации на ближайших соседях: -26.167320491977268\n"
     ]
    }
   ],
   "source": [
    "model = KNeighborsRegressor(n_neighbors = 4)\n",
    "model.fit(train_features, train_target)\n",
    "cv_score = cross_val_score(model, train_features, train_target, scoring = rmse_reverse, cv = tssv).mean()\n",
    "print(\"Метрика RMSE после кросс-валидации на ближайших соседях:\", cv_score)"
   ]
  },
  {
   "cell_type": "markdown",
   "metadata": {},
   "source": [
    "Значение RMSE ближайших соседей примерно равняется RMSE на линейной регрессии и случайном лесе. Таким образом лучшей моделью на кросс - валидации по значению метрики RMSE стала модель CatBoost. Проверим ее на тестовой выборке."
   ]
  },
  {
   "cell_type": "markdown",
   "metadata": {},
   "source": [
    "<div class=\"alert alert-warning\">\n",
    "    <h2> Комментарий ревьюера v.2 <a class=\"tocSkip\"> </h2>\n",
    "    \n",
    "<b>Некоторые замечания и рекомендации⚠️:</b> \n",
    "\n",
    "Аналогично про валидационную выборку. Также теперь у тебя лучшая модель - не случайнй лес, а `CatBoost` - нужно изменить вывод.\n",
    "</div>"
   ]
  },
  {
   "cell_type": "markdown",
   "metadata": {},
   "source": [
    "<div class=\"alert alert-success\">\n",
    "<h2> Комментарий ревьюера v.3 <a class=\"tocSkip\"> </h2>\n",
    "\n",
    "<b>Все отлично!👍:</b>\n",
    "Учтено!\n",
    "</div>"
   ]
  },
  {
   "cell_type": "markdown",
   "metadata": {},
   "source": [
    "<div class=\"alert alert-warning\">\n",
    "    <h2> Комментарий ревьюера <a class=\"tocSkip\"> </h2>\n",
    "    \n",
    "<b>Некоторые замечания и рекомендации⚠️:</b> \n",
    "\n",
    "Здесь заканчивается стрктурный блок работы - стоит делать промежуточные выводы о проделанной работе, это довольно полезная практика, которая имеет большую ценность для получателя отчёта.\n",
    "        \n",
    "Достаточно будет двух-трёх тезисных предложений об основных шагах и полученных выводах.\n",
    "        \n",
    "</div>"
   ]
  },
  {
   "cell_type": "markdown",
   "metadata": {},
   "source": [
    "<div class=\"alert alert-info\">\n",
    "<h2> Комментарий студента <a class=\"tocSkip\"> </h2>\n",
    "\n",
    "По результатам кросс-валидации лучшей по метрике RMSE является модель CatBoostRegressor с оптимальными признаками. Правильная кросс-валидация улучшила метрики на всех моделях\n",
    "</div>"
   ]
  },
  {
   "cell_type": "markdown",
   "metadata": {},
   "source": [
    "<div class=\"alert alert-success\">\n",
    "<h2> Комментарий ревьюера v.2 <a class=\"tocSkip\"> </h2>\n",
    "\n",
    "<b>Все отлично!👍:</b>\n",
    "Учтено!\n",
    "</div>"
   ]
  },
  {
   "cell_type": "markdown",
   "metadata": {},
   "source": [
    "## Тестирование"
   ]
  },
  {
   "cell_type": "code",
   "execution_count": 25,
   "metadata": {},
   "outputs": [],
   "source": [
    "test_target = test[\"num_orders\"]\n",
    "test_features = test.drop(\"num_orders\", axis = 1)"
   ]
  },
  {
   "cell_type": "code",
   "execution_count": 27,
   "metadata": {},
   "outputs": [
    {
     "name": "stdout",
     "output_type": "stream",
     "text": [
      "Результат метрики RMSE модели CatBoostRegressor на тестовой выборке 40.54227574124009\n"
     ]
    }
   ],
   "source": [
    "model = CatBoostRegressor(max_depth = 4, n_estimators = 501, verbose = False)\n",
    "model.fit(train_features, train_target)\n",
    "pred = model.predict(test_features)\n",
    "print(\"Результат метрики RMSE модели CatBoostRegressor на тестовой выборке\", mean_squared_error(test_target, pred, squared = False))"
   ]
  },
  {
   "cell_type": "markdown",
   "metadata": {},
   "source": [
    "<div class=\"alert alert-warning\">\n",
    "    <h2> Комментарий ревьюера v.2 <a class=\"tocSkip\"> </h2>\n",
    "    \n",
    "<b>Некоторые замечания и рекомендации⚠️:</b> \n",
    "\n",
    "Вывод кода на экран стоит подписать.\n",
    "        \n",
    "</div>"
   ]
  },
  {
   "cell_type": "markdown",
   "metadata": {},
   "source": [
    "<div class=\"alert alert-success\">\n",
    "<h2> Комментарий ревьюера v.3 <a class=\"tocSkip\"> </h2>\n",
    "\n",
    "<b>Все отлично!👍:</b>\n",
    "Учтено!\n",
    "</div>"
   ]
  },
  {
   "cell_type": "code",
   "execution_count": 28,
   "metadata": {},
   "outputs": [
    {
     "data": {
      "image/png": "[encoded data removed]",
      "text/plain": [
       "<Figure size 1080x360 with 1 Axes>"
      ]
     },
     "metadata": {
      "needs_background": "light"
     },
     "output_type": "display_data"
    }
   ],
   "source": [
    "f = pd.DataFrame({\"Предсказания\":pred, \"Правильные ответы\":test_target})\n",
    "plt.figure(figsize=(15, 5))\n",
    "plt.plot(f[\"Предсказания\"], label = \"Предсказания\")\n",
    "plt.plot(f[\"Правильные ответы\"], label = \"Правильный ответ\")\n",
    "plt.title(\"График правильных и предсказанний модели\")\n",
    "plt.xlabel(\"время заказа\")\n",
    "plt.ylabel(\"количество заказов\")\n",
    "plt.legend()\n",
    "plt.show()"
   ]
  },
  {
   "cell_type": "markdown",
   "metadata": {},
   "source": [
    "По графику видно, что модель неправильно предсказывает значения, где в правильных ответах наблюдаются пики."
   ]
  },
  {
   "cell_type": "markdown",
   "metadata": {},
   "source": [
    "<div class=\"alert alert-warning\">\n",
    "    <h2> Комментарий ревьюера v.2 <a class=\"tocSkip\"> </h2>\n",
    "    \n",
    "<b>Некоторые замечания и рекомендации⚠️:</b> \n",
    "\n",
    "Стоит оптимизировать размер - пока ничего непонятно.\n",
    "        \n",
    "Также давай прокомментируем, что видим из этого графика: в каких местах модель лучше справляется, в каких - ошибается?\n",
    "        \n",
    "</div>"
   ]
  },
  {
   "cell_type": "markdown",
   "metadata": {},
   "source": [
    "<div class=\"alert alert-success\">\n",
    "<h2> Комментарий ревьюера v.3 <a class=\"tocSkip\"> </h2>\n",
    "\n",
    "<b>Все отлично!👍:</b>\n",
    "Учтено!\n",
    "</div>"
   ]
  },
  {
   "cell_type": "markdown",
   "metadata": {},
   "source": [
    "<div class=\"alert alert-info\">\n",
    "<h2> Комментарий студента <a class=\"tocSkip\"> </h2>\n",
    "\n",
    "Сравним полученный результат CatBoostRegressor с наилучшеми параметрами с предсказанимями DummyRegressor.\n",
    "</div>"
   ]
  },
  {
   "cell_type": "code",
   "execution_count": 29,
   "metadata": {},
   "outputs": [
    {
     "data": {
      "text/plain": [
       "84.68768287118466"
      ]
     },
     "execution_count": 29,
     "metadata": {},
     "output_type": "execute_result"
    }
   ],
   "source": [
    "model = DummyRegressor()\n",
    "model.fit(train_features, train_target)\n",
    "pred = model.predict(test_features)\n",
    "mean_squared_error(test_target, pred, squared = False)"
   ]
  },
  {
   "cell_type": "markdown",
   "metadata": {},
   "source": [
    "<div class=\"alert alert-success\">\n",
    "<h2> Комментарий ревьюера <a class=\"tocSkip\"> </h2>\n",
    "\n",
    "<b>Все отлично!👍:</b>\n",
    "Протестировали лучшую модель на тестовой выборке - отлично! Результат буквально на границе допуска, но соответствует - окей!\n",
    "    \n",
    "Важный момент на будущее: если ты используешь тренировочную, валидационную и тестовую выборки, то после отбора кандидатов во время тестирования на тестовой выборке обучать лучшего кандидата стоит на соединённой тренировочной и валидационной выборке - так будет больше примеров для обучения, что особенно важно для временных рядов."
   ]
  },
  {
   "cell_type": "markdown",
   "metadata": {},
   "source": [
    "Значение метрики RMSE на тестовой выборке у случайного леса четко подходит по заданию проекта. В качестве вывода хотелось бы отметить, что при обучении и предсказании моделями на временных рядах очень большое значение имеет количество отстающих значений и размер окна в скользем среднем. Все задания проекта считаю выполнеными, лучшее значение метрики получилось у модели случайного леса с оптимальными параметрами."
   ]
  },
  {
   "cell_type": "markdown",
   "metadata": {},
   "source": [
    "<div class=\"alert alert-warning\">\n",
    "    <h2> Комментарий ревьюера <a class=\"tocSkip\"> </h2>\n",
    "    \n",
    "<b>Некоторые замечания и рекомендации⚠️:</b> \n",
    "\n",
    "Здесь также было бы очень полезно визуализировать предсказания твоей лучшей модели и сравнить их с правильными ответами в формате линейного графика - так мы сможем более наглядно понять, в каких местах твоя модель делает хорошие предсказания, а в каких ошибается.\n",
    "\n",
    "</div>"
   ]
  },
  {
   "cell_type": "markdown",
   "metadata": {},
   "source": [
    "<div class=\"alert alert-success\">\n",
    "<h2> Комментарий ревьюера v.2 <a class=\"tocSkip\"> </h2>\n",
    "\n",
    "<b>Все отлично!👍:</b>\n",
    "Учтено!\n",
    "</div>"
   ]
  },
  {
   "cell_type": "markdown",
   "metadata": {},
   "source": [
    "<div class=\"alert alert-block alert-danger\">\n",
    "<h2> Комментарий ревьюера <a class=\"tocSkip\"></h2>\n",
    "\n",
    "    \n",
    "<b>На доработку❌:</b>\n",
    "Нет сравнения твоей лучшей модели с константной моделью: это важный шаг, который помогает оценить твою модель на адекватность: если она делает предсказания хуже константной модели, то смысл от внедрения такой модели крайне сомнительный.\n",
    "    \n",
    "В качестве константной модели можно использовать `DummyRegressor` (https://scikit-learn.org/stable/modules/generated/sklearn.dummy.DummyRegressor.html) - он как раз для создания константных моделей:)"
   ]
  },
  {
   "cell_type": "markdown",
   "metadata": {},
   "source": [
    "<div class=\"alert alert-success\">\n",
    "<h2> Комментарий ревьюера v.2 <a class=\"tocSkip\"> </h2>\n",
    "\n",
    "<b>Все отлично!👍:</b>\n",
    "Учтено!\n",
    "</div>"
   ]
  },
  {
   "cell_type": "markdown",
   "metadata": {},
   "source": [
    "<div class=\"alert alert-info\">\n",
    "<h2> Комментарий студента <a class=\"tocSkip\"> </h2>\n",
    "\n",
    "Спасибо за качественную проверку. Очень много узнал о кросс-валидации временных рядов. Что касается проекта: мной были рассмотрены данные, проведена первичная обработка. Далее проведен анализ в ходе которого выявлен тренд, сезонность ряда. Далее мной были обучены и проверены с помощью кросс-валидации несколько моделей, из которых по результатам метрики RMSE была выявлена лучшая - СatBosstRegressor. Далее модель была протестирована на тестовой выборке, а ее результат был сравнен с предсказаниями константной модели, для понимания адекватности предсказаний. \n",
    "</div>"
   ]
  },
  {
   "cell_type": "markdown",
   "metadata": {},
   "source": [
    "<div class=\"alert alert-success\">\n",
    "<h2> Комментарий ревьюера v.2 <a class=\"tocSkip\"> </h2>\n",
    "\n",
    "<b>Все отлично!👍:</b>\n",
    "Тебе спасибо за то, что не ленишься учитывать мои комментарии и делать проект лучше:)\n",
    "</div>"
   ]
  },
  {
   "cell_type": "markdown",
   "metadata": {},
   "source": [
    "<div class=\"alert alert-info\">\n",
    "<h2> Комментарий студента <a class=\"tocSkip\"> </h2>\n",
    "\n",
    "Еше раз спасибо за проверку! Сейчас вроде все замечания исправлены))))\n",
    "</div>"
   ]
  },
  {
   "cell_type": "markdown",
   "metadata": {},
   "source": [
    "<div class=\"alert alert-success\">\n",
    "<h2> Комментарий ревьюера v.3 <a class=\"tocSkip\"> </h2>\n",
    "\n",
    "<b>Все отлично!👍:</b>\n",
    "Да, теперь всё окей!\n",
    "</div>"
   ]
  },
  {
   "cell_type": "markdown",
   "metadata": {},
   "source": [
    "## Чек-лист проверки"
   ]
  },
  {
   "cell_type": "markdown",
   "metadata": {},
   "source": [
    "- [x]  Jupyter Notebook открыт\n",
    "- [x]  Весь код выполняется без ошибок\n",
    "- [x]  Ячейки с кодом расположены в порядке исполнения\n",
    "- [x]  Данные загружены и подготовлены\n",
    "- [x]  Данные проанализированы\n",
    "- [x]  Модель обучена, гиперпараметры подобраны\n",
    "- [x]  Качество моделей проверено, выводы сделаны\n",
    "- [x]  Значение *RMSE* на тестовой выборке не больше 48"
   ]
  },
  {
   "cell_type": "markdown",
   "metadata": {},
   "source": [
    "<div class=\"alert alert-warning\">\n",
    "    <h2> Комментарий ревьюера <a class=\"tocSkip\"> </h2>\n",
    "    \n",
    "<b>Некоторые замечания и рекомендации⚠️:</b> \n",
    "По завершении проекта стоит сделать итоговый вывод: в него можно включить основные шаги проекта, а также ключевые выводы, полученные в ходе работы над ним.\n",
    "        </div>"
   ]
  },
  {
   "cell_type": "markdown",
   "metadata": {},
   "source": [
    "<div class=\"alert alert-success\">\n",
    "<h2> Комментарий ревьюера v.2 <a class=\"tocSkip\"> </h2>\n",
    "\n",
    "<b>Все отлично!👍:</b>\n",
    "Учтено!\n",
    "</div>"
   ]
  },
  {
   "cell_type": "markdown",
   "metadata": {},
   "source": [
    "<div style=\"border:solid Chocolate 2px; padding: 40px\">\n",
    "\n",
    "# Комментарий ревьюера: общий вывод по проекту.\n",
    "\n",
    "Михаил, ты хорошо потрудился над этим проектом - работа получилась на довольно высоком уровне!\n",
    "\n",
    "Ты верно выполнил все задания проекта, последовательно прошёл все его шаги, получил верные выводы и ничего не упустил в процессе - это классно, ты молодец!\n",
    "    \n",
    "Ты неплохо используешь визуализацию, умело подбираешь тип графиков для объяснения данных. Понравилось также, что ты не ограничился использованием простеньких алгоритмов типа линейной регрессии, а использовал более продвинутые инструменты вроде случайного леса и бустинга. Также реализован механизм подбора гиперпараметров моделей с помощью `GridSearchCV` - несомненный плюс!\n",
    "    \n",
    "В проекте есть рекомендации по повышению обшего качества твоего проекта. Несмотря на то, что они не являются критическими по степени влияния на итоговый результат, они всё же призваны обратить внимание на какие-то ошибки, неточности или узкиие моменты. Такие рекомендации я отметил жёлтыми комментариями. Будет здорово, если ты учтёшь их - так проект станет структурно и содержательно более совершенным.\n",
    "    \n",
    "Также в проекте есть критические замечания. Их я отметил комментариями красного цвета, в каждом из которых я оставил подсказку о том, как это замечание можно исправить. Важно устранить все критические замечания, чтобы проект был принят.\n",
    "    \n",
    "Если по тому, что нужно сделать, будут вопросы - оставь их, пожалуйста, в комментариях, и я отвечу на них во время следующего ревью:)\n",
    "    \n",
    "Также буду рад ответить на любые твои вопросы по проекту или на какие-либо другие, если они у тебя имеются - оставь их в комментариях, и я постараюсь ответить:)\n",
    "    \n",
    "Жду твой проект на повторном ревью. До встречи:)"
   ]
  },
  {
   "cell_type": "markdown",
   "metadata": {},
   "source": [
    "<div style=\"border:solid Chocolate 2px; padding: 40px\">\n",
    "\n",
    "# Комментарий ревьюера: общий вывод по проекту v.2.\n",
    "\n",
    "Михаил, спасибо, что прислал проект на повторное ревью: часть критических замечаний и рекомендаций была учтена.\n",
    "    \n",
    "Некоторые некритические замечания и рекомендации учтены не были: несмотря на то, что они не являются критическими по отношению к результату проекта, они всё ещё призваны обратить твоё внимание на незначительные ошибки, узкие места и неоптимальные решения, которые стоит исправить для повышения качества твоих решений будущих схожих задачи. Я всё же рекомендую учесть остаток некритических замечаний и рекомендаций.\n",
    "    \n",
    "Также есть несколько новых критических замечаний - они касаются частично аналитического блока, а также особенностей проведения кросс-валидации. К этим моментам стоит вернуться.\n",
    "    \n",
    "Если будут какие-то сложности - оставляй вопросы в комментариях, будем разбираться вместе:) \n",
    "    \n",
    "Жду твою работу снова!"
   ]
  },
  {
   "cell_type": "markdown",
   "metadata": {},
   "source": [
    "<div style=\"border:solid Chocolate 2px; padding: 40px\">\n",
    "\n",
    "# Комментарий ревьюера: общий вывод по проекту v.3.\n",
    "\n",
    "Михаил, теперь к проекту нет вопросов - принимаю твою работу!\n",
    "    \n",
    "Спасибо за высокое качество проработки проекта и готовность его улучшать:)\n",
    "    \n",
    "Желаю успехов в дальнейшем обучении!"
   ]
  }
 ],
 "metadata": {
  "ExecuteTimeLog": [
   {
    "duration": 42,
    "start_time": "2022-08-26T10:16:04.301Z"
   },
   {
    "duration": 353,
    "start_time": "2022-08-26T10:16:15.027Z"
   },
   {
    "duration": 143,
    "start_time": "2022-08-26T10:16:15.812Z"
   },
   {
    "duration": 49,
    "start_time": "2022-08-26T10:17:09.813Z"
   },
   {
    "duration": 47,
    "start_time": "2022-08-26T10:17:20.264Z"
   },
   {
    "duration": 43,
    "start_time": "2022-08-26T10:17:25.064Z"
   },
   {
    "duration": 48,
    "start_time": "2022-08-26T10:19:44.071Z"
   },
   {
    "duration": 48,
    "start_time": "2022-08-26T10:19:59.609Z"
   },
   {
    "duration": 50,
    "start_time": "2022-08-26T10:20:08.209Z"
   },
   {
    "duration": 8,
    "start_time": "2022-08-26T10:20:22.671Z"
   },
   {
    "duration": 9,
    "start_time": "2022-08-26T10:22:00.611Z"
   },
   {
    "duration": 3,
    "start_time": "2022-08-26T10:22:07.665Z"
   },
   {
    "duration": 43,
    "start_time": "2022-08-26T10:22:12.581Z"
   },
   {
    "duration": 10,
    "start_time": "2022-08-26T10:22:55.718Z"
   },
   {
    "duration": 1713,
    "start_time": "2022-08-26T10:22:58.738Z"
   },
   {
    "duration": 371,
    "start_time": "2022-08-26T10:23:16.417Z"
   },
   {
    "duration": 51,
    "start_time": "2022-08-26T10:23:16.789Z"
   },
   {
    "duration": 13,
    "start_time": "2022-08-26T10:23:16.841Z"
   },
   {
    "duration": 11,
    "start_time": "2022-08-26T10:23:16.855Z"
   },
   {
    "duration": 8,
    "start_time": "2022-08-26T10:23:30.868Z"
   },
   {
    "duration": 8,
    "start_time": "2022-08-26T10:30:18.710Z"
   },
   {
    "duration": 12,
    "start_time": "2022-08-26T10:30:24.516Z"
   },
   {
    "duration": 6,
    "start_time": "2022-08-26T10:31:45.248Z"
   },
   {
    "duration": 9,
    "start_time": "2022-08-26T10:31:56.959Z"
   },
   {
    "duration": 632,
    "start_time": "2022-08-26T10:38:24.427Z"
   },
   {
    "duration": 192,
    "start_time": "2022-08-26T10:40:53.651Z"
   },
   {
    "duration": 12,
    "start_time": "2022-08-26T10:41:00.410Z"
   },
   {
    "duration": 11,
    "start_time": "2022-08-26T10:41:09.897Z"
   },
   {
    "duration": 271,
    "start_time": "2022-08-26T10:41:18.208Z"
   },
   {
    "duration": 267,
    "start_time": "2022-08-26T10:45:48.442Z"
   },
   {
    "duration": 210,
    "start_time": "2022-08-26T10:45:58.084Z"
   },
   {
    "duration": 253,
    "start_time": "2022-08-26T10:46:04.108Z"
   },
   {
    "duration": 244,
    "start_time": "2022-08-26T10:46:14.008Z"
   },
   {
    "duration": 388,
    "start_time": "2022-08-26T17:39:12.885Z"
   },
   {
    "duration": 153,
    "start_time": "2022-08-26T17:39:13.275Z"
   },
   {
    "duration": 9,
    "start_time": "2022-08-26T17:39:13.429Z"
   },
   {
    "duration": 16,
    "start_time": "2022-08-26T17:39:13.440Z"
   },
   {
    "duration": 623,
    "start_time": "2022-08-26T17:39:13.457Z"
   },
   {
    "duration": 238,
    "start_time": "2022-08-26T17:39:14.082Z"
   },
   {
    "duration": 467,
    "start_time": "2022-08-26T17:46:30.656Z"
   },
   {
    "duration": 95,
    "start_time": "2022-08-26T17:49:05.642Z"
   },
   {
    "duration": 2,
    "start_time": "2022-08-26T17:49:50.146Z"
   },
   {
    "duration": 13,
    "start_time": "2022-08-26T17:50:06.242Z"
   },
   {
    "duration": 7,
    "start_time": "2022-08-26T17:52:41.028Z"
   },
   {
    "duration": 199,
    "start_time": "2022-08-26T17:53:01.191Z"
   },
   {
    "duration": 231,
    "start_time": "2022-08-26T17:54:06.826Z"
   },
   {
    "duration": 275,
    "start_time": "2022-08-26T17:54:32.022Z"
   },
   {
    "duration": 191,
    "start_time": "2022-08-26T17:54:42.521Z"
   },
   {
    "duration": 186,
    "start_time": "2022-08-26T17:54:50.626Z"
   },
   {
    "duration": 198,
    "start_time": "2022-08-26T17:56:12.958Z"
   },
   {
    "duration": 223,
    "start_time": "2022-08-26T17:56:30.078Z"
   },
   {
    "duration": 200,
    "start_time": "2022-08-26T17:56:56.683Z"
   },
   {
    "duration": 364,
    "start_time": "2022-08-26T18:06:49.338Z"
   },
   {
    "duration": 6,
    "start_time": "2022-08-26T18:08:10.628Z"
   },
   {
    "duration": 4,
    "start_time": "2022-08-26T18:09:25.718Z"
   },
   {
    "duration": 14,
    "start_time": "2022-08-26T18:09:31.826Z"
   },
   {
    "duration": 234,
    "start_time": "2022-08-26T18:10:39.204Z"
   },
   {
    "duration": 194,
    "start_time": "2022-08-26T18:10:42.225Z"
   },
   {
    "duration": 193,
    "start_time": "2022-08-26T18:10:42.421Z"
   },
   {
    "duration": 5,
    "start_time": "2022-08-26T18:10:43.162Z"
   },
   {
    "duration": 6,
    "start_time": "2022-08-26T18:15:26.219Z"
   },
   {
    "duration": 13,
    "start_time": "2022-08-26T18:15:34.862Z"
   },
   {
    "duration": 3,
    "start_time": "2022-08-26T18:16:02.479Z"
   },
   {
    "duration": 11,
    "start_time": "2022-08-26T18:16:03.384Z"
   },
   {
    "duration": 6,
    "start_time": "2022-08-26T18:16:07.803Z"
   },
   {
    "duration": 3,
    "start_time": "2022-08-26T18:27:17.731Z"
   },
   {
    "duration": 4,
    "start_time": "2022-08-26T18:27:24.434Z"
   },
   {
    "duration": 17,
    "start_time": "2022-08-26T18:28:06.143Z"
   },
   {
    "duration": 28,
    "start_time": "2022-08-26T18:28:12.822Z"
   },
   {
    "duration": 9,
    "start_time": "2022-08-26T18:29:04.686Z"
   },
   {
    "duration": 7,
    "start_time": "2022-08-26T18:29:06.751Z"
   },
   {
    "duration": 30,
    "start_time": "2022-08-26T18:29:11.355Z"
   },
   {
    "duration": 7,
    "start_time": "2022-08-26T18:30:37.671Z"
   },
   {
    "duration": 31,
    "start_time": "2022-08-26T18:30:44.713Z"
   },
   {
    "duration": 7,
    "start_time": "2022-08-26T18:31:00.040Z"
   },
   {
    "duration": 20,
    "start_time": "2022-08-26T18:32:54.539Z"
   },
   {
    "duration": 5,
    "start_time": "2022-08-26T18:37:13.255Z"
   },
   {
    "duration": 23,
    "start_time": "2022-08-26T18:38:17.255Z"
   },
   {
    "duration": 11,
    "start_time": "2022-08-26T18:38:36.946Z"
   },
   {
    "duration": 11,
    "start_time": "2022-08-26T18:39:08.974Z"
   },
   {
    "duration": 1131,
    "start_time": "2022-08-26T20:22:05.198Z"
   },
   {
    "duration": 125,
    "start_time": "2022-08-26T20:22:06.332Z"
   },
   {
    "duration": 11,
    "start_time": "2022-08-26T20:22:06.459Z"
   },
   {
    "duration": 22,
    "start_time": "2022-08-26T20:22:06.471Z"
   },
   {
    "duration": 642,
    "start_time": "2022-08-26T20:22:06.495Z"
   },
   {
    "duration": 243,
    "start_time": "2022-08-26T20:22:07.139Z"
   },
   {
    "duration": 311,
    "start_time": "2022-08-26T20:22:07.384Z"
   },
   {
    "duration": 219,
    "start_time": "2022-08-26T20:22:07.697Z"
   },
   {
    "duration": 5,
    "start_time": "2022-08-26T20:22:07.918Z"
   },
   {
    "duration": 7,
    "start_time": "2022-08-26T20:22:07.924Z"
   },
   {
    "duration": 18,
    "start_time": "2022-08-26T20:22:07.933Z"
   },
   {
    "duration": 7,
    "start_time": "2022-08-26T20:22:07.953Z"
   },
   {
    "duration": 26,
    "start_time": "2022-08-26T20:22:07.961Z"
   },
   {
    "duration": 5,
    "start_time": "2022-08-26T20:22:07.989Z"
   },
   {
    "duration": 17,
    "start_time": "2022-08-26T20:22:07.995Z"
   },
   {
    "duration": 4,
    "start_time": "2022-08-26T20:29:13.246Z"
   },
   {
    "duration": 3,
    "start_time": "2022-08-26T20:35:55.795Z"
   },
   {
    "duration": 3,
    "start_time": "2022-08-26T20:37:19.878Z"
   },
   {
    "duration": 20,
    "start_time": "2022-08-26T20:38:25.807Z"
   },
   {
    "duration": 105,
    "start_time": "2022-08-26T20:38:34.948Z"
   },
   {
    "duration": 245,
    "start_time": "2022-08-26T20:38:59.484Z"
   },
   {
    "duration": 67,
    "start_time": "2022-08-26T20:39:29.440Z"
   },
   {
    "duration": 43,
    "start_time": "2022-08-26T20:39:48.932Z"
   },
   {
    "duration": 232,
    "start_time": "2022-08-26T20:43:49.510Z"
   },
   {
    "duration": 13,
    "start_time": "2022-08-26T20:44:40.175Z"
   },
   {
    "duration": 13534,
    "start_time": "2022-08-26T20:45:00.477Z"
   },
   {
    "duration": 12,
    "start_time": "2022-08-26T20:45:45.982Z"
   },
   {
    "duration": 2399,
    "start_time": "2022-08-26T20:46:01.088Z"
   },
   {
    "duration": 14,
    "start_time": "2022-08-26T20:52:17.684Z"
   },
   {
    "duration": 53,
    "start_time": "2022-08-26T20:52:45.036Z"
   },
   {
    "duration": 163636,
    "start_time": "2022-08-26T20:52:52.064Z"
   },
   {
    "duration": 23033,
    "start_time": "2022-08-26T20:56:25.081Z"
   },
   {
    "duration": 24716,
    "start_time": "2022-08-26T20:57:31.744Z"
   },
   {
    "duration": 390740,
    "start_time": "2022-08-26T21:01:10.667Z"
   },
   {
    "duration": 25573,
    "start_time": "2022-08-26T21:08:02.532Z"
   },
   {
    "duration": 25803,
    "start_time": "2022-08-26T21:08:41.679Z"
   },
   {
    "duration": 1165,
    "start_time": "2022-08-27T19:43:48.648Z"
   },
   {
    "duration": 153,
    "start_time": "2022-08-27T19:43:49.815Z"
   },
   {
    "duration": 12,
    "start_time": "2022-08-27T19:43:49.969Z"
   },
   {
    "duration": 36,
    "start_time": "2022-08-27T19:43:49.984Z"
   },
   {
    "duration": 721,
    "start_time": "2022-08-27T19:43:50.022Z"
   },
   {
    "duration": 332,
    "start_time": "2022-08-27T19:43:50.745Z"
   },
   {
    "duration": 219,
    "start_time": "2022-08-27T19:43:51.078Z"
   },
   {
    "duration": 223,
    "start_time": "2022-08-27T19:43:51.299Z"
   },
   {
    "duration": 4,
    "start_time": "2022-08-27T19:43:51.523Z"
   },
   {
    "duration": 7,
    "start_time": "2022-08-27T19:43:51.529Z"
   },
   {
    "duration": 17,
    "start_time": "2022-08-27T19:43:51.537Z"
   },
   {
    "duration": 8,
    "start_time": "2022-08-27T19:43:51.555Z"
   },
   {
    "duration": 28,
    "start_time": "2022-08-27T19:43:51.565Z"
   },
   {
    "duration": 6,
    "start_time": "2022-08-27T19:43:51.596Z"
   },
   {
    "duration": 89,
    "start_time": "2022-08-27T19:43:51.604Z"
   },
   {
    "duration": 103,
    "start_time": "2022-08-27T19:43:51.695Z"
   },
   {
    "duration": 320,
    "start_time": "2022-08-27T19:43:51.800Z"
   },
   {
    "duration": 46,
    "start_time": "2022-08-27T19:43:52.122Z"
   },
   {
    "duration": 14135,
    "start_time": "2022-08-27T19:43:52.170Z"
   },
   {
    "duration": 2499,
    "start_time": "2022-08-27T19:44:06.307Z"
   },
   {
    "duration": 168901,
    "start_time": "2022-08-27T19:44:08.807Z"
   },
   {
    "duration": 25128,
    "start_time": "2022-08-27T19:46:57.709Z"
   },
   {
    "duration": 4,
    "start_time": "2022-08-27T19:55:29.584Z"
   },
   {
    "duration": 3236,
    "start_time": "2022-08-27T19:57:35.062Z"
   },
   {
    "duration": 16,
    "start_time": "2022-08-27T19:58:33.036Z"
   },
   {
    "duration": 15,
    "start_time": "2022-08-27T19:58:40.454Z"
   },
   {
    "duration": 126,
    "start_time": "2022-08-27T19:58:50.970Z"
   },
   {
    "duration": 31,
    "start_time": "2022-08-27T19:58:56.460Z"
   },
   {
    "duration": 60,
    "start_time": "2022-08-27T19:59:03.332Z"
   },
   {
    "duration": 91,
    "start_time": "2022-08-27T19:59:12.502Z"
   },
   {
    "duration": 3128,
    "start_time": "2022-08-27T19:59:36.469Z"
   },
   {
    "duration": 191,
    "start_time": "2022-08-27T19:59:39.602Z"
   },
   {
    "duration": 4,
    "start_time": "2022-08-27T20:03:52.493Z"
   },
   {
    "duration": 128,
    "start_time": "2022-08-27T20:05:04.056Z"
   },
   {
    "duration": 543,
    "start_time": "2022-08-27T20:05:37.595Z"
   },
   {
    "duration": 51,
    "start_time": "2022-08-27T20:06:07.988Z"
   },
   {
    "duration": 130,
    "start_time": "2022-08-27T20:06:13.426Z"
   },
   {
    "duration": 56,
    "start_time": "2022-08-27T20:06:16.881Z"
   },
   {
    "duration": 37,
    "start_time": "2022-08-27T20:06:20.394Z"
   },
   {
    "duration": 29,
    "start_time": "2022-08-27T20:06:23.774Z"
   },
   {
    "duration": 32,
    "start_time": "2022-08-27T20:06:28.159Z"
   },
   {
    "duration": 45,
    "start_time": "2022-08-27T20:06:31.948Z"
   },
   {
    "duration": 30,
    "start_time": "2022-08-27T20:06:40.983Z"
   },
   {
    "duration": 419,
    "start_time": "2022-08-27T20:06:46.312Z"
   },
   {
    "duration": 31,
    "start_time": "2022-08-27T20:06:51.335Z"
   },
   {
    "duration": 36,
    "start_time": "2022-08-27T20:06:55.639Z"
   },
   {
    "duration": 30,
    "start_time": "2022-08-27T20:09:20.125Z"
   },
   {
    "duration": 30,
    "start_time": "2022-08-27T20:09:24.357Z"
   },
   {
    "duration": 30,
    "start_time": "2022-08-27T20:09:29.891Z"
   },
   {
    "duration": 34,
    "start_time": "2022-08-27T20:09:35.083Z"
   },
   {
    "duration": 32,
    "start_time": "2022-08-27T20:09:43.819Z"
   },
   {
    "duration": 71,
    "start_time": "2022-08-27T20:09:53.954Z"
   },
   {
    "duration": 55,
    "start_time": "2022-08-27T20:10:03.950Z"
   },
   {
    "duration": 53,
    "start_time": "2022-08-27T20:10:08.700Z"
   },
   {
    "duration": 39,
    "start_time": "2022-08-27T20:10:11.975Z"
   },
   {
    "duration": 5,
    "start_time": "2022-08-27T20:15:33.548Z"
   },
   {
    "duration": 2515,
    "start_time": "2022-08-27T20:16:10.633Z"
   },
   {
    "duration": 2734,
    "start_time": "2022-08-27T20:17:59.907Z"
   },
   {
    "duration": 2535,
    "start_time": "2022-08-27T20:18:10.576Z"
   },
   {
    "duration": 2477,
    "start_time": "2022-08-27T20:18:17.336Z"
   },
   {
    "duration": 2496,
    "start_time": "2022-08-27T20:18:24.785Z"
   },
   {
    "duration": 24773,
    "start_time": "2022-08-27T20:23:11.232Z"
   },
   {
    "duration": 789,
    "start_time": "2022-08-27T20:23:44.411Z"
   },
   {
    "duration": 3383,
    "start_time": "2022-08-27T20:25:00.132Z"
   },
   {
    "duration": 24343,
    "start_time": "2022-08-27T20:25:12.219Z"
   },
   {
    "duration": 26,
    "start_time": "2022-08-27T20:26:12.865Z"
   },
   {
    "duration": 16,
    "start_time": "2022-08-27T20:26:20.595Z"
   },
   {
    "duration": 71,
    "start_time": "2022-08-27T20:26:24.876Z"
   },
   {
    "duration": 15,
    "start_time": "2022-08-27T20:26:31.323Z"
   },
   {
    "duration": 25268,
    "start_time": "2022-08-27T20:26:46.805Z"
   },
   {
    "duration": 24633,
    "start_time": "2022-08-27T20:27:46.733Z"
   },
   {
    "duration": 1410,
    "start_time": "2022-08-27T20:30:01.559Z"
   },
   {
    "duration": 60,
    "start_time": "2022-08-27T20:30:02.971Z"
   },
   {
    "duration": 10,
    "start_time": "2022-08-27T20:30:03.033Z"
   },
   {
    "duration": 25,
    "start_time": "2022-08-27T20:30:03.044Z"
   },
   {
    "duration": 528,
    "start_time": "2022-08-27T20:30:03.071Z"
   },
   {
    "duration": 260,
    "start_time": "2022-08-27T20:30:03.601Z"
   },
   {
    "duration": 308,
    "start_time": "2022-08-27T20:30:03.863Z"
   },
   {
    "duration": 227,
    "start_time": "2022-08-27T20:30:04.172Z"
   },
   {
    "duration": 3,
    "start_time": "2022-08-27T20:30:04.401Z"
   },
   {
    "duration": 10,
    "start_time": "2022-08-27T20:30:04.406Z"
   },
   {
    "duration": 14,
    "start_time": "2022-08-27T20:30:04.418Z"
   },
   {
    "duration": 7,
    "start_time": "2022-08-27T20:30:04.434Z"
   },
   {
    "duration": 6,
    "start_time": "2022-08-27T20:30:04.442Z"
   },
   {
    "duration": 6,
    "start_time": "2022-08-27T20:30:04.451Z"
   },
   {
    "duration": 38,
    "start_time": "2022-08-27T20:30:04.459Z"
   },
   {
    "duration": 4,
    "start_time": "2022-08-27T20:30:04.499Z"
   },
   {
    "duration": 327,
    "start_time": "2022-08-27T20:30:04.504Z"
   },
   {
    "duration": 35,
    "start_time": "2022-08-27T20:30:04.833Z"
   },
   {
    "duration": 9508,
    "start_time": "2022-08-27T20:30:04.870Z"
   },
   {
    "duration": 1653,
    "start_time": "2022-08-27T20:30:14.380Z"
   },
   {
    "duration": 113481,
    "start_time": "2022-08-27T20:30:16.035Z"
   },
   {
    "duration": 15982,
    "start_time": "2022-08-27T20:32:09.518Z"
   },
   {
    "duration": 1592,
    "start_time": "2022-08-27T20:32:25.501Z"
   },
   {
    "duration": 198,
    "start_time": "2022-08-27T20:32:27.095Z"
   },
   {
    "duration": 99,
    "start_time": "2022-08-27T20:32:27.295Z"
   },
   {
    "duration": 4,
    "start_time": "2022-08-27T20:32:27.396Z"
   },
   {
    "duration": 1665,
    "start_time": "2022-08-27T20:32:27.402Z"
   },
   {
    "duration": 15761,
    "start_time": "2022-08-27T20:32:29.069Z"
   },
   {
    "duration": 64,
    "start_time": "2022-08-27T20:32:44.832Z"
   },
   {
    "duration": 1231,
    "start_time": "2022-08-27T20:33:12.286Z"
   },
   {
    "duration": 54,
    "start_time": "2022-08-27T20:33:13.519Z"
   },
   {
    "duration": 10,
    "start_time": "2022-08-27T20:33:13.575Z"
   },
   {
    "duration": 20,
    "start_time": "2022-08-27T20:33:13.587Z"
   },
   {
    "duration": 514,
    "start_time": "2022-08-27T20:33:13.610Z"
   },
   {
    "duration": 270,
    "start_time": "2022-08-27T20:33:14.126Z"
   },
   {
    "duration": 301,
    "start_time": "2022-08-27T20:33:14.398Z"
   },
   {
    "duration": 239,
    "start_time": "2022-08-27T20:33:14.701Z"
   },
   {
    "duration": 4,
    "start_time": "2022-08-27T20:33:14.942Z"
   },
   {
    "duration": 6,
    "start_time": "2022-08-27T20:33:14.948Z"
   },
   {
    "duration": 21,
    "start_time": "2022-08-27T20:33:14.955Z"
   },
   {
    "duration": 22,
    "start_time": "2022-08-27T20:33:14.978Z"
   },
   {
    "duration": 7,
    "start_time": "2022-08-27T20:33:15.002Z"
   },
   {
    "duration": 16,
    "start_time": "2022-08-27T20:33:15.014Z"
   },
   {
    "duration": 16,
    "start_time": "2022-08-27T20:33:15.032Z"
   },
   {
    "duration": 4,
    "start_time": "2022-08-27T20:33:15.092Z"
   },
   {
    "duration": 436,
    "start_time": "2022-08-27T20:33:15.099Z"
   },
   {
    "duration": 66,
    "start_time": "2022-08-27T20:33:15.537Z"
   },
   {
    "duration": 18450,
    "start_time": "2022-08-27T20:33:15.605Z"
   },
   {
    "duration": 3559,
    "start_time": "2022-08-27T20:33:34.057Z"
   },
   {
    "duration": 243973,
    "start_time": "2022-08-27T20:33:37.619Z"
   },
   {
    "duration": 34149,
    "start_time": "2022-08-27T20:37:41.597Z"
   },
   {
    "duration": 4048,
    "start_time": "2022-08-27T20:38:15.747Z"
   },
   {
    "duration": 106,
    "start_time": "2022-08-27T20:38:19.797Z"
   },
   {
    "duration": 301,
    "start_time": "2022-08-27T20:38:19.906Z"
   },
   {
    "duration": 87,
    "start_time": "2022-08-27T20:38:20.209Z"
   },
   {
    "duration": 3535,
    "start_time": "2022-08-27T20:38:20.298Z"
   },
   {
    "duration": 33924,
    "start_time": "2022-08-27T20:38:23.835Z"
   },
   {
    "duration": 132,
    "start_time": "2022-08-27T20:38:57.760Z"
   },
   {
    "duration": 1365,
    "start_time": "2022-08-27T20:40:19.767Z"
   },
   {
    "duration": 54,
    "start_time": "2022-08-27T20:40:21.134Z"
   },
   {
    "duration": 10,
    "start_time": "2022-08-27T20:40:21.190Z"
   },
   {
    "duration": 22,
    "start_time": "2022-08-27T20:40:21.201Z"
   },
   {
    "duration": 803,
    "start_time": "2022-08-27T20:40:21.226Z"
   },
   {
    "duration": 262,
    "start_time": "2022-08-27T20:40:22.031Z"
   },
   {
    "duration": 289,
    "start_time": "2022-08-27T20:40:22.295Z"
   },
   {
    "duration": 226,
    "start_time": "2022-08-27T20:40:22.591Z"
   },
   {
    "duration": 4,
    "start_time": "2022-08-27T20:40:22.819Z"
   },
   {
    "duration": 5,
    "start_time": "2022-08-27T20:40:22.825Z"
   },
   {
    "duration": 19,
    "start_time": "2022-08-27T20:40:22.832Z"
   },
   {
    "duration": 10,
    "start_time": "2022-08-27T20:40:22.852Z"
   },
   {
    "duration": 32,
    "start_time": "2022-08-27T20:40:22.864Z"
   },
   {
    "duration": 6,
    "start_time": "2022-08-27T20:40:22.900Z"
   },
   {
    "duration": 15,
    "start_time": "2022-08-27T20:40:22.908Z"
   },
   {
    "duration": 3,
    "start_time": "2022-08-27T20:40:22.991Z"
   },
   {
    "duration": 416,
    "start_time": "2022-08-27T20:40:22.997Z"
   },
   {
    "duration": 60,
    "start_time": "2022-08-27T20:40:23.415Z"
   },
   {
    "duration": 18289,
    "start_time": "2022-08-27T20:40:23.477Z"
   },
   {
    "duration": 3358,
    "start_time": "2022-08-27T20:40:41.768Z"
   },
   {
    "duration": 1200,
    "start_time": "2022-08-27T20:40:49.807Z"
   },
   {
    "duration": 55,
    "start_time": "2022-08-27T20:40:51.009Z"
   },
   {
    "duration": 11,
    "start_time": "2022-08-27T20:40:51.066Z"
   },
   {
    "duration": 22,
    "start_time": "2022-08-27T20:40:51.080Z"
   },
   {
    "duration": 527,
    "start_time": "2022-08-27T20:40:51.104Z"
   },
   {
    "duration": 301,
    "start_time": "2022-08-27T20:40:51.634Z"
   },
   {
    "duration": 339,
    "start_time": "2022-08-27T20:40:51.937Z"
   },
   {
    "duration": 232,
    "start_time": "2022-08-27T20:40:52.278Z"
   },
   {
    "duration": 4,
    "start_time": "2022-08-27T20:40:52.511Z"
   },
   {
    "duration": 7,
    "start_time": "2022-08-27T20:40:52.518Z"
   },
   {
    "duration": 20,
    "start_time": "2022-08-27T20:40:52.526Z"
   },
   {
    "duration": 9,
    "start_time": "2022-08-27T20:40:52.547Z"
   },
   {
    "duration": 10,
    "start_time": "2022-08-27T20:40:52.558Z"
   },
   {
    "duration": 25,
    "start_time": "2022-08-27T20:40:52.569Z"
   },
   {
    "duration": 19,
    "start_time": "2022-08-27T20:40:52.596Z"
   },
   {
    "duration": 75,
    "start_time": "2022-08-27T20:40:52.617Z"
   },
   {
    "duration": 427,
    "start_time": "2022-08-27T20:40:52.696Z"
   },
   {
    "duration": 68,
    "start_time": "2022-08-27T20:40:53.125Z"
   },
   {
    "duration": 18266,
    "start_time": "2022-08-27T20:40:53.195Z"
   },
   {
    "duration": 3608,
    "start_time": "2022-08-27T20:41:11.463Z"
   },
   {
    "duration": 1230,
    "start_time": "2022-08-27T20:41:34.421Z"
   },
   {
    "duration": 58,
    "start_time": "2022-08-27T20:41:35.652Z"
   },
   {
    "duration": 11,
    "start_time": "2022-08-27T20:41:35.712Z"
   },
   {
    "duration": 20,
    "start_time": "2022-08-27T20:41:35.725Z"
   },
   {
    "duration": 526,
    "start_time": "2022-08-27T20:41:35.747Z"
   },
   {
    "duration": 261,
    "start_time": "2022-08-27T20:41:36.275Z"
   },
   {
    "duration": 331,
    "start_time": "2022-08-27T20:41:36.538Z"
   },
   {
    "duration": 228,
    "start_time": "2022-08-27T20:41:36.870Z"
   },
   {
    "duration": 3,
    "start_time": "2022-08-27T20:41:37.100Z"
   },
   {
    "duration": 4,
    "start_time": "2022-08-27T20:41:37.106Z"
   },
   {
    "duration": 25,
    "start_time": "2022-08-27T20:41:37.112Z"
   },
   {
    "duration": 10,
    "start_time": "2022-08-27T20:41:37.139Z"
   },
   {
    "duration": 8,
    "start_time": "2022-08-27T20:41:37.150Z"
   },
   {
    "duration": 7,
    "start_time": "2022-08-27T20:41:37.160Z"
   },
   {
    "duration": 125,
    "start_time": "2022-08-27T20:41:37.168Z"
   },
   {
    "duration": 98,
    "start_time": "2022-08-27T20:41:37.295Z"
   },
   {
    "duration": 380,
    "start_time": "2022-08-27T20:41:37.395Z"
   },
   {
    "duration": 84,
    "start_time": "2022-08-27T20:41:37.777Z"
   },
   {
    "duration": 22723,
    "start_time": "2022-08-27T20:41:37.862Z"
   },
   {
    "duration": 4280,
    "start_time": "2022-08-27T20:42:00.587Z"
   },
   {
    "duration": 287160,
    "start_time": "2022-08-27T20:42:04.869Z"
   },
   {
    "duration": 43674,
    "start_time": "2022-08-27T20:46:52.032Z"
   },
   {
    "duration": 4986,
    "start_time": "2022-08-27T20:47:35.707Z"
   },
   {
    "duration": 204,
    "start_time": "2022-08-27T20:47:40.695Z"
   },
   {
    "duration": 305,
    "start_time": "2022-08-27T20:47:40.901Z"
   },
   {
    "duration": 4,
    "start_time": "2022-08-27T20:47:41.208Z"
   },
   {
    "duration": 4185,
    "start_time": "2022-08-27T20:47:41.214Z"
   },
   {
    "duration": 43828,
    "start_time": "2022-08-27T20:47:45.402Z"
   },
   {
    "duration": 69,
    "start_time": "2022-08-27T20:48:29.231Z"
   },
   {
    "duration": 228,
    "start_time": "2022-08-27T20:48:48.264Z"
   },
   {
    "duration": 1926,
    "start_time": "2022-08-28T11:32:16.173Z"
   },
   {
    "duration": 129,
    "start_time": "2022-08-28T11:35:33.040Z"
   },
   {
    "duration": 6,
    "start_time": "2022-08-28T11:35:46.517Z"
   },
   {
    "duration": 160,
    "start_time": "2022-08-28T11:35:47.984Z"
   },
   {
    "duration": 11,
    "start_time": "2022-08-28T11:35:49.094Z"
   },
   {
    "duration": 18,
    "start_time": "2022-08-28T11:35:50.011Z"
   },
   {
    "duration": 243,
    "start_time": "2022-08-28T11:35:51.437Z"
   },
   {
    "duration": 319,
    "start_time": "2022-08-28T11:36:25.901Z"
   },
   {
    "duration": 244,
    "start_time": "2022-08-28T11:36:56.736Z"
   },
   {
    "duration": 235,
    "start_time": "2022-08-28T11:37:42.587Z"
   },
   {
    "duration": 249,
    "start_time": "2022-08-28T11:40:49.465Z"
   },
   {
    "duration": 246,
    "start_time": "2022-08-28T11:42:50.736Z"
   },
   {
    "duration": 263,
    "start_time": "2022-08-28T11:43:22.596Z"
   },
   {
    "duration": 309,
    "start_time": "2022-08-28T11:44:05.238Z"
   },
   {
    "duration": 261,
    "start_time": "2022-08-28T11:45:43.037Z"
   },
   {
    "duration": 12,
    "start_time": "2022-08-28T11:52:46.709Z"
   },
   {
    "duration": 1624,
    "start_time": "2022-08-28T11:52:54.198Z"
   },
   {
    "duration": 56,
    "start_time": "2022-08-28T11:52:55.824Z"
   },
   {
    "duration": 10,
    "start_time": "2022-08-28T11:52:55.881Z"
   },
   {
    "duration": 21,
    "start_time": "2022-08-28T11:52:55.893Z"
   },
   {
    "duration": 257,
    "start_time": "2022-08-28T11:52:55.916Z"
   },
   {
    "duration": 340,
    "start_time": "2022-08-28T11:52:56.174Z"
   },
   {
    "duration": 232,
    "start_time": "2022-08-28T11:52:56.516Z"
   },
   {
    "duration": 256,
    "start_time": "2022-08-28T11:52:56.750Z"
   },
   {
    "duration": 115,
    "start_time": "2022-08-28T11:52:57.008Z"
   },
   {
    "duration": 0,
    "start_time": "2022-08-28T11:52:57.126Z"
   },
   {
    "duration": 0,
    "start_time": "2022-08-28T11:52:57.127Z"
   },
   {
    "duration": 0,
    "start_time": "2022-08-28T11:52:57.128Z"
   },
   {
    "duration": 0,
    "start_time": "2022-08-28T11:52:57.129Z"
   },
   {
    "duration": 0,
    "start_time": "2022-08-28T11:52:57.130Z"
   },
   {
    "duration": 0,
    "start_time": "2022-08-28T11:52:57.130Z"
   },
   {
    "duration": 0,
    "start_time": "2022-08-28T11:52:57.132Z"
   },
   {
    "duration": 0,
    "start_time": "2022-08-28T11:52:57.133Z"
   },
   {
    "duration": 0,
    "start_time": "2022-08-28T11:52:57.134Z"
   },
   {
    "duration": 1,
    "start_time": "2022-08-28T11:52:57.134Z"
   },
   {
    "duration": 0,
    "start_time": "2022-08-28T11:52:57.136Z"
   },
   {
    "duration": 0,
    "start_time": "2022-08-28T11:52:57.137Z"
   },
   {
    "duration": 0,
    "start_time": "2022-08-28T11:52:57.137Z"
   },
   {
    "duration": 0,
    "start_time": "2022-08-28T11:52:57.138Z"
   },
   {
    "duration": 0,
    "start_time": "2022-08-28T11:52:57.139Z"
   },
   {
    "duration": 0,
    "start_time": "2022-08-28T11:52:57.140Z"
   },
   {
    "duration": 0,
    "start_time": "2022-08-28T11:52:57.141Z"
   },
   {
    "duration": 0,
    "start_time": "2022-08-28T11:52:57.142Z"
   },
   {
    "duration": 0,
    "start_time": "2022-08-28T11:52:57.144Z"
   },
   {
    "duration": 219,
    "start_time": "2022-08-28T11:53:22.898Z"
   },
   {
    "duration": 240,
    "start_time": "2022-08-28T11:53:56.645Z"
   },
   {
    "duration": 13,
    "start_time": "2022-08-28T12:07:39.758Z"
   },
   {
    "duration": 4,
    "start_time": "2022-08-28T12:08:32.084Z"
   },
   {
    "duration": 4,
    "start_time": "2022-08-28T12:09:16.887Z"
   },
   {
    "duration": 4,
    "start_time": "2022-08-28T12:09:20.287Z"
   },
   {
    "duration": 5,
    "start_time": "2022-08-28T12:10:23.164Z"
   },
   {
    "duration": 16,
    "start_time": "2022-08-28T12:10:33.935Z"
   },
   {
    "duration": 140,
    "start_time": "2022-08-28T12:10:56.210Z"
   },
   {
    "duration": 11,
    "start_time": "2022-08-28T12:13:22.102Z"
   },
   {
    "duration": 168,
    "start_time": "2022-08-28T12:13:32.743Z"
   },
   {
    "duration": 240,
    "start_time": "2022-08-28T12:14:02.741Z"
   },
   {
    "duration": 6,
    "start_time": "2022-08-28T12:26:31.544Z"
   },
   {
    "duration": 25,
    "start_time": "2022-08-28T12:26:54.669Z"
   },
   {
    "duration": 74,
    "start_time": "2022-08-28T12:26:59.635Z"
   },
   {
    "duration": 29,
    "start_time": "2022-08-28T12:27:04.733Z"
   },
   {
    "duration": 53,
    "start_time": "2022-08-28T12:27:08.169Z"
   },
   {
    "duration": 21,
    "start_time": "2022-08-28T12:29:07.841Z"
   },
   {
    "duration": 13,
    "start_time": "2022-08-28T12:44:11.692Z"
   },
   {
    "duration": 8,
    "start_time": "2022-08-28T12:44:23.296Z"
   },
   {
    "duration": 6,
    "start_time": "2022-08-28T12:44:24.707Z"
   },
   {
    "duration": 161,
    "start_time": "2022-08-28T12:44:26.932Z"
   },
   {
    "duration": 4,
    "start_time": "2022-08-28T12:51:38.790Z"
   },
   {
    "duration": 76,
    "start_time": "2022-08-28T12:54:28.468Z"
   },
   {
    "duration": 10,
    "start_time": "2022-08-28T12:55:02.160Z"
   },
   {
    "duration": 5,
    "start_time": "2022-08-28T12:57:00.802Z"
   },
   {
    "duration": 7,
    "start_time": "2022-08-28T12:57:01.777Z"
   },
   {
    "duration": 4,
    "start_time": "2022-08-28T12:57:25.858Z"
   },
   {
    "duration": 21,
    "start_time": "2022-08-28T12:57:57.234Z"
   },
   {
    "duration": 11,
    "start_time": "2022-08-28T12:58:01.458Z"
   },
   {
    "duration": 5,
    "start_time": "2022-08-28T12:58:03.273Z"
   },
   {
    "duration": 5,
    "start_time": "2022-08-28T12:58:09.632Z"
   },
   {
    "duration": 43,
    "start_time": "2022-08-28T12:58:11.256Z"
   },
   {
    "duration": 193,
    "start_time": "2022-08-28T12:58:17.398Z"
   },
   {
    "duration": 6,
    "start_time": "2022-08-28T13:01:38.461Z"
   },
   {
    "duration": 4,
    "start_time": "2022-08-28T13:04:45.370Z"
   },
   {
    "duration": 1116,
    "start_time": "2022-08-28T13:05:19.883Z"
   },
   {
    "duration": 69,
    "start_time": "2022-08-28T13:05:42.133Z"
   },
   {
    "duration": 5,
    "start_time": "2022-08-28T13:07:28.888Z"
   },
   {
    "duration": 3,
    "start_time": "2022-08-28T13:08:05.412Z"
   },
   {
    "duration": 3,
    "start_time": "2022-08-28T13:08:08.027Z"
   },
   {
    "duration": 1053,
    "start_time": "2022-08-28T13:08:13.740Z"
   },
   {
    "duration": 953,
    "start_time": "2022-08-28T13:08:28.539Z"
   },
   {
    "duration": 3,
    "start_time": "2022-08-28T13:09:32.608Z"
   },
   {
    "duration": 3,
    "start_time": "2022-08-28T13:09:33.103Z"
   },
   {
    "duration": 906,
    "start_time": "2022-08-28T13:09:34.090Z"
   },
   {
    "duration": 11,
    "start_time": "2022-08-28T13:10:35.327Z"
   },
   {
    "duration": 4,
    "start_time": "2022-08-28T13:11:05.032Z"
   },
   {
    "duration": 3,
    "start_time": "2022-08-28T13:11:06.932Z"
   },
   {
    "duration": 1056,
    "start_time": "2022-08-28T13:11:08.741Z"
   },
   {
    "duration": 5,
    "start_time": "2022-08-28T13:11:48.648Z"
   },
   {
    "duration": 4,
    "start_time": "2022-08-28T13:11:49.349Z"
   },
   {
    "duration": 1562,
    "start_time": "2022-08-28T13:11:49.534Z"
   },
   {
    "duration": 3,
    "start_time": "2022-08-28T13:13:58.436Z"
   },
   {
    "duration": 3,
    "start_time": "2022-08-28T13:13:59.444Z"
   },
   {
    "duration": 849,
    "start_time": "2022-08-28T13:14:06.352Z"
   },
   {
    "duration": 1128,
    "start_time": "2022-08-28T13:14:11.765Z"
   },
   {
    "duration": 77,
    "start_time": "2022-08-28T13:15:36.259Z"
   },
   {
    "duration": 226,
    "start_time": "2022-08-28T13:15:40.468Z"
   },
   {
    "duration": 990,
    "start_time": "2022-08-28T13:15:48.005Z"
   },
   {
    "duration": 77,
    "start_time": "2022-08-28T13:16:17.086Z"
   },
   {
    "duration": 1167,
    "start_time": "2022-08-28T13:16:23.235Z"
   },
   {
    "duration": 7141,
    "start_time": "2022-08-28T13:24:55.475Z"
   },
   {
    "duration": 4491,
    "start_time": "2022-08-28T13:25:47.571Z"
   },
   {
    "duration": 5,
    "start_time": "2022-08-28T13:26:33.813Z"
   },
   {
    "duration": 6,
    "start_time": "2022-08-28T13:26:55.389Z"
   },
   {
    "duration": 6,
    "start_time": "2022-08-28T13:28:07.323Z"
   },
   {
    "duration": 4730,
    "start_time": "2022-08-28T13:30:07.364Z"
   },
   {
    "duration": 4648,
    "start_time": "2022-08-28T13:30:27.978Z"
   },
   {
    "duration": 178,
    "start_time": "2022-08-28T13:31:11.025Z"
   },
   {
    "duration": 4461,
    "start_time": "2022-08-28T13:31:24.435Z"
   },
   {
    "duration": 12,
    "start_time": "2022-08-28T13:31:48.539Z"
   },
   {
    "duration": 5342,
    "start_time": "2022-08-28T13:31:51.842Z"
   },
   {
    "duration": 4520,
    "start_time": "2022-08-28T13:33:34.552Z"
   },
   {
    "duration": 4536,
    "start_time": "2022-08-28T13:34:17.089Z"
   },
   {
    "duration": 23550,
    "start_time": "2022-08-28T13:39:38.766Z"
   },
   {
    "duration": 158,
    "start_time": "2022-08-28T13:40:08.601Z"
   },
   {
    "duration": 238,
    "start_time": "2022-08-28T13:40:16.788Z"
   },
   {
    "duration": 185,
    "start_time": "2022-08-28T13:40:22.639Z"
   },
   {
    "duration": 186,
    "start_time": "2022-08-28T13:42:12.962Z"
   },
   {
    "duration": 27232,
    "start_time": "2022-08-28T13:42:29.337Z"
   },
   {
    "duration": 27103,
    "start_time": "2022-08-28T13:43:50.326Z"
   },
   {
    "duration": 6383,
    "start_time": "2022-08-28T13:44:21.938Z"
   },
   {
    "duration": 200,
    "start_time": "2022-08-28T13:44:40.647Z"
   },
   {
    "duration": 19701,
    "start_time": "2022-08-28T13:45:03.235Z"
   },
   {
    "duration": 20380,
    "start_time": "2022-08-28T13:45:58.809Z"
   },
   {
    "duration": 1855,
    "start_time": "2022-08-28T13:55:57.591Z"
   },
   {
    "duration": 58,
    "start_time": "2022-08-28T13:55:59.450Z"
   },
   {
    "duration": 11,
    "start_time": "2022-08-28T13:55:59.510Z"
   },
   {
    "duration": 23,
    "start_time": "2022-08-28T13:55:59.523Z"
   },
   {
    "duration": 351,
    "start_time": "2022-08-28T13:55:59.549Z"
   },
   {
    "duration": 442,
    "start_time": "2022-08-28T13:55:59.902Z"
   },
   {
    "duration": 260,
    "start_time": "2022-08-28T13:56:00.347Z"
   },
   {
    "duration": 288,
    "start_time": "2022-08-28T13:56:00.609Z"
   },
   {
    "duration": 275,
    "start_time": "2022-08-28T13:56:00.898Z"
   },
   {
    "duration": 169,
    "start_time": "2022-08-28T13:56:01.175Z"
   },
   {
    "duration": 4,
    "start_time": "2022-08-28T13:56:01.346Z"
   },
   {
    "duration": 12,
    "start_time": "2022-08-28T13:56:01.352Z"
   },
   {
    "duration": 58,
    "start_time": "2022-08-28T13:56:01.366Z"
   },
   {
    "duration": 15,
    "start_time": "2022-08-28T13:56:01.429Z"
   },
   {
    "duration": 6,
    "start_time": "2022-08-28T13:56:01.446Z"
   },
   {
    "duration": 12,
    "start_time": "2022-08-28T13:56:01.454Z"
   },
   {
    "duration": 29,
    "start_time": "2022-08-28T13:56:01.468Z"
   },
   {
    "duration": 22,
    "start_time": "2022-08-28T13:56:01.499Z"
   },
   {
    "duration": 1276,
    "start_time": "2022-08-28T13:56:01.523Z"
   },
   {
    "duration": 561,
    "start_time": "2022-08-28T13:56:02.802Z"
   },
   {
    "duration": 177,
    "start_time": "2022-08-28T13:56:03.365Z"
   },
   {
    "duration": 229446,
    "start_time": "2022-08-28T13:56:03.544Z"
   },
   {
    "duration": 19972,
    "start_time": "2022-08-28T13:59:52.992Z"
   },
   {
    "duration": 820277,
    "start_time": "2022-08-28T14:00:12.967Z"
   },
   {
    "duration": 283161,
    "start_time": "2022-08-28T14:13:53.245Z"
   },
   {
    "duration": 168,
    "start_time": "2022-08-28T14:18:36.408Z"
   },
   {
    "duration": 0,
    "start_time": "2022-08-28T14:18:36.579Z"
   },
   {
    "duration": 0,
    "start_time": "2022-08-28T14:18:36.580Z"
   },
   {
    "duration": 0,
    "start_time": "2022-08-28T14:18:36.582Z"
   },
   {
    "duration": 0,
    "start_time": "2022-08-28T14:18:36.592Z"
   },
   {
    "duration": 0,
    "start_time": "2022-08-28T14:18:36.593Z"
   },
   {
    "duration": 7212,
    "start_time": "2022-08-28T14:20:29.462Z"
   },
   {
    "duration": 11793,
    "start_time": "2022-08-28T14:20:54.542Z"
   },
   {
    "duration": 11,
    "start_time": "2022-08-28T14:21:31.343Z"
   },
   {
    "duration": 14,
    "start_time": "2022-08-28T14:21:55.982Z"
   },
   {
    "duration": 11,
    "start_time": "2022-08-28T14:22:15.411Z"
   },
   {
    "duration": 15,
    "start_time": "2022-08-28T14:22:33.524Z"
   },
   {
    "duration": 1076,
    "start_time": "2022-08-28T14:22:58.331Z"
   },
   {
    "duration": 5,
    "start_time": "2022-08-28T14:25:55.951Z"
   },
   {
    "duration": 2118,
    "start_time": "2022-08-28T14:26:25.482Z"
   },
   {
    "duration": 4,
    "start_time": "2022-08-28T14:27:09.824Z"
   },
   {
    "duration": 83,
    "start_time": "2022-08-28T14:27:39.292Z"
   },
   {
    "duration": 7,
    "start_time": "2022-08-28T14:27:43.631Z"
   },
   {
    "duration": 4,
    "start_time": "2022-08-28T14:40:52.634Z"
   },
   {
    "duration": 14,
    "start_time": "2022-08-28T14:40:55.249Z"
   },
   {
    "duration": 4,
    "start_time": "2022-08-28T14:41:40.203Z"
   },
   {
    "duration": 12,
    "start_time": "2022-08-28T14:41:43.253Z"
   },
   {
    "duration": 210,
    "start_time": "2022-08-28T14:41:50.656Z"
   },
   {
    "duration": 7,
    "start_time": "2022-08-28T14:41:59.049Z"
   },
   {
    "duration": 250,
    "start_time": "2022-08-28T14:41:59.224Z"
   },
   {
    "duration": 214,
    "start_time": "2022-08-28T14:42:20.890Z"
   },
   {
    "duration": 2553,
    "start_time": "2022-08-28T14:42:23.759Z"
   },
   {
    "duration": 246,
    "start_time": "2022-08-28T14:42:26.315Z"
   },
   {
    "duration": 263,
    "start_time": "2022-08-28T14:43:09.334Z"
   },
   {
    "duration": 82,
    "start_time": "2022-08-29T15:38:21.407Z"
   },
   {
    "duration": 1671,
    "start_time": "2022-08-29T15:38:35.844Z"
   },
   {
    "duration": 297,
    "start_time": "2022-08-29T15:38:38.214Z"
   },
   {
    "duration": 12,
    "start_time": "2022-08-29T15:38:40.226Z"
   },
   {
    "duration": 15,
    "start_time": "2022-08-29T15:38:41.307Z"
   },
   {
    "duration": 119,
    "start_time": "2022-08-29T15:38:42.615Z"
   },
   {
    "duration": 6,
    "start_time": "2022-08-29T15:38:48.105Z"
   },
   {
    "duration": 221,
    "start_time": "2022-08-29T15:38:50.030Z"
   },
   {
    "duration": 288,
    "start_time": "2022-08-29T15:39:03.670Z"
   },
   {
    "duration": 5,
    "start_time": "2022-08-29T15:39:11.877Z"
   },
   {
    "duration": 197,
    "start_time": "2022-08-29T15:39:12.198Z"
   },
   {
    "duration": 218,
    "start_time": "2022-08-29T15:39:19.953Z"
   },
   {
    "duration": 207,
    "start_time": "2022-08-29T15:39:29.551Z"
   },
   {
    "duration": 200,
    "start_time": "2022-08-29T15:39:45.245Z"
   },
   {
    "duration": 309,
    "start_time": "2022-08-29T15:39:50.533Z"
   },
   {
    "duration": 194,
    "start_time": "2022-08-29T15:40:05.099Z"
   },
   {
    "duration": 255,
    "start_time": "2022-08-29T15:40:56.788Z"
   },
   {
    "duration": 185,
    "start_time": "2022-08-29T15:41:08.746Z"
   },
   {
    "duration": 202,
    "start_time": "2022-08-29T15:41:15.656Z"
   },
   {
    "duration": 209,
    "start_time": "2022-08-29T15:41:26.854Z"
   },
   {
    "duration": 220,
    "start_time": "2022-08-29T15:41:35.456Z"
   },
   {
    "duration": 100,
    "start_time": "2022-08-29T15:42:01.465Z"
   },
   {
    "duration": 1463,
    "start_time": "2022-08-29T15:42:37.055Z"
   },
   {
    "duration": 51,
    "start_time": "2022-08-29T15:42:38.520Z"
   },
   {
    "duration": 14,
    "start_time": "2022-08-29T15:42:38.574Z"
   },
   {
    "duration": 19,
    "start_time": "2022-08-29T15:42:38.592Z"
   },
   {
    "duration": 246,
    "start_time": "2022-08-29T15:42:38.612Z"
   },
   {
    "duration": 309,
    "start_time": "2022-08-29T15:42:38.860Z"
   },
   {
    "duration": 201,
    "start_time": "2022-08-29T15:42:39.170Z"
   },
   {
    "duration": 202,
    "start_time": "2022-08-29T15:42:39.372Z"
   },
   {
    "duration": 226,
    "start_time": "2022-08-29T15:42:39.576Z"
   },
   {
    "duration": 137,
    "start_time": "2022-08-29T15:42:39.804Z"
   },
   {
    "duration": 3,
    "start_time": "2022-08-29T15:42:39.942Z"
   },
   {
    "duration": 4,
    "start_time": "2022-08-29T15:42:39.955Z"
   },
   {
    "duration": 24,
    "start_time": "2022-08-29T15:42:39.960Z"
   },
   {
    "duration": 9,
    "start_time": "2022-08-29T15:42:39.986Z"
   },
   {
    "duration": 4,
    "start_time": "2022-08-29T15:42:39.997Z"
   },
   {
    "duration": 9,
    "start_time": "2022-08-29T15:42:40.003Z"
   },
   {
    "duration": 5,
    "start_time": "2022-08-29T15:42:40.014Z"
   },
   {
    "duration": 10,
    "start_time": "2022-08-29T15:42:40.020Z"
   },
   {
    "duration": 429,
    "start_time": "2022-08-29T15:42:40.031Z"
   },
   {
    "duration": 504,
    "start_time": "2022-08-29T15:42:40.462Z"
   },
   {
    "duration": 121,
    "start_time": "2022-08-29T15:42:40.967Z"
   },
   {
    "duration": 178096,
    "start_time": "2022-08-29T15:42:41.090Z"
   },
   {
    "duration": 5671,
    "start_time": "2022-08-29T15:45:39.187Z"
   },
   {
    "duration": 670844,
    "start_time": "2022-08-29T15:45:44.859Z"
   },
   {
    "duration": 9441,
    "start_time": "2022-08-29T15:56:55.705Z"
   },
   {
    "duration": 917,
    "start_time": "2022-08-29T15:57:05.148Z"
   },
   {
    "duration": 5,
    "start_time": "2022-08-29T15:57:06.067Z"
   },
   {
    "duration": 1888,
    "start_time": "2022-08-29T15:57:06.076Z"
   },
   {
    "duration": 199,
    "start_time": "2022-08-29T15:57:07.966Z"
   },
   {
    "duration": 6,
    "start_time": "2022-08-29T15:57:08.167Z"
   },
   {
    "duration": 206,
    "start_time": "2022-08-29T15:57:56.749Z"
   },
   {
    "duration": 1790,
    "start_time": "2022-08-29T15:58:12.602Z"
   },
   {
    "duration": 189,
    "start_time": "2022-08-29T15:58:14.394Z"
   },
   {
    "duration": 309,
    "start_time": "2022-08-29T15:59:04.134Z"
   },
   {
    "duration": 121,
    "start_time": "2022-08-29T15:59:09.635Z"
   },
   {
    "duration": 196,
    "start_time": "2022-08-29T15:59:12.229Z"
   },
   {
    "duration": 201,
    "start_time": "2022-08-29T15:59:23.224Z"
   },
   {
    "duration": 200,
    "start_time": "2022-08-29T15:59:31.437Z"
   },
   {
    "duration": 196,
    "start_time": "2022-08-29T15:59:34.032Z"
   },
   {
    "duration": 202,
    "start_time": "2022-08-29T15:59:44.280Z"
   },
   {
    "duration": 203,
    "start_time": "2022-08-29T15:59:46.996Z"
   },
   {
    "duration": 1834,
    "start_time": "2022-08-29T15:59:51.949Z"
   },
   {
    "duration": 283,
    "start_time": "2022-08-29T15:59:53.785Z"
   },
   {
    "duration": 132,
    "start_time": "2022-08-29T16:00:18.089Z"
   },
   {
    "duration": 129,
    "start_time": "2022-08-29T16:00:24.200Z"
   },
   {
    "duration": 126,
    "start_time": "2022-08-29T16:00:28.739Z"
   },
   {
    "duration": 137,
    "start_time": "2022-08-29T16:00:32.054Z"
   },
   {
    "duration": 135,
    "start_time": "2022-08-29T16:00:37.630Z"
   },
   {
    "duration": 138,
    "start_time": "2022-08-29T16:00:41.283Z"
   },
   {
    "duration": 125,
    "start_time": "2022-08-29T16:00:48.645Z"
   },
   {
    "duration": 131,
    "start_time": "2022-08-29T16:00:53.112Z"
   },
   {
    "duration": 125,
    "start_time": "2022-08-29T16:00:59.489Z"
   },
   {
    "duration": 142,
    "start_time": "2022-08-29T16:01:05.413Z"
   },
   {
    "duration": 152,
    "start_time": "2022-08-29T16:01:08.626Z"
   },
   {
    "duration": 226,
    "start_time": "2022-08-29T16:01:29.765Z"
   },
   {
    "duration": 255,
    "start_time": "2022-08-29T16:02:11.078Z"
   },
   {
    "duration": 259,
    "start_time": "2022-08-29T16:02:22.045Z"
   },
   {
    "duration": 580,
    "start_time": "2022-08-29T16:03:40.822Z"
   },
   {
    "duration": 218,
    "start_time": "2022-08-29T16:04:01.566Z"
   },
   {
    "duration": 167,
    "start_time": "2022-08-29T16:04:06.042Z"
   },
   {
    "duration": 123,
    "start_time": "2022-08-29T16:04:12.878Z"
   },
   {
    "duration": 129,
    "start_time": "2022-08-29T16:04:19.422Z"
   },
   {
    "duration": 146,
    "start_time": "2022-08-29T16:04:24.133Z"
   },
   {
    "duration": 256,
    "start_time": "2022-08-29T16:06:06.230Z"
   },
   {
    "duration": 136,
    "start_time": "2022-08-29T16:08:37.105Z"
   },
   {
    "duration": 146,
    "start_time": "2022-08-29T16:08:47.064Z"
   },
   {
    "duration": 151,
    "start_time": "2022-08-29T16:08:59.341Z"
   },
   {
    "duration": 160,
    "start_time": "2022-08-29T16:09:16.247Z"
   },
   {
    "duration": 159,
    "start_time": "2022-08-29T16:10:34.646Z"
   },
   {
    "duration": 168,
    "start_time": "2022-08-29T16:11:50.043Z"
   },
   {
    "duration": 164,
    "start_time": "2022-08-29T16:12:02.274Z"
   },
   {
    "duration": 262,
    "start_time": "2022-08-29T16:12:50.468Z"
   },
   {
    "duration": 161,
    "start_time": "2022-08-29T16:13:46.666Z"
   },
   {
    "duration": 191,
    "start_time": "2022-08-29T16:14:40.272Z"
   },
   {
    "duration": 183,
    "start_time": "2022-08-29T16:16:18.449Z"
   },
   {
    "duration": 384,
    "start_time": "2022-08-29T16:17:29.572Z"
   },
   {
    "duration": 157,
    "start_time": "2022-08-29T16:17:58.351Z"
   },
   {
    "duration": 24,
    "start_time": "2022-08-29T16:25:43.263Z"
   },
   {
    "duration": 1280,
    "start_time": "2022-08-29T16:26:34.518Z"
   },
   {
    "duration": 11,
    "start_time": "2022-08-29T16:26:55.854Z"
   },
   {
    "duration": 1006,
    "start_time": "2022-08-29T16:27:03.049Z"
   },
   {
    "duration": 5,
    "start_time": "2022-08-29T16:27:18.308Z"
   },
   {
    "duration": 83,
    "start_time": "2022-08-29T16:30:00.814Z"
   },
   {
    "duration": 76,
    "start_time": "2022-08-29T16:30:26.298Z"
   },
   {
    "duration": 85,
    "start_time": "2022-08-29T16:31:24.626Z"
   },
   {
    "duration": 3,
    "start_time": "2022-08-29T16:34:01.343Z"
   },
   {
    "duration": 4,
    "start_time": "2022-08-29T16:34:33.004Z"
   },
   {
    "duration": 4,
    "start_time": "2022-08-29T16:35:04.006Z"
   },
   {
    "duration": 186,
    "start_time": "2022-08-29T16:35:59.334Z"
   },
   {
    "duration": 4,
    "start_time": "2022-08-29T16:36:08.842Z"
   },
   {
    "duration": 4,
    "start_time": "2022-08-29T16:36:15.367Z"
   },
   {
    "duration": 1273,
    "start_time": "2022-08-29T16:36:40.390Z"
   },
   {
    "duration": 1089,
    "start_time": "2022-08-29T16:39:25.373Z"
   },
   {
    "duration": 1286,
    "start_time": "2022-08-29T16:39:37.171Z"
   },
   {
    "duration": 173,
    "start_time": "2022-08-29T16:40:58.879Z"
   },
   {
    "duration": 118,
    "start_time": "2022-08-29T16:41:13.172Z"
   },
   {
    "duration": 1019,
    "start_time": "2022-08-29T16:41:25.149Z"
   },
   {
    "duration": 1168,
    "start_time": "2022-08-29T16:41:35.288Z"
   },
   {
    "duration": 1158,
    "start_time": "2022-08-29T16:42:02.799Z"
   },
   {
    "duration": 1175,
    "start_time": "2022-08-29T16:42:51.984Z"
   },
   {
    "duration": 16,
    "start_time": "2022-08-29T17:41:59.451Z"
   },
   {
    "duration": 759,
    "start_time": "2022-08-29T17:42:02.900Z"
   },
   {
    "duration": 3,
    "start_time": "2022-08-29T17:45:06.313Z"
   },
   {
    "duration": 4,
    "start_time": "2022-08-29T17:45:07.142Z"
   },
   {
    "duration": 1034,
    "start_time": "2022-08-29T17:45:08.620Z"
   },
   {
    "duration": 18,
    "start_time": "2022-08-29T17:45:36.236Z"
   },
   {
    "duration": 542,
    "start_time": "2022-08-29T17:45:41.716Z"
   },
   {
    "duration": 115,
    "start_time": "2022-08-29T17:46:22.379Z"
   },
   {
    "duration": 3,
    "start_time": "2022-08-29T17:46:51.524Z"
   },
   {
    "duration": 913,
    "start_time": "2022-08-29T17:46:56.546Z"
   },
   {
    "duration": 112,
    "start_time": "2022-08-29T17:47:09.966Z"
   },
   {
    "duration": 125,
    "start_time": "2022-08-29T17:47:17.191Z"
   },
   {
    "duration": 443,
    "start_time": "2022-08-29T17:47:28.819Z"
   },
   {
    "duration": 2,
    "start_time": "2022-08-29T17:47:33.166Z"
   },
   {
    "duration": 73,
    "start_time": "2022-08-29T17:50:53.556Z"
   },
   {
    "duration": 656850,
    "start_time": "2022-08-29T17:51:02.931Z"
   },
   {
    "duration": 820,
    "start_time": "2022-08-29T18:03:29.240Z"
   },
   {
    "duration": 188,
    "start_time": "2022-08-29T18:08:20.515Z"
   },
   {
    "duration": 231,
    "start_time": "2022-08-29T18:08:51.253Z"
   },
   {
    "duration": 219,
    "start_time": "2022-08-29T18:09:18.658Z"
   },
   {
    "duration": 191,
    "start_time": "2022-08-29T18:10:09.739Z"
   },
   {
    "duration": 201,
    "start_time": "2022-08-29T18:10:22.376Z"
   },
   {
    "duration": 200,
    "start_time": "2022-08-29T18:10:28.980Z"
   },
   {
    "duration": 203,
    "start_time": "2022-08-29T18:10:45.416Z"
   },
   {
    "duration": 256,
    "start_time": "2022-08-29T18:11:03.854Z"
   },
   {
    "duration": 3,
    "start_time": "2022-08-29T18:11:24.166Z"
   },
   {
    "duration": 217,
    "start_time": "2022-08-29T18:11:27.918Z"
   },
   {
    "duration": 126,
    "start_time": "2022-08-29T18:11:43.085Z"
   },
   {
    "duration": 162,
    "start_time": "2022-08-29T18:11:55.302Z"
   },
   {
    "duration": 75,
    "start_time": "2022-08-29T18:12:04.367Z"
   },
   {
    "duration": 146,
    "start_time": "2022-08-29T18:12:11.876Z"
   },
   {
    "duration": 154,
    "start_time": "2022-08-29T18:13:00.087Z"
   },
   {
    "duration": 191,
    "start_time": "2022-08-29T18:13:19.111Z"
   },
   {
    "duration": 74,
    "start_time": "2022-08-29T18:13:47.564Z"
   },
   {
    "duration": 206,
    "start_time": "2022-08-29T18:13:53.628Z"
   },
   {
    "duration": 251,
    "start_time": "2022-08-29T18:16:25.641Z"
   },
   {
    "duration": 164,
    "start_time": "2022-08-29T18:16:44.778Z"
   },
   {
    "duration": 208,
    "start_time": "2022-08-29T18:16:51.592Z"
   },
   {
    "duration": 158,
    "start_time": "2022-08-29T18:16:59.223Z"
   },
   {
    "duration": 165,
    "start_time": "2022-08-29T18:17:05.450Z"
   },
   {
    "duration": 161,
    "start_time": "2022-08-29T18:17:13.280Z"
   },
   {
    "duration": 1425,
    "start_time": "2022-08-29T18:18:30.345Z"
   },
   {
    "duration": 52,
    "start_time": "2022-08-29T18:18:31.772Z"
   },
   {
    "duration": 9,
    "start_time": "2022-08-29T18:18:31.825Z"
   },
   {
    "duration": 16,
    "start_time": "2022-08-29T18:18:31.836Z"
   },
   {
    "duration": 240,
    "start_time": "2022-08-29T18:18:31.854Z"
   },
   {
    "duration": 198,
    "start_time": "2022-08-29T18:18:32.095Z"
   },
   {
    "duration": 235,
    "start_time": "2022-08-29T18:18:32.295Z"
   },
   {
    "duration": 201,
    "start_time": "2022-08-29T18:18:32.531Z"
   },
   {
    "duration": 176,
    "start_time": "2022-08-29T18:18:32.733Z"
   },
   {
    "duration": 1353,
    "start_time": "2022-08-29T18:18:32.911Z"
   },
   {
    "duration": 327,
    "start_time": "2022-08-29T18:18:34.266Z"
   },
   {
    "duration": 3,
    "start_time": "2022-08-29T18:18:34.595Z"
   },
   {
    "duration": 6,
    "start_time": "2022-08-29T18:18:34.599Z"
   },
   {
    "duration": 23,
    "start_time": "2022-08-29T18:18:34.606Z"
   },
   {
    "duration": 9,
    "start_time": "2022-08-29T18:18:34.630Z"
   },
   {
    "duration": 17,
    "start_time": "2022-08-29T18:18:34.640Z"
   },
   {
    "duration": 6,
    "start_time": "2022-08-29T18:18:34.658Z"
   },
   {
    "duration": 4,
    "start_time": "2022-08-29T18:18:34.666Z"
   },
   {
    "duration": 4,
    "start_time": "2022-08-29T18:18:34.672Z"
   },
   {
    "duration": 784,
    "start_time": "2022-08-29T18:18:34.677Z"
   },
   {
    "duration": 451,
    "start_time": "2022-08-29T18:18:35.464Z"
   },
   {
    "duration": 1406,
    "start_time": "2022-08-29T18:21:08.363Z"
   },
   {
    "duration": 52,
    "start_time": "2022-08-29T18:21:09.771Z"
   },
   {
    "duration": 10,
    "start_time": "2022-08-29T18:21:09.824Z"
   },
   {
    "duration": 15,
    "start_time": "2022-08-29T18:21:09.835Z"
   },
   {
    "duration": 242,
    "start_time": "2022-08-29T18:21:09.851Z"
   },
   {
    "duration": 219,
    "start_time": "2022-08-29T18:21:10.094Z"
   },
   {
    "duration": 249,
    "start_time": "2022-08-29T18:21:10.316Z"
   },
   {
    "duration": 192,
    "start_time": "2022-08-29T18:21:10.566Z"
   },
   {
    "duration": 181,
    "start_time": "2022-08-29T18:21:10.760Z"
   },
   {
    "duration": 1619,
    "start_time": "2022-08-29T18:21:10.944Z"
   },
   {
    "duration": 243,
    "start_time": "2022-08-29T18:21:12.656Z"
   },
   {
    "duration": 4,
    "start_time": "2022-08-29T18:21:12.900Z"
   },
   {
    "duration": 6,
    "start_time": "2022-08-29T18:21:12.905Z"
   },
   {
    "duration": 24,
    "start_time": "2022-08-29T18:21:12.912Z"
   },
   {
    "duration": 17,
    "start_time": "2022-08-29T18:21:12.938Z"
   },
   {
    "duration": 4,
    "start_time": "2022-08-29T18:21:12.956Z"
   },
   {
    "duration": 6,
    "start_time": "2022-08-29T18:21:12.961Z"
   },
   {
    "duration": 5,
    "start_time": "2022-08-29T18:21:12.968Z"
   },
   {
    "duration": 6,
    "start_time": "2022-08-29T18:21:12.974Z"
   },
   {
    "duration": 774,
    "start_time": "2022-08-29T18:21:12.981Z"
   },
   {
    "duration": 436,
    "start_time": "2022-08-29T18:21:13.762Z"
   },
   {
    "duration": 174071,
    "start_time": "2022-08-29T18:21:14.200Z"
   },
   {
    "duration": 674281,
    "start_time": "2022-08-29T18:24:08.273Z"
   },
   {
    "duration": 909,
    "start_time": "2022-08-29T18:35:22.556Z"
   },
   {
    "duration": 3,
    "start_time": "2022-08-29T18:35:23.467Z"
   },
   {
    "duration": 836,
    "start_time": "2022-08-29T18:35:23.472Z"
   },
   {
    "duration": 0,
    "start_time": "2022-08-29T18:35:24.309Z"
   },
   {
    "duration": 0,
    "start_time": "2022-08-29T18:35:24.310Z"
   },
   {
    "duration": 2063,
    "start_time": "2022-08-29T18:44:11.690Z"
   },
   {
    "duration": 264,
    "start_time": "2022-08-29T18:44:17.202Z"
   },
   {
    "duration": 6,
    "start_time": "2022-08-29T18:44:19.241Z"
   },
   {
    "duration": 105,
    "start_time": "2022-08-29T19:49:12.316Z"
   }
  ],
  "kernelspec": {
   "display_name": "Python 3 (ipykernel)",
   "language": "python",
   "name": "python3"
  },
  "language_info": {
   "codemirror_mode": {
    "name": "ipython",
    "version": 3
   },
   "file_extension": ".py",
   "mimetype": "text/x-python",
   "name": "python",
   "nbconvert_exporter": "python",
   "pygments_lexer": "ipython3",
   "version": "3.9.5"
  },
  "toc": {
   "base_numbering": 1,
   "nav_menu": {},
   "number_sections": true,
   "sideBar": true,
   "skip_h1_title": true,
   "title_cell": "Содержание",
   "title_sidebar": "Contents",
   "toc_cell": true,
   "toc_position": {
    "height": "calc(100% - 180px)",
    "left": "10px",
    "top": "150px",
    "width": "165px"
   },
   "toc_section_display": true,
   "toc_window_display": true
  }
 },
 "nbformat": 4,
 "nbformat_minor": 2
}
