{
  "nbformat": 4,
  "nbformat_minor": 0,
  "metadata": {
    "colab": {
      "provenance": [],
      "authorship_tag": "ABX9TyNiK/LBrkOg7Xu1URZmS0L4",
      "include_colab_link": true
    },
    "kernelspec": {
      "name": "python3",
      "display_name": "Python 3"
    },
    "language_info": {
      "name": "python"
    }
  },
  "cells": [
    {
      "cell_type": "markdown",
      "metadata": {
        "id": "view-in-github",
        "colab_type": "text"
      },
      "source": [
        "<a href=\"https://colab.research.google.com/github/MikhailDSince/MikhailDSince/blob/main/to_mindbox.ipynb\" target=\"_parent\"><img src=\"https://colab.research.google.com/assets/colab-badge.svg\" alt=\"Open In Colab\"/></a>"
      ]
    },
    {
      "cell_type": "code",
      "source": [
        "#Функция для вывода числа клиетов в группах, начиная с 0.\n",
        "import pandas as pd\n",
        "def count_customers(n_customers:int):\n",
        "  #count = 0\n",
        "  data = pd.DataFrame(columns = ['group_name', 'count'])\n",
        "  for i in range(n_customers + 1):\n",
        "    group = 0\n",
        "    j = i\n",
        "    while (j != 0):\n",
        "      group = group + j % 10\n",
        "      j = j // 10\n",
        "    data.loc[i] = [group, 1]\n",
        "  data_group = data.groupby(\"group_name\")[\"count\"].sum()\n",
        "  data_group = data_group.sort_index()\n",
        "  return data_group"
      ],
      "metadata": {
        "id": "LFut2JJYFJRr"
      },
      "execution_count": 91,
      "outputs": []
    },
    {
      "cell_type": "code",
      "source": [
        "count_customers(1000)"
      ],
      "metadata": {
        "colab": {
          "base_uri": "https://localhost:8080/"
        },
        "id": "0rHGRPeTH8EE",
        "outputId": "ed405765-8b88-45cf-d95f-851a214019a0"
      },
      "execution_count": 94,
      "outputs": [
        {
          "output_type": "execute_result",
          "data": {
            "text/plain": [
              "group_name\n",
              "0      1\n",
              "1      4\n",
              "2      6\n",
              "3     10\n",
              "4     15\n",
              "5     21\n",
              "6     28\n",
              "7     36\n",
              "8     45\n",
              "9     55\n",
              "10    63\n",
              "11    69\n",
              "12    73\n",
              "13    75\n",
              "14    75\n",
              "15    73\n",
              "16    69\n",
              "17    63\n",
              "18    55\n",
              "19    45\n",
              "20    36\n",
              "21    28\n",
              "22    21\n",
              "23    15\n",
              "24    10\n",
              "25     6\n",
              "26     3\n",
              "27     1\n",
              "Name: count, dtype: object"
            ]
          },
          "metadata": {},
          "execution_count": 94
        }
      ]
    },
    {
      "cell_type": "code",
      "source": [
        "#Функция для вывода числа клиетов в группах, начиная с n_first_id.\n",
        "import pandas as pd\n",
        "def count_customers_id(n_customers:int, n_first_id:int):\n",
        "  #count = 0\n",
        "  data = pd.DataFrame(columns = ['group_name', 'count']) \n",
        "  for i in range(n_first_id, n_first_id + n_customers + 1):\n",
        "    group = 0\n",
        "    j = i\n",
        "    while (j != 0):\n",
        "      group = group + j % 10\n",
        "      j = j // 10\n",
        "    data.loc[i] = [group, 1]\n",
        "  data_group = data.groupby(\"group_name\")[\"count\"].sum()\n",
        "  data_group = data_group.sort_index()\n",
        "  return data_group"
      ],
      "metadata": {
        "id": "deR5bJVFNbzN"
      },
      "execution_count": 112,
      "outputs": []
    },
    {
      "cell_type": "code",
      "source": [
        "count_customers_id(100, 123450)"
      ],
      "metadata": {
        "colab": {
          "base_uri": "https://localhost:8080/"
        },
        "id": "W88v65U6RePm",
        "outputId": "0d5dbc15-5596-47d6-89f5-f272533342b7"
      },
      "execution_count": 116,
      "outputs": [
        {
          "output_type": "execute_result",
          "data": {
            "text/plain": [
              "group_name\n",
              "11     1\n",
              "12     2\n",
              "13     3\n",
              "14     4\n",
              "15     6\n",
              "16     8\n",
              "17     8\n",
              "18     9\n",
              "19    10\n",
              "20    10\n",
              "21     9\n",
              "22     8\n",
              "23     7\n",
              "24     6\n",
              "25     4\n",
              "26     3\n",
              "27     2\n",
              "28     1\n",
              "Name: count, dtype: object"
            ]
          },
          "metadata": {},
          "execution_count": 116
        }
      ]
    },
    {
      "cell_type": "code",
      "source": [],
      "metadata": {
        "id": "gwm_WNu-Rnjl"
      },
      "execution_count": null,
      "outputs": []
    }
  ]
}