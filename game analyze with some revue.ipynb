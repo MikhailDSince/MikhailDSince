{
 "cells": [
  {
   "cell_type": "markdown",
   "metadata": {},
   "source": [
    "В данном проекте мы рассмотрим данные об компьютерных играх, их рейтингах и оценках пользователей и критиков. На основе этих данных необходимо определить закономерности для понимания успешности игры. Загрузим датасет и рассморти данные и их корректность. "
   ]
  },
  {
   "cell_type": "markdown",
   "metadata": {},
   "source": [
    "<h2> В данном проекте произвожу анализ таблиц. В первом этапе проекта произвожу очистку данных. Далее производится непосредственно анализ и определения закономерностей успешности игры.<a class=\"tocSkip\"><h2>"
   ]
  },
  {
   "cell_type": "code",
   "execution_count": 1,
   "metadata": {},
   "outputs": [],
   "source": [
    "import pandas as pd\n",
    "import numpy as np\n",
    "from scipy import stats as st\n",
    "import matplotlib.pyplot as plt"
   ]
  },
  {
   "cell_type": "code",
   "execution_count": 2,
   "metadata": {},
   "outputs": [],
   "source": [
    "data = pd.read_csv(\"/datasets/games.csv\")"
   ]
  },
  {
   "cell_type": "code",
   "execution_count": 3,
   "metadata": {},
   "outputs": [
    {
     "data": {
      "text/html": [
       "<div>\n",
       "<style scoped>\n",
       "    .dataframe tbody tr th:only-of-type {\n",
       "        vertical-align: middle;\n",
       "    }\n",
       "\n",
       "    .dataframe tbody tr th {\n",
       "        vertical-align: top;\n",
       "    }\n",
       "\n",
       "    .dataframe thead th {\n",
       "        text-align: right;\n",
       "    }\n",
       "</style>\n",
       "<table border=\"1\" class=\"dataframe\">\n",
       "  <thead>\n",
       "    <tr style=\"text-align: right;\">\n",
       "      <th></th>\n",
       "      <th>Name</th>\n",
       "      <th>Platform</th>\n",
       "      <th>Year_of_Release</th>\n",
       "      <th>Genre</th>\n",
       "      <th>NA_sales</th>\n",
       "      <th>EU_sales</th>\n",
       "      <th>JP_sales</th>\n",
       "      <th>Other_sales</th>\n",
       "      <th>Critic_Score</th>\n",
       "      <th>User_Score</th>\n",
       "      <th>Rating</th>\n",
       "    </tr>\n",
       "  </thead>\n",
       "  <tbody>\n",
       "    <tr>\n",
       "      <th>0</th>\n",
       "      <td>Wii Sports</td>\n",
       "      <td>Wii</td>\n",
       "      <td>2006.0</td>\n",
       "      <td>Sports</td>\n",
       "      <td>41.36</td>\n",
       "      <td>28.96</td>\n",
       "      <td>3.77</td>\n",
       "      <td>8.45</td>\n",
       "      <td>76.0</td>\n",
       "      <td>8</td>\n",
       "      <td>E</td>\n",
       "    </tr>\n",
       "    <tr>\n",
       "      <th>1</th>\n",
       "      <td>Super Mario Bros.</td>\n",
       "      <td>NES</td>\n",
       "      <td>1985.0</td>\n",
       "      <td>Platform</td>\n",
       "      <td>29.08</td>\n",
       "      <td>3.58</td>\n",
       "      <td>6.81</td>\n",
       "      <td>0.77</td>\n",
       "      <td>NaN</td>\n",
       "      <td>NaN</td>\n",
       "      <td>NaN</td>\n",
       "    </tr>\n",
       "    <tr>\n",
       "      <th>2</th>\n",
       "      <td>Mario Kart Wii</td>\n",
       "      <td>Wii</td>\n",
       "      <td>2008.0</td>\n",
       "      <td>Racing</td>\n",
       "      <td>15.68</td>\n",
       "      <td>12.76</td>\n",
       "      <td>3.79</td>\n",
       "      <td>3.29</td>\n",
       "      <td>82.0</td>\n",
       "      <td>8.3</td>\n",
       "      <td>E</td>\n",
       "    </tr>\n",
       "    <tr>\n",
       "      <th>3</th>\n",
       "      <td>Wii Sports Resort</td>\n",
       "      <td>Wii</td>\n",
       "      <td>2009.0</td>\n",
       "      <td>Sports</td>\n",
       "      <td>15.61</td>\n",
       "      <td>10.93</td>\n",
       "      <td>3.28</td>\n",
       "      <td>2.95</td>\n",
       "      <td>80.0</td>\n",
       "      <td>8</td>\n",
       "      <td>E</td>\n",
       "    </tr>\n",
       "    <tr>\n",
       "      <th>4</th>\n",
       "      <td>Pokemon Red/Pokemon Blue</td>\n",
       "      <td>GB</td>\n",
       "      <td>1996.0</td>\n",
       "      <td>Role-Playing</td>\n",
       "      <td>11.27</td>\n",
       "      <td>8.89</td>\n",
       "      <td>10.22</td>\n",
       "      <td>1.00</td>\n",
       "      <td>NaN</td>\n",
       "      <td>NaN</td>\n",
       "      <td>NaN</td>\n",
       "    </tr>\n",
       "    <tr>\n",
       "      <th>5</th>\n",
       "      <td>Tetris</td>\n",
       "      <td>GB</td>\n",
       "      <td>1989.0</td>\n",
       "      <td>Puzzle</td>\n",
       "      <td>23.20</td>\n",
       "      <td>2.26</td>\n",
       "      <td>4.22</td>\n",
       "      <td>0.58</td>\n",
       "      <td>NaN</td>\n",
       "      <td>NaN</td>\n",
       "      <td>NaN</td>\n",
       "    </tr>\n",
       "    <tr>\n",
       "      <th>6</th>\n",
       "      <td>New Super Mario Bros.</td>\n",
       "      <td>DS</td>\n",
       "      <td>2006.0</td>\n",
       "      <td>Platform</td>\n",
       "      <td>11.28</td>\n",
       "      <td>9.14</td>\n",
       "      <td>6.50</td>\n",
       "      <td>2.88</td>\n",
       "      <td>89.0</td>\n",
       "      <td>8.5</td>\n",
       "      <td>E</td>\n",
       "    </tr>\n",
       "    <tr>\n",
       "      <th>7</th>\n",
       "      <td>Wii Play</td>\n",
       "      <td>Wii</td>\n",
       "      <td>2006.0</td>\n",
       "      <td>Misc</td>\n",
       "      <td>13.96</td>\n",
       "      <td>9.18</td>\n",
       "      <td>2.93</td>\n",
       "      <td>2.84</td>\n",
       "      <td>58.0</td>\n",
       "      <td>6.6</td>\n",
       "      <td>E</td>\n",
       "    </tr>\n",
       "    <tr>\n",
       "      <th>8</th>\n",
       "      <td>New Super Mario Bros. Wii</td>\n",
       "      <td>Wii</td>\n",
       "      <td>2009.0</td>\n",
       "      <td>Platform</td>\n",
       "      <td>14.44</td>\n",
       "      <td>6.94</td>\n",
       "      <td>4.70</td>\n",
       "      <td>2.24</td>\n",
       "      <td>87.0</td>\n",
       "      <td>8.4</td>\n",
       "      <td>E</td>\n",
       "    </tr>\n",
       "    <tr>\n",
       "      <th>9</th>\n",
       "      <td>Duck Hunt</td>\n",
       "      <td>NES</td>\n",
       "      <td>1984.0</td>\n",
       "      <td>Shooter</td>\n",
       "      <td>26.93</td>\n",
       "      <td>0.63</td>\n",
       "      <td>0.28</td>\n",
       "      <td>0.47</td>\n",
       "      <td>NaN</td>\n",
       "      <td>NaN</td>\n",
       "      <td>NaN</td>\n",
       "    </tr>\n",
       "  </tbody>\n",
       "</table>\n",
       "</div>"
      ],
      "text/plain": [
       "                        Name Platform  Year_of_Release         Genre  \\\n",
       "0                 Wii Sports      Wii           2006.0        Sports   \n",
       "1          Super Mario Bros.      NES           1985.0      Platform   \n",
       "2             Mario Kart Wii      Wii           2008.0        Racing   \n",
       "3          Wii Sports Resort      Wii           2009.0        Sports   \n",
       "4   Pokemon Red/Pokemon Blue       GB           1996.0  Role-Playing   \n",
       "5                     Tetris       GB           1989.0        Puzzle   \n",
       "6      New Super Mario Bros.       DS           2006.0      Platform   \n",
       "7                   Wii Play      Wii           2006.0          Misc   \n",
       "8  New Super Mario Bros. Wii      Wii           2009.0      Platform   \n",
       "9                  Duck Hunt      NES           1984.0       Shooter   \n",
       "\n",
       "   NA_sales  EU_sales  JP_sales  Other_sales  Critic_Score User_Score Rating  \n",
       "0     41.36     28.96      3.77         8.45          76.0          8      E  \n",
       "1     29.08      3.58      6.81         0.77           NaN        NaN    NaN  \n",
       "2     15.68     12.76      3.79         3.29          82.0        8.3      E  \n",
       "3     15.61     10.93      3.28         2.95          80.0          8      E  \n",
       "4     11.27      8.89     10.22         1.00           NaN        NaN    NaN  \n",
       "5     23.20      2.26      4.22         0.58           NaN        NaN    NaN  \n",
       "6     11.28      9.14      6.50         2.88          89.0        8.5      E  \n",
       "7     13.96      9.18      2.93         2.84          58.0        6.6      E  \n",
       "8     14.44      6.94      4.70         2.24          87.0        8.4      E  \n",
       "9     26.93      0.63      0.28         0.47           NaN        NaN    NaN  "
      ]
     },
     "execution_count": 3,
     "metadata": {},
     "output_type": "execute_result"
    }
   ],
   "source": [
    "data.head(10)"
   ]
  },
  {
   "cell_type": "code",
   "execution_count": 4,
   "metadata": {},
   "outputs": [
    {
     "name": "stdout",
     "output_type": "stream",
     "text": [
      "<class 'pandas.core.frame.DataFrame'>\n",
      "RangeIndex: 16715 entries, 0 to 16714\n",
      "Data columns (total 11 columns):\n",
      " #   Column           Non-Null Count  Dtype  \n",
      "---  ------           --------------  -----  \n",
      " 0   Name             16713 non-null  object \n",
      " 1   Platform         16715 non-null  object \n",
      " 2   Year_of_Release  16446 non-null  float64\n",
      " 3   Genre            16713 non-null  object \n",
      " 4   NA_sales         16715 non-null  float64\n",
      " 5   EU_sales         16715 non-null  float64\n",
      " 6   JP_sales         16715 non-null  float64\n",
      " 7   Other_sales      16715 non-null  float64\n",
      " 8   Critic_Score     8137 non-null   float64\n",
      " 9   User_Score       10014 non-null  object \n",
      " 10  Rating           9949 non-null   object \n",
      "dtypes: float64(6), object(5)\n",
      "memory usage: 1.4+ MB\n"
     ]
    }
   ],
   "source": [
    "data.info()"
   ]
  },
  {
   "cell_type": "markdown",
   "metadata": {},
   "source": [
    "В данном датасете для начала необходимо привести названия всех столбцов к нижнему регистру. "
   ]
  },
  {
   "cell_type": "code",
   "execution_count": 5,
   "metadata": {},
   "outputs": [
    {
     "data": {
      "text/plain": [
       "Index(['Name', 'Platform', 'Year_of_Release', 'Genre', 'NA_sales', 'EU_sales',\n",
       "       'JP_sales', 'Other_sales', 'Critic_Score', 'User_Score', 'Rating'],\n",
       "      dtype='object')"
      ]
     },
     "execution_count": 5,
     "metadata": {},
     "output_type": "execute_result"
    }
   ],
   "source": [
    "data.columns"
   ]
  },
  {
   "cell_type": "code",
   "execution_count": 6,
   "metadata": {},
   "outputs": [],
   "source": [
    "data = data.rename(columns = {'Name':\"name\", 'Platform':\"platform\", 'Year_of_Release':'year_of_release', \"Genre\":\"genre\", 'NA_sales':'na_sales', \n",
    "                              'EU_sales':'eu_sales', 'JP_sales':'jp_sales', 'Other_sales':'other_sales', 'Critic_Score':'critic_score',\n",
    "                             'User_Score': 'user_score', 'Rating':'rating'})"
   ]
  },
  {
   "cell_type": "code",
   "execution_count": 7,
   "metadata": {},
   "outputs": [
    {
     "data": {
      "text/plain": [
       "Index(['name', 'platform', 'year_of_release', 'genre', 'na_sales', 'eu_sales',\n",
       "       'jp_sales', 'other_sales', 'critic_score', 'user_score', 'rating'],\n",
       "      dtype='object')"
      ]
     },
     "execution_count": 7,
     "metadata": {},
     "output_type": "execute_result"
    }
   ],
   "source": [
    "data.columns"
   ]
  },
  {
   "cell_type": "markdown",
   "metadata": {},
   "source": [
    "Теперь рассмотрю какие в данных есть пропуски, нулевые значения, их природу и проанализирую необходимость заменить их."
   ]
  },
  {
   "cell_type": "code",
   "execution_count": 8,
   "metadata": {},
   "outputs": [
    {
     "data": {
      "text/plain": [
       "name                  2\n",
       "platform              0\n",
       "year_of_release     269\n",
       "genre                 2\n",
       "na_sales              0\n",
       "eu_sales              0\n",
       "jp_sales              0\n",
       "other_sales           0\n",
       "critic_score       8578\n",
       "user_score         6701\n",
       "rating             6766\n",
       "dtype: int64"
      ]
     },
     "execution_count": 8,
     "metadata": {},
     "output_type": "execute_result"
    }
   ],
   "source": [
    "data.isna().sum()"
   ]
  },
  {
   "cell_type": "markdown",
   "metadata": {},
   "source": [
    "Строки с пропущенным именем не дадут нам никакой значимой информации, пожтому считаю необходимым их удалить"
   ]
  },
  {
   "cell_type": "code",
   "execution_count": 9,
   "metadata": {},
   "outputs": [],
   "source": [
    "data = data.dropna(subset = [\"name\"])"
   ]
  },
  {
   "cell_type": "markdown",
   "metadata": {},
   "source": [
    "Пропущенные данные в столбце year_of_release могут быть пропущены из-за ошибки сотруднка, заполняющего данные. Посчитаем какую часть строки с пропущенными данными составляют от всех данных в таблице."
   ]
  },
  {
   "cell_type": "code",
   "execution_count": 10,
   "metadata": {},
   "outputs": [
    {
     "data": {
      "text/plain": [
       "0.016095255190570215"
      ]
     },
     "execution_count": 10,
     "metadata": {},
     "output_type": "execute_result"
    }
   ],
   "source": [
    "data[\"year_of_release\"].isna().sum()/len(data)"
   ]
  },
  {
   "cell_type": "markdown",
   "metadata": {},
   "source": [
    "Пропущенные данные в столбце года релиза составляют всего 1.6 процента от общего обьема данных. Таким образом считаю необходимым удалить эти данные, так как из-за их малого обьема влияние на общую картину будет минимальным."
   ]
  },
  {
   "cell_type": "code",
   "execution_count": 11,
   "metadata": {},
   "outputs": [],
   "source": [
    "data = data.dropna(subset = [\"year_of_release\"])"
   ]
  },
  {
   "cell_type": "markdown",
   "metadata": {},
   "source": [
    "Данные в столбцах critic_score и user_score считаю необходимым заполнить медианой, так как медианные значения не сдвинут распределение величин в этих столбцах в какую-либо сторону к макимуму или минимуму. В столбце user_score присутствуют значения tbd - to be determined, не определен. Считаю необходимым заменить эти значения также на медиану"
   ]
  },
  {
   "cell_type": "code",
   "execution_count": 12,
   "metadata": {},
   "outputs": [
    {
     "data": {
      "text/plain": [
       "array(['8', nan, '8.3', '8.5', '6.6', '8.4', '8.6', '7.7', '6.3', '7.4',\n",
       "       '8.2', '9', '7.9', '8.1', '8.7', '7.1', '3.4', '5.3', '4.8', '3.2',\n",
       "       '8.9', '6.4', '7.8', '7.5', '2.6', '7.2', '9.2', '7', '7.3', '4.3',\n",
       "       '7.6', '5.7', '5', '9.1', '6.5', 'tbd', '8.8', '6.9', '9.4', '6.8',\n",
       "       '6.1', '6.7', '5.4', '4', '4.9', '4.5', '9.3', '6.2', '4.2', '6',\n",
       "       '3.7', '4.1', '5.8', '5.6', '5.5', '4.4', '4.6', '5.9', '3.9',\n",
       "       '3.1', '2.9', '5.2', '3.3', '4.7', '5.1', '3.5', '2.5', '1.9', '3',\n",
       "       '2.7', '2.2', '2', '9.5', '2.1', '3.6', '2.8', '1.8', '3.8', '0',\n",
       "       '1.6', '9.6', '2.4', '1.7', '1.1', '0.3', '1.5', '0.7', '1.2',\n",
       "       '2.3', '0.5', '1.3', '0.2', '0.6', '1.4', '0.9', '1', '9.7'],\n",
       "      dtype=object)"
      ]
     },
     "execution_count": 12,
     "metadata": {},
     "output_type": "execute_result"
    }
   ],
   "source": [
    "data[\"user_score\"].unique()"
   ]
  },
  {
   "cell_type": "code",
   "execution_count": 13,
   "metadata": {},
   "outputs": [],
   "source": [
    "data.loc[data[\"user_score\"] == \"tbd\", \"user_score\"] = np.nan"
   ]
  },
  {
   "cell_type": "code",
   "execution_count": 14,
   "metadata": {},
   "outputs": [],
   "source": [
    "data[\"user_score\"] = data[\"user_score\"].fillna(-1)\n",
    "data[\"critic_score\"] = data[\"critic_score\"].fillna(-1)"
   ]
  },
  {
   "cell_type": "markdown",
   "metadata": {},
   "source": [
    "В столбце rating считаю необходщимым заменить 0 значения на RP, так как рейтинга в этих столбцах нет скорее всего потому что он еще ожидается."
   ]
  },
  {
   "cell_type": "code",
   "execution_count": 15,
   "metadata": {},
   "outputs": [],
   "source": [
    "data.loc[data[\"rating\"] == \"RP\", \"rating\"] == np.nan\n",
    "data[\"rating\"] = data[\"rating\"].fillna(\"Unknown\")"
   ]
  },
  {
   "cell_type": "markdown",
   "metadata": {},
   "source": [
    "<div class=\"alert alert-info\"> <b>Комментарий студента:</b> \n",
    "    Согласен с вашим замечанием, заменим пропуски в столбцах с рейтингом критиков и пользователей значением-заглушкой -1 для того чтобы не смещать значения в этих столбцах. При анализе данных в этих столбцах, значения столбцов с -1 не будем учитывать. В столбце с возрастным рейтингом заменим все нулевые значения на Unknown. Также значения RP тоже заменим на значения Unknown, для более правильного учета значений\n",
    " </div>"
   ]
  },
  {
   "cell_type": "markdown",
   "metadata": {},
   "source": [
    "<div class=\"alert alert-success\">\n",
    "<h2> Комментарий ревьюера v.2<a class=\"tocSkip\"> </h2>\n",
    "\n",
    "<b>Все отлично!👍:</b> \n",
    "    \n",
    "Согласен с такой обработкой\n",
    "</div>"
   ]
  },
  {
   "cell_type": "code",
   "execution_count": 16,
   "metadata": {},
   "outputs": [
    {
     "data": {
      "text/plain": [
       "name               0\n",
       "platform           0\n",
       "year_of_release    0\n",
       "genre              0\n",
       "na_sales           0\n",
       "eu_sales           0\n",
       "jp_sales           0\n",
       "other_sales        0\n",
       "critic_score       0\n",
       "user_score         0\n",
       "rating             0\n",
       "dtype: int64"
      ]
     },
     "execution_count": 16,
     "metadata": {},
     "output_type": "execute_result"
    }
   ],
   "source": [
    "data.isna().sum()"
   ]
  },
  {
   "cell_type": "markdown",
   "metadata": {},
   "source": [
    "Таким образом все 0 значения из таблицы были заменены. Теперь заменим тип значений в некоторых столбцах. В столбце year_of_release заменим тип на int, так как в столбце содержится только год и все подсчеты можно производить в столбце с типом int, в столбце critic_score заменим тип на int, так как в нем только целочисленные значения."
   ]
  },
  {
   "cell_type": "code",
   "execution_count": 17,
   "metadata": {},
   "outputs": [],
   "source": [
    "data[\"year_of_release\"] = data[\"year_of_release\"].astype(\"int\")\n",
    "data[\"critic_score\"] = data[\"critic_score\"].astype(\"int\")\n",
    "data[\"user_score\"] = data[\"user_score\"].astype(\"float\")"
   ]
  },
  {
   "cell_type": "markdown",
   "metadata": {},
   "source": [
    "Также рассмотрим явные дубликаты в датасете"
   ]
  },
  {
   "cell_type": "code",
   "execution_count": 18,
   "metadata": {},
   "outputs": [
    {
     "data": {
      "text/plain": [
       "0"
      ]
     },
     "execution_count": 18,
     "metadata": {},
     "output_type": "execute_result"
    }
   ],
   "source": [
    "data.duplicated().sum()"
   ]
  },
  {
   "cell_type": "markdown",
   "metadata": {},
   "source": [
    "Явных дубликатов в датасете нет. Все преобразования с данными сделаны и даны приведены к приемлемому виду, теперь создадим столбец с суммарными продажами по всем регионам для каждой игры."
   ]
  },
  {
   "cell_type": "code",
   "execution_count": 19,
   "metadata": {},
   "outputs": [],
   "source": [
    "def sum_sales(row):\n",
    "    return row[\"na_sales\"] + row[\"eu_sales\"] + row[\"jp_sales\"] + row[\"other_sales\"]"
   ]
  },
  {
   "cell_type": "code",
   "execution_count": 20,
   "metadata": {},
   "outputs": [
    {
     "data": {
      "text/html": [
       "<div>\n",
       "<style scoped>\n",
       "    .dataframe tbody tr th:only-of-type {\n",
       "        vertical-align: middle;\n",
       "    }\n",
       "\n",
       "    .dataframe tbody tr th {\n",
       "        vertical-align: top;\n",
       "    }\n",
       "\n",
       "    .dataframe thead th {\n",
       "        text-align: right;\n",
       "    }\n",
       "</style>\n",
       "<table border=\"1\" class=\"dataframe\">\n",
       "  <thead>\n",
       "    <tr style=\"text-align: right;\">\n",
       "      <th></th>\n",
       "      <th>name</th>\n",
       "      <th>platform</th>\n",
       "      <th>year_of_release</th>\n",
       "      <th>genre</th>\n",
       "      <th>na_sales</th>\n",
       "      <th>eu_sales</th>\n",
       "      <th>jp_sales</th>\n",
       "      <th>other_sales</th>\n",
       "      <th>critic_score</th>\n",
       "      <th>user_score</th>\n",
       "      <th>rating</th>\n",
       "    </tr>\n",
       "  </thead>\n",
       "  <tbody>\n",
       "    <tr>\n",
       "      <th>0</th>\n",
       "      <td>Wii Sports</td>\n",
       "      <td>Wii</td>\n",
       "      <td>2006</td>\n",
       "      <td>Sports</td>\n",
       "      <td>41.36</td>\n",
       "      <td>28.96</td>\n",
       "      <td>3.77</td>\n",
       "      <td>8.45</td>\n",
       "      <td>76</td>\n",
       "      <td>8.0</td>\n",
       "      <td>E</td>\n",
       "    </tr>\n",
       "    <tr>\n",
       "      <th>1</th>\n",
       "      <td>Super Mario Bros.</td>\n",
       "      <td>NES</td>\n",
       "      <td>1985</td>\n",
       "      <td>Platform</td>\n",
       "      <td>29.08</td>\n",
       "      <td>3.58</td>\n",
       "      <td>6.81</td>\n",
       "      <td>0.77</td>\n",
       "      <td>-1</td>\n",
       "      <td>-1.0</td>\n",
       "      <td>Unknown</td>\n",
       "    </tr>\n",
       "    <tr>\n",
       "      <th>2</th>\n",
       "      <td>Mario Kart Wii</td>\n",
       "      <td>Wii</td>\n",
       "      <td>2008</td>\n",
       "      <td>Racing</td>\n",
       "      <td>15.68</td>\n",
       "      <td>12.76</td>\n",
       "      <td>3.79</td>\n",
       "      <td>3.29</td>\n",
       "      <td>82</td>\n",
       "      <td>8.3</td>\n",
       "      <td>E</td>\n",
       "    </tr>\n",
       "    <tr>\n",
       "      <th>3</th>\n",
       "      <td>Wii Sports Resort</td>\n",
       "      <td>Wii</td>\n",
       "      <td>2009</td>\n",
       "      <td>Sports</td>\n",
       "      <td>15.61</td>\n",
       "      <td>10.93</td>\n",
       "      <td>3.28</td>\n",
       "      <td>2.95</td>\n",
       "      <td>80</td>\n",
       "      <td>8.0</td>\n",
       "      <td>E</td>\n",
       "    </tr>\n",
       "    <tr>\n",
       "      <th>4</th>\n",
       "      <td>Pokemon Red/Pokemon Blue</td>\n",
       "      <td>GB</td>\n",
       "      <td>1996</td>\n",
       "      <td>Role-Playing</td>\n",
       "      <td>11.27</td>\n",
       "      <td>8.89</td>\n",
       "      <td>10.22</td>\n",
       "      <td>1.00</td>\n",
       "      <td>-1</td>\n",
       "      <td>-1.0</td>\n",
       "      <td>Unknown</td>\n",
       "    </tr>\n",
       "    <tr>\n",
       "      <th>...</th>\n",
       "      <td>...</td>\n",
       "      <td>...</td>\n",
       "      <td>...</td>\n",
       "      <td>...</td>\n",
       "      <td>...</td>\n",
       "      <td>...</td>\n",
       "      <td>...</td>\n",
       "      <td>...</td>\n",
       "      <td>...</td>\n",
       "      <td>...</td>\n",
       "      <td>...</td>\n",
       "    </tr>\n",
       "    <tr>\n",
       "      <th>16710</th>\n",
       "      <td>Samurai Warriors: Sanada Maru</td>\n",
       "      <td>PS3</td>\n",
       "      <td>2016</td>\n",
       "      <td>Action</td>\n",
       "      <td>0.00</td>\n",
       "      <td>0.00</td>\n",
       "      <td>0.01</td>\n",
       "      <td>0.00</td>\n",
       "      <td>-1</td>\n",
       "      <td>-1.0</td>\n",
       "      <td>Unknown</td>\n",
       "    </tr>\n",
       "    <tr>\n",
       "      <th>16711</th>\n",
       "      <td>LMA Manager 2007</td>\n",
       "      <td>X360</td>\n",
       "      <td>2006</td>\n",
       "      <td>Sports</td>\n",
       "      <td>0.00</td>\n",
       "      <td>0.01</td>\n",
       "      <td>0.00</td>\n",
       "      <td>0.00</td>\n",
       "      <td>-1</td>\n",
       "      <td>-1.0</td>\n",
       "      <td>Unknown</td>\n",
       "    </tr>\n",
       "    <tr>\n",
       "      <th>16712</th>\n",
       "      <td>Haitaka no Psychedelica</td>\n",
       "      <td>PSV</td>\n",
       "      <td>2016</td>\n",
       "      <td>Adventure</td>\n",
       "      <td>0.00</td>\n",
       "      <td>0.00</td>\n",
       "      <td>0.01</td>\n",
       "      <td>0.00</td>\n",
       "      <td>-1</td>\n",
       "      <td>-1.0</td>\n",
       "      <td>Unknown</td>\n",
       "    </tr>\n",
       "    <tr>\n",
       "      <th>16713</th>\n",
       "      <td>Spirits &amp; Spells</td>\n",
       "      <td>GBA</td>\n",
       "      <td>2003</td>\n",
       "      <td>Platform</td>\n",
       "      <td>0.01</td>\n",
       "      <td>0.00</td>\n",
       "      <td>0.00</td>\n",
       "      <td>0.00</td>\n",
       "      <td>-1</td>\n",
       "      <td>-1.0</td>\n",
       "      <td>Unknown</td>\n",
       "    </tr>\n",
       "    <tr>\n",
       "      <th>16714</th>\n",
       "      <td>Winning Post 8 2016</td>\n",
       "      <td>PSV</td>\n",
       "      <td>2016</td>\n",
       "      <td>Simulation</td>\n",
       "      <td>0.00</td>\n",
       "      <td>0.00</td>\n",
       "      <td>0.01</td>\n",
       "      <td>0.00</td>\n",
       "      <td>-1</td>\n",
       "      <td>-1.0</td>\n",
       "      <td>Unknown</td>\n",
       "    </tr>\n",
       "  </tbody>\n",
       "</table>\n",
       "<p>16444 rows × 11 columns</p>\n",
       "</div>"
      ],
      "text/plain": [
       "                                name platform  year_of_release         genre  \\\n",
       "0                         Wii Sports      Wii             2006        Sports   \n",
       "1                  Super Mario Bros.      NES             1985      Platform   \n",
       "2                     Mario Kart Wii      Wii             2008        Racing   \n",
       "3                  Wii Sports Resort      Wii             2009        Sports   \n",
       "4           Pokemon Red/Pokemon Blue       GB             1996  Role-Playing   \n",
       "...                              ...      ...              ...           ...   \n",
       "16710  Samurai Warriors: Sanada Maru      PS3             2016        Action   \n",
       "16711               LMA Manager 2007     X360             2006        Sports   \n",
       "16712        Haitaka no Psychedelica      PSV             2016     Adventure   \n",
       "16713               Spirits & Spells      GBA             2003      Platform   \n",
       "16714            Winning Post 8 2016      PSV             2016    Simulation   \n",
       "\n",
       "       na_sales  eu_sales  jp_sales  other_sales  critic_score  user_score  \\\n",
       "0         41.36     28.96      3.77         8.45            76         8.0   \n",
       "1         29.08      3.58      6.81         0.77            -1        -1.0   \n",
       "2         15.68     12.76      3.79         3.29            82         8.3   \n",
       "3         15.61     10.93      3.28         2.95            80         8.0   \n",
       "4         11.27      8.89     10.22         1.00            -1        -1.0   \n",
       "...         ...       ...       ...          ...           ...         ...   \n",
       "16710      0.00      0.00      0.01         0.00            -1        -1.0   \n",
       "16711      0.00      0.01      0.00         0.00            -1        -1.0   \n",
       "16712      0.00      0.00      0.01         0.00            -1        -1.0   \n",
       "16713      0.01      0.00      0.00         0.00            -1        -1.0   \n",
       "16714      0.00      0.00      0.01         0.00            -1        -1.0   \n",
       "\n",
       "        rating  \n",
       "0            E  \n",
       "1      Unknown  \n",
       "2            E  \n",
       "3            E  \n",
       "4      Unknown  \n",
       "...        ...  \n",
       "16710  Unknown  \n",
       "16711  Unknown  \n",
       "16712  Unknown  \n",
       "16713  Unknown  \n",
       "16714  Unknown  \n",
       "\n",
       "[16444 rows x 11 columns]"
      ]
     },
     "execution_count": 20,
     "metadata": {},
     "output_type": "execute_result"
    }
   ],
   "source": [
    "data"
   ]
  },
  {
   "cell_type": "code",
   "execution_count": 21,
   "metadata": {},
   "outputs": [],
   "source": [
    "data[\"sum_sales\"] = data.apply(sum_sales, axis = 1)"
   ]
  },
  {
   "cell_type": "markdown",
   "metadata": {},
   "source": [
    "Итоговая таблица:"
   ]
  },
  {
   "cell_type": "code",
   "execution_count": 22,
   "metadata": {},
   "outputs": [
    {
     "data": {
      "text/html": [
       "<div>\n",
       "<style scoped>\n",
       "    .dataframe tbody tr th:only-of-type {\n",
       "        vertical-align: middle;\n",
       "    }\n",
       "\n",
       "    .dataframe tbody tr th {\n",
       "        vertical-align: top;\n",
       "    }\n",
       "\n",
       "    .dataframe thead th {\n",
       "        text-align: right;\n",
       "    }\n",
       "</style>\n",
       "<table border=\"1\" class=\"dataframe\">\n",
       "  <thead>\n",
       "    <tr style=\"text-align: right;\">\n",
       "      <th></th>\n",
       "      <th>name</th>\n",
       "      <th>platform</th>\n",
       "      <th>year_of_release</th>\n",
       "      <th>genre</th>\n",
       "      <th>na_sales</th>\n",
       "      <th>eu_sales</th>\n",
       "      <th>jp_sales</th>\n",
       "      <th>other_sales</th>\n",
       "      <th>critic_score</th>\n",
       "      <th>user_score</th>\n",
       "      <th>rating</th>\n",
       "      <th>sum_sales</th>\n",
       "    </tr>\n",
       "  </thead>\n",
       "  <tbody>\n",
       "    <tr>\n",
       "      <th>0</th>\n",
       "      <td>Wii Sports</td>\n",
       "      <td>Wii</td>\n",
       "      <td>2006</td>\n",
       "      <td>Sports</td>\n",
       "      <td>41.36</td>\n",
       "      <td>28.96</td>\n",
       "      <td>3.77</td>\n",
       "      <td>8.45</td>\n",
       "      <td>76</td>\n",
       "      <td>8.0</td>\n",
       "      <td>E</td>\n",
       "      <td>82.54</td>\n",
       "    </tr>\n",
       "    <tr>\n",
       "      <th>1</th>\n",
       "      <td>Super Mario Bros.</td>\n",
       "      <td>NES</td>\n",
       "      <td>1985</td>\n",
       "      <td>Platform</td>\n",
       "      <td>29.08</td>\n",
       "      <td>3.58</td>\n",
       "      <td>6.81</td>\n",
       "      <td>0.77</td>\n",
       "      <td>-1</td>\n",
       "      <td>-1.0</td>\n",
       "      <td>Unknown</td>\n",
       "      <td>40.24</td>\n",
       "    </tr>\n",
       "    <tr>\n",
       "      <th>2</th>\n",
       "      <td>Mario Kart Wii</td>\n",
       "      <td>Wii</td>\n",
       "      <td>2008</td>\n",
       "      <td>Racing</td>\n",
       "      <td>15.68</td>\n",
       "      <td>12.76</td>\n",
       "      <td>3.79</td>\n",
       "      <td>3.29</td>\n",
       "      <td>82</td>\n",
       "      <td>8.3</td>\n",
       "      <td>E</td>\n",
       "      <td>35.52</td>\n",
       "    </tr>\n",
       "    <tr>\n",
       "      <th>3</th>\n",
       "      <td>Wii Sports Resort</td>\n",
       "      <td>Wii</td>\n",
       "      <td>2009</td>\n",
       "      <td>Sports</td>\n",
       "      <td>15.61</td>\n",
       "      <td>10.93</td>\n",
       "      <td>3.28</td>\n",
       "      <td>2.95</td>\n",
       "      <td>80</td>\n",
       "      <td>8.0</td>\n",
       "      <td>E</td>\n",
       "      <td>32.77</td>\n",
       "    </tr>\n",
       "    <tr>\n",
       "      <th>4</th>\n",
       "      <td>Pokemon Red/Pokemon Blue</td>\n",
       "      <td>GB</td>\n",
       "      <td>1996</td>\n",
       "      <td>Role-Playing</td>\n",
       "      <td>11.27</td>\n",
       "      <td>8.89</td>\n",
       "      <td>10.22</td>\n",
       "      <td>1.00</td>\n",
       "      <td>-1</td>\n",
       "      <td>-1.0</td>\n",
       "      <td>Unknown</td>\n",
       "      <td>31.38</td>\n",
       "    </tr>\n",
       "    <tr>\n",
       "      <th>...</th>\n",
       "      <td>...</td>\n",
       "      <td>...</td>\n",
       "      <td>...</td>\n",
       "      <td>...</td>\n",
       "      <td>...</td>\n",
       "      <td>...</td>\n",
       "      <td>...</td>\n",
       "      <td>...</td>\n",
       "      <td>...</td>\n",
       "      <td>...</td>\n",
       "      <td>...</td>\n",
       "      <td>...</td>\n",
       "    </tr>\n",
       "    <tr>\n",
       "      <th>16710</th>\n",
       "      <td>Samurai Warriors: Sanada Maru</td>\n",
       "      <td>PS3</td>\n",
       "      <td>2016</td>\n",
       "      <td>Action</td>\n",
       "      <td>0.00</td>\n",
       "      <td>0.00</td>\n",
       "      <td>0.01</td>\n",
       "      <td>0.00</td>\n",
       "      <td>-1</td>\n",
       "      <td>-1.0</td>\n",
       "      <td>Unknown</td>\n",
       "      <td>0.01</td>\n",
       "    </tr>\n",
       "    <tr>\n",
       "      <th>16711</th>\n",
       "      <td>LMA Manager 2007</td>\n",
       "      <td>X360</td>\n",
       "      <td>2006</td>\n",
       "      <td>Sports</td>\n",
       "      <td>0.00</td>\n",
       "      <td>0.01</td>\n",
       "      <td>0.00</td>\n",
       "      <td>0.00</td>\n",
       "      <td>-1</td>\n",
       "      <td>-1.0</td>\n",
       "      <td>Unknown</td>\n",
       "      <td>0.01</td>\n",
       "    </tr>\n",
       "    <tr>\n",
       "      <th>16712</th>\n",
       "      <td>Haitaka no Psychedelica</td>\n",
       "      <td>PSV</td>\n",
       "      <td>2016</td>\n",
       "      <td>Adventure</td>\n",
       "      <td>0.00</td>\n",
       "      <td>0.00</td>\n",
       "      <td>0.01</td>\n",
       "      <td>0.00</td>\n",
       "      <td>-1</td>\n",
       "      <td>-1.0</td>\n",
       "      <td>Unknown</td>\n",
       "      <td>0.01</td>\n",
       "    </tr>\n",
       "    <tr>\n",
       "      <th>16713</th>\n",
       "      <td>Spirits &amp; Spells</td>\n",
       "      <td>GBA</td>\n",
       "      <td>2003</td>\n",
       "      <td>Platform</td>\n",
       "      <td>0.01</td>\n",
       "      <td>0.00</td>\n",
       "      <td>0.00</td>\n",
       "      <td>0.00</td>\n",
       "      <td>-1</td>\n",
       "      <td>-1.0</td>\n",
       "      <td>Unknown</td>\n",
       "      <td>0.01</td>\n",
       "    </tr>\n",
       "    <tr>\n",
       "      <th>16714</th>\n",
       "      <td>Winning Post 8 2016</td>\n",
       "      <td>PSV</td>\n",
       "      <td>2016</td>\n",
       "      <td>Simulation</td>\n",
       "      <td>0.00</td>\n",
       "      <td>0.00</td>\n",
       "      <td>0.01</td>\n",
       "      <td>0.00</td>\n",
       "      <td>-1</td>\n",
       "      <td>-1.0</td>\n",
       "      <td>Unknown</td>\n",
       "      <td>0.01</td>\n",
       "    </tr>\n",
       "  </tbody>\n",
       "</table>\n",
       "<p>16444 rows × 12 columns</p>\n",
       "</div>"
      ],
      "text/plain": [
       "                                name platform  year_of_release         genre  \\\n",
       "0                         Wii Sports      Wii             2006        Sports   \n",
       "1                  Super Mario Bros.      NES             1985      Platform   \n",
       "2                     Mario Kart Wii      Wii             2008        Racing   \n",
       "3                  Wii Sports Resort      Wii             2009        Sports   \n",
       "4           Pokemon Red/Pokemon Blue       GB             1996  Role-Playing   \n",
       "...                              ...      ...              ...           ...   \n",
       "16710  Samurai Warriors: Sanada Maru      PS3             2016        Action   \n",
       "16711               LMA Manager 2007     X360             2006        Sports   \n",
       "16712        Haitaka no Psychedelica      PSV             2016     Adventure   \n",
       "16713               Spirits & Spells      GBA             2003      Platform   \n",
       "16714            Winning Post 8 2016      PSV             2016    Simulation   \n",
       "\n",
       "       na_sales  eu_sales  jp_sales  other_sales  critic_score  user_score  \\\n",
       "0         41.36     28.96      3.77         8.45            76         8.0   \n",
       "1         29.08      3.58      6.81         0.77            -1        -1.0   \n",
       "2         15.68     12.76      3.79         3.29            82         8.3   \n",
       "3         15.61     10.93      3.28         2.95            80         8.0   \n",
       "4         11.27      8.89     10.22         1.00            -1        -1.0   \n",
       "...         ...       ...       ...          ...           ...         ...   \n",
       "16710      0.00      0.00      0.01         0.00            -1        -1.0   \n",
       "16711      0.00      0.01      0.00         0.00            -1        -1.0   \n",
       "16712      0.00      0.00      0.01         0.00            -1        -1.0   \n",
       "16713      0.01      0.00      0.00         0.00            -1        -1.0   \n",
       "16714      0.00      0.00      0.01         0.00            -1        -1.0   \n",
       "\n",
       "        rating  sum_sales  \n",
       "0            E      82.54  \n",
       "1      Unknown      40.24  \n",
       "2            E      35.52  \n",
       "3            E      32.77  \n",
       "4      Unknown      31.38  \n",
       "...        ...        ...  \n",
       "16710  Unknown       0.01  \n",
       "16711  Unknown       0.01  \n",
       "16712  Unknown       0.01  \n",
       "16713  Unknown       0.01  \n",
       "16714  Unknown       0.01  \n",
       "\n",
       "[16444 rows x 12 columns]"
      ]
     },
     "execution_count": 22,
     "metadata": {},
     "output_type": "execute_result"
    }
   ],
   "source": [
    "data"
   ]
  },
  {
   "cell_type": "markdown",
   "metadata": {},
   "source": [
    "Предобработку данных считаю законченной, приступим к исследовательскому анализу данных"
   ]
  },
  {
   "cell_type": "markdown",
   "metadata": {},
   "source": [
    "Рассмотрим распределение количества игр по годам и определим все ли периоды важны для прогноза продаж игр на 2017 год."
   ]
  },
  {
   "cell_type": "code",
   "execution_count": 23,
   "metadata": {},
   "outputs": [
    {
     "data": {
      "text/plain": [
       "array([[<AxesSubplot:title={'center':'year_of_release'}>]], dtype=object)"
      ]
     },
     "execution_count": 23,
     "metadata": {},
     "output_type": "execute_result"
    },
    {
     "data": {
      "image/png": "[encoded data removed]",
      "text/plain": [
       "<Figure size 432x288 with 1 Axes>"
      ]
     },
     "metadata": {
      "needs_background": "light"
     },
     "output_type": "display_data"
    }
   ],
   "source": [
    "data.hist(\"year_of_release\", bins = 100)"
   ]
  },
  {
   "cell_type": "code",
   "execution_count": 24,
   "metadata": {},
   "outputs": [
    {
     "data": {
      "text/plain": [
       "count    16444.000000\n",
       "mean      2006.486256\n",
       "std          5.875525\n",
       "min       1980.000000\n",
       "25%       2003.000000\n",
       "50%       2007.000000\n",
       "75%       2010.000000\n",
       "max       2016.000000\n",
       "Name: year_of_release, dtype: float64"
      ]
     },
     "execution_count": 24,
     "metadata": {},
     "output_type": "execute_result"
    }
   ],
   "source": [
    "data[\"year_of_release\"].describe()"
   ]
  },
  {
   "cell_type": "code",
   "execution_count": 25,
   "metadata": {},
   "outputs": [
    {
     "data": {
      "text/plain": [
       "1988.8596808453128"
      ]
     },
     "execution_count": 25,
     "metadata": {},
     "output_type": "execute_result"
    }
   ],
   "source": [
    "data[\"year_of_release\"].mean() - 3*data[\"year_of_release\"].std()"
   ]
  },
  {
   "cell_type": "code",
   "execution_count": 26,
   "metadata": {},
   "outputs": [
    {
     "data": {
      "text/plain": [
       "2024.1128319253028"
      ]
     },
     "execution_count": 26,
     "metadata": {},
     "output_type": "execute_result"
    }
   ],
   "source": [
    "data[\"year_of_release\"].mean() + 3*data[\"year_of_release\"].std()"
   ]
  },
  {
   "cell_type": "markdown",
   "metadata": {},
   "source": [
    "По графику видно, что наибольшое количество игр выпускалось в 2006, 2007 годах. Распределение скошено влево, имееются выбросы, по правилу 3 сигм выбросами являются игры выпущенные до 1989 года. "
   ]
  },
  {
   "cell_type": "code",
   "execution_count": 27,
   "metadata": {},
   "outputs": [],
   "source": [
    "top_platform = data.pivot_table(index = \"platform\", values = \"sum_sales\", aggfunc = \"sum\")"
   ]
  },
  {
   "cell_type": "code",
   "execution_count": 28,
   "metadata": {},
   "outputs": [
    {
     "data": {
      "text/html": [
       "<div>\n",
       "<style scoped>\n",
       "    .dataframe tbody tr th:only-of-type {\n",
       "        vertical-align: middle;\n",
       "    }\n",
       "\n",
       "    .dataframe tbody tr th {\n",
       "        vertical-align: top;\n",
       "    }\n",
       "\n",
       "    .dataframe thead th {\n",
       "        text-align: right;\n",
       "    }\n",
       "</style>\n",
       "<table border=\"1\" class=\"dataframe\">\n",
       "  <thead>\n",
       "    <tr style=\"text-align: right;\">\n",
       "      <th></th>\n",
       "      <th>sum_sales</th>\n",
       "    </tr>\n",
       "    <tr>\n",
       "      <th>platform</th>\n",
       "      <th></th>\n",
       "    </tr>\n",
       "  </thead>\n",
       "  <tbody>\n",
       "    <tr>\n",
       "      <th>PS2</th>\n",
       "      <td>1233.56</td>\n",
       "    </tr>\n",
       "    <tr>\n",
       "      <th>X360</th>\n",
       "      <td>961.24</td>\n",
       "    </tr>\n",
       "    <tr>\n",
       "      <th>PS3</th>\n",
       "      <td>931.34</td>\n",
       "    </tr>\n",
       "    <tr>\n",
       "      <th>Wii</th>\n",
       "      <td>891.18</td>\n",
       "    </tr>\n",
       "    <tr>\n",
       "      <th>DS</th>\n",
       "      <td>802.78</td>\n",
       "    </tr>\n",
       "  </tbody>\n",
       "</table>\n",
       "</div>"
      ],
      "text/plain": [
       "          sum_sales\n",
       "platform           \n",
       "PS2         1233.56\n",
       "X360         961.24\n",
       "PS3          931.34\n",
       "Wii          891.18\n",
       "DS           802.78"
      ]
     },
     "execution_count": 28,
     "metadata": {},
     "output_type": "execute_result"
    }
   ],
   "source": [
    "top_platform.sort_values(by = \"sum_sales\", ascending = False).head(5)"
   ]
  },
  {
   "cell_type": "markdown",
   "metadata": {},
   "source": [
    "Для получения распределения и срока исчезновения старых платформ возьмем топ-5 платформ по продажам и посмотрим их распределение по годам."
   ]
  },
  {
   "cell_type": "code",
   "execution_count": 29,
   "metadata": {},
   "outputs": [],
   "source": [
    "sales_to_year = data.pivot_table(index = \"year_of_release\", columns = \"platform\", values = \"sum_sales\", aggfunc = \"sum\")"
   ]
  },
  {
   "cell_type": "code",
   "execution_count": 30,
   "metadata": {},
   "outputs": [],
   "source": [
    "sales_to_year = sales_to_year.fillna(0)"
   ]
  },
  {
   "cell_type": "code",
   "execution_count": 31,
   "metadata": {},
   "outputs": [
    {
     "data": {
      "text/plain": [
       "<AxesSubplot:xlabel='year_of_release'>"
      ]
     },
     "execution_count": 31,
     "metadata": {},
     "output_type": "execute_result"
    },
    {
     "data": {
      "image/png": "[encoded data removed]",
      "text/plain": [
       "<Figure size 720x576 with 1 Axes>"
      ]
     },
     "metadata": {
      "needs_background": "light"
     },
     "output_type": "display_data"
    }
   ],
   "source": [
    "sales_to_year[\"PS2\"].plot(x = sales_to_year.index, y = \"sum_sales\", legend = True, figsize = (10, 8), grid = True)\n",
    "sales_to_year[\"X360\"].plot(x = sales_to_year.index, y = \"sum_sales\", legend = True, grid = True)\n",
    "sales_to_year[\"PS3\"].plot(x = sales_to_year.index, y = \"sum_sales\", legend = True, grid = True)\n",
    "sales_to_year[\"DS\"].plot(x = sales_to_year.index, y = \"sum_sales\", legend = True, grid = True)"
   ]
  },
  {
   "cell_type": "markdown",
   "metadata": {},
   "source": [
    "Судя по распределениям продаж самых популярных платформ по годам видно, что в среднем игры на различные платформы продаются в течении 10 лет. Таким образом судя по выбросам и распределению необходимо выделить актуальный период 10 лет, с 2006 года. Так как эти значения нормальные, не являются выбросами и платформы на которые продаются игры в этот период будут актуальными в 2017 году. Считаю целесообразным выбрать для рассмотрения период с 2006 года. Но также стоит отметить, что самые популярные платформы для настоящего времени вышли 4 года назад. Роэтому сократим рассматриваемый период времени и начнем анализировать игры с 2012 года."
   ]
  },
  {
   "cell_type": "markdown",
   "metadata": {},
   "source": [
    "<div class=\"alert alert-block alert-danger\">\n",
    "<h2> Комментарий ревьюера <a class=\"tocSkip\"></h2>\n",
    "\n",
    "\n",
    "<b>На доработку🤔:</b>\n",
    "\n",
    "Не стоит использовать для переменных названия типа а, б - это будет мешать в первую очередь тебе, и твоим читателям, лучше всегда давать осмысленные названия.\n",
    "    \n",
    "Тут можно было нарисовать все графики на одном, разные платформы - разными цветами. Так удобнее сравнивать и анализировать данные.\n",
    "</div>"
   ]
  },
  {
   "cell_type": "markdown",
   "metadata": {},
   "source": [
    "<div class=\"alert alert-info\"> <b>Комментарий студента:</b> \n",
    "    Графики поместил в одну плоскость, таблицы переименовал в смысловые названия.\n",
    " </div>"
   ]
  },
  {
   "cell_type": "markdown",
   "metadata": {},
   "source": [
    "<div class=\"alert alert-success\">\n",
    "<h2> Комментарий ревьюера v.2<a class=\"tocSkip\"> </h2>\n",
    "\n",
    "<b>Все отлично!👍:</b> \n",
    "    \n",
    "Так удобнее анализировать, не так ли?\n",
    "    \n",
    "Сократить код для графика можно так\n",
    "    \n",
    "    sales_to_year[['XOne','X360','PS2','PS3']].plot()\n",
    "</div>"
   ]
  },
  {
   "cell_type": "code",
   "execution_count": 32,
   "metadata": {},
   "outputs": [],
   "source": [
    "data = data[data[\"year_of_release\"] >= 2012]"
   ]
  },
  {
   "cell_type": "code",
   "execution_count": 33,
   "metadata": {},
   "outputs": [
    {
     "data": {
      "text/html": [
       "<div>\n",
       "<style scoped>\n",
       "    .dataframe tbody tr th:only-of-type {\n",
       "        vertical-align: middle;\n",
       "    }\n",
       "\n",
       "    .dataframe tbody tr th {\n",
       "        vertical-align: top;\n",
       "    }\n",
       "\n",
       "    .dataframe thead th {\n",
       "        text-align: right;\n",
       "    }\n",
       "</style>\n",
       "<table border=\"1\" class=\"dataframe\">\n",
       "  <thead>\n",
       "    <tr style=\"text-align: right;\">\n",
       "      <th></th>\n",
       "      <th>name</th>\n",
       "      <th>platform</th>\n",
       "      <th>year_of_release</th>\n",
       "      <th>genre</th>\n",
       "      <th>na_sales</th>\n",
       "      <th>eu_sales</th>\n",
       "      <th>jp_sales</th>\n",
       "      <th>other_sales</th>\n",
       "      <th>critic_score</th>\n",
       "      <th>user_score</th>\n",
       "      <th>rating</th>\n",
       "      <th>sum_sales</th>\n",
       "    </tr>\n",
       "  </thead>\n",
       "  <tbody>\n",
       "    <tr>\n",
       "      <th>16</th>\n",
       "      <td>Grand Theft Auto V</td>\n",
       "      <td>PS3</td>\n",
       "      <td>2013</td>\n",
       "      <td>Action</td>\n",
       "      <td>7.02</td>\n",
       "      <td>9.09</td>\n",
       "      <td>0.98</td>\n",
       "      <td>3.96</td>\n",
       "      <td>97</td>\n",
       "      <td>8.2</td>\n",
       "      <td>M</td>\n",
       "      <td>21.05</td>\n",
       "    </tr>\n",
       "    <tr>\n",
       "      <th>23</th>\n",
       "      <td>Grand Theft Auto V</td>\n",
       "      <td>X360</td>\n",
       "      <td>2013</td>\n",
       "      <td>Action</td>\n",
       "      <td>9.66</td>\n",
       "      <td>5.14</td>\n",
       "      <td>0.06</td>\n",
       "      <td>1.41</td>\n",
       "      <td>97</td>\n",
       "      <td>8.1</td>\n",
       "      <td>M</td>\n",
       "      <td>16.27</td>\n",
       "    </tr>\n",
       "    <tr>\n",
       "      <th>31</th>\n",
       "      <td>Call of Duty: Black Ops 3</td>\n",
       "      <td>PS4</td>\n",
       "      <td>2015</td>\n",
       "      <td>Shooter</td>\n",
       "      <td>6.03</td>\n",
       "      <td>5.86</td>\n",
       "      <td>0.36</td>\n",
       "      <td>2.38</td>\n",
       "      <td>-1</td>\n",
       "      <td>-1.0</td>\n",
       "      <td>Unknown</td>\n",
       "      <td>14.63</td>\n",
       "    </tr>\n",
       "    <tr>\n",
       "      <th>33</th>\n",
       "      <td>Pokemon X/Pokemon Y</td>\n",
       "      <td>3DS</td>\n",
       "      <td>2013</td>\n",
       "      <td>Role-Playing</td>\n",
       "      <td>5.28</td>\n",
       "      <td>4.19</td>\n",
       "      <td>4.35</td>\n",
       "      <td>0.78</td>\n",
       "      <td>-1</td>\n",
       "      <td>-1.0</td>\n",
       "      <td>Unknown</td>\n",
       "      <td>14.60</td>\n",
       "    </tr>\n",
       "    <tr>\n",
       "      <th>34</th>\n",
       "      <td>Call of Duty: Black Ops II</td>\n",
       "      <td>PS3</td>\n",
       "      <td>2012</td>\n",
       "      <td>Shooter</td>\n",
       "      <td>4.99</td>\n",
       "      <td>5.73</td>\n",
       "      <td>0.65</td>\n",
       "      <td>2.42</td>\n",
       "      <td>83</td>\n",
       "      <td>5.3</td>\n",
       "      <td>M</td>\n",
       "      <td>13.79</td>\n",
       "    </tr>\n",
       "    <tr>\n",
       "      <th>...</th>\n",
       "      <td>...</td>\n",
       "      <td>...</td>\n",
       "      <td>...</td>\n",
       "      <td>...</td>\n",
       "      <td>...</td>\n",
       "      <td>...</td>\n",
       "      <td>...</td>\n",
       "      <td>...</td>\n",
       "      <td>...</td>\n",
       "      <td>...</td>\n",
       "      <td>...</td>\n",
       "      <td>...</td>\n",
       "    </tr>\n",
       "    <tr>\n",
       "      <th>16703</th>\n",
       "      <td>Strawberry Nauts</td>\n",
       "      <td>PSV</td>\n",
       "      <td>2016</td>\n",
       "      <td>Adventure</td>\n",
       "      <td>0.00</td>\n",
       "      <td>0.00</td>\n",
       "      <td>0.01</td>\n",
       "      <td>0.00</td>\n",
       "      <td>-1</td>\n",
       "      <td>-1.0</td>\n",
       "      <td>Unknown</td>\n",
       "      <td>0.01</td>\n",
       "    </tr>\n",
       "    <tr>\n",
       "      <th>16707</th>\n",
       "      <td>Aiyoku no Eustia</td>\n",
       "      <td>PSV</td>\n",
       "      <td>2014</td>\n",
       "      <td>Misc</td>\n",
       "      <td>0.00</td>\n",
       "      <td>0.00</td>\n",
       "      <td>0.01</td>\n",
       "      <td>0.00</td>\n",
       "      <td>-1</td>\n",
       "      <td>-1.0</td>\n",
       "      <td>Unknown</td>\n",
       "      <td>0.01</td>\n",
       "    </tr>\n",
       "    <tr>\n",
       "      <th>16710</th>\n",
       "      <td>Samurai Warriors: Sanada Maru</td>\n",
       "      <td>PS3</td>\n",
       "      <td>2016</td>\n",
       "      <td>Action</td>\n",
       "      <td>0.00</td>\n",
       "      <td>0.00</td>\n",
       "      <td>0.01</td>\n",
       "      <td>0.00</td>\n",
       "      <td>-1</td>\n",
       "      <td>-1.0</td>\n",
       "      <td>Unknown</td>\n",
       "      <td>0.01</td>\n",
       "    </tr>\n",
       "    <tr>\n",
       "      <th>16712</th>\n",
       "      <td>Haitaka no Psychedelica</td>\n",
       "      <td>PSV</td>\n",
       "      <td>2016</td>\n",
       "      <td>Adventure</td>\n",
       "      <td>0.00</td>\n",
       "      <td>0.00</td>\n",
       "      <td>0.01</td>\n",
       "      <td>0.00</td>\n",
       "      <td>-1</td>\n",
       "      <td>-1.0</td>\n",
       "      <td>Unknown</td>\n",
       "      <td>0.01</td>\n",
       "    </tr>\n",
       "    <tr>\n",
       "      <th>16714</th>\n",
       "      <td>Winning Post 8 2016</td>\n",
       "      <td>PSV</td>\n",
       "      <td>2016</td>\n",
       "      <td>Simulation</td>\n",
       "      <td>0.00</td>\n",
       "      <td>0.00</td>\n",
       "      <td>0.01</td>\n",
       "      <td>0.00</td>\n",
       "      <td>-1</td>\n",
       "      <td>-1.0</td>\n",
       "      <td>Unknown</td>\n",
       "      <td>0.01</td>\n",
       "    </tr>\n",
       "  </tbody>\n",
       "</table>\n",
       "<p>2886 rows × 12 columns</p>\n",
       "</div>"
      ],
      "text/plain": [
       "                                name platform  year_of_release         genre  \\\n",
       "16                Grand Theft Auto V      PS3             2013        Action   \n",
       "23                Grand Theft Auto V     X360             2013        Action   \n",
       "31         Call of Duty: Black Ops 3      PS4             2015       Shooter   \n",
       "33               Pokemon X/Pokemon Y      3DS             2013  Role-Playing   \n",
       "34        Call of Duty: Black Ops II      PS3             2012       Shooter   \n",
       "...                              ...      ...              ...           ...   \n",
       "16703               Strawberry Nauts      PSV             2016     Adventure   \n",
       "16707               Aiyoku no Eustia      PSV             2014          Misc   \n",
       "16710  Samurai Warriors: Sanada Maru      PS3             2016        Action   \n",
       "16712        Haitaka no Psychedelica      PSV             2016     Adventure   \n",
       "16714            Winning Post 8 2016      PSV             2016    Simulation   \n",
       "\n",
       "       na_sales  eu_sales  jp_sales  other_sales  critic_score  user_score  \\\n",
       "16         7.02      9.09      0.98         3.96            97         8.2   \n",
       "23         9.66      5.14      0.06         1.41            97         8.1   \n",
       "31         6.03      5.86      0.36         2.38            -1        -1.0   \n",
       "33         5.28      4.19      4.35         0.78            -1        -1.0   \n",
       "34         4.99      5.73      0.65         2.42            83         5.3   \n",
       "...         ...       ...       ...          ...           ...         ...   \n",
       "16703      0.00      0.00      0.01         0.00            -1        -1.0   \n",
       "16707      0.00      0.00      0.01         0.00            -1        -1.0   \n",
       "16710      0.00      0.00      0.01         0.00            -1        -1.0   \n",
       "16712      0.00      0.00      0.01         0.00            -1        -1.0   \n",
       "16714      0.00      0.00      0.01         0.00            -1        -1.0   \n",
       "\n",
       "        rating  sum_sales  \n",
       "16           M      21.05  \n",
       "23           M      16.27  \n",
       "31     Unknown      14.63  \n",
       "33     Unknown      14.60  \n",
       "34           M      13.79  \n",
       "...        ...        ...  \n",
       "16703  Unknown       0.01  \n",
       "16707  Unknown       0.01  \n",
       "16710  Unknown       0.01  \n",
       "16712  Unknown       0.01  \n",
       "16714  Unknown       0.01  \n",
       "\n",
       "[2886 rows x 12 columns]"
      ]
     },
     "execution_count": 33,
     "metadata": {},
     "output_type": "execute_result"
    }
   ],
   "source": [
    "data"
   ]
  },
  {
   "cell_type": "markdown",
   "metadata": {},
   "source": [
    "<div class=\"alert alert-success\">\n",
    "<h2> Комментарий ревьюера v.2<a class=\"tocSkip\"> </h2>\n",
    "\n",
    "<b>Все отлично!👍:</b> \n",
    "    \n",
    "\n",
    "</div>"
   ]
  },
  {
   "cell_type": "markdown",
   "metadata": {},
   "source": [
    "Далее рассмотрим платформы по продажам игр на них, найдем платформы, которые растут, падают, и сделаем вывод по наиболее прибыльным платформам."
   ]
  },
  {
   "cell_type": "code",
   "execution_count": 34,
   "metadata": {},
   "outputs": [],
   "source": [
    "sales = data.pivot_table(index = \"platform\", columns = \"year_of_release\", values = \"sum_sales\", aggfunc = \"sum\")"
   ]
  },
  {
   "cell_type": "code",
   "execution_count": 35,
   "metadata": {},
   "outputs": [],
   "source": [
    "sales = sales.fillna(0)"
   ]
  },
  {
   "cell_type": "code",
   "execution_count": 36,
   "metadata": {},
   "outputs": [],
   "source": [
    "sales = sales[sales[2016] != 0]"
   ]
  },
  {
   "cell_type": "code",
   "execution_count": 37,
   "metadata": {},
   "outputs": [
    {
     "data": {
      "text/html": [
       "<div>\n",
       "<style scoped>\n",
       "    .dataframe tbody tr th:only-of-type {\n",
       "        vertical-align: middle;\n",
       "    }\n",
       "\n",
       "    .dataframe tbody tr th {\n",
       "        vertical-align: top;\n",
       "    }\n",
       "\n",
       "    .dataframe thead th {\n",
       "        text-align: right;\n",
       "    }\n",
       "</style>\n",
       "<table border=\"1\" class=\"dataframe\">\n",
       "  <thead>\n",
       "    <tr style=\"text-align: right;\">\n",
       "      <th>year_of_release</th>\n",
       "      <th>2012</th>\n",
       "      <th>2013</th>\n",
       "      <th>2014</th>\n",
       "      <th>2015</th>\n",
       "      <th>2016</th>\n",
       "    </tr>\n",
       "    <tr>\n",
       "      <th>platform</th>\n",
       "      <th></th>\n",
       "      <th></th>\n",
       "      <th></th>\n",
       "      <th></th>\n",
       "      <th></th>\n",
       "    </tr>\n",
       "  </thead>\n",
       "  <tbody>\n",
       "    <tr>\n",
       "      <th>3DS</th>\n",
       "      <td>51.36</td>\n",
       "      <td>56.57</td>\n",
       "      <td>43.76</td>\n",
       "      <td>27.78</td>\n",
       "      <td>15.14</td>\n",
       "    </tr>\n",
       "    <tr>\n",
       "      <th>PC</th>\n",
       "      <td>23.22</td>\n",
       "      <td>12.38</td>\n",
       "      <td>13.28</td>\n",
       "      <td>8.52</td>\n",
       "      <td>5.25</td>\n",
       "    </tr>\n",
       "    <tr>\n",
       "      <th>PS3</th>\n",
       "      <td>107.36</td>\n",
       "      <td>113.25</td>\n",
       "      <td>47.76</td>\n",
       "      <td>16.82</td>\n",
       "      <td>3.60</td>\n",
       "    </tr>\n",
       "    <tr>\n",
       "      <th>PS4</th>\n",
       "      <td>0.00</td>\n",
       "      <td>25.99</td>\n",
       "      <td>100.00</td>\n",
       "      <td>118.90</td>\n",
       "      <td>69.25</td>\n",
       "    </tr>\n",
       "    <tr>\n",
       "      <th>PSV</th>\n",
       "      <td>16.19</td>\n",
       "      <td>10.59</td>\n",
       "      <td>11.90</td>\n",
       "      <td>6.25</td>\n",
       "      <td>4.25</td>\n",
       "    </tr>\n",
       "    <tr>\n",
       "      <th>Wii</th>\n",
       "      <td>21.71</td>\n",
       "      <td>8.59</td>\n",
       "      <td>3.75</td>\n",
       "      <td>1.14</td>\n",
       "      <td>0.18</td>\n",
       "    </tr>\n",
       "    <tr>\n",
       "      <th>WiiU</th>\n",
       "      <td>17.56</td>\n",
       "      <td>21.65</td>\n",
       "      <td>22.03</td>\n",
       "      <td>16.35</td>\n",
       "      <td>4.60</td>\n",
       "    </tr>\n",
       "    <tr>\n",
       "      <th>X360</th>\n",
       "      <td>99.74</td>\n",
       "      <td>88.58</td>\n",
       "      <td>34.74</td>\n",
       "      <td>11.96</td>\n",
       "      <td>1.52</td>\n",
       "    </tr>\n",
       "    <tr>\n",
       "      <th>XOne</th>\n",
       "      <td>0.00</td>\n",
       "      <td>18.96</td>\n",
       "      <td>54.07</td>\n",
       "      <td>60.14</td>\n",
       "      <td>26.15</td>\n",
       "    </tr>\n",
       "  </tbody>\n",
       "</table>\n",
       "</div>"
      ],
      "text/plain": [
       "year_of_release    2012    2013    2014    2015   2016\n",
       "platform                                              \n",
       "3DS               51.36   56.57   43.76   27.78  15.14\n",
       "PC                23.22   12.38   13.28    8.52   5.25\n",
       "PS3              107.36  113.25   47.76   16.82   3.60\n",
       "PS4                0.00   25.99  100.00  118.90  69.25\n",
       "PSV               16.19   10.59   11.90    6.25   4.25\n",
       "Wii               21.71    8.59    3.75    1.14   0.18\n",
       "WiiU              17.56   21.65   22.03   16.35   4.60\n",
       "X360              99.74   88.58   34.74   11.96   1.52\n",
       "XOne               0.00   18.96   54.07   60.14  26.15"
      ]
     },
     "execution_count": 37,
     "metadata": {},
     "output_type": "execute_result"
    }
   ],
   "source": [
    "sales"
   ]
  },
  {
   "cell_type": "markdown",
   "metadata": {},
   "source": [
    "В таблице sales хранится информация о платформах, на которых продаются игры в взятый мной для анализа период, в которых продажи к 2017 году не равняются 0. Необходимо рассмотретьмпродажи на этих платформах и проанализировать, какие из них падают, а какие в будующем году будут наиболее перспективными."
   ]
  },
  {
   "cell_type": "code",
   "execution_count": 38,
   "metadata": {},
   "outputs": [
    {
     "data": {
      "text/html": [
       "<div>\n",
       "<style scoped>\n",
       "    .dataframe tbody tr th:only-of-type {\n",
       "        vertical-align: middle;\n",
       "    }\n",
       "\n",
       "    .dataframe tbody tr th {\n",
       "        vertical-align: top;\n",
       "    }\n",
       "\n",
       "    .dataframe thead th {\n",
       "        text-align: right;\n",
       "    }\n",
       "</style>\n",
       "<table border=\"1\" class=\"dataframe\">\n",
       "  <thead>\n",
       "    <tr style=\"text-align: right;\">\n",
       "      <th>year_of_release</th>\n",
       "      <th>2012</th>\n",
       "      <th>2013</th>\n",
       "      <th>2014</th>\n",
       "      <th>2015</th>\n",
       "      <th>2016</th>\n",
       "    </tr>\n",
       "    <tr>\n",
       "      <th>platform</th>\n",
       "      <th></th>\n",
       "      <th></th>\n",
       "      <th></th>\n",
       "      <th></th>\n",
       "      <th></th>\n",
       "    </tr>\n",
       "  </thead>\n",
       "  <tbody>\n",
       "    <tr>\n",
       "      <th>PS4</th>\n",
       "      <td>0.00</td>\n",
       "      <td>25.99</td>\n",
       "      <td>100.00</td>\n",
       "      <td>118.90</td>\n",
       "      <td>69.25</td>\n",
       "    </tr>\n",
       "    <tr>\n",
       "      <th>XOne</th>\n",
       "      <td>0.00</td>\n",
       "      <td>18.96</td>\n",
       "      <td>54.07</td>\n",
       "      <td>60.14</td>\n",
       "      <td>26.15</td>\n",
       "    </tr>\n",
       "    <tr>\n",
       "      <th>3DS</th>\n",
       "      <td>51.36</td>\n",
       "      <td>56.57</td>\n",
       "      <td>43.76</td>\n",
       "      <td>27.78</td>\n",
       "      <td>15.14</td>\n",
       "    </tr>\n",
       "    <tr>\n",
       "      <th>PC</th>\n",
       "      <td>23.22</td>\n",
       "      <td>12.38</td>\n",
       "      <td>13.28</td>\n",
       "      <td>8.52</td>\n",
       "      <td>5.25</td>\n",
       "    </tr>\n",
       "    <tr>\n",
       "      <th>WiiU</th>\n",
       "      <td>17.56</td>\n",
       "      <td>21.65</td>\n",
       "      <td>22.03</td>\n",
       "      <td>16.35</td>\n",
       "      <td>4.60</td>\n",
       "    </tr>\n",
       "    <tr>\n",
       "      <th>PSV</th>\n",
       "      <td>16.19</td>\n",
       "      <td>10.59</td>\n",
       "      <td>11.90</td>\n",
       "      <td>6.25</td>\n",
       "      <td>4.25</td>\n",
       "    </tr>\n",
       "    <tr>\n",
       "      <th>PS3</th>\n",
       "      <td>107.36</td>\n",
       "      <td>113.25</td>\n",
       "      <td>47.76</td>\n",
       "      <td>16.82</td>\n",
       "      <td>3.60</td>\n",
       "    </tr>\n",
       "    <tr>\n",
       "      <th>X360</th>\n",
       "      <td>99.74</td>\n",
       "      <td>88.58</td>\n",
       "      <td>34.74</td>\n",
       "      <td>11.96</td>\n",
       "      <td>1.52</td>\n",
       "    </tr>\n",
       "    <tr>\n",
       "      <th>Wii</th>\n",
       "      <td>21.71</td>\n",
       "      <td>8.59</td>\n",
       "      <td>3.75</td>\n",
       "      <td>1.14</td>\n",
       "      <td>0.18</td>\n",
       "    </tr>\n",
       "  </tbody>\n",
       "</table>\n",
       "</div>"
      ],
      "text/plain": [
       "year_of_release    2012    2013    2014    2015   2016\n",
       "platform                                              \n",
       "PS4                0.00   25.99  100.00  118.90  69.25\n",
       "XOne               0.00   18.96   54.07   60.14  26.15\n",
       "3DS               51.36   56.57   43.76   27.78  15.14\n",
       "PC                23.22   12.38   13.28    8.52   5.25\n",
       "WiiU              17.56   21.65   22.03   16.35   4.60\n",
       "PSV               16.19   10.59   11.90    6.25   4.25\n",
       "PS3              107.36  113.25   47.76   16.82   3.60\n",
       "X360              99.74   88.58   34.74   11.96   1.52\n",
       "Wii               21.71    8.59    3.75    1.14   0.18"
      ]
     },
     "execution_count": 38,
     "metadata": {},
     "output_type": "execute_result"
    }
   ],
   "source": [
    "sales = sales.sort_values(by = 2016, ascending = False)\n",
    "sales"
   ]
  },
  {
   "cell_type": "markdown",
   "metadata": {},
   "source": [
    "Судя по значениям в таблице, видно что в 2016 году, продажи игр на всех платформах резко упали. С чем связано падение необходимо разбираться, изучая игровой рынок и новости о событиях происходящих в нем. Возможно, что паление связано с переходом на внутриплатформенные игровые магазины. Но также мы видим основных лидеров на рынке у которых продажи до 2016 года только возрастали. Ими являются новые покаления консолей PS4  и Xbox ONE. Стоит отметить, что по тенденциям на рынке падение продаж старых поколений консолей приурочено к появлению нового поколения консолей от популярных производителей. Поэтому считаю, что игры для Xbox ONE и PS4 будут оставаться самыми популярными до выхода нового поколения. По тенденции видимой из данных, стоит отметить, что скорее всего процент продаж игр на старые поколения консолей будет падать (PS3, Xbox 360, Wii). Также падает спрос на игры для портотивных консолей (PS Vita, Nintendo 3ds, WiiU) скорее всего из-за замены их смартфонами. Таким образом считаю наиболее продаваемыми играми на консоли 4 поколения, также востребованными, но в меньшей мере будут игры на 3DS и WiiU. Также по значениям в таблице видно, что игры для ПК востребованны всегда. ТАким образом считаю, что они также неплохо будут продаваться и в 2017 году."
   ]
  },
  {
   "cell_type": "markdown",
   "metadata": {},
   "source": [
    "Дальнейшие исследования считаю необходимым проводить для наиболее перспективных платформ: PS4, Xbox ONE, 3DS, PC, WiiU. Построим для них boxplot и проанализируем результат"
   ]
  },
  {
   "cell_type": "code",
   "execution_count": 39,
   "metadata": {},
   "outputs": [
    {
     "data": {
      "text/plain": [
       "<AxesSubplot:title={'center':'sum_sales'}, xlabel='[platform]'>"
      ]
     },
     "execution_count": 39,
     "metadata": {},
     "output_type": "execute_result"
    },
    {
     "data": {
      "image/png": "[encoded data removed]",
      "text/plain": [
       "<Figure size 720x576 with 1 Axes>"
      ]
     },
     "metadata": {
      "needs_background": "light"
     },
     "output_type": "display_data"
    }
   ],
   "source": [
    "data.loc[(data[\"platform\"] == \"PS4\") | (data[\"platform\"] == \"XOne\") | (data[\"platform\"] == \"PC\") | (data[\"platform\"] == \"3DS\") | (data[\"platform\"] == \"WiiU\")].boxplot(column=['sum_sales'], by=['platform'], figsize=(10,8))\n"
   ]
  },
  {
   "cell_type": "code",
   "execution_count": 40,
   "metadata": {},
   "outputs": [
    {
     "data": {
      "text/plain": [
       "count    392.000000\n",
       "mean       0.801378\n",
       "std        1.609456\n",
       "min        0.010000\n",
       "25%        0.060000\n",
       "50%        0.200000\n",
       "75%        0.730000\n",
       "max       14.630000\n",
       "Name: sum_sales, dtype: float64"
      ]
     },
     "execution_count": 40,
     "metadata": {},
     "output_type": "execute_result"
    }
   ],
   "source": [
    "ps4 = data[data[\"platform\"] == \"PS4\"]\n",
    "ps4[\"sum_sales\"].describe()"
   ]
  },
  {
   "cell_type": "markdown",
   "metadata": {},
   "source": [
    "По диаграмме размаха видно, что медиана равняется 0.2 миллионам продаж копий игры, 3 квартель - 0.73 млн. копий, но также есть несколько больших выбросов на в самых популярных играх. Максимальное значение покупок одной игры на PS4 14.63 млн. копий"
   ]
  },
  {
   "cell_type": "code",
   "execution_count": 41,
   "metadata": {},
   "outputs": [
    {
     "data": {
      "text/plain": [
       "count    247.000000\n",
       "mean       0.645020\n",
       "std        1.036139\n",
       "min        0.010000\n",
       "25%        0.060000\n",
       "50%        0.220000\n",
       "75%        0.685000\n",
       "max        7.390000\n",
       "Name: sum_sales, dtype: float64"
      ]
     },
     "execution_count": 41,
     "metadata": {},
     "output_type": "execute_result"
    }
   ],
   "source": [
    "xbox = data[data[\"platform\"] == \"XOne\"]\n",
    "xbox[\"sum_sales\"].describe()"
   ]
  },
  {
   "cell_type": "markdown",
   "metadata": {},
   "source": [
    "Ситуация в продажах игр на xbox очень похожа на PS4. Медиана значений примерно такая же и равняется 0.22 млн. копий. 3 кватрель тоже примерно равен, но чуть меньше и равен 0,68 млн. копий. Стоит отметить, что среднее у xbox меньше на 0.15 млн. копий, чем у PS4, так как на PS есть более популярные по продажам игры - выбросы. Выбросы на xbox уходят не так далеко от медианы, как на PS, что скорее всего связано с меньшим числом пользователей xbox"
   ]
  },
  {
   "cell_type": "code",
   "execution_count": 42,
   "metadata": {},
   "outputs": [
    {
     "data": {
      "text/plain": [
       "count    250.00000\n",
       "mean       0.25060\n",
       "std        0.49464\n",
       "min        0.01000\n",
       "25%        0.03000\n",
       "50%        0.08000\n",
       "75%        0.24000\n",
       "max        5.14000\n",
       "Name: sum_sales, dtype: float64"
      ]
     },
     "execution_count": 42,
     "metadata": {},
     "output_type": "execute_result"
    }
   ],
   "source": [
    "pc = data[data[\"platform\"] == \"PC\"]\n",
    "pc[\"sum_sales\"].describe()"
   ]
  },
  {
   "cell_type": "markdown",
   "metadata": {},
   "source": [
    "Для PC, как для менее популярной игровой платформы, продажи в разы меньше, чем на двух предыдущих, хотя рассматриваемых игр больше. Медиана равняется 80000 копий. При этом 3 квартель 240000 копий. При этом среднее для продаж на PC в 4 раза больше медианы, так как есть очень популярные эксклюзивы для данной платформы. Максимальное значение продаж - 8 млн. копий."
   ]
  },
  {
   "cell_type": "code",
   "execution_count": 43,
   "metadata": {},
   "outputs": [
    {
     "data": {
      "text/plain": [
       "count    396.000000\n",
       "mean       0.491439\n",
       "std        1.387161\n",
       "min        0.010000\n",
       "25%        0.040000\n",
       "50%        0.110000\n",
       "75%        0.312500\n",
       "max       14.600000\n",
       "Name: sum_sales, dtype: float64"
      ]
     },
     "execution_count": 43,
     "metadata": {},
     "output_type": "execute_result"
    }
   ],
   "source": [
    "ds_3 = data[data[\"platform\"] == \"3DS\"]\n",
    "ds_3[\"sum_sales\"].describe()"
   ]
  },
  {
   "cell_type": "markdown",
   "metadata": {},
   "source": [
    "Для 3DS медиана и 3 квартель примерно в 2 раза меньше, чем для xbox и PS4 - 110000 и 312500 копий соответственно. Но также есть очень сильные выбросы на эклклюзивах для этой платформы до 14,6 млн. копий."
   ]
  },
  {
   "cell_type": "code",
   "execution_count": 44,
   "metadata": {},
   "outputs": [
    {
     "data": {
      "text/plain": [
       "count    147.000000\n",
       "mean       0.559116\n",
       "std        1.058836\n",
       "min        0.010000\n",
       "25%        0.080000\n",
       "50%        0.220000\n",
       "75%        0.525000\n",
       "max        7.090000\n",
       "Name: sum_sales, dtype: float64"
      ]
     },
     "execution_count": 44,
     "metadata": {},
     "output_type": "execute_result"
    }
   ],
   "source": [
    "wiiu = data[data[\"platform\"] == \"WiiU\"]\n",
    "wiiu[\"sum_sales\"].describe()"
   ]
  },
  {
   "cell_type": "markdown",
   "metadata": {},
   "source": [
    "Медиана для данной платформы 0.22 млн. копий, 3 квартель - 0.525 млн. Выбросы есть и достигают 7 млн. копий. Продажи игр на этой платформе не так велеки суммарно, так как она не очень популярна у разработчиков - имеет наименьшее количество игр из всех рассмортенных платформ."
   ]
  },
  {
   "cell_type": "markdown",
   "metadata": {},
   "source": [
    "Ограничим значения в boxplot для того чтобы убрать выбросы и лучше рассмотреть распределение."
   ]
  },
  {
   "cell_type": "code",
   "execution_count": 45,
   "metadata": {},
   "outputs": [
    {
     "data": {
      "text/plain": [
       "(0.0, 2.0)"
      ]
     },
     "execution_count": 45,
     "metadata": {},
     "output_type": "execute_result"
    },
    {
     "data": {
      "image/png": "[encoded data removed]",
      "text/plain": [
       "<Figure size 720x576 with 1 Axes>"
      ]
     },
     "metadata": {
      "needs_background": "light"
     },
     "output_type": "display_data"
    }
   ],
   "source": [
    "data.loc[(data[\"platform\"] == \"PS4\") | (data[\"platform\"] == \"XOne\") | (data[\"platform\"] == \"PC\") | (data[\"platform\"] == \"3DS\") | (data[\"platform\"] == \"WiiU\")].boxplot(column=['sum_sales'], by=['platform'], figsize=(10,8))\n",
    "plt.ylim(0,2)"
   ]
  },
  {
   "cell_type": "markdown",
   "metadata": {},
   "source": [
    "Далее рассмотрим отзывов пользователей и критиков на продажи игр на PS4. "
   ]
  },
  {
   "cell_type": "code",
   "execution_count": 46,
   "metadata": {},
   "outputs": [
    {
     "name": "stderr",
     "output_type": "stream",
     "text": [
      "/tmp/ipykernel_43/1140692115.py:3: MatplotlibDeprecationWarning: Adding an axes using the same arguments as a previous axes currently reuses the earlier instance.  In a future version, a new instance will always be created and returned.  Meanwhile, this warning can be suppressed, and the future behavior ensured, by passing a unique label to each axes instance.\n",
      "  plt.subplot()\n"
     ]
    },
    {
     "data": {
      "text/plain": [
       "<AxesSubplot:xlabel='user_score', ylabel='sum_sales'>"
      ]
     },
     "execution_count": 46,
     "metadata": {},
     "output_type": "execute_result"
    },
    {
     "data": {
      "image/png": "[encoded data removed]",
      "text/plain": [
       "<Figure size 432x288 with 1 Axes>"
      ]
     },
     "metadata": {
      "needs_background": "light"
     },
     "output_type": "display_data"
    },
    {
     "data": {
      "image/png": "[encoded data removed]",
      "text/plain": [
       "<Figure size 432x288 with 1 Axes>"
      ]
     },
     "metadata": {
      "needs_background": "light"
     },
     "output_type": "display_data"
    }
   ],
   "source": [
    "ps4[ps4[\"critic_score\"] != -1].plot(kind = \"scatter\", x = \"critic_score\", y = \"sum_sales\")\n",
    "ps4[ps4[\"user_score\"] != -1].plot(kind = \"scatter\", x = \"user_score\", y = \"sum_sales\")\n",
    "plt.subplot()"
   ]
  },
  {
   "cell_type": "code",
   "execution_count": 47,
   "metadata": {},
   "outputs": [
    {
     "data": {
      "text/plain": [
       "0.22652606614612347"
      ]
     },
     "execution_count": 47,
     "metadata": {},
     "output_type": "execute_result"
    }
   ],
   "source": [
    "ps4[\"sum_sales\"].corr(ps4[\"critic_score\"])"
   ]
  },
  {
   "cell_type": "markdown",
   "metadata": {},
   "source": [
    "Линейная зависимость между рейтингом критиков и количеством проданных копий небольшая. Есть как игры с небольшими продажами и низким рейтингом, так и с высоким и наоборот. Таким образом можно сказать, что игроки смотрят на критерий оценки критиков далеко не в первую очередь при покупке игры."
   ]
  },
  {
   "cell_type": "code",
   "execution_count": 48,
   "metadata": {},
   "outputs": [
    {
     "data": {
      "text/plain": [
       "0.11596149312860098"
      ]
     },
     "execution_count": 48,
     "metadata": {},
     "output_type": "execute_result"
    }
   ],
   "source": [
    "ps4[\"sum_sales\"].corr(ps4[\"user_score\"])"
   ]
  },
  {
   "cell_type": "markdown",
   "metadata": {},
   "source": [
    "При этом линейная зависимость между количеством продаж и рейтингом пользователей отсутствует. При покупке пользователи не обращают внимание на этот критерий, либо очень популярные игры не оправдывают ожиданий пользователей и критиков."
   ]
  },
  {
   "cell_type": "markdown",
   "metadata": {},
   "source": [
    "Рассмотрим графики для xbox и pc b проверим линейную зависимость между оценками критиков и пользователей и цены."
   ]
  },
  {
   "cell_type": "code",
   "execution_count": 64,
   "metadata": {},
   "outputs": [
    {
     "name": "stderr",
     "output_type": "stream",
     "text": [
      "/tmp/ipykernel_43/1365323422.py:3: MatplotlibDeprecationWarning: Adding an axes using the same arguments as a previous axes currently reuses the earlier instance.  In a future version, a new instance will always be created and returned.  Meanwhile, this warning can be suppressed, and the future behavior ensured, by passing a unique label to each axes instance.\n",
      "  plt.subplot()\n"
     ]
    },
    {
     "data": {
      "text/plain": [
       "<AxesSubplot:xlabel='user_score', ylabel='sum_sales'>"
      ]
     },
     "execution_count": 64,
     "metadata": {},
     "output_type": "execute_result"
    },
    {
     "data": {
      "image/png": "[encoded data removed]",
      "text/plain": [
       "<Figure size 432x288 with 1 Axes>"
      ]
     },
     "metadata": {
      "needs_background": "light"
     },
     "output_type": "display_data"
    },
    {
     "data": {
      "image/png": "[encoded data removed]",
      "text/plain": [
       "<Figure size 432x288 with 1 Axes>"
      ]
     },
     "metadata": {
      "needs_background": "light"
     },
     "output_type": "display_data"
    }
   ],
   "source": [
    "xbox[xbox[\"critic_score\"] != -1].plot(kind = \"scatter\", x = \"critic_score\", y = \"sum_sales\")\n",
    "xbox[xbox[\"user_score\"] != -1].plot(kind = \"scatter\", x = \"user_score\", y = \"sum_sales\")\n",
    "plt.subplot()"
   ]
  },
  {
   "cell_type": "code",
   "execution_count": 66,
   "metadata": {},
   "outputs": [
    {
     "name": "stderr",
     "output_type": "stream",
     "text": [
      "/tmp/ipykernel_43/849974.py:3: MatplotlibDeprecationWarning: Adding an axes using the same arguments as a previous axes currently reuses the earlier instance.  In a future version, a new instance will always be created and returned.  Meanwhile, this warning can be suppressed, and the future behavior ensured, by passing a unique label to each axes instance.\n",
      "  plt.subplot()\n"
     ]
    },
    {
     "data": {
      "text/plain": [
       "<AxesSubplot:xlabel='user_score', ylabel='sum_sales'>"
      ]
     },
     "execution_count": 66,
     "metadata": {},
     "output_type": "execute_result"
    },
    {
     "data": {
      "image/png": "[encoded data removed]",
      "text/plain": [
       "<Figure size 432x288 with 1 Axes>"
      ]
     },
     "metadata": {
      "needs_background": "light"
     },
     "output_type": "display_data"
    },
    {
     "data": {
      "image/png": "[encoded data removed]",
      "text/plain": [
       "<Figure size 432x288 with 1 Axes>"
      ]
     },
     "metadata": {
      "needs_background": "light"
     },
     "output_type": "display_data"
    }
   ],
   "source": [
    "pc[pc[\"critic_score\"] != -1].plot(kind = \"scatter\", x = \"critic_score\", y = \"sum_sales\")\n",
    "pc[pc[\"user_score\"] != -1].plot(kind = \"scatter\", x = \"user_score\", y = \"sum_sales\")\n",
    "plt.subplot()"
   ]
  },
  {
   "cell_type": "markdown",
   "metadata": {},
   "source": [
    "Для других платформ также видно, что линейная зависимость либо очень мала, либо ее вообще не прослеживается, поэтому можно сделать вывод, что пользователи либо при покупке не смотрят на отзывы, либо игры не оправдывают ожидание критиков и игроков от них."
   ]
  },
  {
   "cell_type": "markdown",
   "metadata": {},
   "source": [
    "Теперь рассмотрим игры по жанрам и определим какие жанры более популярные, а какие менее."
   ]
  },
  {
   "cell_type": "code",
   "execution_count": 51,
   "metadata": {},
   "outputs": [
    {
     "data": {
      "text/html": [
       "<div>\n",
       "<style scoped>\n",
       "    .dataframe tbody tr th:only-of-type {\n",
       "        vertical-align: middle;\n",
       "    }\n",
       "\n",
       "    .dataframe tbody tr th {\n",
       "        vertical-align: top;\n",
       "    }\n",
       "\n",
       "    .dataframe thead th {\n",
       "        text-align: right;\n",
       "    }\n",
       "</style>\n",
       "<table border=\"1\" class=\"dataframe\">\n",
       "  <thead>\n",
       "    <tr style=\"text-align: right;\">\n",
       "      <th></th>\n",
       "      <th>sum_sales</th>\n",
       "    </tr>\n",
       "    <tr>\n",
       "      <th>genre</th>\n",
       "      <th></th>\n",
       "    </tr>\n",
       "  </thead>\n",
       "  <tbody>\n",
       "    <tr>\n",
       "      <th>Action</th>\n",
       "      <td>441.12</td>\n",
       "    </tr>\n",
       "    <tr>\n",
       "      <th>Shooter</th>\n",
       "      <td>304.73</td>\n",
       "    </tr>\n",
       "    <tr>\n",
       "      <th>Role-Playing</th>\n",
       "      <td>192.80</td>\n",
       "    </tr>\n",
       "    <tr>\n",
       "      <th>Sports</th>\n",
       "      <td>181.07</td>\n",
       "    </tr>\n",
       "    <tr>\n",
       "      <th>Misc</th>\n",
       "      <td>85.04</td>\n",
       "    </tr>\n",
       "    <tr>\n",
       "      <th>Platform</th>\n",
       "      <td>61.00</td>\n",
       "    </tr>\n",
       "    <tr>\n",
       "      <th>Racing</th>\n",
       "      <td>53.50</td>\n",
       "    </tr>\n",
       "    <tr>\n",
       "      <th>Fighting</th>\n",
       "      <td>44.49</td>\n",
       "    </tr>\n",
       "    <tr>\n",
       "      <th>Simulation</th>\n",
       "      <td>35.12</td>\n",
       "    </tr>\n",
       "    <tr>\n",
       "      <th>Adventure</th>\n",
       "      <td>29.43</td>\n",
       "    </tr>\n",
       "    <tr>\n",
       "      <th>Strategy</th>\n",
       "      <td>13.34</td>\n",
       "    </tr>\n",
       "    <tr>\n",
       "      <th>Puzzle</th>\n",
       "      <td>4.89</td>\n",
       "    </tr>\n",
       "  </tbody>\n",
       "</table>\n",
       "</div>"
      ],
      "text/plain": [
       "              sum_sales\n",
       "genre                  \n",
       "Action           441.12\n",
       "Shooter          304.73\n",
       "Role-Playing     192.80\n",
       "Sports           181.07\n",
       "Misc              85.04\n",
       "Platform          61.00\n",
       "Racing            53.50\n",
       "Fighting          44.49\n",
       "Simulation        35.12\n",
       "Adventure         29.43\n",
       "Strategy          13.34\n",
       "Puzzle             4.89"
      ]
     },
     "execution_count": 51,
     "metadata": {},
     "output_type": "execute_result"
    }
   ],
   "source": [
    "genre = data.pivot_table(index = \"genre\", values = \"sum_sales\", aggfunc = \"sum\").sort_values(by = \"sum_sales\", ascending = False)\n",
    "genre"
   ]
  },
  {
   "cell_type": "markdown",
   "metadata": {},
   "source": [
    "Из общего распределения игр по жанрам видно, что наиболее популярные экшен игры, также чуть менее спортивные симмуляторы и шутеры. Наимее популярными являются стратегии и пазлы."
   ]
  },
  {
   "cell_type": "markdown",
   "metadata": {},
   "source": [
    "Теперь рассмортим жанры игр по медиане суммарных продаж игр, это покажет жанры игр которые приносят высокий доход стабильно, не учитывая высокий доход с выбросов."
   ]
  },
  {
   "cell_type": "code",
   "execution_count": 52,
   "metadata": {},
   "outputs": [
    {
     "data": {
      "text/html": [
       "<div>\n",
       "<style scoped>\n",
       "    .dataframe tbody tr th:only-of-type {\n",
       "        vertical-align: middle;\n",
       "    }\n",
       "\n",
       "    .dataframe tbody tr th {\n",
       "        vertical-align: top;\n",
       "    }\n",
       "\n",
       "    .dataframe thead th {\n",
       "        text-align: right;\n",
       "    }\n",
       "</style>\n",
       "<table border=\"1\" class=\"dataframe\">\n",
       "  <thead>\n",
       "    <tr style=\"text-align: right;\">\n",
       "      <th></th>\n",
       "      <th>sum_sales</th>\n",
       "    </tr>\n",
       "    <tr>\n",
       "      <th>genre</th>\n",
       "      <th></th>\n",
       "    </tr>\n",
       "  </thead>\n",
       "  <tbody>\n",
       "    <tr>\n",
       "      <th>Shooter</th>\n",
       "      <td>0.440</td>\n",
       "    </tr>\n",
       "    <tr>\n",
       "      <th>Sports</th>\n",
       "      <td>0.240</td>\n",
       "    </tr>\n",
       "    <tr>\n",
       "      <th>Platform</th>\n",
       "      <td>0.210</td>\n",
       "    </tr>\n",
       "    <tr>\n",
       "      <th>Role-Playing</th>\n",
       "      <td>0.140</td>\n",
       "    </tr>\n",
       "    <tr>\n",
       "      <th>Racing</th>\n",
       "      <td>0.140</td>\n",
       "    </tr>\n",
       "    <tr>\n",
       "      <th>Fighting</th>\n",
       "      <td>0.130</td>\n",
       "    </tr>\n",
       "    <tr>\n",
       "      <th>Action</th>\n",
       "      <td>0.120</td>\n",
       "    </tr>\n",
       "    <tr>\n",
       "      <th>Misc</th>\n",
       "      <td>0.120</td>\n",
       "    </tr>\n",
       "    <tr>\n",
       "      <th>Simulation</th>\n",
       "      <td>0.120</td>\n",
       "    </tr>\n",
       "    <tr>\n",
       "      <th>Strategy</th>\n",
       "      <td>0.080</td>\n",
       "    </tr>\n",
       "    <tr>\n",
       "      <th>Puzzle</th>\n",
       "      <td>0.045</td>\n",
       "    </tr>\n",
       "    <tr>\n",
       "      <th>Adventure</th>\n",
       "      <td>0.030</td>\n",
       "    </tr>\n",
       "  </tbody>\n",
       "</table>\n",
       "</div>"
      ],
      "text/plain": [
       "              sum_sales\n",
       "genre                  \n",
       "Shooter           0.440\n",
       "Sports            0.240\n",
       "Platform          0.210\n",
       "Role-Playing      0.140\n",
       "Racing            0.140\n",
       "Fighting          0.130\n",
       "Action            0.120\n",
       "Misc              0.120\n",
       "Simulation        0.120\n",
       "Strategy          0.080\n",
       "Puzzle            0.045\n",
       "Adventure         0.030"
      ]
     },
     "execution_count": 52,
     "metadata": {},
     "output_type": "execute_result"
    }
   ],
   "source": [
    "genre_median = data.pivot_table(index = \"genre\", values = \"sum_sales\", aggfunc = \"median\").sort_values(by = \"sum_sales\", ascending = False)\n",
    "genre_median"
   ]
  },
  {
   "cell_type": "markdown",
   "metadata": {},
   "source": [
    "А рассматривая жанры игр по медианам продаж, видно что в среднем самые популярные игры - шутеры и спортивные, а самые непопулярные пазлы и приключения. Экшн игры в по медианным продажам находятся в середине топа. Из этого можно сделать вывод, что в среднем из всех игр чаще покупают шутеры, а экшены имеют большее суммарное количество продаж только благодаря некоторым выбросам - очень популярным играм, но из общей выборки такого жанра их очень мало."
   ]
  },
  {
   "cell_type": "markdown",
   "metadata": {},
   "source": [
    "Таким образом быломпроведено исследование данных, выявлен примерный отрезок \"жизни\" платформ, определены самые популярные и наиболее перспективные платформы на 2017 год, а также проверена линейная зависимость между оценками и продажами. Также были рассморены жанры игр по их популярности."
   ]
  },
  {
   "cell_type": "markdown",
   "metadata": {},
   "source": [
    "Теперь рассмотрим самые популярные платформы, жанры в разных регионах. А также определим влияние возрастного рейтинго на продажи ро регионам."
   ]
  },
  {
   "cell_type": "code",
   "execution_count": 53,
   "metadata": {},
   "outputs": [
    {
     "data": {
      "text/html": [
       "<div>\n",
       "<style scoped>\n",
       "    .dataframe tbody tr th:only-of-type {\n",
       "        vertical-align: middle;\n",
       "    }\n",
       "\n",
       "    .dataframe tbody tr th {\n",
       "        vertical-align: top;\n",
       "    }\n",
       "\n",
       "    .dataframe thead th {\n",
       "        text-align: right;\n",
       "    }\n",
       "</style>\n",
       "<table border=\"1\" class=\"dataframe\">\n",
       "  <thead>\n",
       "    <tr style=\"text-align: right;\">\n",
       "      <th></th>\n",
       "      <th>2012</th>\n",
       "      <th>2013</th>\n",
       "      <th>2014</th>\n",
       "      <th>2015</th>\n",
       "      <th>2016</th>\n",
       "      <th>na_sales</th>\n",
       "    </tr>\n",
       "    <tr>\n",
       "      <th>platform</th>\n",
       "      <th></th>\n",
       "      <th></th>\n",
       "      <th></th>\n",
       "      <th></th>\n",
       "      <th></th>\n",
       "      <th></th>\n",
       "    </tr>\n",
       "  </thead>\n",
       "  <tbody>\n",
       "    <tr>\n",
       "      <th>X360</th>\n",
       "      <td>58.39</td>\n",
       "      <td>53.36</td>\n",
       "      <td>20.25</td>\n",
       "      <td>7.36</td>\n",
       "      <td>0.69</td>\n",
       "      <td>140.05</td>\n",
       "    </tr>\n",
       "    <tr>\n",
       "      <th>PS4</th>\n",
       "      <td>0.00</td>\n",
       "      <td>10.13</td>\n",
       "      <td>34.75</td>\n",
       "      <td>42.37</td>\n",
       "      <td>21.49</td>\n",
       "      <td>108.74</td>\n",
       "    </tr>\n",
       "    <tr>\n",
       "      <th>PS3</th>\n",
       "      <td>39.88</td>\n",
       "      <td>41.45</td>\n",
       "      <td>16.39</td>\n",
       "      <td>4.99</td>\n",
       "      <td>0.67</td>\n",
       "      <td>103.38</td>\n",
       "    </tr>\n",
       "    <tr>\n",
       "      <th>XOne</th>\n",
       "      <td>0.00</td>\n",
       "      <td>11.85</td>\n",
       "      <td>30.97</td>\n",
       "      <td>36.03</td>\n",
       "      <td>14.27</td>\n",
       "      <td>93.12</td>\n",
       "    </tr>\n",
       "    <tr>\n",
       "      <th>3DS</th>\n",
       "      <td>17.11</td>\n",
       "      <td>15.56</td>\n",
       "      <td>12.33</td>\n",
       "      <td>6.17</td>\n",
       "      <td>4.14</td>\n",
       "      <td>55.31</td>\n",
       "    </tr>\n",
       "  </tbody>\n",
       "</table>\n",
       "</div>"
      ],
      "text/plain": [
       "           2012   2013   2014   2015   2016  na_sales\n",
       "platform                                             \n",
       "X360      58.39  53.36  20.25   7.36   0.69    140.05\n",
       "PS4        0.00  10.13  34.75  42.37  21.49    108.74\n",
       "PS3       39.88  41.45  16.39   4.99   0.67    103.38\n",
       "XOne       0.00  11.85  30.97  36.03  14.27     93.12\n",
       "3DS       17.11  15.56  12.33   6.17   4.14     55.31"
      ]
     },
     "execution_count": 53,
     "metadata": {},
     "output_type": "execute_result"
    }
   ],
   "source": [
    "platform_region_na = data.pivot_table(index = \"platform\", columns = \"year_of_release\", values = \"na_sales\", aggfunc = \"sum\").fillna(0)\n",
    "pl_reg_na = data.pivot_table(index = \"platform\", values = \"na_sales\", aggfunc = \"sum\")\n",
    "platform_region_na = platform_region_na.join(pl_reg_na, how = \"left\")\n",
    "platform_region_na.sort_values(by = \"na_sales\", ascending = False).head(5)"
   ]
  },
  {
   "cell_type": "markdown",
   "metadata": {},
   "source": [
    "С 2006 года самыми популярными платформами являются в NA является xbox 360. По таблице можно сказать, что амереканцы больше любят пользоваться консолями, чем ПК, но используют большие консоли чаще, чем портативные. Для консолей 3 поколения покупок игр на Xbox почти на 200 млн больше, чем на PS3 скорее всего из-за более развитой экосистемы майкрософт в США. ТАкже считаю необходимым рассмотреть самые популярные современные консоли."
   ]
  },
  {
   "cell_type": "code",
   "execution_count": 54,
   "metadata": {},
   "outputs": [
    {
     "data": {
      "text/html": [
       "<div>\n",
       "<style scoped>\n",
       "    .dataframe tbody tr th:only-of-type {\n",
       "        vertical-align: middle;\n",
       "    }\n",
       "\n",
       "    .dataframe tbody tr th {\n",
       "        vertical-align: top;\n",
       "    }\n",
       "\n",
       "    .dataframe thead th {\n",
       "        text-align: right;\n",
       "    }\n",
       "</style>\n",
       "<table border=\"1\" class=\"dataframe\">\n",
       "  <thead>\n",
       "    <tr style=\"text-align: right;\">\n",
       "      <th></th>\n",
       "      <th>2012</th>\n",
       "      <th>2013</th>\n",
       "      <th>2014</th>\n",
       "      <th>2015</th>\n",
       "      <th>2016</th>\n",
       "      <th>na_sales</th>\n",
       "    </tr>\n",
       "    <tr>\n",
       "      <th>platform</th>\n",
       "      <th></th>\n",
       "      <th></th>\n",
       "      <th></th>\n",
       "      <th></th>\n",
       "      <th></th>\n",
       "      <th></th>\n",
       "    </tr>\n",
       "  </thead>\n",
       "  <tbody>\n",
       "    <tr>\n",
       "      <th>PS4</th>\n",
       "      <td>0.00</td>\n",
       "      <td>10.13</td>\n",
       "      <td>34.75</td>\n",
       "      <td>42.37</td>\n",
       "      <td>21.49</td>\n",
       "      <td>108.74</td>\n",
       "    </tr>\n",
       "    <tr>\n",
       "      <th>XOne</th>\n",
       "      <td>0.00</td>\n",
       "      <td>11.85</td>\n",
       "      <td>30.97</td>\n",
       "      <td>36.03</td>\n",
       "      <td>14.27</td>\n",
       "      <td>93.12</td>\n",
       "    </tr>\n",
       "    <tr>\n",
       "      <th>3DS</th>\n",
       "      <td>17.11</td>\n",
       "      <td>15.56</td>\n",
       "      <td>12.33</td>\n",
       "      <td>6.17</td>\n",
       "      <td>4.14</td>\n",
       "      <td>55.31</td>\n",
       "    </tr>\n",
       "    <tr>\n",
       "      <th>WiiU</th>\n",
       "      <td>8.89</td>\n",
       "      <td>9.85</td>\n",
       "      <td>10.50</td>\n",
       "      <td>6.76</td>\n",
       "      <td>2.10</td>\n",
       "      <td>38.10</td>\n",
       "    </tr>\n",
       "    <tr>\n",
       "      <th>PC</th>\n",
       "      <td>8.01</td>\n",
       "      <td>3.88</td>\n",
       "      <td>3.51</td>\n",
       "      <td>2.36</td>\n",
       "      <td>1.36</td>\n",
       "      <td>19.12</td>\n",
       "    </tr>\n",
       "  </tbody>\n",
       "</table>\n",
       "</div>"
      ],
      "text/plain": [
       "           2012   2013   2014   2015   2016  na_sales\n",
       "platform                                             \n",
       "PS4        0.00  10.13  34.75  42.37  21.49    108.74\n",
       "XOne       0.00  11.85  30.97  36.03  14.27     93.12\n",
       "3DS       17.11  15.56  12.33   6.17   4.14     55.31\n",
       "WiiU       8.89   9.85  10.50   6.76   2.10     38.10\n",
       "PC         8.01   3.88   3.51   2.36   1.36     19.12"
      ]
     },
     "execution_count": 54,
     "metadata": {},
     "output_type": "execute_result"
    }
   ],
   "source": [
    "platform_region_na.sort_values(by = 2016, ascending = False).head(5)"
   ]
  },
  {
   "cell_type": "markdown",
   "metadata": {},
   "source": [
    "Топ 5 современных платформ и распределение продаж игр для них примерно совпадают со всем миром. Теперь рассмотрим Европу и Японию."
   ]
  },
  {
   "cell_type": "code",
   "execution_count": 55,
   "metadata": {},
   "outputs": [
    {
     "data": {
      "text/html": [
       "<div>\n",
       "<style scoped>\n",
       "    .dataframe tbody tr th:only-of-type {\n",
       "        vertical-align: middle;\n",
       "    }\n",
       "\n",
       "    .dataframe tbody tr th {\n",
       "        vertical-align: top;\n",
       "    }\n",
       "\n",
       "    .dataframe thead th {\n",
       "        text-align: right;\n",
       "    }\n",
       "</style>\n",
       "<table border=\"1\" class=\"dataframe\">\n",
       "  <thead>\n",
       "    <tr style=\"text-align: right;\">\n",
       "      <th></th>\n",
       "      <th>2012</th>\n",
       "      <th>2013</th>\n",
       "      <th>2014</th>\n",
       "      <th>2015</th>\n",
       "      <th>2016</th>\n",
       "      <th>eu_sales</th>\n",
       "    </tr>\n",
       "    <tr>\n",
       "      <th>platform</th>\n",
       "      <th></th>\n",
       "      <th></th>\n",
       "      <th></th>\n",
       "      <th></th>\n",
       "      <th></th>\n",
       "      <th></th>\n",
       "    </tr>\n",
       "  </thead>\n",
       "  <tbody>\n",
       "    <tr>\n",
       "      <th>PS4</th>\n",
       "      <td>0.00</td>\n",
       "      <td>11.05</td>\n",
       "      <td>46.50</td>\n",
       "      <td>51.76</td>\n",
       "      <td>31.78</td>\n",
       "      <td>141.09</td>\n",
       "    </tr>\n",
       "    <tr>\n",
       "      <th>PS3</th>\n",
       "      <td>39.05</td>\n",
       "      <td>42.27</td>\n",
       "      <td>18.24</td>\n",
       "      <td>6.04</td>\n",
       "      <td>1.26</td>\n",
       "      <td>106.86</td>\n",
       "    </tr>\n",
       "    <tr>\n",
       "      <th>X360</th>\n",
       "      <td>32.00</td>\n",
       "      <td>27.03</td>\n",
       "      <td>11.28</td>\n",
       "      <td>3.50</td>\n",
       "      <td>0.71</td>\n",
       "      <td>74.52</td>\n",
       "    </tr>\n",
       "    <tr>\n",
       "      <th>XOne</th>\n",
       "      <td>0.00</td>\n",
       "      <td>5.34</td>\n",
       "      <td>18.15</td>\n",
       "      <td>18.47</td>\n",
       "      <td>9.63</td>\n",
       "      <td>51.59</td>\n",
       "    </tr>\n",
       "    <tr>\n",
       "      <th>3DS</th>\n",
       "      <td>11.68</td>\n",
       "      <td>14.84</td>\n",
       "      <td>8.73</td>\n",
       "      <td>5.06</td>\n",
       "      <td>2.33</td>\n",
       "      <td>42.64</td>\n",
       "    </tr>\n",
       "  </tbody>\n",
       "</table>\n",
       "</div>"
      ],
      "text/plain": [
       "           2012   2013   2014   2015   2016  eu_sales\n",
       "platform                                             \n",
       "PS4        0.00  11.05  46.50  51.76  31.78    141.09\n",
       "PS3       39.05  42.27  18.24   6.04   1.26    106.86\n",
       "X360      32.00  27.03  11.28   3.50   0.71     74.52\n",
       "XOne       0.00   5.34  18.15  18.47   9.63     51.59\n",
       "3DS       11.68  14.84   8.73   5.06   2.33     42.64"
      ]
     },
     "execution_count": 55,
     "metadata": {},
     "output_type": "execute_result"
    }
   ],
   "source": [
    "platform_region_eu = data.pivot_table(index = \"platform\", columns = \"year_of_release\", values =\"eu_sales\", aggfunc = \"sum\").fillna(0)\n",
    "pl_reg_eu = data.pivot_table(index = \"platform\", values = \"eu_sales\", aggfunc = \"sum\")\n",
    "platform_region_eu = platform_region_eu.join(pl_reg_eu, how = \"left\")\n",
    "platform_region_eu.sort_values(by = \"eu_sales\", ascending = False).head(5)"
   ]
  },
  {
   "cell_type": "markdown",
   "metadata": {},
   "source": [
    "Для Европы самой популярной консолью является ps3. Также в Европе в топ 5 консолей с 2006 года входит PS4. Обьем игр покумаемых в Европе значительно меньше, чем в США на популярных платформах с 2006 года. Рассмотрим топ 5 консолей в Европе за 2016 год(современных)"
   ]
  },
  {
   "cell_type": "code",
   "execution_count": 56,
   "metadata": {},
   "outputs": [
    {
     "data": {
      "text/html": [
       "<div>\n",
       "<style scoped>\n",
       "    .dataframe tbody tr th:only-of-type {\n",
       "        vertical-align: middle;\n",
       "    }\n",
       "\n",
       "    .dataframe tbody tr th {\n",
       "        vertical-align: top;\n",
       "    }\n",
       "\n",
       "    .dataframe thead th {\n",
       "        text-align: right;\n",
       "    }\n",
       "</style>\n",
       "<table border=\"1\" class=\"dataframe\">\n",
       "  <thead>\n",
       "    <tr style=\"text-align: right;\">\n",
       "      <th></th>\n",
       "      <th>2012</th>\n",
       "      <th>2013</th>\n",
       "      <th>2014</th>\n",
       "      <th>2015</th>\n",
       "      <th>2016</th>\n",
       "      <th>eu_sales</th>\n",
       "    </tr>\n",
       "    <tr>\n",
       "      <th>platform</th>\n",
       "      <th></th>\n",
       "      <th></th>\n",
       "      <th></th>\n",
       "      <th></th>\n",
       "      <th></th>\n",
       "      <th></th>\n",
       "    </tr>\n",
       "  </thead>\n",
       "  <tbody>\n",
       "    <tr>\n",
       "      <th>PS4</th>\n",
       "      <td>0.00</td>\n",
       "      <td>11.05</td>\n",
       "      <td>46.50</td>\n",
       "      <td>51.76</td>\n",
       "      <td>31.78</td>\n",
       "      <td>141.09</td>\n",
       "    </tr>\n",
       "    <tr>\n",
       "      <th>XOne</th>\n",
       "      <td>0.00</td>\n",
       "      <td>5.34</td>\n",
       "      <td>18.15</td>\n",
       "      <td>18.47</td>\n",
       "      <td>9.63</td>\n",
       "      <td>51.59</td>\n",
       "    </tr>\n",
       "    <tr>\n",
       "      <th>PC</th>\n",
       "      <td>12.40</td>\n",
       "      <td>7.39</td>\n",
       "      <td>8.87</td>\n",
       "      <td>5.57</td>\n",
       "      <td>3.53</td>\n",
       "      <td>37.76</td>\n",
       "    </tr>\n",
       "    <tr>\n",
       "      <th>3DS</th>\n",
       "      <td>11.68</td>\n",
       "      <td>14.84</td>\n",
       "      <td>8.73</td>\n",
       "      <td>5.06</td>\n",
       "      <td>2.33</td>\n",
       "      <td>42.64</td>\n",
       "    </tr>\n",
       "    <tr>\n",
       "      <th>WiiU</th>\n",
       "      <td>5.28</td>\n",
       "      <td>6.70</td>\n",
       "      <td>6.66</td>\n",
       "      <td>5.01</td>\n",
       "      <td>1.48</td>\n",
       "      <td>25.13</td>\n",
       "    </tr>\n",
       "  </tbody>\n",
       "</table>\n",
       "</div>"
      ],
      "text/plain": [
       "           2012   2013   2014   2015   2016  eu_sales\n",
       "platform                                             \n",
       "PS4        0.00  11.05  46.50  51.76  31.78    141.09\n",
       "XOne       0.00   5.34  18.15  18.47   9.63     51.59\n",
       "PC        12.40   7.39   8.87   5.57   3.53     37.76\n",
       "3DS       11.68  14.84   8.73   5.06   2.33     42.64\n",
       "WiiU       5.28   6.70   6.66   5.01   1.48     25.13"
      ]
     },
     "execution_count": 56,
     "metadata": {},
     "output_type": "execute_result"
    }
   ],
   "source": [
    "platform_region_eu.sort_values(by = 2016, ascending = False).head(5)"
   ]
  },
  {
   "cell_type": "markdown",
   "metadata": {},
   "source": [
    "В европе и США в 2016 году популярны одни и те же платформы, как и во всем мире! Но стоит отметить, что суммарно европейцы больше тратят на игры на ps4, но гораздо меньше на xbox. Скорее всего хоть PS4 самая популярная современная платформа в США, но Xbox там имеет почти такую же популярность, в отличие от европы, где продажи игр на PS4 почти в 3 раза выше, чем на Xbox. Теперь рассмортим Японмкий рынок."
   ]
  },
  {
   "cell_type": "code",
   "execution_count": 57,
   "metadata": {},
   "outputs": [
    {
     "data": {
      "text/html": [
       "<div>\n",
       "<style scoped>\n",
       "    .dataframe tbody tr th:only-of-type {\n",
       "        vertical-align: middle;\n",
       "    }\n",
       "\n",
       "    .dataframe tbody tr th {\n",
       "        vertical-align: top;\n",
       "    }\n",
       "\n",
       "    .dataframe thead th {\n",
       "        text-align: right;\n",
       "    }\n",
       "</style>\n",
       "<table border=\"1\" class=\"dataframe\">\n",
       "  <thead>\n",
       "    <tr style=\"text-align: right;\">\n",
       "      <th></th>\n",
       "      <th>2012</th>\n",
       "      <th>2013</th>\n",
       "      <th>2014</th>\n",
       "      <th>2015</th>\n",
       "      <th>2016</th>\n",
       "      <th>jp_sales</th>\n",
       "    </tr>\n",
       "    <tr>\n",
       "      <th>platform</th>\n",
       "      <th></th>\n",
       "      <th></th>\n",
       "      <th></th>\n",
       "      <th></th>\n",
       "      <th></th>\n",
       "      <th></th>\n",
       "    </tr>\n",
       "  </thead>\n",
       "  <tbody>\n",
       "    <tr>\n",
       "      <th>3DS</th>\n",
       "      <td>19.98</td>\n",
       "      <td>23.57</td>\n",
       "      <td>20.69</td>\n",
       "      <td>15.52</td>\n",
       "      <td>8.03</td>\n",
       "      <td>87.79</td>\n",
       "    </tr>\n",
       "    <tr>\n",
       "      <th>PS3</th>\n",
       "      <td>11.94</td>\n",
       "      <td>12.13</td>\n",
       "      <td>6.25</td>\n",
       "      <td>3.67</td>\n",
       "      <td>1.30</td>\n",
       "      <td>35.29</td>\n",
       "    </tr>\n",
       "    <tr>\n",
       "      <th>PSV</th>\n",
       "      <td>2.45</td>\n",
       "      <td>4.05</td>\n",
       "      <td>6.13</td>\n",
       "      <td>4.85</td>\n",
       "      <td>3.56</td>\n",
       "      <td>21.04</td>\n",
       "    </tr>\n",
       "    <tr>\n",
       "      <th>PS4</th>\n",
       "      <td>0.00</td>\n",
       "      <td>0.94</td>\n",
       "      <td>2.97</td>\n",
       "      <td>6.31</td>\n",
       "      <td>5.74</td>\n",
       "      <td>15.96</td>\n",
       "    </tr>\n",
       "    <tr>\n",
       "      <th>WiiU</th>\n",
       "      <td>2.13</td>\n",
       "      <td>3.57</td>\n",
       "      <td>3.19</td>\n",
       "      <td>3.45</td>\n",
       "      <td>0.67</td>\n",
       "      <td>13.01</td>\n",
       "    </tr>\n",
       "  </tbody>\n",
       "</table>\n",
       "</div>"
      ],
      "text/plain": [
       "           2012   2013   2014   2015  2016  jp_sales\n",
       "platform                                            \n",
       "3DS       19.98  23.57  20.69  15.52  8.03     87.79\n",
       "PS3       11.94  12.13   6.25   3.67  1.30     35.29\n",
       "PSV        2.45   4.05   6.13   4.85  3.56     21.04\n",
       "PS4        0.00   0.94   2.97   6.31  5.74     15.96\n",
       "WiiU       2.13   3.57   3.19   3.45  0.67     13.01"
      ]
     },
     "execution_count": 57,
     "metadata": {},
     "output_type": "execute_result"
    }
   ],
   "source": [
    "platform_region_jp = data.pivot_table(index = \"platform\", columns = \"year_of_release\", values =\"jp_sales\", aggfunc = \"sum\").fillna(0)\n",
    "pl_reg_jp = data.pivot_table(index = \"platform\", values = \"jp_sales\", aggfunc = \"sum\")\n",
    "platform_region_jp = platform_region_jp.join(pl_reg_jp, how = \"left\")\n",
    "platform_region_jp.sort_values(by = \"jp_sales\", ascending = False).head(5)"
   ]
  },
  {
   "cell_type": "markdown",
   "metadata": {},
   "source": [
    "В японии же популярными с 2006 года являются консоли фирмы nintendo. Обьемы продаж гораздо меньше, чем США и европе. Стоит заметить, что амереканские консоли майкрософт не входят в топ 5 по популярности в Японии."
   ]
  },
  {
   "cell_type": "code",
   "execution_count": 58,
   "metadata": {},
   "outputs": [
    {
     "data": {
      "text/html": [
       "<div>\n",
       "<style scoped>\n",
       "    .dataframe tbody tr th:only-of-type {\n",
       "        vertical-align: middle;\n",
       "    }\n",
       "\n",
       "    .dataframe tbody tr th {\n",
       "        vertical-align: top;\n",
       "    }\n",
       "\n",
       "    .dataframe thead th {\n",
       "        text-align: right;\n",
       "    }\n",
       "</style>\n",
       "<table border=\"1\" class=\"dataframe\">\n",
       "  <thead>\n",
       "    <tr style=\"text-align: right;\">\n",
       "      <th></th>\n",
       "      <th>2012</th>\n",
       "      <th>2013</th>\n",
       "      <th>2014</th>\n",
       "      <th>2015</th>\n",
       "      <th>2016</th>\n",
       "      <th>jp_sales</th>\n",
       "    </tr>\n",
       "    <tr>\n",
       "      <th>platform</th>\n",
       "      <th></th>\n",
       "      <th></th>\n",
       "      <th></th>\n",
       "      <th></th>\n",
       "      <th></th>\n",
       "      <th></th>\n",
       "    </tr>\n",
       "  </thead>\n",
       "  <tbody>\n",
       "    <tr>\n",
       "      <th>3DS</th>\n",
       "      <td>19.98</td>\n",
       "      <td>23.57</td>\n",
       "      <td>20.69</td>\n",
       "      <td>15.52</td>\n",
       "      <td>8.03</td>\n",
       "      <td>87.79</td>\n",
       "    </tr>\n",
       "    <tr>\n",
       "      <th>PS4</th>\n",
       "      <td>0.00</td>\n",
       "      <td>0.94</td>\n",
       "      <td>2.97</td>\n",
       "      <td>6.31</td>\n",
       "      <td>5.74</td>\n",
       "      <td>15.96</td>\n",
       "    </tr>\n",
       "    <tr>\n",
       "      <th>PSV</th>\n",
       "      <td>2.45</td>\n",
       "      <td>4.05</td>\n",
       "      <td>6.13</td>\n",
       "      <td>4.85</td>\n",
       "      <td>3.56</td>\n",
       "      <td>21.04</td>\n",
       "    </tr>\n",
       "    <tr>\n",
       "      <th>PS3</th>\n",
       "      <td>11.94</td>\n",
       "      <td>12.13</td>\n",
       "      <td>6.25</td>\n",
       "      <td>3.67</td>\n",
       "      <td>1.30</td>\n",
       "      <td>35.29</td>\n",
       "    </tr>\n",
       "    <tr>\n",
       "      <th>WiiU</th>\n",
       "      <td>2.13</td>\n",
       "      <td>3.57</td>\n",
       "      <td>3.19</td>\n",
       "      <td>3.45</td>\n",
       "      <td>0.67</td>\n",
       "      <td>13.01</td>\n",
       "    </tr>\n",
       "  </tbody>\n",
       "</table>\n",
       "</div>"
      ],
      "text/plain": [
       "           2012   2013   2014   2015  2016  jp_sales\n",
       "platform                                            \n",
       "3DS       19.98  23.57  20.69  15.52  8.03     87.79\n",
       "PS4        0.00   0.94   2.97   6.31  5.74     15.96\n",
       "PSV        2.45   4.05   6.13   4.85  3.56     21.04\n",
       "PS3       11.94  12.13   6.25   3.67  1.30     35.29\n",
       "WiiU       2.13   3.57   3.19   3.45  0.67     13.01"
      ]
     },
     "execution_count": 58,
     "metadata": {},
     "output_type": "execute_result"
    }
   ],
   "source": [
    "platform_region_jp.sort_values(by = 2016, ascending = False).head(5)"
   ]
  },
  {
   "cell_type": "markdown",
   "metadata": {},
   "source": [
    "Такую же тенденцию мы видим в современном рынке в Японии - консоли майкрософт не входят в топ по популрности. Также стоит отметить, что Японцы не любят играть на PC. "
   ]
  },
  {
   "cell_type": "markdown",
   "metadata": {},
   "source": [
    "Таким образом сравнив 3 рынка стоит сделать вывод, что вкусы европейцев и американцев при выборе платформы для игр схожи, за исключением того, что американцы историчеси отдают большое предпочтение консолям майкрософт или ходябы покупают примерно одинаковое количество игр на них, как на консоли сони, европейцы же отдают предпочтение консолям PS. Японцы же играют больше на консолях фирмы nintendo и sony и не любят использовать для игр xbox и PC"
   ]
  },
  {
   "cell_type": "markdown",
   "metadata": {},
   "source": [
    "Теперь рассмотрим самые популярные жанры игр в NA, EU и JP"
   ]
  },
  {
   "cell_type": "code",
   "execution_count": 59,
   "metadata": {},
   "outputs": [
    {
     "data": {
      "text/html": [
       "<div>\n",
       "<style scoped>\n",
       "    .dataframe tbody tr th:only-of-type {\n",
       "        vertical-align: middle;\n",
       "    }\n",
       "\n",
       "    .dataframe tbody tr th {\n",
       "        vertical-align: top;\n",
       "    }\n",
       "\n",
       "    .dataframe thead th {\n",
       "        text-align: right;\n",
       "    }\n",
       "</style>\n",
       "<table border=\"1\" class=\"dataframe\">\n",
       "  <thead>\n",
       "    <tr style=\"text-align: right;\">\n",
       "      <th></th>\n",
       "      <th>na_sales</th>\n",
       "      <th>na/word</th>\n",
       "    </tr>\n",
       "    <tr>\n",
       "      <th>genre</th>\n",
       "      <th></th>\n",
       "      <th></th>\n",
       "    </tr>\n",
       "  </thead>\n",
       "  <tbody>\n",
       "    <tr>\n",
       "      <th>Action</th>\n",
       "      <td>177.84</td>\n",
       "      <td>40</td>\n",
       "    </tr>\n",
       "    <tr>\n",
       "      <th>Shooter</th>\n",
       "      <td>144.77</td>\n",
       "      <td>47</td>\n",
       "    </tr>\n",
       "    <tr>\n",
       "      <th>Sports</th>\n",
       "      <td>81.53</td>\n",
       "      <td>45</td>\n",
       "    </tr>\n",
       "    <tr>\n",
       "      <th>Role-Playing</th>\n",
       "      <td>64.00</td>\n",
       "      <td>33</td>\n",
       "    </tr>\n",
       "    <tr>\n",
       "      <th>Misc</th>\n",
       "      <td>38.19</td>\n",
       "      <td>44</td>\n",
       "    </tr>\n",
       "  </tbody>\n",
       "</table>\n",
       "</div>"
      ],
      "text/plain": [
       "              na_sales  na/word\n",
       "genre                          \n",
       "Action          177.84       40\n",
       "Shooter         144.77       47\n",
       "Sports           81.53       45\n",
       "Role-Playing     64.00       33\n",
       "Misc             38.19       44"
      ]
     },
     "execution_count": 59,
     "metadata": {},
     "output_type": "execute_result"
    }
   ],
   "source": [
    "genre_na = data.pivot_table(index = \"genre\", values = \"na_sales\", aggfunc = \"sum\").sort_values(by = \"na_sales\", ascending = False)\n",
    "genre_na[\"na/word\"] = genre_na[\"na_sales\"]/genre[\"sum_sales\"] * 100\n",
    "genre_na[\"na/word\"] = genre_na[\"na/word\"].astype(\"int\")\n",
    "genre_na.head(5)"
   ]
  },
  {
   "cell_type": "markdown",
   "metadata": {},
   "source": [
    "В Северной Америке топ 5 жанр игр не отличается от самых популярных жанров игр во всем мире. Столбец na/word показывает какой процент от общемировых продаж игр жанра составляет Северная Америка. Во всех жанрах из топа, исключая ролевые игры амереканский рынок составляет примерно 40-45 процентов от общего."
   ]
  },
  {
   "cell_type": "code",
   "execution_count": 60,
   "metadata": {},
   "outputs": [
    {
     "data": {
      "text/html": [
       "<div>\n",
       "<style scoped>\n",
       "    .dataframe tbody tr th:only-of-type {\n",
       "        vertical-align: middle;\n",
       "    }\n",
       "\n",
       "    .dataframe tbody tr th {\n",
       "        vertical-align: top;\n",
       "    }\n",
       "\n",
       "    .dataframe thead th {\n",
       "        text-align: right;\n",
       "    }\n",
       "</style>\n",
       "<table border=\"1\" class=\"dataframe\">\n",
       "  <thead>\n",
       "    <tr style=\"text-align: right;\">\n",
       "      <th></th>\n",
       "      <th>eu_sales</th>\n",
       "      <th>eu/word</th>\n",
       "    </tr>\n",
       "    <tr>\n",
       "      <th>genre</th>\n",
       "      <th></th>\n",
       "      <th></th>\n",
       "    </tr>\n",
       "  </thead>\n",
       "  <tbody>\n",
       "    <tr>\n",
       "      <th>Action</th>\n",
       "      <td>159.34</td>\n",
       "      <td>36</td>\n",
       "    </tr>\n",
       "    <tr>\n",
       "      <th>Shooter</th>\n",
       "      <td>113.47</td>\n",
       "      <td>37</td>\n",
       "    </tr>\n",
       "    <tr>\n",
       "      <th>Sports</th>\n",
       "      <td>69.09</td>\n",
       "      <td>38</td>\n",
       "    </tr>\n",
       "    <tr>\n",
       "      <th>Role-Playing</th>\n",
       "      <td>48.53</td>\n",
       "      <td>25</td>\n",
       "    </tr>\n",
       "    <tr>\n",
       "      <th>Racing</th>\n",
       "      <td>27.29</td>\n",
       "      <td>51</td>\n",
       "    </tr>\n",
       "  </tbody>\n",
       "</table>\n",
       "</div>"
      ],
      "text/plain": [
       "              eu_sales  eu/word\n",
       "genre                          \n",
       "Action          159.34       36\n",
       "Shooter         113.47       37\n",
       "Sports           69.09       38\n",
       "Role-Playing     48.53       25\n",
       "Racing           27.29       51"
      ]
     },
     "execution_count": 60,
     "metadata": {},
     "output_type": "execute_result"
    }
   ],
   "source": [
    "genre_eu = data.pivot_table(index = \"genre\", values = \"eu_sales\", aggfunc = \"sum\").sort_values(by = \"eu_sales\", ascending = False)\n",
    "genre_eu[\"eu/word\"] = genre_eu[\"eu_sales\"]/genre[\"sum_sales\"] * 100\n",
    "genre_eu[\"eu/word\"] = genre_eu[\"eu/word\"].astype(\"int\")\n",
    "genre_eu.head(5)"
   ]
  },
  {
   "cell_type": "markdown",
   "metadata": {},
   "source": [
    "Топ 5 жанров в европе почти такой же как и США, но в Европе игроки больше предпочитают гонки, чем ролевые игры. Также процент продаж от общемирового гораздо ниже, чем в США."
   ]
  },
  {
   "cell_type": "code",
   "execution_count": 61,
   "metadata": {},
   "outputs": [
    {
     "data": {
      "text/html": [
       "<div>\n",
       "<style scoped>\n",
       "    .dataframe tbody tr th:only-of-type {\n",
       "        vertical-align: middle;\n",
       "    }\n",
       "\n",
       "    .dataframe tbody tr th {\n",
       "        vertical-align: top;\n",
       "    }\n",
       "\n",
       "    .dataframe thead th {\n",
       "        text-align: right;\n",
       "    }\n",
       "</style>\n",
       "<table border=\"1\" class=\"dataframe\">\n",
       "  <thead>\n",
       "    <tr style=\"text-align: right;\">\n",
       "      <th></th>\n",
       "      <th>jp_sales</th>\n",
       "      <th>jp/word</th>\n",
       "    </tr>\n",
       "    <tr>\n",
       "      <th>genre</th>\n",
       "      <th></th>\n",
       "      <th></th>\n",
       "    </tr>\n",
       "  </thead>\n",
       "  <tbody>\n",
       "    <tr>\n",
       "      <th>Role-Playing</th>\n",
       "      <td>65.44</td>\n",
       "      <td>33</td>\n",
       "    </tr>\n",
       "    <tr>\n",
       "      <th>Action</th>\n",
       "      <td>52.80</td>\n",
       "      <td>11</td>\n",
       "    </tr>\n",
       "    <tr>\n",
       "      <th>Misc</th>\n",
       "      <td>12.86</td>\n",
       "      <td>15</td>\n",
       "    </tr>\n",
       "    <tr>\n",
       "      <th>Simulation</th>\n",
       "      <td>10.41</td>\n",
       "      <td>29</td>\n",
       "    </tr>\n",
       "    <tr>\n",
       "      <th>Fighting</th>\n",
       "      <td>9.44</td>\n",
       "      <td>21</td>\n",
       "    </tr>\n",
       "  </tbody>\n",
       "</table>\n",
       "</div>"
      ],
      "text/plain": [
       "              jp_sales  jp/word\n",
       "genre                          \n",
       "Role-Playing     65.44       33\n",
       "Action           52.80       11\n",
       "Misc             12.86       15\n",
       "Simulation       10.41       29\n",
       "Fighting          9.44       21"
      ]
     },
     "execution_count": 61,
     "metadata": {},
     "output_type": "execute_result"
    }
   ],
   "source": [
    "genre_jp = data.pivot_table(index = \"genre\", values = \"jp_sales\", aggfunc = \"sum\").sort_values(by = \"jp_sales\", ascending = False)\n",
    "genre_jp[\"jp/word\"] = genre_jp[\"jp_sales\"]/genre[\"sum_sales\"] * 100\n",
    "genre_jp[\"jp/word\"] = genre_jp[\"jp/word\"].astype(\"int\")\n",
    "genre_jp.head(5)"
   ]
  },
  {
   "cell_type": "markdown",
   "metadata": {},
   "source": [
    "В Японии вкусы у игроков совсем другие. Японцы больше всего покупают ролевые игры, целых 33 процента от общемирового количества копий. Также в японском топе появляются симуляторы. Японцы не так как европейцы и американцы любят шутеры - они вообще не попали в том в этом регионе. "
   ]
  },
  {
   "cell_type": "markdown",
   "metadata": {},
   "source": [
    "Таким образом мы рассмотрели топ 5 популярных в регионах жанров. Стоит отметить, что европейцы и американцы играют почти в одинаковые жанры компьютерных игр, а вот японцы имеют совершенно другие вкусы."
   ]
  },
  {
   "cell_type": "markdown",
   "metadata": {},
   "source": [
    "Теперь рассмотрим как возрастной рейтинг влияет на продажи игр в отдельных регионах."
   ]
  },
  {
   "cell_type": "code",
   "execution_count": 62,
   "metadata": {},
   "outputs": [
    {
     "data": {
      "text/html": [
       "<div>\n",
       "<style scoped>\n",
       "    .dataframe tbody tr th:only-of-type {\n",
       "        vertical-align: middle;\n",
       "    }\n",
       "\n",
       "    .dataframe tbody tr th {\n",
       "        vertical-align: top;\n",
       "    }\n",
       "\n",
       "    .dataframe thead th {\n",
       "        text-align: right;\n",
       "    }\n",
       "</style>\n",
       "<table border=\"1\" class=\"dataframe\">\n",
       "  <thead>\n",
       "    <tr style=\"text-align: right;\">\n",
       "      <th></th>\n",
       "      <th>na_sales</th>\n",
       "    </tr>\n",
       "    <tr>\n",
       "      <th>rating</th>\n",
       "      <th></th>\n",
       "    </tr>\n",
       "  </thead>\n",
       "  <tbody>\n",
       "    <tr>\n",
       "      <th>E</th>\n",
       "      <td>114.37</td>\n",
       "    </tr>\n",
       "    <tr>\n",
       "      <th>E10+</th>\n",
       "      <td>75.70</td>\n",
       "    </tr>\n",
       "    <tr>\n",
       "      <th>M</th>\n",
       "      <td>231.57</td>\n",
       "    </tr>\n",
       "    <tr>\n",
       "      <th>T</th>\n",
       "      <td>66.02</td>\n",
       "    </tr>\n",
       "    <tr>\n",
       "      <th>Unknown</th>\n",
       "      <td>103.31</td>\n",
       "    </tr>\n",
       "  </tbody>\n",
       "</table>\n",
       "</div>"
      ],
      "text/plain": [
       "         na_sales\n",
       "rating           \n",
       "E          114.37\n",
       "E10+        75.70\n",
       "M          231.57\n",
       "T           66.02\n",
       "Unknown    103.31"
      ]
     },
     "execution_count": 62,
     "metadata": {},
     "output_type": "execute_result"
    }
   ],
   "source": [
    "esrb_na = data.pivot_table(index = \"rating\", values = \"na_sales\", aggfunc = \"sum\")\n",
    "esrb_na"
   ]
  },
  {
   "cell_type": "code",
   "execution_count": 67,
   "metadata": {},
   "outputs": [
    {
     "data": {
      "text/plain": [
       "<AxesSubplot:ylabel='na_sales'>"
      ]
     },
     "execution_count": 67,
     "metadata": {},
     "output_type": "execute_result"
    },
    {
     "data": {
      "image/png": "[encoded data removed]",
      "text/plain": [
       "<Figure size 720x576 with 1 Axes>"
      ]
     },
     "metadata": {},
     "output_type": "display_data"
    }
   ],
   "source": [
    "esrb_na.plot(kind = \"pie\", y = \"na_sales\", figsize = (10,8))"
   ]
  },
  {
   "cell_type": "markdown",
   "metadata": {},
   "source": [
    "В Северной Америке самыми продаваемыми являются игры с рецтингом М. Игры для детей и для тинейджеров примерно одинаковы по продажам. Игр для всех - с рейтингом E, больше чем для тинейджеров и детей, но меньше чем для взрослых"
   ]
  },
  {
   "cell_type": "code",
   "execution_count": 68,
   "metadata": {},
   "outputs": [
    {
     "data": {
      "text/html": [
       "<div>\n",
       "<style scoped>\n",
       "    .dataframe tbody tr th:only-of-type {\n",
       "        vertical-align: middle;\n",
       "    }\n",
       "\n",
       "    .dataframe tbody tr th {\n",
       "        vertical-align: top;\n",
       "    }\n",
       "\n",
       "    .dataframe thead th {\n",
       "        text-align: right;\n",
       "    }\n",
       "</style>\n",
       "<table border=\"1\" class=\"dataframe\">\n",
       "  <thead>\n",
       "    <tr style=\"text-align: right;\">\n",
       "      <th></th>\n",
       "      <th>eu_sales</th>\n",
       "    </tr>\n",
       "    <tr>\n",
       "      <th>rating</th>\n",
       "      <th></th>\n",
       "    </tr>\n",
       "  </thead>\n",
       "  <tbody>\n",
       "    <tr>\n",
       "      <th>E</th>\n",
       "      <td>113.03</td>\n",
       "    </tr>\n",
       "    <tr>\n",
       "      <th>E10+</th>\n",
       "      <td>55.37</td>\n",
       "    </tr>\n",
       "    <tr>\n",
       "      <th>M</th>\n",
       "      <td>193.96</td>\n",
       "    </tr>\n",
       "    <tr>\n",
       "      <th>T</th>\n",
       "      <td>52.96</td>\n",
       "    </tr>\n",
       "    <tr>\n",
       "      <th>Unknown</th>\n",
       "      <td>91.50</td>\n",
       "    </tr>\n",
       "  </tbody>\n",
       "</table>\n",
       "</div>"
      ],
      "text/plain": [
       "         eu_sales\n",
       "rating           \n",
       "E          113.03\n",
       "E10+        55.37\n",
       "M          193.96\n",
       "T           52.96\n",
       "Unknown     91.50"
      ]
     },
     "execution_count": 68,
     "metadata": {},
     "output_type": "execute_result"
    }
   ],
   "source": [
    "esrb_eu = data.pivot_table(index = \"rating\", values = \"eu_sales\", aggfunc = \"sum\")\n",
    "esrb_eu"
   ]
  },
  {
   "cell_type": "code",
   "execution_count": 69,
   "metadata": {},
   "outputs": [
    {
     "data": {
      "text/plain": [
       "<AxesSubplot:ylabel='eu_sales'>"
      ]
     },
     "execution_count": 69,
     "metadata": {},
     "output_type": "execute_result"
    },
    {
     "data": {
      "image/png": "[encoded data removed]",
      "text/plain": [
       "<Figure size 720x576 with 1 Axes>"
      ]
     },
     "metadata": {},
     "output_type": "display_data"
    }
   ],
   "source": [
    "esrb_eu.plot(kind = \"pie\", y = \"eu_sales\", figsize = (10,8))"
   ]
  },
  {
   "cell_type": "markdown",
   "metadata": {},
   "source": [
    "Распределнение игр по возрастному рейтингу в Европе такое же как в США."
   ]
  },
  {
   "cell_type": "code",
   "execution_count": 70,
   "metadata": {},
   "outputs": [
    {
     "data": {
      "text/html": [
       "<div>\n",
       "<style scoped>\n",
       "    .dataframe tbody tr th:only-of-type {\n",
       "        vertical-align: middle;\n",
       "    }\n",
       "\n",
       "    .dataframe tbody tr th {\n",
       "        vertical-align: top;\n",
       "    }\n",
       "\n",
       "    .dataframe thead th {\n",
       "        text-align: right;\n",
       "    }\n",
       "</style>\n",
       "<table border=\"1\" class=\"dataframe\">\n",
       "  <thead>\n",
       "    <tr style=\"text-align: right;\">\n",
       "      <th></th>\n",
       "      <th>jp_sales</th>\n",
       "    </tr>\n",
       "    <tr>\n",
       "      <th>rating</th>\n",
       "      <th></th>\n",
       "    </tr>\n",
       "  </thead>\n",
       "  <tbody>\n",
       "    <tr>\n",
       "      <th>E</th>\n",
       "      <td>28.33</td>\n",
       "    </tr>\n",
       "    <tr>\n",
       "      <th>E10+</th>\n",
       "      <td>8.19</td>\n",
       "    </tr>\n",
       "    <tr>\n",
       "      <th>M</th>\n",
       "      <td>21.20</td>\n",
       "    </tr>\n",
       "    <tr>\n",
       "      <th>T</th>\n",
       "      <td>26.02</td>\n",
       "    </tr>\n",
       "    <tr>\n",
       "      <th>Unknown</th>\n",
       "      <td>108.84</td>\n",
       "    </tr>\n",
       "  </tbody>\n",
       "</table>\n",
       "</div>"
      ],
      "text/plain": [
       "         jp_sales\n",
       "rating           \n",
       "E           28.33\n",
       "E10+         8.19\n",
       "M           21.20\n",
       "T           26.02\n",
       "Unknown    108.84"
      ]
     },
     "execution_count": 70,
     "metadata": {},
     "output_type": "execute_result"
    }
   ],
   "source": [
    "esrb_jp = data.pivot_table(index = \"rating\", values = \"jp_sales\", aggfunc = \"sum\")\n",
    "esrb_jp"
   ]
  },
  {
   "cell_type": "code",
   "execution_count": 71,
   "metadata": {},
   "outputs": [
    {
     "data": {
      "text/plain": [
       "<AxesSubplot:ylabel='jp_sales'>"
      ]
     },
     "execution_count": 71,
     "metadata": {},
     "output_type": "execute_result"
    },
    {
     "data": {
      "image/png": "[encoded data removed]",
      "text/plain": [
       "<Figure size 720x576 with 1 Axes>"
      ]
     },
     "metadata": {},
     "output_type": "display_data"
    }
   ],
   "source": [
    "esrb_jp.plot(kind = \"pie\", y = \"jp_sales\", figsize = (10,8))"
   ]
  },
  {
   "cell_type": "markdown",
   "metadata": {},
   "source": [
    "В Японии распределение иное. Игры для детей продаются меньше всего. Игр для тинейджеров и для всех возрастов продается примерно одинаковое количество и больше всех. Также на Японском рейтинге множество игр без ретинга. Такое возможно так как в Японии возрастной рейтинг устанавливает своя организация CERO"
   ]
  },
  {
   "cell_type": "markdown",
   "metadata": {},
   "source": [
    "Мной был проведен анализ зависимости количества проданных копий игры от ее возрастного рейтинга. В Европе и США самые популярные игры для взрослых, а менее популярные для тинейджеров и детей. В Японии же наоборот - игры для тинейджеров гораздо популярнее игр для взрослых."
   ]
  },
  {
   "cell_type": "markdown",
   "metadata": {},
   "source": [
    "<div class=\"alert alert-success\">\n",
    "<h2> Комментарий ревьюера v.3<a class=\"tocSkip\"> </h2>\n",
    "\n",
    "<b>Все отлично!👍:</b> \n",
    "    \n",
    "Отлично! Теперь мы увидели, что в Японии этот рейтинг часто не ставят, и ты правильно объяснил этот феномен\n",
    "</div>"
   ]
  },
  {
   "cell_type": "markdown",
   "metadata": {},
   "source": [
    "Далее приступим к проверки гипотез. Первой гипотезой является, то, что средние пользовательские рейтинги платформ Xbox One и PC одинаковые. Для проверки гипотез необходимо ввести нулевую и альтернативную гипотезу. Нулевая гипотеза - и является проаеряемой нами - средние пользовательские рейтинги платформ Xbox One и PC одинаковые. Альтернаивная же гипотеза - средние пользовательские рейтинги платформ Xbox One и PC различаются. Критический уровень возьмем равный 0.05. Если данные не будут протеворечить нулевой гипотезе, то возьмем ее как верную. Так как выборки разных размеров, параметр equal_var возьмем равным false. Приступим к проверки:"
   ]
  },
  {
   "cell_type": "code",
   "execution_count": 72,
   "metadata": {},
   "outputs": [],
   "source": [
    "test = st.ttest_ind(xbox[\"user_score\"], pc[\"user_score\"], equal_var = False)"
   ]
  },
  {
   "cell_type": "markdown",
   "metadata": {},
   "source": [
    "Сравним уровень значимости с критическим:"
   ]
  },
  {
   "cell_type": "code",
   "execution_count": 73,
   "metadata": {},
   "outputs": [
    {
     "name": "stdout",
     "output_type": "stream",
     "text": [
      "Нельзя отвергнуть нулевую гипотезу\n",
      "0.05619765758385681\n"
     ]
    }
   ],
   "source": [
    "if test.pvalue < 0.05:\n",
    "    print(\"Необходимо отвергнуть нулевую гипотезу\")\n",
    "else:\n",
    "    print(\"Нельзя отвергнуть нулевую гипотезу\")\n",
    "print(test.pvalue)"
   ]
  },
  {
   "cell_type": "markdown",
   "metadata": {},
   "source": [
    "Из теста видно, что данные показывают на состоятельность нулевой гипотезы. Таким образом будем считать верной гипотезу, что средние пользовательские рейтинги платформ Xbox One и PC одинаковы. Преступим к проверки второй гипотезы - средние пользовательские рейтинги жанров Action и Sports разные."
   ]
  },
  {
   "cell_type": "markdown",
   "metadata": {},
   "source": [
    "Нулевая гипотеза - средние пользовательские рейтинги жанров Action и Sports одинаковые. Альтернативная - средние пользовательские рейтинги жанров Action и Sports разные. Альфа возьмем равной 0.05."
   ]
  },
  {
   "cell_type": "code",
   "execution_count": 74,
   "metadata": {},
   "outputs": [],
   "source": [
    "action = data[data[\"genre\"] == \"Action\"]\n",
    "sport = data[data[\"genre\"] == \"Sports\"]"
   ]
  },
  {
   "cell_type": "code",
   "execution_count": 75,
   "metadata": {},
   "outputs": [],
   "source": [
    "test_1 = st.ttest_ind(action[\"user_score\"], sport[\"user_score\"], equal_var = False)"
   ]
  },
  {
   "cell_type": "code",
   "execution_count": 76,
   "metadata": {},
   "outputs": [
    {
     "name": "stdout",
     "output_type": "stream",
     "text": [
      "Необходимо отвергнуть нулевую гипотезу\n",
      "0.0020018209559324713\n"
     ]
    }
   ],
   "source": [
    "if test_1.pvalue < 0.05:\n",
    "    print(\"Необходимо отвергнуть нулевую гипотезу\")\n",
    "else:\n",
    "    print(\"Нельзя отвергнуть нулевую гипотезу\")\n",
    "print(test_1.pvalue)"
   ]
  },
  {
   "cell_type": "markdown",
   "metadata": {},
   "source": [
    "Тест показыавет необходимость отвергнуть нулевую гипотезу. Следовательно возьмем как верную гипотезу - средние пользовательские рейтинги жанров Action и Sports разные."
   ]
  },
  {
   "cell_type": "markdown",
   "metadata": {},
   "source": [
    "Мной были проверены 2 гипотезы. По выборкам будем считать верными во всец генеральной совокупности, то что средние пользовательские рейтинги платформ Xbox One и PC различаются и средние пользовательские рейтинги жанров Action и Sports разные."
   ]
  },
  {
   "cell_type": "markdown",
   "metadata": {},
   "source": [
    "<div class=\"alert alert-success\">\n",
    "<h2> Комментарий ревьюера <a class=\"tocSkip\"> </h2>\n",
    "\n",
    "<b>Все отлично!👍:</b> \n",
    "    \n",
    "Гипотезы сформулированы правильно, тесты проведены тоже верно, выводы из них корректные.\n",
    "\n",
    "При изменении выборки (когда ты изменишь временной интервал и возьмешь данные не с 2006 года) значения тестов могут измениться, обрати внимание\n",
    "</div>"
   ]
  },
  {
   "cell_type": "markdown",
   "metadata": {},
   "source": [
    "<b> Общий вывод </b>"
   ]
  },
  {
   "cell_type": "markdown",
   "metadata": {},
   "source": [
    "В данном проекте мной был предобработан и проанализирован датасет и выявлены некоторые закономерности для опередения игр в рекламу которых будет выгодно вложиться в 2017 году. Исходя из проведенных исследований мной было выявлено, что самая популярная платформа в 2017 году будет являться PS4, так как эта консоль популярна в трех основных регионах и имеет высокую относительно других платформ медиану количествва проданных копий игр, также возможны большие выбросы. Также не стоит забывать про Xbox ONE, PC, и некоторые консоли от nintendo. Cамый популярный жанр экшен - его любят в 3 основных регионах. Также стоит вкладываться в рекламу либо игр для всех возрастов или игр для взрослых. Для Японского рынка - игры для подросков и игры для всех возрастов. Исследования показали, что не стоит обращать внимание на оценки игр, на них пользователи смотрят далеко не в первую очередь. Таким образом идеальная игра для продвижения - игра для PS4 в жанре шутер, с возрастным ограничением для взрослых.\n"
   ]
  },
  {
   "cell_type": "markdown",
   "metadata": {},
   "source": [
    "Считаю все задания выполненными, а работу готовой к проверке."
   ]
  },
  {
   "cell_type": "markdown",
   "metadata": {},
   "source": [
    "<blockquote>\n",
    "\n",
    "**Общий вывод по проекту**\n",
    "\n",
    "Спасибо за твой проект! Ты приложил много усилий, чтобы довести его до конца, проделана огромная работа, и это видно невооруженным глазом, ты большой молодец! Есть несколько важных моментов, которые я отметил и которые можно было бы улучшить, подсказки ты найдешь в моих комментариях.\n",
    "\n",
    "**Отмечу отдельные положительные моменты проекта**:\n",
    "\n",
    "* На разных шагах проекта ты предлагал очень интересные решения и методы для их реализации. Хорошая работа!\n",
    "* Ты использовал самые разные методы для работы с данными, все получилось!\n",
    "* На каждом шагу писал подробные выводы\n",
    "\n",
    "**Что нужно исправить:**:\n",
    "* На стадии предобработки исправить замену оценок критиков, пользователей и возрастного рейтинга\n",
    "* Изменить выборку для прогнозов - взять период с 2012 года\n",
    "* Лучший жанр определять по средним/медианным продажам, а не суммарным\n",
    "* Добавить анализ корреляций для еще 2 платформ.\n",
    "* Исправить график ящика с усами, убрав с него выбросы.\n",
    "* Также я бы посоветовал немного больше внимания уделить оформлению, например, чаще использовать ячейки типа Markdown и заголовки в них\n",
    "* Остальные рекомендации ты найдешь в комментариях проекта\n",
    "    \n",
    "Если есть вопросы, я готов на них ответить.\n",
    "    \n",
    "Для работы с графиками я бы посоветовал обратить внимание на этот гайд на русском языке к библиотеке seaborn, с её помощью получаются красивые графики, и она не сложна для изучения. Можно просто посмотреть картинки и потом уже вчитаться в код как их получили https://nbviewer.org/urls/mipt-stats.gitlab.io/courses/python/09_seaborn.ipynb\n",
    "\n",
    "**Желаю удачи и жду твой проект на повторное ревью!**\n",
    "</blockquote>"
   ]
  },
  {
   "cell_type": "markdown",
   "metadata": {},
   "source": [
    "<blockquote>\n",
    "\n",
    "**Общий вывод по проекту v.2**\n",
    "\n",
    "Почти всё исправлено! Осталось чуть чуть:\n",
    "* Нужно убрать значения заглушки для пропусков из анализа корреляций\n",
    "* Нужно оставить категорию с неизвестным возрастным рейтингом при его анализе \n",
    "    \n",
    "\n",
    "**Желаю удачи и жду твой проект на повторное ревью!**\n",
    "</blockquote>"
   ]
  },
  {
   "cell_type": "markdown",
   "metadata": {},
   "source": [
    "<blockquote>\n",
    "\n",
    "**Общий вывод по проекту v.3**\n",
    "\n",
    "Критичных замечаний больше нет, проект принимаю\n",
    "    \n",
    "\n",
    "**Желаю удачи с дальнейшим прохождением курса, у тебя всё получится!**\n",
    "</blockquote>"
   ]
  },
  {
   "cell_type": "code",
   "execution_count": null,
   "metadata": {},
   "outputs": [],
   "source": []
  }
 ],
 "metadata": {
  "ExecuteTimeLog": [
   {
    "duration": 393,
    "start_time": "2022-05-17T11:35:09.852Z"
   },
   {
    "duration": 453,
    "start_time": "2022-05-17T11:35:48.717Z"
   },
   {
    "duration": 26,
    "start_time": "2022-05-17T11:35:50.848Z"
   },
   {
    "duration": 5,
    "start_time": "2022-05-17T11:36:42.141Z"
   },
   {
    "duration": 22,
    "start_time": "2022-05-17T11:37:29.727Z"
   },
   {
    "duration": 63,
    "start_time": "2022-05-17T11:37:39.992Z"
   },
   {
    "duration": 5,
    "start_time": "2022-05-17T11:37:46.414Z"
   },
   {
    "duration": 20,
    "start_time": "2022-05-17T11:38:25.497Z"
   },
   {
    "duration": 12,
    "start_time": "2022-05-17T11:38:37.174Z"
   },
   {
    "duration": 19,
    "start_time": "2022-05-17T11:39:00.081Z"
   },
   {
    "duration": 27,
    "start_time": "2022-05-17T11:39:23.584Z"
   },
   {
    "duration": 6,
    "start_time": "2022-05-17T11:40:16.914Z"
   },
   {
    "duration": 5,
    "start_time": "2022-05-17T11:40:27.750Z"
   },
   {
    "duration": 6,
    "start_time": "2022-05-17T11:45:01.046Z"
   },
   {
    "duration": 10,
    "start_time": "2022-05-17T11:45:26.612Z"
   },
   {
    "duration": 1447,
    "start_time": "2022-05-17T11:46:02.010Z"
   },
   {
    "duration": 6,
    "start_time": "2022-05-17T11:46:15.300Z"
   },
   {
    "duration": 13,
    "start_time": "2022-05-17T11:46:46.827Z"
   },
   {
    "duration": 18,
    "start_time": "2022-05-17T11:47:09.539Z"
   },
   {
    "duration": 9,
    "start_time": "2022-05-17T11:47:17.044Z"
   },
   {
    "duration": 16,
    "start_time": "2022-05-17T13:09:12.928Z"
   },
   {
    "duration": 14,
    "start_time": "2022-05-17T13:10:22.942Z"
   },
   {
    "duration": 4,
    "start_time": "2022-05-17T13:13:57.327Z"
   },
   {
    "duration": 6,
    "start_time": "2022-05-17T13:20:14.124Z"
   },
   {
    "duration": 4,
    "start_time": "2022-05-17T13:20:22.385Z"
   },
   {
    "duration": 11,
    "start_time": "2022-05-17T13:23:19.270Z"
   },
   {
    "duration": 8,
    "start_time": "2022-05-17T13:23:23.351Z"
   },
   {
    "duration": 9,
    "start_time": "2022-05-17T13:25:06.382Z"
   },
   {
    "duration": 728,
    "start_time": "2022-05-17T13:25:22.658Z"
   },
   {
    "duration": 777,
    "start_time": "2022-05-17T13:25:43.886Z"
   },
   {
    "duration": 9,
    "start_time": "2022-05-17T13:27:32.804Z"
   },
   {
    "duration": 7,
    "start_time": "2022-05-17T13:27:50.180Z"
   },
   {
    "duration": 9,
    "start_time": "2022-05-17T13:28:03.111Z"
   },
   {
    "duration": 9,
    "start_time": "2022-05-17T13:28:38.464Z"
   },
   {
    "duration": 8,
    "start_time": "2022-05-17T13:30:49.032Z"
   },
   {
    "duration": 761,
    "start_time": "2022-05-17T13:30:53.783Z"
   },
   {
    "duration": 19,
    "start_time": "2022-05-17T13:31:14.499Z"
   },
   {
    "duration": 7,
    "start_time": "2022-05-17T13:33:56.371Z"
   },
   {
    "duration": 17,
    "start_time": "2022-05-17T13:33:57.232Z"
   },
   {
    "duration": 677,
    "start_time": "2022-05-17T13:33:59.000Z"
   },
   {
    "duration": 2,
    "start_time": "2022-05-17T13:34:14.231Z"
   },
   {
    "duration": 41,
    "start_time": "2022-05-17T13:34:14.235Z"
   },
   {
    "duration": 16,
    "start_time": "2022-05-17T13:34:14.277Z"
   },
   {
    "duration": 15,
    "start_time": "2022-05-17T13:34:14.294Z"
   },
   {
    "duration": 4,
    "start_time": "2022-05-17T13:34:14.311Z"
   },
   {
    "duration": 7,
    "start_time": "2022-05-17T13:34:14.316Z"
   },
   {
    "duration": 11,
    "start_time": "2022-05-17T13:34:14.324Z"
   },
   {
    "duration": 9,
    "start_time": "2022-05-17T13:34:14.336Z"
   },
   {
    "duration": 17,
    "start_time": "2022-05-17T13:34:14.346Z"
   },
   {
    "duration": 825,
    "start_time": "2022-05-17T13:34:14.364Z"
   },
   {
    "duration": 348,
    "start_time": "2022-05-17T13:34:26.594Z"
   },
   {
    "duration": 365,
    "start_time": "2022-05-17T13:34:52.042Z"
   },
   {
    "duration": 108,
    "start_time": "2022-05-17T13:36:52.579Z"
   },
   {
    "duration": 10,
    "start_time": "2022-05-17T13:37:31.541Z"
   },
   {
    "duration": 14,
    "start_time": "2022-05-17T13:40:34.858Z"
   },
   {
    "duration": 5,
    "start_time": "2022-05-17T13:40:54.988Z"
   },
   {
    "duration": 5,
    "start_time": "2022-05-17T13:41:15.841Z"
   },
   {
    "duration": 10,
    "start_time": "2022-05-17T13:41:24.773Z"
   },
   {
    "duration": 1598,
    "start_time": "2022-05-17T13:41:34.624Z"
   },
   {
    "duration": 0,
    "start_time": "2022-05-17T13:41:36.224Z"
   },
   {
    "duration": 1797,
    "start_time": "2022-05-17T13:41:46.859Z"
   },
   {
    "duration": 2594,
    "start_time": "2022-05-17T13:41:56.916Z"
   },
   {
    "duration": 0,
    "start_time": "2022-05-17T13:41:59.512Z"
   },
   {
    "duration": 2,
    "start_time": "2022-05-17T13:42:04.959Z"
   },
   {
    "duration": 41,
    "start_time": "2022-05-17T13:42:04.963Z"
   },
   {
    "duration": 16,
    "start_time": "2022-05-17T13:42:05.005Z"
   },
   {
    "duration": 17,
    "start_time": "2022-05-17T13:42:05.023Z"
   },
   {
    "duration": 5,
    "start_time": "2022-05-17T13:42:05.042Z"
   },
   {
    "duration": 14,
    "start_time": "2022-05-17T13:42:05.048Z"
   },
   {
    "duration": 25,
    "start_time": "2022-05-17T13:42:05.064Z"
   },
   {
    "duration": 12,
    "start_time": "2022-05-17T13:42:05.091Z"
   },
   {
    "duration": 6,
    "start_time": "2022-05-17T13:42:05.104Z"
   },
   {
    "duration": 13,
    "start_time": "2022-05-17T13:42:05.112Z"
   },
   {
    "duration": 1627,
    "start_time": "2022-05-17T13:42:05.127Z"
   },
   {
    "duration": 0,
    "start_time": "2022-05-17T13:42:06.756Z"
   },
   {
    "duration": 0,
    "start_time": "2022-05-17T13:42:06.758Z"
   },
   {
    "duration": 9,
    "start_time": "2022-05-17T13:45:03.939Z"
   },
   {
    "duration": 3,
    "start_time": "2022-05-17T13:45:10.624Z"
   },
   {
    "duration": 40,
    "start_time": "2022-05-17T13:45:10.629Z"
   },
   {
    "duration": 16,
    "start_time": "2022-05-17T13:45:10.670Z"
   },
   {
    "duration": 17,
    "start_time": "2022-05-17T13:45:10.687Z"
   },
   {
    "duration": 8,
    "start_time": "2022-05-17T13:45:10.707Z"
   },
   {
    "duration": 9,
    "start_time": "2022-05-17T13:45:10.717Z"
   },
   {
    "duration": 12,
    "start_time": "2022-05-17T13:45:10.728Z"
   },
   {
    "duration": 17,
    "start_time": "2022-05-17T13:45:10.742Z"
   },
   {
    "duration": 27,
    "start_time": "2022-05-17T13:45:10.761Z"
   },
   {
    "duration": 30,
    "start_time": "2022-05-17T13:45:10.791Z"
   },
   {
    "duration": 30,
    "start_time": "2022-05-17T13:45:10.825Z"
   },
   {
    "duration": 0,
    "start_time": "2022-05-17T13:45:10.857Z"
   },
   {
    "duration": 0,
    "start_time": "2022-05-17T13:45:10.858Z"
   },
   {
    "duration": 9,
    "start_time": "2022-05-17T13:45:41.271Z"
   },
   {
    "duration": 20,
    "start_time": "2022-05-17T13:46:56.713Z"
   },
   {
    "duration": 10,
    "start_time": "2022-05-17T14:07:13.045Z"
   },
   {
    "duration": 5,
    "start_time": "2022-05-17T14:18:34.324Z"
   },
   {
    "duration": 5,
    "start_time": "2022-05-17T14:19:45.355Z"
   },
   {
    "duration": 86,
    "start_time": "2022-05-17T14:26:09.259Z"
   },
   {
    "duration": 6,
    "start_time": "2022-05-17T14:26:18.397Z"
   },
   {
    "duration": 7,
    "start_time": "2022-05-17T14:29:49.401Z"
   },
   {
    "duration": 5,
    "start_time": "2022-05-17T14:30:36.009Z"
   },
   {
    "duration": 1496,
    "start_time": "2022-05-17T14:31:21.494Z"
   },
   {
    "duration": 16,
    "start_time": "2022-05-17T14:31:25.837Z"
   },
   {
    "duration": 2,
    "start_time": "2022-05-17T14:31:31.108Z"
   },
   {
    "duration": 42,
    "start_time": "2022-05-17T14:31:31.112Z"
   },
   {
    "duration": 15,
    "start_time": "2022-05-17T14:31:31.156Z"
   },
   {
    "duration": 22,
    "start_time": "2022-05-17T14:31:31.173Z"
   },
   {
    "duration": 4,
    "start_time": "2022-05-17T14:31:31.197Z"
   },
   {
    "duration": 10,
    "start_time": "2022-05-17T14:31:31.202Z"
   },
   {
    "duration": 8,
    "start_time": "2022-05-17T14:31:31.213Z"
   },
   {
    "duration": 27,
    "start_time": "2022-05-17T14:31:31.223Z"
   },
   {
    "duration": 17,
    "start_time": "2022-05-17T14:31:31.251Z"
   },
   {
    "duration": 6,
    "start_time": "2022-05-17T14:31:31.270Z"
   },
   {
    "duration": 9,
    "start_time": "2022-05-17T14:31:31.278Z"
   },
   {
    "duration": 23,
    "start_time": "2022-05-17T14:31:31.289Z"
   },
   {
    "duration": 0,
    "start_time": "2022-05-17T14:31:31.314Z"
   },
   {
    "duration": 5,
    "start_time": "2022-05-17T14:32:16.396Z"
   },
   {
    "duration": 5,
    "start_time": "2022-05-17T14:33:54.353Z"
   },
   {
    "duration": 5,
    "start_time": "2022-05-17T14:34:36.910Z"
   },
   {
    "duration": 90,
    "start_time": "2022-05-17T14:38:46.426Z"
   },
   {
    "duration": 30,
    "start_time": "2022-05-17T14:38:57.818Z"
   },
   {
    "duration": 19,
    "start_time": "2022-05-17T14:39:15.969Z"
   },
   {
    "duration": 20,
    "start_time": "2022-05-17T14:39:28.388Z"
   },
   {
    "duration": 5,
    "start_time": "2022-05-17T14:39:58.886Z"
   },
   {
    "duration": 18,
    "start_time": "2022-05-17T14:40:04.506Z"
   },
   {
    "duration": 5,
    "start_time": "2022-05-17T14:40:04.771Z"
   },
   {
    "duration": 82,
    "start_time": "2022-05-18T11:45:37.365Z"
   },
   {
    "duration": 495,
    "start_time": "2022-05-18T11:45:42.519Z"
   },
   {
    "duration": 202,
    "start_time": "2022-05-18T11:45:43.016Z"
   },
   {
    "duration": 31,
    "start_time": "2022-05-18T11:45:43.219Z"
   },
   {
    "duration": 14,
    "start_time": "2022-05-18T11:45:43.253Z"
   },
   {
    "duration": 4,
    "start_time": "2022-05-18T11:45:43.269Z"
   },
   {
    "duration": 5,
    "start_time": "2022-05-18T11:45:43.274Z"
   },
   {
    "duration": 14,
    "start_time": "2022-05-18T11:45:43.281Z"
   },
   {
    "duration": 9,
    "start_time": "2022-05-18T11:45:43.296Z"
   },
   {
    "duration": 7,
    "start_time": "2022-05-18T11:45:43.306Z"
   },
   {
    "duration": 4,
    "start_time": "2022-05-18T11:45:43.315Z"
   },
   {
    "duration": 7,
    "start_time": "2022-05-18T11:45:43.320Z"
   },
   {
    "duration": 7,
    "start_time": "2022-05-18T11:45:43.328Z"
   },
   {
    "duration": 6,
    "start_time": "2022-05-18T11:45:43.336Z"
   },
   {
    "duration": 6,
    "start_time": "2022-05-18T11:45:52.649Z"
   },
   {
    "duration": 27,
    "start_time": "2022-05-18T11:47:23.164Z"
   },
   {
    "duration": 2,
    "start_time": "2022-05-18T11:47:37.809Z"
   },
   {
    "duration": 51,
    "start_time": "2022-05-18T11:47:39.813Z"
   },
   {
    "duration": 15,
    "start_time": "2022-05-18T11:47:39.982Z"
   },
   {
    "duration": 13,
    "start_time": "2022-05-18T11:47:40.157Z"
   },
   {
    "duration": 4,
    "start_time": "2022-05-18T11:47:40.507Z"
   },
   {
    "duration": 4,
    "start_time": "2022-05-18T11:47:40.694Z"
   },
   {
    "duration": 3,
    "start_time": "2022-05-18T11:47:40.878Z"
   },
   {
    "duration": 8,
    "start_time": "2022-05-18T11:47:41.265Z"
   },
   {
    "duration": 7,
    "start_time": "2022-05-18T11:47:41.643Z"
   },
   {
    "duration": 5,
    "start_time": "2022-05-18T11:47:42.031Z"
   },
   {
    "duration": 6,
    "start_time": "2022-05-18T11:47:42.430Z"
   },
   {
    "duration": 5,
    "start_time": "2022-05-18T11:47:42.825Z"
   },
   {
    "duration": 7,
    "start_time": "2022-05-18T11:47:43.038Z"
   },
   {
    "duration": 8,
    "start_time": "2022-05-18T11:47:43.258Z"
   },
   {
    "duration": 8,
    "start_time": "2022-05-18T11:47:49.897Z"
   },
   {
    "duration": 6,
    "start_time": "2022-05-18T11:47:52.189Z"
   },
   {
    "duration": 5,
    "start_time": "2022-05-18T11:47:52.819Z"
   },
   {
    "duration": 15,
    "start_time": "2022-05-18T11:47:59.227Z"
   },
   {
    "duration": 5,
    "start_time": "2022-05-18T11:48:11.489Z"
   },
   {
    "duration": 4,
    "start_time": "2022-05-18T11:48:12.725Z"
   },
   {
    "duration": 7,
    "start_time": "2022-05-18T11:49:12.255Z"
   },
   {
    "duration": 22,
    "start_time": "2022-05-18T11:49:31.406Z"
   },
   {
    "duration": 7,
    "start_time": "2022-05-18T11:49:59.043Z"
   },
   {
    "duration": 21,
    "start_time": "2022-05-18T11:50:03.120Z"
   },
   {
    "duration": 5,
    "start_time": "2022-05-18T11:55:07.022Z"
   },
   {
    "duration": 5,
    "start_time": "2022-05-18T11:55:14.393Z"
   },
   {
    "duration": 5,
    "start_time": "2022-05-18T11:58:36.790Z"
   },
   {
    "duration": 11,
    "start_time": "2022-05-18T11:59:02.154Z"
   },
   {
    "duration": 22,
    "start_time": "2022-05-18T12:00:24.427Z"
   },
   {
    "duration": 5,
    "start_time": "2022-05-18T12:03:17.246Z"
   },
   {
    "duration": 12,
    "start_time": "2022-05-18T12:03:25.702Z"
   },
   {
    "duration": 14,
    "start_time": "2022-05-18T12:03:28.480Z"
   },
   {
    "duration": 9,
    "start_time": "2022-05-18T12:04:15.941Z"
   },
   {
    "duration": 23,
    "start_time": "2022-05-18T12:06:27.737Z"
   },
   {
    "duration": 30,
    "start_time": "2022-05-18T12:06:55.464Z"
   },
   {
    "duration": 5,
    "start_time": "2022-05-18T12:10:19.811Z"
   },
   {
    "duration": 4,
    "start_time": "2022-05-18T12:10:54.347Z"
   },
   {
    "duration": 16,
    "start_time": "2022-05-18T12:10:55.800Z"
   },
   {
    "duration": 19,
    "start_time": "2022-05-18T12:11:02.982Z"
   },
   {
    "duration": 18,
    "start_time": "2022-05-18T12:13:02.020Z"
   },
   {
    "duration": 15,
    "start_time": "2022-05-18T12:13:08.072Z"
   },
   {
    "duration": 22,
    "start_time": "2022-05-18T12:13:13.052Z"
   },
   {
    "duration": 17,
    "start_time": "2022-05-18T12:15:21.827Z"
   },
   {
    "duration": 22,
    "start_time": "2022-05-18T12:16:08.411Z"
   },
   {
    "duration": 82,
    "start_time": "2022-05-18T12:18:19.740Z"
   },
   {
    "duration": 44,
    "start_time": "2022-05-18T12:19:25.858Z"
   },
   {
    "duration": 3,
    "start_time": "2022-05-18T12:19:34.268Z"
   },
   {
    "duration": 1453,
    "start_time": "2022-05-18T12:20:09.949Z"
   },
   {
    "duration": 0,
    "start_time": "2022-05-18T12:20:11.404Z"
   },
   {
    "duration": 22,
    "start_time": "2022-05-18T12:20:51.540Z"
   },
   {
    "duration": 659,
    "start_time": "2022-05-18T12:24:53.889Z"
   },
   {
    "duration": 229,
    "start_time": "2022-05-18T12:25:32.611Z"
   },
   {
    "duration": 23,
    "start_time": "2022-05-18T12:25:33.277Z"
   },
   {
    "duration": 23,
    "start_time": "2022-05-18T12:30:08.544Z"
   },
   {
    "duration": 21,
    "start_time": "2022-05-18T12:32:49.026Z"
   },
   {
    "duration": 23,
    "start_time": "2022-05-18T12:33:16.146Z"
   },
   {
    "duration": 4,
    "start_time": "2022-05-18T12:38:27.655Z"
   },
   {
    "duration": 24,
    "start_time": "2022-05-18T12:40:44.903Z"
   },
   {
    "duration": 9,
    "start_time": "2022-05-18T12:41:11.911Z"
   },
   {
    "duration": 22,
    "start_time": "2022-05-18T12:41:19.083Z"
   },
   {
    "duration": 786,
    "start_time": "2022-05-18T12:41:51.243Z"
   },
   {
    "duration": 139,
    "start_time": "2022-05-18T12:42:19.437Z"
   },
   {
    "duration": 164,
    "start_time": "2022-05-18T12:43:35.285Z"
   },
   {
    "duration": 165,
    "start_time": "2022-05-18T12:43:44.466Z"
   },
   {
    "duration": 248,
    "start_time": "2022-05-18T12:44:06.449Z"
   },
   {
    "duration": 193,
    "start_time": "2022-05-18T12:44:21.301Z"
   },
   {
    "duration": 1470,
    "start_time": "2022-05-18T12:44:31.398Z"
   },
   {
    "duration": 299,
    "start_time": "2022-05-18T12:44:47.384Z"
   },
   {
    "duration": 33,
    "start_time": "2022-05-18T12:51:39.188Z"
   },
   {
    "duration": 47,
    "start_time": "2022-05-18T12:52:03.870Z"
   },
   {
    "duration": 9,
    "start_time": "2022-05-18T12:52:13.551Z"
   },
   {
    "duration": 5,
    "start_time": "2022-05-18T12:53:26.470Z"
   },
   {
    "duration": 18,
    "start_time": "2022-05-18T12:54:41.815Z"
   },
   {
    "duration": 11,
    "start_time": "2022-05-18T12:54:56.202Z"
   },
   {
    "duration": 6,
    "start_time": "2022-05-18T12:55:28.235Z"
   },
   {
    "duration": 6,
    "start_time": "2022-05-18T12:55:54.638Z"
   },
   {
    "duration": 6,
    "start_time": "2022-05-18T13:04:20.037Z"
   },
   {
    "duration": 9,
    "start_time": "2022-05-18T13:04:29.456Z"
   },
   {
    "duration": 27,
    "start_time": "2022-05-18T13:14:13.017Z"
   },
   {
    "duration": 18,
    "start_time": "2022-05-18T13:14:49.837Z"
   },
   {
    "duration": 8,
    "start_time": "2022-05-18T13:15:00.739Z"
   },
   {
    "duration": 8,
    "start_time": "2022-05-18T13:15:10.952Z"
   },
   {
    "duration": 13,
    "start_time": "2022-05-18T13:15:40.581Z"
   },
   {
    "duration": 18,
    "start_time": "2022-05-18T13:15:51.281Z"
   },
   {
    "duration": 140,
    "start_time": "2022-05-18T13:17:06.445Z"
   },
   {
    "duration": 37,
    "start_time": "2022-05-18T13:17:35.105Z"
   },
   {
    "duration": 14,
    "start_time": "2022-05-18T13:17:40.830Z"
   },
   {
    "duration": 14,
    "start_time": "2022-05-18T13:17:54.795Z"
   },
   {
    "duration": 9,
    "start_time": "2022-05-18T13:18:28.716Z"
   },
   {
    "duration": 16,
    "start_time": "2022-05-18T13:19:17.319Z"
   },
   {
    "duration": 9,
    "start_time": "2022-05-18T13:19:18.062Z"
   },
   {
    "duration": 464,
    "start_time": "2022-05-18T13:19:34.672Z"
   },
   {
    "duration": 52,
    "start_time": "2022-05-18T13:19:35.138Z"
   },
   {
    "duration": 27,
    "start_time": "2022-05-18T13:19:35.192Z"
   },
   {
    "duration": 15,
    "start_time": "2022-05-18T13:19:35.221Z"
   },
   {
    "duration": 4,
    "start_time": "2022-05-18T13:19:35.239Z"
   },
   {
    "duration": 7,
    "start_time": "2022-05-18T13:19:35.245Z"
   },
   {
    "duration": 14,
    "start_time": "2022-05-18T13:19:35.253Z"
   },
   {
    "duration": 42,
    "start_time": "2022-05-18T13:19:35.269Z"
   },
   {
    "duration": 21,
    "start_time": "2022-05-18T13:19:35.316Z"
   },
   {
    "duration": 18,
    "start_time": "2022-05-18T13:19:35.338Z"
   },
   {
    "duration": 18,
    "start_time": "2022-05-18T13:19:35.358Z"
   },
   {
    "duration": 28,
    "start_time": "2022-05-18T13:19:35.378Z"
   },
   {
    "duration": 30,
    "start_time": "2022-05-18T13:19:35.407Z"
   },
   {
    "duration": 17,
    "start_time": "2022-05-18T13:19:35.440Z"
   },
   {
    "duration": 42,
    "start_time": "2022-05-18T13:19:35.459Z"
   },
   {
    "duration": 26,
    "start_time": "2022-05-18T13:19:35.507Z"
   },
   {
    "duration": 8,
    "start_time": "2022-05-18T13:19:35.535Z"
   },
   {
    "duration": 35,
    "start_time": "2022-05-18T13:19:35.545Z"
   },
   {
    "duration": 4,
    "start_time": "2022-05-18T13:19:35.581Z"
   },
   {
    "duration": 45,
    "start_time": "2022-05-18T13:19:35.587Z"
   },
   {
    "duration": 252,
    "start_time": "2022-05-18T13:19:35.634Z"
   },
   {
    "duration": 30,
    "start_time": "2022-05-18T13:19:35.888Z"
   },
   {
    "duration": 592,
    "start_time": "2022-05-18T13:19:35.920Z"
   },
   {
    "duration": 10,
    "start_time": "2022-05-18T13:19:36.518Z"
   },
   {
    "duration": 5,
    "start_time": "2022-05-18T13:19:36.530Z"
   },
   {
    "duration": 8,
    "start_time": "2022-05-18T13:19:36.536Z"
   },
   {
    "duration": 15,
    "start_time": "2022-05-18T13:19:36.546Z"
   },
   {
    "duration": 10,
    "start_time": "2022-05-18T13:19:36.563Z"
   },
   {
    "duration": 11,
    "start_time": "2022-05-18T13:21:14.276Z"
   },
   {
    "duration": 66,
    "start_time": "2022-05-18T13:21:16.064Z"
   },
   {
    "duration": 13,
    "start_time": "2022-05-18T13:21:19.522Z"
   },
   {
    "duration": 422,
    "start_time": "2022-05-18T13:21:36.948Z"
   },
   {
    "duration": 63,
    "start_time": "2022-05-18T13:21:37.373Z"
   },
   {
    "duration": 28,
    "start_time": "2022-05-18T13:21:37.439Z"
   },
   {
    "duration": 33,
    "start_time": "2022-05-18T13:21:37.469Z"
   },
   {
    "duration": 7,
    "start_time": "2022-05-18T13:21:37.504Z"
   },
   {
    "duration": 24,
    "start_time": "2022-05-18T13:21:37.513Z"
   },
   {
    "duration": 19,
    "start_time": "2022-05-18T13:21:37.539Z"
   },
   {
    "duration": 22,
    "start_time": "2022-05-18T13:21:37.560Z"
   },
   {
    "duration": 9,
    "start_time": "2022-05-18T13:21:37.584Z"
   },
   {
    "duration": 18,
    "start_time": "2022-05-18T13:21:37.594Z"
   },
   {
    "duration": 9,
    "start_time": "2022-05-18T13:21:37.613Z"
   },
   {
    "duration": 12,
    "start_time": "2022-05-18T13:21:37.624Z"
   },
   {
    "duration": 7,
    "start_time": "2022-05-18T13:21:37.637Z"
   },
   {
    "duration": 12,
    "start_time": "2022-05-18T13:21:37.648Z"
   },
   {
    "duration": 6,
    "start_time": "2022-05-18T13:21:37.662Z"
   },
   {
    "duration": 16,
    "start_time": "2022-05-18T13:21:37.670Z"
   },
   {
    "duration": 13,
    "start_time": "2022-05-18T13:21:37.688Z"
   },
   {
    "duration": 35,
    "start_time": "2022-05-18T13:21:37.703Z"
   },
   {
    "duration": 3,
    "start_time": "2022-05-18T13:21:37.739Z"
   },
   {
    "duration": 25,
    "start_time": "2022-05-18T13:21:37.744Z"
   },
   {
    "duration": 246,
    "start_time": "2022-05-18T13:21:37.771Z"
   },
   {
    "duration": 21,
    "start_time": "2022-05-18T13:21:38.019Z"
   },
   {
    "duration": 572,
    "start_time": "2022-05-18T13:21:38.042Z"
   },
   {
    "duration": 10,
    "start_time": "2022-05-18T13:21:38.616Z"
   },
   {
    "duration": 4,
    "start_time": "2022-05-18T13:21:38.628Z"
   },
   {
    "duration": 9,
    "start_time": "2022-05-18T13:21:38.634Z"
   },
   {
    "duration": 10,
    "start_time": "2022-05-18T13:21:38.645Z"
   },
   {
    "duration": 12,
    "start_time": "2022-05-18T13:21:38.657Z"
   },
   {
    "duration": 20,
    "start_time": "2022-05-18T13:21:58.091Z"
   },
   {
    "duration": 12,
    "start_time": "2022-05-18T13:21:58.374Z"
   },
   {
    "duration": 159,
    "start_time": "2022-05-18T13:22:39.481Z"
   },
   {
    "duration": 127,
    "start_time": "2022-05-18T13:23:12.143Z"
   },
   {
    "duration": 1182,
    "start_time": "2022-05-18T13:23:34.509Z"
   },
   {
    "duration": 13,
    "start_time": "2022-05-18T13:23:53.840Z"
   },
   {
    "duration": 9,
    "start_time": "2022-05-18T13:28:00.032Z"
   },
   {
    "duration": 8185,
    "start_time": "2022-05-18T13:28:23.706Z"
   },
   {
    "duration": 12,
    "start_time": "2022-05-18T13:29:51.918Z"
   },
   {
    "duration": 13,
    "start_time": "2022-05-18T13:30:00.751Z"
   },
   {
    "duration": 25,
    "start_time": "2022-05-18T13:32:45.484Z"
   },
   {
    "duration": 62,
    "start_time": "2022-05-18T13:32:46.147Z"
   },
   {
    "duration": 3,
    "start_time": "2022-05-18T13:33:26.446Z"
   },
   {
    "duration": 54,
    "start_time": "2022-05-18T13:33:29.038Z"
   },
   {
    "duration": 897,
    "start_time": "2022-05-18T13:34:12.485Z"
   },
   {
    "duration": 57,
    "start_time": "2022-05-18T13:34:35.596Z"
   },
   {
    "duration": 12,
    "start_time": "2022-05-18T13:35:42.953Z"
   },
   {
    "duration": 2383,
    "start_time": "2022-05-18T13:36:26.665Z"
   },
   {
    "duration": 573,
    "start_time": "2022-05-18T13:37:04.887Z"
   },
   {
    "duration": 11,
    "start_time": "2022-05-18T13:40:44.012Z"
   },
   {
    "duration": 4,
    "start_time": "2022-05-18T13:40:44.458Z"
   },
   {
    "duration": 12,
    "start_time": "2022-05-18T13:40:44.958Z"
   },
   {
    "duration": 108,
    "start_time": "2022-05-18T13:41:35.461Z"
   },
   {
    "duration": 9,
    "start_time": "2022-05-18T13:41:42.096Z"
   },
   {
    "duration": 12,
    "start_time": "2022-05-18T13:41:49.861Z"
   },
   {
    "duration": 134,
    "start_time": "2022-05-18T13:42:59.270Z"
   },
   {
    "duration": 8,
    "start_time": "2022-05-18T13:45:53.836Z"
   },
   {
    "duration": 60,
    "start_time": "2022-05-18T13:47:02.443Z"
   },
   {
    "duration": 8,
    "start_time": "2022-05-18T13:47:06.762Z"
   },
   {
    "duration": 25,
    "start_time": "2022-05-18T13:47:09.448Z"
   },
   {
    "duration": 35,
    "start_time": "2022-05-18T13:48:10.441Z"
   },
   {
    "duration": 14,
    "start_time": "2022-05-18T13:48:15.160Z"
   },
   {
    "duration": 11,
    "start_time": "2022-05-18T13:48:39.346Z"
   },
   {
    "duration": 144,
    "start_time": "2022-05-18T13:49:06.301Z"
   },
   {
    "duration": 59,
    "start_time": "2022-05-18T13:49:23.708Z"
   },
   {
    "duration": 3,
    "start_time": "2022-05-18T13:49:37.975Z"
   },
   {
    "duration": 125,
    "start_time": "2022-05-18T13:50:29.742Z"
   },
   {
    "duration": 125,
    "start_time": "2022-05-18T13:50:52.910Z"
   },
   {
    "duration": 127,
    "start_time": "2022-05-18T13:51:11.438Z"
   },
   {
    "duration": 149,
    "start_time": "2022-05-18T13:51:25.307Z"
   },
   {
    "duration": 150,
    "start_time": "2022-05-18T13:52:06.913Z"
   },
   {
    "duration": 148,
    "start_time": "2022-05-18T13:52:36.688Z"
   },
   {
    "duration": 578,
    "start_time": "2022-05-18T13:52:58.246Z"
   },
   {
    "duration": 136,
    "start_time": "2022-05-18T13:53:02.474Z"
   },
   {
    "duration": 165,
    "start_time": "2022-05-18T13:53:27.794Z"
   },
   {
    "duration": 23,
    "start_time": "2022-05-18T14:00:19.535Z"
   },
   {
    "duration": 6,
    "start_time": "2022-05-18T14:00:42.717Z"
   },
   {
    "duration": 26,
    "start_time": "2022-05-18T14:00:48.111Z"
   },
   {
    "duration": 414,
    "start_time": "2022-05-22T15:12:12.850Z"
   },
   {
    "duration": 188,
    "start_time": "2022-05-22T15:12:13.266Z"
   },
   {
    "duration": 20,
    "start_time": "2022-05-22T15:12:13.455Z"
   },
   {
    "duration": 16,
    "start_time": "2022-05-22T15:12:13.476Z"
   },
   {
    "duration": 4,
    "start_time": "2022-05-22T15:12:13.494Z"
   },
   {
    "duration": 6,
    "start_time": "2022-05-22T15:12:13.499Z"
   },
   {
    "duration": 5,
    "start_time": "2022-05-22T15:12:13.507Z"
   },
   {
    "duration": 10,
    "start_time": "2022-05-22T15:12:13.513Z"
   },
   {
    "duration": 7,
    "start_time": "2022-05-22T15:12:13.525Z"
   },
   {
    "duration": 4,
    "start_time": "2022-05-22T15:12:13.533Z"
   },
   {
    "duration": 6,
    "start_time": "2022-05-22T15:12:13.539Z"
   },
   {
    "duration": 28,
    "start_time": "2022-05-22T15:12:13.547Z"
   },
   {
    "duration": 4,
    "start_time": "2022-05-22T15:12:13.576Z"
   },
   {
    "duration": 8,
    "start_time": "2022-05-22T15:12:13.583Z"
   },
   {
    "duration": 4,
    "start_time": "2022-05-22T15:12:13.592Z"
   },
   {
    "duration": 10,
    "start_time": "2022-05-22T15:12:13.597Z"
   },
   {
    "duration": 4,
    "start_time": "2022-05-22T15:12:13.608Z"
   },
   {
    "duration": 15,
    "start_time": "2022-05-22T15:12:13.614Z"
   },
   {
    "duration": 3,
    "start_time": "2022-05-22T15:12:13.631Z"
   },
   {
    "duration": 50,
    "start_time": "2022-05-22T15:12:13.635Z"
   },
   {
    "duration": 213,
    "start_time": "2022-05-22T15:12:13.686Z"
   },
   {
    "duration": 21,
    "start_time": "2022-05-22T15:12:13.901Z"
   },
   {
    "duration": 628,
    "start_time": "2022-05-22T15:12:13.923Z"
   },
   {
    "duration": 10,
    "start_time": "2022-05-22T15:12:14.552Z"
   },
   {
    "duration": 5,
    "start_time": "2022-05-22T15:12:14.575Z"
   },
   {
    "duration": 5,
    "start_time": "2022-05-22T15:12:14.581Z"
   },
   {
    "duration": 9,
    "start_time": "2022-05-22T15:12:14.588Z"
   },
   {
    "duration": 7,
    "start_time": "2022-05-22T15:12:14.599Z"
   },
   {
    "duration": 14,
    "start_time": "2022-05-22T15:12:14.607Z"
   },
   {
    "duration": 3,
    "start_time": "2022-05-22T15:12:14.622Z"
   },
   {
    "duration": 152,
    "start_time": "2022-05-22T15:12:14.626Z"
   },
   {
    "duration": 136,
    "start_time": "2022-05-22T15:12:14.780Z"
   },
   {
    "duration": 132,
    "start_time": "2022-05-22T15:12:14.918Z"
   },
   {
    "duration": 116,
    "start_time": "2022-05-22T15:12:15.051Z"
   },
   {
    "duration": 129,
    "start_time": "2022-05-22T15:12:15.169Z"
   },
   {
    "duration": 5,
    "start_time": "2022-05-22T15:12:15.299Z"
   },
   {
    "duration": 20,
    "start_time": "2022-05-22T15:12:15.305Z"
   },
   {
    "duration": 2,
    "start_time": "2022-05-22T15:14:16.258Z"
   },
   {
    "duration": 57,
    "start_time": "2022-05-22T15:14:16.262Z"
   },
   {
    "duration": 16,
    "start_time": "2022-05-22T15:14:16.321Z"
   },
   {
    "duration": 13,
    "start_time": "2022-05-22T15:14:16.339Z"
   },
   {
    "duration": 3,
    "start_time": "2022-05-22T15:14:16.355Z"
   },
   {
    "duration": 5,
    "start_time": "2022-05-22T15:14:16.375Z"
   },
   {
    "duration": 5,
    "start_time": "2022-05-22T15:14:16.381Z"
   },
   {
    "duration": 9,
    "start_time": "2022-05-22T15:14:16.388Z"
   },
   {
    "duration": 7,
    "start_time": "2022-05-22T15:14:16.399Z"
   },
   {
    "duration": 5,
    "start_time": "2022-05-22T15:14:16.408Z"
   },
   {
    "duration": 5,
    "start_time": "2022-05-22T15:14:16.416Z"
   },
   {
    "duration": 5,
    "start_time": "2022-05-22T15:14:16.423Z"
   },
   {
    "duration": 5,
    "start_time": "2022-05-22T15:14:16.430Z"
   },
   {
    "duration": 7,
    "start_time": "2022-05-22T15:14:16.475Z"
   },
   {
    "duration": 4,
    "start_time": "2022-05-22T15:14:16.483Z"
   },
   {
    "duration": 9,
    "start_time": "2022-05-22T15:14:16.489Z"
   },
   {
    "duration": 11,
    "start_time": "2022-05-22T15:14:16.499Z"
   },
   {
    "duration": 21,
    "start_time": "2022-05-22T15:14:16.511Z"
   },
   {
    "duration": 2,
    "start_time": "2022-05-22T15:14:16.534Z"
   },
   {
    "duration": 18,
    "start_time": "2022-05-22T15:14:16.538Z"
   },
   {
    "duration": 226,
    "start_time": "2022-05-22T15:14:16.574Z"
   },
   {
    "duration": 19,
    "start_time": "2022-05-22T15:14:16.801Z"
   },
   {
    "duration": 303,
    "start_time": "2022-05-22T15:14:16.822Z"
   },
   {
    "duration": 9,
    "start_time": "2022-05-22T15:14:17.127Z"
   },
   {
    "duration": 4,
    "start_time": "2022-05-22T15:14:17.138Z"
   },
   {
    "duration": 4,
    "start_time": "2022-05-22T15:14:17.144Z"
   },
   {
    "duration": 8,
    "start_time": "2022-05-22T15:14:17.175Z"
   },
   {
    "duration": 10,
    "start_time": "2022-05-22T15:14:17.185Z"
   },
   {
    "duration": 13,
    "start_time": "2022-05-22T15:14:17.197Z"
   },
   {
    "duration": 2,
    "start_time": "2022-05-22T15:14:17.211Z"
   },
   {
    "duration": 121,
    "start_time": "2022-05-22T15:14:17.215Z"
   },
   {
    "duration": 126,
    "start_time": "2022-05-22T15:14:17.338Z"
   },
   {
    "duration": 130,
    "start_time": "2022-05-22T15:14:17.466Z"
   },
   {
    "duration": 116,
    "start_time": "2022-05-22T15:14:17.598Z"
   },
   {
    "duration": 128,
    "start_time": "2022-05-22T15:14:17.715Z"
   },
   {
    "duration": 4,
    "start_time": "2022-05-22T15:14:17.844Z"
   },
   {
    "duration": 28,
    "start_time": "2022-05-22T15:14:17.849Z"
   },
   {
    "duration": 76,
    "start_time": "2022-05-22T15:21:14.489Z"
   },
   {
    "duration": 9,
    "start_time": "2022-05-22T15:21:18.580Z"
   },
   {
    "duration": 8,
    "start_time": "2022-05-22T15:21:23.612Z"
   },
   {
    "duration": 8,
    "start_time": "2022-05-22T15:21:57.980Z"
   },
   {
    "duration": 10,
    "start_time": "2022-05-22T15:22:02.879Z"
   },
   {
    "duration": 7,
    "start_time": "2022-05-22T15:22:10.979Z"
   },
   {
    "duration": 11,
    "start_time": "2022-05-22T15:22:45.046Z"
   },
   {
    "duration": 13,
    "start_time": "2022-05-22T15:22:45.201Z"
   },
   {
    "duration": 19,
    "start_time": "2022-05-22T15:22:53.264Z"
   },
   {
    "duration": 18,
    "start_time": "2022-05-22T15:23:07.061Z"
   },
   {
    "duration": 3,
    "start_time": "2022-05-22T15:26:07.858Z"
   },
   {
    "duration": 9,
    "start_time": "2022-05-22T15:26:14.124Z"
   },
   {
    "duration": 8,
    "start_time": "2022-05-22T15:28:06.410Z"
   },
   {
    "duration": 3,
    "start_time": "2022-05-22T15:28:25.441Z"
   },
   {
    "duration": 3,
    "start_time": "2022-05-22T15:29:58.488Z"
   },
   {
    "duration": 13,
    "start_time": "2022-05-22T15:31:14.273Z"
   },
   {
    "duration": 13,
    "start_time": "2022-05-22T15:31:23.598Z"
   },
   {
    "duration": 3,
    "start_time": "2022-05-22T15:31:32.072Z"
   },
   {
    "duration": 13,
    "start_time": "2022-05-22T15:31:32.779Z"
   },
   {
    "duration": 2,
    "start_time": "2022-05-22T15:31:51.173Z"
   },
   {
    "duration": 448,
    "start_time": "2022-05-22T15:31:51.750Z"
   },
   {
    "duration": 3,
    "start_time": "2022-05-22T15:32:38.390Z"
   },
   {
    "duration": 12,
    "start_time": "2022-05-22T15:32:38.932Z"
   },
   {
    "duration": 17,
    "start_time": "2022-05-22T15:32:50.850Z"
   },
   {
    "duration": 3,
    "start_time": "2022-05-22T15:33:17.358Z"
   },
   {
    "duration": 16,
    "start_time": "2022-05-22T15:33:17.972Z"
   },
   {
    "duration": 8,
    "start_time": "2022-05-22T15:33:37.129Z"
   },
   {
    "duration": 9,
    "start_time": "2022-05-22T15:33:59.681Z"
   },
   {
    "duration": 8,
    "start_time": "2022-05-22T15:34:24.130Z"
   },
   {
    "duration": 2,
    "start_time": "2022-05-22T15:35:52.383Z"
   },
   {
    "duration": 6,
    "start_time": "2022-05-22T15:37:04.812Z"
   },
   {
    "duration": 6,
    "start_time": "2022-05-22T15:37:07.518Z"
   },
   {
    "duration": 135,
    "start_time": "2022-05-22T15:37:13.991Z"
   },
   {
    "duration": 4,
    "start_time": "2022-05-22T15:37:14.405Z"
   },
   {
    "duration": 144,
    "start_time": "2022-05-22T15:37:30.946Z"
   },
   {
    "duration": 3,
    "start_time": "2022-05-22T15:37:40.345Z"
   },
   {
    "duration": 266,
    "start_time": "2022-05-22T15:37:41.357Z"
   },
   {
    "duration": 133,
    "start_time": "2022-05-22T15:37:47.092Z"
   },
   {
    "duration": 4,
    "start_time": "2022-05-22T15:37:47.825Z"
   },
   {
    "duration": 172,
    "start_time": "2022-05-22T15:37:59.759Z"
   },
   {
    "duration": 2,
    "start_time": "2022-05-22T15:38:06.412Z"
   },
   {
    "duration": 122,
    "start_time": "2022-05-22T15:38:06.579Z"
   },
   {
    "duration": 141,
    "start_time": "2022-05-22T15:38:21.654Z"
   },
   {
    "duration": 2,
    "start_time": "2022-05-22T15:38:40.241Z"
   },
   {
    "duration": 131,
    "start_time": "2022-05-22T15:38:41.271Z"
   },
   {
    "duration": 142,
    "start_time": "2022-05-22T15:38:44.138Z"
   },
   {
    "duration": 166,
    "start_time": "2022-05-22T15:38:47.533Z"
   },
   {
    "duration": 3,
    "start_time": "2022-05-22T15:38:49.932Z"
   },
   {
    "duration": 133,
    "start_time": "2022-05-22T15:38:50.104Z"
   },
   {
    "duration": 4,
    "start_time": "2022-05-22T15:38:50.263Z"
   },
   {
    "duration": 126,
    "start_time": "2022-05-22T15:38:56.924Z"
   },
   {
    "duration": 3,
    "start_time": "2022-05-22T15:38:59.890Z"
   },
   {
    "duration": 56,
    "start_time": "2022-05-22T15:38:59.895Z"
   },
   {
    "duration": 15,
    "start_time": "2022-05-22T15:38:59.953Z"
   },
   {
    "duration": 14,
    "start_time": "2022-05-22T15:38:59.970Z"
   },
   {
    "duration": 4,
    "start_time": "2022-05-22T15:38:59.985Z"
   },
   {
    "duration": 7,
    "start_time": "2022-05-22T15:38:59.990Z"
   },
   {
    "duration": 5,
    "start_time": "2022-05-22T15:38:59.998Z"
   },
   {
    "duration": 12,
    "start_time": "2022-05-22T15:39:00.005Z"
   },
   {
    "duration": 10,
    "start_time": "2022-05-22T15:39:00.019Z"
   },
   {
    "duration": 5,
    "start_time": "2022-05-22T15:39:00.031Z"
   },
   {
    "duration": 10,
    "start_time": "2022-05-22T15:39:00.037Z"
   },
   {
    "duration": 26,
    "start_time": "2022-05-22T15:39:00.049Z"
   },
   {
    "duration": 5,
    "start_time": "2022-05-22T15:39:00.077Z"
   },
   {
    "duration": 11,
    "start_time": "2022-05-22T15:39:00.084Z"
   },
   {
    "duration": 7,
    "start_time": "2022-05-22T15:39:00.096Z"
   },
   {
    "duration": 12,
    "start_time": "2022-05-22T15:39:00.104Z"
   },
   {
    "duration": 9,
    "start_time": "2022-05-22T15:39:00.118Z"
   },
   {
    "duration": 23,
    "start_time": "2022-05-22T15:39:00.128Z"
   },
   {
    "duration": 2,
    "start_time": "2022-05-22T15:39:00.153Z"
   },
   {
    "duration": 32,
    "start_time": "2022-05-22T15:39:00.157Z"
   },
   {
    "duration": 223,
    "start_time": "2022-05-22T15:39:00.190Z"
   },
   {
    "duration": 19,
    "start_time": "2022-05-22T15:39:00.415Z"
   },
   {
    "duration": 331,
    "start_time": "2022-05-22T15:39:00.436Z"
   },
   {
    "duration": 11,
    "start_time": "2022-05-22T15:39:00.769Z"
   },
   {
    "duration": 17,
    "start_time": "2022-05-22T15:39:00.781Z"
   },
   {
    "duration": 20,
    "start_time": "2022-05-22T15:39:00.799Z"
   },
   {
    "duration": 18,
    "start_time": "2022-05-22T15:39:00.821Z"
   },
   {
    "duration": 27,
    "start_time": "2022-05-22T15:39:00.842Z"
   },
   {
    "duration": 31,
    "start_time": "2022-05-22T15:39:00.870Z"
   },
   {
    "duration": 8,
    "start_time": "2022-05-22T15:39:00.902Z"
   },
   {
    "duration": 131,
    "start_time": "2022-05-22T15:39:00.911Z"
   },
   {
    "duration": 125,
    "start_time": "2022-05-22T15:39:01.043Z"
   },
   {
    "duration": 146,
    "start_time": "2022-05-22T15:39:01.169Z"
   },
   {
    "duration": 126,
    "start_time": "2022-05-22T15:39:01.317Z"
   },
   {
    "duration": 140,
    "start_time": "2022-05-22T15:39:01.445Z"
   },
   {
    "duration": 5,
    "start_time": "2022-05-22T15:39:01.587Z"
   },
   {
    "duration": 27,
    "start_time": "2022-05-22T15:39:01.593Z"
   },
   {
    "duration": 13,
    "start_time": "2022-05-22T15:39:01.622Z"
   },
   {
    "duration": 2,
    "start_time": "2022-05-22T15:39:01.637Z"
   },
   {
    "duration": 16,
    "start_time": "2022-05-22T15:39:01.641Z"
   },
   {
    "duration": 24,
    "start_time": "2022-05-22T15:39:01.659Z"
   },
   {
    "duration": 0,
    "start_time": "2022-05-22T15:39:01.685Z"
   },
   {
    "duration": 5,
    "start_time": "2022-05-22T15:39:09.055Z"
   },
   {
    "duration": 4,
    "start_time": "2022-05-22T15:39:10.851Z"
   },
   {
    "duration": 3,
    "start_time": "2022-05-22T15:39:27.069Z"
   },
   {
    "duration": 123,
    "start_time": "2022-05-22T15:39:27.391Z"
   },
   {
    "duration": 4,
    "start_time": "2022-05-22T15:39:40.295Z"
   },
   {
    "duration": 407,
    "start_time": "2022-05-22T15:39:45.652Z"
   },
   {
    "duration": 49,
    "start_time": "2022-05-22T15:39:46.061Z"
   },
   {
    "duration": 19,
    "start_time": "2022-05-22T15:39:46.112Z"
   },
   {
    "duration": 13,
    "start_time": "2022-05-22T15:39:46.133Z"
   },
   {
    "duration": 4,
    "start_time": "2022-05-22T15:39:46.147Z"
   },
   {
    "duration": 8,
    "start_time": "2022-05-22T15:39:46.152Z"
   },
   {
    "duration": 7,
    "start_time": "2022-05-22T15:39:46.161Z"
   },
   {
    "duration": 8,
    "start_time": "2022-05-22T15:39:46.175Z"
   },
   {
    "duration": 11,
    "start_time": "2022-05-22T15:39:46.184Z"
   },
   {
    "duration": 4,
    "start_time": "2022-05-22T15:39:46.196Z"
   },
   {
    "duration": 12,
    "start_time": "2022-05-22T15:39:46.202Z"
   },
   {
    "duration": 5,
    "start_time": "2022-05-22T15:39:46.215Z"
   },
   {
    "duration": 6,
    "start_time": "2022-05-22T15:39:46.222Z"
   },
   {
    "duration": 7,
    "start_time": "2022-05-22T15:39:46.230Z"
   },
   {
    "duration": 4,
    "start_time": "2022-05-22T15:39:46.238Z"
   },
   {
    "duration": 37,
    "start_time": "2022-05-22T15:39:46.243Z"
   },
   {
    "duration": 4,
    "start_time": "2022-05-22T15:39:46.281Z"
   },
   {
    "duration": 15,
    "start_time": "2022-05-22T15:39:46.286Z"
   },
   {
    "duration": 2,
    "start_time": "2022-05-22T15:39:46.302Z"
   },
   {
    "duration": 20,
    "start_time": "2022-05-22T15:39:46.305Z"
   },
   {
    "duration": 229,
    "start_time": "2022-05-22T15:39:46.327Z"
   },
   {
    "duration": 21,
    "start_time": "2022-05-22T15:39:46.557Z"
   },
   {
    "duration": 489,
    "start_time": "2022-05-22T15:39:46.579Z"
   },
   {
    "duration": 10,
    "start_time": "2022-05-22T15:39:47.070Z"
   },
   {
    "duration": 5,
    "start_time": "2022-05-22T15:39:47.081Z"
   },
   {
    "duration": 8,
    "start_time": "2022-05-22T15:39:47.087Z"
   },
   {
    "duration": 11,
    "start_time": "2022-05-22T15:39:47.096Z"
   },
   {
    "duration": 6,
    "start_time": "2022-05-22T15:39:47.109Z"
   },
   {
    "duration": 19,
    "start_time": "2022-05-22T15:39:47.117Z"
   },
   {
    "duration": 2,
    "start_time": "2022-05-22T15:39:47.138Z"
   },
   {
    "duration": 134,
    "start_time": "2022-05-22T15:39:47.141Z"
   },
   {
    "duration": 126,
    "start_time": "2022-05-22T15:39:47.276Z"
   },
   {
    "duration": 132,
    "start_time": "2022-05-22T15:39:47.404Z"
   },
   {
    "duration": 116,
    "start_time": "2022-05-22T15:39:47.537Z"
   },
   {
    "duration": 133,
    "start_time": "2022-05-22T15:39:47.655Z"
   },
   {
    "duration": 4,
    "start_time": "2022-05-22T15:39:47.789Z"
   },
   {
    "duration": 35,
    "start_time": "2022-05-22T15:39:47.794Z"
   },
   {
    "duration": 17,
    "start_time": "2022-05-22T15:39:47.831Z"
   },
   {
    "duration": 3,
    "start_time": "2022-05-22T15:39:47.849Z"
   },
   {
    "duration": 20,
    "start_time": "2022-05-22T15:39:47.853Z"
   },
   {
    "duration": 3,
    "start_time": "2022-05-22T15:39:47.876Z"
   },
   {
    "duration": 88,
    "start_time": "2022-05-22T15:39:47.880Z"
   },
   {
    "duration": 0,
    "start_time": "2022-05-22T15:39:47.974Z"
   },
   {
    "duration": 2,
    "start_time": "2022-05-22T15:40:27.396Z"
   },
   {
    "duration": 6,
    "start_time": "2022-05-22T15:40:28.001Z"
   },
   {
    "duration": 5,
    "start_time": "2022-05-22T15:40:29.351Z"
   },
   {
    "duration": 12,
    "start_time": "2022-05-22T15:40:37.510Z"
   },
   {
    "duration": 404,
    "start_time": "2022-05-22T15:40:43.677Z"
   },
   {
    "duration": 50,
    "start_time": "2022-05-22T15:40:44.083Z"
   },
   {
    "duration": 20,
    "start_time": "2022-05-22T15:40:44.135Z"
   },
   {
    "duration": 13,
    "start_time": "2022-05-22T15:40:44.156Z"
   },
   {
    "duration": 3,
    "start_time": "2022-05-22T15:40:44.171Z"
   },
   {
    "duration": 7,
    "start_time": "2022-05-22T15:40:44.175Z"
   },
   {
    "duration": 5,
    "start_time": "2022-05-22T15:40:44.183Z"
   },
   {
    "duration": 11,
    "start_time": "2022-05-22T15:40:44.189Z"
   },
   {
    "duration": 12,
    "start_time": "2022-05-22T15:40:44.201Z"
   },
   {
    "duration": 4,
    "start_time": "2022-05-22T15:40:44.215Z"
   },
   {
    "duration": 9,
    "start_time": "2022-05-22T15:40:44.220Z"
   },
   {
    "duration": 10,
    "start_time": "2022-05-22T15:40:44.230Z"
   },
   {
    "duration": 6,
    "start_time": "2022-05-22T15:40:44.241Z"
   },
   {
    "duration": 27,
    "start_time": "2022-05-22T15:40:44.248Z"
   },
   {
    "duration": 4,
    "start_time": "2022-05-22T15:40:44.276Z"
   },
   {
    "duration": 13,
    "start_time": "2022-05-22T15:40:44.281Z"
   },
   {
    "duration": 20,
    "start_time": "2022-05-22T15:40:44.296Z"
   },
   {
    "duration": 16,
    "start_time": "2022-05-22T15:40:44.317Z"
   },
   {
    "duration": 2,
    "start_time": "2022-05-22T15:40:44.335Z"
   },
   {
    "duration": 23,
    "start_time": "2022-05-22T15:40:44.338Z"
   },
   {
    "duration": 220,
    "start_time": "2022-05-22T15:40:44.363Z"
   },
   {
    "duration": 20,
    "start_time": "2022-05-22T15:40:44.584Z"
   },
   {
    "duration": 511,
    "start_time": "2022-05-22T15:40:44.606Z"
   },
   {
    "duration": 9,
    "start_time": "2022-05-22T15:40:45.119Z"
   },
   {
    "duration": 4,
    "start_time": "2022-05-22T15:40:45.129Z"
   },
   {
    "duration": 8,
    "start_time": "2022-05-22T15:40:45.134Z"
   },
   {
    "duration": 12,
    "start_time": "2022-05-22T15:40:45.143Z"
   },
   {
    "duration": 7,
    "start_time": "2022-05-22T15:40:45.174Z"
   },
   {
    "duration": 16,
    "start_time": "2022-05-22T15:40:45.182Z"
   },
   {
    "duration": 3,
    "start_time": "2022-05-22T15:40:45.199Z"
   },
   {
    "duration": 130,
    "start_time": "2022-05-22T15:40:45.203Z"
   },
   {
    "duration": 122,
    "start_time": "2022-05-22T15:40:45.335Z"
   },
   {
    "duration": 137,
    "start_time": "2022-05-22T15:40:45.459Z"
   },
   {
    "duration": 118,
    "start_time": "2022-05-22T15:40:45.597Z"
   },
   {
    "duration": 129,
    "start_time": "2022-05-22T15:40:45.717Z"
   },
   {
    "duration": 4,
    "start_time": "2022-05-22T15:40:45.848Z"
   },
   {
    "duration": 29,
    "start_time": "2022-05-22T15:40:45.853Z"
   },
   {
    "duration": 11,
    "start_time": "2022-05-22T15:40:45.883Z"
   },
   {
    "duration": 2,
    "start_time": "2022-05-22T15:40:45.896Z"
   },
   {
    "duration": 21,
    "start_time": "2022-05-22T15:40:45.899Z"
   },
   {
    "duration": 51,
    "start_time": "2022-05-22T15:40:45.922Z"
   },
   {
    "duration": 0,
    "start_time": "2022-05-22T15:40:45.974Z"
   },
   {
    "duration": 0,
    "start_time": "2022-05-22T15:40:45.975Z"
   },
   {
    "duration": 3,
    "start_time": "2022-05-22T15:40:50.905Z"
   },
   {
    "duration": 82,
    "start_time": "2022-05-22T15:40:51.798Z"
   },
   {
    "duration": 14,
    "start_time": "2022-05-22T15:41:03.358Z"
   },
   {
    "duration": 18,
    "start_time": "2022-05-22T15:41:04.223Z"
   },
   {
    "duration": 3,
    "start_time": "2022-05-22T15:41:10.433Z"
   },
   {
    "duration": 60,
    "start_time": "2022-05-22T15:41:10.437Z"
   },
   {
    "duration": 14,
    "start_time": "2022-05-22T15:41:10.498Z"
   },
   {
    "duration": 14,
    "start_time": "2022-05-22T15:41:10.514Z"
   },
   {
    "duration": 4,
    "start_time": "2022-05-22T15:41:10.530Z"
   },
   {
    "duration": 16,
    "start_time": "2022-05-22T15:41:10.536Z"
   },
   {
    "duration": 21,
    "start_time": "2022-05-22T15:41:10.553Z"
   },
   {
    "duration": 25,
    "start_time": "2022-05-22T15:41:10.576Z"
   },
   {
    "duration": 8,
    "start_time": "2022-05-22T15:41:10.603Z"
   },
   {
    "duration": 11,
    "start_time": "2022-05-22T15:41:10.612Z"
   },
   {
    "duration": 13,
    "start_time": "2022-05-22T15:41:10.624Z"
   },
   {
    "duration": 13,
    "start_time": "2022-05-22T15:41:10.638Z"
   },
   {
    "duration": 25,
    "start_time": "2022-05-22T15:41:10.653Z"
   },
   {
    "duration": 11,
    "start_time": "2022-05-22T15:41:10.680Z"
   },
   {
    "duration": 17,
    "start_time": "2022-05-22T15:41:10.692Z"
   },
   {
    "duration": 15,
    "start_time": "2022-05-22T15:41:10.710Z"
   },
   {
    "duration": 8,
    "start_time": "2022-05-22T15:41:10.726Z"
   },
   {
    "duration": 16,
    "start_time": "2022-05-22T15:41:10.735Z"
   },
   {
    "duration": 17,
    "start_time": "2022-05-22T15:41:10.753Z"
   },
   {
    "duration": 36,
    "start_time": "2022-05-22T15:41:10.771Z"
   },
   {
    "duration": 215,
    "start_time": "2022-05-22T15:41:10.809Z"
   },
   {
    "duration": 19,
    "start_time": "2022-05-22T15:41:11.025Z"
   },
   {
    "duration": 284,
    "start_time": "2022-05-22T15:41:11.045Z"
   },
   {
    "duration": 7,
    "start_time": "2022-05-22T15:41:11.330Z"
   },
   {
    "duration": 8,
    "start_time": "2022-05-22T15:41:11.339Z"
   },
   {
    "duration": 10,
    "start_time": "2022-05-22T15:41:11.349Z"
   },
   {
    "duration": 23,
    "start_time": "2022-05-22T15:41:11.360Z"
   },
   {
    "duration": 23,
    "start_time": "2022-05-22T15:41:11.384Z"
   },
   {
    "duration": 19,
    "start_time": "2022-05-22T15:41:11.408Z"
   },
   {
    "duration": 14,
    "start_time": "2022-05-22T15:41:11.428Z"
   },
   {
    "duration": 139,
    "start_time": "2022-05-22T15:41:11.443Z"
   },
   {
    "duration": 128,
    "start_time": "2022-05-22T15:41:11.584Z"
   },
   {
    "duration": 131,
    "start_time": "2022-05-22T15:41:11.713Z"
   },
   {
    "duration": 118,
    "start_time": "2022-05-22T15:41:11.845Z"
   },
   {
    "duration": 134,
    "start_time": "2022-05-22T15:41:11.964Z"
   },
   {
    "duration": 4,
    "start_time": "2022-05-22T15:41:12.100Z"
   },
   {
    "duration": 29,
    "start_time": "2022-05-22T15:41:12.105Z"
   },
   {
    "duration": 29,
    "start_time": "2022-05-22T15:41:12.135Z"
   },
   {
    "duration": 11,
    "start_time": "2022-05-22T15:41:12.165Z"
   },
   {
    "duration": 34,
    "start_time": "2022-05-22T15:41:12.177Z"
   },
   {
    "duration": 11,
    "start_time": "2022-05-22T15:41:12.214Z"
   },
   {
    "duration": 37,
    "start_time": "2022-05-22T15:41:12.226Z"
   },
   {
    "duration": 0,
    "start_time": "2022-05-22T15:41:12.264Z"
   },
   {
    "duration": 3,
    "start_time": "2022-05-22T15:42:48.700Z"
   },
   {
    "duration": 16,
    "start_time": "2022-05-22T15:42:57.878Z"
   },
   {
    "duration": 16,
    "start_time": "2022-05-22T15:46:39.596Z"
   },
   {
    "duration": 259,
    "start_time": "2022-05-22T15:47:26.642Z"
   },
   {
    "duration": 7,
    "start_time": "2022-05-22T15:47:54.283Z"
   },
   {
    "duration": 12,
    "start_time": "2022-05-22T15:48:02.830Z"
   },
   {
    "duration": 10,
    "start_time": "2022-05-22T15:48:25.870Z"
   },
   {
    "duration": 12,
    "start_time": "2022-05-22T15:50:09.741Z"
   },
   {
    "duration": 4,
    "start_time": "2022-05-22T15:50:09.914Z"
   },
   {
    "duration": 4,
    "start_time": "2022-05-22T15:50:10.067Z"
   },
   {
    "duration": 17,
    "start_time": "2022-05-22T15:50:10.227Z"
   },
   {
    "duration": 17,
    "start_time": "2022-05-22T15:50:10.894Z"
   },
   {
    "duration": 7,
    "start_time": "2022-05-22T15:54:06.983Z"
   },
   {
    "duration": 3,
    "start_time": "2022-05-22T15:54:10.308Z"
   },
   {
    "duration": 15,
    "start_time": "2022-05-22T15:54:14.092Z"
   },
   {
    "duration": 97,
    "start_time": "2022-05-22T16:14:11.071Z"
   },
   {
    "duration": 281,
    "start_time": "2022-05-22T16:14:44.823Z"
   },
   {
    "duration": 33,
    "start_time": "2022-05-22T16:15:37.512Z"
   },
   {
    "duration": 5,
    "start_time": "2022-05-22T16:15:41.951Z"
   },
   {
    "duration": 104,
    "start_time": "2022-05-22T16:16:08.058Z"
   },
   {
    "duration": 12,
    "start_time": "2022-05-22T16:16:39.789Z"
   },
   {
    "duration": 140,
    "start_time": "2022-05-22T16:16:46.265Z"
   },
   {
    "duration": 128,
    "start_time": "2022-05-22T16:16:53.876Z"
   },
   {
    "duration": 124,
    "start_time": "2022-05-22T16:17:04.967Z"
   },
   {
    "duration": 26,
    "start_time": "2022-05-22T16:18:21.422Z"
   },
   {
    "duration": 8,
    "start_time": "2022-05-22T16:18:35.311Z"
   },
   {
    "duration": 129,
    "start_time": "2022-05-22T16:19:42.537Z"
   },
   {
    "duration": 18,
    "start_time": "2022-05-22T16:20:26.771Z"
   },
   {
    "duration": 7,
    "start_time": "2022-05-22T16:21:15.373Z"
   },
   {
    "duration": 135,
    "start_time": "2022-05-22T16:26:26.679Z"
   },
   {
    "duration": 8,
    "start_time": "2022-05-22T16:27:28.575Z"
   },
   {
    "duration": 20,
    "start_time": "2022-05-22T16:32:21.506Z"
   },
   {
    "duration": 4,
    "start_time": "2022-05-22T16:33:36.263Z"
   },
   {
    "duration": 115,
    "start_time": "2022-05-22T16:34:17.491Z"
   },
   {
    "duration": 20,
    "start_time": "2022-05-22T16:34:24.455Z"
   },
   {
    "duration": 7,
    "start_time": "2022-05-22T16:35:07.966Z"
   },
   {
    "duration": 23,
    "start_time": "2022-05-22T16:38:46.677Z"
   },
   {
    "duration": 33,
    "start_time": "2022-05-22T16:40:57.876Z"
   },
   {
    "duration": 3,
    "start_time": "2022-05-22T16:41:08.290Z"
   },
   {
    "duration": 32,
    "start_time": "2022-05-22T16:41:26.443Z"
   },
   {
    "duration": 27,
    "start_time": "2022-05-22T16:41:44.410Z"
   },
   {
    "duration": 112,
    "start_time": "2022-05-22T16:41:47.841Z"
   },
   {
    "duration": 8,
    "start_time": "2022-05-22T16:42:11.505Z"
   },
   {
    "duration": 6,
    "start_time": "2022-05-22T16:45:47.238Z"
   },
   {
    "duration": 21,
    "start_time": "2022-05-22T16:45:51.804Z"
   },
   {
    "duration": 20,
    "start_time": "2022-05-22T16:46:24.165Z"
   },
   {
    "duration": 4,
    "start_time": "2022-05-22T16:47:32.339Z"
   },
   {
    "duration": 108,
    "start_time": "2022-05-22T16:47:58.005Z"
   },
   {
    "duration": 21,
    "start_time": "2022-05-22T16:48:06.305Z"
   },
   {
    "duration": 8,
    "start_time": "2022-05-22T16:48:36.544Z"
   },
   {
    "duration": 19,
    "start_time": "2022-05-22T16:58:25.160Z"
   },
   {
    "duration": 135,
    "start_time": "2022-05-22T16:59:05.994Z"
   },
   {
    "duration": 371,
    "start_time": "2022-05-22T16:59:19.777Z"
   },
   {
    "duration": 11,
    "start_time": "2022-05-22T17:00:55.172Z"
   },
   {
    "duration": 9,
    "start_time": "2022-05-22T17:01:06.531Z"
   },
   {
    "duration": 11,
    "start_time": "2022-05-22T17:02:15.557Z"
   },
   {
    "duration": 6,
    "start_time": "2022-05-22T17:03:28.972Z"
   },
   {
    "duration": 434,
    "start_time": "2022-05-22T17:03:39.948Z"
   },
   {
    "duration": 51,
    "start_time": "2022-05-22T17:03:40.384Z"
   },
   {
    "duration": 20,
    "start_time": "2022-05-22T17:03:40.437Z"
   },
   {
    "duration": 13,
    "start_time": "2022-05-22T17:03:40.459Z"
   },
   {
    "duration": 4,
    "start_time": "2022-05-22T17:03:40.473Z"
   },
   {
    "duration": 4,
    "start_time": "2022-05-22T17:03:40.478Z"
   },
   {
    "duration": 5,
    "start_time": "2022-05-22T17:03:40.484Z"
   },
   {
    "duration": 10,
    "start_time": "2022-05-22T17:03:40.490Z"
   },
   {
    "duration": 8,
    "start_time": "2022-05-22T17:03:40.501Z"
   },
   {
    "duration": 4,
    "start_time": "2022-05-22T17:03:40.512Z"
   },
   {
    "duration": 13,
    "start_time": "2022-05-22T17:03:40.517Z"
   },
   {
    "duration": 6,
    "start_time": "2022-05-22T17:03:40.531Z"
   },
   {
    "duration": 7,
    "start_time": "2022-05-22T17:03:40.538Z"
   },
   {
    "duration": 29,
    "start_time": "2022-05-22T17:03:40.546Z"
   },
   {
    "duration": 5,
    "start_time": "2022-05-22T17:03:40.576Z"
   },
   {
    "duration": 12,
    "start_time": "2022-05-22T17:03:40.582Z"
   },
   {
    "duration": 6,
    "start_time": "2022-05-22T17:03:40.595Z"
   },
   {
    "duration": 12,
    "start_time": "2022-05-22T17:03:40.602Z"
   },
   {
    "duration": 2,
    "start_time": "2022-05-22T17:03:40.616Z"
   },
   {
    "duration": 24,
    "start_time": "2022-05-22T17:03:40.619Z"
   },
   {
    "duration": 229,
    "start_time": "2022-05-22T17:03:40.644Z"
   },
   {
    "duration": 19,
    "start_time": "2022-05-22T17:03:40.875Z"
   },
   {
    "duration": 484,
    "start_time": "2022-05-22T17:03:40.896Z"
   },
   {
    "duration": 8,
    "start_time": "2022-05-22T17:03:41.381Z"
   },
   {
    "duration": 4,
    "start_time": "2022-05-22T17:03:41.390Z"
   },
   {
    "duration": 6,
    "start_time": "2022-05-22T17:03:41.395Z"
   },
   {
    "duration": 10,
    "start_time": "2022-05-22T17:03:41.402Z"
   },
   {
    "duration": 8,
    "start_time": "2022-05-22T17:03:41.415Z"
   },
   {
    "duration": 16,
    "start_time": "2022-05-22T17:03:41.424Z"
   },
   {
    "duration": 2,
    "start_time": "2022-05-22T17:03:41.441Z"
   },
   {
    "duration": 119,
    "start_time": "2022-05-22T17:03:41.474Z"
   },
   {
    "duration": 133,
    "start_time": "2022-05-22T17:03:41.595Z"
   },
   {
    "duration": 126,
    "start_time": "2022-05-22T17:03:41.729Z"
   },
   {
    "duration": 129,
    "start_time": "2022-05-22T17:03:41.857Z"
   },
   {
    "duration": 142,
    "start_time": "2022-05-22T17:03:41.988Z"
   },
   {
    "duration": 6,
    "start_time": "2022-05-22T17:03:42.131Z"
   },
   {
    "duration": 38,
    "start_time": "2022-05-22T17:03:42.138Z"
   },
   {
    "duration": 13,
    "start_time": "2022-05-22T17:03:42.177Z"
   },
   {
    "duration": 3,
    "start_time": "2022-05-22T17:03:42.191Z"
   },
   {
    "duration": 7,
    "start_time": "2022-05-22T17:03:42.196Z"
   },
   {
    "duration": 22,
    "start_time": "2022-05-22T17:03:42.205Z"
   },
   {
    "duration": 25,
    "start_time": "2022-05-22T17:03:42.230Z"
   },
   {
    "duration": 143,
    "start_time": "2022-05-22T17:03:42.256Z"
   },
   {
    "duration": 9,
    "start_time": "2022-05-22T17:03:42.401Z"
   },
   {
    "duration": 191,
    "start_time": "2022-05-22T17:03:42.411Z"
   },
   {
    "duration": 9,
    "start_time": "2022-05-22T17:03:42.603Z"
   },
   {
    "duration": 133,
    "start_time": "2022-05-22T17:03:42.613Z"
   },
   {
    "duration": 10,
    "start_time": "2022-05-22T17:03:42.748Z"
   },
   {
    "duration": 148,
    "start_time": "2022-05-22T17:03:42.760Z"
   },
   {
    "duration": 7,
    "start_time": "2022-05-22T17:03:42.909Z"
   },
   {
    "duration": 127,
    "start_time": "2022-05-22T17:03:42.917Z"
   },
   {
    "duration": 8,
    "start_time": "2022-05-22T17:03:43.046Z"
   },
   {
    "duration": 22,
    "start_time": "2022-05-22T17:03:43.055Z"
   },
   {
    "duration": 217,
    "start_time": "2022-05-22T17:03:43.079Z"
   },
   {
    "duration": 0,
    "start_time": "2022-05-22T17:03:43.298Z"
   },
   {
    "duration": 131,
    "start_time": "2022-05-22T17:04:08.980Z"
   },
   {
    "duration": 13,
    "start_time": "2022-05-22T17:04:12.507Z"
   },
   {
    "duration": 5,
    "start_time": "2022-05-22T17:04:42.085Z"
   },
   {
    "duration": 178,
    "start_time": "2022-05-22T17:08:42.879Z"
   },
   {
    "duration": 5,
    "start_time": "2022-05-22T17:08:56.970Z"
   },
   {
    "duration": 11,
    "start_time": "2022-05-22T17:10:46.826Z"
   },
   {
    "duration": 10,
    "start_time": "2022-05-22T17:11:06.596Z"
   },
   {
    "duration": 478,
    "start_time": "2022-05-22T17:11:11.406Z"
   },
   {
    "duration": 476,
    "start_time": "2022-05-22T17:12:46.236Z"
   },
   {
    "duration": 117,
    "start_time": "2022-05-22T17:13:09.153Z"
   },
   {
    "duration": 202,
    "start_time": "2022-05-22T17:13:29.602Z"
   },
   {
    "duration": 5,
    "start_time": "2022-05-22T17:14:59.501Z"
   },
   {
    "duration": 4,
    "start_time": "2022-05-22T17:17:33.374Z"
   },
   {
    "duration": 410,
    "start_time": "2022-05-22T17:17:44.171Z"
   },
   {
    "duration": 50,
    "start_time": "2022-05-22T17:17:44.582Z"
   },
   {
    "duration": 20,
    "start_time": "2022-05-22T17:17:44.633Z"
   },
   {
    "duration": 13,
    "start_time": "2022-05-22T17:17:44.654Z"
   },
   {
    "duration": 16,
    "start_time": "2022-05-22T17:17:44.669Z"
   },
   {
    "duration": 15,
    "start_time": "2022-05-22T17:17:44.686Z"
   },
   {
    "duration": 19,
    "start_time": "2022-05-22T17:17:44.702Z"
   },
   {
    "duration": 12,
    "start_time": "2022-05-22T17:17:44.722Z"
   },
   {
    "duration": 19,
    "start_time": "2022-05-22T17:17:44.736Z"
   },
   {
    "duration": 11,
    "start_time": "2022-05-22T17:17:44.757Z"
   },
   {
    "duration": 17,
    "start_time": "2022-05-22T17:17:44.769Z"
   },
   {
    "duration": 16,
    "start_time": "2022-05-22T17:17:44.787Z"
   },
   {
    "duration": 15,
    "start_time": "2022-05-22T17:17:44.805Z"
   },
   {
    "duration": 15,
    "start_time": "2022-05-22T17:17:44.823Z"
   },
   {
    "duration": 4,
    "start_time": "2022-05-22T17:17:44.839Z"
   },
   {
    "duration": 11,
    "start_time": "2022-05-22T17:17:44.844Z"
   },
   {
    "duration": 6,
    "start_time": "2022-05-22T17:17:44.857Z"
   },
   {
    "duration": 13,
    "start_time": "2022-05-22T17:17:44.864Z"
   },
   {
    "duration": 2,
    "start_time": "2022-05-22T17:17:44.879Z"
   },
   {
    "duration": 28,
    "start_time": "2022-05-22T17:17:44.882Z"
   },
   {
    "duration": 206,
    "start_time": "2022-05-22T17:17:44.911Z"
   },
   {
    "duration": 19,
    "start_time": "2022-05-22T17:17:45.118Z"
   },
   {
    "duration": 482,
    "start_time": "2022-05-22T17:17:45.138Z"
   },
   {
    "duration": 9,
    "start_time": "2022-05-22T17:17:45.621Z"
   },
   {
    "duration": 11,
    "start_time": "2022-05-22T17:17:45.631Z"
   },
   {
    "duration": 9,
    "start_time": "2022-05-22T17:17:45.644Z"
   },
   {
    "duration": 22,
    "start_time": "2022-05-22T17:17:45.654Z"
   },
   {
    "duration": 12,
    "start_time": "2022-05-22T17:17:45.678Z"
   },
   {
    "duration": 19,
    "start_time": "2022-05-22T17:17:45.691Z"
   },
   {
    "duration": 5,
    "start_time": "2022-05-22T17:17:45.712Z"
   },
   {
    "duration": 127,
    "start_time": "2022-05-22T17:17:45.718Z"
   },
   {
    "duration": 122,
    "start_time": "2022-05-22T17:17:45.846Z"
   },
   {
    "duration": 132,
    "start_time": "2022-05-22T17:17:45.974Z"
   },
   {
    "duration": 126,
    "start_time": "2022-05-22T17:17:46.107Z"
   },
   {
    "duration": 119,
    "start_time": "2022-05-22T17:17:46.234Z"
   },
   {
    "duration": 4,
    "start_time": "2022-05-22T17:17:46.355Z"
   },
   {
    "duration": 19,
    "start_time": "2022-05-22T17:17:46.374Z"
   },
   {
    "duration": 13,
    "start_time": "2022-05-22T17:17:46.395Z"
   },
   {
    "duration": 5,
    "start_time": "2022-05-22T17:17:46.409Z"
   },
   {
    "duration": 8,
    "start_time": "2022-05-22T17:17:46.415Z"
   },
   {
    "duration": 17,
    "start_time": "2022-05-22T17:17:46.427Z"
   },
   {
    "duration": 31,
    "start_time": "2022-05-22T17:17:46.445Z"
   },
   {
    "duration": 124,
    "start_time": "2022-05-22T17:17:46.478Z"
   },
   {
    "duration": 8,
    "start_time": "2022-05-22T17:17:46.603Z"
   },
   {
    "duration": 199,
    "start_time": "2022-05-22T17:17:46.612Z"
   },
   {
    "duration": 9,
    "start_time": "2022-05-22T17:17:46.812Z"
   },
   {
    "duration": 125,
    "start_time": "2022-05-22T17:17:46.822Z"
   },
   {
    "duration": 8,
    "start_time": "2022-05-22T17:17:46.948Z"
   },
   {
    "duration": 136,
    "start_time": "2022-05-22T17:17:46.957Z"
   },
   {
    "duration": 8,
    "start_time": "2022-05-22T17:17:47.095Z"
   },
   {
    "duration": 119,
    "start_time": "2022-05-22T17:17:47.104Z"
   },
   {
    "duration": 7,
    "start_time": "2022-05-22T17:17:47.225Z"
   },
   {
    "duration": 151,
    "start_time": "2022-05-22T17:17:47.233Z"
   },
   {
    "duration": 5,
    "start_time": "2022-05-22T17:17:47.385Z"
   },
   {
    "duration": 159,
    "start_time": "2022-05-22T17:17:47.391Z"
   },
   {
    "duration": 4,
    "start_time": "2022-05-22T17:17:47.551Z"
   },
   {
    "duration": 6,
    "start_time": "2022-05-22T17:17:47.557Z"
   },
   {
    "duration": 4,
    "start_time": "2022-05-22T17:17:53.544Z"
   },
   {
    "duration": 5,
    "start_time": "2022-05-22T17:17:56.268Z"
   },
   {
    "duration": 5,
    "start_time": "2022-05-22T17:18:04.444Z"
   },
   {
    "duration": 5,
    "start_time": "2022-05-22T17:18:09.935Z"
   },
   {
    "duration": 19,
    "start_time": "2022-05-22T17:18:30.839Z"
   },
   {
    "duration": 4,
    "start_time": "2022-05-22T17:18:58.630Z"
   },
   {
    "duration": 5,
    "start_time": "2022-05-22T17:19:07.965Z"
   },
   {
    "duration": 81,
    "start_time": "2022-05-22T17:19:27.911Z"
   },
   {
    "duration": 4,
    "start_time": "2022-05-22T17:19:37.493Z"
   },
   {
    "duration": 5,
    "start_time": "2022-05-22T17:19:46.370Z"
   },
   {
    "duration": 5,
    "start_time": "2022-05-22T17:19:52.379Z"
   },
   {
    "duration": 5,
    "start_time": "2022-05-22T17:20:10.007Z"
   },
   {
    "duration": 6,
    "start_time": "2022-05-22T17:20:22.111Z"
   },
   {
    "duration": 5,
    "start_time": "2022-05-22T17:20:36.228Z"
   },
   {
    "duration": 9,
    "start_time": "2022-05-22T17:20:49.940Z"
   },
   {
    "duration": 6,
    "start_time": "2022-05-22T17:20:59.361Z"
   },
   {
    "duration": 5,
    "start_time": "2022-05-22T17:21:10.445Z"
   },
   {
    "duration": 4,
    "start_time": "2022-05-22T17:21:44.095Z"
   },
   {
    "duration": 9,
    "start_time": "2022-05-22T17:28:59.047Z"
   },
   {
    "duration": 9,
    "start_time": "2022-05-22T17:29:35.104Z"
   },
   {
    "duration": 10,
    "start_time": "2022-05-22T17:30:24.857Z"
   },
   {
    "duration": 12,
    "start_time": "2022-05-22T17:30:42.706Z"
   },
   {
    "duration": 39,
    "start_time": "2022-05-22T17:31:22.734Z"
   },
   {
    "duration": 4,
    "start_time": "2022-05-22T17:34:11.397Z"
   },
   {
    "duration": 6,
    "start_time": "2022-05-22T17:34:12.817Z"
   },
   {
    "duration": 5,
    "start_time": "2022-05-22T17:34:14.477Z"
   },
   {
    "duration": 9,
    "start_time": "2022-05-22T17:38:47.055Z"
   },
   {
    "duration": 6,
    "start_time": "2022-05-22T17:38:50.617Z"
   },
   {
    "duration": 14,
    "start_time": "2022-05-22T17:39:01.072Z"
   },
   {
    "duration": 13,
    "start_time": "2022-05-22T17:39:35.537Z"
   },
   {
    "duration": 16,
    "start_time": "2022-05-22T17:39:42.522Z"
   },
   {
    "duration": 13,
    "start_time": "2022-05-22T17:39:45.693Z"
   },
   {
    "duration": 416,
    "start_time": "2022-05-22T17:39:56.044Z"
   },
   {
    "duration": 51,
    "start_time": "2022-05-22T17:39:56.462Z"
   },
   {
    "duration": 21,
    "start_time": "2022-05-22T17:39:56.514Z"
   },
   {
    "duration": 14,
    "start_time": "2022-05-22T17:39:56.536Z"
   },
   {
    "duration": 3,
    "start_time": "2022-05-22T17:39:56.552Z"
   },
   {
    "duration": 14,
    "start_time": "2022-05-22T17:39:56.556Z"
   },
   {
    "duration": 6,
    "start_time": "2022-05-22T17:39:56.572Z"
   },
   {
    "duration": 17,
    "start_time": "2022-05-22T17:39:56.579Z"
   },
   {
    "duration": 14,
    "start_time": "2022-05-22T17:39:56.597Z"
   },
   {
    "duration": 11,
    "start_time": "2022-05-22T17:39:56.612Z"
   },
   {
    "duration": 10,
    "start_time": "2022-05-22T17:39:56.624Z"
   },
   {
    "duration": 10,
    "start_time": "2022-05-22T17:39:56.636Z"
   },
   {
    "duration": 10,
    "start_time": "2022-05-22T17:39:56.647Z"
   },
   {
    "duration": 12,
    "start_time": "2022-05-22T17:39:56.659Z"
   },
   {
    "duration": 12,
    "start_time": "2022-05-22T17:39:56.672Z"
   },
   {
    "duration": 16,
    "start_time": "2022-05-22T17:39:56.685Z"
   },
   {
    "duration": 7,
    "start_time": "2022-05-22T17:39:56.702Z"
   },
   {
    "duration": 16,
    "start_time": "2022-05-22T17:39:56.710Z"
   },
   {
    "duration": 4,
    "start_time": "2022-05-22T17:39:56.728Z"
   },
   {
    "duration": 27,
    "start_time": "2022-05-22T17:39:56.733Z"
   },
   {
    "duration": 210,
    "start_time": "2022-05-22T17:39:56.762Z"
   },
   {
    "duration": 20,
    "start_time": "2022-05-22T17:39:56.973Z"
   },
   {
    "duration": 489,
    "start_time": "2022-05-22T17:39:56.994Z"
   },
   {
    "duration": 8,
    "start_time": "2022-05-22T17:39:57.484Z"
   },
   {
    "duration": 3,
    "start_time": "2022-05-22T17:39:57.494Z"
   },
   {
    "duration": 6,
    "start_time": "2022-05-22T17:39:57.499Z"
   },
   {
    "duration": 10,
    "start_time": "2022-05-22T17:39:57.506Z"
   },
   {
    "duration": 9,
    "start_time": "2022-05-22T17:39:57.517Z"
   },
   {
    "duration": 15,
    "start_time": "2022-05-22T17:39:57.528Z"
   },
   {
    "duration": 2,
    "start_time": "2022-05-22T17:39:57.544Z"
   },
   {
    "duration": 140,
    "start_time": "2022-05-22T17:39:57.547Z"
   },
   {
    "duration": 134,
    "start_time": "2022-05-22T17:39:57.688Z"
   },
   {
    "duration": 135,
    "start_time": "2022-05-22T17:39:57.823Z"
   },
   {
    "duration": 127,
    "start_time": "2022-05-22T17:39:57.959Z"
   },
   {
    "duration": 132,
    "start_time": "2022-05-22T17:39:58.088Z"
   },
   {
    "duration": 4,
    "start_time": "2022-05-22T17:39:58.222Z"
   },
   {
    "duration": 29,
    "start_time": "2022-05-22T17:39:58.227Z"
   },
   {
    "duration": 23,
    "start_time": "2022-05-22T17:39:58.257Z"
   },
   {
    "duration": 3,
    "start_time": "2022-05-22T17:39:58.282Z"
   },
   {
    "duration": 22,
    "start_time": "2022-05-22T17:39:58.286Z"
   },
   {
    "duration": 38,
    "start_time": "2022-05-22T17:39:58.311Z"
   },
   {
    "duration": 34,
    "start_time": "2022-05-22T17:39:58.351Z"
   },
   {
    "duration": 124,
    "start_time": "2022-05-22T17:39:58.386Z"
   },
   {
    "duration": 8,
    "start_time": "2022-05-22T17:39:58.511Z"
   },
   {
    "duration": 196,
    "start_time": "2022-05-22T17:39:58.520Z"
   },
   {
    "duration": 8,
    "start_time": "2022-05-22T17:39:58.717Z"
   },
   {
    "duration": 135,
    "start_time": "2022-05-22T17:39:58.727Z"
   },
   {
    "duration": 16,
    "start_time": "2022-05-22T17:39:58.864Z"
   },
   {
    "duration": 124,
    "start_time": "2022-05-22T17:39:58.882Z"
   },
   {
    "duration": 8,
    "start_time": "2022-05-22T17:39:59.008Z"
   },
   {
    "duration": 131,
    "start_time": "2022-05-22T17:39:59.017Z"
   },
   {
    "duration": 8,
    "start_time": "2022-05-22T17:39:59.149Z"
   },
   {
    "duration": 164,
    "start_time": "2022-05-22T17:39:59.159Z"
   },
   {
    "duration": 4,
    "start_time": "2022-05-22T17:39:59.325Z"
   },
   {
    "duration": 150,
    "start_time": "2022-05-22T17:39:59.331Z"
   },
   {
    "duration": 5,
    "start_time": "2022-05-22T17:39:59.482Z"
   },
   {
    "duration": 18,
    "start_time": "2022-05-22T17:39:59.488Z"
   },
   {
    "duration": 13,
    "start_time": "2022-05-22T17:40:08.794Z"
   },
   {
    "duration": 117,
    "start_time": "2022-05-22T17:40:33.158Z"
   },
   {
    "duration": 120,
    "start_time": "2022-05-22T17:40:55.983Z"
   },
   {
    "duration": 9,
    "start_time": "2022-05-22T17:59:58.553Z"
   },
   {
    "duration": 17,
    "start_time": "2022-05-22T18:00:04.037Z"
   },
   {
    "duration": 104,
    "start_time": "2022-05-22T18:00:28.610Z"
   },
   {
    "duration": 15,
    "start_time": "2022-05-22T18:00:43.728Z"
   },
   {
    "duration": 16,
    "start_time": "2022-05-22T18:01:50.598Z"
   },
   {
    "duration": 20,
    "start_time": "2022-05-22T18:02:10.486Z"
   },
   {
    "duration": 440,
    "start_time": "2022-05-22T18:02:37.874Z"
   },
   {
    "duration": 50,
    "start_time": "2022-05-22T18:02:38.316Z"
   },
   {
    "duration": 27,
    "start_time": "2022-05-22T18:02:38.367Z"
   },
   {
    "duration": 35,
    "start_time": "2022-05-22T18:02:38.396Z"
   },
   {
    "duration": 4,
    "start_time": "2022-05-22T18:02:38.434Z"
   },
   {
    "duration": 6,
    "start_time": "2022-05-22T18:02:38.439Z"
   },
   {
    "duration": 5,
    "start_time": "2022-05-22T18:02:38.446Z"
   },
   {
    "duration": 10,
    "start_time": "2022-05-22T18:02:38.453Z"
   },
   {
    "duration": 23,
    "start_time": "2022-05-22T18:02:38.465Z"
   },
   {
    "duration": 10,
    "start_time": "2022-05-22T18:02:38.489Z"
   },
   {
    "duration": 7,
    "start_time": "2022-05-22T18:02:38.500Z"
   },
   {
    "duration": 9,
    "start_time": "2022-05-22T18:02:38.509Z"
   },
   {
    "duration": 12,
    "start_time": "2022-05-22T18:02:38.519Z"
   },
   {
    "duration": 10,
    "start_time": "2022-05-22T18:02:38.534Z"
   },
   {
    "duration": 6,
    "start_time": "2022-05-22T18:02:38.546Z"
   },
   {
    "duration": 15,
    "start_time": "2022-05-22T18:02:38.553Z"
   },
   {
    "duration": 22,
    "start_time": "2022-05-22T18:02:38.569Z"
   },
   {
    "duration": 21,
    "start_time": "2022-05-22T18:02:38.593Z"
   },
   {
    "duration": 3,
    "start_time": "2022-05-22T18:02:38.615Z"
   },
   {
    "duration": 21,
    "start_time": "2022-05-22T18:02:38.620Z"
   },
   {
    "duration": 219,
    "start_time": "2022-05-22T18:02:38.643Z"
   },
   {
    "duration": 34,
    "start_time": "2022-05-22T18:02:38.864Z"
   },
   {
    "duration": 498,
    "start_time": "2022-05-22T18:02:38.900Z"
   },
   {
    "duration": 9,
    "start_time": "2022-05-22T18:02:39.400Z"
   },
   {
    "duration": 5,
    "start_time": "2022-05-22T18:02:39.411Z"
   },
   {
    "duration": 12,
    "start_time": "2022-05-22T18:02:39.417Z"
   },
   {
    "duration": 14,
    "start_time": "2022-05-22T18:02:39.431Z"
   },
   {
    "duration": 9,
    "start_time": "2022-05-22T18:02:39.447Z"
   },
   {
    "duration": 29,
    "start_time": "2022-05-22T18:02:39.475Z"
   },
   {
    "duration": 3,
    "start_time": "2022-05-22T18:02:39.505Z"
   },
   {
    "duration": 129,
    "start_time": "2022-05-22T18:02:39.510Z"
   },
   {
    "duration": 159,
    "start_time": "2022-05-22T18:02:39.641Z"
   },
   {
    "duration": 164,
    "start_time": "2022-05-22T18:02:39.803Z"
   },
   {
    "duration": 132,
    "start_time": "2022-05-22T18:02:39.968Z"
   },
   {
    "duration": 140,
    "start_time": "2022-05-22T18:02:40.102Z"
   },
   {
    "duration": 5,
    "start_time": "2022-05-22T18:02:40.243Z"
   },
   {
    "duration": 41,
    "start_time": "2022-05-22T18:02:40.249Z"
   },
   {
    "duration": 15,
    "start_time": "2022-05-22T18:02:40.291Z"
   },
   {
    "duration": 3,
    "start_time": "2022-05-22T18:02:40.308Z"
   },
   {
    "duration": 5,
    "start_time": "2022-05-22T18:02:40.312Z"
   },
   {
    "duration": 16,
    "start_time": "2022-05-22T18:02:40.320Z"
   },
   {
    "duration": 17,
    "start_time": "2022-05-22T18:02:40.337Z"
   },
   {
    "duration": 134,
    "start_time": "2022-05-22T18:02:40.356Z"
   },
   {
    "duration": 8,
    "start_time": "2022-05-22T18:02:40.492Z"
   },
   {
    "duration": 188,
    "start_time": "2022-05-22T18:02:40.502Z"
   },
   {
    "duration": 7,
    "start_time": "2022-05-22T18:02:40.692Z"
   },
   {
    "duration": 133,
    "start_time": "2022-05-22T18:02:40.700Z"
   },
   {
    "duration": 7,
    "start_time": "2022-05-22T18:02:40.835Z"
   },
   {
    "duration": 133,
    "start_time": "2022-05-22T18:02:40.843Z"
   },
   {
    "duration": 11,
    "start_time": "2022-05-22T18:02:40.979Z"
   },
   {
    "duration": 127,
    "start_time": "2022-05-22T18:02:40.991Z"
   },
   {
    "duration": 8,
    "start_time": "2022-05-22T18:02:41.119Z"
   },
   {
    "duration": 161,
    "start_time": "2022-05-22T18:02:41.129Z"
   },
   {
    "duration": 5,
    "start_time": "2022-05-22T18:02:41.292Z"
   },
   {
    "duration": 145,
    "start_time": "2022-05-22T18:02:41.299Z"
   },
   {
    "duration": 5,
    "start_time": "2022-05-22T18:02:41.445Z"
   },
   {
    "duration": 37,
    "start_time": "2022-05-22T18:02:41.451Z"
   },
   {
    "duration": 100,
    "start_time": "2022-05-22T18:02:41.490Z"
   },
   {
    "duration": 16,
    "start_time": "2022-05-22T18:03:08.781Z"
   },
   {
    "duration": 401,
    "start_time": "2022-05-22T18:03:18.897Z"
   },
   {
    "duration": 51,
    "start_time": "2022-05-22T18:03:19.299Z"
   },
   {
    "duration": 22,
    "start_time": "2022-05-22T18:03:19.352Z"
   },
   {
    "duration": 18,
    "start_time": "2022-05-22T18:03:19.380Z"
   },
   {
    "duration": 4,
    "start_time": "2022-05-22T18:03:19.399Z"
   },
   {
    "duration": 5,
    "start_time": "2022-05-22T18:03:19.405Z"
   },
   {
    "duration": 5,
    "start_time": "2022-05-22T18:03:19.411Z"
   },
   {
    "duration": 10,
    "start_time": "2022-05-22T18:03:19.417Z"
   },
   {
    "duration": 9,
    "start_time": "2022-05-22T18:03:19.428Z"
   },
   {
    "duration": 36,
    "start_time": "2022-05-22T18:03:19.441Z"
   },
   {
    "duration": 20,
    "start_time": "2022-05-22T18:03:19.480Z"
   },
   {
    "duration": 7,
    "start_time": "2022-05-22T18:03:19.501Z"
   },
   {
    "duration": 8,
    "start_time": "2022-05-22T18:03:19.509Z"
   },
   {
    "duration": 10,
    "start_time": "2022-05-22T18:03:19.519Z"
   },
   {
    "duration": 9,
    "start_time": "2022-05-22T18:03:19.530Z"
   },
   {
    "duration": 11,
    "start_time": "2022-05-22T18:03:19.540Z"
   },
   {
    "duration": 6,
    "start_time": "2022-05-22T18:03:19.552Z"
   },
   {
    "duration": 24,
    "start_time": "2022-05-22T18:03:19.559Z"
   },
   {
    "duration": 3,
    "start_time": "2022-05-22T18:03:19.585Z"
   },
   {
    "duration": 24,
    "start_time": "2022-05-22T18:03:19.590Z"
   },
   {
    "duration": 224,
    "start_time": "2022-05-22T18:03:19.615Z"
   },
   {
    "duration": 20,
    "start_time": "2022-05-22T18:03:19.841Z"
   },
   {
    "duration": 522,
    "start_time": "2022-05-22T18:03:19.863Z"
   },
   {
    "duration": 10,
    "start_time": "2022-05-22T18:03:20.389Z"
   },
   {
    "duration": 11,
    "start_time": "2022-05-22T18:03:20.400Z"
   },
   {
    "duration": 20,
    "start_time": "2022-05-22T18:03:20.413Z"
   },
   {
    "duration": 12,
    "start_time": "2022-05-22T18:03:20.435Z"
   },
   {
    "duration": 7,
    "start_time": "2022-05-22T18:03:20.451Z"
   },
   {
    "duration": 29,
    "start_time": "2022-05-22T18:03:20.459Z"
   },
   {
    "duration": 3,
    "start_time": "2022-05-22T18:03:20.490Z"
   },
   {
    "duration": 117,
    "start_time": "2022-05-22T18:03:20.494Z"
   },
   {
    "duration": 136,
    "start_time": "2022-05-22T18:03:20.612Z"
   },
   {
    "duration": 148,
    "start_time": "2022-05-22T18:03:20.749Z"
   },
   {
    "duration": 123,
    "start_time": "2022-05-22T18:03:20.898Z"
   },
   {
    "duration": 136,
    "start_time": "2022-05-22T18:03:21.022Z"
   },
   {
    "duration": 20,
    "start_time": "2022-05-22T18:03:21.160Z"
   },
   {
    "duration": 25,
    "start_time": "2022-05-22T18:03:21.182Z"
   },
   {
    "duration": 15,
    "start_time": "2022-05-22T18:03:21.209Z"
   },
   {
    "duration": 3,
    "start_time": "2022-05-22T18:03:21.225Z"
   },
   {
    "duration": 6,
    "start_time": "2022-05-22T18:03:21.229Z"
   },
   {
    "duration": 19,
    "start_time": "2022-05-22T18:03:21.236Z"
   },
   {
    "duration": 35,
    "start_time": "2022-05-22T18:03:21.257Z"
   },
   {
    "duration": 123,
    "start_time": "2022-05-22T18:03:21.294Z"
   },
   {
    "duration": 7,
    "start_time": "2022-05-22T18:03:21.418Z"
   },
   {
    "duration": 185,
    "start_time": "2022-05-22T18:03:21.426Z"
   },
   {
    "duration": 7,
    "start_time": "2022-05-22T18:03:21.613Z"
   },
   {
    "duration": 135,
    "start_time": "2022-05-22T18:03:21.621Z"
   },
   {
    "duration": 31,
    "start_time": "2022-05-22T18:03:21.757Z"
   },
   {
    "duration": 119,
    "start_time": "2022-05-22T18:03:21.791Z"
   },
   {
    "duration": 9,
    "start_time": "2022-05-22T18:03:21.912Z"
   },
   {
    "duration": 126,
    "start_time": "2022-05-22T18:03:21.922Z"
   },
   {
    "duration": 7,
    "start_time": "2022-05-22T18:03:22.050Z"
   },
   {
    "duration": 160,
    "start_time": "2022-05-22T18:03:22.059Z"
   },
   {
    "duration": 6,
    "start_time": "2022-05-22T18:03:22.220Z"
   },
   {
    "duration": 149,
    "start_time": "2022-05-22T18:03:22.228Z"
   },
   {
    "duration": 5,
    "start_time": "2022-05-22T18:03:22.383Z"
   },
   {
    "duration": 18,
    "start_time": "2022-05-22T18:03:22.390Z"
   },
   {
    "duration": 14,
    "start_time": "2022-05-22T18:03:22.409Z"
   },
   {
    "duration": 92,
    "start_time": "2022-05-22T18:03:29.158Z"
   },
   {
    "duration": 28,
    "start_time": "2022-05-22T18:03:52.686Z"
   },
   {
    "duration": 35,
    "start_time": "2022-05-22T18:04:33.366Z"
   },
   {
    "duration": 29,
    "start_time": "2022-05-22T18:05:56.026Z"
   },
   {
    "duration": 30,
    "start_time": "2022-05-22T18:06:04.745Z"
   },
   {
    "duration": 20,
    "start_time": "2022-05-22T18:08:03.441Z"
   },
   {
    "duration": 19,
    "start_time": "2022-05-22T18:09:34.295Z"
   },
   {
    "duration": 43,
    "start_time": "2022-05-22T18:09:51.001Z"
   },
   {
    "duration": 36,
    "start_time": "2022-05-22T18:10:30.801Z"
   },
   {
    "duration": 38,
    "start_time": "2022-05-22T18:10:35.921Z"
   },
   {
    "duration": 31,
    "start_time": "2022-05-22T18:11:51.646Z"
   },
   {
    "duration": 26,
    "start_time": "2022-05-22T18:17:52.472Z"
   },
   {
    "duration": 18,
    "start_time": "2022-05-22T18:17:59.148Z"
   },
   {
    "duration": 419,
    "start_time": "2022-05-22T18:18:20.796Z"
   },
   {
    "duration": 51,
    "start_time": "2022-05-22T18:18:21.217Z"
   },
   {
    "duration": 24,
    "start_time": "2022-05-22T18:18:21.269Z"
   },
   {
    "duration": 20,
    "start_time": "2022-05-22T18:18:21.295Z"
   },
   {
    "duration": 4,
    "start_time": "2022-05-22T18:18:21.317Z"
   },
   {
    "duration": 5,
    "start_time": "2022-05-22T18:18:21.323Z"
   },
   {
    "duration": 11,
    "start_time": "2022-05-22T18:18:21.330Z"
   },
   {
    "duration": 11,
    "start_time": "2022-05-22T18:18:21.342Z"
   },
   {
    "duration": 34,
    "start_time": "2022-05-22T18:18:21.354Z"
   },
   {
    "duration": 8,
    "start_time": "2022-05-22T18:18:21.391Z"
   },
   {
    "duration": 7,
    "start_time": "2022-05-22T18:18:21.401Z"
   },
   {
    "duration": 7,
    "start_time": "2022-05-22T18:18:21.410Z"
   },
   {
    "duration": 10,
    "start_time": "2022-05-22T18:18:21.418Z"
   },
   {
    "duration": 10,
    "start_time": "2022-05-22T18:18:21.430Z"
   },
   {
    "duration": 6,
    "start_time": "2022-05-22T18:18:21.442Z"
   },
   {
    "duration": 10,
    "start_time": "2022-05-22T18:18:21.449Z"
   },
   {
    "duration": 30,
    "start_time": "2022-05-22T18:18:21.460Z"
   },
   {
    "duration": 17,
    "start_time": "2022-05-22T18:18:21.493Z"
   },
   {
    "duration": 3,
    "start_time": "2022-05-22T18:18:21.511Z"
   },
   {
    "duration": 22,
    "start_time": "2022-05-22T18:18:21.516Z"
   },
   {
    "duration": 250,
    "start_time": "2022-05-22T18:18:21.540Z"
   },
   {
    "duration": 21,
    "start_time": "2022-05-22T18:18:21.792Z"
   },
   {
    "duration": 561,
    "start_time": "2022-05-22T18:18:21.815Z"
   },
   {
    "duration": 15,
    "start_time": "2022-05-22T18:18:22.380Z"
   },
   {
    "duration": 10,
    "start_time": "2022-05-22T18:18:22.397Z"
   },
   {
    "duration": 5,
    "start_time": "2022-05-22T18:18:22.409Z"
   },
   {
    "duration": 10,
    "start_time": "2022-05-22T18:18:22.416Z"
   },
   {
    "duration": 8,
    "start_time": "2022-05-22T18:18:22.429Z"
   },
   {
    "duration": 16,
    "start_time": "2022-05-22T18:18:22.438Z"
   },
   {
    "duration": 7,
    "start_time": "2022-05-22T18:18:22.481Z"
   },
   {
    "duration": 121,
    "start_time": "2022-05-22T18:18:22.491Z"
   },
   {
    "duration": 154,
    "start_time": "2022-05-22T18:18:22.613Z"
   },
   {
    "duration": 182,
    "start_time": "2022-05-22T18:18:22.771Z"
   },
   {
    "duration": 148,
    "start_time": "2022-05-22T18:18:22.955Z"
   },
   {
    "duration": 162,
    "start_time": "2022-05-22T18:18:23.105Z"
   },
   {
    "duration": 13,
    "start_time": "2022-05-22T18:18:23.268Z"
   },
   {
    "duration": 23,
    "start_time": "2022-05-22T18:18:23.292Z"
   },
   {
    "duration": 12,
    "start_time": "2022-05-22T18:18:23.316Z"
   },
   {
    "duration": 3,
    "start_time": "2022-05-22T18:18:23.330Z"
   },
   {
    "duration": 7,
    "start_time": "2022-05-22T18:18:23.334Z"
   },
   {
    "duration": 41,
    "start_time": "2022-05-22T18:18:23.342Z"
   },
   {
    "duration": 18,
    "start_time": "2022-05-22T18:18:23.386Z"
   },
   {
    "duration": 140,
    "start_time": "2022-05-22T18:18:23.406Z"
   },
   {
    "duration": 10,
    "start_time": "2022-05-22T18:18:23.548Z"
   },
   {
    "duration": 197,
    "start_time": "2022-05-22T18:18:23.560Z"
   },
   {
    "duration": 25,
    "start_time": "2022-05-22T18:18:23.759Z"
   },
   {
    "duration": 127,
    "start_time": "2022-05-22T18:18:23.789Z"
   },
   {
    "duration": 10,
    "start_time": "2022-05-22T18:18:23.917Z"
   },
   {
    "duration": 136,
    "start_time": "2022-05-22T18:18:23.928Z"
   },
   {
    "duration": 15,
    "start_time": "2022-05-22T18:18:24.066Z"
   },
   {
    "duration": 145,
    "start_time": "2022-05-22T18:18:24.084Z"
   },
   {
    "duration": 10,
    "start_time": "2022-05-22T18:18:24.231Z"
   },
   {
    "duration": 225,
    "start_time": "2022-05-22T18:18:24.243Z"
   },
   {
    "duration": 6,
    "start_time": "2022-05-22T18:18:24.470Z"
   },
   {
    "duration": 225,
    "start_time": "2022-05-22T18:18:24.478Z"
   },
   {
    "duration": 7,
    "start_time": "2022-05-22T18:18:24.705Z"
   },
   {
    "duration": 21,
    "start_time": "2022-05-22T18:18:24.714Z"
   },
   {
    "duration": 57,
    "start_time": "2022-05-22T18:18:24.737Z"
   },
   {
    "duration": 18,
    "start_time": "2022-05-22T18:18:24.796Z"
   },
   {
    "duration": 114,
    "start_time": "2022-05-22T18:18:37.719Z"
   },
   {
    "duration": 17,
    "start_time": "2022-05-22T18:18:43.752Z"
   },
   {
    "duration": 39,
    "start_time": "2022-05-22T18:19:01.218Z"
   },
   {
    "duration": 44,
    "start_time": "2022-05-22T18:19:13.455Z"
   },
   {
    "duration": 16,
    "start_time": "2022-05-22T18:19:22.204Z"
   },
   {
    "duration": 14,
    "start_time": "2022-05-22T18:19:31.400Z"
   },
   {
    "duration": 21,
    "start_time": "2022-05-22T18:19:34.900Z"
   },
   {
    "duration": 385,
    "start_time": "2022-05-22T18:19:52.920Z"
   },
   {
    "duration": 53,
    "start_time": "2022-05-22T18:19:53.307Z"
   },
   {
    "duration": 24,
    "start_time": "2022-05-22T18:19:53.361Z"
   },
   {
    "duration": 18,
    "start_time": "2022-05-22T18:19:53.394Z"
   },
   {
    "duration": 6,
    "start_time": "2022-05-22T18:19:53.413Z"
   },
   {
    "duration": 11,
    "start_time": "2022-05-22T18:19:53.420Z"
   },
   {
    "duration": 18,
    "start_time": "2022-05-22T18:19:53.432Z"
   },
   {
    "duration": 22,
    "start_time": "2022-05-22T18:19:53.451Z"
   },
   {
    "duration": 34,
    "start_time": "2022-05-22T18:19:53.476Z"
   },
   {
    "duration": 15,
    "start_time": "2022-05-22T18:19:53.511Z"
   },
   {
    "duration": 20,
    "start_time": "2022-05-22T18:19:53.527Z"
   },
   {
    "duration": 25,
    "start_time": "2022-05-22T18:19:53.549Z"
   },
   {
    "duration": 33,
    "start_time": "2022-05-22T18:19:53.581Z"
   },
   {
    "duration": 17,
    "start_time": "2022-05-22T18:19:53.618Z"
   },
   {
    "duration": 17,
    "start_time": "2022-05-22T18:19:53.637Z"
   },
   {
    "duration": 35,
    "start_time": "2022-05-22T18:19:53.656Z"
   },
   {
    "duration": 39,
    "start_time": "2022-05-22T18:19:53.696Z"
   },
   {
    "duration": 59,
    "start_time": "2022-05-22T18:19:53.737Z"
   },
   {
    "duration": 12,
    "start_time": "2022-05-22T18:19:53.799Z"
   },
   {
    "duration": 41,
    "start_time": "2022-05-22T18:19:53.812Z"
   },
   {
    "duration": 251,
    "start_time": "2022-05-22T18:19:53.855Z"
   },
   {
    "duration": 20,
    "start_time": "2022-05-22T18:19:54.108Z"
   },
   {
    "duration": 537,
    "start_time": "2022-05-22T18:19:54.129Z"
   },
   {
    "duration": 23,
    "start_time": "2022-05-22T18:19:54.667Z"
   },
   {
    "duration": 9,
    "start_time": "2022-05-22T18:19:54.695Z"
   },
   {
    "duration": 5,
    "start_time": "2022-05-22T18:19:54.705Z"
   },
   {
    "duration": 20,
    "start_time": "2022-05-22T18:19:54.712Z"
   },
   {
    "duration": 6,
    "start_time": "2022-05-22T18:19:54.734Z"
   },
   {
    "duration": 14,
    "start_time": "2022-05-22T18:19:54.742Z"
   },
   {
    "duration": 3,
    "start_time": "2022-05-22T18:19:54.757Z"
   },
   {
    "duration": 155,
    "start_time": "2022-05-22T18:19:54.761Z"
   },
   {
    "duration": 137,
    "start_time": "2022-05-22T18:19:54.917Z"
   },
   {
    "duration": 151,
    "start_time": "2022-05-22T18:19:55.055Z"
   },
   {
    "duration": 131,
    "start_time": "2022-05-22T18:19:55.208Z"
   },
   {
    "duration": 152,
    "start_time": "2022-05-22T18:19:55.341Z"
   },
   {
    "duration": 8,
    "start_time": "2022-05-22T18:19:55.495Z"
   },
   {
    "duration": 32,
    "start_time": "2022-05-22T18:19:55.505Z"
   },
   {
    "duration": 22,
    "start_time": "2022-05-22T18:19:55.538Z"
   },
   {
    "duration": 2,
    "start_time": "2022-05-22T18:19:55.561Z"
   },
   {
    "duration": 45,
    "start_time": "2022-05-22T18:19:55.565Z"
   },
   {
    "duration": 19,
    "start_time": "2022-05-22T18:19:55.613Z"
   },
   {
    "duration": 30,
    "start_time": "2022-05-22T18:19:55.633Z"
   },
   {
    "duration": 139,
    "start_time": "2022-05-22T18:19:55.665Z"
   },
   {
    "duration": 7,
    "start_time": "2022-05-22T18:19:55.806Z"
   },
   {
    "duration": 208,
    "start_time": "2022-05-22T18:19:55.814Z"
   },
   {
    "duration": 7,
    "start_time": "2022-05-22T18:19:56.024Z"
   },
   {
    "duration": 129,
    "start_time": "2022-05-22T18:19:56.032Z"
   },
   {
    "duration": 22,
    "start_time": "2022-05-22T18:19:56.162Z"
   },
   {
    "duration": 131,
    "start_time": "2022-05-22T18:19:56.187Z"
   },
   {
    "duration": 8,
    "start_time": "2022-05-22T18:19:56.320Z"
   },
   {
    "duration": 130,
    "start_time": "2022-05-22T18:19:56.329Z"
   },
   {
    "duration": 16,
    "start_time": "2022-05-22T18:19:56.461Z"
   },
   {
    "duration": 158,
    "start_time": "2022-05-22T18:19:56.478Z"
   },
   {
    "duration": 5,
    "start_time": "2022-05-22T18:19:56.637Z"
   },
   {
    "duration": 170,
    "start_time": "2022-05-22T18:19:56.643Z"
   },
   {
    "duration": 5,
    "start_time": "2022-05-22T18:19:56.814Z"
   },
   {
    "duration": 16,
    "start_time": "2022-05-22T18:19:56.820Z"
   },
   {
    "duration": 56,
    "start_time": "2022-05-22T18:19:56.837Z"
   },
   {
    "duration": 23,
    "start_time": "2022-05-22T18:19:56.895Z"
   },
   {
    "duration": 98,
    "start_time": "2022-05-22T18:20:18.262Z"
   },
   {
    "duration": 36,
    "start_time": "2022-05-22T18:20:43.658Z"
   },
   {
    "duration": 36,
    "start_time": "2022-05-22T18:20:46.745Z"
   },
   {
    "duration": 20,
    "start_time": "2022-05-22T18:20:52.144Z"
   },
   {
    "duration": 460,
    "start_time": "2022-05-22T18:21:02.599Z"
   },
   {
    "duration": 65,
    "start_time": "2022-05-22T18:21:03.061Z"
   },
   {
    "duration": 20,
    "start_time": "2022-05-22T18:21:03.128Z"
   },
   {
    "duration": 13,
    "start_time": "2022-05-22T18:21:03.149Z"
   },
   {
    "duration": 4,
    "start_time": "2022-05-22T18:21:03.164Z"
   },
   {
    "duration": 13,
    "start_time": "2022-05-22T18:21:03.169Z"
   },
   {
    "duration": 34,
    "start_time": "2022-05-22T18:21:03.183Z"
   },
   {
    "duration": 9,
    "start_time": "2022-05-22T18:21:03.219Z"
   },
   {
    "duration": 8,
    "start_time": "2022-05-22T18:21:03.229Z"
   },
   {
    "duration": 5,
    "start_time": "2022-05-22T18:21:03.238Z"
   },
   {
    "duration": 8,
    "start_time": "2022-05-22T18:21:03.244Z"
   },
   {
    "duration": 9,
    "start_time": "2022-05-22T18:21:03.253Z"
   },
   {
    "duration": 12,
    "start_time": "2022-05-22T18:21:03.264Z"
   },
   {
    "duration": 31,
    "start_time": "2022-05-22T18:21:03.279Z"
   },
   {
    "duration": 6,
    "start_time": "2022-05-22T18:21:03.312Z"
   },
   {
    "duration": 9,
    "start_time": "2022-05-22T18:21:03.320Z"
   },
   {
    "duration": 7,
    "start_time": "2022-05-22T18:21:03.330Z"
   },
   {
    "duration": 13,
    "start_time": "2022-05-22T18:21:03.339Z"
   },
   {
    "duration": 3,
    "start_time": "2022-05-22T18:21:03.354Z"
   },
   {
    "duration": 32,
    "start_time": "2022-05-22T18:21:03.359Z"
   },
   {
    "duration": 245,
    "start_time": "2022-05-22T18:21:03.392Z"
   },
   {
    "duration": 19,
    "start_time": "2022-05-22T18:21:03.639Z"
   },
   {
    "duration": 537,
    "start_time": "2022-05-22T18:21:03.659Z"
   },
   {
    "duration": 13,
    "start_time": "2022-05-22T18:21:04.198Z"
   },
   {
    "duration": 5,
    "start_time": "2022-05-22T18:21:04.213Z"
   },
   {
    "duration": 5,
    "start_time": "2022-05-22T18:21:04.220Z"
   },
   {
    "duration": 11,
    "start_time": "2022-05-22T18:21:04.226Z"
   },
   {
    "duration": 8,
    "start_time": "2022-05-22T18:21:04.238Z"
   },
   {
    "duration": 39,
    "start_time": "2022-05-22T18:21:04.248Z"
   },
   {
    "duration": 7,
    "start_time": "2022-05-22T18:21:04.294Z"
   },
   {
    "duration": 119,
    "start_time": "2022-05-22T18:21:04.303Z"
   },
   {
    "duration": 158,
    "start_time": "2022-05-22T18:21:04.424Z"
   },
   {
    "duration": 142,
    "start_time": "2022-05-22T18:21:04.587Z"
   },
   {
    "duration": 136,
    "start_time": "2022-05-22T18:21:04.730Z"
   },
   {
    "duration": 138,
    "start_time": "2022-05-22T18:21:04.868Z"
   },
   {
    "duration": 4,
    "start_time": "2022-05-22T18:21:05.007Z"
   },
   {
    "duration": 29,
    "start_time": "2022-05-22T18:21:05.013Z"
   },
   {
    "duration": 12,
    "start_time": "2022-05-22T18:21:05.043Z"
   },
   {
    "duration": 15,
    "start_time": "2022-05-22T18:21:05.056Z"
   },
   {
    "duration": 35,
    "start_time": "2022-05-22T18:21:05.072Z"
   },
   {
    "duration": 21,
    "start_time": "2022-05-22T18:21:05.111Z"
   },
   {
    "duration": 16,
    "start_time": "2022-05-22T18:21:05.134Z"
   },
   {
    "duration": 118,
    "start_time": "2022-05-22T18:21:05.152Z"
   },
   {
    "duration": 8,
    "start_time": "2022-05-22T18:21:05.272Z"
   },
   {
    "duration": 210,
    "start_time": "2022-05-22T18:21:05.281Z"
   },
   {
    "duration": 16,
    "start_time": "2022-05-22T18:21:05.493Z"
   },
   {
    "duration": 139,
    "start_time": "2022-05-22T18:21:05.510Z"
   },
   {
    "duration": 9,
    "start_time": "2022-05-22T18:21:05.651Z"
   },
   {
    "duration": 151,
    "start_time": "2022-05-22T18:21:05.662Z"
   },
   {
    "duration": 9,
    "start_time": "2022-05-22T18:21:05.815Z"
   },
   {
    "duration": 144,
    "start_time": "2022-05-22T18:21:05.826Z"
   },
   {
    "duration": 17,
    "start_time": "2022-05-22T18:21:05.971Z"
   },
   {
    "duration": 161,
    "start_time": "2022-05-22T18:21:05.990Z"
   },
   {
    "duration": 5,
    "start_time": "2022-05-22T18:21:06.153Z"
   },
   {
    "duration": 166,
    "start_time": "2022-05-22T18:21:06.159Z"
   },
   {
    "duration": 5,
    "start_time": "2022-05-22T18:21:06.327Z"
   },
   {
    "duration": 16,
    "start_time": "2022-05-22T18:21:06.333Z"
   },
   {
    "duration": 57,
    "start_time": "2022-05-22T18:21:06.351Z"
   },
   {
    "duration": 21,
    "start_time": "2022-05-22T18:21:06.409Z"
   },
   {
    "duration": 11,
    "start_time": "2022-05-22T18:21:20.447Z"
   },
   {
    "duration": 10,
    "start_time": "2022-05-22T18:21:37.298Z"
   },
   {
    "duration": 4,
    "start_time": "2022-05-22T18:21:40.200Z"
   },
   {
    "duration": 24,
    "start_time": "2022-05-22T18:21:42.697Z"
   },
   {
    "duration": 20,
    "start_time": "2022-05-22T18:21:45.545Z"
   },
   {
    "duration": 2,
    "start_time": "2022-05-22T18:21:56.961Z"
   },
   {
    "duration": 74,
    "start_time": "2022-05-22T18:21:56.965Z"
   },
   {
    "duration": 14,
    "start_time": "2022-05-22T18:21:57.041Z"
   },
   {
    "duration": 15,
    "start_time": "2022-05-22T18:21:57.056Z"
   },
   {
    "duration": 11,
    "start_time": "2022-05-22T18:21:57.072Z"
   },
   {
    "duration": 27,
    "start_time": "2022-05-22T18:21:57.084Z"
   },
   {
    "duration": 7,
    "start_time": "2022-05-22T18:21:57.113Z"
   },
   {
    "duration": 11,
    "start_time": "2022-05-22T18:21:57.121Z"
   },
   {
    "duration": 9,
    "start_time": "2022-05-22T18:21:57.135Z"
   },
   {
    "duration": 9,
    "start_time": "2022-05-22T18:21:57.145Z"
   },
   {
    "duration": 7,
    "start_time": "2022-05-22T18:21:57.155Z"
   },
   {
    "duration": 6,
    "start_time": "2022-05-22T18:21:57.163Z"
   },
   {
    "duration": 8,
    "start_time": "2022-05-22T18:21:57.171Z"
   },
   {
    "duration": 23,
    "start_time": "2022-05-22T18:21:57.190Z"
   },
   {
    "duration": 4,
    "start_time": "2022-05-22T18:21:57.214Z"
   },
   {
    "duration": 11,
    "start_time": "2022-05-22T18:21:57.219Z"
   },
   {
    "duration": 6,
    "start_time": "2022-05-22T18:21:57.231Z"
   },
   {
    "duration": 13,
    "start_time": "2022-05-22T18:21:57.238Z"
   },
   {
    "duration": 3,
    "start_time": "2022-05-22T18:21:57.252Z"
   },
   {
    "duration": 34,
    "start_time": "2022-05-22T18:21:57.256Z"
   },
   {
    "duration": 233,
    "start_time": "2022-05-22T18:21:57.300Z"
   },
   {
    "duration": 20,
    "start_time": "2022-05-22T18:21:57.535Z"
   },
   {
    "duration": 263,
    "start_time": "2022-05-22T18:21:57.557Z"
   },
   {
    "duration": 9,
    "start_time": "2022-05-22T18:21:57.823Z"
   },
   {
    "duration": 10,
    "start_time": "2022-05-22T18:21:57.833Z"
   },
   {
    "duration": 12,
    "start_time": "2022-05-22T18:21:57.844Z"
   },
   {
    "duration": 20,
    "start_time": "2022-05-22T18:21:57.858Z"
   },
   {
    "duration": 8,
    "start_time": "2022-05-22T18:21:57.881Z"
   },
   {
    "duration": 24,
    "start_time": "2022-05-22T18:21:57.891Z"
   },
   {
    "duration": 3,
    "start_time": "2022-05-22T18:21:57.916Z"
   },
   {
    "duration": 125,
    "start_time": "2022-05-22T18:21:57.920Z"
   },
   {
    "duration": 152,
    "start_time": "2022-05-22T18:21:58.047Z"
   },
   {
    "duration": 143,
    "start_time": "2022-05-22T18:21:58.202Z"
   },
   {
    "duration": 205,
    "start_time": "2022-05-22T18:21:58.346Z"
   },
   {
    "duration": 153,
    "start_time": "2022-05-22T18:21:58.553Z"
   },
   {
    "duration": 5,
    "start_time": "2022-05-22T18:21:58.707Z"
   },
   {
    "duration": 21,
    "start_time": "2022-05-22T18:21:58.713Z"
   },
   {
    "duration": 14,
    "start_time": "2022-05-22T18:21:58.735Z"
   },
   {
    "duration": 3,
    "start_time": "2022-05-22T18:21:58.750Z"
   },
   {
    "duration": 6,
    "start_time": "2022-05-22T18:21:58.754Z"
   },
   {
    "duration": 37,
    "start_time": "2022-05-22T18:21:58.761Z"
   },
   {
    "duration": 21,
    "start_time": "2022-05-22T18:21:58.799Z"
   },
   {
    "duration": 123,
    "start_time": "2022-05-22T18:21:58.821Z"
   },
   {
    "duration": 9,
    "start_time": "2022-05-22T18:21:58.945Z"
   },
   {
    "duration": 150,
    "start_time": "2022-05-22T18:21:58.955Z"
   },
   {
    "duration": 8,
    "start_time": "2022-05-22T18:21:59.106Z"
   },
   {
    "duration": 137,
    "start_time": "2022-05-22T18:21:59.115Z"
   },
   {
    "duration": 8,
    "start_time": "2022-05-22T18:21:59.254Z"
   },
   {
    "duration": 145,
    "start_time": "2022-05-22T18:21:59.263Z"
   },
   {
    "duration": 8,
    "start_time": "2022-05-22T18:21:59.410Z"
   },
   {
    "duration": 138,
    "start_time": "2022-05-22T18:21:59.420Z"
   },
   {
    "duration": 8,
    "start_time": "2022-05-22T18:21:59.559Z"
   },
   {
    "duration": 141,
    "start_time": "2022-05-22T18:21:59.589Z"
   },
   {
    "duration": 5,
    "start_time": "2022-05-22T18:21:59.732Z"
   },
   {
    "duration": 170,
    "start_time": "2022-05-22T18:21:59.738Z"
   },
   {
    "duration": 5,
    "start_time": "2022-05-22T18:21:59.910Z"
   },
   {
    "duration": 17,
    "start_time": "2022-05-22T18:21:59.917Z"
   },
   {
    "duration": 58,
    "start_time": "2022-05-22T18:21:59.935Z"
   },
   {
    "duration": 27,
    "start_time": "2022-05-22T18:21:59.994Z"
   },
   {
    "duration": 405,
    "start_time": "2022-05-22T18:22:11.400Z"
   },
   {
    "duration": 51,
    "start_time": "2022-05-22T18:22:11.806Z"
   },
   {
    "duration": 41,
    "start_time": "2022-05-22T18:22:11.859Z"
   },
   {
    "duration": 16,
    "start_time": "2022-05-22T18:22:11.902Z"
   },
   {
    "duration": 4,
    "start_time": "2022-05-22T18:22:11.919Z"
   },
   {
    "duration": 5,
    "start_time": "2022-05-22T18:22:11.924Z"
   },
   {
    "duration": 7,
    "start_time": "2022-05-22T18:22:11.930Z"
   },
   {
    "duration": 10,
    "start_time": "2022-05-22T18:22:11.938Z"
   },
   {
    "duration": 8,
    "start_time": "2022-05-22T18:22:11.949Z"
   },
   {
    "duration": 21,
    "start_time": "2022-05-22T18:22:11.959Z"
   },
   {
    "duration": 28,
    "start_time": "2022-05-22T18:22:11.981Z"
   },
   {
    "duration": 5,
    "start_time": "2022-05-22T18:22:12.011Z"
   },
   {
    "duration": 8,
    "start_time": "2022-05-22T18:22:12.017Z"
   },
   {
    "duration": 10,
    "start_time": "2022-05-22T18:22:12.026Z"
   },
   {
    "duration": 4,
    "start_time": "2022-05-22T18:22:12.037Z"
   },
   {
    "duration": 10,
    "start_time": "2022-05-22T18:22:12.042Z"
   },
   {
    "duration": 15,
    "start_time": "2022-05-22T18:22:12.053Z"
   },
   {
    "duration": 15,
    "start_time": "2022-05-22T18:22:12.069Z"
   },
   {
    "duration": 19,
    "start_time": "2022-05-22T18:22:12.085Z"
   },
   {
    "duration": 24,
    "start_time": "2022-05-22T18:22:12.106Z"
   },
   {
    "duration": 229,
    "start_time": "2022-05-22T18:22:12.131Z"
   },
   {
    "duration": 36,
    "start_time": "2022-05-22T18:22:12.362Z"
   },
   {
    "duration": 552,
    "start_time": "2022-05-22T18:22:12.401Z"
   },
   {
    "duration": 9,
    "start_time": "2022-05-22T18:22:12.955Z"
   },
   {
    "duration": 10,
    "start_time": "2022-05-22T18:22:12.979Z"
   },
   {
    "duration": 28,
    "start_time": "2022-05-22T18:22:12.990Z"
   },
   {
    "duration": 12,
    "start_time": "2022-05-22T18:22:13.020Z"
   },
   {
    "duration": 8,
    "start_time": "2022-05-22T18:22:13.036Z"
   },
   {
    "duration": 17,
    "start_time": "2022-05-22T18:22:13.046Z"
   },
   {
    "duration": 4,
    "start_time": "2022-05-22T18:22:13.065Z"
   },
   {
    "duration": 140,
    "start_time": "2022-05-22T18:22:13.071Z"
   },
   {
    "duration": 139,
    "start_time": "2022-05-22T18:22:13.213Z"
   },
   {
    "duration": 155,
    "start_time": "2022-05-22T18:22:13.354Z"
   },
   {
    "duration": 124,
    "start_time": "2022-05-22T18:22:13.511Z"
   },
   {
    "duration": 142,
    "start_time": "2022-05-22T18:22:13.636Z"
   },
   {
    "duration": 4,
    "start_time": "2022-05-22T18:22:13.780Z"
   },
   {
    "duration": 43,
    "start_time": "2022-05-22T18:22:13.786Z"
   },
   {
    "duration": 13,
    "start_time": "2022-05-22T18:22:13.830Z"
   },
   {
    "duration": 3,
    "start_time": "2022-05-22T18:22:13.844Z"
   },
   {
    "duration": 5,
    "start_time": "2022-05-22T18:22:13.848Z"
   },
   {
    "duration": 17,
    "start_time": "2022-05-22T18:22:13.854Z"
   },
   {
    "duration": 39,
    "start_time": "2022-05-22T18:22:13.874Z"
   },
   {
    "duration": 121,
    "start_time": "2022-05-22T18:22:13.914Z"
   },
   {
    "duration": 7,
    "start_time": "2022-05-22T18:22:14.037Z"
   },
   {
    "duration": 206,
    "start_time": "2022-05-22T18:22:14.045Z"
   },
   {
    "duration": 8,
    "start_time": "2022-05-22T18:22:14.253Z"
   },
   {
    "duration": 163,
    "start_time": "2022-05-22T18:22:14.263Z"
   },
   {
    "duration": 8,
    "start_time": "2022-05-22T18:22:14.428Z"
   },
   {
    "duration": 147,
    "start_time": "2022-05-22T18:22:14.438Z"
   },
   {
    "duration": 10,
    "start_time": "2022-05-22T18:22:14.591Z"
   },
   {
    "duration": 120,
    "start_time": "2022-05-22T18:22:14.602Z"
   },
   {
    "duration": 8,
    "start_time": "2022-05-22T18:22:14.724Z"
   },
   {
    "duration": 176,
    "start_time": "2022-05-22T18:22:14.734Z"
   },
   {
    "duration": 6,
    "start_time": "2022-05-22T18:22:14.911Z"
   },
   {
    "duration": 165,
    "start_time": "2022-05-22T18:22:14.918Z"
   },
   {
    "duration": 13,
    "start_time": "2022-05-22T18:22:15.090Z"
   },
   {
    "duration": 18,
    "start_time": "2022-05-22T18:22:15.105Z"
   },
   {
    "duration": 38,
    "start_time": "2022-05-22T18:22:15.124Z"
   },
   {
    "duration": 45,
    "start_time": "2022-05-22T18:22:15.163Z"
   },
   {
    "duration": 20,
    "start_time": "2022-05-22T18:23:14.043Z"
   },
   {
    "duration": 21,
    "start_time": "2022-05-22T18:23:16.790Z"
   },
   {
    "duration": 20,
    "start_time": "2022-05-22T18:23:26.502Z"
   },
   {
    "duration": 393,
    "start_time": "2022-05-22T18:23:34.409Z"
   },
   {
    "duration": 52,
    "start_time": "2022-05-22T18:23:34.804Z"
   },
   {
    "duration": 29,
    "start_time": "2022-05-22T18:23:34.858Z"
   },
   {
    "duration": 15,
    "start_time": "2022-05-22T18:23:34.890Z"
   },
   {
    "duration": 4,
    "start_time": "2022-05-22T18:23:34.907Z"
   },
   {
    "duration": 9,
    "start_time": "2022-05-22T18:23:34.912Z"
   },
   {
    "duration": 5,
    "start_time": "2022-05-22T18:23:34.922Z"
   },
   {
    "duration": 10,
    "start_time": "2022-05-22T18:23:34.928Z"
   },
   {
    "duration": 9,
    "start_time": "2022-05-22T18:23:34.940Z"
   },
   {
    "duration": 4,
    "start_time": "2022-05-22T18:23:34.951Z"
   },
   {
    "duration": 28,
    "start_time": "2022-05-22T18:23:34.956Z"
   },
   {
    "duration": 10,
    "start_time": "2022-05-22T18:23:34.986Z"
   },
   {
    "duration": 6,
    "start_time": "2022-05-22T18:23:34.998Z"
   },
   {
    "duration": 9,
    "start_time": "2022-05-22T18:23:35.006Z"
   },
   {
    "duration": 3,
    "start_time": "2022-05-22T18:23:35.017Z"
   },
   {
    "duration": 11,
    "start_time": "2022-05-22T18:23:35.021Z"
   },
   {
    "duration": 6,
    "start_time": "2022-05-22T18:23:35.033Z"
   },
   {
    "duration": 15,
    "start_time": "2022-05-22T18:23:35.041Z"
   },
   {
    "duration": 18,
    "start_time": "2022-05-22T18:23:35.057Z"
   },
   {
    "duration": 35,
    "start_time": "2022-05-22T18:23:35.076Z"
   },
   {
    "duration": 220,
    "start_time": "2022-05-22T18:23:35.113Z"
   },
   {
    "duration": 22,
    "start_time": "2022-05-22T18:23:35.334Z"
   },
   {
    "duration": 508,
    "start_time": "2022-05-22T18:23:35.358Z"
   },
   {
    "duration": 22,
    "start_time": "2022-05-22T18:23:35.868Z"
   },
   {
    "duration": 4,
    "start_time": "2022-05-22T18:23:35.892Z"
   },
   {
    "duration": 8,
    "start_time": "2022-05-22T18:23:35.898Z"
   },
   {
    "duration": 9,
    "start_time": "2022-05-22T18:23:35.908Z"
   },
   {
    "duration": 7,
    "start_time": "2022-05-22T18:23:35.921Z"
   },
   {
    "duration": 16,
    "start_time": "2022-05-22T18:23:35.929Z"
   },
   {
    "duration": 2,
    "start_time": "2022-05-22T18:23:35.946Z"
   },
   {
    "duration": 136,
    "start_time": "2022-05-22T18:23:35.950Z"
   },
   {
    "duration": 136,
    "start_time": "2022-05-22T18:23:36.090Z"
   },
   {
    "duration": 134,
    "start_time": "2022-05-22T18:23:36.227Z"
   },
   {
    "duration": 133,
    "start_time": "2022-05-22T18:23:36.362Z"
   },
   {
    "duration": 144,
    "start_time": "2022-05-22T18:23:36.496Z"
   },
   {
    "duration": 5,
    "start_time": "2022-05-22T18:23:36.641Z"
   },
   {
    "duration": 42,
    "start_time": "2022-05-22T18:23:36.647Z"
   },
   {
    "duration": 21,
    "start_time": "2022-05-22T18:23:36.690Z"
   },
   {
    "duration": 3,
    "start_time": "2022-05-22T18:23:36.712Z"
   },
   {
    "duration": 6,
    "start_time": "2022-05-22T18:23:36.716Z"
   },
   {
    "duration": 22,
    "start_time": "2022-05-22T18:23:36.723Z"
   },
   {
    "duration": 18,
    "start_time": "2022-05-22T18:23:36.746Z"
   },
   {
    "duration": 141,
    "start_time": "2022-05-22T18:23:36.766Z"
   },
   {
    "duration": 8,
    "start_time": "2022-05-22T18:23:36.909Z"
   },
   {
    "duration": 198,
    "start_time": "2022-05-22T18:23:36.918Z"
   },
   {
    "duration": 9,
    "start_time": "2022-05-22T18:23:37.117Z"
   },
   {
    "duration": 133,
    "start_time": "2022-05-22T18:23:37.127Z"
   },
   {
    "duration": 23,
    "start_time": "2022-05-22T18:23:37.261Z"
   },
   {
    "duration": 127,
    "start_time": "2022-05-22T18:23:37.285Z"
   },
   {
    "duration": 8,
    "start_time": "2022-05-22T18:23:37.414Z"
   },
   {
    "duration": 127,
    "start_time": "2022-05-22T18:23:37.423Z"
   },
   {
    "duration": 8,
    "start_time": "2022-05-22T18:23:37.551Z"
   },
   {
    "duration": 149,
    "start_time": "2022-05-22T18:23:37.574Z"
   },
   {
    "duration": 4,
    "start_time": "2022-05-22T18:23:37.725Z"
   },
   {
    "duration": 147,
    "start_time": "2022-05-22T18:23:37.730Z"
   },
   {
    "duration": 6,
    "start_time": "2022-05-22T18:23:37.886Z"
   },
   {
    "duration": 16,
    "start_time": "2022-05-22T18:23:37.893Z"
   },
   {
    "duration": 29,
    "start_time": "2022-05-22T18:23:37.910Z"
   },
   {
    "duration": 21,
    "start_time": "2022-05-22T18:23:37.940Z"
   },
   {
    "duration": 25,
    "start_time": "2022-05-22T18:24:27.446Z"
   },
   {
    "duration": 21,
    "start_time": "2022-05-22T18:24:43.493Z"
   },
   {
    "duration": 82,
    "start_time": "2022-05-22T18:25:38.320Z"
   },
   {
    "duration": 9,
    "start_time": "2022-05-22T18:26:30.365Z"
   },
   {
    "duration": 8,
    "start_time": "2022-05-22T18:26:35.205Z"
   },
   {
    "duration": 20,
    "start_time": "2022-05-22T18:27:14.819Z"
   },
   {
    "duration": 32,
    "start_time": "2022-05-22T18:27:35.717Z"
   },
   {
    "duration": 30,
    "start_time": "2022-05-22T18:27:48.616Z"
   },
   {
    "duration": 20,
    "start_time": "2022-05-22T18:28:02.849Z"
   },
   {
    "duration": 41,
    "start_time": "2022-05-22T18:31:56.760Z"
   },
   {
    "duration": 15,
    "start_time": "2022-05-22T18:35:29.946Z"
   },
   {
    "duration": 32,
    "start_time": "2022-05-22T18:42:54.323Z"
   },
   {
    "duration": 7,
    "start_time": "2022-05-22T18:45:15.016Z"
   },
   {
    "duration": 17,
    "start_time": "2022-05-22T18:45:19.589Z"
   },
   {
    "duration": 20,
    "start_time": "2022-05-22T19:41:34.862Z"
   },
   {
    "duration": 15,
    "start_time": "2022-05-22T19:41:51.689Z"
   },
   {
    "duration": 19,
    "start_time": "2022-05-22T19:42:15.443Z"
   },
   {
    "duration": 22,
    "start_time": "2022-05-22T19:42:24.166Z"
   },
   {
    "duration": 17,
    "start_time": "2022-05-22T19:44:00.665Z"
   },
   {
    "duration": 24,
    "start_time": "2022-05-22T19:44:05.166Z"
   },
   {
    "duration": 4,
    "start_time": "2022-05-22T19:46:10.856Z"
   },
   {
    "duration": 26,
    "start_time": "2022-05-22T19:46:21.470Z"
   },
   {
    "duration": 16,
    "start_time": "2022-05-22T19:46:56.497Z"
   },
   {
    "duration": 23,
    "start_time": "2022-05-22T19:47:36.098Z"
   },
   {
    "duration": 26,
    "start_time": "2022-05-22T19:48:14.183Z"
   },
   {
    "duration": 26,
    "start_time": "2022-05-22T19:48:38.064Z"
   },
   {
    "duration": 42,
    "start_time": "2022-05-22T19:48:55.651Z"
   },
   {
    "duration": 19,
    "start_time": "2022-05-22T19:48:59.345Z"
   },
   {
    "duration": 19,
    "start_time": "2022-05-22T19:49:04.292Z"
   },
   {
    "duration": 602,
    "start_time": "2022-05-22T19:51:04.046Z"
   },
   {
    "duration": 26,
    "start_time": "2022-05-22T19:51:23.561Z"
   },
   {
    "duration": 474,
    "start_time": "2022-05-22T19:54:48.276Z"
   },
   {
    "duration": 24,
    "start_time": "2022-05-22T19:55:04.773Z"
   },
   {
    "duration": 199,
    "start_time": "2022-05-22T20:01:03.398Z"
   },
   {
    "duration": 9,
    "start_time": "2022-05-22T20:02:30.152Z"
   },
   {
    "duration": 13,
    "start_time": "2022-05-22T20:02:36.643Z"
   },
   {
    "duration": 5,
    "start_time": "2022-05-22T20:04:47.581Z"
   },
   {
    "duration": 4,
    "start_time": "2022-05-22T20:05:42.049Z"
   },
   {
    "duration": 462,
    "start_time": "2022-05-22T20:05:47.983Z"
   },
   {
    "duration": 52,
    "start_time": "2022-05-22T20:05:48.447Z"
   },
   {
    "duration": 21,
    "start_time": "2022-05-22T20:05:48.501Z"
   },
   {
    "duration": 14,
    "start_time": "2022-05-22T20:05:48.524Z"
   },
   {
    "duration": 5,
    "start_time": "2022-05-22T20:05:48.540Z"
   },
   {
    "duration": 6,
    "start_time": "2022-05-22T20:05:48.547Z"
   },
   {
    "duration": 5,
    "start_time": "2022-05-22T20:05:48.574Z"
   },
   {
    "duration": 11,
    "start_time": "2022-05-22T20:05:48.581Z"
   },
   {
    "duration": 10,
    "start_time": "2022-05-22T20:05:48.594Z"
   },
   {
    "duration": 5,
    "start_time": "2022-05-22T20:05:48.605Z"
   },
   {
    "duration": 10,
    "start_time": "2022-05-22T20:05:48.611Z"
   },
   {
    "duration": 7,
    "start_time": "2022-05-22T20:05:48.623Z"
   },
   {
    "duration": 8,
    "start_time": "2022-05-22T20:05:48.631Z"
   },
   {
    "duration": 40,
    "start_time": "2022-05-22T20:05:48.642Z"
   },
   {
    "duration": 4,
    "start_time": "2022-05-22T20:05:48.683Z"
   },
   {
    "duration": 11,
    "start_time": "2022-05-22T20:05:48.689Z"
   },
   {
    "duration": 6,
    "start_time": "2022-05-22T20:05:48.702Z"
   },
   {
    "duration": 15,
    "start_time": "2022-05-22T20:05:48.710Z"
   },
   {
    "duration": 3,
    "start_time": "2022-05-22T20:05:48.726Z"
   },
   {
    "duration": 52,
    "start_time": "2022-05-22T20:05:48.731Z"
   },
   {
    "duration": 226,
    "start_time": "2022-05-22T20:05:48.785Z"
   },
   {
    "duration": 25,
    "start_time": "2022-05-22T20:05:49.013Z"
   },
   {
    "duration": 528,
    "start_time": "2022-05-22T20:05:49.040Z"
   },
   {
    "duration": 10,
    "start_time": "2022-05-22T20:05:49.570Z"
   },
   {
    "duration": 5,
    "start_time": "2022-05-22T20:05:49.582Z"
   },
   {
    "duration": 6,
    "start_time": "2022-05-22T20:05:49.589Z"
   },
   {
    "duration": 13,
    "start_time": "2022-05-22T20:05:49.597Z"
   },
   {
    "duration": 10,
    "start_time": "2022-05-22T20:05:49.613Z"
   },
   {
    "duration": 54,
    "start_time": "2022-05-22T20:05:49.625Z"
   },
   {
    "duration": 3,
    "start_time": "2022-05-22T20:05:49.681Z"
   },
   {
    "duration": 138,
    "start_time": "2022-05-22T20:05:49.686Z"
   },
   {
    "duration": 169,
    "start_time": "2022-05-22T20:05:49.825Z"
   },
   {
    "duration": 151,
    "start_time": "2022-05-22T20:05:49.995Z"
   },
   {
    "duration": 150,
    "start_time": "2022-05-22T20:05:50.147Z"
   },
   {
    "duration": 150,
    "start_time": "2022-05-22T20:05:50.299Z"
   },
   {
    "duration": 5,
    "start_time": "2022-05-22T20:05:50.451Z"
   },
   {
    "duration": 34,
    "start_time": "2022-05-22T20:05:50.458Z"
   },
   {
    "duration": 25,
    "start_time": "2022-05-22T20:05:50.493Z"
   },
   {
    "duration": 6,
    "start_time": "2022-05-22T20:05:50.520Z"
   },
   {
    "duration": 16,
    "start_time": "2022-05-22T20:05:50.527Z"
   },
   {
    "duration": 25,
    "start_time": "2022-05-22T20:05:50.548Z"
   },
   {
    "duration": 25,
    "start_time": "2022-05-22T20:05:50.575Z"
   },
   {
    "duration": 134,
    "start_time": "2022-05-22T20:05:50.602Z"
   },
   {
    "duration": 8,
    "start_time": "2022-05-22T20:05:50.737Z"
   },
   {
    "duration": 210,
    "start_time": "2022-05-22T20:05:50.746Z"
   },
   {
    "duration": 8,
    "start_time": "2022-05-22T20:05:50.957Z"
   },
   {
    "duration": 142,
    "start_time": "2022-05-22T20:05:50.967Z"
   },
   {
    "duration": 9,
    "start_time": "2022-05-22T20:05:51.110Z"
   },
   {
    "duration": 136,
    "start_time": "2022-05-22T20:05:51.120Z"
   },
   {
    "duration": 8,
    "start_time": "2022-05-22T20:05:51.258Z"
   },
   {
    "duration": 133,
    "start_time": "2022-05-22T20:05:51.274Z"
   },
   {
    "duration": 9,
    "start_time": "2022-05-22T20:05:51.408Z"
   },
   {
    "duration": 159,
    "start_time": "2022-05-22T20:05:51.418Z"
   },
   {
    "duration": 5,
    "start_time": "2022-05-22T20:05:51.578Z"
   },
   {
    "duration": 152,
    "start_time": "2022-05-22T20:05:51.585Z"
   },
   {
    "duration": 5,
    "start_time": "2022-05-22T20:05:51.739Z"
   },
   {
    "duration": 30,
    "start_time": "2022-05-22T20:05:51.746Z"
   },
   {
    "duration": 31,
    "start_time": "2022-05-22T20:05:51.777Z"
   },
   {
    "duration": 16,
    "start_time": "2022-05-22T20:05:51.809Z"
   },
   {
    "duration": 53,
    "start_time": "2022-05-22T20:05:51.826Z"
   },
   {
    "duration": 19,
    "start_time": "2022-05-22T20:05:51.880Z"
   },
   {
    "duration": 50,
    "start_time": "2022-05-22T20:05:51.901Z"
   },
   {
    "duration": 25,
    "start_time": "2022-05-22T20:05:51.952Z"
   },
   {
    "duration": 27,
    "start_time": "2022-05-22T20:05:51.978Z"
   },
   {
    "duration": 15,
    "start_time": "2022-05-22T20:05:52.007Z"
   },
   {
    "duration": 20,
    "start_time": "2022-05-22T20:05:52.024Z"
   },
   {
    "duration": 43,
    "start_time": "2022-05-22T20:05:52.046Z"
   },
   {
    "duration": 154,
    "start_time": "2022-05-22T20:06:35.279Z"
   },
   {
    "duration": 118,
    "start_time": "2022-05-22T20:07:40.588Z"
   },
   {
    "duration": 173,
    "start_time": "2022-05-22T20:07:53.623Z"
   },
   {
    "duration": 205,
    "start_time": "2022-05-22T20:08:17.576Z"
   },
   {
    "duration": 20,
    "start_time": "2022-05-22T20:12:23.324Z"
   },
   {
    "duration": 451,
    "start_time": "2022-05-22T20:12:35.941Z"
   },
   {
    "duration": 216,
    "start_time": "2022-05-22T20:12:43.630Z"
   },
   {
    "duration": 13,
    "start_time": "2022-05-22T20:16:24.685Z"
   },
   {
    "duration": 419,
    "start_time": "2022-05-22T20:16:41.165Z"
   },
   {
    "duration": 187,
    "start_time": "2022-05-22T20:16:48.560Z"
   },
   {
    "duration": 543,
    "start_time": "2022-05-22T20:30:36.514Z"
   },
   {
    "duration": 3,
    "start_time": "2022-05-22T20:30:39.331Z"
   },
   {
    "duration": 73,
    "start_time": "2022-05-22T20:30:39.336Z"
   },
   {
    "duration": 17,
    "start_time": "2022-05-22T20:30:39.411Z"
   },
   {
    "duration": 50,
    "start_time": "2022-05-22T20:30:39.429Z"
   },
   {
    "duration": 13,
    "start_time": "2022-05-22T20:30:39.481Z"
   },
   {
    "duration": 27,
    "start_time": "2022-05-22T20:30:39.495Z"
   },
   {
    "duration": 35,
    "start_time": "2022-05-22T20:30:39.524Z"
   },
   {
    "duration": 32,
    "start_time": "2022-05-22T20:30:39.561Z"
   },
   {
    "duration": 24,
    "start_time": "2022-05-22T20:30:39.596Z"
   },
   {
    "duration": 18,
    "start_time": "2022-05-22T20:30:39.622Z"
   },
   {
    "duration": 23,
    "start_time": "2022-05-22T20:30:39.641Z"
   },
   {
    "duration": 24,
    "start_time": "2022-05-22T20:30:39.666Z"
   },
   {
    "duration": 37,
    "start_time": "2022-05-22T20:30:39.692Z"
   },
   {
    "duration": 31,
    "start_time": "2022-05-22T20:30:39.731Z"
   },
   {
    "duration": 41,
    "start_time": "2022-05-22T20:30:39.763Z"
   },
   {
    "duration": 44,
    "start_time": "2022-05-22T20:30:39.805Z"
   },
   {
    "duration": 39,
    "start_time": "2022-05-22T20:30:39.851Z"
   },
   {
    "duration": 67,
    "start_time": "2022-05-22T20:30:39.892Z"
   },
   {
    "duration": 8,
    "start_time": "2022-05-22T20:30:39.960Z"
   },
   {
    "duration": 43,
    "start_time": "2022-05-22T20:30:39.970Z"
   },
   {
    "duration": 230,
    "start_time": "2022-05-22T20:30:40.015Z"
   },
   {
    "duration": 30,
    "start_time": "2022-05-22T20:30:40.246Z"
   },
   {
    "duration": 255,
    "start_time": "2022-05-22T20:30:40.277Z"
   },
   {
    "duration": 9,
    "start_time": "2022-05-22T20:30:40.537Z"
   },
   {
    "duration": 24,
    "start_time": "2022-05-22T20:30:40.548Z"
   },
   {
    "duration": 18,
    "start_time": "2022-05-22T20:30:40.574Z"
   },
   {
    "duration": 31,
    "start_time": "2022-05-22T20:30:40.594Z"
   },
   {
    "duration": 10,
    "start_time": "2022-05-22T20:30:40.628Z"
   },
   {
    "duration": 28,
    "start_time": "2022-05-22T20:30:40.640Z"
   },
   {
    "duration": 15,
    "start_time": "2022-05-22T20:30:40.670Z"
   },
   {
    "duration": 152,
    "start_time": "2022-05-22T20:30:40.687Z"
   },
   {
    "duration": 126,
    "start_time": "2022-05-22T20:30:40.840Z"
   },
   {
    "duration": 141,
    "start_time": "2022-05-22T20:30:40.974Z"
   },
   {
    "duration": 124,
    "start_time": "2022-05-22T20:30:41.117Z"
   },
   {
    "duration": 143,
    "start_time": "2022-05-22T20:30:41.243Z"
   },
   {
    "duration": 6,
    "start_time": "2022-05-22T20:30:41.388Z"
   },
   {
    "duration": 49,
    "start_time": "2022-05-22T20:30:41.395Z"
   },
   {
    "duration": 43,
    "start_time": "2022-05-22T20:30:41.446Z"
   },
   {
    "duration": 3,
    "start_time": "2022-05-22T20:30:41.491Z"
   },
   {
    "duration": 16,
    "start_time": "2022-05-22T20:30:41.496Z"
   },
   {
    "duration": 36,
    "start_time": "2022-05-22T20:30:41.514Z"
   },
   {
    "duration": 38,
    "start_time": "2022-05-22T20:30:41.552Z"
   },
   {
    "duration": 227,
    "start_time": "2022-05-22T20:30:41.591Z"
   },
   {
    "duration": 8,
    "start_time": "2022-05-22T20:30:41.819Z"
   },
   {
    "duration": 172,
    "start_time": "2022-05-22T20:30:41.829Z"
   },
   {
    "duration": 10,
    "start_time": "2022-05-22T20:30:42.002Z"
   },
   {
    "duration": 158,
    "start_time": "2022-05-22T20:30:42.014Z"
   },
   {
    "duration": 9,
    "start_time": "2022-05-22T20:30:42.175Z"
   },
   {
    "duration": 149,
    "start_time": "2022-05-22T20:30:42.186Z"
   },
   {
    "duration": 10,
    "start_time": "2022-05-22T20:30:42.337Z"
   },
   {
    "duration": 152,
    "start_time": "2022-05-22T20:30:42.349Z"
   },
   {
    "duration": 9,
    "start_time": "2022-05-22T20:30:42.503Z"
   },
   {
    "duration": 172,
    "start_time": "2022-05-22T20:30:42.514Z"
   },
   {
    "duration": 6,
    "start_time": "2022-05-22T20:30:42.688Z"
   },
   {
    "duration": 223,
    "start_time": "2022-05-22T20:30:42.696Z"
   },
   {
    "duration": 6,
    "start_time": "2022-05-22T20:30:42.922Z"
   },
   {
    "duration": 36,
    "start_time": "2022-05-22T20:30:42.932Z"
   },
   {
    "duration": 40,
    "start_time": "2022-05-22T20:30:42.974Z"
   },
   {
    "duration": 17,
    "start_time": "2022-05-22T20:30:43.016Z"
   },
   {
    "duration": 66,
    "start_time": "2022-05-22T20:30:43.034Z"
   },
   {
    "duration": 18,
    "start_time": "2022-05-22T20:30:43.101Z"
   },
   {
    "duration": 45,
    "start_time": "2022-05-22T20:30:43.121Z"
   },
   {
    "duration": 21,
    "start_time": "2022-05-22T20:30:43.168Z"
   },
   {
    "duration": 36,
    "start_time": "2022-05-22T20:30:43.191Z"
   },
   {
    "duration": 22,
    "start_time": "2022-05-22T20:30:43.229Z"
   },
   {
    "duration": 22,
    "start_time": "2022-05-22T20:30:43.253Z"
   },
   {
    "duration": 14,
    "start_time": "2022-05-22T20:30:43.277Z"
   },
   {
    "duration": 226,
    "start_time": "2022-05-22T20:30:43.293Z"
   },
   {
    "duration": 14,
    "start_time": "2022-05-22T20:30:43.525Z"
   },
   {
    "duration": 250,
    "start_time": "2022-05-22T20:30:43.541Z"
   },
   {
    "duration": 19,
    "start_time": "2022-05-22T20:30:43.793Z"
   },
   {
    "duration": 239,
    "start_time": "2022-05-22T20:30:43.814Z"
   },
   {
    "duration": 10,
    "start_time": "2022-05-22T20:31:13.906Z"
   },
   {
    "duration": 11,
    "start_time": "2022-05-22T20:31:24.344Z"
   },
   {
    "duration": 596,
    "start_time": "2022-05-22T20:33:04.927Z"
   },
   {
    "duration": 22,
    "start_time": "2022-05-22T20:33:11.686Z"
   },
   {
    "duration": 3,
    "start_time": "2022-05-22T20:33:25.552Z"
   },
   {
    "duration": 3,
    "start_time": "2022-05-22T20:36:20.321Z"
   },
   {
    "duration": 4,
    "start_time": "2022-05-22T20:38:37.479Z"
   },
   {
    "duration": 4,
    "start_time": "2022-05-22T20:38:38.297Z"
   },
   {
    "duration": 4,
    "start_time": "2022-05-22T20:38:46.511Z"
   },
   {
    "duration": 4,
    "start_time": "2022-05-22T20:38:46.867Z"
   },
   {
    "duration": 774,
    "start_time": "2022-05-22T20:38:53.880Z"
   },
   {
    "duration": 52,
    "start_time": "2022-05-22T20:38:54.656Z"
   },
   {
    "duration": 23,
    "start_time": "2022-05-22T20:38:54.710Z"
   },
   {
    "duration": 17,
    "start_time": "2022-05-22T20:38:54.735Z"
   },
   {
    "duration": 4,
    "start_time": "2022-05-22T20:38:54.753Z"
   },
   {
    "duration": 17,
    "start_time": "2022-05-22T20:38:54.758Z"
   },
   {
    "duration": 5,
    "start_time": "2022-05-22T20:38:54.776Z"
   },
   {
    "duration": 13,
    "start_time": "2022-05-22T20:38:54.782Z"
   },
   {
    "duration": 8,
    "start_time": "2022-05-22T20:38:54.796Z"
   },
   {
    "duration": 4,
    "start_time": "2022-05-22T20:38:54.806Z"
   },
   {
    "duration": 10,
    "start_time": "2022-05-22T20:38:54.811Z"
   },
   {
    "duration": 8,
    "start_time": "2022-05-22T20:38:54.822Z"
   },
   {
    "duration": 21,
    "start_time": "2022-05-22T20:38:54.831Z"
   },
   {
    "duration": 28,
    "start_time": "2022-05-22T20:38:54.855Z"
   },
   {
    "duration": 5,
    "start_time": "2022-05-22T20:38:54.884Z"
   },
   {
    "duration": 20,
    "start_time": "2022-05-22T20:38:54.890Z"
   },
   {
    "duration": 7,
    "start_time": "2022-05-22T20:38:54.912Z"
   },
   {
    "duration": 16,
    "start_time": "2022-05-22T20:38:54.920Z"
   },
   {
    "duration": 3,
    "start_time": "2022-05-22T20:38:54.938Z"
   },
   {
    "duration": 50,
    "start_time": "2022-05-22T20:38:54.943Z"
   },
   {
    "duration": 225,
    "start_time": "2022-05-22T20:38:54.996Z"
   },
   {
    "duration": 20,
    "start_time": "2022-05-22T20:38:55.223Z"
   },
   {
    "duration": 502,
    "start_time": "2022-05-22T20:38:55.244Z"
   },
   {
    "duration": 9,
    "start_time": "2022-05-22T20:38:55.747Z"
   },
   {
    "duration": 21,
    "start_time": "2022-05-22T20:38:55.757Z"
   },
   {
    "duration": 11,
    "start_time": "2022-05-22T20:38:55.780Z"
   },
   {
    "duration": 13,
    "start_time": "2022-05-22T20:38:55.792Z"
   },
   {
    "duration": 14,
    "start_time": "2022-05-22T20:38:55.807Z"
   },
   {
    "duration": 30,
    "start_time": "2022-05-22T20:38:55.822Z"
   },
   {
    "duration": 14,
    "start_time": "2022-05-22T20:38:55.854Z"
   },
   {
    "duration": 137,
    "start_time": "2022-05-22T20:38:55.869Z"
   },
   {
    "duration": 208,
    "start_time": "2022-05-22T20:38:56.008Z"
   },
   {
    "duration": 167,
    "start_time": "2022-05-22T20:38:56.218Z"
   },
   {
    "duration": 136,
    "start_time": "2022-05-22T20:38:56.387Z"
   },
   {
    "duration": 145,
    "start_time": "2022-05-22T20:38:56.525Z"
   },
   {
    "duration": 5,
    "start_time": "2022-05-22T20:38:56.674Z"
   },
   {
    "duration": 39,
    "start_time": "2022-05-22T20:38:56.681Z"
   },
   {
    "duration": 21,
    "start_time": "2022-05-22T20:38:56.722Z"
   },
   {
    "duration": 6,
    "start_time": "2022-05-22T20:38:56.745Z"
   },
   {
    "duration": 6,
    "start_time": "2022-05-22T20:38:56.754Z"
   },
   {
    "duration": 22,
    "start_time": "2022-05-22T20:38:56.774Z"
   },
   {
    "duration": 31,
    "start_time": "2022-05-22T20:38:56.798Z"
   },
   {
    "duration": 166,
    "start_time": "2022-05-22T20:38:56.830Z"
   },
   {
    "duration": 8,
    "start_time": "2022-05-22T20:38:56.998Z"
   },
   {
    "duration": 134,
    "start_time": "2022-05-22T20:38:57.007Z"
   },
   {
    "duration": 9,
    "start_time": "2022-05-22T20:38:57.143Z"
   },
   {
    "duration": 136,
    "start_time": "2022-05-22T20:38:57.153Z"
   },
   {
    "duration": 8,
    "start_time": "2022-05-22T20:38:57.291Z"
   },
   {
    "duration": 141,
    "start_time": "2022-05-22T20:38:57.301Z"
   },
   {
    "duration": 9,
    "start_time": "2022-05-22T20:38:57.444Z"
   },
   {
    "duration": 131,
    "start_time": "2022-05-22T20:38:57.455Z"
   },
   {
    "duration": 7,
    "start_time": "2022-05-22T20:38:57.588Z"
   },
   {
    "duration": 156,
    "start_time": "2022-05-22T20:38:57.597Z"
   },
   {
    "duration": 5,
    "start_time": "2022-05-22T20:38:57.755Z"
   },
   {
    "duration": 150,
    "start_time": "2022-05-22T20:38:57.762Z"
   },
   {
    "duration": 5,
    "start_time": "2022-05-22T20:38:57.913Z"
   },
   {
    "duration": 19,
    "start_time": "2022-05-22T20:38:57.919Z"
   },
   {
    "duration": 61,
    "start_time": "2022-05-22T20:38:57.939Z"
   },
   {
    "duration": 16,
    "start_time": "2022-05-22T20:38:58.002Z"
   },
   {
    "duration": 40,
    "start_time": "2022-05-22T20:38:58.020Z"
   },
   {
    "duration": 24,
    "start_time": "2022-05-22T20:38:58.062Z"
   },
   {
    "duration": 47,
    "start_time": "2022-05-22T20:38:58.089Z"
   },
   {
    "duration": 15,
    "start_time": "2022-05-22T20:38:58.138Z"
   },
   {
    "duration": 31,
    "start_time": "2022-05-22T20:38:58.155Z"
   },
   {
    "duration": 17,
    "start_time": "2022-05-22T20:38:58.188Z"
   },
   {
    "duration": 24,
    "start_time": "2022-05-22T20:38:58.207Z"
   },
   {
    "duration": 13,
    "start_time": "2022-05-22T20:38:58.233Z"
   },
   {
    "duration": 208,
    "start_time": "2022-05-22T20:38:58.248Z"
   },
   {
    "duration": 23,
    "start_time": "2022-05-22T20:38:58.457Z"
   },
   {
    "duration": 191,
    "start_time": "2022-05-22T20:38:58.482Z"
   },
   {
    "duration": 14,
    "start_time": "2022-05-22T20:38:58.675Z"
   },
   {
    "duration": 276,
    "start_time": "2022-05-22T20:38:58.690Z"
   },
   {
    "duration": 8,
    "start_time": "2022-05-22T20:38:58.968Z"
   },
   {
    "duration": 9,
    "start_time": "2022-05-22T20:38:58.979Z"
   },
   {
    "duration": 5,
    "start_time": "2022-05-22T20:39:13.394Z"
   },
   {
    "duration": 4,
    "start_time": "2022-05-22T20:43:48.086Z"
   },
   {
    "duration": 6,
    "start_time": "2022-05-22T20:44:18.365Z"
   },
   {
    "duration": 99,
    "start_time": "2022-05-22T20:44:48.776Z"
   },
   {
    "duration": 4,
    "start_time": "2022-05-22T20:44:54.542Z"
   },
   {
    "duration": 4,
    "start_time": "2022-05-22T20:45:01.453Z"
   },
   {
    "duration": 5,
    "start_time": "2022-05-22T20:47:01.036Z"
   },
   {
    "duration": 10,
    "start_time": "2022-05-22T20:47:19.151Z"
   },
   {
    "duration": 4,
    "start_time": "2022-05-22T20:47:23.374Z"
   },
   {
    "duration": 4,
    "start_time": "2022-05-22T20:47:23.714Z"
   },
   {
    "duration": 4,
    "start_time": "2022-05-22T20:48:51.426Z"
   },
   {
    "duration": 3,
    "start_time": "2022-05-22T20:48:51.862Z"
   },
   {
    "duration": 846,
    "start_time": "2022-05-22T21:08:08.077Z"
   },
   {
    "duration": 58,
    "start_time": "2022-05-22T21:08:08.926Z"
   },
   {
    "duration": 25,
    "start_time": "2022-05-22T21:08:08.986Z"
   },
   {
    "duration": 15,
    "start_time": "2022-05-22T21:08:09.012Z"
   },
   {
    "duration": 5,
    "start_time": "2022-05-22T21:08:09.029Z"
   },
   {
    "duration": 6,
    "start_time": "2022-05-22T21:08:09.035Z"
   },
   {
    "duration": 34,
    "start_time": "2022-05-22T21:08:09.042Z"
   },
   {
    "duration": 10,
    "start_time": "2022-05-22T21:08:09.079Z"
   },
   {
    "duration": 10,
    "start_time": "2022-05-22T21:08:09.090Z"
   },
   {
    "duration": 5,
    "start_time": "2022-05-22T21:08:09.101Z"
   },
   {
    "duration": 8,
    "start_time": "2022-05-22T21:08:09.107Z"
   },
   {
    "duration": 5,
    "start_time": "2022-05-22T21:08:09.116Z"
   },
   {
    "duration": 8,
    "start_time": "2022-05-22T21:08:09.122Z"
   },
   {
    "duration": 43,
    "start_time": "2022-05-22T21:08:09.133Z"
   },
   {
    "duration": 5,
    "start_time": "2022-05-22T21:08:09.178Z"
   },
   {
    "duration": 16,
    "start_time": "2022-05-22T21:08:09.184Z"
   },
   {
    "duration": 7,
    "start_time": "2022-05-22T21:08:09.202Z"
   },
   {
    "duration": 15,
    "start_time": "2022-05-22T21:08:09.210Z"
   },
   {
    "duration": 3,
    "start_time": "2022-05-22T21:08:09.226Z"
   },
   {
    "duration": 51,
    "start_time": "2022-05-22T21:08:09.230Z"
   },
   {
    "duration": 254,
    "start_time": "2022-05-22T21:08:09.283Z"
   },
   {
    "duration": 23,
    "start_time": "2022-05-22T21:08:09.539Z"
   },
   {
    "duration": 578,
    "start_time": "2022-05-22T21:08:09.563Z"
   },
   {
    "duration": 9,
    "start_time": "2022-05-22T21:08:10.142Z"
   },
   {
    "duration": 4,
    "start_time": "2022-05-22T21:08:10.153Z"
   },
   {
    "duration": 18,
    "start_time": "2022-05-22T21:08:10.159Z"
   },
   {
    "duration": 9,
    "start_time": "2022-05-22T21:08:10.179Z"
   },
   {
    "duration": 7,
    "start_time": "2022-05-22T21:08:10.190Z"
   },
   {
    "duration": 28,
    "start_time": "2022-05-22T21:08:10.199Z"
   },
   {
    "duration": 6,
    "start_time": "2022-05-22T21:08:10.229Z"
   },
   {
    "duration": 150,
    "start_time": "2022-05-22T21:08:10.237Z"
   },
   {
    "duration": 212,
    "start_time": "2022-05-22T21:08:10.389Z"
   },
   {
    "duration": 147,
    "start_time": "2022-05-22T21:08:10.602Z"
   },
   {
    "duration": 126,
    "start_time": "2022-05-22T21:08:10.751Z"
   },
   {
    "duration": 136,
    "start_time": "2022-05-22T21:08:10.879Z"
   },
   {
    "duration": 4,
    "start_time": "2022-05-22T21:08:11.017Z"
   },
   {
    "duration": 21,
    "start_time": "2022-05-22T21:08:11.022Z"
   },
   {
    "duration": 16,
    "start_time": "2022-05-22T21:08:11.045Z"
   },
   {
    "duration": 2,
    "start_time": "2022-05-22T21:08:11.075Z"
   },
   {
    "duration": 5,
    "start_time": "2022-05-22T21:08:11.079Z"
   },
   {
    "duration": 17,
    "start_time": "2022-05-22T21:08:11.088Z"
   },
   {
    "duration": 22,
    "start_time": "2022-05-22T21:08:11.107Z"
   },
   {
    "duration": 131,
    "start_time": "2022-05-22T21:08:11.130Z"
   },
   {
    "duration": 15,
    "start_time": "2022-05-22T21:08:11.262Z"
   },
   {
    "duration": 126,
    "start_time": "2022-05-22T21:08:11.278Z"
   },
   {
    "duration": 8,
    "start_time": "2022-05-22T21:08:11.405Z"
   },
   {
    "duration": 134,
    "start_time": "2022-05-22T21:08:11.414Z"
   },
   {
    "duration": 8,
    "start_time": "2022-05-22T21:08:11.549Z"
   },
   {
    "duration": 138,
    "start_time": "2022-05-22T21:08:11.558Z"
   },
   {
    "duration": 9,
    "start_time": "2022-05-22T21:08:11.697Z"
   },
   {
    "duration": 126,
    "start_time": "2022-05-22T21:08:11.707Z"
   },
   {
    "duration": 8,
    "start_time": "2022-05-22T21:08:11.834Z"
   },
   {
    "duration": 160,
    "start_time": "2022-05-22T21:08:11.844Z"
   },
   {
    "duration": 6,
    "start_time": "2022-05-22T21:08:12.006Z"
   },
   {
    "duration": 164,
    "start_time": "2022-05-22T21:08:12.014Z"
   },
   {
    "duration": 5,
    "start_time": "2022-05-22T21:08:12.180Z"
   },
   {
    "duration": 17,
    "start_time": "2022-05-22T21:08:12.186Z"
   },
   {
    "duration": 33,
    "start_time": "2022-05-22T21:08:12.205Z"
   },
   {
    "duration": 37,
    "start_time": "2022-05-22T21:08:12.240Z"
   },
   {
    "duration": 40,
    "start_time": "2022-05-22T21:08:12.280Z"
   },
   {
    "duration": 14,
    "start_time": "2022-05-22T21:08:12.322Z"
   },
   {
    "duration": 59,
    "start_time": "2022-05-22T21:08:12.338Z"
   },
   {
    "duration": 14,
    "start_time": "2022-05-22T21:08:12.399Z"
   },
   {
    "duration": 18,
    "start_time": "2022-05-22T21:08:12.415Z"
   },
   {
    "duration": 15,
    "start_time": "2022-05-22T21:08:12.435Z"
   },
   {
    "duration": 25,
    "start_time": "2022-05-22T21:08:12.475Z"
   },
   {
    "duration": 16,
    "start_time": "2022-05-22T21:08:12.502Z"
   },
   {
    "duration": 252,
    "start_time": "2022-05-22T21:08:12.520Z"
   },
   {
    "duration": 17,
    "start_time": "2022-05-22T21:08:12.775Z"
   },
   {
    "duration": 239,
    "start_time": "2022-05-22T21:08:12.793Z"
   },
   {
    "duration": 13,
    "start_time": "2022-05-22T21:08:13.034Z"
   },
   {
    "duration": 275,
    "start_time": "2022-05-22T21:08:13.049Z"
   },
   {
    "duration": 4,
    "start_time": "2022-05-22T21:08:13.325Z"
   },
   {
    "duration": 8,
    "start_time": "2022-05-22T21:08:13.330Z"
   },
   {
    "duration": 9,
    "start_time": "2022-05-22T21:08:13.339Z"
   },
   {
    "duration": 3,
    "start_time": "2022-05-22T21:08:13.349Z"
   },
   {
    "duration": 35,
    "start_time": "2022-05-22T21:08:13.354Z"
   },
   {
    "duration": 51,
    "start_time": "2022-05-23T02:00:17.349Z"
   },
   {
    "duration": 37,
    "start_time": "2022-05-23T02:24:17.642Z"
   },
   {
    "duration": 74,
    "start_time": "2022-05-24T16:41:11.341Z"
   },
   {
    "duration": 962,
    "start_time": "2022-05-24T16:41:15.845Z"
   },
   {
    "duration": 173,
    "start_time": "2022-05-24T16:41:16.809Z"
   },
   {
    "duration": 34,
    "start_time": "2022-05-24T16:41:16.984Z"
   },
   {
    "duration": 15,
    "start_time": "2022-05-24T16:41:17.019Z"
   },
   {
    "duration": 5,
    "start_time": "2022-05-24T16:41:17.036Z"
   },
   {
    "duration": 8,
    "start_time": "2022-05-24T16:41:17.043Z"
   },
   {
    "duration": 8,
    "start_time": "2022-05-24T16:41:17.053Z"
   },
   {
    "duration": 14,
    "start_time": "2022-05-24T16:41:17.062Z"
   },
   {
    "duration": 8,
    "start_time": "2022-05-24T16:41:17.078Z"
   },
   {
    "duration": 28,
    "start_time": "2022-05-24T16:41:17.088Z"
   },
   {
    "duration": 10,
    "start_time": "2022-05-24T16:41:17.118Z"
   },
   {
    "duration": 6,
    "start_time": "2022-05-24T16:41:17.130Z"
   },
   {
    "duration": 7,
    "start_time": "2022-05-24T16:41:17.138Z"
   },
   {
    "duration": 6,
    "start_time": "2022-05-24T16:41:17.148Z"
   },
   {
    "duration": 8,
    "start_time": "2022-05-24T16:41:17.156Z"
   },
   {
    "duration": 14,
    "start_time": "2022-05-24T16:41:17.166Z"
   },
   {
    "duration": 31,
    "start_time": "2022-05-24T16:41:17.182Z"
   },
   {
    "duration": 20,
    "start_time": "2022-05-24T16:41:17.216Z"
   },
   {
    "duration": 3,
    "start_time": "2022-05-24T16:41:17.238Z"
   },
   {
    "duration": 25,
    "start_time": "2022-05-24T16:41:17.242Z"
   },
   {
    "duration": 257,
    "start_time": "2022-05-24T16:41:17.269Z"
   },
   {
    "duration": 22,
    "start_time": "2022-05-24T16:41:17.527Z"
   },
   {
    "duration": 718,
    "start_time": "2022-05-24T16:41:17.551Z"
   },
   {
    "duration": 9,
    "start_time": "2022-05-24T16:41:18.271Z"
   },
   {
    "duration": 7,
    "start_time": "2022-05-24T16:41:18.282Z"
   },
   {
    "duration": 5,
    "start_time": "2022-05-24T16:41:18.302Z"
   },
   {
    "duration": 19,
    "start_time": "2022-05-24T16:41:18.314Z"
   },
   {
    "duration": 90,
    "start_time": "2022-05-24T16:41:18.335Z"
   },
   {
    "duration": 23,
    "start_time": "2022-05-24T16:41:18.428Z"
   },
   {
    "duration": 3,
    "start_time": "2022-05-24T16:41:18.453Z"
   },
   {
    "duration": 161,
    "start_time": "2022-05-24T16:41:18.458Z"
   },
   {
    "duration": 141,
    "start_time": "2022-05-24T16:41:18.621Z"
   },
   {
    "duration": 152,
    "start_time": "2022-05-24T16:41:18.763Z"
   },
   {
    "duration": 137,
    "start_time": "2022-05-24T16:41:18.917Z"
   },
   {
    "duration": 136,
    "start_time": "2022-05-24T16:41:19.056Z"
   },
   {
    "duration": 13,
    "start_time": "2022-05-24T16:41:19.194Z"
   },
   {
    "duration": 32,
    "start_time": "2022-05-24T16:41:19.211Z"
   },
   {
    "duration": 19,
    "start_time": "2022-05-24T16:41:19.245Z"
   },
   {
    "duration": 3,
    "start_time": "2022-05-24T16:41:19.266Z"
   },
   {
    "duration": 7,
    "start_time": "2022-05-24T16:41:19.271Z"
   },
   {
    "duration": 38,
    "start_time": "2022-05-24T16:41:19.282Z"
   },
   {
    "duration": 26,
    "start_time": "2022-05-24T16:41:19.322Z"
   },
   {
    "duration": 152,
    "start_time": "2022-05-24T16:41:19.350Z"
   },
   {
    "duration": 13,
    "start_time": "2022-05-24T16:41:19.504Z"
   },
   {
    "duration": 129,
    "start_time": "2022-05-24T16:41:19.518Z"
   },
   {
    "duration": 7,
    "start_time": "2022-05-24T16:41:19.649Z"
   },
   {
    "duration": 161,
    "start_time": "2022-05-24T16:41:19.658Z"
   },
   {
    "duration": 9,
    "start_time": "2022-05-24T16:41:19.821Z"
   },
   {
    "duration": 134,
    "start_time": "2022-05-24T16:41:19.832Z"
   },
   {
    "duration": 8,
    "start_time": "2022-05-24T16:41:19.968Z"
   },
   {
    "duration": 139,
    "start_time": "2022-05-24T16:41:19.978Z"
   },
   {
    "duration": 9,
    "start_time": "2022-05-24T16:41:20.119Z"
   },
   {
    "duration": 160,
    "start_time": "2022-05-24T16:41:20.129Z"
   },
   {
    "duration": 21,
    "start_time": "2022-05-24T16:41:20.292Z"
   },
   {
    "duration": 145,
    "start_time": "2022-05-24T16:41:20.315Z"
   },
   {
    "duration": 5,
    "start_time": "2022-05-24T16:41:20.462Z"
   },
   {
    "duration": 18,
    "start_time": "2022-05-24T16:41:20.468Z"
   },
   {
    "duration": 47,
    "start_time": "2022-05-24T16:41:20.488Z"
   },
   {
    "duration": 15,
    "start_time": "2022-05-24T16:41:20.537Z"
   },
   {
    "duration": 54,
    "start_time": "2022-05-24T16:41:20.553Z"
   },
   {
    "duration": 16,
    "start_time": "2022-05-24T16:41:20.608Z"
   },
   {
    "duration": 34,
    "start_time": "2022-05-24T16:41:20.625Z"
   },
   {
    "duration": 15,
    "start_time": "2022-05-24T16:41:20.661Z"
   },
   {
    "duration": 41,
    "start_time": "2022-05-24T16:41:20.677Z"
   },
   {
    "duration": 15,
    "start_time": "2022-05-24T16:41:20.719Z"
   },
   {
    "duration": 14,
    "start_time": "2022-05-24T16:41:20.735Z"
   },
   {
    "duration": 11,
    "start_time": "2022-05-24T16:41:20.751Z"
   },
   {
    "duration": 218,
    "start_time": "2022-05-24T16:41:20.763Z"
   },
   {
    "duration": 30,
    "start_time": "2022-05-24T16:41:20.983Z"
   },
   {
    "duration": 332,
    "start_time": "2022-05-24T16:41:21.015Z"
   },
   {
    "duration": 14,
    "start_time": "2022-05-24T16:41:21.349Z"
   },
   {
    "duration": 203,
    "start_time": "2022-05-24T16:41:21.365Z"
   },
   {
    "duration": 4,
    "start_time": "2022-05-24T16:41:21.570Z"
   },
   {
    "duration": 9,
    "start_time": "2022-05-24T16:41:21.575Z"
   },
   {
    "duration": 22,
    "start_time": "2022-05-24T16:41:21.585Z"
   },
   {
    "duration": 5,
    "start_time": "2022-05-24T16:41:21.612Z"
   },
   {
    "duration": 6,
    "start_time": "2022-05-24T16:41:21.619Z"
   },
   {
    "duration": 8,
    "start_time": "2022-05-24T16:43:02.713Z"
   },
   {
    "duration": 8,
    "start_time": "2022-05-24T16:43:05.100Z"
   },
   {
    "duration": 2,
    "start_time": "2022-05-24T16:43:09.050Z"
   },
   {
    "duration": 63,
    "start_time": "2022-05-24T16:43:09.055Z"
   },
   {
    "duration": 16,
    "start_time": "2022-05-24T16:43:09.120Z"
   },
   {
    "duration": 16,
    "start_time": "2022-05-24T16:43:09.138Z"
   },
   {
    "duration": 5,
    "start_time": "2022-05-24T16:43:09.156Z"
   },
   {
    "duration": 5,
    "start_time": "2022-05-24T16:43:09.163Z"
   },
   {
    "duration": 39,
    "start_time": "2022-05-24T16:43:09.170Z"
   },
   {
    "duration": 22,
    "start_time": "2022-05-24T16:43:09.212Z"
   },
   {
    "duration": 9,
    "start_time": "2022-05-24T16:43:09.236Z"
   },
   {
    "duration": 4,
    "start_time": "2022-05-24T16:43:09.247Z"
   },
   {
    "duration": 8,
    "start_time": "2022-05-24T16:43:09.252Z"
   },
   {
    "duration": 9,
    "start_time": "2022-05-24T16:43:09.261Z"
   },
   {
    "duration": 7,
    "start_time": "2022-05-24T16:43:09.271Z"
   },
   {
    "duration": 28,
    "start_time": "2022-05-24T16:43:09.280Z"
   },
   {
    "duration": 27,
    "start_time": "2022-05-24T16:43:09.309Z"
   },
   {
    "duration": 11,
    "start_time": "2022-05-24T16:43:09.337Z"
   },
   {
    "duration": 7,
    "start_time": "2022-05-24T16:43:09.349Z"
   },
   {
    "duration": 13,
    "start_time": "2022-05-24T16:43:09.357Z"
   },
   {
    "duration": 3,
    "start_time": "2022-05-24T16:43:09.371Z"
   },
   {
    "duration": 38,
    "start_time": "2022-05-24T16:43:09.375Z"
   },
   {
    "duration": 254,
    "start_time": "2022-05-24T16:43:09.420Z"
   },
   {
    "duration": 38,
    "start_time": "2022-05-24T16:43:09.676Z"
   },
   {
    "duration": 282,
    "start_time": "2022-05-24T16:43:09.716Z"
   },
   {
    "duration": 20,
    "start_time": "2022-05-24T16:43:10.002Z"
   },
   {
    "duration": 8,
    "start_time": "2022-05-24T16:43:10.024Z"
   },
   {
    "duration": 25,
    "start_time": "2022-05-24T16:43:10.034Z"
   },
   {
    "duration": 11,
    "start_time": "2022-05-24T16:43:10.060Z"
   },
   {
    "duration": 12,
    "start_time": "2022-05-24T16:43:10.072Z"
   },
   {
    "duration": 22,
    "start_time": "2022-05-24T16:43:10.086Z"
   },
   {
    "duration": 3,
    "start_time": "2022-05-24T16:43:10.110Z"
   },
   {
    "duration": 140,
    "start_time": "2022-05-24T16:43:10.116Z"
   },
   {
    "duration": 143,
    "start_time": "2022-05-24T16:43:10.258Z"
   },
   {
    "duration": 192,
    "start_time": "2022-05-24T16:43:10.403Z"
   },
   {
    "duration": 138,
    "start_time": "2022-05-24T16:43:10.597Z"
   },
   {
    "duration": 147,
    "start_time": "2022-05-24T16:43:10.737Z"
   },
   {
    "duration": 5,
    "start_time": "2022-05-24T16:43:10.886Z"
   },
   {
    "duration": 34,
    "start_time": "2022-05-24T16:43:10.893Z"
   },
   {
    "duration": 13,
    "start_time": "2022-05-24T16:43:10.929Z"
   },
   {
    "duration": 3,
    "start_time": "2022-05-24T16:43:10.943Z"
   },
   {
    "duration": 7,
    "start_time": "2022-05-24T16:43:10.947Z"
   },
   {
    "duration": 19,
    "start_time": "2022-05-24T16:43:10.956Z"
   },
   {
    "duration": 45,
    "start_time": "2022-05-24T16:43:10.976Z"
   },
   {
    "duration": 155,
    "start_time": "2022-05-24T16:43:11.023Z"
   },
   {
    "duration": 10,
    "start_time": "2022-05-24T16:43:11.181Z"
   },
   {
    "duration": 159,
    "start_time": "2022-05-24T16:43:11.206Z"
   },
   {
    "duration": 11,
    "start_time": "2022-05-24T16:43:11.367Z"
   },
   {
    "duration": 165,
    "start_time": "2022-05-24T16:43:11.380Z"
   },
   {
    "duration": 9,
    "start_time": "2022-05-24T16:43:11.547Z"
   },
   {
    "duration": 154,
    "start_time": "2022-05-24T16:43:11.557Z"
   },
   {
    "duration": 11,
    "start_time": "2022-05-24T16:43:11.713Z"
   },
   {
    "duration": 156,
    "start_time": "2022-05-24T16:43:11.726Z"
   },
   {
    "duration": 10,
    "start_time": "2022-05-24T16:43:11.884Z"
   },
   {
    "duration": 249,
    "start_time": "2022-05-24T16:43:11.896Z"
   },
   {
    "duration": 6,
    "start_time": "2022-05-24T16:43:12.147Z"
   },
   {
    "duration": 161,
    "start_time": "2022-05-24T16:43:12.155Z"
   },
   {
    "duration": 6,
    "start_time": "2022-05-24T16:43:12.319Z"
   },
   {
    "duration": 21,
    "start_time": "2022-05-24T16:43:12.327Z"
   },
   {
    "duration": 32,
    "start_time": "2022-05-24T16:43:12.349Z"
   },
   {
    "duration": 50,
    "start_time": "2022-05-24T16:43:12.382Z"
   },
   {
    "duration": 45,
    "start_time": "2022-05-24T16:43:12.433Z"
   },
   {
    "duration": 32,
    "start_time": "2022-05-24T16:43:12.479Z"
   },
   {
    "duration": 34,
    "start_time": "2022-05-24T16:43:12.513Z"
   },
   {
    "duration": 16,
    "start_time": "2022-05-24T16:43:12.549Z"
   },
   {
    "duration": 16,
    "start_time": "2022-05-24T16:43:12.567Z"
   },
   {
    "duration": 19,
    "start_time": "2022-05-24T16:43:12.604Z"
   },
   {
    "duration": 16,
    "start_time": "2022-05-24T16:43:12.624Z"
   },
   {
    "duration": 12,
    "start_time": "2022-05-24T16:43:12.642Z"
   },
   {
    "duration": 241,
    "start_time": "2022-05-24T16:43:12.655Z"
   },
   {
    "duration": 16,
    "start_time": "2022-05-24T16:43:12.902Z"
   },
   {
    "duration": 233,
    "start_time": "2022-05-24T16:43:12.920Z"
   },
   {
    "duration": 15,
    "start_time": "2022-05-24T16:43:13.154Z"
   },
   {
    "duration": 256,
    "start_time": "2022-05-24T16:43:13.171Z"
   },
   {
    "duration": 16,
    "start_time": "2022-05-24T16:43:13.430Z"
   },
   {
    "duration": 6,
    "start_time": "2022-05-24T16:43:13.450Z"
   },
   {
    "duration": 14,
    "start_time": "2022-05-24T16:43:13.457Z"
   },
   {
    "duration": 12,
    "start_time": "2022-05-24T16:43:13.472Z"
   },
   {
    "duration": 6,
    "start_time": "2022-05-24T16:43:13.486Z"
   },
   {
    "duration": 142,
    "start_time": "2022-05-24T16:48:03.043Z"
   },
   {
    "duration": 147,
    "start_time": "2022-05-24T16:48:26.515Z"
   },
   {
    "duration": 167,
    "start_time": "2022-05-24T16:50:42.057Z"
   },
   {
    "duration": 207,
    "start_time": "2022-05-24T16:51:10.919Z"
   },
   {
    "duration": 208,
    "start_time": "2022-05-24T16:51:38.518Z"
   },
   {
    "duration": 200,
    "start_time": "2022-05-24T16:51:54.265Z"
   },
   {
    "duration": 209,
    "start_time": "2022-05-24T16:52:20.371Z"
   },
   {
    "duration": 223,
    "start_time": "2022-05-24T16:52:49.602Z"
   },
   {
    "duration": 62,
    "start_time": "2022-05-24T16:57:07.374Z"
   },
   {
    "duration": 10,
    "start_time": "2022-05-24T16:57:14.965Z"
   },
   {
    "duration": 8,
    "start_time": "2022-05-24T16:57:15.619Z"
   },
   {
    "duration": 13,
    "start_time": "2022-05-24T16:57:17.136Z"
   },
   {
    "duration": 3,
    "start_time": "2022-05-24T16:57:17.753Z"
   },
   {
    "duration": 249,
    "start_time": "2022-05-24T16:57:18.469Z"
   },
   {
    "duration": 3,
    "start_time": "2022-05-24T16:57:40.991Z"
   },
   {
    "duration": 81,
    "start_time": "2022-05-24T16:57:40.997Z"
   },
   {
    "duration": 23,
    "start_time": "2022-05-24T16:57:41.081Z"
   },
   {
    "duration": 18,
    "start_time": "2022-05-24T16:57:41.106Z"
   },
   {
    "duration": 6,
    "start_time": "2022-05-24T16:57:41.127Z"
   },
   {
    "duration": 8,
    "start_time": "2022-05-24T16:57:41.135Z"
   },
   {
    "duration": 14,
    "start_time": "2022-05-24T16:57:41.145Z"
   },
   {
    "duration": 41,
    "start_time": "2022-05-24T16:57:41.161Z"
   },
   {
    "duration": 9,
    "start_time": "2022-05-24T16:57:41.205Z"
   },
   {
    "duration": 8,
    "start_time": "2022-05-24T16:57:41.215Z"
   },
   {
    "duration": 8,
    "start_time": "2022-05-24T16:57:41.226Z"
   },
   {
    "duration": 16,
    "start_time": "2022-05-24T16:57:41.236Z"
   },
   {
    "duration": 9,
    "start_time": "2022-05-24T16:57:41.256Z"
   },
   {
    "duration": 38,
    "start_time": "2022-05-24T16:57:41.267Z"
   },
   {
    "duration": 8,
    "start_time": "2022-05-24T16:57:41.307Z"
   },
   {
    "duration": 18,
    "start_time": "2022-05-24T16:57:41.317Z"
   },
   {
    "duration": 14,
    "start_time": "2022-05-24T16:57:41.337Z"
   },
   {
    "duration": 33,
    "start_time": "2022-05-24T16:57:41.353Z"
   },
   {
    "duration": 4,
    "start_time": "2022-05-24T16:57:41.401Z"
   },
   {
    "duration": 36,
    "start_time": "2022-05-24T16:57:41.407Z"
   },
   {
    "duration": 236,
    "start_time": "2022-05-24T16:57:41.448Z"
   },
   {
    "duration": 29,
    "start_time": "2022-05-24T16:57:41.685Z"
   },
   {
    "duration": 267,
    "start_time": "2022-05-24T16:57:41.716Z"
   },
   {
    "duration": 19,
    "start_time": "2022-05-24T16:57:41.984Z"
   },
   {
    "duration": 5,
    "start_time": "2022-05-24T16:57:42.005Z"
   },
   {
    "duration": 6,
    "start_time": "2022-05-24T16:57:42.011Z"
   },
   {
    "duration": 11,
    "start_time": "2022-05-24T16:57:42.018Z"
   },
   {
    "duration": 7,
    "start_time": "2022-05-24T16:57:42.030Z"
   },
   {
    "duration": 167,
    "start_time": "2022-05-24T16:57:42.041Z"
   },
   {
    "duration": 2,
    "start_time": "2022-05-24T16:57:42.210Z"
   },
   {
    "duration": 219,
    "start_time": "2022-05-24T16:57:42.214Z"
   },
   {
    "duration": 5,
    "start_time": "2022-05-24T16:57:42.435Z"
   },
   {
    "duration": 25,
    "start_time": "2022-05-24T16:57:42.441Z"
   },
   {
    "duration": 33,
    "start_time": "2022-05-24T16:57:42.469Z"
   },
   {
    "duration": 3,
    "start_time": "2022-05-24T16:57:42.505Z"
   },
   {
    "duration": 10,
    "start_time": "2022-05-24T16:57:42.510Z"
   },
   {
    "duration": 20,
    "start_time": "2022-05-24T16:57:42.522Z"
   },
   {
    "duration": 19,
    "start_time": "2022-05-24T16:57:42.543Z"
   },
   {
    "duration": 149,
    "start_time": "2022-05-24T16:57:42.564Z"
   },
   {
    "duration": 9,
    "start_time": "2022-05-24T16:57:42.715Z"
   },
   {
    "duration": 141,
    "start_time": "2022-05-24T16:57:42.725Z"
   },
   {
    "duration": 9,
    "start_time": "2022-05-24T16:57:42.868Z"
   },
   {
    "duration": 143,
    "start_time": "2022-05-24T16:57:42.878Z"
   },
   {
    "duration": 8,
    "start_time": "2022-05-24T16:57:43.022Z"
   },
   {
    "duration": 148,
    "start_time": "2022-05-24T16:57:43.032Z"
   },
   {
    "duration": 9,
    "start_time": "2022-05-24T16:57:43.181Z"
   },
   {
    "duration": 138,
    "start_time": "2022-05-24T16:57:43.191Z"
   },
   {
    "duration": 9,
    "start_time": "2022-05-24T16:57:43.331Z"
   },
   {
    "duration": 178,
    "start_time": "2022-05-24T16:57:43.342Z"
   },
   {
    "duration": 7,
    "start_time": "2022-05-24T16:57:43.522Z"
   },
   {
    "duration": 155,
    "start_time": "2022-05-24T16:57:43.531Z"
   },
   {
    "duration": 5,
    "start_time": "2022-05-24T16:57:43.688Z"
   },
   {
    "duration": 15,
    "start_time": "2022-05-24T16:57:43.702Z"
   },
   {
    "duration": 31,
    "start_time": "2022-05-24T16:57:43.718Z"
   },
   {
    "duration": 16,
    "start_time": "2022-05-24T16:57:43.750Z"
   },
   {
    "duration": 55,
    "start_time": "2022-05-24T16:57:43.768Z"
   },
   {
    "duration": 22,
    "start_time": "2022-05-24T16:57:43.825Z"
   },
   {
    "duration": 34,
    "start_time": "2022-05-24T16:57:43.849Z"
   },
   {
    "duration": 21,
    "start_time": "2022-05-24T16:57:43.902Z"
   },
   {
    "duration": 18,
    "start_time": "2022-05-24T16:57:43.924Z"
   },
   {
    "duration": 15,
    "start_time": "2022-05-24T16:57:43.944Z"
   },
   {
    "duration": 43,
    "start_time": "2022-05-24T16:57:43.960Z"
   },
   {
    "duration": 14,
    "start_time": "2022-05-24T16:57:44.004Z"
   },
   {
    "duration": 219,
    "start_time": "2022-05-24T16:57:44.020Z"
   },
   {
    "duration": 13,
    "start_time": "2022-05-24T16:57:44.240Z"
   },
   {
    "duration": 223,
    "start_time": "2022-05-24T16:57:44.255Z"
   },
   {
    "duration": 22,
    "start_time": "2022-05-24T16:57:44.480Z"
   },
   {
    "duration": 205,
    "start_time": "2022-05-24T16:57:44.503Z"
   },
   {
    "duration": 4,
    "start_time": "2022-05-24T16:57:44.710Z"
   },
   {
    "duration": 6,
    "start_time": "2022-05-24T16:57:44.715Z"
   },
   {
    "duration": 10,
    "start_time": "2022-05-24T16:57:44.723Z"
   },
   {
    "duration": 4,
    "start_time": "2022-05-24T16:57:44.734Z"
   },
   {
    "duration": 5,
    "start_time": "2022-05-24T16:57:44.739Z"
   },
   {
    "duration": 5,
    "start_time": "2022-05-24T17:06:49.983Z"
   },
   {
    "duration": 4,
    "start_time": "2022-05-24T17:06:54.162Z"
   },
   {
    "duration": 25,
    "start_time": "2022-05-24T17:06:54.836Z"
   },
   {
    "duration": 13,
    "start_time": "2022-05-24T17:09:33.138Z"
   },
   {
    "duration": 4,
    "start_time": "2022-05-24T17:09:33.617Z"
   },
   {
    "duration": 4,
    "start_time": "2022-05-24T17:09:33.948Z"
   },
   {
    "duration": 13,
    "start_time": "2022-05-24T17:09:34.421Z"
   },
   {
    "duration": 15,
    "start_time": "2022-05-24T17:09:46.710Z"
   },
   {
    "duration": 126,
    "start_time": "2022-05-24T17:09:49.148Z"
   },
   {
    "duration": 9,
    "start_time": "2022-05-24T17:09:51.688Z"
   },
   {
    "duration": 135,
    "start_time": "2022-05-24T17:10:10.586Z"
   },
   {
    "duration": 9,
    "start_time": "2022-05-24T17:10:12.388Z"
   },
   {
    "duration": 118,
    "start_time": "2022-05-24T17:10:24.353Z"
   },
   {
    "duration": 12,
    "start_time": "2022-05-24T17:10:30.776Z"
   },
   {
    "duration": 131,
    "start_time": "2022-05-24T17:10:33.115Z"
   },
   {
    "duration": 10,
    "start_time": "2022-05-24T17:10:38.238Z"
   },
   {
    "duration": 168,
    "start_time": "2022-05-24T17:12:51.072Z"
   },
   {
    "duration": 231,
    "start_time": "2022-05-24T17:16:14.668Z"
   },
   {
    "duration": 40,
    "start_time": "2022-05-24T17:17:47.607Z"
   },
   {
    "duration": 280,
    "start_time": "2022-05-24T17:17:53.727Z"
   },
   {
    "duration": 9,
    "start_time": "2022-05-24T17:21:43.465Z"
   },
   {
    "duration": 10,
    "start_time": "2022-05-24T17:21:55.041Z"
   },
   {
    "duration": 9,
    "start_time": "2022-05-24T17:22:10.155Z"
   },
   {
    "duration": 10,
    "start_time": "2022-05-24T17:23:58.148Z"
   },
   {
    "duration": 20,
    "start_time": "2022-05-24T17:24:26.009Z"
   },
   {
    "duration": 149,
    "start_time": "2022-05-24T17:24:32.528Z"
   },
   {
    "duration": 11,
    "start_time": "2022-05-24T17:26:11.647Z"
   },
   {
    "duration": 17,
    "start_time": "2022-05-24T17:26:17.897Z"
   },
   {
    "duration": 11,
    "start_time": "2022-05-24T17:26:27.788Z"
   },
   {
    "duration": 350,
    "start_time": "2022-05-24T17:26:37.670Z"
   },
   {
    "duration": 355,
    "start_time": "2022-05-24T17:28:15.448Z"
   },
   {
    "duration": 300,
    "start_time": "2022-05-24T17:28:35.586Z"
   },
   {
    "duration": 34,
    "start_time": "2022-05-24T17:29:09.517Z"
   },
   {
    "duration": 80,
    "start_time": "2022-05-24T17:29:33.163Z"
   },
   {
    "duration": 162,
    "start_time": "2022-05-24T17:29:36.865Z"
   },
   {
    "duration": 27,
    "start_time": "2022-05-24T17:30:23.871Z"
   },
   {
    "duration": 324,
    "start_time": "2022-05-24T17:30:30.939Z"
   },
   {
    "duration": 15,
    "start_time": "2022-05-24T17:30:37.422Z"
   },
   {
    "duration": 12,
    "start_time": "2022-05-24T17:33:06.574Z"
   },
   {
    "duration": 42,
    "start_time": "2022-05-24T17:35:00.047Z"
   },
   {
    "duration": 368,
    "start_time": "2022-05-24T17:35:04.259Z"
   },
   {
    "duration": 4,
    "start_time": "2022-05-24T17:35:11.574Z"
   },
   {
    "duration": 10,
    "start_time": "2022-05-24T17:35:33.438Z"
   },
   {
    "duration": 4132,
    "start_time": "2022-05-24T17:35:38.228Z"
   },
   {
    "duration": 9,
    "start_time": "2022-05-24T17:35:59.841Z"
   },
   {
    "duration": 1307,
    "start_time": "2022-05-24T17:36:09.065Z"
   },
   {
    "duration": 1396,
    "start_time": "2022-05-24T17:36:41.135Z"
   },
   {
    "duration": 989,
    "start_time": "2022-05-24T17:38:10.276Z"
   },
   {
    "duration": 1163,
    "start_time": "2022-05-24T17:39:30.068Z"
   },
   {
    "duration": 5,
    "start_time": "2022-05-24T17:39:56.637Z"
   },
   {
    "duration": 172,
    "start_time": "2022-05-24T17:41:01.680Z"
   },
   {
    "duration": 191,
    "start_time": "2022-05-24T17:41:52.375Z"
   },
   {
    "duration": 243,
    "start_time": "2022-05-24T17:41:58.434Z"
   },
   {
    "duration": 218,
    "start_time": "2022-05-24T17:43:35.779Z"
   },
   {
    "duration": 167,
    "start_time": "2022-05-24T17:47:37.869Z"
   },
   {
    "duration": 213,
    "start_time": "2022-05-24T17:48:03.619Z"
   },
   {
    "duration": 235,
    "start_time": "2022-05-24T17:48:17.438Z"
   },
   {
    "duration": 3,
    "start_time": "2022-05-24T17:49:12.335Z"
   },
   {
    "duration": 211,
    "start_time": "2022-05-24T17:49:22.630Z"
   },
   {
    "duration": 1184,
    "start_time": "2022-05-24T17:49:38.874Z"
   },
   {
    "duration": 61,
    "start_time": "2022-05-24T17:49:40.059Z"
   },
   {
    "duration": 22,
    "start_time": "2022-05-24T17:49:40.126Z"
   },
   {
    "duration": 15,
    "start_time": "2022-05-24T17:49:40.151Z"
   },
   {
    "duration": 13,
    "start_time": "2022-05-24T17:49:40.167Z"
   },
   {
    "duration": 54,
    "start_time": "2022-05-24T17:49:40.182Z"
   },
   {
    "duration": 5,
    "start_time": "2022-05-24T17:49:40.238Z"
   },
   {
    "duration": 10,
    "start_time": "2022-05-24T17:49:40.245Z"
   },
   {
    "duration": 13,
    "start_time": "2022-05-24T17:49:40.256Z"
   },
   {
    "duration": 5,
    "start_time": "2022-05-24T17:49:40.272Z"
   },
   {
    "duration": 9,
    "start_time": "2022-05-24T17:49:40.278Z"
   },
   {
    "duration": 5,
    "start_time": "2022-05-24T17:49:40.289Z"
   },
   {
    "duration": 5,
    "start_time": "2022-05-24T17:49:40.296Z"
   },
   {
    "duration": 34,
    "start_time": "2022-05-24T17:49:40.303Z"
   },
   {
    "duration": 6,
    "start_time": "2022-05-24T17:49:40.338Z"
   },
   {
    "duration": 11,
    "start_time": "2022-05-24T17:49:40.345Z"
   },
   {
    "duration": 6,
    "start_time": "2022-05-24T17:49:40.358Z"
   },
   {
    "duration": 15,
    "start_time": "2022-05-24T17:49:40.366Z"
   },
   {
    "duration": 2,
    "start_time": "2022-05-24T17:49:40.382Z"
   },
   {
    "duration": 30,
    "start_time": "2022-05-24T17:49:40.386Z"
   },
   {
    "duration": 295,
    "start_time": "2022-05-24T17:49:40.417Z"
   },
   {
    "duration": 29,
    "start_time": "2022-05-24T17:49:40.715Z"
   },
   {
    "duration": 313,
    "start_time": "2022-05-24T17:49:40.745Z"
   },
   {
    "duration": 8,
    "start_time": "2022-05-24T17:49:41.060Z"
   },
   {
    "duration": 4,
    "start_time": "2022-05-24T17:49:41.069Z"
   },
   {
    "duration": 6,
    "start_time": "2022-05-24T17:49:41.075Z"
   },
   {
    "duration": 22,
    "start_time": "2022-05-24T17:49:41.106Z"
   },
   {
    "duration": 103,
    "start_time": "2022-05-24T17:49:41.134Z"
   },
   {
    "duration": 20,
    "start_time": "2022-05-24T17:49:41.239Z"
   },
   {
    "duration": 4,
    "start_time": "2022-05-24T17:49:41.261Z"
   },
   {
    "duration": 295,
    "start_time": "2022-05-24T17:49:41.267Z"
   },
   {
    "duration": 4,
    "start_time": "2022-05-24T17:49:41.564Z"
   },
   {
    "duration": 51,
    "start_time": "2022-05-24T17:49:41.570Z"
   },
   {
    "duration": 24,
    "start_time": "2022-05-24T17:49:41.623Z"
   },
   {
    "duration": 3,
    "start_time": "2022-05-24T17:49:41.649Z"
   },
   {
    "duration": 6,
    "start_time": "2022-05-24T17:49:41.653Z"
   },
   {
    "duration": 14,
    "start_time": "2022-05-24T17:49:41.660Z"
   },
   {
    "duration": 16,
    "start_time": "2022-05-24T17:49:41.676Z"
   },
   {
    "duration": 236,
    "start_time": "2022-05-24T17:49:41.702Z"
   },
   {
    "duration": 127,
    "start_time": "2022-05-24T17:49:41.940Z"
   },
   {
    "duration": 0,
    "start_time": "2022-05-24T17:49:42.069Z"
   },
   {
    "duration": 0,
    "start_time": "2022-05-24T17:49:42.070Z"
   },
   {
    "duration": 0,
    "start_time": "2022-05-24T17:49:42.071Z"
   },
   {
    "duration": 0,
    "start_time": "2022-05-24T17:49:42.072Z"
   },
   {
    "duration": 0,
    "start_time": "2022-05-24T17:49:42.074Z"
   },
   {
    "duration": 0,
    "start_time": "2022-05-24T17:49:42.075Z"
   },
   {
    "duration": 0,
    "start_time": "2022-05-24T17:49:42.076Z"
   },
   {
    "duration": 0,
    "start_time": "2022-05-24T17:49:42.078Z"
   },
   {
    "duration": 0,
    "start_time": "2022-05-24T17:49:42.079Z"
   },
   {
    "duration": 0,
    "start_time": "2022-05-24T17:49:42.080Z"
   },
   {
    "duration": 0,
    "start_time": "2022-05-24T17:49:42.102Z"
   },
   {
    "duration": 0,
    "start_time": "2022-05-24T17:49:42.103Z"
   },
   {
    "duration": 0,
    "start_time": "2022-05-24T17:49:42.104Z"
   },
   {
    "duration": 0,
    "start_time": "2022-05-24T17:49:42.106Z"
   },
   {
    "duration": 0,
    "start_time": "2022-05-24T17:49:42.107Z"
   },
   {
    "duration": 0,
    "start_time": "2022-05-24T17:49:42.109Z"
   },
   {
    "duration": 0,
    "start_time": "2022-05-24T17:49:42.111Z"
   },
   {
    "duration": 0,
    "start_time": "2022-05-24T17:49:42.112Z"
   },
   {
    "duration": 0,
    "start_time": "2022-05-24T17:49:42.113Z"
   },
   {
    "duration": 0,
    "start_time": "2022-05-24T17:49:42.115Z"
   },
   {
    "duration": 1,
    "start_time": "2022-05-24T17:49:42.116Z"
   },
   {
    "duration": 0,
    "start_time": "2022-05-24T17:49:42.118Z"
   },
   {
    "duration": 0,
    "start_time": "2022-05-24T17:49:42.119Z"
   },
   {
    "duration": 0,
    "start_time": "2022-05-24T17:49:42.121Z"
   },
   {
    "duration": 0,
    "start_time": "2022-05-24T17:49:42.122Z"
   },
   {
    "duration": 0,
    "start_time": "2022-05-24T17:49:42.124Z"
   },
   {
    "duration": 0,
    "start_time": "2022-05-24T17:49:42.127Z"
   },
   {
    "duration": 1,
    "start_time": "2022-05-24T17:49:42.127Z"
   },
   {
    "duration": 0,
    "start_time": "2022-05-24T17:49:42.129Z"
   },
   {
    "duration": 0,
    "start_time": "2022-05-24T17:49:42.130Z"
   },
   {
    "duration": 10,
    "start_time": "2022-05-24T17:50:50.928Z"
   },
   {
    "duration": 11,
    "start_time": "2022-05-24T17:51:13.253Z"
   },
   {
    "duration": 10,
    "start_time": "2022-05-24T17:51:29.840Z"
   },
   {
    "duration": 9,
    "start_time": "2022-05-24T17:51:50.584Z"
   },
   {
    "duration": 10,
    "start_time": "2022-05-24T17:51:55.356Z"
   },
   {
    "duration": 9,
    "start_time": "2022-05-24T17:52:15.421Z"
   },
   {
    "duration": 211,
    "start_time": "2022-05-24T17:52:18.163Z"
   },
   {
    "duration": 266,
    "start_time": "2022-05-24T17:52:41.114Z"
   },
   {
    "duration": 239,
    "start_time": "2022-05-24T17:54:18.348Z"
   },
   {
    "duration": 233,
    "start_time": "2022-05-24T17:54:27.490Z"
   },
   {
    "duration": 223,
    "start_time": "2022-05-24T17:54:40.389Z"
   },
   {
    "duration": 92,
    "start_time": "2022-05-24T17:55:07.678Z"
   },
   {
    "duration": 216,
    "start_time": "2022-05-24T17:55:19.674Z"
   },
   {
    "duration": 225,
    "start_time": "2022-05-24T17:55:53.602Z"
   },
   {
    "duration": 372,
    "start_time": "2022-05-24T17:56:09.623Z"
   },
   {
    "duration": 227,
    "start_time": "2022-05-24T17:56:35.555Z"
   },
   {
    "duration": 60,
    "start_time": "2022-05-27T12:20:03.721Z"
   },
   {
    "duration": 1389,
    "start_time": "2022-05-27T12:20:09.910Z"
   },
   {
    "duration": 97,
    "start_time": "2022-05-27T12:20:11.301Z"
   },
   {
    "duration": 22,
    "start_time": "2022-05-27T12:20:11.400Z"
   },
   {
    "duration": 15,
    "start_time": "2022-05-27T12:20:11.425Z"
   },
   {
    "duration": 4,
    "start_time": "2022-05-27T12:20:11.441Z"
   },
   {
    "duration": 6,
    "start_time": "2022-05-27T12:20:11.447Z"
   },
   {
    "duration": 6,
    "start_time": "2022-05-27T12:20:11.454Z"
   },
   {
    "duration": 37,
    "start_time": "2022-05-27T12:20:11.461Z"
   },
   {
    "duration": 10,
    "start_time": "2022-05-27T12:20:11.500Z"
   },
   {
    "duration": 5,
    "start_time": "2022-05-27T12:20:11.513Z"
   },
   {
    "duration": 8,
    "start_time": "2022-05-27T12:20:11.520Z"
   },
   {
    "duration": 9,
    "start_time": "2022-05-27T12:20:11.530Z"
   },
   {
    "duration": 7,
    "start_time": "2022-05-27T12:20:11.541Z"
   },
   {
    "duration": 8,
    "start_time": "2022-05-27T12:20:11.549Z"
   },
   {
    "duration": 38,
    "start_time": "2022-05-27T12:20:11.558Z"
   },
   {
    "duration": 11,
    "start_time": "2022-05-27T12:20:11.598Z"
   },
   {
    "duration": 7,
    "start_time": "2022-05-27T12:20:11.611Z"
   },
   {
    "duration": 16,
    "start_time": "2022-05-27T12:20:11.619Z"
   },
   {
    "duration": 2,
    "start_time": "2022-05-27T12:20:11.637Z"
   },
   {
    "duration": 25,
    "start_time": "2022-05-27T12:20:11.641Z"
   },
   {
    "duration": 269,
    "start_time": "2022-05-27T12:20:11.667Z"
   },
   {
    "duration": 23,
    "start_time": "2022-05-27T12:20:11.937Z"
   },
   {
    "duration": 288,
    "start_time": "2022-05-27T12:20:11.962Z"
   },
   {
    "duration": 10,
    "start_time": "2022-05-27T12:20:12.252Z"
   },
   {
    "duration": 5,
    "start_time": "2022-05-27T12:20:12.264Z"
   },
   {
    "duration": 26,
    "start_time": "2022-05-27T12:20:12.271Z"
   },
   {
    "duration": 10,
    "start_time": "2022-05-27T12:20:12.298Z"
   },
   {
    "duration": 101,
    "start_time": "2022-05-27T12:20:12.312Z"
   },
   {
    "duration": 23,
    "start_time": "2022-05-27T12:20:12.415Z"
   },
   {
    "duration": 3,
    "start_time": "2022-05-27T12:20:12.440Z"
   },
   {
    "duration": 262,
    "start_time": "2022-05-27T12:20:12.445Z"
   },
   {
    "duration": 5,
    "start_time": "2022-05-27T12:20:12.708Z"
   },
   {
    "duration": 28,
    "start_time": "2022-05-27T12:20:12.715Z"
   },
   {
    "duration": 13,
    "start_time": "2022-05-27T12:20:12.744Z"
   },
   {
    "duration": 5,
    "start_time": "2022-05-27T12:20:12.758Z"
   },
   {
    "duration": 11,
    "start_time": "2022-05-27T12:20:12.765Z"
   },
   {
    "duration": 23,
    "start_time": "2022-05-27T12:20:12.778Z"
   },
   {
    "duration": 20,
    "start_time": "2022-05-27T12:20:12.803Z"
   },
   {
    "duration": 213,
    "start_time": "2022-05-27T12:20:12.825Z"
   },
   {
    "duration": 9,
    "start_time": "2022-05-27T12:20:13.040Z"
   },
   {
    "duration": 11,
    "start_time": "2022-05-27T12:20:13.050Z"
   },
   {
    "duration": 11,
    "start_time": "2022-05-27T12:20:13.063Z"
   },
   {
    "duration": 9,
    "start_time": "2022-05-27T12:20:13.095Z"
   },
   {
    "duration": 66,
    "start_time": "2022-05-27T12:20:13.106Z"
   },
   {
    "duration": 0,
    "start_time": "2022-05-27T12:20:13.174Z"
   },
   {
    "duration": 0,
    "start_time": "2022-05-27T12:20:13.175Z"
   },
   {
    "duration": 0,
    "start_time": "2022-05-27T12:20:13.176Z"
   },
   {
    "duration": 0,
    "start_time": "2022-05-27T12:20:13.177Z"
   },
   {
    "duration": 0,
    "start_time": "2022-05-27T12:20:13.195Z"
   },
   {
    "duration": 0,
    "start_time": "2022-05-27T12:20:13.196Z"
   },
   {
    "duration": 0,
    "start_time": "2022-05-27T12:20:13.198Z"
   },
   {
    "duration": 0,
    "start_time": "2022-05-27T12:20:13.199Z"
   },
   {
    "duration": 0,
    "start_time": "2022-05-27T12:20:13.200Z"
   },
   {
    "duration": 0,
    "start_time": "2022-05-27T12:20:13.200Z"
   },
   {
    "duration": 0,
    "start_time": "2022-05-27T12:20:13.201Z"
   },
   {
    "duration": 0,
    "start_time": "2022-05-27T12:20:13.202Z"
   },
   {
    "duration": 0,
    "start_time": "2022-05-27T12:20:13.203Z"
   },
   {
    "duration": 0,
    "start_time": "2022-05-27T12:20:13.205Z"
   },
   {
    "duration": 0,
    "start_time": "2022-05-27T12:20:13.207Z"
   },
   {
    "duration": 0,
    "start_time": "2022-05-27T12:20:13.207Z"
   },
   {
    "duration": 0,
    "start_time": "2022-05-27T12:20:13.208Z"
   },
   {
    "duration": 0,
    "start_time": "2022-05-27T12:20:13.209Z"
   },
   {
    "duration": 0,
    "start_time": "2022-05-27T12:20:13.210Z"
   },
   {
    "duration": 0,
    "start_time": "2022-05-27T12:20:13.212Z"
   },
   {
    "duration": 0,
    "start_time": "2022-05-27T12:20:13.213Z"
   },
   {
    "duration": 0,
    "start_time": "2022-05-27T12:20:13.214Z"
   },
   {
    "duration": 0,
    "start_time": "2022-05-27T12:20:13.215Z"
   },
   {
    "duration": 0,
    "start_time": "2022-05-27T12:20:13.216Z"
   },
   {
    "duration": 0,
    "start_time": "2022-05-27T12:20:13.218Z"
   },
   {
    "duration": 0,
    "start_time": "2022-05-27T12:20:13.219Z"
   },
   {
    "duration": 10,
    "start_time": "2022-05-27T12:21:30.724Z"
   },
   {
    "duration": 194,
    "start_time": "2022-05-27T12:24:53.243Z"
   },
   {
    "duration": 339,
    "start_time": "2022-05-27T12:25:58.796Z"
   },
   {
    "duration": 220,
    "start_time": "2022-05-27T12:26:27.958Z"
   },
   {
    "duration": 220,
    "start_time": "2022-05-27T12:26:31.638Z"
   },
   {
    "duration": 207,
    "start_time": "2022-05-27T12:26:49.864Z"
   },
   {
    "duration": 1231,
    "start_time": "2022-05-27T12:27:00.611Z"
   },
   {
    "duration": 56,
    "start_time": "2022-05-27T12:27:01.845Z"
   },
   {
    "duration": 23,
    "start_time": "2022-05-27T12:27:01.903Z"
   },
   {
    "duration": 27,
    "start_time": "2022-05-27T12:27:01.927Z"
   },
   {
    "duration": 27,
    "start_time": "2022-05-27T12:27:01.956Z"
   },
   {
    "duration": 42,
    "start_time": "2022-05-27T12:27:01.985Z"
   },
   {
    "duration": 8,
    "start_time": "2022-05-27T12:27:02.029Z"
   },
   {
    "duration": 15,
    "start_time": "2022-05-27T12:27:02.038Z"
   },
   {
    "duration": 12,
    "start_time": "2022-05-27T12:27:02.054Z"
   },
   {
    "duration": 6,
    "start_time": "2022-05-27T12:27:02.068Z"
   },
   {
    "duration": 10,
    "start_time": "2022-05-27T12:27:02.075Z"
   },
   {
    "duration": 25,
    "start_time": "2022-05-27T12:27:02.087Z"
   },
   {
    "duration": 14,
    "start_time": "2022-05-27T12:27:02.113Z"
   },
   {
    "duration": 15,
    "start_time": "2022-05-27T12:27:02.130Z"
   },
   {
    "duration": 12,
    "start_time": "2022-05-27T12:27:02.146Z"
   },
   {
    "duration": 17,
    "start_time": "2022-05-27T12:27:02.160Z"
   },
   {
    "duration": 11,
    "start_time": "2022-05-27T12:27:02.179Z"
   },
   {
    "duration": 20,
    "start_time": "2022-05-27T12:27:02.192Z"
   },
   {
    "duration": 4,
    "start_time": "2022-05-27T12:27:02.214Z"
   },
   {
    "duration": 29,
    "start_time": "2022-05-27T12:27:02.220Z"
   },
   {
    "duration": 256,
    "start_time": "2022-05-27T12:27:02.251Z"
   },
   {
    "duration": 31,
    "start_time": "2022-05-27T12:27:02.509Z"
   },
   {
    "duration": 290,
    "start_time": "2022-05-27T12:27:02.542Z"
   },
   {
    "duration": 10,
    "start_time": "2022-05-27T12:27:02.833Z"
   },
   {
    "duration": 5,
    "start_time": "2022-05-27T12:27:02.845Z"
   },
   {
    "duration": 7,
    "start_time": "2022-05-27T12:27:02.852Z"
   },
   {
    "duration": 38,
    "start_time": "2022-05-27T12:27:02.861Z"
   },
   {
    "duration": 8,
    "start_time": "2022-05-27T12:27:02.901Z"
   },
   {
    "duration": 109,
    "start_time": "2022-05-27T12:27:02.911Z"
   },
   {
    "duration": 3,
    "start_time": "2022-05-27T12:27:03.022Z"
   },
   {
    "duration": 246,
    "start_time": "2022-05-27T12:27:03.027Z"
   },
   {
    "duration": 5,
    "start_time": "2022-05-27T12:27:03.275Z"
   },
   {
    "duration": 33,
    "start_time": "2022-05-27T12:27:03.294Z"
   },
   {
    "duration": 47,
    "start_time": "2022-05-27T12:27:03.328Z"
   },
   {
    "duration": 22,
    "start_time": "2022-05-27T12:27:03.376Z"
   },
   {
    "duration": 23,
    "start_time": "2022-05-27T12:27:03.400Z"
   },
   {
    "duration": 39,
    "start_time": "2022-05-27T12:27:03.425Z"
   },
   {
    "duration": 27,
    "start_time": "2022-05-27T12:27:03.466Z"
   },
   {
    "duration": 227,
    "start_time": "2022-05-27T12:27:03.495Z"
   },
   {
    "duration": 11,
    "start_time": "2022-05-27T12:27:03.724Z"
   },
   {
    "duration": 9,
    "start_time": "2022-05-27T12:27:03.740Z"
   },
   {
    "duration": 16,
    "start_time": "2022-05-27T12:27:03.750Z"
   },
   {
    "duration": 33,
    "start_time": "2022-05-27T12:27:03.768Z"
   },
   {
    "duration": 11,
    "start_time": "2022-05-27T12:27:03.803Z"
   },
   {
    "duration": 219,
    "start_time": "2022-05-27T12:27:03.816Z"
   },
   {
    "duration": 151,
    "start_time": "2022-05-27T12:27:04.037Z"
   },
   {
    "duration": 6,
    "start_time": "2022-05-27T12:27:04.195Z"
   },
   {
    "duration": 157,
    "start_time": "2022-05-27T12:27:04.203Z"
   },
   {
    "duration": 6,
    "start_time": "2022-05-27T12:27:04.362Z"
   },
   {
    "duration": 43,
    "start_time": "2022-05-27T12:27:04.371Z"
   },
   {
    "duration": 41,
    "start_time": "2022-05-27T12:27:04.416Z"
   },
   {
    "duration": 13,
    "start_time": "2022-05-27T12:27:04.458Z"
   },
   {
    "duration": 31,
    "start_time": "2022-05-27T12:27:04.493Z"
   },
   {
    "duration": 11,
    "start_time": "2022-05-27T12:27:04.525Z"
   },
   {
    "duration": 33,
    "start_time": "2022-05-27T12:27:04.538Z"
   },
   {
    "duration": 30,
    "start_time": "2022-05-27T12:27:04.573Z"
   },
   {
    "duration": 17,
    "start_time": "2022-05-27T12:27:04.605Z"
   },
   {
    "duration": 20,
    "start_time": "2022-05-27T12:27:04.624Z"
   },
   {
    "duration": 22,
    "start_time": "2022-05-27T12:27:04.646Z"
   },
   {
    "duration": 35,
    "start_time": "2022-05-27T12:27:04.670Z"
   },
   {
    "duration": 204,
    "start_time": "2022-05-27T12:27:04.706Z"
   },
   {
    "duration": 14,
    "start_time": "2022-05-27T12:27:04.912Z"
   },
   {
    "duration": 222,
    "start_time": "2022-05-27T12:27:04.928Z"
   },
   {
    "duration": 13,
    "start_time": "2022-05-27T12:27:05.152Z"
   },
   {
    "duration": 213,
    "start_time": "2022-05-27T12:27:05.167Z"
   },
   {
    "duration": 5,
    "start_time": "2022-05-27T12:27:05.382Z"
   },
   {
    "duration": 10,
    "start_time": "2022-05-27T12:27:05.389Z"
   },
   {
    "duration": 10,
    "start_time": "2022-05-27T12:27:05.401Z"
   },
   {
    "duration": 7,
    "start_time": "2022-05-27T12:27:05.413Z"
   },
   {
    "duration": 8,
    "start_time": "2022-05-27T12:27:05.422Z"
   },
   {
    "duration": 136,
    "start_time": "2022-05-27T12:39:31.501Z"
   },
   {
    "duration": 139,
    "start_time": "2022-05-27T12:39:44.049Z"
   },
   {
    "duration": 137,
    "start_time": "2022-05-27T12:40:03.643Z"
   },
   {
    "duration": 371,
    "start_time": "2022-05-27T12:40:20.338Z"
   },
   {
    "duration": 390,
    "start_time": "2022-05-27T12:40:30.108Z"
   },
   {
    "duration": 287,
    "start_time": "2022-05-27T12:40:35.187Z"
   },
   {
    "duration": 313,
    "start_time": "2022-05-27T12:42:10.742Z"
   },
   {
    "duration": 236,
    "start_time": "2022-05-27T12:44:12.522Z"
   },
   {
    "duration": 16,
    "start_time": "2022-05-27T12:47:55.916Z"
   },
   {
    "duration": 16,
    "start_time": "2022-05-27T12:48:50.245Z"
   },
   {
    "duration": 16,
    "start_time": "2022-05-27T12:49:45.761Z"
   },
   {
    "duration": 14,
    "start_time": "2022-05-27T12:52:13.737Z"
   },
   {
    "duration": 21,
    "start_time": "2022-05-27T12:52:21.982Z"
   },
   {
    "duration": 15,
    "start_time": "2022-05-27T12:58:08.117Z"
   },
   {
    "duration": 103,
    "start_time": "2022-05-27T12:58:54.491Z"
   },
   {
    "duration": 20,
    "start_time": "2022-05-27T13:00:09.850Z"
   },
   {
    "duration": 283,
    "start_time": "2022-05-27T13:00:18.352Z"
   },
   {
    "duration": 344,
    "start_time": "2022-05-27T13:00:26.732Z"
   },
   {
    "duration": 11,
    "start_time": "2022-05-27T13:00:38.640Z"
   },
   {
    "duration": 898,
    "start_time": "2022-05-27T13:14:54.131Z"
   },
   {
    "duration": 170,
    "start_time": "2022-05-27T13:15:27.912Z"
   },
   {
    "duration": 174,
    "start_time": "2022-05-27T13:16:54.267Z"
   },
   {
    "duration": 171,
    "start_time": "2022-05-27T13:18:01.197Z"
   },
   {
    "duration": 4,
    "start_time": "2022-05-27T13:22:28.633Z"
   },
   {
    "duration": 4,
    "start_time": "2022-05-27T13:22:29.608Z"
   },
   {
    "duration": 5,
    "start_time": "2022-05-27T13:23:28.055Z"
   },
   {
    "duration": 4,
    "start_time": "2022-05-27T13:23:28.616Z"
   },
   {
    "duration": 4,
    "start_time": "2022-05-27T13:23:29.591Z"
   },
   {
    "duration": 1140,
    "start_time": "2022-05-27T13:24:35.355Z"
   },
   {
    "duration": 54,
    "start_time": "2022-05-27T13:24:36.497Z"
   },
   {
    "duration": 30,
    "start_time": "2022-05-27T13:24:36.553Z"
   },
   {
    "duration": 23,
    "start_time": "2022-05-27T13:24:36.585Z"
   },
   {
    "duration": 4,
    "start_time": "2022-05-27T13:24:36.611Z"
   },
   {
    "duration": 7,
    "start_time": "2022-05-27T13:24:36.616Z"
   },
   {
    "duration": 8,
    "start_time": "2022-05-27T13:24:36.625Z"
   },
   {
    "duration": 12,
    "start_time": "2022-05-27T13:24:36.635Z"
   },
   {
    "duration": 10,
    "start_time": "2022-05-27T13:24:36.649Z"
   },
   {
    "duration": 36,
    "start_time": "2022-05-27T13:24:36.660Z"
   },
   {
    "duration": 8,
    "start_time": "2022-05-27T13:24:36.698Z"
   },
   {
    "duration": 8,
    "start_time": "2022-05-27T13:24:36.708Z"
   },
   {
    "duration": 10,
    "start_time": "2022-05-27T13:24:36.718Z"
   },
   {
    "duration": 8,
    "start_time": "2022-05-27T13:24:36.732Z"
   },
   {
    "duration": 9,
    "start_time": "2022-05-27T13:24:36.741Z"
   },
   {
    "duration": 11,
    "start_time": "2022-05-27T13:24:36.752Z"
   },
   {
    "duration": 8,
    "start_time": "2022-05-27T13:24:36.764Z"
   },
   {
    "duration": 14,
    "start_time": "2022-05-27T13:24:36.795Z"
   },
   {
    "duration": 2,
    "start_time": "2022-05-27T13:24:36.811Z"
   },
   {
    "duration": 25,
    "start_time": "2022-05-27T13:24:36.815Z"
   },
   {
    "duration": 236,
    "start_time": "2022-05-27T13:24:36.842Z"
   },
   {
    "duration": 29,
    "start_time": "2022-05-27T13:24:37.080Z"
   },
   {
    "duration": 286,
    "start_time": "2022-05-27T13:24:37.110Z"
   },
   {
    "duration": 9,
    "start_time": "2022-05-27T13:24:37.398Z"
   },
   {
    "duration": 5,
    "start_time": "2022-05-27T13:24:37.409Z"
   },
   {
    "duration": 12,
    "start_time": "2022-05-27T13:24:37.415Z"
   },
   {
    "duration": 13,
    "start_time": "2022-05-27T13:24:37.429Z"
   },
   {
    "duration": 8,
    "start_time": "2022-05-27T13:24:37.443Z"
   },
   {
    "duration": 110,
    "start_time": "2022-05-27T13:24:37.453Z"
   },
   {
    "duration": 2,
    "start_time": "2022-05-27T13:24:37.565Z"
   },
   {
    "duration": 240,
    "start_time": "2022-05-27T13:24:37.569Z"
   },
   {
    "duration": 5,
    "start_time": "2022-05-27T13:24:37.810Z"
   },
   {
    "duration": 37,
    "start_time": "2022-05-27T13:24:37.817Z"
   },
   {
    "duration": 17,
    "start_time": "2022-05-27T13:24:37.856Z"
   },
   {
    "duration": 13,
    "start_time": "2022-05-27T13:24:37.875Z"
   },
   {
    "duration": 11,
    "start_time": "2022-05-27T13:24:37.890Z"
   },
   {
    "duration": 26,
    "start_time": "2022-05-27T13:24:37.903Z"
   },
   {
    "duration": 21,
    "start_time": "2022-05-27T13:24:37.931Z"
   },
   {
    "duration": 254,
    "start_time": "2022-05-27T13:24:37.953Z"
   },
   {
    "duration": 14,
    "start_time": "2022-05-27T13:24:38.209Z"
   },
   {
    "duration": 14,
    "start_time": "2022-05-27T13:24:38.230Z"
   },
   {
    "duration": 13,
    "start_time": "2022-05-27T13:24:38.246Z"
   },
   {
    "duration": 36,
    "start_time": "2022-05-27T13:24:38.262Z"
   },
   {
    "duration": 14,
    "start_time": "2022-05-27T13:24:38.301Z"
   },
   {
    "duration": 238,
    "start_time": "2022-05-27T13:24:38.317Z"
   },
   {
    "duration": 337,
    "start_time": "2022-05-27T13:24:38.557Z"
   },
   {
    "duration": 9,
    "start_time": "2022-05-27T13:24:38.896Z"
   },
   {
    "duration": 12,
    "start_time": "2022-05-27T13:24:38.908Z"
   },
   {
    "duration": 395,
    "start_time": "2022-05-27T13:24:38.923Z"
   },
   {
    "duration": 263,
    "start_time": "2022-05-27T13:24:39.320Z"
   },
   {
    "duration": 15,
    "start_time": "2022-05-27T13:24:39.594Z"
   },
   {
    "duration": 16,
    "start_time": "2022-05-27T13:24:39.611Z"
   },
   {
    "duration": 28,
    "start_time": "2022-05-27T13:24:39.629Z"
   },
   {
    "duration": 43,
    "start_time": "2022-05-27T13:24:39.659Z"
   },
   {
    "duration": 35,
    "start_time": "2022-05-27T13:24:39.704Z"
   },
   {
    "duration": 10,
    "start_time": "2022-05-27T13:24:39.741Z"
   },
   {
    "duration": 51,
    "start_time": "2022-05-27T13:24:39.752Z"
   },
   {
    "duration": 11,
    "start_time": "2022-05-27T13:24:39.805Z"
   },
   {
    "duration": 19,
    "start_time": "2022-05-27T13:24:39.818Z"
   },
   {
    "duration": 19,
    "start_time": "2022-05-27T13:24:39.838Z"
   },
   {
    "duration": 46,
    "start_time": "2022-05-27T13:24:39.859Z"
   },
   {
    "duration": 18,
    "start_time": "2022-05-27T13:24:39.907Z"
   },
   {
    "duration": 190,
    "start_time": "2022-05-27T13:24:39.927Z"
   },
   {
    "duration": 14,
    "start_time": "2022-05-27T13:24:40.118Z"
   },
   {
    "duration": 185,
    "start_time": "2022-05-27T13:24:40.134Z"
   },
   {
    "duration": 15,
    "start_time": "2022-05-27T13:24:40.321Z"
   },
   {
    "duration": 189,
    "start_time": "2022-05-27T13:24:40.337Z"
   },
   {
    "duration": 4,
    "start_time": "2022-05-27T13:24:40.528Z"
   },
   {
    "duration": 10,
    "start_time": "2022-05-27T13:24:40.534Z"
   },
   {
    "duration": 10,
    "start_time": "2022-05-27T13:24:40.545Z"
   },
   {
    "duration": 7,
    "start_time": "2022-05-27T13:24:40.556Z"
   },
   {
    "duration": 6,
    "start_time": "2022-05-27T13:24:40.565Z"
   },
   {
    "duration": 1305,
    "start_time": "2022-05-27T14:24:03.554Z"
   },
   {
    "duration": 95,
    "start_time": "2022-05-27T14:24:04.861Z"
   },
   {
    "duration": 21,
    "start_time": "2022-05-27T14:24:04.958Z"
   },
   {
    "duration": 14,
    "start_time": "2022-05-27T14:24:04.981Z"
   },
   {
    "duration": 4,
    "start_time": "2022-05-27T14:24:04.997Z"
   },
   {
    "duration": 12,
    "start_time": "2022-05-27T14:24:05.003Z"
   },
   {
    "duration": 12,
    "start_time": "2022-05-27T14:24:05.016Z"
   },
   {
    "duration": 33,
    "start_time": "2022-05-27T14:24:05.030Z"
   },
   {
    "duration": 14,
    "start_time": "2022-05-27T14:24:05.064Z"
   },
   {
    "duration": 5,
    "start_time": "2022-05-27T14:24:05.081Z"
   },
   {
    "duration": 12,
    "start_time": "2022-05-27T14:24:05.087Z"
   },
   {
    "duration": 8,
    "start_time": "2022-05-27T14:24:05.100Z"
   },
   {
    "duration": 11,
    "start_time": "2022-05-27T14:24:05.110Z"
   },
   {
    "duration": 14,
    "start_time": "2022-05-27T14:24:05.123Z"
   },
   {
    "duration": 13,
    "start_time": "2022-05-27T14:24:05.139Z"
   },
   {
    "duration": 13,
    "start_time": "2022-05-27T14:24:05.153Z"
   },
   {
    "duration": 9,
    "start_time": "2022-05-27T14:24:05.168Z"
   },
   {
    "duration": 16,
    "start_time": "2022-05-27T14:24:05.179Z"
   },
   {
    "duration": 3,
    "start_time": "2022-05-27T14:24:05.197Z"
   },
   {
    "duration": 31,
    "start_time": "2022-05-27T14:24:05.202Z"
   },
   {
    "duration": 230,
    "start_time": "2022-05-27T14:24:05.234Z"
   },
   {
    "duration": 23,
    "start_time": "2022-05-27T14:24:05.466Z"
   },
   {
    "duration": 292,
    "start_time": "2022-05-27T14:24:05.491Z"
   },
   {
    "duration": 8,
    "start_time": "2022-05-27T14:24:05.785Z"
   },
   {
    "duration": 12,
    "start_time": "2022-05-27T14:24:05.795Z"
   },
   {
    "duration": 11,
    "start_time": "2022-05-27T14:24:05.809Z"
   },
   {
    "duration": 21,
    "start_time": "2022-05-27T14:24:05.822Z"
   },
   {
    "duration": 101,
    "start_time": "2022-05-27T14:24:05.847Z"
   },
   {
    "duration": 18,
    "start_time": "2022-05-27T14:24:05.950Z"
   },
   {
    "duration": 5,
    "start_time": "2022-05-27T14:24:05.969Z"
   },
   {
    "duration": 240,
    "start_time": "2022-05-27T14:24:05.975Z"
   },
   {
    "duration": 5,
    "start_time": "2022-05-27T14:24:06.217Z"
   },
   {
    "duration": 28,
    "start_time": "2022-05-27T14:24:06.224Z"
   },
   {
    "duration": 12,
    "start_time": "2022-05-27T14:24:06.259Z"
   },
   {
    "duration": 2,
    "start_time": "2022-05-27T14:24:06.273Z"
   },
   {
    "duration": 27,
    "start_time": "2022-05-27T14:24:06.277Z"
   },
   {
    "duration": 18,
    "start_time": "2022-05-27T14:24:06.306Z"
   },
   {
    "duration": 17,
    "start_time": "2022-05-27T14:24:06.326Z"
   },
   {
    "duration": 189,
    "start_time": "2022-05-27T14:24:06.345Z"
   },
   {
    "duration": 9,
    "start_time": "2022-05-27T14:24:06.536Z"
   },
   {
    "duration": 11,
    "start_time": "2022-05-27T14:24:06.558Z"
   },
   {
    "duration": 13,
    "start_time": "2022-05-27T14:24:06.570Z"
   },
   {
    "duration": 13,
    "start_time": "2022-05-27T14:24:06.585Z"
   },
   {
    "duration": 8,
    "start_time": "2022-05-27T14:24:06.600Z"
   },
   {
    "duration": 214,
    "start_time": "2022-05-27T14:24:06.610Z"
   },
   {
    "duration": 281,
    "start_time": "2022-05-27T14:24:06.826Z"
   },
   {
    "duration": 5,
    "start_time": "2022-05-27T14:24:07.109Z"
   },
   {
    "duration": 30,
    "start_time": "2022-05-27T14:24:07.116Z"
   },
   {
    "duration": 327,
    "start_time": "2022-05-27T14:24:07.148Z"
   },
   {
    "duration": 262,
    "start_time": "2022-05-27T14:24:07.476Z"
   },
   {
    "duration": 32,
    "start_time": "2022-05-27T14:24:07.740Z"
   },
   {
    "duration": 15,
    "start_time": "2022-05-27T14:24:07.773Z"
   },
   {
    "duration": 27,
    "start_time": "2022-05-27T14:24:07.789Z"
   },
   {
    "duration": 12,
    "start_time": "2022-05-27T14:24:07.818Z"
   },
   {
    "duration": 48,
    "start_time": "2022-05-27T14:24:07.831Z"
   },
   {
    "duration": 11,
    "start_time": "2022-05-27T14:24:07.880Z"
   },
   {
    "duration": 31,
    "start_time": "2022-05-27T14:24:07.892Z"
   },
   {
    "duration": 11,
    "start_time": "2022-05-27T14:24:07.924Z"
   },
   {
    "duration": 36,
    "start_time": "2022-05-27T14:24:07.937Z"
   },
   {
    "duration": 31,
    "start_time": "2022-05-27T14:24:07.975Z"
   },
   {
    "duration": 18,
    "start_time": "2022-05-27T14:24:08.008Z"
   },
   {
    "duration": 15,
    "start_time": "2022-05-27T14:24:08.028Z"
   },
   {
    "duration": 156,
    "start_time": "2022-05-27T14:24:08.058Z"
   },
   {
    "duration": 14,
    "start_time": "2022-05-27T14:24:08.216Z"
   },
   {
    "duration": 198,
    "start_time": "2022-05-27T14:24:08.232Z"
   },
   {
    "duration": 14,
    "start_time": "2022-05-27T14:24:08.432Z"
   },
   {
    "duration": 175,
    "start_time": "2022-05-27T14:24:08.458Z"
   },
   {
    "duration": 4,
    "start_time": "2022-05-27T14:24:08.635Z"
   },
   {
    "duration": 6,
    "start_time": "2022-05-27T14:24:08.640Z"
   },
   {
    "duration": 12,
    "start_time": "2022-05-27T14:24:08.648Z"
   },
   {
    "duration": 4,
    "start_time": "2022-05-27T14:24:08.662Z"
   },
   {
    "duration": 8,
    "start_time": "2022-05-27T14:24:08.668Z"
   },
   {
    "duration": 52,
    "start_time": "2022-05-27T14:24:55.663Z"
   },
   {
    "duration": 505,
    "start_time": "2022-05-27T14:25:05.951Z"
   },
   {
    "duration": 51,
    "start_time": "2022-05-27T14:25:26.928Z"
   },
   {
    "duration": 46,
    "start_time": "2022-05-27T14:27:30.168Z"
   },
   {
    "duration": 52,
    "start_time": "2022-05-27T14:27:45.832Z"
   },
   {
    "duration": 259,
    "start_time": "2022-05-27T14:28:24.146Z"
   },
   {
    "duration": 165,
    "start_time": "2022-05-27T14:28:31.252Z"
   },
   {
    "duration": 89,
    "start_time": "2022-05-27T14:30:22.338Z"
   },
   {
    "duration": 43,
    "start_time": "2022-05-27T14:33:14.181Z"
   },
   {
    "duration": 39,
    "start_time": "2022-05-27T14:34:38.332Z"
   },
   {
    "duration": 54,
    "start_time": "2022-05-27T14:41:16.526Z"
   },
   {
    "duration": 56,
    "start_time": "2022-05-27T14:54:00.935Z"
   },
   {
    "duration": 1189,
    "start_time": "2022-05-27T14:54:28.244Z"
   },
   {
    "duration": 443,
    "start_time": "2022-05-27T14:54:29.435Z"
   },
   {
    "duration": 19,
    "start_time": "2022-05-27T14:54:29.880Z"
   },
   {
    "duration": 13,
    "start_time": "2022-05-27T14:54:29.902Z"
   },
   {
    "duration": 4,
    "start_time": "2022-05-27T14:54:29.917Z"
   },
   {
    "duration": 6,
    "start_time": "2022-05-27T14:54:29.922Z"
   },
   {
    "duration": 7,
    "start_time": "2022-05-27T14:54:29.930Z"
   },
   {
    "duration": 25,
    "start_time": "2022-05-27T14:54:29.938Z"
   },
   {
    "duration": 9,
    "start_time": "2022-05-27T14:54:29.964Z"
   },
   {
    "duration": 5,
    "start_time": "2022-05-27T14:54:29.975Z"
   },
   {
    "duration": 8,
    "start_time": "2022-05-27T14:54:29.981Z"
   },
   {
    "duration": 5,
    "start_time": "2022-05-27T14:54:29.991Z"
   },
   {
    "duration": 10,
    "start_time": "2022-05-27T14:54:29.998Z"
   },
   {
    "duration": 12,
    "start_time": "2022-05-27T14:54:30.009Z"
   },
   {
    "duration": 11,
    "start_time": "2022-05-27T14:54:30.022Z"
   },
   {
    "duration": 29,
    "start_time": "2022-05-27T14:54:30.035Z"
   },
   {
    "duration": 10,
    "start_time": "2022-05-27T14:54:30.066Z"
   },
   {
    "duration": 14,
    "start_time": "2022-05-27T14:54:30.078Z"
   },
   {
    "duration": 2,
    "start_time": "2022-05-27T14:54:30.094Z"
   },
   {
    "duration": 24,
    "start_time": "2022-05-27T14:54:30.097Z"
   },
   {
    "duration": 225,
    "start_time": "2022-05-27T14:54:30.123Z"
   },
   {
    "duration": 28,
    "start_time": "2022-05-27T14:54:30.349Z"
   },
   {
    "duration": 244,
    "start_time": "2022-05-27T14:54:30.378Z"
   },
   {
    "duration": 10,
    "start_time": "2022-05-27T14:54:30.624Z"
   },
   {
    "duration": 11,
    "start_time": "2022-05-27T14:54:30.635Z"
   },
   {
    "duration": 19,
    "start_time": "2022-05-27T14:54:30.648Z"
   },
   {
    "duration": 23,
    "start_time": "2022-05-27T14:54:30.669Z"
   },
   {
    "duration": 90,
    "start_time": "2022-05-27T14:54:30.695Z"
   },
   {
    "duration": 26,
    "start_time": "2022-05-27T14:54:30.787Z"
   },
   {
    "duration": 5,
    "start_time": "2022-05-27T14:54:30.815Z"
   },
   {
    "duration": 215,
    "start_time": "2022-05-27T14:54:30.822Z"
   },
   {
    "duration": 5,
    "start_time": "2022-05-27T14:54:31.039Z"
   },
   {
    "duration": 36,
    "start_time": "2022-05-27T14:54:31.046Z"
   },
   {
    "duration": 17,
    "start_time": "2022-05-27T14:54:31.096Z"
   },
   {
    "duration": 12,
    "start_time": "2022-05-27T14:54:31.114Z"
   },
   {
    "duration": 7,
    "start_time": "2022-05-27T14:54:31.128Z"
   },
   {
    "duration": 15,
    "start_time": "2022-05-27T14:54:31.137Z"
   },
   {
    "duration": 17,
    "start_time": "2022-05-27T14:54:31.153Z"
   },
   {
    "duration": 174,
    "start_time": "2022-05-27T14:54:31.171Z"
   },
   {
    "duration": 16,
    "start_time": "2022-05-27T14:54:31.347Z"
   },
   {
    "duration": 12,
    "start_time": "2022-05-27T14:54:31.364Z"
   },
   {
    "duration": 11,
    "start_time": "2022-05-27T14:54:31.377Z"
   },
   {
    "duration": 14,
    "start_time": "2022-05-27T14:54:31.389Z"
   },
   {
    "duration": 13,
    "start_time": "2022-05-27T14:54:31.405Z"
   },
   {
    "duration": 172,
    "start_time": "2022-05-27T14:54:31.420Z"
   },
   {
    "duration": 308,
    "start_time": "2022-05-27T14:54:31.595Z"
   },
   {
    "duration": 6,
    "start_time": "2022-05-27T14:54:31.905Z"
   },
   {
    "duration": 13,
    "start_time": "2022-05-27T14:54:31.913Z"
   },
   {
    "duration": 302,
    "start_time": "2022-05-27T14:54:31.928Z"
   },
   {
    "duration": 243,
    "start_time": "2022-05-27T14:54:32.231Z"
   },
   {
    "duration": 13,
    "start_time": "2022-05-27T14:54:32.476Z"
   },
   {
    "duration": 14,
    "start_time": "2022-05-27T14:54:32.490Z"
   },
   {
    "duration": 23,
    "start_time": "2022-05-27T14:54:32.505Z"
   },
   {
    "duration": 31,
    "start_time": "2022-05-27T14:54:32.529Z"
   },
   {
    "duration": 25,
    "start_time": "2022-05-27T14:54:32.561Z"
   },
   {
    "duration": 11,
    "start_time": "2022-05-27T14:54:32.587Z"
   },
   {
    "duration": 25,
    "start_time": "2022-05-27T14:54:32.599Z"
   },
   {
    "duration": 34,
    "start_time": "2022-05-27T14:54:32.625Z"
   },
   {
    "duration": 15,
    "start_time": "2022-05-27T14:54:32.661Z"
   },
   {
    "duration": 13,
    "start_time": "2022-05-27T14:54:32.677Z"
   },
   {
    "duration": 13,
    "start_time": "2022-05-27T14:54:32.691Z"
   },
   {
    "duration": 10,
    "start_time": "2022-05-27T14:54:32.706Z"
   },
   {
    "duration": 3,
    "start_time": "2022-05-27T14:54:32.718Z"
   },
   {
    "duration": 0,
    "start_time": "2022-05-27T14:54:32.722Z"
   },
   {
    "duration": 0,
    "start_time": "2022-05-27T14:54:32.724Z"
   },
   {
    "duration": 0,
    "start_time": "2022-05-27T14:54:32.759Z"
   },
   {
    "duration": 0,
    "start_time": "2022-05-27T14:54:32.760Z"
   },
   {
    "duration": 0,
    "start_time": "2022-05-27T14:54:32.761Z"
   },
   {
    "duration": 0,
    "start_time": "2022-05-27T14:54:32.762Z"
   },
   {
    "duration": 0,
    "start_time": "2022-05-27T14:54:32.763Z"
   },
   {
    "duration": 0,
    "start_time": "2022-05-27T14:54:32.764Z"
   },
   {
    "duration": 0,
    "start_time": "2022-05-27T14:54:32.765Z"
   },
   {
    "duration": 267,
    "start_time": "2022-05-27T14:56:01.909Z"
   },
   {
    "duration": 223,
    "start_time": "2022-05-27T14:56:05.576Z"
   },
   {
    "duration": 243,
    "start_time": "2022-05-27T14:56:24.243Z"
   },
   {
    "duration": 182,
    "start_time": "2022-05-27T14:57:37.657Z"
   },
   {
    "duration": 21,
    "start_time": "2022-05-27T14:58:00.752Z"
   },
   {
    "duration": 164,
    "start_time": "2022-05-27T14:58:08.319Z"
   },
   {
    "duration": 25,
    "start_time": "2022-05-27T14:58:22.248Z"
   },
   {
    "duration": 272,
    "start_time": "2022-05-27T14:58:30.622Z"
   },
   {
    "duration": 3,
    "start_time": "2022-05-27T15:03:50.998Z"
   },
   {
    "duration": 3,
    "start_time": "2022-05-27T15:03:51.452Z"
   },
   {
    "duration": 5,
    "start_time": "2022-05-27T15:03:54.116Z"
   },
   {
    "duration": 3,
    "start_time": "2022-05-27T15:03:54.653Z"
   },
   {
    "duration": 3,
    "start_time": "2022-05-27T15:03:55.104Z"
   },
   {
    "duration": 41,
    "start_time": "2022-05-28T02:12:11.529Z"
   }
  ],
  "kernelspec": {
   "display_name": "Python 3 (ipykernel)",
   "language": "python",
   "name": "python3"
  },
  "language_info": {
   "codemirror_mode": {
    "name": "ipython",
    "version": 3
   },
   "file_extension": ".py",
   "mimetype": "text/x-python",
   "name": "python",
   "nbconvert_exporter": "python",
   "pygments_lexer": "ipython3",
   "version": "3.9.5"
  },
  "toc": {
   "base_numbering": 1,
   "nav_menu": {},
   "number_sections": true,
   "sideBar": true,
   "skip_h1_title": true,
   "title_cell": "Table of Contents",
   "title_sidebar": "Contents",
   "toc_cell": false,
   "toc_position": {},
   "toc_section_display": true,
   "toc_window_display": false
  }
 },
 "nbformat": 4,
 "nbformat_minor": 2
}
