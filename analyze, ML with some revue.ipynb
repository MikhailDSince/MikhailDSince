{
 "cells": [
  {
   "cell_type": "markdown",
   "metadata": {
    "toc": true
   },
   "source": [
    "<h1>Содержание<span class=\"tocSkip\"></span></h1>\n",
    "<div class=\"toc\"><ul class=\"toc-item\"><li><span><a href=\"#Подготовка-данных\" data-toc-modified-id=\"Подготовка-данных-1\"><span class=\"toc-item-num\">1&nbsp;&nbsp;</span>Подготовка данных</a></span></li><li><span><a href=\"#Модель\" data-toc-modified-id=\"Модель-2\"><span class=\"toc-item-num\">2&nbsp;&nbsp;</span>Модель</a></span></li><li><span><a href=\"#Чек-лист-готовности-проекта\" data-toc-modified-id=\"Чек-лист-готовности-проекта-3\"><span class=\"toc-item-num\">3&nbsp;&nbsp;</span>Чек-лист готовности проекта</a></span></li></ul></div>"
   ]
  },
  {
   "cell_type": "markdown",
   "metadata": {},
   "source": [
    "# Восстановление золота из руды"
   ]
  },
  {
   "cell_type": "markdown",
   "metadata": {},
   "source": [
    "Подготовьте прототип модели машинного обучения для «Цифры». Компания разрабатывает решения для эффективной работы промышленных предприятий.\n",
    "\n",
    "Модель должна предсказать коэффициент восстановления золота из золотосодержащей руды. Используйте данные с параметрами добычи и очистки. \n",
    "\n",
    "Модель поможет оптимизировать производство, чтобы не запускать предприятие с убыточными характеристиками.\n",
    "\n",
    "Вам нужно:\n",
    "\n",
    "1. Подготовить данные;\n",
    "2. Провести исследовательский анализ данных;\n",
    "3. Построить и обучить модель.\n",
    "\n",
    "Чтобы выполнить проект, обращайтесь к библиотекам *pandas*, *matplotlib* и *sklearn.* Вам поможет их документация."
   ]
  },
  {
   "cell_type": "code",
   "execution_count": 1,
   "metadata": {},
   "outputs": [],
   "source": [
    "import pandas as pd\n",
    "from sklearn.metrics import mean_absolute_error\n",
    "import matplotlib.pyplot as plt\n",
    "from sklearn.linear_model import LinearRegression\n",
    "from sklearn.model_selection import cross_val_score\n",
    "from sklearn.model_selection import GridSearchCV\n",
    "from sklearn.metrics import make_scorer\n",
    "from sklearn.ensemble import RandomForestRegressor\n",
    "from sklearn.tree import DecisionTreeRegressor\n",
    "from sklearn.neighbors import KNeighborsRegressor\n",
    "from sklearn.dummy import DummyRegressor"
   ]
  },
  {
   "cell_type": "markdown",
   "metadata": {},
   "source": [
    "<font color='blue'><b>Комментарий ревьюера: </b></font> ✔️ <br>\n",
    "<font color='green'>Здорово, что все импорты находятся в одной ячейке.<br>\n",
    "Если хочешь сделать ещё лучше, соблюдай стандарт PEP-8, разбей импорты на функциональные группы, раздели группы пустой строкой. Можно в каждой группе отсортировать импорты в алфавитном порядке.<br>\n",
    "Ссылка для ознакомления: https://pythonworld.ru/osnovy/pep-8-rukovodstvo-po-napisaniyu-koda-na-python.html\n",
    "</font>"
   ]
  },
  {
   "cell_type": "markdown",
   "metadata": {},
   "source": [
    "## Подготовка данных"
   ]
  },
  {
   "cell_type": "markdown",
   "metadata": {},
   "source": [
    "Подготовим данные к работе"
   ]
  },
  {
   "cell_type": "code",
   "execution_count": 2,
   "metadata": {},
   "outputs": [],
   "source": [
    "data_train = pd.read_csv(\"/datasets/gold_recovery_train_new.csv\")   \n",
    "data_test = pd.read_csv(\"/datasets/gold_recovery_test_new.csv\")\n",
    "data_full = pd.read_csv(\"/datasets/gold_recovery_full_new.csv\")"
   ]
  },
  {
   "cell_type": "code",
   "execution_count": 3,
   "metadata": {},
   "outputs": [
    {
     "data": {
      "text/html": [
       "<div>\n",
       "<style scoped>\n",
       "    .dataframe tbody tr th:only-of-type {\n",
       "        vertical-align: middle;\n",
       "    }\n",
       "\n",
       "    .dataframe tbody tr th {\n",
       "        vertical-align: top;\n",
       "    }\n",
       "\n",
       "    .dataframe thead th {\n",
       "        text-align: right;\n",
       "    }\n",
       "</style>\n",
       "<table border=\"1\" class=\"dataframe\">\n",
       "  <thead>\n",
       "    <tr style=\"text-align: right;\">\n",
       "      <th></th>\n",
       "      <th>date</th>\n",
       "      <th>final.output.concentrate_ag</th>\n",
       "      <th>final.output.concentrate_pb</th>\n",
       "      <th>final.output.concentrate_sol</th>\n",
       "      <th>final.output.concentrate_au</th>\n",
       "      <th>final.output.recovery</th>\n",
       "      <th>final.output.tail_ag</th>\n",
       "      <th>final.output.tail_pb</th>\n",
       "      <th>final.output.tail_sol</th>\n",
       "      <th>final.output.tail_au</th>\n",
       "      <th>...</th>\n",
       "      <th>secondary_cleaner.state.floatbank4_a_air</th>\n",
       "      <th>secondary_cleaner.state.floatbank4_a_level</th>\n",
       "      <th>secondary_cleaner.state.floatbank4_b_air</th>\n",
       "      <th>secondary_cleaner.state.floatbank4_b_level</th>\n",
       "      <th>secondary_cleaner.state.floatbank5_a_air</th>\n",
       "      <th>secondary_cleaner.state.floatbank5_a_level</th>\n",
       "      <th>secondary_cleaner.state.floatbank5_b_air</th>\n",
       "      <th>secondary_cleaner.state.floatbank5_b_level</th>\n",
       "      <th>secondary_cleaner.state.floatbank6_a_air</th>\n",
       "      <th>secondary_cleaner.state.floatbank6_a_level</th>\n",
       "    </tr>\n",
       "  </thead>\n",
       "  <tbody>\n",
       "    <tr>\n",
       "      <th>0</th>\n",
       "      <td>2016-01-15 00:00:00</td>\n",
       "      <td>6.055403</td>\n",
       "      <td>9.889648</td>\n",
       "      <td>5.507324</td>\n",
       "      <td>42.192020</td>\n",
       "      <td>70.541216</td>\n",
       "      <td>10.411962</td>\n",
       "      <td>0.895447</td>\n",
       "      <td>16.904297</td>\n",
       "      <td>2.143149</td>\n",
       "      <td>...</td>\n",
       "      <td>14.016835</td>\n",
       "      <td>-502.488007</td>\n",
       "      <td>12.099931</td>\n",
       "      <td>-504.715942</td>\n",
       "      <td>9.925633</td>\n",
       "      <td>-498.310211</td>\n",
       "      <td>8.079666</td>\n",
       "      <td>-500.470978</td>\n",
       "      <td>14.151341</td>\n",
       "      <td>-605.841980</td>\n",
       "    </tr>\n",
       "    <tr>\n",
       "      <th>1</th>\n",
       "      <td>2016-01-15 01:00:00</td>\n",
       "      <td>6.029369</td>\n",
       "      <td>9.968944</td>\n",
       "      <td>5.257781</td>\n",
       "      <td>42.701629</td>\n",
       "      <td>69.266198</td>\n",
       "      <td>10.462676</td>\n",
       "      <td>0.927452</td>\n",
       "      <td>16.634514</td>\n",
       "      <td>2.224930</td>\n",
       "      <td>...</td>\n",
       "      <td>13.992281</td>\n",
       "      <td>-505.503262</td>\n",
       "      <td>11.950531</td>\n",
       "      <td>-501.331529</td>\n",
       "      <td>10.039245</td>\n",
       "      <td>-500.169983</td>\n",
       "      <td>7.984757</td>\n",
       "      <td>-500.582168</td>\n",
       "      <td>13.998353</td>\n",
       "      <td>-599.787184</td>\n",
       "    </tr>\n",
       "    <tr>\n",
       "      <th>2</th>\n",
       "      <td>2016-01-15 02:00:00</td>\n",
       "      <td>6.055926</td>\n",
       "      <td>10.213995</td>\n",
       "      <td>5.383759</td>\n",
       "      <td>42.657501</td>\n",
       "      <td>68.116445</td>\n",
       "      <td>10.507046</td>\n",
       "      <td>0.953716</td>\n",
       "      <td>16.208849</td>\n",
       "      <td>2.257889</td>\n",
       "      <td>...</td>\n",
       "      <td>14.015015</td>\n",
       "      <td>-502.520901</td>\n",
       "      <td>11.912783</td>\n",
       "      <td>-501.133383</td>\n",
       "      <td>10.070913</td>\n",
       "      <td>-500.129135</td>\n",
       "      <td>8.013877</td>\n",
       "      <td>-500.517572</td>\n",
       "      <td>14.028663</td>\n",
       "      <td>-601.427363</td>\n",
       "    </tr>\n",
       "    <tr>\n",
       "      <th>3</th>\n",
       "      <td>2016-01-15 03:00:00</td>\n",
       "      <td>6.047977</td>\n",
       "      <td>9.977019</td>\n",
       "      <td>4.858634</td>\n",
       "      <td>42.689819</td>\n",
       "      <td>68.347543</td>\n",
       "      <td>10.422762</td>\n",
       "      <td>0.883763</td>\n",
       "      <td>16.532835</td>\n",
       "      <td>2.146849</td>\n",
       "      <td>...</td>\n",
       "      <td>14.036510</td>\n",
       "      <td>-500.857308</td>\n",
       "      <td>11.999550</td>\n",
       "      <td>-501.193686</td>\n",
       "      <td>9.970366</td>\n",
       "      <td>-499.201640</td>\n",
       "      <td>7.977324</td>\n",
       "      <td>-500.255908</td>\n",
       "      <td>14.005551</td>\n",
       "      <td>-599.996129</td>\n",
       "    </tr>\n",
       "    <tr>\n",
       "      <th>4</th>\n",
       "      <td>2016-01-15 04:00:00</td>\n",
       "      <td>6.148599</td>\n",
       "      <td>10.142511</td>\n",
       "      <td>4.939416</td>\n",
       "      <td>42.774141</td>\n",
       "      <td>66.927016</td>\n",
       "      <td>10.360302</td>\n",
       "      <td>0.792826</td>\n",
       "      <td>16.525686</td>\n",
       "      <td>2.055292</td>\n",
       "      <td>...</td>\n",
       "      <td>14.027298</td>\n",
       "      <td>-499.838632</td>\n",
       "      <td>11.953070</td>\n",
       "      <td>-501.053894</td>\n",
       "      <td>9.925709</td>\n",
       "      <td>-501.686727</td>\n",
       "      <td>7.894242</td>\n",
       "      <td>-500.356035</td>\n",
       "      <td>13.996647</td>\n",
       "      <td>-601.496691</td>\n",
       "    </tr>\n",
       "  </tbody>\n",
       "</table>\n",
       "<p>5 rows × 87 columns</p>\n",
       "</div>"
      ],
      "text/plain": [
       "                  date  final.output.concentrate_ag  \\\n",
       "0  2016-01-15 00:00:00                     6.055403   \n",
       "1  2016-01-15 01:00:00                     6.029369   \n",
       "2  2016-01-15 02:00:00                     6.055926   \n",
       "3  2016-01-15 03:00:00                     6.047977   \n",
       "4  2016-01-15 04:00:00                     6.148599   \n",
       "\n",
       "   final.output.concentrate_pb  final.output.concentrate_sol  \\\n",
       "0                     9.889648                      5.507324   \n",
       "1                     9.968944                      5.257781   \n",
       "2                    10.213995                      5.383759   \n",
       "3                     9.977019                      4.858634   \n",
       "4                    10.142511                      4.939416   \n",
       "\n",
       "   final.output.concentrate_au  final.output.recovery  final.output.tail_ag  \\\n",
       "0                    42.192020              70.541216             10.411962   \n",
       "1                    42.701629              69.266198             10.462676   \n",
       "2                    42.657501              68.116445             10.507046   \n",
       "3                    42.689819              68.347543             10.422762   \n",
       "4                    42.774141              66.927016             10.360302   \n",
       "\n",
       "   final.output.tail_pb  final.output.tail_sol  final.output.tail_au  ...  \\\n",
       "0              0.895447              16.904297              2.143149  ...   \n",
       "1              0.927452              16.634514              2.224930  ...   \n",
       "2              0.953716              16.208849              2.257889  ...   \n",
       "3              0.883763              16.532835              2.146849  ...   \n",
       "4              0.792826              16.525686              2.055292  ...   \n",
       "\n",
       "   secondary_cleaner.state.floatbank4_a_air  \\\n",
       "0                                 14.016835   \n",
       "1                                 13.992281   \n",
       "2                                 14.015015   \n",
       "3                                 14.036510   \n",
       "4                                 14.027298   \n",
       "\n",
       "   secondary_cleaner.state.floatbank4_a_level  \\\n",
       "0                                 -502.488007   \n",
       "1                                 -505.503262   \n",
       "2                                 -502.520901   \n",
       "3                                 -500.857308   \n",
       "4                                 -499.838632   \n",
       "\n",
       "   secondary_cleaner.state.floatbank4_b_air  \\\n",
       "0                                 12.099931   \n",
       "1                                 11.950531   \n",
       "2                                 11.912783   \n",
       "3                                 11.999550   \n",
       "4                                 11.953070   \n",
       "\n",
       "   secondary_cleaner.state.floatbank4_b_level  \\\n",
       "0                                 -504.715942   \n",
       "1                                 -501.331529   \n",
       "2                                 -501.133383   \n",
       "3                                 -501.193686   \n",
       "4                                 -501.053894   \n",
       "\n",
       "   secondary_cleaner.state.floatbank5_a_air  \\\n",
       "0                                  9.925633   \n",
       "1                                 10.039245   \n",
       "2                                 10.070913   \n",
       "3                                  9.970366   \n",
       "4                                  9.925709   \n",
       "\n",
       "   secondary_cleaner.state.floatbank5_a_level  \\\n",
       "0                                 -498.310211   \n",
       "1                                 -500.169983   \n",
       "2                                 -500.129135   \n",
       "3                                 -499.201640   \n",
       "4                                 -501.686727   \n",
       "\n",
       "   secondary_cleaner.state.floatbank5_b_air  \\\n",
       "0                                  8.079666   \n",
       "1                                  7.984757   \n",
       "2                                  8.013877   \n",
       "3                                  7.977324   \n",
       "4                                  7.894242   \n",
       "\n",
       "   secondary_cleaner.state.floatbank5_b_level  \\\n",
       "0                                 -500.470978   \n",
       "1                                 -500.582168   \n",
       "2                                 -500.517572   \n",
       "3                                 -500.255908   \n",
       "4                                 -500.356035   \n",
       "\n",
       "   secondary_cleaner.state.floatbank6_a_air  \\\n",
       "0                                 14.151341   \n",
       "1                                 13.998353   \n",
       "2                                 14.028663   \n",
       "3                                 14.005551   \n",
       "4                                 13.996647   \n",
       "\n",
       "   secondary_cleaner.state.floatbank6_a_level  \n",
       "0                                 -605.841980  \n",
       "1                                 -599.787184  \n",
       "2                                 -601.427363  \n",
       "3                                 -599.996129  \n",
       "4                                 -601.496691  \n",
       "\n",
       "[5 rows x 87 columns]"
      ]
     },
     "execution_count": 3,
     "metadata": {},
     "output_type": "execute_result"
    }
   ],
   "source": [
    "data_train.head(5)"
   ]
  },
  {
   "cell_type": "code",
   "execution_count": 4,
   "metadata": {},
   "outputs": [
    {
     "data": {
      "text/html": [
       "<div>\n",
       "<style scoped>\n",
       "    .dataframe tbody tr th:only-of-type {\n",
       "        vertical-align: middle;\n",
       "    }\n",
       "\n",
       "    .dataframe tbody tr th {\n",
       "        vertical-align: top;\n",
       "    }\n",
       "\n",
       "    .dataframe thead th {\n",
       "        text-align: right;\n",
       "    }\n",
       "</style>\n",
       "<table border=\"1\" class=\"dataframe\">\n",
       "  <thead>\n",
       "    <tr style=\"text-align: right;\">\n",
       "      <th></th>\n",
       "      <th>date</th>\n",
       "      <th>primary_cleaner.input.sulfate</th>\n",
       "      <th>primary_cleaner.input.depressant</th>\n",
       "      <th>primary_cleaner.input.feed_size</th>\n",
       "      <th>primary_cleaner.input.xanthate</th>\n",
       "      <th>primary_cleaner.state.floatbank8_a_air</th>\n",
       "      <th>primary_cleaner.state.floatbank8_a_level</th>\n",
       "      <th>primary_cleaner.state.floatbank8_b_air</th>\n",
       "      <th>primary_cleaner.state.floatbank8_b_level</th>\n",
       "      <th>primary_cleaner.state.floatbank8_c_air</th>\n",
       "      <th>...</th>\n",
       "      <th>secondary_cleaner.state.floatbank4_a_air</th>\n",
       "      <th>secondary_cleaner.state.floatbank4_a_level</th>\n",
       "      <th>secondary_cleaner.state.floatbank4_b_air</th>\n",
       "      <th>secondary_cleaner.state.floatbank4_b_level</th>\n",
       "      <th>secondary_cleaner.state.floatbank5_a_air</th>\n",
       "      <th>secondary_cleaner.state.floatbank5_a_level</th>\n",
       "      <th>secondary_cleaner.state.floatbank5_b_air</th>\n",
       "      <th>secondary_cleaner.state.floatbank5_b_level</th>\n",
       "      <th>secondary_cleaner.state.floatbank6_a_air</th>\n",
       "      <th>secondary_cleaner.state.floatbank6_a_level</th>\n",
       "    </tr>\n",
       "  </thead>\n",
       "  <tbody>\n",
       "    <tr>\n",
       "      <th>0</th>\n",
       "      <td>2016-09-01 00:59:59</td>\n",
       "      <td>210.800909</td>\n",
       "      <td>14.993118</td>\n",
       "      <td>8.080000</td>\n",
       "      <td>1.005021</td>\n",
       "      <td>1398.981301</td>\n",
       "      <td>-500.225577</td>\n",
       "      <td>1399.144926</td>\n",
       "      <td>-499.919735</td>\n",
       "      <td>1400.102998</td>\n",
       "      <td>...</td>\n",
       "      <td>12.023554</td>\n",
       "      <td>-497.795834</td>\n",
       "      <td>8.016656</td>\n",
       "      <td>-501.289139</td>\n",
       "      <td>7.946562</td>\n",
       "      <td>-432.317850</td>\n",
       "      <td>4.872511</td>\n",
       "      <td>-500.037437</td>\n",
       "      <td>26.705889</td>\n",
       "      <td>-499.709414</td>\n",
       "    </tr>\n",
       "    <tr>\n",
       "      <th>1</th>\n",
       "      <td>2016-09-01 01:59:59</td>\n",
       "      <td>215.392455</td>\n",
       "      <td>14.987471</td>\n",
       "      <td>8.080000</td>\n",
       "      <td>0.990469</td>\n",
       "      <td>1398.777912</td>\n",
       "      <td>-500.057435</td>\n",
       "      <td>1398.055362</td>\n",
       "      <td>-499.778182</td>\n",
       "      <td>1396.151033</td>\n",
       "      <td>...</td>\n",
       "      <td>12.058140</td>\n",
       "      <td>-498.695773</td>\n",
       "      <td>8.130979</td>\n",
       "      <td>-499.634209</td>\n",
       "      <td>7.958270</td>\n",
       "      <td>-525.839648</td>\n",
       "      <td>4.878850</td>\n",
       "      <td>-500.162375</td>\n",
       "      <td>25.019940</td>\n",
       "      <td>-499.819438</td>\n",
       "    </tr>\n",
       "    <tr>\n",
       "      <th>2</th>\n",
       "      <td>2016-09-01 02:59:59</td>\n",
       "      <td>215.259946</td>\n",
       "      <td>12.884934</td>\n",
       "      <td>7.786667</td>\n",
       "      <td>0.996043</td>\n",
       "      <td>1398.493666</td>\n",
       "      <td>-500.868360</td>\n",
       "      <td>1398.860436</td>\n",
       "      <td>-499.764529</td>\n",
       "      <td>1398.075709</td>\n",
       "      <td>...</td>\n",
       "      <td>11.962366</td>\n",
       "      <td>-498.767484</td>\n",
       "      <td>8.096893</td>\n",
       "      <td>-500.827423</td>\n",
       "      <td>8.071056</td>\n",
       "      <td>-500.801673</td>\n",
       "      <td>4.905125</td>\n",
       "      <td>-499.828510</td>\n",
       "      <td>24.994862</td>\n",
       "      <td>-500.622559</td>\n",
       "    </tr>\n",
       "    <tr>\n",
       "      <th>3</th>\n",
       "      <td>2016-09-01 03:59:59</td>\n",
       "      <td>215.336236</td>\n",
       "      <td>12.006805</td>\n",
       "      <td>7.640000</td>\n",
       "      <td>0.863514</td>\n",
       "      <td>1399.618111</td>\n",
       "      <td>-498.863574</td>\n",
       "      <td>1397.440120</td>\n",
       "      <td>-499.211024</td>\n",
       "      <td>1400.129303</td>\n",
       "      <td>...</td>\n",
       "      <td>12.033091</td>\n",
       "      <td>-498.350935</td>\n",
       "      <td>8.074946</td>\n",
       "      <td>-499.474407</td>\n",
       "      <td>7.897085</td>\n",
       "      <td>-500.868509</td>\n",
       "      <td>4.931400</td>\n",
       "      <td>-499.963623</td>\n",
       "      <td>24.948919</td>\n",
       "      <td>-498.709987</td>\n",
       "    </tr>\n",
       "    <tr>\n",
       "      <th>4</th>\n",
       "      <td>2016-09-01 04:59:59</td>\n",
       "      <td>199.099327</td>\n",
       "      <td>10.682530</td>\n",
       "      <td>7.530000</td>\n",
       "      <td>0.805575</td>\n",
       "      <td>1401.268123</td>\n",
       "      <td>-500.808305</td>\n",
       "      <td>1398.128818</td>\n",
       "      <td>-499.504543</td>\n",
       "      <td>1402.172226</td>\n",
       "      <td>...</td>\n",
       "      <td>12.025367</td>\n",
       "      <td>-500.786497</td>\n",
       "      <td>8.054678</td>\n",
       "      <td>-500.397500</td>\n",
       "      <td>8.107890</td>\n",
       "      <td>-509.526725</td>\n",
       "      <td>4.957674</td>\n",
       "      <td>-500.360026</td>\n",
       "      <td>25.003331</td>\n",
       "      <td>-500.856333</td>\n",
       "    </tr>\n",
       "  </tbody>\n",
       "</table>\n",
       "<p>5 rows × 53 columns</p>\n",
       "</div>"
      ],
      "text/plain": [
       "                  date  primary_cleaner.input.sulfate  \\\n",
       "0  2016-09-01 00:59:59                     210.800909   \n",
       "1  2016-09-01 01:59:59                     215.392455   \n",
       "2  2016-09-01 02:59:59                     215.259946   \n",
       "3  2016-09-01 03:59:59                     215.336236   \n",
       "4  2016-09-01 04:59:59                     199.099327   \n",
       "\n",
       "   primary_cleaner.input.depressant  primary_cleaner.input.feed_size  \\\n",
       "0                         14.993118                         8.080000   \n",
       "1                         14.987471                         8.080000   \n",
       "2                         12.884934                         7.786667   \n",
       "3                         12.006805                         7.640000   \n",
       "4                         10.682530                         7.530000   \n",
       "\n",
       "   primary_cleaner.input.xanthate  primary_cleaner.state.floatbank8_a_air  \\\n",
       "0                        1.005021                             1398.981301   \n",
       "1                        0.990469                             1398.777912   \n",
       "2                        0.996043                             1398.493666   \n",
       "3                        0.863514                             1399.618111   \n",
       "4                        0.805575                             1401.268123   \n",
       "\n",
       "   primary_cleaner.state.floatbank8_a_level  \\\n",
       "0                               -500.225577   \n",
       "1                               -500.057435   \n",
       "2                               -500.868360   \n",
       "3                               -498.863574   \n",
       "4                               -500.808305   \n",
       "\n",
       "   primary_cleaner.state.floatbank8_b_air  \\\n",
       "0                             1399.144926   \n",
       "1                             1398.055362   \n",
       "2                             1398.860436   \n",
       "3                             1397.440120   \n",
       "4                             1398.128818   \n",
       "\n",
       "   primary_cleaner.state.floatbank8_b_level  \\\n",
       "0                               -499.919735   \n",
       "1                               -499.778182   \n",
       "2                               -499.764529   \n",
       "3                               -499.211024   \n",
       "4                               -499.504543   \n",
       "\n",
       "   primary_cleaner.state.floatbank8_c_air  ...  \\\n",
       "0                             1400.102998  ...   \n",
       "1                             1396.151033  ...   \n",
       "2                             1398.075709  ...   \n",
       "3                             1400.129303  ...   \n",
       "4                             1402.172226  ...   \n",
       "\n",
       "   secondary_cleaner.state.floatbank4_a_air  \\\n",
       "0                                 12.023554   \n",
       "1                                 12.058140   \n",
       "2                                 11.962366   \n",
       "3                                 12.033091   \n",
       "4                                 12.025367   \n",
       "\n",
       "   secondary_cleaner.state.floatbank4_a_level  \\\n",
       "0                                 -497.795834   \n",
       "1                                 -498.695773   \n",
       "2                                 -498.767484   \n",
       "3                                 -498.350935   \n",
       "4                                 -500.786497   \n",
       "\n",
       "   secondary_cleaner.state.floatbank4_b_air  \\\n",
       "0                                  8.016656   \n",
       "1                                  8.130979   \n",
       "2                                  8.096893   \n",
       "3                                  8.074946   \n",
       "4                                  8.054678   \n",
       "\n",
       "   secondary_cleaner.state.floatbank4_b_level  \\\n",
       "0                                 -501.289139   \n",
       "1                                 -499.634209   \n",
       "2                                 -500.827423   \n",
       "3                                 -499.474407   \n",
       "4                                 -500.397500   \n",
       "\n",
       "   secondary_cleaner.state.floatbank5_a_air  \\\n",
       "0                                  7.946562   \n",
       "1                                  7.958270   \n",
       "2                                  8.071056   \n",
       "3                                  7.897085   \n",
       "4                                  8.107890   \n",
       "\n",
       "   secondary_cleaner.state.floatbank5_a_level  \\\n",
       "0                                 -432.317850   \n",
       "1                                 -525.839648   \n",
       "2                                 -500.801673   \n",
       "3                                 -500.868509   \n",
       "4                                 -509.526725   \n",
       "\n",
       "   secondary_cleaner.state.floatbank5_b_air  \\\n",
       "0                                  4.872511   \n",
       "1                                  4.878850   \n",
       "2                                  4.905125   \n",
       "3                                  4.931400   \n",
       "4                                  4.957674   \n",
       "\n",
       "   secondary_cleaner.state.floatbank5_b_level  \\\n",
       "0                                 -500.037437   \n",
       "1                                 -500.162375   \n",
       "2                                 -499.828510   \n",
       "3                                 -499.963623   \n",
       "4                                 -500.360026   \n",
       "\n",
       "   secondary_cleaner.state.floatbank6_a_air  \\\n",
       "0                                 26.705889   \n",
       "1                                 25.019940   \n",
       "2                                 24.994862   \n",
       "3                                 24.948919   \n",
       "4                                 25.003331   \n",
       "\n",
       "   secondary_cleaner.state.floatbank6_a_level  \n",
       "0                                 -499.709414  \n",
       "1                                 -499.819438  \n",
       "2                                 -500.622559  \n",
       "3                                 -498.709987  \n",
       "4                                 -500.856333  \n",
       "\n",
       "[5 rows x 53 columns]"
      ]
     },
     "execution_count": 4,
     "metadata": {},
     "output_type": "execute_result"
    }
   ],
   "source": [
    "data_test.head(5)"
   ]
  },
  {
   "cell_type": "code",
   "execution_count": 5,
   "metadata": {},
   "outputs": [
    {
     "data": {
      "text/html": [
       "<div>\n",
       "<style scoped>\n",
       "    .dataframe tbody tr th:only-of-type {\n",
       "        vertical-align: middle;\n",
       "    }\n",
       "\n",
       "    .dataframe tbody tr th {\n",
       "        vertical-align: top;\n",
       "    }\n",
       "\n",
       "    .dataframe thead th {\n",
       "        text-align: right;\n",
       "    }\n",
       "</style>\n",
       "<table border=\"1\" class=\"dataframe\">\n",
       "  <thead>\n",
       "    <tr style=\"text-align: right;\">\n",
       "      <th></th>\n",
       "      <th>date</th>\n",
       "      <th>final.output.concentrate_ag</th>\n",
       "      <th>final.output.concentrate_pb</th>\n",
       "      <th>final.output.concentrate_sol</th>\n",
       "      <th>final.output.concentrate_au</th>\n",
       "      <th>final.output.recovery</th>\n",
       "      <th>final.output.tail_ag</th>\n",
       "      <th>final.output.tail_pb</th>\n",
       "      <th>final.output.tail_sol</th>\n",
       "      <th>final.output.tail_au</th>\n",
       "      <th>...</th>\n",
       "      <th>secondary_cleaner.state.floatbank4_a_air</th>\n",
       "      <th>secondary_cleaner.state.floatbank4_a_level</th>\n",
       "      <th>secondary_cleaner.state.floatbank4_b_air</th>\n",
       "      <th>secondary_cleaner.state.floatbank4_b_level</th>\n",
       "      <th>secondary_cleaner.state.floatbank5_a_air</th>\n",
       "      <th>secondary_cleaner.state.floatbank5_a_level</th>\n",
       "      <th>secondary_cleaner.state.floatbank5_b_air</th>\n",
       "      <th>secondary_cleaner.state.floatbank5_b_level</th>\n",
       "      <th>secondary_cleaner.state.floatbank6_a_air</th>\n",
       "      <th>secondary_cleaner.state.floatbank6_a_level</th>\n",
       "    </tr>\n",
       "  </thead>\n",
       "  <tbody>\n",
       "    <tr>\n",
       "      <th>0</th>\n",
       "      <td>2016-01-15 00:00:00</td>\n",
       "      <td>6.055403</td>\n",
       "      <td>9.889648</td>\n",
       "      <td>5.507324</td>\n",
       "      <td>42.192020</td>\n",
       "      <td>70.541216</td>\n",
       "      <td>10.411962</td>\n",
       "      <td>0.895447</td>\n",
       "      <td>16.904297</td>\n",
       "      <td>2.143149</td>\n",
       "      <td>...</td>\n",
       "      <td>14.016835</td>\n",
       "      <td>-502.488007</td>\n",
       "      <td>12.099931</td>\n",
       "      <td>-504.715942</td>\n",
       "      <td>9.925633</td>\n",
       "      <td>-498.310211</td>\n",
       "      <td>8.079666</td>\n",
       "      <td>-500.470978</td>\n",
       "      <td>14.151341</td>\n",
       "      <td>-605.841980</td>\n",
       "    </tr>\n",
       "    <tr>\n",
       "      <th>1</th>\n",
       "      <td>2016-01-15 01:00:00</td>\n",
       "      <td>6.029369</td>\n",
       "      <td>9.968944</td>\n",
       "      <td>5.257781</td>\n",
       "      <td>42.701629</td>\n",
       "      <td>69.266198</td>\n",
       "      <td>10.462676</td>\n",
       "      <td>0.927452</td>\n",
       "      <td>16.634514</td>\n",
       "      <td>2.224930</td>\n",
       "      <td>...</td>\n",
       "      <td>13.992281</td>\n",
       "      <td>-505.503262</td>\n",
       "      <td>11.950531</td>\n",
       "      <td>-501.331529</td>\n",
       "      <td>10.039245</td>\n",
       "      <td>-500.169983</td>\n",
       "      <td>7.984757</td>\n",
       "      <td>-500.582168</td>\n",
       "      <td>13.998353</td>\n",
       "      <td>-599.787184</td>\n",
       "    </tr>\n",
       "    <tr>\n",
       "      <th>2</th>\n",
       "      <td>2016-01-15 02:00:00</td>\n",
       "      <td>6.055926</td>\n",
       "      <td>10.213995</td>\n",
       "      <td>5.383759</td>\n",
       "      <td>42.657501</td>\n",
       "      <td>68.116445</td>\n",
       "      <td>10.507046</td>\n",
       "      <td>0.953716</td>\n",
       "      <td>16.208849</td>\n",
       "      <td>2.257889</td>\n",
       "      <td>...</td>\n",
       "      <td>14.015015</td>\n",
       "      <td>-502.520901</td>\n",
       "      <td>11.912783</td>\n",
       "      <td>-501.133383</td>\n",
       "      <td>10.070913</td>\n",
       "      <td>-500.129135</td>\n",
       "      <td>8.013877</td>\n",
       "      <td>-500.517572</td>\n",
       "      <td>14.028663</td>\n",
       "      <td>-601.427363</td>\n",
       "    </tr>\n",
       "    <tr>\n",
       "      <th>3</th>\n",
       "      <td>2016-01-15 03:00:00</td>\n",
       "      <td>6.047977</td>\n",
       "      <td>9.977019</td>\n",
       "      <td>4.858634</td>\n",
       "      <td>42.689819</td>\n",
       "      <td>68.347543</td>\n",
       "      <td>10.422762</td>\n",
       "      <td>0.883763</td>\n",
       "      <td>16.532835</td>\n",
       "      <td>2.146849</td>\n",
       "      <td>...</td>\n",
       "      <td>14.036510</td>\n",
       "      <td>-500.857308</td>\n",
       "      <td>11.999550</td>\n",
       "      <td>-501.193686</td>\n",
       "      <td>9.970366</td>\n",
       "      <td>-499.201640</td>\n",
       "      <td>7.977324</td>\n",
       "      <td>-500.255908</td>\n",
       "      <td>14.005551</td>\n",
       "      <td>-599.996129</td>\n",
       "    </tr>\n",
       "    <tr>\n",
       "      <th>4</th>\n",
       "      <td>2016-01-15 04:00:00</td>\n",
       "      <td>6.148599</td>\n",
       "      <td>10.142511</td>\n",
       "      <td>4.939416</td>\n",
       "      <td>42.774141</td>\n",
       "      <td>66.927016</td>\n",
       "      <td>10.360302</td>\n",
       "      <td>0.792826</td>\n",
       "      <td>16.525686</td>\n",
       "      <td>2.055292</td>\n",
       "      <td>...</td>\n",
       "      <td>14.027298</td>\n",
       "      <td>-499.838632</td>\n",
       "      <td>11.953070</td>\n",
       "      <td>-501.053894</td>\n",
       "      <td>9.925709</td>\n",
       "      <td>-501.686727</td>\n",
       "      <td>7.894242</td>\n",
       "      <td>-500.356035</td>\n",
       "      <td>13.996647</td>\n",
       "      <td>-601.496691</td>\n",
       "    </tr>\n",
       "  </tbody>\n",
       "</table>\n",
       "<p>5 rows × 87 columns</p>\n",
       "</div>"
      ],
      "text/plain": [
       "                  date  final.output.concentrate_ag  \\\n",
       "0  2016-01-15 00:00:00                     6.055403   \n",
       "1  2016-01-15 01:00:00                     6.029369   \n",
       "2  2016-01-15 02:00:00                     6.055926   \n",
       "3  2016-01-15 03:00:00                     6.047977   \n",
       "4  2016-01-15 04:00:00                     6.148599   \n",
       "\n",
       "   final.output.concentrate_pb  final.output.concentrate_sol  \\\n",
       "0                     9.889648                      5.507324   \n",
       "1                     9.968944                      5.257781   \n",
       "2                    10.213995                      5.383759   \n",
       "3                     9.977019                      4.858634   \n",
       "4                    10.142511                      4.939416   \n",
       "\n",
       "   final.output.concentrate_au  final.output.recovery  final.output.tail_ag  \\\n",
       "0                    42.192020              70.541216             10.411962   \n",
       "1                    42.701629              69.266198             10.462676   \n",
       "2                    42.657501              68.116445             10.507046   \n",
       "3                    42.689819              68.347543             10.422762   \n",
       "4                    42.774141              66.927016             10.360302   \n",
       "\n",
       "   final.output.tail_pb  final.output.tail_sol  final.output.tail_au  ...  \\\n",
       "0              0.895447              16.904297              2.143149  ...   \n",
       "1              0.927452              16.634514              2.224930  ...   \n",
       "2              0.953716              16.208849              2.257889  ...   \n",
       "3              0.883763              16.532835              2.146849  ...   \n",
       "4              0.792826              16.525686              2.055292  ...   \n",
       "\n",
       "   secondary_cleaner.state.floatbank4_a_air  \\\n",
       "0                                 14.016835   \n",
       "1                                 13.992281   \n",
       "2                                 14.015015   \n",
       "3                                 14.036510   \n",
       "4                                 14.027298   \n",
       "\n",
       "   secondary_cleaner.state.floatbank4_a_level  \\\n",
       "0                                 -502.488007   \n",
       "1                                 -505.503262   \n",
       "2                                 -502.520901   \n",
       "3                                 -500.857308   \n",
       "4                                 -499.838632   \n",
       "\n",
       "   secondary_cleaner.state.floatbank4_b_air  \\\n",
       "0                                 12.099931   \n",
       "1                                 11.950531   \n",
       "2                                 11.912783   \n",
       "3                                 11.999550   \n",
       "4                                 11.953070   \n",
       "\n",
       "   secondary_cleaner.state.floatbank4_b_level  \\\n",
       "0                                 -504.715942   \n",
       "1                                 -501.331529   \n",
       "2                                 -501.133383   \n",
       "3                                 -501.193686   \n",
       "4                                 -501.053894   \n",
       "\n",
       "   secondary_cleaner.state.floatbank5_a_air  \\\n",
       "0                                  9.925633   \n",
       "1                                 10.039245   \n",
       "2                                 10.070913   \n",
       "3                                  9.970366   \n",
       "4                                  9.925709   \n",
       "\n",
       "   secondary_cleaner.state.floatbank5_a_level  \\\n",
       "0                                 -498.310211   \n",
       "1                                 -500.169983   \n",
       "2                                 -500.129135   \n",
       "3                                 -499.201640   \n",
       "4                                 -501.686727   \n",
       "\n",
       "   secondary_cleaner.state.floatbank5_b_air  \\\n",
       "0                                  8.079666   \n",
       "1                                  7.984757   \n",
       "2                                  8.013877   \n",
       "3                                  7.977324   \n",
       "4                                  7.894242   \n",
       "\n",
       "   secondary_cleaner.state.floatbank5_b_level  \\\n",
       "0                                 -500.470978   \n",
       "1                                 -500.582168   \n",
       "2                                 -500.517572   \n",
       "3                                 -500.255908   \n",
       "4                                 -500.356035   \n",
       "\n",
       "   secondary_cleaner.state.floatbank6_a_air  \\\n",
       "0                                 14.151341   \n",
       "1                                 13.998353   \n",
       "2                                 14.028663   \n",
       "3                                 14.005551   \n",
       "4                                 13.996647   \n",
       "\n",
       "   secondary_cleaner.state.floatbank6_a_level  \n",
       "0                                 -605.841980  \n",
       "1                                 -599.787184  \n",
       "2                                 -601.427363  \n",
       "3                                 -599.996129  \n",
       "4                                 -601.496691  \n",
       "\n",
       "[5 rows x 87 columns]"
      ]
     },
     "execution_count": 5,
     "metadata": {},
     "output_type": "execute_result"
    }
   ],
   "source": [
    "data_full.head(5)"
   ]
  },
  {
   "cell_type": "code",
   "execution_count": 6,
   "metadata": {},
   "outputs": [
    {
     "name": "stdout",
     "output_type": "stream",
     "text": [
      "<class 'pandas.core.frame.DataFrame'>\n",
      "RangeIndex: 14149 entries, 0 to 14148\n",
      "Data columns (total 87 columns):\n",
      " #   Column                                              Non-Null Count  Dtype  \n",
      "---  ------                                              --------------  -----  \n",
      " 0   date                                                14149 non-null  object \n",
      " 1   final.output.concentrate_ag                         14148 non-null  float64\n",
      " 2   final.output.concentrate_pb                         14148 non-null  float64\n",
      " 3   final.output.concentrate_sol                        13938 non-null  float64\n",
      " 4   final.output.concentrate_au                         14149 non-null  float64\n",
      " 5   final.output.recovery                               14149 non-null  float64\n",
      " 6   final.output.tail_ag                                14149 non-null  float64\n",
      " 7   final.output.tail_pb                                14049 non-null  float64\n",
      " 8   final.output.tail_sol                               14144 non-null  float64\n",
      " 9   final.output.tail_au                                14149 non-null  float64\n",
      " 10  primary_cleaner.input.sulfate                       14129 non-null  float64\n",
      " 11  primary_cleaner.input.depressant                    14117 non-null  float64\n",
      " 12  primary_cleaner.input.feed_size                     14149 non-null  float64\n",
      " 13  primary_cleaner.input.xanthate                      14049 non-null  float64\n",
      " 14  primary_cleaner.output.concentrate_ag               14149 non-null  float64\n",
      " 15  primary_cleaner.output.concentrate_pb               14063 non-null  float64\n",
      " 16  primary_cleaner.output.concentrate_sol              13863 non-null  float64\n",
      " 17  primary_cleaner.output.concentrate_au               14149 non-null  float64\n",
      " 18  primary_cleaner.output.tail_ag                      14148 non-null  float64\n",
      " 19  primary_cleaner.output.tail_pb                      14134 non-null  float64\n",
      " 20  primary_cleaner.output.tail_sol                     14103 non-null  float64\n",
      " 21  primary_cleaner.output.tail_au                      14149 non-null  float64\n",
      " 22  primary_cleaner.state.floatbank8_a_air              14145 non-null  float64\n",
      " 23  primary_cleaner.state.floatbank8_a_level            14148 non-null  float64\n",
      " 24  primary_cleaner.state.floatbank8_b_air              14145 non-null  float64\n",
      " 25  primary_cleaner.state.floatbank8_b_level            14148 non-null  float64\n",
      " 26  primary_cleaner.state.floatbank8_c_air              14147 non-null  float64\n",
      " 27  primary_cleaner.state.floatbank8_c_level            14148 non-null  float64\n",
      " 28  primary_cleaner.state.floatbank8_d_air              14146 non-null  float64\n",
      " 29  primary_cleaner.state.floatbank8_d_level            14148 non-null  float64\n",
      " 30  rougher.calculation.sulfate_to_au_concentrate       14148 non-null  float64\n",
      " 31  rougher.calculation.floatbank10_sulfate_to_au_feed  14148 non-null  float64\n",
      " 32  rougher.calculation.floatbank11_sulfate_to_au_feed  14148 non-null  float64\n",
      " 33  rougher.calculation.au_pb_ratio                     14149 non-null  float64\n",
      " 34  rougher.input.feed_ag                               14149 non-null  float64\n",
      " 35  rougher.input.feed_pb                               14049 non-null  float64\n",
      " 36  rougher.input.feed_rate                             14141 non-null  float64\n",
      " 37  rougher.input.feed_size                             14005 non-null  float64\n",
      " 38  rougher.input.feed_sol                              14071 non-null  float64\n",
      " 39  rougher.input.feed_au                               14149 non-null  float64\n",
      " 40  rougher.input.floatbank10_sulfate                   14120 non-null  float64\n",
      " 41  rougher.input.floatbank10_xanthate                  14141 non-null  float64\n",
      " 42  rougher.input.floatbank11_sulfate                   14113 non-null  float64\n",
      " 43  rougher.input.floatbank11_xanthate                  13721 non-null  float64\n",
      " 44  rougher.output.concentrate_ag                       14149 non-null  float64\n",
      " 45  rougher.output.concentrate_pb                       14149 non-null  float64\n",
      " 46  rougher.output.concentrate_sol                      14127 non-null  float64\n",
      " 47  rougher.output.concentrate_au                       14149 non-null  float64\n",
      " 48  rougher.output.recovery                             14149 non-null  float64\n",
      " 49  rougher.output.tail_ag                              14148 non-null  float64\n",
      " 50  rougher.output.tail_pb                              14149 non-null  float64\n",
      " 51  rougher.output.tail_sol                             14149 non-null  float64\n",
      " 52  rougher.output.tail_au                              14149 non-null  float64\n",
      " 53  rougher.state.floatbank10_a_air                     14148 non-null  float64\n",
      " 54  rougher.state.floatbank10_a_level                   14148 non-null  float64\n",
      " 55  rougher.state.floatbank10_b_air                     14148 non-null  float64\n",
      " 56  rougher.state.floatbank10_b_level                   14148 non-null  float64\n",
      " 57  rougher.state.floatbank10_c_air                     14148 non-null  float64\n",
      " 58  rougher.state.floatbank10_c_level                   14148 non-null  float64\n",
      " 59  rougher.state.floatbank10_d_air                     14149 non-null  float64\n",
      " 60  rougher.state.floatbank10_d_level                   14149 non-null  float64\n",
      " 61  rougher.state.floatbank10_e_air                     13713 non-null  float64\n",
      " 62  rougher.state.floatbank10_e_level                   14149 non-null  float64\n",
      " 63  rougher.state.floatbank10_f_air                     14149 non-null  float64\n",
      " 64  rougher.state.floatbank10_f_level                   14149 non-null  float64\n",
      " 65  secondary_cleaner.output.tail_ag                    14147 non-null  float64\n",
      " 66  secondary_cleaner.output.tail_pb                    14139 non-null  float64\n",
      " 67  secondary_cleaner.output.tail_sol                   12544 non-null  float64\n",
      " 68  secondary_cleaner.output.tail_au                    14149 non-null  float64\n",
      " 69  secondary_cleaner.state.floatbank2_a_air            13932 non-null  float64\n",
      " 70  secondary_cleaner.state.floatbank2_a_level          14148 non-null  float64\n",
      " 71  secondary_cleaner.state.floatbank2_b_air            14128 non-null  float64\n",
      " 72  secondary_cleaner.state.floatbank2_b_level          14148 non-null  float64\n",
      " 73  secondary_cleaner.state.floatbank3_a_air            14145 non-null  float64\n",
      " 74  secondary_cleaner.state.floatbank3_a_level          14148 non-null  float64\n",
      " 75  secondary_cleaner.state.floatbank3_b_air            14148 non-null  float64\n",
      " 76  secondary_cleaner.state.floatbank3_b_level          14148 non-null  float64\n",
      " 77  secondary_cleaner.state.floatbank4_a_air            14143 non-null  float64\n",
      " 78  secondary_cleaner.state.floatbank4_a_level          14148 non-null  float64\n",
      " 79  secondary_cleaner.state.floatbank4_b_air            14148 non-null  float64\n",
      " 80  secondary_cleaner.state.floatbank4_b_level          14148 non-null  float64\n",
      " 81  secondary_cleaner.state.floatbank5_a_air            14148 non-null  float64\n",
      " 82  secondary_cleaner.state.floatbank5_a_level          14148 non-null  float64\n",
      " 83  secondary_cleaner.state.floatbank5_b_air            14148 non-null  float64\n",
      " 84  secondary_cleaner.state.floatbank5_b_level          14148 non-null  float64\n",
      " 85  secondary_cleaner.state.floatbank6_a_air            14147 non-null  float64\n",
      " 86  secondary_cleaner.state.floatbank6_a_level          14148 non-null  float64\n",
      "dtypes: float64(86), object(1)\n",
      "memory usage: 9.4+ MB\n"
     ]
    }
   ],
   "source": [
    "data_train.info()"
   ]
  },
  {
   "cell_type": "code",
   "execution_count": 7,
   "metadata": {},
   "outputs": [
    {
     "name": "stdout",
     "output_type": "stream",
     "text": [
      "<class 'pandas.core.frame.DataFrame'>\n",
      "RangeIndex: 5290 entries, 0 to 5289\n",
      "Data columns (total 53 columns):\n",
      " #   Column                                      Non-Null Count  Dtype  \n",
      "---  ------                                      --------------  -----  \n",
      " 0   date                                        5290 non-null   object \n",
      " 1   primary_cleaner.input.sulfate               5286 non-null   float64\n",
      " 2   primary_cleaner.input.depressant            5285 non-null   float64\n",
      " 3   primary_cleaner.input.feed_size             5290 non-null   float64\n",
      " 4   primary_cleaner.input.xanthate              5286 non-null   float64\n",
      " 5   primary_cleaner.state.floatbank8_a_air      5290 non-null   float64\n",
      " 6   primary_cleaner.state.floatbank8_a_level    5290 non-null   float64\n",
      " 7   primary_cleaner.state.floatbank8_b_air      5290 non-null   float64\n",
      " 8   primary_cleaner.state.floatbank8_b_level    5290 non-null   float64\n",
      " 9   primary_cleaner.state.floatbank8_c_air      5290 non-null   float64\n",
      " 10  primary_cleaner.state.floatbank8_c_level    5290 non-null   float64\n",
      " 11  primary_cleaner.state.floatbank8_d_air      5290 non-null   float64\n",
      " 12  primary_cleaner.state.floatbank8_d_level    5290 non-null   float64\n",
      " 13  rougher.input.feed_ag                       5290 non-null   float64\n",
      " 14  rougher.input.feed_pb                       5290 non-null   float64\n",
      " 15  rougher.input.feed_rate                     5287 non-null   float64\n",
      " 16  rougher.input.feed_size                     5289 non-null   float64\n",
      " 17  rougher.input.feed_sol                      5269 non-null   float64\n",
      " 18  rougher.input.feed_au                       5290 non-null   float64\n",
      " 19  rougher.input.floatbank10_sulfate           5285 non-null   float64\n",
      " 20  rougher.input.floatbank10_xanthate          5290 non-null   float64\n",
      " 21  rougher.input.floatbank11_sulfate           5282 non-null   float64\n",
      " 22  rougher.input.floatbank11_xanthate          5265 non-null   float64\n",
      " 23  rougher.state.floatbank10_a_air             5290 non-null   float64\n",
      " 24  rougher.state.floatbank10_a_level           5290 non-null   float64\n",
      " 25  rougher.state.floatbank10_b_air             5290 non-null   float64\n",
      " 26  rougher.state.floatbank10_b_level           5290 non-null   float64\n",
      " 27  rougher.state.floatbank10_c_air             5290 non-null   float64\n",
      " 28  rougher.state.floatbank10_c_level           5290 non-null   float64\n",
      " 29  rougher.state.floatbank10_d_air             5290 non-null   float64\n",
      " 30  rougher.state.floatbank10_d_level           5290 non-null   float64\n",
      " 31  rougher.state.floatbank10_e_air             5290 non-null   float64\n",
      " 32  rougher.state.floatbank10_e_level           5290 non-null   float64\n",
      " 33  rougher.state.floatbank10_f_air             5290 non-null   float64\n",
      " 34  rougher.state.floatbank10_f_level           5290 non-null   float64\n",
      " 35  secondary_cleaner.state.floatbank2_a_air    5287 non-null   float64\n",
      " 36  secondary_cleaner.state.floatbank2_a_level  5290 non-null   float64\n",
      " 37  secondary_cleaner.state.floatbank2_b_air    5288 non-null   float64\n",
      " 38  secondary_cleaner.state.floatbank2_b_level  5290 non-null   float64\n",
      " 39  secondary_cleaner.state.floatbank3_a_air    5281 non-null   float64\n",
      " 40  secondary_cleaner.state.floatbank3_a_level  5290 non-null   float64\n",
      " 41  secondary_cleaner.state.floatbank3_b_air    5290 non-null   float64\n",
      " 42  secondary_cleaner.state.floatbank3_b_level  5290 non-null   float64\n",
      " 43  secondary_cleaner.state.floatbank4_a_air    5290 non-null   float64\n",
      " 44  secondary_cleaner.state.floatbank4_a_level  5290 non-null   float64\n",
      " 45  secondary_cleaner.state.floatbank4_b_air    5290 non-null   float64\n",
      " 46  secondary_cleaner.state.floatbank4_b_level  5290 non-null   float64\n",
      " 47  secondary_cleaner.state.floatbank5_a_air    5290 non-null   float64\n",
      " 48  secondary_cleaner.state.floatbank5_a_level  5290 non-null   float64\n",
      " 49  secondary_cleaner.state.floatbank5_b_air    5290 non-null   float64\n",
      " 50  secondary_cleaner.state.floatbank5_b_level  5290 non-null   float64\n",
      " 51  secondary_cleaner.state.floatbank6_a_air    5290 non-null   float64\n",
      " 52  secondary_cleaner.state.floatbank6_a_level  5290 non-null   float64\n",
      "dtypes: float64(52), object(1)\n",
      "memory usage: 2.1+ MB\n"
     ]
    }
   ],
   "source": [
    "data_test.info()"
   ]
  },
  {
   "cell_type": "code",
   "execution_count": 8,
   "metadata": {},
   "outputs": [
    {
     "name": "stdout",
     "output_type": "stream",
     "text": [
      "<class 'pandas.core.frame.DataFrame'>\n",
      "RangeIndex: 19439 entries, 0 to 19438\n",
      "Data columns (total 87 columns):\n",
      " #   Column                                              Non-Null Count  Dtype  \n",
      "---  ------                                              --------------  -----  \n",
      " 0   date                                                19439 non-null  object \n",
      " 1   final.output.concentrate_ag                         19438 non-null  float64\n",
      " 2   final.output.concentrate_pb                         19438 non-null  float64\n",
      " 3   final.output.concentrate_sol                        19228 non-null  float64\n",
      " 4   final.output.concentrate_au                         19439 non-null  float64\n",
      " 5   final.output.recovery                               19439 non-null  float64\n",
      " 6   final.output.tail_ag                                19438 non-null  float64\n",
      " 7   final.output.tail_pb                                19338 non-null  float64\n",
      " 8   final.output.tail_sol                               19433 non-null  float64\n",
      " 9   final.output.tail_au                                19439 non-null  float64\n",
      " 10  primary_cleaner.input.sulfate                       19415 non-null  float64\n",
      " 11  primary_cleaner.input.depressant                    19402 non-null  float64\n",
      " 12  primary_cleaner.input.feed_size                     19439 non-null  float64\n",
      " 13  primary_cleaner.input.xanthate                      19335 non-null  float64\n",
      " 14  primary_cleaner.output.concentrate_ag               19439 non-null  float64\n",
      " 15  primary_cleaner.output.concentrate_pb               19323 non-null  float64\n",
      " 16  primary_cleaner.output.concentrate_sol              19069 non-null  float64\n",
      " 17  primary_cleaner.output.concentrate_au               19439 non-null  float64\n",
      " 18  primary_cleaner.output.tail_ag                      19435 non-null  float64\n",
      " 19  primary_cleaner.output.tail_pb                      19418 non-null  float64\n",
      " 20  primary_cleaner.output.tail_sol                     19377 non-null  float64\n",
      " 21  primary_cleaner.output.tail_au                      19439 non-null  float64\n",
      " 22  primary_cleaner.state.floatbank8_a_air              19435 non-null  float64\n",
      " 23  primary_cleaner.state.floatbank8_a_level            19438 non-null  float64\n",
      " 24  primary_cleaner.state.floatbank8_b_air              19435 non-null  float64\n",
      " 25  primary_cleaner.state.floatbank8_b_level            19438 non-null  float64\n",
      " 26  primary_cleaner.state.floatbank8_c_air              19437 non-null  float64\n",
      " 27  primary_cleaner.state.floatbank8_c_level            19438 non-null  float64\n",
      " 28  primary_cleaner.state.floatbank8_d_air              19436 non-null  float64\n",
      " 29  primary_cleaner.state.floatbank8_d_level            19438 non-null  float64\n",
      " 30  rougher.calculation.sulfate_to_au_concentrate       19437 non-null  float64\n",
      " 31  rougher.calculation.floatbank10_sulfate_to_au_feed  19437 non-null  float64\n",
      " 32  rougher.calculation.floatbank11_sulfate_to_au_feed  19437 non-null  float64\n",
      " 33  rougher.calculation.au_pb_ratio                     19439 non-null  float64\n",
      " 34  rougher.input.feed_ag                               19439 non-null  float64\n",
      " 35  rougher.input.feed_pb                               19339 non-null  float64\n",
      " 36  rougher.input.feed_rate                             19428 non-null  float64\n",
      " 37  rougher.input.feed_size                             19294 non-null  float64\n",
      " 38  rougher.input.feed_sol                              19340 non-null  float64\n",
      " 39  rougher.input.feed_au                               19439 non-null  float64\n",
      " 40  rougher.input.floatbank10_sulfate                   19405 non-null  float64\n",
      " 41  rougher.input.floatbank10_xanthate                  19431 non-null  float64\n",
      " 42  rougher.input.floatbank11_sulfate                   19395 non-null  float64\n",
      " 43  rougher.input.floatbank11_xanthate                  18986 non-null  float64\n",
      " 44  rougher.output.concentrate_ag                       19439 non-null  float64\n",
      " 45  rougher.output.concentrate_pb                       19439 non-null  float64\n",
      " 46  rougher.output.concentrate_sol                      19416 non-null  float64\n",
      " 47  rougher.output.concentrate_au                       19439 non-null  float64\n",
      " 48  rougher.output.recovery                             19439 non-null  float64\n",
      " 49  rougher.output.tail_ag                              19438 non-null  float64\n",
      " 50  rougher.output.tail_pb                              19439 non-null  float64\n",
      " 51  rougher.output.tail_sol                             19439 non-null  float64\n",
      " 52  rougher.output.tail_au                              19439 non-null  float64\n",
      " 53  rougher.state.floatbank10_a_air                     19438 non-null  float64\n",
      " 54  rougher.state.floatbank10_a_level                   19438 non-null  float64\n",
      " 55  rougher.state.floatbank10_b_air                     19438 non-null  float64\n",
      " 56  rougher.state.floatbank10_b_level                   19438 non-null  float64\n",
      " 57  rougher.state.floatbank10_c_air                     19438 non-null  float64\n",
      " 58  rougher.state.floatbank10_c_level                   19438 non-null  float64\n",
      " 59  rougher.state.floatbank10_d_air                     19439 non-null  float64\n",
      " 60  rougher.state.floatbank10_d_level                   19439 non-null  float64\n",
      " 61  rougher.state.floatbank10_e_air                     19003 non-null  float64\n",
      " 62  rougher.state.floatbank10_e_level                   19439 non-null  float64\n",
      " 63  rougher.state.floatbank10_f_air                     19439 non-null  float64\n",
      " 64  rougher.state.floatbank10_f_level                   19439 non-null  float64\n",
      " 65  secondary_cleaner.output.tail_ag                    19437 non-null  float64\n",
      " 66  secondary_cleaner.output.tail_pb                    19427 non-null  float64\n",
      " 67  secondary_cleaner.output.tail_sol                   17691 non-null  float64\n",
      " 68  secondary_cleaner.output.tail_au                    19439 non-null  float64\n",
      " 69  secondary_cleaner.state.floatbank2_a_air            19219 non-null  float64\n",
      " 70  secondary_cleaner.state.floatbank2_a_level          19438 non-null  float64\n",
      " 71  secondary_cleaner.state.floatbank2_b_air            19416 non-null  float64\n",
      " 72  secondary_cleaner.state.floatbank2_b_level          19438 non-null  float64\n",
      " 73  secondary_cleaner.state.floatbank3_a_air            19426 non-null  float64\n",
      " 74  secondary_cleaner.state.floatbank3_a_level          19438 non-null  float64\n",
      " 75  secondary_cleaner.state.floatbank3_b_air            19438 non-null  float64\n",
      " 76  secondary_cleaner.state.floatbank3_b_level          19438 non-null  float64\n",
      " 77  secondary_cleaner.state.floatbank4_a_air            19433 non-null  float64\n",
      " 78  secondary_cleaner.state.floatbank4_a_level          19438 non-null  float64\n",
      " 79  secondary_cleaner.state.floatbank4_b_air            19438 non-null  float64\n",
      " 80  secondary_cleaner.state.floatbank4_b_level          19438 non-null  float64\n",
      " 81  secondary_cleaner.state.floatbank5_a_air            19438 non-null  float64\n",
      " 82  secondary_cleaner.state.floatbank5_a_level          19438 non-null  float64\n",
      " 83  secondary_cleaner.state.floatbank5_b_air            19438 non-null  float64\n",
      " 84  secondary_cleaner.state.floatbank5_b_level          19438 non-null  float64\n",
      " 85  secondary_cleaner.state.floatbank6_a_air            19437 non-null  float64\n",
      " 86  secondary_cleaner.state.floatbank6_a_level          19438 non-null  float64\n",
      "dtypes: float64(86), object(1)\n",
      "memory usage: 12.9+ MB\n"
     ]
    }
   ],
   "source": [
    "data_full.info()"
   ]
  },
  {
   "cell_type": "code",
   "execution_count": 9,
   "metadata": {},
   "outputs": [
    {
     "data": {
      "text/plain": [
       "(14149, 87)"
      ]
     },
     "execution_count": 9,
     "metadata": {},
     "output_type": "execute_result"
    }
   ],
   "source": [
    "data_train.shape"
   ]
  },
  {
   "cell_type": "code",
   "execution_count": 10,
   "metadata": {},
   "outputs": [
    {
     "data": {
      "text/plain": [
       "(5290, 53)"
      ]
     },
     "execution_count": 10,
     "metadata": {},
     "output_type": "execute_result"
    }
   ],
   "source": [
    "data_test.shape"
   ]
  },
  {
   "cell_type": "code",
   "execution_count": 11,
   "metadata": {},
   "outputs": [
    {
     "data": {
      "text/plain": [
       "(19439, 87)"
      ]
     },
     "execution_count": 11,
     "metadata": {},
     "output_type": "execute_result"
    }
   ],
   "source": [
    "data_full.shape"
   ]
  },
  {
   "cell_type": "markdown",
   "metadata": {},
   "source": [
    "Рассмотрев каждый из предоставленных датасетов мы видим, что в тестовом датасете отсутствует информация по финальным характеристикам продукта, а также характеристики, показывающие параметры продукта после каждого этапа производства. Из этого следует, что тестовые данные - данные о сырье, до начала его обработки или же во время, до получения результата.\n",
    "Полная выборка - тренировочная + тестовая со всеми параметрами. Данные нуждаются в предобработке."
   ]
  },
  {
   "cell_type": "markdown",
   "metadata": {},
   "source": [
    "<font color='blue'><b>Комментарий ревьюера: </b></font> ✔️\\\n",
    "<font color='green'>Данные загружены корректно, первичный осмотр проведен.</font>"
   ]
  },
  {
   "cell_type": "markdown",
   "metadata": {},
   "source": [
    "Теперь на тренировочной выборке проверим правильность вычисления эффективности обогощения. Расчитаем эффективность расчетов для столбца rougher.output.recovery в тренировочной выборке. Для этого нам понадобиться доля золота до флотации, после флотации и в отвальных хвостах. Данные хранятся в столбцах rougher.input.feed_au, rougher.output.concentrate_au, rougher.output.tail_au соответсвенно. Расчитаем коэффициент и найдем MAE между расчетами и данными из таблицы."
   ]
  },
  {
   "cell_type": "code",
   "execution_count": 12,
   "metadata": {},
   "outputs": [],
   "source": [
    "def recovery(row):\n",
    "    rec = (row[\"rougher.output.concentrate_au\"] * (row[\"rougher.input.feed_au\"] - row[\"rougher.output.tail_au\"]))/(row[\"rougher.input.feed_au\"] * (row[\"rougher.output.concentrate_au\"] - row[\"rougher.output.tail_au\"]))*100\n",
    "    return rec"
   ]
  },
  {
   "cell_type": "markdown",
   "metadata": {},
   "source": [
    "<font color='blue'><b>Комментарий ревьюера: </b></font> ✔️\\\n",
    "<font color='green'>Расчёт верный!</font>"
   ]
  },
  {
   "cell_type": "code",
   "execution_count": 13,
   "metadata": {},
   "outputs": [],
   "source": [
    "data_train[\"rec_rougher\"] = data_train.apply(recovery, axis = 1)"
   ]
  },
  {
   "cell_type": "code",
   "execution_count": 14,
   "metadata": {},
   "outputs": [
    {
     "data": {
      "text/plain": [
       "9.73512347450521e-15"
      ]
     },
     "execution_count": 14,
     "metadata": {},
     "output_type": "execute_result"
    }
   ],
   "source": [
    "mean_absolute_error(data_train[\"rougher.output.recovery\"], data_train[\"rec_rougher\"])"
   ]
  },
  {
   "cell_type": "code",
   "execution_count": 15,
   "metadata": {},
   "outputs": [],
   "source": [
    "data_train = data_train.drop(\"rec_rougher\", axis = 1)"
   ]
  },
  {
   "cell_type": "markdown",
   "metadata": {},
   "source": [
    "Средняя абсолютная ошибка между расчитанным обогащением после флотации и в данных очень мала. Из этого следует, что расчеты данные для анализа заказчиком верны. Теперь необходимо произвести предобработку данных."
   ]
  },
  {
   "cell_type": "markdown",
   "metadata": {},
   "source": [
    "<font color='blue'><b>Комментарий ревьюера: </b></font> ✔️\\\n",
    "<font color='green'>👍</font>"
   ]
  },
  {
   "cell_type": "markdown",
   "metadata": {},
   "source": [
    "Проанализировав, данные в тренировочной и тестовой выборке имеют нулевые значения почти во всех столбцах. Считаю необходимым удалить строки в которых есть нулевые значения целевого признака, так как нужны точные значения для проверки предсказаний. пропуски в остальных признаках заменим на предыдущие значения, так как по условию задачи они часто схожи."
   ]
  },
  {
   "cell_type": "code",
   "execution_count": 16,
   "metadata": {},
   "outputs": [],
   "source": [
    "data_train = data_train.dropna(subset = [\"rougher.output.recovery\", \"final.output.recovery\"])\n",
    "data_full = data_full.dropna(subset = [\"rougher.output.recovery\", \"final.output.recovery\"])\n",
    "data_train = data_train.fillna(method = \"ffill\")\n",
    "data_test = data_test.fillna(method = \"ffill\")\n",
    "data_full = data_full.fillna(method = \"ffill\")"
   ]
  },
  {
   "cell_type": "markdown",
   "metadata": {},
   "source": [
    "<font color='blue'><b>Комментарий ревьюера: </b></font> ✔️\\\n",
    "<font color='green'> Пропуски заполнены согласно условию задачи!</font>"
   ]
  },
  {
   "cell_type": "markdown",
   "metadata": {},
   "source": [
    "Посмотрим есть ли в данных явные дубликаты"
   ]
  },
  {
   "cell_type": "code",
   "execution_count": 17,
   "metadata": {},
   "outputs": [
    {
     "data": {
      "text/plain": [
       "0"
      ]
     },
     "execution_count": 17,
     "metadata": {},
     "output_type": "execute_result"
    }
   ],
   "source": [
    "data_full.duplicated().sum()"
   ]
  },
  {
   "cell_type": "markdown",
   "metadata": {},
   "source": [
    "В данных нет дубликатов. Так как дата не является признаком необходимым для расчетов целевого признака необходимо индексировать датасеты по дате, для лучшей идентификации строк."
   ]
  },
  {
   "cell_type": "code",
   "execution_count": 18,
   "metadata": {},
   "outputs": [],
   "source": [
    "data_train.index = data_train[\"date\"]\n",
    "data_train = data_train.drop(\"date\", axis = 1)\n",
    "data_test.index = data_test[\"date\"]\n",
    "data_test = data_test.drop(\"date\", axis = 1)\n",
    "data_full.index = data_full[\"date\"]\n",
    "data_full = data_full.drop(\"date\", axis = 1)"
   ]
  },
  {
   "cell_type": "markdown",
   "metadata": {},
   "source": [
    "<font color='blue'><b>Комментарий ревьюера: </b></font> ✔️\\\n",
    "<font color='green'> Верно, лучше привязаться ко времени.</font> "
   ]
  },
  {
   "cell_type": "markdown",
   "metadata": {},
   "source": [
    "В данном разделе были просмотрены данные, предоставленные заказчиком, провдена проверка расчетов эффективности обогощения. Проанализированы отличия между тестовым и тренировочным датасетом, а также произведена подготовка данных к дальнейшей работе"
   ]
  },
  {
   "cell_type": "markdown",
   "metadata": {},
   "source": [
    "Теперь необходимо проанализировать как меняется концентрация металлов на различных этапах очистки сырья. Всего сырье проходит 3 этапа очистки - флотацию, первую и второю очиску. Проведем анализ на основе данных из полного, неразделенного датасета."
   ]
  },
  {
   "cell_type": "code",
   "execution_count": 19,
   "metadata": {},
   "outputs": [
    {
     "data": {
      "text/plain": [
       "<matplotlib.legend.Legend at 0x7f792d63c7f0>"
      ]
     },
     "execution_count": 19,
     "metadata": {},
     "output_type": "execute_result"
    },
    {
     "data": {
      "image/png": "[encoded data removed]",
      "text/plain": [
       "<Figure size 432x288 with 1 Axes>"
      ]
     },
     "metadata": {
      "needs_background": "light"
     },
     "output_type": "display_data"
    }
   ],
   "source": [
    "plt.hist(data_full[\"rougher.output.concentrate_ag\"], alpha = 0.5, label = \"ag после флотации\", bins = 100)\n",
    "plt.hist(data_full[\"primary_cleaner.output.concentrate_ag\"], alpha = 0.5, label = \"ag после первой очистки\", bins = 100)\n",
    "plt.hist(data_full[\"final.output.concentrate_ag\"], alpha = 0.5, label = \"ag финал\", bins =100)\n",
    "plt.legend() "
   ]
  },
  {
   "cell_type": "markdown",
   "metadata": {},
   "source": [
    "По графику распределения концентрации серебра в сырье видим, что без обработки в среднем процент серебра достигает 10, после флотации средний процент ag немного повышается. После первичной очиски концентрация падает в среднем до 8 процентов. В финальном продукте процент серебра в среднем достигает примерно 5 процентов. Но коненчно возможны оклонения, как в большую, так и в меньшую стороны. Рассмотрим распределения концентрации для pb."
   ]
  },
  {
   "cell_type": "code",
   "execution_count": 20,
   "metadata": {},
   "outputs": [
    {
     "data": {
      "text/plain": [
       "<matplotlib.legend.Legend at 0x7f792d3511f0>"
      ]
     },
     "execution_count": 20,
     "metadata": {},
     "output_type": "execute_result"
    },
    {
     "data": {
      "image/png": "[encoded data removed]",
      "text/plain": [
       "<Figure size 432x288 with 1 Axes>"
      ]
     },
     "metadata": {
      "needs_background": "light"
     },
     "output_type": "display_data"
    }
   ],
   "source": [
    "plt.hist(data_full[\"rougher.output.concentrate_pb\"], alpha = 0.5, label = \"pb после флотации\", bins = 100)\n",
    "plt.hist(data_full[\"primary_cleaner.output.concentrate_pb\"], alpha = 0.5, label = \"pb после первой очистки\", bins = 100)\n",
    "plt.hist(data_full[\"final.output.concentrate_pb\"], alpha = 0.5, label = \"pb финал\", bins =100)\n",
    "plt.legend() "
   ]
  },
  {
   "cell_type": "markdown",
   "metadata": {},
   "source": [
    "После флотации распределение свинца в среднем показывает результат 7.5 процента. При первой и второй очистке распределение свинца показывает в среднем окло 10 процентов, но при первой очиске распределение более широкое, при вторичном же более стремится к среднему. "
   ]
  },
  {
   "cell_type": "markdown",
   "metadata": {},
   "source": []
  },
  {
   "cell_type": "code",
   "execution_count": 21,
   "metadata": {},
   "outputs": [
    {
     "data": {
      "text/plain": [
       "<matplotlib.legend.Legend at 0x7f792cfe1f70>"
      ]
     },
     "execution_count": 21,
     "metadata": {},
     "output_type": "execute_result"
    },
    {
     "data": {
      "image/png": "[encoded data removed]",
      "text/plain": [
       "<Figure size 432x288 with 1 Axes>"
      ]
     },
     "metadata": {
      "needs_background": "light"
     },
     "output_type": "display_data"
    }
   ],
   "source": [
    "plt.hist(data_full[\"rougher.output.concentrate_au\"], alpha = 0.5, label = \"au после флотации\", bins = 100)\n",
    "plt.hist(data_full[\"primary_cleaner.output.concentrate_au\"], alpha = 0.5, label = \"au после первой очистки\", bins = 100)\n",
    "plt.hist(data_full[\"final.output.concentrate_au\"], alpha = 0.5, label = \"au финал\", bins =100)\n",
    "plt.legend() "
   ]
  },
  {
   "cell_type": "markdown",
   "metadata": {},
   "source": [
    "Для распределения золота в разных этапах явно видна зависимость. При каждом этапе процент золота в продукте увеличивается. При флотации в среднем процент равен примерно 20 процентам. После второй очистки средний процент золота примерно равняется 45 процентам. Также для каждого из металлов видны выбросы в нуле на каждом из этапов."
   ]
  },
  {
   "cell_type": "markdown",
   "metadata": {},
   "source": [
    "<font color='blue'><b>Комментарий ревьюера: </b></font> ✔️\\\n",
    "<font color='green'> Всё верно!</font>"
   ]
  },
  {
   "cell_type": "markdown",
   "metadata": {},
   "source": [
    "Далее расмотрим распределение гранул сырья на обучающей и тестовой выборках. Для этого необходимо сравнить распределения данных в столбцах primary_cleaner.input.feed_size и rougher.input.feed_size. "
   ]
  },
  {
   "cell_type": "code",
   "execution_count": 22,
   "metadata": {},
   "outputs": [
    {
     "data": {
      "text/plain": [
       "<matplotlib.legend.Legend at 0x7f792cb1eaf0>"
      ]
     },
     "execution_count": 22,
     "metadata": {},
     "output_type": "execute_result"
    },
    {
     "data": {
      "image/png": "[encoded data removed]",
      "text/plain": [
       "<Figure size 432x288 with 1 Axes>"
      ]
     },
     "metadata": {
      "needs_background": "light"
     },
     "output_type": "display_data"
    }
   ],
   "source": [
    "plt.hist(data_test[\"rougher.input.feed_size\"], alpha = 1, bins = 100, label = \"Тестовая\", density=True)\n",
    "plt.hist(data_train[\"rougher.input.feed_size\"], alpha = 0.3, bins = 100, label = \"Тренировочная\", density=True)\n",
    "plt.legend()"
   ]
  },
  {
   "cell_type": "code",
   "execution_count": 23,
   "metadata": {},
   "outputs": [
    {
     "data": {
      "text/plain": [
       "(count    14149.000000\n",
       " mean        60.239856\n",
       " std         23.005310\n",
       " min          9.659576\n",
       " 25%         48.966751\n",
       " 50%         55.269784\n",
       " 75%         66.007526\n",
       " max        484.967466\n",
       " Name: rougher.input.feed_size, dtype: float64,\n",
       " count    5290.000000\n",
       " mean       55.952754\n",
       " std        19.080334\n",
       " min         0.046369\n",
       " 25%        43.906504\n",
       " 50%        50.846843\n",
       " 75%        62.451165\n",
       " max       392.494040\n",
       " Name: rougher.input.feed_size, dtype: float64)"
      ]
     },
     "execution_count": 23,
     "metadata": {},
     "output_type": "execute_result"
    }
   ],
   "source": [
    "data_train[\"rougher.input.feed_size\"].describe(), data_test[\"rougher.input.feed_size\"].describe()"
   ]
  },
  {
   "cell_type": "code",
   "execution_count": 24,
   "metadata": {},
   "outputs": [
    {
     "data": {
      "text/plain": [
       "<matplotlib.legend.Legend at 0x7f792c8b6ee0>"
      ]
     },
     "execution_count": 24,
     "metadata": {},
     "output_type": "execute_result"
    },
    {
     "data": {
      "image/png": "[encoded data removed]",
      "text/plain": [
       "<Figure size 432x288 with 1 Axes>"
      ]
     },
     "metadata": {
      "needs_background": "light"
     },
     "output_type": "display_data"
    }
   ],
   "source": [
    "plt.hist(data_test[\"primary_cleaner.input.feed_size\"], alpha = 1, bins = 100, label = \"Тестовая\", density=True)\n",
    "plt.hist(data_train[\"primary_cleaner.input.feed_size\"], alpha = 0.3, bins = 100, label = \"Тренировочная\", density=True)\n",
    "plt.legend()"
   ]
  },
  {
   "cell_type": "code",
   "execution_count": 25,
   "metadata": {},
   "outputs": [
    {
     "data": {
      "text/plain": [
       "(count    14149.000000\n",
       " mean         7.322310\n",
       " std          0.614062\n",
       " min          1.080000\n",
       " 25%          6.960000\n",
       " 50%          7.290000\n",
       " 75%          7.700000\n",
       " max         10.470000\n",
       " Name: primary_cleaner.input.feed_size, dtype: float64,\n",
       " count    5290.000000\n",
       " mean        7.266339\n",
       " std         0.610219\n",
       " min         5.650000\n",
       " 25%         6.890000\n",
       " 50%         7.250000\n",
       " 75%         7.600000\n",
       " max        15.500000\n",
       " Name: primary_cleaner.input.feed_size, dtype: float64)"
      ]
     },
     "execution_count": 25,
     "metadata": {},
     "output_type": "execute_result"
    }
   ],
   "source": [
    "data_train[\"primary_cleaner.input.feed_size\"].describe(), data_test[\"primary_cleaner.input.feed_size\"].describe()"
   ]
  },
  {
   "cell_type": "markdown",
   "metadata": {},
   "source": [
    "Распределения размеров гранул в в обучающей и тестовой выборке похожи. Среднее, стандартное отклонение, значение квартилей примерно схожи. Единственное, что минимальные и максимальные значения на тренировочной выборке более отдалены от среднего, и присутствуют более яркие выбросы. "
   ]
  },
  {
   "cell_type": "markdown",
   "metadata": {},
   "source": [
    "<font color='blue'><b>Комментарий ревьюера: </b></font> ✔️\\\n",
    "<font color='green'> Вывод верный!</font>"
   ]
  },
  {
   "cell_type": "markdown",
   "metadata": {},
   "source": [
    "Тем рассмотрим суммарную крнцентрацию веществ на каждом этапе обработки. Для этого создадим столбцы с суммой всех концентраций элементов на всех этапах обработки и посмотрим на распределение. Рассматривать будем для датасета треин, так как в дальнейшем на нем будет обучаться модель, следовательно необходимо удалить аномальные значения в данных этой таблицы."
   ]
  },
  {
   "cell_type": "code",
   "execution_count": 26,
   "metadata": {},
   "outputs": [],
   "source": [
    "def sum_col_rougher(row):\n",
    "    sum_con = row[\"rougher.output.concentrate_ag\"]+row[\"rougher.output.concentrate_au\"]+row[\"rougher.output.concentrate_pb\"]+row[\"rougher.output.concentrate_sol\"]\n",
    "    return sum_con"
   ]
  },
  {
   "cell_type": "code",
   "execution_count": 27,
   "metadata": {},
   "outputs": [],
   "source": [
    "data_train[\"rougher_sum_con\"] = data_train.apply(sum_col_rougher, axis = 1)"
   ]
  },
  {
   "cell_type": "code",
   "execution_count": 28,
   "metadata": {},
   "outputs": [
    {
     "data": {
      "text/plain": [
       "(<AxesSubplot:>,\n",
       " count    14149.000000\n",
       " mean        67.173145\n",
       " std         12.713129\n",
       " min          0.000000\n",
       " 25%         64.914390\n",
       " 50%         69.175663\n",
       " 75%         73.429261\n",
       " max         88.140119\n",
       " Name: rougher_sum_con, dtype: float64)"
      ]
     },
     "execution_count": 28,
     "metadata": {},
     "output_type": "execute_result"
    },
    {
     "data": {
      "image/png": "[encoded data removed]",
      "text/plain": [
       "<Figure size 432x288 with 1 Axes>"
      ]
     },
     "metadata": {
      "needs_background": "light"
     },
     "output_type": "display_data"
    }
   ],
   "source": [
    "data_train[\"rougher_sum_con\"].hist(bins=100), data_train[\"rougher_sum_con\"].describe()"
   ]
  },
  {
   "cell_type": "code",
   "execution_count": 29,
   "metadata": {},
   "outputs": [
    {
     "data": {
      "text/plain": [
       "<AxesSubplot:>"
      ]
     },
     "execution_count": 29,
     "metadata": {},
     "output_type": "execute_result"
    },
    {
     "data": {
      "image/png": "[encoded data removed]",
      "text/plain": [
       "<Figure size 432x288 with 1 Axes>"
      ]
     },
     "metadata": {
      "needs_background": "light"
     },
     "output_type": "display_data"
    }
   ],
   "source": [
    "data_train.boxplot(column = \"rougher_sum_con\")"
   ]
  },
  {
   "cell_type": "code",
   "execution_count": 30,
   "metadata": {},
   "outputs": [
    {
     "data": {
      "text/plain": [
       "29.033758636871354"
      ]
     },
     "execution_count": 30,
     "metadata": {},
     "output_type": "execute_result"
    }
   ],
   "source": [
    "data_train[\"rougher_sum_con\"].mean() - 3*data_train[\"rougher_sum_con\"].std()"
   ]
  },
  {
   "cell_type": "markdown",
   "metadata": {},
   "source": [
    "Суммарное распределение концентраций элементов после флотации скошено влево, среднее значение и медиана практически равны, это значит, что распределение не имеет больших выбросов. Но есть небольшие выбросы в сторону 0. Так минимальное значение в выборке равняется 0. Это явно аномальное значение. Так же по правилу трех сигм 99 процентов всего датасета находится в диапазоне больше 29. Считаю значения меньше - аномальными и удалю их."
   ]
  },
  {
   "cell_type": "code",
   "execution_count": 31,
   "metadata": {},
   "outputs": [],
   "source": [
    "data_train = data_train[data_train[\"rougher_sum_con\"] > 29.04]"
   ]
  },
  {
   "cell_type": "markdown",
   "metadata": {},
   "source": [
    "Рассмотрим распределение концентраций в сырье."
   ]
  },
  {
   "cell_type": "code",
   "execution_count": 32,
   "metadata": {},
   "outputs": [],
   "source": [
    "def sum_input(row):\n",
    "    sum_con = row[\"rougher.input.feed_ag\"]+row[\"rougher.input.feed_au\"]+row[\"rougher.input.feed_pb\"]+row[\"rougher.input.feed_sol\"]\n",
    "    return sum_con"
   ]
  },
  {
   "cell_type": "code",
   "execution_count": 33,
   "metadata": {},
   "outputs": [],
   "source": [
    "data_train[\"primary_input\"] = data_train.apply(sum_input, axis = 1)"
   ]
  },
  {
   "cell_type": "code",
   "execution_count": 34,
   "metadata": {},
   "outputs": [
    {
     "data": {
      "text/plain": [
       "(<AxesSubplot:>,\n",
       " count    13811.000000\n",
       " mean        56.286084\n",
       " std          6.756731\n",
       " min         11.784499\n",
       " 25%         52.548974\n",
       " 50%         56.622780\n",
       " 75%         60.760588\n",
       " max         74.458253\n",
       " Name: primary_input, dtype: float64)"
      ]
     },
     "execution_count": 34,
     "metadata": {},
     "output_type": "execute_result"
    },
    {
     "data": {
      "image/png": "[encoded data removed]",
      "text/plain": [
       "<Figure size 432x288 with 1 Axes>"
      ]
     },
     "metadata": {
      "needs_background": "light"
     },
     "output_type": "display_data"
    }
   ],
   "source": [
    "data_train[\"primary_input\"].hist(bins=100), data_train[\"primary_input\"].describe()"
   ]
  },
  {
   "cell_type": "code",
   "execution_count": 35,
   "metadata": {},
   "outputs": [
    {
     "data": {
      "text/plain": [
       "<AxesSubplot:>"
      ]
     },
     "execution_count": 35,
     "metadata": {},
     "output_type": "execute_result"
    },
    {
     "data": {
      "image/png": "[encoded data removed]",
      "text/plain": [
       "<Figure size 432x288 with 1 Axes>"
      ]
     },
     "metadata": {
      "needs_background": "light"
     },
     "output_type": "display_data"
    }
   ],
   "source": [
    "data_train.boxplot(column = \"primary_input\")"
   ]
  },
  {
   "cell_type": "code",
   "execution_count": 36,
   "metadata": {},
   "outputs": [
    {
     "data": {
      "text/plain": [
       "36.01589087306018"
      ]
     },
     "execution_count": 36,
     "metadata": {},
     "output_type": "execute_result"
    }
   ],
   "source": [
    "data_train[\"primary_input\"].mean() - data_train[\"primary_input\"].std() * 3"
   ]
  },
  {
   "cell_type": "markdown",
   "metadata": {},
   "source": [
    "Распределение внешне похоже на предыдущие, опять же есть выбросы. Так же отсечем их по правилу 3 сигм."
   ]
  },
  {
   "cell_type": "code",
   "execution_count": 37,
   "metadata": {},
   "outputs": [],
   "source": [
    "data_train = data_train[data_train[\"primary_input\"] > 36.6]"
   ]
  },
  {
   "cell_type": "markdown",
   "metadata": {},
   "source": [
    "Рассмотрим распределение в финальном продукте."
   ]
  },
  {
   "cell_type": "code",
   "execution_count": 38,
   "metadata": {},
   "outputs": [],
   "source": [
    "def sum_col_final(row):\n",
    "    sum_con = row[\"final.output.concentrate_ag\"]+row[\"final.output.concentrate_au\"]+row[\"final.output.concentrate_pb\"]+row[\"final.output.concentrate_sol\"]\n",
    "    return sum_con"
   ]
  },
  {
   "cell_type": "code",
   "execution_count": 39,
   "metadata": {},
   "outputs": [],
   "source": [
    "data_train[\"final_sum_con\"] = data_train.apply(sum_col_final, axis = 1)"
   ]
  },
  {
   "cell_type": "code",
   "execution_count": 40,
   "metadata": {},
   "outputs": [
    {
     "data": {
      "text/plain": [
       "(<AxesSubplot:>,\n",
       " count    13638.000000\n",
       " mean        68.586913\n",
       " std          6.427722\n",
       " min          0.000000\n",
       " 25%         67.593951\n",
       " 50%         69.150928\n",
       " 75%         70.966086\n",
       " max         80.210644\n",
       " Name: final_sum_con, dtype: float64)"
      ]
     },
     "execution_count": 40,
     "metadata": {},
     "output_type": "execute_result"
    },
    {
     "data": {
      "image/png": "[encoded data removed]",
      "text/plain": [
       "<Figure size 432x288 with 1 Axes>"
      ]
     },
     "metadata": {
      "needs_background": "light"
     },
     "output_type": "display_data"
    }
   ],
   "source": [
    "data_train[\"final_sum_con\"].hist(bins = 100), data_train[\"final_sum_con\"].describe()"
   ]
  },
  {
   "cell_type": "code",
   "execution_count": 41,
   "metadata": {},
   "outputs": [
    {
     "data": {
      "text/plain": [
       "<AxesSubplot:>"
      ]
     },
     "execution_count": 41,
     "metadata": {},
     "output_type": "execute_result"
    },
    {
     "data": {
      "image/png": "[encoded data removed]",
      "text/plain": [
       "<Figure size 432x288 with 1 Axes>"
      ]
     },
     "metadata": {
      "needs_background": "light"
     },
     "output_type": "display_data"
    }
   ],
   "source": [
    "data_train.boxplot(column = \"final_sum_con\")"
   ]
  },
  {
   "cell_type": "code",
   "execution_count": 42,
   "metadata": {},
   "outputs": [
    {
     "data": {
      "text/plain": [
       "49.30374681059258"
      ]
     },
     "execution_count": 42,
     "metadata": {},
     "output_type": "execute_result"
    }
   ],
   "source": [
    "data_train[\"final_sum_con\"].mean() - data_train[\"final_sum_con\"].std()*3"
   ]
  },
  {
   "cell_type": "markdown",
   "metadata": {},
   "source": [
    "Распределение также внешне очень похоже на предыдущие, но в этом 1 и 3 квартеле очень близки к медиане, также количество выбросов меньше, чем в предыдущих. Обрежем это распределение, также как и предыдущие - по правилу 3 сигм"
   ]
  },
  {
   "cell_type": "code",
   "execution_count": 43,
   "metadata": {},
   "outputs": [],
   "source": [
    "data_train = data_train[data_train[\"final_sum_con\"] > 49.1] "
   ]
  },
  {
   "cell_type": "markdown",
   "metadata": {},
   "source": [
    "Мной были исследованы распределения суммарной концентрации элементов в продукте на разных этапах, выявлены и удалены аномальные значения. Теперь данные полностью готовы к обучению моделей."
   ]
  },
  {
   "cell_type": "code",
   "execution_count": 44,
   "metadata": {},
   "outputs": [],
   "source": [
    "data_train = data_train.drop([\"final_sum_con\", \"primary_input\", \"rougher_sum_con\"], axis = 1)"
   ]
  },
  {
   "cell_type": "markdown",
   "metadata": {},
   "source": [
    "<font color='blue'><b>Комментарий ревьюера: </b></font> ✔️\\\n",
    "<font color='green'> Выбросы удалены.</font>"
   ]
  },
  {
   "cell_type": "markdown",
   "metadata": {},
   "source": [
    "<font color='purple'><b>Провел исследование суммароной концентрации всех веществ в сырье в соответствии с заданием</b></font>"
   ]
  },
  {
   "cell_type": "markdown",
   "metadata": {},
   "source": [
    "<font color='blue'><b>Комментарий ревьюера 2: </b></font> ✔️\\\n",
    "<font color='green'> Отлично! </font>"
   ]
  },
  {
   "cell_type": "markdown",
   "metadata": {},
   "source": [
    "## Модель"
   ]
  },
  {
   "cell_type": "markdown",
   "metadata": {},
   "source": [
    "Теперь приступим к обучению моделей. Качество модели определяется метрикой sMAPE. Напишем функцию для расчета этой метрики."
   ]
  },
  {
   "cell_type": "code",
   "execution_count": 45,
   "metadata": {},
   "outputs": [],
   "source": [
    "def smape(targ, pred):\n",
    "    smape = ((abs(targ-pred)/((abs(targ)+abs(pred))/2)).sum())*100/len(targ)\n",
    "    return smape"
   ]
  },
  {
   "cell_type": "code",
   "execution_count": 46,
   "metadata": {},
   "outputs": [],
   "source": [
    "def smape_full(smape_r, smape_final):\n",
    "    s = 0.25 * smape_r + 0.75 * smape_final\n",
    "    return s"
   ]
  },
  {
   "cell_type": "markdown",
   "metadata": {},
   "source": [
    "<font color='blue'><b>Комментарий ревьюера: </b></font> ✔️\\\n",
    "<font color='green'> `smape` и `smape_full` расчитаны верно.</font>"
   ]
  },
  {
   "cell_type": "markdown",
   "metadata": {},
   "source": [
    "Сравним несколько моделей, точность предсказаний будем измерять метрикой smape. Для этого сделаем скорер, что бы считать выбирать модель по значению метрики smape."
   ]
  },
  {
   "cell_type": "code",
   "execution_count": 47,
   "metadata": {},
   "outputs": [],
   "source": [
    "smape_scorer = make_scorer(smape)"
   ]
  },
  {
   "cell_type": "markdown",
   "metadata": {},
   "source": [
    "<font color='blue'><b>Комментарий ревьюера: </b></font> ✔️\\\n",
    "<font color='green'> Отлично, что оценка по целевой метрике!</font>"
   ]
  },
  {
   "cell_type": "markdown",
   "metadata": {},
   "source": [
    "Теперь необходимо обучить и проверить модель. Для большей точности применим кросс-валидацию. Также необходимо выделить из тренировочной выборки целевые признаки. Обучать модель будем на признаках таких же как и в тестовой выборке, так как в тренировочной выборке есть фичи по которым на прямую можно посчитать таргетовые значения, поэтому удалим их."
   ]
  },
  {
   "cell_type": "code",
   "execution_count": 48,
   "metadata": {},
   "outputs": [],
   "source": [
    "train_target_r = data_train[\"rougher.output.recovery\"]\n",
    "train_target_final = data_train[\"final.output.recovery\"]\n",
    "train_features = data_train.drop([\"rougher.output.recovery\", \"final.output.recovery\"], axis = 1)"
   ]
  },
  {
   "cell_type": "code",
   "execution_count": 49,
   "metadata": {},
   "outputs": [],
   "source": [
    "train_features = train_features.drop([\"final.output.concentrate_ag\", \"final.output.concentrate_pb\", \"final.output.concentrate_sol\", \"final.output.concentrate_au\",\n",
    "                             \"final.output.tail_ag\", \"final.output.tail_pb\", \"final.output.tail_sol\", \"final.output.tail_au\",\n",
    "                             \"primary_cleaner.output.concentrate_ag\", \"primary_cleaner.output.concentrate_pb\", \"primary_cleaner.output.concentrate_sol\",              \n",
    "                             \"primary_cleaner.output.concentrate_au\", \"rougher.output.tail_ag\", \"rougher.output.tail_pb\", \"rougher.output.tail_sol\",                             \n",
    "                             \"rougher.output.tail_au\", \"secondary_cleaner.output.tail_ag\", \"secondary_cleaner.output.tail_pb\", \"secondary_cleaner.output.tail_sol\",\n",
    "                             \"secondary_cleaner.output.tail_au\", \"primary_cleaner.output.tail_ag\", \"primary_cleaner.output.tail_pb\", \"primary_cleaner.output.tail_sol\",\n",
    "                             \"primary_cleaner.output.tail_au\",\"rougher.calculation.sulfate_to_au_concentrate\", \"rougher.calculation.floatbank10_sulfate_to_au_feed\",\n",
    "                              \"rougher.calculation.floatbank11_sulfate_to_au_feed\", \"rougher.calculation.au_pb_ratio\", \"rougher.output.concentrate_ag\", \n",
    "                              \"rougher.output.concentrate_pb\", \"rougher.output.concentrate_au\", \"rougher.output.concentrate_sol\"], axis = 1)"
   ]
  },
  {
   "cell_type": "markdown",
   "metadata": {},
   "source": [
    "Обучим линейную регрессию"
   ]
  },
  {
   "cell_type": "code",
   "execution_count": 50,
   "metadata": {},
   "outputs": [
    {
     "name": "stdout",
     "output_type": "stream",
     "text": [
      "7.012602852222335 10.64550199921868\n",
      "9.737277212469595\n",
      "CPU times: user 1.29 s, sys: 1.78 s, total: 3.07 s\n",
      "Wall time: 3.02 s\n"
     ]
    }
   ],
   "source": [
    "%%time\n",
    "\n",
    "model = LinearRegression()\n",
    "scorer_r = cross_val_score(model, train_features, train_target_r, scoring = smape_scorer).mean()\n",
    "score_final = cross_val_score(model, train_features, train_target_final, scoring = smape_scorer).mean()\n",
    "print(scorer_r, score_final)\n",
    "print(smape_full(scorer_r, score_final))"
   ]
  },
  {
   "cell_type": "markdown",
   "metadata": {},
   "source": [
    "<font color='blue'><b>Комментарий ревьюера : </b></font> ✔️\\\n",
    "<font color='green'> Кроссвалидация проведена верно!</font>"
   ]
  },
  {
   "cell_type": "markdown",
   "metadata": {},
   "source": [
    "Линейная регрессия дает предикт с параметром smape равным 9.96, показатель неплохой, далее проведем обучение дерева решений. Выьерем с помощью GridSearchCV оптимальные параметры для данной выборки."
   ]
  },
  {
   "cell_type": "code",
   "execution_count": 51,
   "metadata": {},
   "outputs": [],
   "source": [
    "smape_grid = make_scorer(smape, greater_is_better = False)"
   ]
  },
  {
   "cell_type": "code",
   "execution_count": 52,
   "metadata": {},
   "outputs": [
    {
     "name": "stdout",
     "output_type": "stream",
     "text": [
      "CPU times: user 5.08 s, sys: 717 µs, total: 5.08 s\n",
      "Wall time: 5.08 s\n"
     ]
    },
    {
     "data": {
      "text/plain": [
       "{'max_depth': 1}"
      ]
     },
     "execution_count": 52,
     "metadata": {},
     "output_type": "execute_result"
    }
   ],
   "source": [
    "%%time\n",
    "parameter = {\"max_depth\": (1,100)}\n",
    "model = DecisionTreeRegressor(random_state = 12345)\n",
    "model_grid = GridSearchCV(model, parameter, scoring = smape_grid)\n",
    "model_grid.fit(train_features, train_target_final)\n",
    "model_grid.best_params_"
   ]
  },
  {
   "cell_type": "markdown",
   "metadata": {},
   "source": [
    "<font color='purple'><b>Добавил scorer c параметром greater_is_better = False для GridSearchCV.</b></font>"
   ]
  },
  {
   "cell_type": "markdown",
   "metadata": {},
   "source": [
    "<font color='blue'><b>Комментарий ревьюера 2: </b></font> ✔️\\\n",
    "<font color='green'>Супер!</font>"
   ]
  },
  {
   "cell_type": "markdown",
   "metadata": {},
   "source": [
    "Обучим дерево решений с оптимальными параметрами"
   ]
  },
  {
   "cell_type": "code",
   "execution_count": 53,
   "metadata": {},
   "outputs": [
    {
     "name": "stdout",
     "output_type": "stream",
     "text": [
      "6.807803449725165 9.380809409113258\n",
      "8.737557919266235\n"
     ]
    }
   ],
   "source": [
    "model =  DecisionTreeRegressor(max_depth = 1, random_state = 12345)\n",
    "scorer_r = cross_val_score(model, train_features, train_target_r, scoring = smape_scorer).mean()\n",
    "score_final = cross_val_score(model, train_features, train_target_final, scoring = smape_scorer).mean()\n",
    "print(scorer_r, score_final)\n",
    "print(smape_full(scorer_r, score_final))"
   ]
  },
  {
   "cell_type": "markdown",
   "metadata": {},
   "source": [
    "Дерево решений с глубиной дерева 100 дало лучший параметр smape, чем линйная регрессия. Рассмотрим модель случайного леса."
   ]
  },
  {
   "cell_type": "code",
   "execution_count": 54,
   "metadata": {},
   "outputs": [
    {
     "name": "stdout",
     "output_type": "stream",
     "text": [
      "6.514315104425904 8.862671924689119\n",
      "8.275582719623316\n"
     ]
    }
   ],
   "source": [
    "model = RandomForestRegressor(max_depth = 2, n_estimators = 100, random_state = 12345)\n",
    "scorer_r = cross_val_score(model, train_features, train_target_r, scoring = smape_scorer).mean()\n",
    "score_final = cross_val_score(model, train_features, train_target_final, scoring = smape_scorer).mean()\n",
    "print(scorer_r, score_final)\n",
    "print(smape_full(scorer_r, score_final))"
   ]
  },
  {
   "cell_type": "markdown",
   "metadata": {},
   "source": [
    "<font color='blue'><b>Комментарий ревьюера: </b></font> ✔️\\\n",
    "<font color='green'>👍</font>"
   ]
  },
  {
   "cell_type": "markdown",
   "metadata": {},
   "source": [
    "Рассмотрим модель соседей и сделаем выводы."
   ]
  },
  {
   "cell_type": "code",
   "execution_count": 55,
   "metadata": {},
   "outputs": [
    {
     "name": "stdout",
     "output_type": "stream",
     "text": [
      "CPU times: user 4.28 s, sys: 5.44 s, total: 9.73 s\n",
      "Wall time: 9.73 s\n"
     ]
    },
    {
     "data": {
      "text/plain": [
       "{'n_neighbors': 100}"
      ]
     },
     "execution_count": 55,
     "metadata": {},
     "output_type": "execute_result"
    }
   ],
   "source": [
    "%%time\n",
    "parameter = {\"n_neighbors\": (1,100)}\n",
    "model = KNeighborsRegressor()\n",
    "model_grid = GridSearchCV(model, parameter, scoring = smape_grid)\n",
    "model_grid.fit(train_features, train_target_final)\n",
    "model_grid.best_params_"
   ]
  },
  {
   "cell_type": "code",
   "execution_count": 56,
   "metadata": {},
   "outputs": [
    {
     "name": "stdout",
     "output_type": "stream",
     "text": [
      "9.981543394569691 15.319403084266014\n",
      "13.984938161841933\n"
     ]
    }
   ],
   "source": [
    "model = KNeighborsRegressor(n_neighbors = 1)\n",
    "model.fit(train_features, train_target_final)\n",
    "scorer_r = cross_val_score(model, train_features, train_target_r, scoring = smape_scorer).mean()\n",
    "score_final = cross_val_score(model, train_features, train_target_final, scoring = smape_scorer).mean()\n",
    "print(scorer_r, score_final)\n",
    "print(smape_full(scorer_r, score_final))"
   ]
  },
  {
   "cell_type": "markdown",
   "metadata": {},
   "source": [
    "Соседи показал самое плохое значение smape. Лучшее значение smape показал алгоритм случайного леса с оптимальными значениями, попробую проверить его на тестовой выборке. Для этого создадим датасет с таргетовыми значениями для тестового датасета. Подгрузим их из data_full."
   ]
  },
  {
   "cell_type": "code",
   "execution_count": 57,
   "metadata": {},
   "outputs": [],
   "source": [
    "targ = data_full[[\"rougher.output.recovery\", \"final.output.recovery\"]]\n",
    "data_test = data_test.join(targ, how = \"left\")"
   ]
  },
  {
   "cell_type": "markdown",
   "metadata": {},
   "source": [
    "<font color='blue'><b>Комментарий ревьюера: </b></font> ✔️\\\n",
    "<font color='green'>👍</font>"
   ]
  },
  {
   "cell_type": "markdown",
   "metadata": {},
   "source": [
    "Разделим тестовый датасет на features и target"
   ]
  },
  {
   "cell_type": "code",
   "execution_count": 58,
   "metadata": {},
   "outputs": [],
   "source": [
    "test_target_r = data_test[\"rougher.output.recovery\"]\n",
    "test_target_final = data_test[\"final.output.recovery\"]\n",
    "test_features = data_test.drop([\"rougher.output.recovery\", \"final.output.recovery\"], axis = 1)"
   ]
  },
  {
   "cell_type": "markdown",
   "metadata": {},
   "source": [
    "Обучим RandomForest и проверим предсказания на тестовом датасете."
   ]
  },
  {
   "cell_type": "code",
   "execution_count": 59,
   "metadata": {},
   "outputs": [
    {
     "data": {
      "text/plain": [
       "8.323993376730762"
      ]
     },
     "execution_count": 59,
     "metadata": {},
     "output_type": "execute_result"
    }
   ],
   "source": [
    "model = RandomForestRegressor(max_depth = 2, n_estimators = 100, random_state = 12345)\n",
    "model.fit(train_features, train_target_r)\n",
    "prediction = model.predict(test_features)\n",
    "smape_r = smape(test_target_r, prediction)\n",
    "smape_r"
   ]
  },
  {
   "cell_type": "code",
   "execution_count": 60,
   "metadata": {},
   "outputs": [
    {
     "data": {
      "text/plain": [
       "9.25752581214958"
      ]
     },
     "execution_count": 60,
     "metadata": {},
     "output_type": "execute_result"
    }
   ],
   "source": [
    "model = RandomForestRegressor(max_depth = 2, n_estimators = 100, random_state = 12345)\n",
    "model.fit(train_features, train_target_final)\n",
    "prediction = model.predict(test_features)\n",
    "smape_f = smape(test_target_final, prediction)\n",
    "smape_f"
   ]
  },
  {
   "cell_type": "code",
   "execution_count": 61,
   "metadata": {
    "scrolled": true
   },
   "outputs": [
    {
     "data": {
      "text/plain": [
       "9.024142703294876"
      ]
     },
     "execution_count": 61,
     "metadata": {},
     "output_type": "execute_result"
    }
   ],
   "source": [
    "smape_full(smape_r, smape_f)"
   ]
  },
  {
   "cell_type": "markdown",
   "metadata": {},
   "source": [
    "<font color='blue'><b>Комментарий ревьюера: </b></font> ✔️\\\n",
    "<font color='green'>Тестирование проведено верно.</font>"
   ]
  },
  {
   "cell_type": "markdown",
   "metadata": {},
   "source": [
    "Значение smape случайного леса на тестовой выборке равняется 9.04. Качество предсказания считаю хорошим."
   ]
  },
  {
   "cell_type": "markdown",
   "metadata": {},
   "source": [
    "Сравним получившиеся у модели smape cо значением метрики у DummyRegressor"
   ]
  },
  {
   "cell_type": "code",
   "execution_count": 62,
   "metadata": {},
   "outputs": [
    {
     "data": {
      "text/plain": [
       "8.928685427261055"
      ]
     },
     "execution_count": 62,
     "metadata": {},
     "output_type": "execute_result"
    }
   ],
   "source": [
    "model = DummyRegressor()\n",
    "model.fit(train_features, train_target_r)\n",
    "prediction = model.predict(test_features)\n",
    "smape_r = smape(test_target_r, prediction)\n",
    "smape_r"
   ]
  },
  {
   "cell_type": "code",
   "execution_count": 63,
   "metadata": {},
   "outputs": [
    {
     "data": {
      "text/plain": [
       "9.977474365607026"
      ]
     },
     "execution_count": 63,
     "metadata": {},
     "output_type": "execute_result"
    }
   ],
   "source": [
    "model = DummyRegressor()\n",
    "model.fit(train_features, train_target_final)\n",
    "prediction = model.predict(test_features)\n",
    "smape_f = smape(test_target_final, prediction)\n",
    "smape_f"
   ]
  },
  {
   "cell_type": "code",
   "execution_count": 64,
   "metadata": {},
   "outputs": [
    {
     "data": {
      "text/plain": [
       "9.715277131020533"
      ]
     },
     "execution_count": 64,
     "metadata": {},
     "output_type": "execute_result"
    }
   ],
   "source": [
    "smape_full(smape_r, smape_f)"
   ]
  },
  {
   "cell_type": "markdown",
   "metadata": {},
   "source": [
    "<font color='purple'><b>DummyRegressor предсказывает на тестовой выборке со значением smape 9.8. Модель случайного леса с оптимальными гиперпараметрами показывает лучший результат smape, следовательно предсказания адекватны.</b></font>"
   ]
  },
  {
   "cell_type": "markdown",
   "metadata": {},
   "source": [
    "<font color='blue'><b>Комментарий ревьюера 2: </b></font> ✔️\\\n",
    "<font color='green'> Вывод верный!</font>"
   ]
  },
  {
   "cell_type": "markdown",
   "metadata": {},
   "source": [
    "В данном проекте предсказывалось обогощение сырье после флотации и на финальном продукте. Мной были обработаны данные от заказчика, проверена правильность расчетов обогощения в тестовой выборке. Далее мной был проведен анализ и на основе его были убраны все выбросы из тестового датасета. Далее были обучены и проверены с помощью кросс-валидации на тестовой выборке несколько моделей и выбрана лучшая для предсказания таргктовых значений. Далее лучшая модель - RandomForestRegressor c гиперпараметрами 100 деревьев и глубиной 2 предсказала значение на тестовой выборке и вычеслено значение smape равное 9.04. Знасенеи метрики считаю хорошим и таким образом считаю все задачи проекта полностью выполнеными."
   ]
  },
  {
   "cell_type": "markdown",
   "metadata": {},
   "source": [
    "<font color='blue'><b>Итоговый комментарий ревьюера</b></font>\\\n",
    "<font color='green'>Михаил, хороший проект получился!\n",
    "Большое спасибо за проделанную работу. Видно, что приложено много усилий.\n",
    "Выводы и рассуждения получились содержательными, их было интересно читать.\n",
    "</font>\n",
    "\n",
    "<font color='blue'>Что нужно исправить:</font>\n",
    "<ul><font color='red'>Приведи исследование суммарных концентраций всех веществ в соответствие заданием.</font></ul>\n",
    "<ul><font color='red'>Передай аргумент greater_is_better = False в make_scorer для GridSeachCV</font></ul>\n",
    "<ul><font color='red'>Добавь тест константной модели для оценки адекватности работы моделей.</font></ul>\n",
    "\n",
    "<font color='blue'>Что можно сделать лучше:</font>\n",
    "<font color='orange'>В работе я оставил несколько советов. Буду рад, если ты учтешь их.</font></ul>\n",
    "\n",
    "<font color='blue'><b>Жду новую версию проекта :)</b></font>"
   ]
  },
  {
   "cell_type": "markdown",
   "metadata": {},
   "source": [
    "<font color='purple'><b>Спасибо за проверку, все замечания учтены, а недочеты исправлены!</b></font>"
   ]
  },
  {
   "cell_type": "markdown",
   "metadata": {},
   "source": [
    "<font color='blue'><b>Итоговый комментарий ревьюера 2</b></font>\\\n",
    "<font color='green'> Михаил, проект принят! \\\n",
    "Все этапы пройдены. Все критичные рекомендации учтены.\\\n",
    "Надеюсь, тебе понравился процесс выполнения и результат.</font> \\\n",
    "<font color='blue'><b>Спасибо, удачи в освоении профессии!</b></font>"
   ]
  },
  {
   "cell_type": "markdown",
   "metadata": {},
   "source": [
    "## Чек-лист готовности проекта"
   ]
  },
  {
   "cell_type": "markdown",
   "metadata": {},
   "source": [
    "- [x]  Jupyter Notebook открыт\n",
    "- [x]  Весь код выполняется без ошибок\n",
    "- [x]  Ячейки с кодом расположены в порядке выполнения\n",
    "- [x]  Выполнен шаг 1: данные подготовлены\n",
    "    - [x]  Проверена формула вычисления эффективности обогащения\n",
    "    - [x]  Проанализированы признаки, недоступные в тестовой выборке\n",
    "    - [x]  Проведена предобработка данных\n",
    "- [x]  Выполнен шаг 2: данные проанализированы\n",
    "    - [x]  Исследовано изменение концентрации элементов на каждом этапе\n",
    "    - [x]  Проанализированы распределения размеров гранул на обучающей и тестовой выборках\n",
    "    - [x]  Исследованы суммарные концентрации\n",
    "- [x]  Выполнен шаг 3: построена модель прогнозирования\n",
    "    - [x]  Написана функция для вычисления итогового *sMAPE*\n",
    "    - [x]  Обучено и проверено несколько моделей\n",
    "    - [x]  Выбрана лучшая модель, её качество проверено на тестовой выборке"
   ]
  },
  {
   "cell_type": "code",
   "execution_count": null,
   "metadata": {},
   "outputs": [],
   "source": []
  }
 ],
 "metadata": {
  "ExecuteTimeLog": [
   {
    "duration": 424,
    "start_time": "2022-07-12T05:01:18.824Z"
   },
   {
    "duration": 94,
    "start_time": "2022-07-12T05:04:13.453Z"
   },
   {
    "duration": 839,
    "start_time": "2022-07-12T05:04:52.204Z"
   },
   {
    "duration": 1092,
    "start_time": "2022-07-12T05:06:33.844Z"
   },
   {
    "duration": 31,
    "start_time": "2022-07-12T05:12:04.370Z"
   },
   {
    "duration": 18,
    "start_time": "2022-07-12T05:12:37.212Z"
   },
   {
    "duration": 21,
    "start_time": "2022-07-12T05:14:46.667Z"
   },
   {
    "duration": 9,
    "start_time": "2022-07-12T05:15:20.853Z"
   },
   {
    "duration": 16,
    "start_time": "2022-07-12T05:15:25.593Z"
   },
   {
    "duration": 729,
    "start_time": "2022-07-12T05:16:49.318Z"
   },
   {
    "duration": 19,
    "start_time": "2022-07-12T05:16:50.669Z"
   },
   {
    "duration": 17,
    "start_time": "2022-07-12T05:16:52.674Z"
   },
   {
    "duration": 21,
    "start_time": "2022-07-12T05:16:53.620Z"
   },
   {
    "duration": 14,
    "start_time": "2022-07-12T05:16:54.690Z"
   },
   {
    "duration": 19,
    "start_time": "2022-07-12T05:17:44.831Z"
   },
   {
    "duration": 15,
    "start_time": "2022-07-12T05:18:46.986Z"
   },
   {
    "duration": 7,
    "start_time": "2022-07-12T05:19:09.102Z"
   },
   {
    "duration": 11,
    "start_time": "2022-07-12T05:19:16.009Z"
   },
   {
    "duration": 16,
    "start_time": "2022-07-12T05:32:22.523Z"
   },
   {
    "duration": 29,
    "start_time": "2022-07-12T05:32:57.572Z"
   },
   {
    "duration": 24,
    "start_time": "2022-07-12T05:33:29.720Z"
   },
   {
    "duration": 7,
    "start_time": "2022-07-12T05:34:32.472Z"
   },
   {
    "duration": 3,
    "start_time": "2022-07-12T05:34:46.690Z"
   },
   {
    "duration": 4,
    "start_time": "2022-07-12T05:34:59.146Z"
   },
   {
    "duration": 4,
    "start_time": "2022-07-12T05:35:13.205Z"
   },
   {
    "duration": 60,
    "start_time": "2022-07-12T05:48:39.501Z"
   },
   {
    "duration": 4,
    "start_time": "2022-07-12T06:05:54.954Z"
   },
   {
    "duration": 7,
    "start_time": "2022-07-12T06:06:58.361Z"
   },
   {
    "duration": 69,
    "start_time": "2022-07-12T06:07:08.769Z"
   },
   {
    "duration": 4,
    "start_time": "2022-07-12T06:12:52.190Z"
   },
   {
    "duration": 405,
    "start_time": "2022-07-12T06:12:52.949Z"
   },
   {
    "duration": 673,
    "start_time": "2022-07-12T06:13:54.561Z"
   },
   {
    "duration": 6,
    "start_time": "2022-07-12T06:15:06.589Z"
   },
   {
    "duration": 5,
    "start_time": "2022-07-12T06:15:46.711Z"
   },
   {
    "duration": 40,
    "start_time": "2022-07-12T06:18:08.143Z"
   },
   {
    "duration": 5,
    "start_time": "2022-07-12T06:19:43.500Z"
   },
   {
    "duration": 1060,
    "start_time": "2022-07-12T18:56:22.489Z"
   },
   {
    "duration": 3219,
    "start_time": "2022-07-12T18:56:23.551Z"
   },
   {
    "duration": 30,
    "start_time": "2022-07-12T18:56:26.771Z"
   },
   {
    "duration": 21,
    "start_time": "2022-07-12T18:56:26.803Z"
   },
   {
    "duration": 32,
    "start_time": "2022-07-12T18:56:26.826Z"
   },
   {
    "duration": 29,
    "start_time": "2022-07-12T18:56:26.860Z"
   },
   {
    "duration": 13,
    "start_time": "2022-07-12T18:56:26.891Z"
   },
   {
    "duration": 22,
    "start_time": "2022-07-12T18:56:26.905Z"
   },
   {
    "duration": 15,
    "start_time": "2022-07-12T18:56:26.928Z"
   },
   {
    "duration": 26,
    "start_time": "2022-07-12T18:56:26.945Z"
   },
   {
    "duration": 8,
    "start_time": "2022-07-12T18:56:26.972Z"
   },
   {
    "duration": 14,
    "start_time": "2022-07-12T18:56:26.981Z"
   },
   {
    "duration": 364,
    "start_time": "2022-07-12T18:56:26.997Z"
   },
   {
    "duration": 6,
    "start_time": "2022-07-12T18:56:27.363Z"
   },
   {
    "duration": 4,
    "start_time": "2022-07-12T18:58:14.117Z"
   },
   {
    "duration": 370,
    "start_time": "2022-07-12T18:58:14.818Z"
   },
   {
    "duration": 6,
    "start_time": "2022-07-12T18:58:15.199Z"
   },
   {
    "duration": 6,
    "start_time": "2022-07-12T19:00:42.491Z"
   },
   {
    "duration": 121,
    "start_time": "2022-07-12T19:00:45.955Z"
   },
   {
    "duration": 1075,
    "start_time": "2022-07-12T19:00:53.654Z"
   },
   {
    "duration": 664,
    "start_time": "2022-07-12T19:00:54.731Z"
   },
   {
    "duration": 27,
    "start_time": "2022-07-12T19:00:55.396Z"
   },
   {
    "duration": 32,
    "start_time": "2022-07-12T19:00:55.425Z"
   },
   {
    "duration": 21,
    "start_time": "2022-07-12T19:00:55.459Z"
   },
   {
    "duration": 20,
    "start_time": "2022-07-12T19:00:55.482Z"
   },
   {
    "duration": 13,
    "start_time": "2022-07-12T19:00:55.503Z"
   },
   {
    "duration": 20,
    "start_time": "2022-07-12T19:00:55.539Z"
   },
   {
    "duration": 4,
    "start_time": "2022-07-12T19:00:55.561Z"
   },
   {
    "duration": 7,
    "start_time": "2022-07-12T19:00:55.567Z"
   },
   {
    "duration": 7,
    "start_time": "2022-07-12T19:00:55.575Z"
   },
   {
    "duration": 4,
    "start_time": "2022-07-12T19:00:55.585Z"
   },
   {
    "duration": 383,
    "start_time": "2022-07-12T19:00:55.591Z"
   },
   {
    "duration": 6,
    "start_time": "2022-07-12T19:00:55.976Z"
   },
   {
    "duration": 18,
    "start_time": "2022-07-12T19:00:55.984Z"
   },
   {
    "duration": 6,
    "start_time": "2022-07-12T19:06:07.635Z"
   },
   {
    "duration": 7,
    "start_time": "2022-07-12T19:06:19.025Z"
   },
   {
    "duration": 7,
    "start_time": "2022-07-12T19:06:31.328Z"
   },
   {
    "duration": 6,
    "start_time": "2022-07-12T19:06:39.314Z"
   },
   {
    "duration": 6,
    "start_time": "2022-07-12T19:06:43.606Z"
   },
   {
    "duration": 27,
    "start_time": "2022-07-12T19:07:08.454Z"
   },
   {
    "duration": 11,
    "start_time": "2022-07-12T19:34:12.636Z"
   },
   {
    "duration": 12,
    "start_time": "2022-07-12T19:34:44.041Z"
   },
   {
    "duration": 25,
    "start_time": "2022-07-12T19:36:38.401Z"
   },
   {
    "duration": 17,
    "start_time": "2022-07-12T19:37:03.843Z"
   },
   {
    "duration": 22,
    "start_time": "2022-07-12T19:40:52.589Z"
   },
   {
    "duration": 17,
    "start_time": "2022-07-12T19:40:57.844Z"
   },
   {
    "duration": 1068,
    "start_time": "2022-07-12T19:41:09.363Z"
   },
   {
    "duration": 647,
    "start_time": "2022-07-12T19:41:10.433Z"
   },
   {
    "duration": 29,
    "start_time": "2022-07-12T19:41:11.082Z"
   },
   {
    "duration": 653,
    "start_time": "2022-07-12T19:41:11.113Z"
   },
   {
    "duration": 52,
    "start_time": "2022-07-12T19:41:11.768Z"
   },
   {
    "duration": 23,
    "start_time": "2022-07-12T19:41:11.822Z"
   },
   {
    "duration": 15,
    "start_time": "2022-07-12T19:41:11.847Z"
   },
   {
    "duration": 20,
    "start_time": "2022-07-12T19:41:11.863Z"
   },
   {
    "duration": 3,
    "start_time": "2022-07-12T19:41:11.885Z"
   },
   {
    "duration": 8,
    "start_time": "2022-07-12T19:41:11.891Z"
   },
   {
    "duration": 9,
    "start_time": "2022-07-12T19:41:11.901Z"
   },
   {
    "duration": 4,
    "start_time": "2022-07-12T19:41:11.940Z"
   },
   {
    "duration": 373,
    "start_time": "2022-07-12T19:41:11.946Z"
   },
   {
    "duration": 6,
    "start_time": "2022-07-12T19:41:12.320Z"
   },
   {
    "duration": 25,
    "start_time": "2022-07-12T19:41:12.328Z"
   },
   {
    "duration": 25,
    "start_time": "2022-07-12T19:41:12.355Z"
   },
   {
    "duration": 18,
    "start_time": "2022-07-12T19:41:12.382Z"
   },
   {
    "duration": 27,
    "start_time": "2022-07-12T19:44:42.903Z"
   },
   {
    "duration": 16,
    "start_time": "2022-07-12T19:44:43.617Z"
   },
   {
    "duration": 14,
    "start_time": "2022-07-12T19:45:27.421Z"
   },
   {
    "duration": 98,
    "start_time": "2022-07-12T19:46:52.989Z"
   },
   {
    "duration": 149,
    "start_time": "2022-07-12T19:46:59.245Z"
   },
   {
    "duration": 4,
    "start_time": "2022-07-12T19:50:51.178Z"
   },
   {
    "duration": 43,
    "start_time": "2022-07-12T19:51:04.975Z"
   },
   {
    "duration": 17,
    "start_time": "2022-07-12T19:51:53.211Z"
   },
   {
    "duration": 14,
    "start_time": "2022-07-12T19:51:55.508Z"
   },
   {
    "duration": 33,
    "start_time": "2022-07-12T19:52:12.251Z"
   },
   {
    "duration": 34,
    "start_time": "2022-07-12T19:52:20.936Z"
   },
   {
    "duration": 33,
    "start_time": "2022-07-12T19:52:32.184Z"
   },
   {
    "duration": 1356,
    "start_time": "2022-07-12T19:54:26.735Z"
   },
   {
    "duration": 1316,
    "start_time": "2022-07-12T19:54:59.999Z"
   },
   {
    "duration": 1046,
    "start_time": "2022-07-12T19:55:12.211Z"
   },
   {
    "duration": 673,
    "start_time": "2022-07-12T19:55:13.259Z"
   },
   {
    "duration": 31,
    "start_time": "2022-07-12T19:55:13.934Z"
   },
   {
    "duration": 22,
    "start_time": "2022-07-12T19:55:13.967Z"
   },
   {
    "duration": 21,
    "start_time": "2022-07-12T19:55:13.990Z"
   },
   {
    "duration": 38,
    "start_time": "2022-07-12T19:55:14.013Z"
   },
   {
    "duration": 13,
    "start_time": "2022-07-12T19:55:14.052Z"
   },
   {
    "duration": 25,
    "start_time": "2022-07-12T19:55:14.067Z"
   },
   {
    "duration": 4,
    "start_time": "2022-07-12T19:55:14.094Z"
   },
   {
    "duration": 8,
    "start_time": "2022-07-12T19:55:14.101Z"
   },
   {
    "duration": 3,
    "start_time": "2022-07-12T19:55:14.141Z"
   },
   {
    "duration": 12,
    "start_time": "2022-07-12T19:55:14.146Z"
   },
   {
    "duration": 357,
    "start_time": "2022-07-12T19:55:14.160Z"
   },
   {
    "duration": 6,
    "start_time": "2022-07-12T19:55:14.518Z"
   },
   {
    "duration": 26,
    "start_time": "2022-07-12T19:55:14.525Z"
   },
   {
    "duration": 27,
    "start_time": "2022-07-12T19:55:14.553Z"
   },
   {
    "duration": 144,
    "start_time": "2022-07-12T19:55:14.581Z"
   },
   {
    "duration": 1323,
    "start_time": "2022-07-12T19:55:14.726Z"
   },
   {
    "duration": 0,
    "start_time": "2022-07-12T19:55:16.051Z"
   },
   {
    "duration": 1308,
    "start_time": "2022-07-12T19:55:40.680Z"
   },
   {
    "duration": 1100,
    "start_time": "2022-07-12T19:55:57.621Z"
   },
   {
    "duration": 668,
    "start_time": "2022-07-12T19:55:58.723Z"
   },
   {
    "duration": 29,
    "start_time": "2022-07-12T19:55:59.393Z"
   },
   {
    "duration": 29,
    "start_time": "2022-07-12T19:55:59.424Z"
   },
   {
    "duration": 22,
    "start_time": "2022-07-12T19:55:59.455Z"
   },
   {
    "duration": 23,
    "start_time": "2022-07-12T19:55:59.478Z"
   },
   {
    "duration": 40,
    "start_time": "2022-07-12T19:55:59.503Z"
   },
   {
    "duration": 21,
    "start_time": "2022-07-12T19:55:59.545Z"
   },
   {
    "duration": 4,
    "start_time": "2022-07-12T19:55:59.568Z"
   },
   {
    "duration": 7,
    "start_time": "2022-07-12T19:55:59.574Z"
   },
   {
    "duration": 5,
    "start_time": "2022-07-12T19:55:59.583Z"
   },
   {
    "duration": 7,
    "start_time": "2022-07-12T19:55:59.589Z"
   },
   {
    "duration": 391,
    "start_time": "2022-07-12T19:55:59.598Z"
   },
   {
    "duration": 6,
    "start_time": "2022-07-12T19:55:59.991Z"
   },
   {
    "duration": 21,
    "start_time": "2022-07-12T19:55:59.999Z"
   },
   {
    "duration": 44,
    "start_time": "2022-07-12T19:56:00.022Z"
   },
   {
    "duration": 146,
    "start_time": "2022-07-12T19:56:00.068Z"
   },
   {
    "duration": 16,
    "start_time": "2022-07-12T19:56:00.215Z"
   },
   {
    "duration": 98,
    "start_time": "2022-07-12T19:56:00.232Z"
   },
   {
    "duration": 29,
    "start_time": "2022-07-12T19:56:07.675Z"
   },
   {
    "duration": 31,
    "start_time": "2022-07-12T19:56:26.376Z"
   },
   {
    "duration": 54,
    "start_time": "2022-07-13T04:59:05.742Z"
   },
   {
    "duration": 6,
    "start_time": "2022-07-13T04:59:30.339Z"
   },
   {
    "duration": 1006,
    "start_time": "2022-07-13T04:59:36.717Z"
   },
   {
    "duration": 1447,
    "start_time": "2022-07-13T04:59:37.725Z"
   },
   {
    "duration": 26,
    "start_time": "2022-07-13T04:59:39.174Z"
   },
   {
    "duration": 20,
    "start_time": "2022-07-13T04:59:39.201Z"
   },
   {
    "duration": 25,
    "start_time": "2022-07-13T04:59:39.223Z"
   },
   {
    "duration": 28,
    "start_time": "2022-07-13T04:59:39.250Z"
   },
   {
    "duration": 12,
    "start_time": "2022-07-13T04:59:39.279Z"
   },
   {
    "duration": 17,
    "start_time": "2022-07-13T04:59:39.293Z"
   },
   {
    "duration": 4,
    "start_time": "2022-07-13T04:59:39.311Z"
   },
   {
    "duration": 10,
    "start_time": "2022-07-13T04:59:39.316Z"
   },
   {
    "duration": 7,
    "start_time": "2022-07-13T04:59:39.327Z"
   },
   {
    "duration": 25,
    "start_time": "2022-07-13T04:59:39.336Z"
   },
   {
    "duration": 353,
    "start_time": "2022-07-13T04:59:39.363Z"
   },
   {
    "duration": 5,
    "start_time": "2022-07-13T04:59:39.718Z"
   },
   {
    "duration": 17,
    "start_time": "2022-07-13T04:59:39.724Z"
   },
   {
    "duration": 113,
    "start_time": "2022-07-13T04:59:39.743Z"
   },
   {
    "duration": 0,
    "start_time": "2022-07-13T04:59:39.858Z"
   },
   {
    "duration": 0,
    "start_time": "2022-07-13T04:59:39.860Z"
   },
   {
    "duration": 16,
    "start_time": "2022-07-13T04:59:58.404Z"
   },
   {
    "duration": 22,
    "start_time": "2022-07-13T05:00:49.136Z"
   },
   {
    "duration": 24,
    "start_time": "2022-07-13T05:01:07.414Z"
   },
   {
    "duration": 20,
    "start_time": "2022-07-13T05:01:39.542Z"
   },
   {
    "duration": 32,
    "start_time": "2022-07-13T05:02:11.504Z"
   },
   {
    "duration": 27,
    "start_time": "2022-07-13T05:02:27.074Z"
   },
   {
    "duration": 10,
    "start_time": "2022-07-13T05:02:32.816Z"
   },
   {
    "duration": 23,
    "start_time": "2022-07-13T05:02:36.277Z"
   },
   {
    "duration": 106,
    "start_time": "2022-07-13T05:03:00.558Z"
   },
   {
    "duration": 14,
    "start_time": "2022-07-13T05:03:03.875Z"
   },
   {
    "duration": 9,
    "start_time": "2022-07-13T05:21:55.277Z"
   },
   {
    "duration": 444,
    "start_time": "2022-07-13T05:22:06.591Z"
   },
   {
    "duration": 22,
    "start_time": "2022-07-13T05:22:12.670Z"
   },
   {
    "duration": 144,
    "start_time": "2022-07-13T05:22:25.784Z"
   },
   {
    "duration": 125,
    "start_time": "2022-07-13T05:22:47.277Z"
   },
   {
    "duration": 121,
    "start_time": "2022-07-13T05:22:54.284Z"
   },
   {
    "duration": 262,
    "start_time": "2022-07-13T05:23:19.120Z"
   },
   {
    "duration": 312,
    "start_time": "2022-07-13T05:23:31.622Z"
   },
   {
    "duration": 353,
    "start_time": "2022-07-13T05:24:18.919Z"
   },
   {
    "duration": 9,
    "start_time": "2022-07-13T05:24:46.090Z"
   },
   {
    "duration": 118,
    "start_time": "2022-07-13T05:24:53.350Z"
   },
   {
    "duration": 376,
    "start_time": "2022-07-13T05:25:23.247Z"
   },
   {
    "duration": 137,
    "start_time": "2022-07-13T05:25:31.154Z"
   },
   {
    "duration": 9,
    "start_time": "2022-07-13T05:28:01.353Z"
   },
   {
    "duration": 106,
    "start_time": "2022-07-13T05:31:25.913Z"
   },
   {
    "duration": 183,
    "start_time": "2022-07-13T05:31:36.288Z"
   },
   {
    "duration": 9,
    "start_time": "2022-07-13T05:31:55.182Z"
   },
   {
    "duration": 144,
    "start_time": "2022-07-13T05:32:02.849Z"
   },
   {
    "duration": 249,
    "start_time": "2022-07-13T05:32:22.322Z"
   },
   {
    "duration": 180,
    "start_time": "2022-07-13T05:33:17.461Z"
   },
   {
    "duration": 186,
    "start_time": "2022-07-13T05:33:26.193Z"
   },
   {
    "duration": 1372,
    "start_time": "2022-07-13T05:36:19.477Z"
   },
   {
    "duration": 725,
    "start_time": "2022-07-13T05:36:20.851Z"
   },
   {
    "duration": 25,
    "start_time": "2022-07-13T05:36:21.577Z"
   },
   {
    "duration": 20,
    "start_time": "2022-07-13T05:36:21.604Z"
   },
   {
    "duration": 38,
    "start_time": "2022-07-13T05:36:21.626Z"
   },
   {
    "duration": 21,
    "start_time": "2022-07-13T05:36:21.665Z"
   },
   {
    "duration": 12,
    "start_time": "2022-07-13T05:36:21.688Z"
   },
   {
    "duration": 18,
    "start_time": "2022-07-13T05:36:21.702Z"
   },
   {
    "duration": 4,
    "start_time": "2022-07-13T05:36:21.721Z"
   },
   {
    "duration": 36,
    "start_time": "2022-07-13T05:36:21.726Z"
   },
   {
    "duration": 4,
    "start_time": "2022-07-13T05:36:21.764Z"
   },
   {
    "duration": 16,
    "start_time": "2022-07-13T05:36:21.770Z"
   },
   {
    "duration": 366,
    "start_time": "2022-07-13T05:36:21.788Z"
   },
   {
    "duration": 8,
    "start_time": "2022-07-13T05:36:22.157Z"
   },
   {
    "duration": 33,
    "start_time": "2022-07-13T05:36:22.167Z"
   },
   {
    "duration": 36,
    "start_time": "2022-07-13T05:36:22.202Z"
   },
   {
    "duration": 105,
    "start_time": "2022-07-13T05:36:22.239Z"
   },
   {
    "duration": 23,
    "start_time": "2022-07-13T05:36:22.345Z"
   },
   {
    "duration": 1349,
    "start_time": "2022-07-13T05:37:15.872Z"
   },
   {
    "duration": 653,
    "start_time": "2022-07-13T05:37:17.223Z"
   },
   {
    "duration": 23,
    "start_time": "2022-07-13T05:37:17.878Z"
   },
   {
    "duration": 19,
    "start_time": "2022-07-13T05:37:17.903Z"
   },
   {
    "duration": 24,
    "start_time": "2022-07-13T05:37:17.924Z"
   },
   {
    "duration": 26,
    "start_time": "2022-07-13T05:37:17.960Z"
   },
   {
    "duration": 12,
    "start_time": "2022-07-13T05:37:17.987Z"
   },
   {
    "duration": 17,
    "start_time": "2022-07-13T05:37:18.000Z"
   },
   {
    "duration": 4,
    "start_time": "2022-07-13T05:37:18.018Z"
   },
   {
    "duration": 5,
    "start_time": "2022-07-13T05:37:18.024Z"
   },
   {
    "duration": 12,
    "start_time": "2022-07-13T05:37:18.062Z"
   },
   {
    "duration": 7,
    "start_time": "2022-07-13T05:37:18.075Z"
   },
   {
    "duration": 338,
    "start_time": "2022-07-13T05:37:18.083Z"
   },
   {
    "duration": 5,
    "start_time": "2022-07-13T05:37:18.423Z"
   },
   {
    "duration": 19,
    "start_time": "2022-07-13T05:37:18.429Z"
   },
   {
    "duration": 48,
    "start_time": "2022-07-13T05:37:18.450Z"
   },
   {
    "duration": 101,
    "start_time": "2022-07-13T05:37:18.500Z"
   },
   {
    "duration": 15,
    "start_time": "2022-07-13T05:37:18.602Z"
   },
   {
    "duration": 191,
    "start_time": "2022-07-13T05:37:18.619Z"
   },
   {
    "duration": 1401,
    "start_time": "2022-07-13T05:50:00.081Z"
   },
   {
    "duration": 751,
    "start_time": "2022-07-13T05:50:01.484Z"
   },
   {
    "duration": 41,
    "start_time": "2022-07-13T05:50:02.237Z"
   },
   {
    "duration": 21,
    "start_time": "2022-07-13T05:50:02.281Z"
   },
   {
    "duration": 38,
    "start_time": "2022-07-13T05:50:02.304Z"
   },
   {
    "duration": 51,
    "start_time": "2022-07-13T05:50:02.344Z"
   },
   {
    "duration": 12,
    "start_time": "2022-07-13T05:50:02.396Z"
   },
   {
    "duration": 20,
    "start_time": "2022-07-13T05:50:02.410Z"
   },
   {
    "duration": 10,
    "start_time": "2022-07-13T05:50:02.432Z"
   },
   {
    "duration": 19,
    "start_time": "2022-07-13T05:50:02.444Z"
   },
   {
    "duration": 23,
    "start_time": "2022-07-13T05:50:02.465Z"
   },
   {
    "duration": 56,
    "start_time": "2022-07-13T05:50:02.490Z"
   },
   {
    "duration": 420,
    "start_time": "2022-07-13T05:50:02.548Z"
   },
   {
    "duration": 13,
    "start_time": "2022-07-13T05:50:02.971Z"
   },
   {
    "duration": 27,
    "start_time": "2022-07-13T05:50:02.986Z"
   },
   {
    "duration": 39,
    "start_time": "2022-07-13T05:50:03.015Z"
   },
   {
    "duration": 106,
    "start_time": "2022-07-13T05:50:03.056Z"
   },
   {
    "duration": 26,
    "start_time": "2022-07-13T05:50:03.164Z"
   },
   {
    "duration": 196,
    "start_time": "2022-07-13T05:50:10.822Z"
   },
   {
    "duration": 163,
    "start_time": "2022-07-13T05:53:54.751Z"
   },
   {
    "duration": 251,
    "start_time": "2022-07-13T05:54:43.758Z"
   },
   {
    "duration": 193,
    "start_time": "2022-07-13T05:54:48.036Z"
   },
   {
    "duration": 141,
    "start_time": "2022-07-13T05:56:22.317Z"
   },
   {
    "duration": 221,
    "start_time": "2022-07-13T05:56:29.652Z"
   },
   {
    "duration": 189,
    "start_time": "2022-07-13T05:57:28.479Z"
   },
   {
    "duration": 158,
    "start_time": "2022-07-13T05:57:41.100Z"
   },
   {
    "duration": 187,
    "start_time": "2022-07-13T05:59:02.014Z"
   },
   {
    "duration": 217,
    "start_time": "2022-07-13T06:00:11.814Z"
   },
   {
    "duration": 5,
    "start_time": "2022-07-13T06:03:55.207Z"
   },
   {
    "duration": 11,
    "start_time": "2022-07-13T06:04:45.476Z"
   },
   {
    "duration": 7,
    "start_time": "2022-07-13T06:05:07.393Z"
   },
   {
    "duration": 444,
    "start_time": "2022-07-13T06:05:56.014Z"
   },
   {
    "duration": 959,
    "start_time": "2022-07-13T06:06:20.808Z"
   },
   {
    "duration": 819,
    "start_time": "2022-07-13T06:07:02.675Z"
   },
   {
    "duration": 1015,
    "start_time": "2022-07-13T06:07:40.802Z"
   },
   {
    "duration": 878,
    "start_time": "2022-07-13T06:07:50.510Z"
   },
   {
    "duration": 998,
    "start_time": "2022-07-13T06:14:14.490Z"
   },
   {
    "duration": 1106,
    "start_time": "2022-07-13T06:15:52.241Z"
   },
   {
    "duration": 904,
    "start_time": "2022-07-13T06:16:08.933Z"
   },
   {
    "duration": 884,
    "start_time": "2022-07-13T06:16:33.285Z"
   },
   {
    "duration": 1177,
    "start_time": "2022-07-13T06:16:40.243Z"
   },
   {
    "duration": 1063,
    "start_time": "2022-07-13T06:16:55.631Z"
   },
   {
    "duration": 1232,
    "start_time": "2022-07-13T06:17:07.699Z"
   },
   {
    "duration": 807,
    "start_time": "2022-07-13T06:17:54.413Z"
   },
   {
    "duration": 60,
    "start_time": "2022-07-13T18:10:11.925Z"
   },
   {
    "duration": 1567,
    "start_time": "2022-07-13T18:10:21.277Z"
   },
   {
    "duration": 1466,
    "start_time": "2022-07-13T18:10:22.847Z"
   },
   {
    "duration": 24,
    "start_time": "2022-07-13T18:10:24.315Z"
   },
   {
    "duration": 18,
    "start_time": "2022-07-13T18:10:24.341Z"
   },
   {
    "duration": 28,
    "start_time": "2022-07-13T18:10:24.361Z"
   },
   {
    "duration": 18,
    "start_time": "2022-07-13T18:10:24.390Z"
   },
   {
    "duration": 10,
    "start_time": "2022-07-13T18:10:24.410Z"
   },
   {
    "duration": 16,
    "start_time": "2022-07-13T18:10:24.422Z"
   },
   {
    "duration": 25,
    "start_time": "2022-07-13T18:10:24.440Z"
   },
   {
    "duration": 13,
    "start_time": "2022-07-13T18:10:24.473Z"
   },
   {
    "duration": 5,
    "start_time": "2022-07-13T18:10:24.488Z"
   },
   {
    "duration": 7,
    "start_time": "2022-07-13T18:10:24.495Z"
   },
   {
    "duration": 334,
    "start_time": "2022-07-13T18:10:24.503Z"
   },
   {
    "duration": 5,
    "start_time": "2022-07-13T18:10:24.839Z"
   },
   {
    "duration": 26,
    "start_time": "2022-07-13T18:10:24.845Z"
   },
   {
    "duration": 37,
    "start_time": "2022-07-13T18:10:24.873Z"
   },
   {
    "duration": 104,
    "start_time": "2022-07-13T18:10:24.912Z"
   },
   {
    "duration": 16,
    "start_time": "2022-07-13T18:10:25.018Z"
   },
   {
    "duration": 678,
    "start_time": "2022-07-13T18:10:25.035Z"
   },
   {
    "duration": 913,
    "start_time": "2022-07-13T18:10:25.714Z"
   },
   {
    "duration": 840,
    "start_time": "2022-07-13T18:10:26.629Z"
   },
   {
    "duration": 799,
    "start_time": "2022-07-13T18:10:40.059Z"
   },
   {
    "duration": 674,
    "start_time": "2022-07-13T18:10:50.292Z"
   },
   {
    "duration": 779,
    "start_time": "2022-07-13T18:11:08.415Z"
   },
   {
    "duration": 586,
    "start_time": "2022-07-13T18:12:34.203Z"
   },
   {
    "duration": 57,
    "start_time": "2022-07-13T18:28:18.978Z"
   },
   {
    "duration": 131,
    "start_time": "2022-07-13T18:38:25.708Z"
   },
   {
    "duration": 420,
    "start_time": "2022-07-13T18:38:45.019Z"
   },
   {
    "duration": 345,
    "start_time": "2022-07-13T18:39:11.386Z"
   },
   {
    "duration": 363,
    "start_time": "2022-07-13T18:40:08.638Z"
   },
   {
    "duration": 394,
    "start_time": "2022-07-13T18:40:23.233Z"
   },
   {
    "duration": 640,
    "start_time": "2022-07-13T18:40:30.797Z"
   },
   {
    "duration": 471,
    "start_time": "2022-07-13T18:40:38.360Z"
   },
   {
    "duration": 8,
    "start_time": "2022-07-13T18:41:26.361Z"
   },
   {
    "duration": 10,
    "start_time": "2022-07-13T18:41:31.878Z"
   },
   {
    "duration": 10,
    "start_time": "2022-07-13T18:41:57.997Z"
   },
   {
    "duration": 112,
    "start_time": "2022-07-13T18:42:18.598Z"
   },
   {
    "duration": 9,
    "start_time": "2022-07-13T18:42:35.700Z"
   },
   {
    "duration": 15,
    "start_time": "2022-07-13T18:42:50.414Z"
   },
   {
    "duration": 18,
    "start_time": "2022-07-13T18:43:18.355Z"
   },
   {
    "duration": 471,
    "start_time": "2022-07-13T18:43:48.389Z"
   },
   {
    "duration": 316,
    "start_time": "2022-07-13T18:43:56.086Z"
   },
   {
    "duration": 490,
    "start_time": "2022-07-13T18:44:01.234Z"
   },
   {
    "duration": 655,
    "start_time": "2022-07-13T18:44:03.876Z"
   },
   {
    "duration": 475,
    "start_time": "2022-07-13T18:44:54.135Z"
   },
   {
    "duration": 11,
    "start_time": "2022-07-13T18:45:44.305Z"
   },
   {
    "duration": 5,
    "start_time": "2022-07-13T19:03:04.094Z"
   },
   {
    "duration": 6,
    "start_time": "2022-07-13T19:03:10.551Z"
   },
   {
    "duration": 6,
    "start_time": "2022-07-13T19:03:16.008Z"
   },
   {
    "duration": 4,
    "start_time": "2022-07-13T19:12:48.035Z"
   },
   {
    "duration": 4,
    "start_time": "2022-07-13T19:17:01.109Z"
   },
   {
    "duration": 12,
    "start_time": "2022-07-13T19:17:12.343Z"
   },
   {
    "duration": 12,
    "start_time": "2022-07-13T19:17:48.787Z"
   },
   {
    "duration": 18,
    "start_time": "2022-07-13T19:19:08.138Z"
   },
   {
    "duration": 11,
    "start_time": "2022-07-13T19:21:50.790Z"
   },
   {
    "duration": 5,
    "start_time": "2022-07-13T19:22:12.250Z"
   },
   {
    "duration": 21,
    "start_time": "2022-07-13T19:22:20.710Z"
   },
   {
    "duration": 25,
    "start_time": "2022-07-13T19:22:46.253Z"
   },
   {
    "duration": 11,
    "start_time": "2022-07-13T19:22:57.618Z"
   },
   {
    "duration": 519,
    "start_time": "2022-07-13T19:23:23.372Z"
   },
   {
    "duration": 1476,
    "start_time": "2022-07-14T04:58:20.863Z"
   },
   {
    "duration": 1489,
    "start_time": "2022-07-14T04:58:22.341Z"
   },
   {
    "duration": 23,
    "start_time": "2022-07-14T04:58:23.832Z"
   },
   {
    "duration": 19,
    "start_time": "2022-07-14T04:58:23.857Z"
   },
   {
    "duration": 21,
    "start_time": "2022-07-14T04:58:23.878Z"
   },
   {
    "duration": 37,
    "start_time": "2022-07-14T04:58:23.901Z"
   },
   {
    "duration": 11,
    "start_time": "2022-07-14T04:58:23.940Z"
   },
   {
    "duration": 28,
    "start_time": "2022-07-14T04:58:23.953Z"
   },
   {
    "duration": 4,
    "start_time": "2022-07-14T04:58:23.983Z"
   },
   {
    "duration": 11,
    "start_time": "2022-07-14T04:58:23.989Z"
   },
   {
    "duration": 4,
    "start_time": "2022-07-14T04:58:24.023Z"
   },
   {
    "duration": 7,
    "start_time": "2022-07-14T04:58:24.029Z"
   },
   {
    "duration": 351,
    "start_time": "2022-07-14T04:58:24.037Z"
   },
   {
    "duration": 8,
    "start_time": "2022-07-14T04:58:24.392Z"
   },
   {
    "duration": 50,
    "start_time": "2022-07-14T04:58:24.403Z"
   },
   {
    "duration": 55,
    "start_time": "2022-07-14T04:58:24.456Z"
   },
   {
    "duration": 133,
    "start_time": "2022-07-14T04:58:24.513Z"
   },
   {
    "duration": 21,
    "start_time": "2022-07-14T04:58:24.649Z"
   },
   {
    "duration": 786,
    "start_time": "2022-07-14T04:58:24.672Z"
   },
   {
    "duration": 745,
    "start_time": "2022-07-14T04:58:25.459Z"
   },
   {
    "duration": 629,
    "start_time": "2022-07-14T04:58:26.206Z"
   },
   {
    "duration": 558,
    "start_time": "2022-07-14T04:58:26.837Z"
   },
   {
    "duration": 12,
    "start_time": "2022-07-14T04:58:27.397Z"
   },
   {
    "duration": 453,
    "start_time": "2022-07-14T04:58:27.422Z"
   },
   {
    "duration": 11,
    "start_time": "2022-07-14T04:58:27.877Z"
   },
   {
    "duration": 498,
    "start_time": "2022-07-14T04:58:27.889Z"
   },
   {
    "duration": 108,
    "start_time": "2022-07-14T04:58:47.931Z"
   },
   {
    "duration": 1517,
    "start_time": "2022-07-14T05:00:01.837Z"
   },
   {
    "duration": 690,
    "start_time": "2022-07-14T05:00:03.356Z"
   },
   {
    "duration": 26,
    "start_time": "2022-07-14T05:00:04.048Z"
   },
   {
    "duration": 26,
    "start_time": "2022-07-14T05:00:04.076Z"
   },
   {
    "duration": 36,
    "start_time": "2022-07-14T05:00:04.104Z"
   },
   {
    "duration": 60,
    "start_time": "2022-07-14T05:00:04.141Z"
   },
   {
    "duration": 13,
    "start_time": "2022-07-14T05:00:04.202Z"
   },
   {
    "duration": 28,
    "start_time": "2022-07-14T05:00:04.217Z"
   },
   {
    "duration": 4,
    "start_time": "2022-07-14T05:00:04.247Z"
   },
   {
    "duration": 16,
    "start_time": "2022-07-14T05:00:04.254Z"
   },
   {
    "duration": 16,
    "start_time": "2022-07-14T05:00:04.272Z"
   },
   {
    "duration": 9,
    "start_time": "2022-07-14T05:00:04.290Z"
   },
   {
    "duration": 422,
    "start_time": "2022-07-14T05:00:04.300Z"
   },
   {
    "duration": 5,
    "start_time": "2022-07-14T05:00:04.724Z"
   },
   {
    "duration": 33,
    "start_time": "2022-07-14T05:00:04.731Z"
   },
   {
    "duration": 44,
    "start_time": "2022-07-14T05:00:04.766Z"
   },
   {
    "duration": 113,
    "start_time": "2022-07-14T05:00:04.813Z"
   },
   {
    "duration": 18,
    "start_time": "2022-07-14T05:00:04.928Z"
   },
   {
    "duration": 700,
    "start_time": "2022-07-14T05:00:04.951Z"
   },
   {
    "duration": 767,
    "start_time": "2022-07-14T05:00:05.654Z"
   },
   {
    "duration": 604,
    "start_time": "2022-07-14T05:00:06.423Z"
   },
   {
    "duration": 444,
    "start_time": "2022-07-14T05:00:07.030Z"
   },
   {
    "duration": 12,
    "start_time": "2022-07-14T05:00:07.477Z"
   },
   {
    "duration": 583,
    "start_time": "2022-07-14T05:00:07.491Z"
   },
   {
    "duration": 11,
    "start_time": "2022-07-14T05:00:08.076Z"
   },
   {
    "duration": 121,
    "start_time": "2022-07-14T05:00:08.088Z"
   },
   {
    "duration": 469,
    "start_time": "2022-07-14T05:00:23.499Z"
   },
   {
    "duration": 19,
    "start_time": "2022-07-14T05:14:07.308Z"
   },
   {
    "duration": 2,
    "start_time": "2022-07-14T05:15:26.860Z"
   },
   {
    "duration": 2,
    "start_time": "2022-07-14T05:16:29.938Z"
   },
   {
    "duration": 3,
    "start_time": "2022-07-14T05:16:45.797Z"
   },
   {
    "duration": 302,
    "start_time": "2022-07-14T05:17:10.586Z"
   },
   {
    "duration": 16,
    "start_time": "2022-07-14T05:17:15.358Z"
   },
   {
    "duration": 917,
    "start_time": "2022-07-14T05:17:38.556Z"
   },
   {
    "duration": 0,
    "start_time": "2022-07-14T05:17:39.474Z"
   },
   {
    "duration": 418,
    "start_time": "2022-07-14T05:17:50.393Z"
   },
   {
    "duration": 18,
    "start_time": "2022-07-14T05:17:51.549Z"
   },
   {
    "duration": 6,
    "start_time": "2022-07-14T05:18:10.709Z"
   },
   {
    "duration": 3,
    "start_time": "2022-07-14T05:18:47.353Z"
   },
   {
    "duration": 396,
    "start_time": "2022-07-14T05:18:47.757Z"
   },
   {
    "duration": 5,
    "start_time": "2022-07-14T05:18:48.237Z"
   },
   {
    "duration": 146,
    "start_time": "2022-07-14T05:19:11.408Z"
   },
   {
    "duration": 866,
    "start_time": "2022-07-14T05:20:40.022Z"
   },
   {
    "duration": 0,
    "start_time": "2022-07-14T05:20:40.890Z"
   },
   {
    "duration": 203,
    "start_time": "2022-07-14T05:21:03.735Z"
   },
   {
    "duration": 152,
    "start_time": "2022-07-14T05:21:04.844Z"
   },
   {
    "duration": 126,
    "start_time": "2022-07-14T05:21:16.972Z"
   },
   {
    "duration": 132,
    "start_time": "2022-07-14T05:21:30.585Z"
   },
   {
    "duration": 11,
    "start_time": "2022-07-14T05:21:43.630Z"
   },
   {
    "duration": 244,
    "start_time": "2022-07-14T05:23:03.075Z"
   },
   {
    "duration": 366,
    "start_time": "2022-07-14T05:23:26.052Z"
   },
   {
    "duration": 183,
    "start_time": "2022-07-14T05:24:16.190Z"
   },
   {
    "duration": 114,
    "start_time": "2022-07-14T05:24:33.747Z"
   },
   {
    "duration": 7,
    "start_time": "2022-07-14T05:31:16.334Z"
   },
   {
    "duration": 5,
    "start_time": "2022-07-14T05:31:28.930Z"
   },
   {
    "duration": 6,
    "start_time": "2022-07-14T05:31:42.306Z"
   },
   {
    "duration": 6,
    "start_time": "2022-07-14T05:31:47.042Z"
   },
   {
    "duration": 6,
    "start_time": "2022-07-14T05:31:55.060Z"
   },
   {
    "duration": 7,
    "start_time": "2022-07-14T05:32:08.546Z"
   },
   {
    "duration": 7,
    "start_time": "2022-07-14T05:32:37.513Z"
   },
   {
    "duration": 1338,
    "start_time": "2022-07-14T05:34:58.666Z"
   },
   {
    "duration": 703,
    "start_time": "2022-07-14T05:35:00.006Z"
   },
   {
    "duration": 34,
    "start_time": "2022-07-14T05:35:00.710Z"
   },
   {
    "duration": 21,
    "start_time": "2022-07-14T05:35:00.746Z"
   },
   {
    "duration": 28,
    "start_time": "2022-07-14T05:35:00.769Z"
   },
   {
    "duration": 40,
    "start_time": "2022-07-14T05:35:00.800Z"
   },
   {
    "duration": 18,
    "start_time": "2022-07-14T05:35:00.842Z"
   },
   {
    "duration": 18,
    "start_time": "2022-07-14T05:35:00.862Z"
   },
   {
    "duration": 4,
    "start_time": "2022-07-14T05:35:00.881Z"
   },
   {
    "duration": 37,
    "start_time": "2022-07-14T05:35:00.888Z"
   },
   {
    "duration": 8,
    "start_time": "2022-07-14T05:35:00.927Z"
   },
   {
    "duration": 6,
    "start_time": "2022-07-14T05:35:00.937Z"
   },
   {
    "duration": 355,
    "start_time": "2022-07-14T05:35:00.944Z"
   },
   {
    "duration": 5,
    "start_time": "2022-07-14T05:35:01.301Z"
   },
   {
    "duration": 35,
    "start_time": "2022-07-14T05:35:01.308Z"
   },
   {
    "duration": 51,
    "start_time": "2022-07-14T05:35:01.346Z"
   },
   {
    "duration": 99,
    "start_time": "2022-07-14T05:35:01.399Z"
   },
   {
    "duration": 23,
    "start_time": "2022-07-14T05:35:01.500Z"
   },
   {
    "duration": 671,
    "start_time": "2022-07-14T05:35:01.525Z"
   },
   {
    "duration": 745,
    "start_time": "2022-07-14T05:35:02.198Z"
   },
   {
    "duration": 652,
    "start_time": "2022-07-14T05:35:02.946Z"
   },
   {
    "duration": 425,
    "start_time": "2022-07-14T05:35:03.600Z"
   },
   {
    "duration": 12,
    "start_time": "2022-07-14T05:35:04.027Z"
   },
   {
    "duration": 634,
    "start_time": "2022-07-14T05:35:04.041Z"
   },
   {
    "duration": 11,
    "start_time": "2022-07-14T05:35:04.677Z"
   },
   {
    "duration": 11,
    "start_time": "2022-07-14T05:35:04.692Z"
   },
   {
    "duration": 229,
    "start_time": "2022-07-14T05:35:04.704Z"
   },
   {
    "duration": 250,
    "start_time": "2022-07-14T05:35:04.936Z"
   },
   {
    "duration": 114,
    "start_time": "2022-07-14T05:35:05.188Z"
   },
   {
    "duration": 5,
    "start_time": "2022-07-14T05:35:05.304Z"
   },
   {
    "duration": 17,
    "start_time": "2022-07-14T05:35:27.753Z"
   },
   {
    "duration": 17,
    "start_time": "2022-07-14T05:35:38.008Z"
   },
   {
    "duration": 10,
    "start_time": "2022-07-14T05:41:56.177Z"
   },
   {
    "duration": 16,
    "start_time": "2022-07-14T05:43:20.715Z"
   },
   {
    "duration": 3,
    "start_time": "2022-07-14T05:45:01.243Z"
   },
   {
    "duration": 197,
    "start_time": "2022-07-14T05:45:58.043Z"
   },
   {
    "duration": 244,
    "start_time": "2022-07-14T05:46:42.603Z"
   },
   {
    "duration": 280,
    "start_time": "2022-07-14T05:47:02.638Z"
   },
   {
    "duration": 121,
    "start_time": "2022-07-14T05:48:07.732Z"
   },
   {
    "duration": 5,
    "start_time": "2022-07-14T05:48:59.830Z"
   },
   {
    "duration": 861,
    "start_time": "2022-07-14T05:49:46.567Z"
   },
   {
    "duration": 19,
    "start_time": "2022-07-14T05:50:17.236Z"
   },
   {
    "duration": 15,
    "start_time": "2022-07-14T05:50:27.600Z"
   },
   {
    "duration": 7,
    "start_time": "2022-07-14T05:50:54.141Z"
   },
   {
    "duration": 6,
    "start_time": "2022-07-14T05:53:06.863Z"
   },
   {
    "duration": 179,
    "start_time": "2022-07-14T05:53:19.798Z"
   },
   {
    "duration": 8,
    "start_time": "2022-07-14T05:53:34.800Z"
   },
   {
    "duration": 16,
    "start_time": "2022-07-14T05:53:35.517Z"
   },
   {
    "duration": 117,
    "start_time": "2022-07-14T05:54:17.994Z"
   },
   {
    "duration": 3,
    "start_time": "2022-07-14T05:55:38.096Z"
   },
   {
    "duration": 183,
    "start_time": "2022-07-14T05:56:36.426Z"
   },
   {
    "duration": 14,
    "start_time": "2022-07-14T05:56:39.224Z"
   },
   {
    "duration": 247,
    "start_time": "2022-07-14T05:57:01.943Z"
   },
   {
    "duration": 271,
    "start_time": "2022-07-14T05:57:24.121Z"
   },
   {
    "duration": 136,
    "start_time": "2022-07-14T05:58:00.404Z"
   },
   {
    "duration": 5,
    "start_time": "2022-07-14T05:58:17.141Z"
   },
   {
    "duration": 6,
    "start_time": "2022-07-14T05:58:31.976Z"
   },
   {
    "duration": 5,
    "start_time": "2022-07-14T05:58:39.157Z"
   },
   {
    "duration": 1314,
    "start_time": "2022-07-14T05:59:00.284Z"
   },
   {
    "duration": 711,
    "start_time": "2022-07-14T05:59:01.600Z"
   },
   {
    "duration": 24,
    "start_time": "2022-07-14T05:59:02.313Z"
   },
   {
    "duration": 21,
    "start_time": "2022-07-14T05:59:02.339Z"
   },
   {
    "duration": 29,
    "start_time": "2022-07-14T05:59:02.363Z"
   },
   {
    "duration": 36,
    "start_time": "2022-07-14T05:59:02.394Z"
   },
   {
    "duration": 13,
    "start_time": "2022-07-14T05:59:02.432Z"
   },
   {
    "duration": 30,
    "start_time": "2022-07-14T05:59:02.447Z"
   },
   {
    "duration": 6,
    "start_time": "2022-07-14T05:59:02.478Z"
   },
   {
    "duration": 23,
    "start_time": "2022-07-14T05:59:02.486Z"
   },
   {
    "duration": 12,
    "start_time": "2022-07-14T05:59:02.511Z"
   },
   {
    "duration": 34,
    "start_time": "2022-07-14T05:59:02.525Z"
   },
   {
    "duration": 356,
    "start_time": "2022-07-14T05:59:02.560Z"
   },
   {
    "duration": 6,
    "start_time": "2022-07-14T05:59:02.920Z"
   },
   {
    "duration": 22,
    "start_time": "2022-07-14T05:59:02.928Z"
   },
   {
    "duration": 43,
    "start_time": "2022-07-14T05:59:02.952Z"
   },
   {
    "duration": 107,
    "start_time": "2022-07-14T05:59:02.997Z"
   },
   {
    "duration": 21,
    "start_time": "2022-07-14T05:59:03.106Z"
   },
   {
    "duration": 607,
    "start_time": "2022-07-14T05:59:03.129Z"
   },
   {
    "duration": 775,
    "start_time": "2022-07-14T05:59:03.738Z"
   },
   {
    "duration": 652,
    "start_time": "2022-07-14T05:59:04.515Z"
   },
   {
    "duration": 467,
    "start_time": "2022-07-14T05:59:05.169Z"
   },
   {
    "duration": 12,
    "start_time": "2022-07-14T05:59:05.638Z"
   },
   {
    "duration": 595,
    "start_time": "2022-07-14T05:59:05.652Z"
   },
   {
    "duration": 12,
    "start_time": "2022-07-14T05:59:06.250Z"
   },
   {
    "duration": 3,
    "start_time": "2022-07-14T05:59:06.266Z"
   },
   {
    "duration": 259,
    "start_time": "2022-07-14T05:59:06.271Z"
   },
   {
    "duration": 278,
    "start_time": "2022-07-14T05:59:06.533Z"
   },
   {
    "duration": 146,
    "start_time": "2022-07-14T05:59:06.813Z"
   },
   {
    "duration": 8,
    "start_time": "2022-07-14T05:59:06.961Z"
   },
   {
    "duration": 29,
    "start_time": "2022-07-14T05:59:06.971Z"
   },
   {
    "duration": 20,
    "start_time": "2022-07-14T05:59:07.003Z"
   },
   {
    "duration": 223,
    "start_time": "2022-07-14T05:59:07.025Z"
   },
   {
    "duration": 309,
    "start_time": "2022-07-14T05:59:07.250Z"
   },
   {
    "duration": 140,
    "start_time": "2022-07-14T05:59:07.560Z"
   },
   {
    "duration": 5,
    "start_time": "2022-07-14T05:59:07.702Z"
   },
   {
    "duration": 35,
    "start_time": "2022-07-14T05:59:07.709Z"
   },
   {
    "duration": 29,
    "start_time": "2022-07-14T05:59:07.746Z"
   },
   {
    "duration": 213,
    "start_time": "2022-07-14T05:59:07.777Z"
   },
   {
    "duration": 282,
    "start_time": "2022-07-14T05:59:07.992Z"
   },
   {
    "duration": 294,
    "start_time": "2022-07-14T05:59:08.278Z"
   },
   {
    "duration": 16,
    "start_time": "2022-07-14T05:59:08.574Z"
   },
   {
    "duration": 7,
    "start_time": "2022-07-14T06:00:00.992Z"
   },
   {
    "duration": 6,
    "start_time": "2022-07-14T06:01:50.090Z"
   },
   {
    "duration": 7,
    "start_time": "2022-07-14T06:02:01.043Z"
   },
   {
    "duration": 12,
    "start_time": "2022-07-14T06:03:31.858Z"
   },
   {
    "duration": 17,
    "start_time": "2022-07-14T06:03:35.698Z"
   },
   {
    "duration": 33,
    "start_time": "2022-07-14T06:07:14.782Z"
   },
   {
    "duration": 6,
    "start_time": "2022-07-14T06:07:25.383Z"
   },
   {
    "duration": 17,
    "start_time": "2022-07-14T06:07:27.461Z"
   },
   {
    "duration": 1436,
    "start_time": "2022-07-14T06:08:15.703Z"
   },
   {
    "duration": 751,
    "start_time": "2022-07-14T06:08:17.141Z"
   },
   {
    "duration": 39,
    "start_time": "2022-07-14T06:08:17.896Z"
   },
   {
    "duration": 23,
    "start_time": "2022-07-14T06:08:17.938Z"
   },
   {
    "duration": 35,
    "start_time": "2022-07-14T06:08:17.963Z"
   },
   {
    "duration": 36,
    "start_time": "2022-07-14T06:08:18.000Z"
   },
   {
    "duration": 18,
    "start_time": "2022-07-14T06:08:18.038Z"
   },
   {
    "duration": 20,
    "start_time": "2022-07-14T06:08:18.058Z"
   },
   {
    "duration": 4,
    "start_time": "2022-07-14T06:08:18.080Z"
   },
   {
    "duration": 5,
    "start_time": "2022-07-14T06:08:18.123Z"
   },
   {
    "duration": 7,
    "start_time": "2022-07-14T06:08:18.130Z"
   },
   {
    "duration": 6,
    "start_time": "2022-07-14T06:08:18.138Z"
   },
   {
    "duration": 375,
    "start_time": "2022-07-14T06:08:18.147Z"
   },
   {
    "duration": 6,
    "start_time": "2022-07-14T06:08:18.524Z"
   },
   {
    "duration": 21,
    "start_time": "2022-07-14T06:08:18.531Z"
   },
   {
    "duration": 44,
    "start_time": "2022-07-14T06:08:18.555Z"
   },
   {
    "duration": 121,
    "start_time": "2022-07-14T06:08:18.603Z"
   },
   {
    "duration": 18,
    "start_time": "2022-07-14T06:08:18.726Z"
   },
   {
    "duration": 647,
    "start_time": "2022-07-14T06:08:18.746Z"
   },
   {
    "duration": 818,
    "start_time": "2022-07-14T06:08:19.396Z"
   },
   {
    "duration": 670,
    "start_time": "2022-07-14T06:08:20.216Z"
   },
   {
    "duration": 457,
    "start_time": "2022-07-14T06:08:20.888Z"
   },
   {
    "duration": 12,
    "start_time": "2022-07-14T06:08:21.346Z"
   },
   {
    "duration": 637,
    "start_time": "2022-07-14T06:08:21.360Z"
   },
   {
    "duration": 13,
    "start_time": "2022-07-14T06:08:21.999Z"
   },
   {
    "duration": 15,
    "start_time": "2022-07-14T06:08:22.024Z"
   },
   {
    "duration": 205,
    "start_time": "2022-07-14T06:08:22.041Z"
   },
   {
    "duration": 290,
    "start_time": "2022-07-14T06:08:22.248Z"
   },
   {
    "duration": 152,
    "start_time": "2022-07-14T06:08:22.540Z"
   },
   {
    "duration": 8,
    "start_time": "2022-07-14T06:08:22.695Z"
   },
   {
    "duration": 28,
    "start_time": "2022-07-14T06:08:22.705Z"
   },
   {
    "duration": 4,
    "start_time": "2022-07-14T06:08:22.735Z"
   },
   {
    "duration": 222,
    "start_time": "2022-07-14T06:08:22.740Z"
   },
   {
    "duration": 282,
    "start_time": "2022-07-14T06:08:22.964Z"
   },
   {
    "duration": 150,
    "start_time": "2022-07-14T06:08:23.248Z"
   },
   {
    "duration": 5,
    "start_time": "2022-07-14T06:08:23.399Z"
   },
   {
    "duration": 12,
    "start_time": "2022-07-14T06:08:23.424Z"
   },
   {
    "duration": 3,
    "start_time": "2022-07-14T06:08:23.438Z"
   },
   {
    "duration": 207,
    "start_time": "2022-07-14T06:08:23.443Z"
   },
   {
    "duration": 275,
    "start_time": "2022-07-14T06:08:23.655Z"
   },
   {
    "duration": 317,
    "start_time": "2022-07-14T06:08:23.932Z"
   },
   {
    "duration": 6,
    "start_time": "2022-07-14T06:08:24.251Z"
   },
   {
    "duration": 15,
    "start_time": "2022-07-14T06:08:24.258Z"
   },
   {
    "duration": 8,
    "start_time": "2022-07-14T06:08:24.275Z"
   },
   {
    "duration": 46,
    "start_time": "2022-07-14T06:08:24.284Z"
   },
   {
    "duration": 10,
    "start_time": "2022-07-15T05:44:42.634Z"
   },
   {
    "duration": 42,
    "start_time": "2022-07-15T06:01:03.630Z"
   },
   {
    "duration": 1423,
    "start_time": "2022-07-15T06:01:20.035Z"
   },
   {
    "duration": 2940,
    "start_time": "2022-07-15T06:01:21.460Z"
   },
   {
    "duration": 24,
    "start_time": "2022-07-15T06:01:24.402Z"
   },
   {
    "duration": 20,
    "start_time": "2022-07-15T06:01:24.428Z"
   },
   {
    "duration": 24,
    "start_time": "2022-07-15T06:01:24.449Z"
   },
   {
    "duration": 24,
    "start_time": "2022-07-15T06:01:24.475Z"
   },
   {
    "duration": 30,
    "start_time": "2022-07-15T06:01:24.501Z"
   },
   {
    "duration": 17,
    "start_time": "2022-07-15T06:01:24.533Z"
   },
   {
    "duration": 4,
    "start_time": "2022-07-15T06:01:24.552Z"
   },
   {
    "duration": 17,
    "start_time": "2022-07-15T06:01:24.559Z"
   },
   {
    "duration": 11,
    "start_time": "2022-07-15T06:01:24.579Z"
   },
   {
    "duration": 8,
    "start_time": "2022-07-15T06:01:24.592Z"
   },
   {
    "duration": 346,
    "start_time": "2022-07-15T06:01:24.603Z"
   },
   {
    "duration": 5,
    "start_time": "2022-07-15T06:01:24.951Z"
   },
   {
    "duration": 17,
    "start_time": "2022-07-15T06:01:24.957Z"
   },
   {
    "duration": 52,
    "start_time": "2022-07-15T06:01:24.975Z"
   },
   {
    "duration": 85,
    "start_time": "2022-07-15T06:01:25.029Z"
   },
   {
    "duration": 16,
    "start_time": "2022-07-15T06:01:25.124Z"
   },
   {
    "duration": 558,
    "start_time": "2022-07-15T06:01:25.141Z"
   },
   {
    "duration": 701,
    "start_time": "2022-07-15T06:01:25.701Z"
   },
   {
    "duration": 586,
    "start_time": "2022-07-15T06:01:26.405Z"
   },
   {
    "duration": 554,
    "start_time": "2022-07-15T06:01:26.993Z"
   },
   {
    "duration": 10,
    "start_time": "2022-07-15T06:01:27.549Z"
   },
   {
    "duration": 406,
    "start_time": "2022-07-15T06:01:27.561Z"
   },
   {
    "duration": 10,
    "start_time": "2022-07-15T06:01:27.969Z"
   },
   {
    "duration": 3,
    "start_time": "2022-07-15T06:01:27.980Z"
   },
   {
    "duration": 202,
    "start_time": "2022-07-15T06:01:27.985Z"
   },
   {
    "duration": 238,
    "start_time": "2022-07-15T06:01:28.191Z"
   },
   {
    "duration": 117,
    "start_time": "2022-07-15T06:01:28.430Z"
   },
   {
    "duration": 5,
    "start_time": "2022-07-15T06:01:28.549Z"
   },
   {
    "duration": 14,
    "start_time": "2022-07-15T06:01:28.556Z"
   },
   {
    "duration": 3,
    "start_time": "2022-07-15T06:01:28.572Z"
   },
   {
    "duration": 201,
    "start_time": "2022-07-15T06:01:28.577Z"
   },
   {
    "duration": 222,
    "start_time": "2022-07-15T06:01:28.779Z"
   },
   {
    "duration": 136,
    "start_time": "2022-07-15T06:01:29.003Z"
   },
   {
    "duration": 5,
    "start_time": "2022-07-15T06:01:29.141Z"
   },
   {
    "duration": 16,
    "start_time": "2022-07-15T06:01:29.148Z"
   },
   {
    "duration": 3,
    "start_time": "2022-07-15T06:01:29.166Z"
   },
   {
    "duration": 225,
    "start_time": "2022-07-15T06:01:29.170Z"
   },
   {
    "duration": 393,
    "start_time": "2022-07-15T06:01:29.396Z"
   },
   {
    "duration": 121,
    "start_time": "2022-07-15T06:01:29.791Z"
   },
   {
    "duration": 10,
    "start_time": "2022-07-15T06:01:29.914Z"
   },
   {
    "duration": 10,
    "start_time": "2022-07-15T06:01:29.926Z"
   },
   {
    "duration": 6,
    "start_time": "2022-07-15T06:01:29.938Z"
   },
   {
    "duration": 6,
    "start_time": "2022-07-15T06:01:29.946Z"
   },
   {
    "duration": 7,
    "start_time": "2022-07-15T06:01:29.954Z"
   },
   {
    "duration": 5,
    "start_time": "2022-07-15T06:01:46.518Z"
   },
   {
    "duration": 4,
    "start_time": "2022-07-15T06:01:53.551Z"
   },
   {
    "duration": 6,
    "start_time": "2022-07-15T06:01:53.809Z"
   },
   {
    "duration": 3,
    "start_time": "2022-07-15T06:02:34.472Z"
   },
   {
    "duration": 4,
    "start_time": "2022-07-15T06:02:34.907Z"
   },
   {
    "duration": 5,
    "start_time": "2022-07-15T06:02:35.270Z"
   },
   {
    "duration": 4,
    "start_time": "2022-07-15T06:03:44.044Z"
   },
   {
    "duration": 6,
    "start_time": "2022-07-15T06:03:44.307Z"
   },
   {
    "duration": 3,
    "start_time": "2022-07-15T06:05:02.322Z"
   },
   {
    "duration": 4,
    "start_time": "2022-07-15T06:05:02.681Z"
   },
   {
    "duration": 6,
    "start_time": "2022-07-15T06:05:03.015Z"
   },
   {
    "duration": 4,
    "start_time": "2022-07-15T06:05:29.353Z"
   },
   {
    "duration": 5,
    "start_time": "2022-07-15T06:05:29.656Z"
   },
   {
    "duration": 7,
    "start_time": "2022-07-15T06:05:34.584Z"
   },
   {
    "duration": 5,
    "start_time": "2022-07-15T06:05:34.865Z"
   },
   {
    "duration": 92,
    "start_time": "2022-07-15T06:13:16.381Z"
   },
   {
    "duration": 10,
    "start_time": "2022-07-15T06:13:21.061Z"
   },
   {
    "duration": 1753,
    "start_time": "2022-07-17T16:47:18.481Z"
   },
   {
    "duration": 114,
    "start_time": "2022-07-17T16:48:14.469Z"
   },
   {
    "duration": 36,
    "start_time": "2022-07-17T16:48:36.982Z"
   },
   {
    "duration": 5,
    "start_time": "2022-07-17T16:50:00.013Z"
   },
   {
    "duration": 1551,
    "start_time": "2022-07-17T16:50:05.911Z"
   },
   {
    "duration": 4104,
    "start_time": "2022-07-17T16:50:07.471Z"
   },
   {
    "duration": 27,
    "start_time": "2022-07-17T16:50:11.577Z"
   },
   {
    "duration": 25,
    "start_time": "2022-07-17T16:50:11.606Z"
   },
   {
    "duration": 53,
    "start_time": "2022-07-17T16:50:11.632Z"
   },
   {
    "duration": 47,
    "start_time": "2022-07-17T16:50:11.687Z"
   },
   {
    "duration": 47,
    "start_time": "2022-07-17T16:50:11.737Z"
   },
   {
    "duration": 16,
    "start_time": "2022-07-17T16:50:11.787Z"
   },
   {
    "duration": 4,
    "start_time": "2022-07-17T16:50:11.805Z"
   },
   {
    "duration": 18,
    "start_time": "2022-07-17T16:50:11.811Z"
   },
   {
    "duration": 36,
    "start_time": "2022-07-17T16:50:11.831Z"
   },
   {
    "duration": 12,
    "start_time": "2022-07-17T16:50:11.869Z"
   },
   {
    "duration": 415,
    "start_time": "2022-07-17T16:50:11.884Z"
   },
   {
    "duration": 6,
    "start_time": "2022-07-17T16:50:12.301Z"
   },
   {
    "duration": 27,
    "start_time": "2022-07-17T16:50:12.309Z"
   },
   {
    "duration": 64,
    "start_time": "2022-07-17T16:50:12.340Z"
   },
   {
    "duration": 109,
    "start_time": "2022-07-17T16:50:12.406Z"
   },
   {
    "duration": 21,
    "start_time": "2022-07-17T16:50:12.517Z"
   },
   {
    "duration": 654,
    "start_time": "2022-07-17T16:50:12.540Z"
   },
   {
    "duration": 810,
    "start_time": "2022-07-17T16:50:13.196Z"
   },
   {
    "duration": 759,
    "start_time": "2022-07-17T16:50:14.008Z"
   },
   {
    "duration": 641,
    "start_time": "2022-07-17T16:50:14.769Z"
   },
   {
    "duration": 16,
    "start_time": "2022-07-17T16:50:15.413Z"
   },
   {
    "duration": 538,
    "start_time": "2022-07-17T16:50:15.431Z"
   },
   {
    "duration": 11,
    "start_time": "2022-07-17T16:50:15.972Z"
   },
   {
    "duration": 4,
    "start_time": "2022-07-17T16:50:15.986Z"
   },
   {
    "duration": 244,
    "start_time": "2022-07-17T16:50:15.992Z"
   },
   {
    "duration": 294,
    "start_time": "2022-07-17T16:50:16.244Z"
   },
   {
    "duration": 150,
    "start_time": "2022-07-17T16:50:16.540Z"
   },
   {
    "duration": 6,
    "start_time": "2022-07-17T16:50:16.692Z"
   },
   {
    "duration": 15,
    "start_time": "2022-07-17T16:50:16.700Z"
   },
   {
    "duration": 15,
    "start_time": "2022-07-17T16:50:16.717Z"
   },
   {
    "duration": 259,
    "start_time": "2022-07-17T16:50:16.734Z"
   },
   {
    "duration": 312,
    "start_time": "2022-07-17T16:50:16.995Z"
   },
   {
    "duration": 195,
    "start_time": "2022-07-17T16:50:17.309Z"
   },
   {
    "duration": 7,
    "start_time": "2022-07-17T16:50:17.506Z"
   },
   {
    "duration": 69,
    "start_time": "2022-07-17T16:50:17.515Z"
   },
   {
    "duration": 22,
    "start_time": "2022-07-17T16:50:17.586Z"
   },
   {
    "duration": 229,
    "start_time": "2022-07-17T16:50:17.609Z"
   },
   {
    "duration": 448,
    "start_time": "2022-07-17T16:50:17.841Z"
   },
   {
    "duration": 169,
    "start_time": "2022-07-17T16:50:18.290Z"
   },
   {
    "duration": 7,
    "start_time": "2022-07-17T16:50:18.465Z"
   },
   {
    "duration": 14,
    "start_time": "2022-07-17T16:50:18.474Z"
   },
   {
    "duration": 7,
    "start_time": "2022-07-17T16:50:18.490Z"
   },
   {
    "duration": 10,
    "start_time": "2022-07-17T16:50:18.499Z"
   },
   {
    "duration": 52,
    "start_time": "2022-07-17T16:50:18.511Z"
   },
   {
    "duration": 125,
    "start_time": "2022-07-17T16:50:18.565Z"
   },
   {
    "duration": 0,
    "start_time": "2022-07-17T16:50:18.692Z"
   },
   {
    "duration": 7,
    "start_time": "2022-07-17T16:51:37.544Z"
   },
   {
    "duration": 9,
    "start_time": "2022-07-17T16:51:45.448Z"
   },
   {
    "duration": 3,
    "start_time": "2022-07-17T16:54:16.674Z"
   },
   {
    "duration": 3,
    "start_time": "2022-07-17T16:54:49.064Z"
   },
   {
    "duration": 3,
    "start_time": "2022-07-17T16:56:06.748Z"
   },
   {
    "duration": 4,
    "start_time": "2022-07-17T17:04:48.832Z"
   },
   {
    "duration": 65,
    "start_time": "2022-07-17T17:04:49.157Z"
   },
   {
    "duration": 14,
    "start_time": "2022-07-17T17:25:16.170Z"
   },
   {
    "duration": 8,
    "start_time": "2022-07-17T17:25:25.731Z"
   },
   {
    "duration": 440,
    "start_time": "2022-07-17T17:26:00.420Z"
   },
   {
    "duration": 445,
    "start_time": "2022-07-17T17:26:10.796Z"
   },
   {
    "duration": 1759,
    "start_time": "2022-07-17T17:26:30.685Z"
   },
   {
    "duration": 1047,
    "start_time": "2022-07-17T17:26:32.447Z"
   },
   {
    "duration": 47,
    "start_time": "2022-07-17T17:26:33.497Z"
   },
   {
    "duration": 23,
    "start_time": "2022-07-17T17:26:33.546Z"
   },
   {
    "duration": 29,
    "start_time": "2022-07-17T17:26:33.571Z"
   },
   {
    "duration": 40,
    "start_time": "2022-07-17T17:26:33.602Z"
   },
   {
    "duration": 19,
    "start_time": "2022-07-17T17:26:33.644Z"
   },
   {
    "duration": 33,
    "start_time": "2022-07-17T17:26:33.665Z"
   },
   {
    "duration": 9,
    "start_time": "2022-07-17T17:26:33.700Z"
   },
   {
    "duration": 5,
    "start_time": "2022-07-17T17:26:33.726Z"
   },
   {
    "duration": 26,
    "start_time": "2022-07-17T17:26:33.734Z"
   },
   {
    "duration": 8,
    "start_time": "2022-07-17T17:26:33.762Z"
   },
   {
    "duration": 499,
    "start_time": "2022-07-17T17:26:33.772Z"
   },
   {
    "duration": 7,
    "start_time": "2022-07-17T17:26:34.275Z"
   },
   {
    "duration": 22,
    "start_time": "2022-07-17T17:26:34.284Z"
   },
   {
    "duration": 63,
    "start_time": "2022-07-17T17:26:34.309Z"
   },
   {
    "duration": 121,
    "start_time": "2022-07-17T17:26:34.374Z"
   },
   {
    "duration": 19,
    "start_time": "2022-07-17T17:26:34.508Z"
   },
   {
    "duration": 941,
    "start_time": "2022-07-17T17:26:34.529Z"
   },
   {
    "duration": 847,
    "start_time": "2022-07-17T17:26:35.473Z"
   },
   {
    "duration": 661,
    "start_time": "2022-07-17T17:26:36.322Z"
   },
   {
    "duration": 784,
    "start_time": "2022-07-17T17:26:36.985Z"
   },
   {
    "duration": 15,
    "start_time": "2022-07-17T17:26:37.772Z"
   },
   {
    "duration": 701,
    "start_time": "2022-07-17T17:26:37.790Z"
   },
   {
    "duration": 16,
    "start_time": "2022-07-17T17:26:38.494Z"
   },
   {
    "duration": 4,
    "start_time": "2022-07-17T17:26:38.524Z"
   },
   {
    "duration": 265,
    "start_time": "2022-07-17T17:26:38.530Z"
   },
   {
    "duration": 389,
    "start_time": "2022-07-17T17:26:38.801Z"
   },
   {
    "duration": 164,
    "start_time": "2022-07-17T17:26:39.192Z"
   },
   {
    "duration": 8,
    "start_time": "2022-07-17T17:26:39.358Z"
   },
   {
    "duration": 23,
    "start_time": "2022-07-17T17:26:39.368Z"
   },
   {
    "duration": 4,
    "start_time": "2022-07-17T17:26:39.394Z"
   },
   {
    "duration": 321,
    "start_time": "2022-07-17T17:26:39.400Z"
   },
   {
    "duration": 337,
    "start_time": "2022-07-17T17:26:39.724Z"
   },
   {
    "duration": 209,
    "start_time": "2022-07-17T17:26:40.064Z"
   },
   {
    "duration": 7,
    "start_time": "2022-07-17T17:26:40.276Z"
   },
   {
    "duration": 22,
    "start_time": "2022-07-17T17:26:40.285Z"
   },
   {
    "duration": 19,
    "start_time": "2022-07-17T17:26:40.309Z"
   },
   {
    "duration": 308,
    "start_time": "2022-07-17T17:26:40.330Z"
   },
   {
    "duration": 496,
    "start_time": "2022-07-17T17:26:40.640Z"
   },
   {
    "duration": 139,
    "start_time": "2022-07-17T17:26:41.138Z"
   },
   {
    "duration": 7,
    "start_time": "2022-07-17T17:26:41.279Z"
   },
   {
    "duration": 14,
    "start_time": "2022-07-17T17:26:41.290Z"
   },
   {
    "duration": 24,
    "start_time": "2022-07-17T17:26:41.306Z"
   },
   {
    "duration": 10,
    "start_time": "2022-07-17T17:26:41.332Z"
   },
   {
    "duration": 9,
    "start_time": "2022-07-17T17:26:41.344Z"
   },
   {
    "duration": 10,
    "start_time": "2022-07-17T17:26:41.356Z"
   },
   {
    "duration": 532,
    "start_time": "2022-07-17T17:26:41.369Z"
   },
   {
    "duration": 0,
    "start_time": "2022-07-17T17:26:41.903Z"
   },
   {
    "duration": 10,
    "start_time": "2022-07-17T17:27:39.043Z"
   },
   {
    "duration": 19,
    "start_time": "2022-07-17T17:27:46.844Z"
   },
   {
    "duration": 8,
    "start_time": "2022-07-17T17:27:51.154Z"
   },
   {
    "duration": 5330,
    "start_time": "2022-07-17T17:31:53.601Z"
   },
   {
    "duration": 5451,
    "start_time": "2022-07-17T17:32:34.283Z"
   },
   {
    "duration": 5,
    "start_time": "2022-07-17T17:35:37.704Z"
   },
   {
    "duration": 4,
    "start_time": "2022-07-17T17:35:38.689Z"
   },
   {
    "duration": 5,
    "start_time": "2022-07-17T17:35:39.866Z"
   },
   {
    "duration": 9,
    "start_time": "2022-07-17T17:35:41.318Z"
   },
   {
    "duration": 506,
    "start_time": "2022-07-17T17:35:49.828Z"
   },
   {
    "duration": 453,
    "start_time": "2022-07-17T17:36:15.779Z"
   },
   {
    "duration": 470,
    "start_time": "2022-07-17T17:37:42.304Z"
   },
   {
    "duration": 1846,
    "start_time": "2022-07-17T17:37:54.425Z"
   },
   {
    "duration": 1026,
    "start_time": "2022-07-17T17:37:56.274Z"
   },
   {
    "duration": 52,
    "start_time": "2022-07-17T17:37:57.303Z"
   },
   {
    "duration": 30,
    "start_time": "2022-07-17T17:37:57.357Z"
   },
   {
    "duration": 41,
    "start_time": "2022-07-17T17:37:57.389Z"
   },
   {
    "duration": 45,
    "start_time": "2022-07-17T17:37:57.433Z"
   },
   {
    "duration": 17,
    "start_time": "2022-07-17T17:37:57.481Z"
   },
   {
    "duration": 33,
    "start_time": "2022-07-17T17:37:57.501Z"
   },
   {
    "duration": 14,
    "start_time": "2022-07-17T17:37:57.536Z"
   },
   {
    "duration": 31,
    "start_time": "2022-07-17T17:37:57.553Z"
   },
   {
    "duration": 26,
    "start_time": "2022-07-17T17:37:57.586Z"
   },
   {
    "duration": 17,
    "start_time": "2022-07-17T17:37:57.615Z"
   },
   {
    "duration": 542,
    "start_time": "2022-07-17T17:37:57.634Z"
   },
   {
    "duration": 7,
    "start_time": "2022-07-17T17:37:58.179Z"
   },
   {
    "duration": 37,
    "start_time": "2022-07-17T17:37:58.188Z"
   },
   {
    "duration": 54,
    "start_time": "2022-07-17T17:37:58.228Z"
   },
   {
    "duration": 164,
    "start_time": "2022-07-17T17:37:58.285Z"
   },
   {
    "duration": 22,
    "start_time": "2022-07-17T17:37:58.451Z"
   },
   {
    "duration": 695,
    "start_time": "2022-07-17T17:37:58.475Z"
   },
   {
    "duration": 1083,
    "start_time": "2022-07-17T17:37:59.173Z"
   },
   {
    "duration": 681,
    "start_time": "2022-07-17T17:38:00.258Z"
   },
   {
    "duration": 892,
    "start_time": "2022-07-17T17:38:00.941Z"
   },
   {
    "duration": 17,
    "start_time": "2022-07-17T17:38:01.836Z"
   },
   {
    "duration": 625,
    "start_time": "2022-07-17T17:38:01.855Z"
   },
   {
    "duration": 17,
    "start_time": "2022-07-17T17:38:02.482Z"
   },
   {
    "duration": 11,
    "start_time": "2022-07-17T17:38:02.500Z"
   },
   {
    "duration": 278,
    "start_time": "2022-07-17T17:38:02.513Z"
   },
   {
    "duration": 390,
    "start_time": "2022-07-17T17:38:02.795Z"
   },
   {
    "duration": 166,
    "start_time": "2022-07-17T17:38:03.187Z"
   },
   {
    "duration": 9,
    "start_time": "2022-07-17T17:38:03.355Z"
   },
   {
    "duration": 20,
    "start_time": "2022-07-17T17:38:03.366Z"
   },
   {
    "duration": 4,
    "start_time": "2022-07-17T17:38:03.389Z"
   },
   {
    "duration": 318,
    "start_time": "2022-07-17T17:38:03.396Z"
   },
   {
    "duration": 298,
    "start_time": "2022-07-17T17:38:03.716Z"
   },
   {
    "duration": 157,
    "start_time": "2022-07-17T17:38:04.016Z"
   },
   {
    "duration": 5,
    "start_time": "2022-07-17T17:38:04.175Z"
   },
   {
    "duration": 12,
    "start_time": "2022-07-17T17:38:04.182Z"
   },
   {
    "duration": 3,
    "start_time": "2022-07-17T17:38:04.196Z"
   },
   {
    "duration": 224,
    "start_time": "2022-07-17T17:38:04.200Z"
   },
   {
    "duration": 514,
    "start_time": "2022-07-17T17:38:04.426Z"
   },
   {
    "duration": 140,
    "start_time": "2022-07-17T17:38:04.943Z"
   },
   {
    "duration": 7,
    "start_time": "2022-07-17T17:38:05.085Z"
   },
   {
    "duration": 32,
    "start_time": "2022-07-17T17:38:05.094Z"
   },
   {
    "duration": 7,
    "start_time": "2022-07-17T17:38:05.128Z"
   },
   {
    "duration": 8,
    "start_time": "2022-07-17T17:38:05.137Z"
   },
   {
    "duration": 10,
    "start_time": "2022-07-17T17:38:05.147Z"
   },
   {
    "duration": 6,
    "start_time": "2022-07-17T17:38:05.159Z"
   },
   {
    "duration": 15,
    "start_time": "2022-07-17T17:38:05.167Z"
   },
   {
    "duration": 623,
    "start_time": "2022-07-17T17:38:05.184Z"
   },
   {
    "duration": 3,
    "start_time": "2022-07-17T18:12:10.207Z"
   },
   {
    "duration": 658,
    "start_time": "2022-07-17T18:22:37.104Z"
   },
   {
    "duration": 27,
    "start_time": "2022-07-17T18:23:40.514Z"
   },
   {
    "duration": 399,
    "start_time": "2022-07-17T18:23:46.574Z"
   },
   {
    "duration": 7,
    "start_time": "2022-07-17T18:25:15.336Z"
   },
   {
    "duration": 419,
    "start_time": "2022-07-17T18:25:15.778Z"
   },
   {
    "duration": 7,
    "start_time": "2022-07-17T18:25:33.699Z"
   },
   {
    "duration": 715,
    "start_time": "2022-07-17T18:25:33.893Z"
   },
   {
    "duration": 7,
    "start_time": "2022-07-17T18:26:01.798Z"
   },
   {
    "duration": 4741,
    "start_time": "2022-07-17T18:26:02.020Z"
   },
   {
    "duration": 7,
    "start_time": "2022-07-17T18:26:20.685Z"
   },
   {
    "duration": 3962,
    "start_time": "2022-07-17T18:26:20.874Z"
   },
   {
    "duration": 6,
    "start_time": "2022-07-17T18:27:25.800Z"
   },
   {
    "duration": 4022,
    "start_time": "2022-07-17T18:27:26.115Z"
   },
   {
    "duration": 4560,
    "start_time": "2022-07-17T18:27:38.084Z"
   },
   {
    "duration": 4982,
    "start_time": "2022-07-17T18:28:54.455Z"
   },
   {
    "duration": 3,
    "start_time": "2022-07-17T18:29:21.122Z"
   },
   {
    "duration": 6,
    "start_time": "2022-07-17T18:29:21.717Z"
   },
   {
    "duration": 4070,
    "start_time": "2022-07-17T18:29:23.078Z"
   },
   {
    "duration": 3,
    "start_time": "2022-07-17T18:31:05.186Z"
   },
   {
    "duration": 6,
    "start_time": "2022-07-17T18:31:05.544Z"
   },
   {
    "duration": 4678,
    "start_time": "2022-07-17T18:31:05.946Z"
   },
   {
    "duration": 29,
    "start_time": "2022-07-17T18:32:22.841Z"
   },
   {
    "duration": 4,
    "start_time": "2022-07-17T18:45:31.341Z"
   },
   {
    "duration": 61,
    "start_time": "2022-07-17T18:46:05.866Z"
   },
   {
    "duration": 63,
    "start_time": "2022-07-17T18:46:08.843Z"
   },
   {
    "duration": 59,
    "start_time": "2022-07-17T18:46:54.837Z"
   },
   {
    "duration": 57,
    "start_time": "2022-07-17T18:46:58.953Z"
   },
   {
    "duration": 4352,
    "start_time": "2022-07-17T18:49:08.773Z"
   },
   {
    "duration": 6,
    "start_time": "2022-07-17T18:49:15.178Z"
   },
   {
    "duration": 4168,
    "start_time": "2022-07-17T18:49:15.663Z"
   },
   {
    "duration": 82,
    "start_time": "2022-07-17T18:49:30.203Z"
   },
   {
    "duration": 371,
    "start_time": "2022-07-17T18:50:22.125Z"
   },
   {
    "duration": 310,
    "start_time": "2022-07-17T18:52:37.656Z"
   },
   {
    "duration": 358,
    "start_time": "2022-07-17T18:55:36.647Z"
   },
   {
    "duration": 6297,
    "start_time": "2022-07-17T18:55:39.031Z"
   },
   {
    "duration": 327,
    "start_time": "2022-07-17T18:56:06.113Z"
   },
   {
    "duration": 5,
    "start_time": "2022-07-17T18:59:35.540Z"
   },
   {
    "duration": 5,
    "start_time": "2022-07-17T19:00:22.787Z"
   },
   {
    "duration": 391,
    "start_time": "2022-07-17T19:00:28.321Z"
   },
   {
    "duration": 302,
    "start_time": "2022-07-17T19:00:52.103Z"
   },
   {
    "duration": 308,
    "start_time": "2022-07-17T19:01:04.667Z"
   },
   {
    "duration": 362,
    "start_time": "2022-07-17T19:01:17.045Z"
   },
   {
    "duration": 295,
    "start_time": "2022-07-17T19:02:11.344Z"
   },
   {
    "duration": 337,
    "start_time": "2022-07-17T19:02:55.920Z"
   },
   {
    "duration": 288,
    "start_time": "2022-07-17T19:33:53.840Z"
   },
   {
    "duration": 67,
    "start_time": "2022-07-17T19:34:58.546Z"
   },
   {
    "duration": 12,
    "start_time": "2022-07-17T19:35:38.501Z"
   },
   {
    "duration": 6,
    "start_time": "2022-07-17T19:35:42.127Z"
   },
   {
    "duration": 8,
    "start_time": "2022-07-17T19:36:02.838Z"
   },
   {
    "duration": 62,
    "start_time": "2022-07-17T19:36:40.903Z"
   },
   {
    "duration": 185,
    "start_time": "2022-07-17T19:38:09.843Z"
   },
   {
    "duration": 62,
    "start_time": "2022-07-17T19:38:25.119Z"
   },
   {
    "duration": 66,
    "start_time": "2022-07-17T19:41:55.550Z"
   },
   {
    "duration": 299,
    "start_time": "2022-07-17T19:44:46.825Z"
   },
   {
    "duration": 1712,
    "start_time": "2022-07-18T05:08:43.517Z"
   },
   {
    "duration": 3439,
    "start_time": "2022-07-18T05:08:45.231Z"
   },
   {
    "duration": 26,
    "start_time": "2022-07-18T05:08:48.671Z"
   },
   {
    "duration": 28,
    "start_time": "2022-07-18T05:08:48.699Z"
   },
   {
    "duration": 38,
    "start_time": "2022-07-18T05:08:48.736Z"
   },
   {
    "duration": 19,
    "start_time": "2022-07-18T05:08:48.776Z"
   },
   {
    "duration": 12,
    "start_time": "2022-07-18T05:08:48.797Z"
   },
   {
    "duration": 32,
    "start_time": "2022-07-18T05:08:48.811Z"
   },
   {
    "duration": 4,
    "start_time": "2022-07-18T05:08:48.845Z"
   },
   {
    "duration": 7,
    "start_time": "2022-07-18T05:08:48.851Z"
   },
   {
    "duration": 5,
    "start_time": "2022-07-18T05:08:48.860Z"
   },
   {
    "duration": 7,
    "start_time": "2022-07-18T05:08:48.867Z"
   },
   {
    "duration": 393,
    "start_time": "2022-07-18T05:08:48.876Z"
   },
   {
    "duration": 5,
    "start_time": "2022-07-18T05:08:49.273Z"
   },
   {
    "duration": 19,
    "start_time": "2022-07-18T05:08:49.280Z"
   },
   {
    "duration": 71,
    "start_time": "2022-07-18T05:08:49.301Z"
   },
   {
    "duration": 96,
    "start_time": "2022-07-18T05:08:49.374Z"
   },
   {
    "duration": 17,
    "start_time": "2022-07-18T05:08:49.472Z"
   },
   {
    "duration": 704,
    "start_time": "2022-07-18T05:08:49.491Z"
   },
   {
    "duration": 677,
    "start_time": "2022-07-18T05:08:50.197Z"
   },
   {
    "duration": 604,
    "start_time": "2022-07-18T05:08:50.876Z"
   },
   {
    "duration": 581,
    "start_time": "2022-07-18T05:08:51.482Z"
   },
   {
    "duration": 13,
    "start_time": "2022-07-18T05:08:52.065Z"
   },
   {
    "duration": 511,
    "start_time": "2022-07-18T05:08:52.081Z"
   },
   {
    "duration": 11,
    "start_time": "2022-07-18T05:08:52.594Z"
   },
   {
    "duration": 3,
    "start_time": "2022-07-18T05:08:52.606Z"
   },
   {
    "duration": 212,
    "start_time": "2022-07-18T05:08:52.624Z"
   },
   {
    "duration": 249,
    "start_time": "2022-07-18T05:08:52.838Z"
   },
   {
    "duration": 123,
    "start_time": "2022-07-18T05:08:53.089Z"
   },
   {
    "duration": 21,
    "start_time": "2022-07-18T05:08:53.214Z"
   },
   {
    "duration": 19,
    "start_time": "2022-07-18T05:08:53.236Z"
   },
   {
    "duration": 4,
    "start_time": "2022-07-18T05:08:53.257Z"
   },
   {
    "duration": 193,
    "start_time": "2022-07-18T05:08:53.263Z"
   },
   {
    "duration": 256,
    "start_time": "2022-07-18T05:08:53.457Z"
   },
   {
    "duration": 266,
    "start_time": "2022-07-18T05:08:53.714Z"
   },
   {
    "duration": 5,
    "start_time": "2022-07-18T05:08:53.981Z"
   },
   {
    "duration": 10,
    "start_time": "2022-07-18T05:08:53.988Z"
   },
   {
    "duration": 4,
    "start_time": "2022-07-18T05:08:54.000Z"
   },
   {
    "duration": 233,
    "start_time": "2022-07-18T05:08:54.024Z"
   },
   {
    "duration": 287,
    "start_time": "2022-07-18T05:08:54.259Z"
   },
   {
    "duration": 141,
    "start_time": "2022-07-18T05:08:54.550Z"
   },
   {
    "duration": 8,
    "start_time": "2022-07-18T05:08:54.693Z"
   },
   {
    "duration": 26,
    "start_time": "2022-07-18T05:08:54.702Z"
   },
   {
    "duration": 7,
    "start_time": "2022-07-18T05:08:54.732Z"
   },
   {
    "duration": 14,
    "start_time": "2022-07-18T05:08:54.740Z"
   },
   {
    "duration": 7,
    "start_time": "2022-07-18T05:08:54.755Z"
   },
   {
    "duration": 10,
    "start_time": "2022-07-18T05:08:54.763Z"
   },
   {
    "duration": 9,
    "start_time": "2022-07-18T05:08:54.775Z"
   },
   {
    "duration": 6941,
    "start_time": "2022-07-18T05:08:54.786Z"
   },
   {
    "duration": 488,
    "start_time": "2022-07-18T05:09:01.732Z"
   },
   {
    "duration": 4,
    "start_time": "2022-07-18T05:12:00.243Z"
   },
   {
    "duration": 209,
    "start_time": "2022-07-18T05:12:35.143Z"
   },
   {
    "duration": 8022,
    "start_time": "2022-07-18T05:12:41.341Z"
   },
   {
    "duration": 9568,
    "start_time": "2022-07-18T05:12:57.355Z"
   },
   {
    "duration": 204,
    "start_time": "2022-07-18T05:13:06.927Z"
   },
   {
    "duration": 27,
    "start_time": "2022-07-18T05:13:47.955Z"
   },
   {
    "duration": 138,
    "start_time": "2022-07-18T05:15:39.151Z"
   },
   {
    "duration": 149,
    "start_time": "2022-07-18T05:15:45.035Z"
   },
   {
    "duration": 6,
    "start_time": "2022-07-18T05:17:20.189Z"
   },
   {
    "duration": 13,
    "start_time": "2022-07-18T05:17:36.286Z"
   },
   {
    "duration": 55,
    "start_time": "2022-07-18T05:17:40.648Z"
   },
   {
    "duration": 6,
    "start_time": "2022-07-18T05:17:42.983Z"
   },
   {
    "duration": 201,
    "start_time": "2022-07-18T05:21:30.393Z"
   },
   {
    "duration": 10,
    "start_time": "2022-07-18T05:25:21.085Z"
   },
   {
    "duration": 14,
    "start_time": "2022-07-18T05:25:49.654Z"
   },
   {
    "duration": 7,
    "start_time": "2022-07-18T05:25:54.877Z"
   },
   {
    "duration": 23,
    "start_time": "2022-07-18T05:26:01.449Z"
   },
   {
    "duration": 15,
    "start_time": "2022-07-18T05:26:07.329Z"
   },
   {
    "duration": 205,
    "start_time": "2022-07-18T05:26:15.687Z"
   },
   {
    "duration": 1438,
    "start_time": "2022-07-18T05:26:37.422Z"
   },
   {
    "duration": 776,
    "start_time": "2022-07-18T05:26:38.863Z"
   },
   {
    "duration": 26,
    "start_time": "2022-07-18T05:26:39.641Z"
   },
   {
    "duration": 22,
    "start_time": "2022-07-18T05:26:39.669Z"
   },
   {
    "duration": 51,
    "start_time": "2022-07-18T05:26:39.693Z"
   },
   {
    "duration": 24,
    "start_time": "2022-07-18T05:26:39.746Z"
   },
   {
    "duration": 19,
    "start_time": "2022-07-18T05:26:39.772Z"
   },
   {
    "duration": 43,
    "start_time": "2022-07-18T05:26:39.793Z"
   },
   {
    "duration": 5,
    "start_time": "2022-07-18T05:26:39.840Z"
   },
   {
    "duration": 7,
    "start_time": "2022-07-18T05:26:39.847Z"
   },
   {
    "duration": 10,
    "start_time": "2022-07-18T05:26:39.855Z"
   },
   {
    "duration": 11,
    "start_time": "2022-07-18T05:26:39.867Z"
   },
   {
    "duration": 382,
    "start_time": "2022-07-18T05:26:39.880Z"
   },
   {
    "duration": 6,
    "start_time": "2022-07-18T05:26:40.265Z"
   },
   {
    "duration": 16,
    "start_time": "2022-07-18T05:26:40.272Z"
   },
   {
    "duration": 58,
    "start_time": "2022-07-18T05:26:40.290Z"
   },
   {
    "duration": 104,
    "start_time": "2022-07-18T05:26:40.350Z"
   },
   {
    "duration": 17,
    "start_time": "2022-07-18T05:26:40.456Z"
   },
   {
    "duration": 625,
    "start_time": "2022-07-18T05:26:40.475Z"
   },
   {
    "duration": 769,
    "start_time": "2022-07-18T05:26:41.102Z"
   },
   {
    "duration": 619,
    "start_time": "2022-07-18T05:26:41.873Z"
   },
   {
    "duration": 560,
    "start_time": "2022-07-18T05:26:42.494Z"
   },
   {
    "duration": 12,
    "start_time": "2022-07-18T05:26:43.056Z"
   },
   {
    "duration": 499,
    "start_time": "2022-07-18T05:26:43.070Z"
   },
   {
    "duration": 15,
    "start_time": "2022-07-18T05:26:43.571Z"
   },
   {
    "duration": 4,
    "start_time": "2022-07-18T05:26:43.588Z"
   },
   {
    "duration": 252,
    "start_time": "2022-07-18T05:26:43.594Z"
   },
   {
    "duration": 250,
    "start_time": "2022-07-18T05:26:43.847Z"
   },
   {
    "duration": 117,
    "start_time": "2022-07-18T05:26:44.098Z"
   },
   {
    "duration": 18,
    "start_time": "2022-07-18T05:26:44.217Z"
   },
   {
    "duration": 23,
    "start_time": "2022-07-18T05:26:44.237Z"
   },
   {
    "duration": 3,
    "start_time": "2022-07-18T05:26:44.262Z"
   },
   {
    "duration": 222,
    "start_time": "2022-07-18T05:26:44.267Z"
   },
   {
    "duration": 347,
    "start_time": "2022-07-18T05:26:44.492Z"
   },
   {
    "duration": 199,
    "start_time": "2022-07-18T05:26:44.840Z"
   },
   {
    "duration": 6,
    "start_time": "2022-07-18T05:26:45.041Z"
   },
   {
    "duration": 18,
    "start_time": "2022-07-18T05:26:45.050Z"
   },
   {
    "duration": 4,
    "start_time": "2022-07-18T05:26:45.070Z"
   },
   {
    "duration": 198,
    "start_time": "2022-07-18T05:26:45.076Z"
   },
   {
    "duration": 413,
    "start_time": "2022-07-18T05:26:45.276Z"
   },
   {
    "duration": 151,
    "start_time": "2022-07-18T05:26:45.693Z"
   },
   {
    "duration": 7,
    "start_time": "2022-07-18T05:26:45.849Z"
   },
   {
    "duration": 13,
    "start_time": "2022-07-18T05:26:45.858Z"
   },
   {
    "duration": 8,
    "start_time": "2022-07-18T05:26:45.874Z"
   },
   {
    "duration": 8,
    "start_time": "2022-07-18T05:26:45.883Z"
   },
   {
    "duration": 5,
    "start_time": "2022-07-18T05:26:45.893Z"
   },
   {
    "duration": 27,
    "start_time": "2022-07-18T05:26:45.900Z"
   },
   {
    "duration": 30,
    "start_time": "2022-07-18T05:26:45.928Z"
   },
   {
    "duration": 7382,
    "start_time": "2022-07-18T05:26:45.960Z"
   },
   {
    "duration": 98,
    "start_time": "2022-07-18T05:26:53.427Z"
   },
   {
    "duration": 276,
    "start_time": "2022-07-18T05:26:53.527Z"
   },
   {
    "duration": 8,
    "start_time": "2022-07-18T05:26:53.805Z"
   },
   {
    "duration": 4,
    "start_time": "2022-07-18T05:32:15.892Z"
   },
   {
    "duration": 3,
    "start_time": "2022-07-18T05:32:23.616Z"
   },
   {
    "duration": 5268,
    "start_time": "2022-07-18T05:32:39.563Z"
   },
   {
    "duration": 5306,
    "start_time": "2022-07-18T05:33:13.888Z"
   },
   {
    "duration": 4298,
    "start_time": "2022-07-18T05:34:29.387Z"
   },
   {
    "duration": 5142,
    "start_time": "2022-07-18T05:34:41.708Z"
   },
   {
    "duration": 6937,
    "start_time": "2022-07-18T05:35:11.901Z"
   },
   {
    "duration": 68,
    "start_time": "2022-07-18T05:35:49.229Z"
   },
   {
    "duration": 54,
    "start_time": "2022-07-18T05:36:24.882Z"
   },
   {
    "duration": 62,
    "start_time": "2022-07-18T05:36:28.399Z"
   },
   {
    "duration": 80,
    "start_time": "2022-07-18T05:36:31.582Z"
   },
   {
    "duration": 976,
    "start_time": "2022-07-18T05:36:57.784Z"
   },
   {
    "duration": 7340,
    "start_time": "2022-07-18T05:37:52.764Z"
   },
   {
    "duration": 1588,
    "start_time": "2022-07-18T05:39:36.138Z"
   },
   {
    "duration": 745,
    "start_time": "2022-07-18T05:39:37.729Z"
   },
   {
    "duration": 25,
    "start_time": "2022-07-18T05:39:38.476Z"
   },
   {
    "duration": 52,
    "start_time": "2022-07-18T05:39:38.504Z"
   },
   {
    "duration": 21,
    "start_time": "2022-07-18T05:39:38.557Z"
   },
   {
    "duration": 46,
    "start_time": "2022-07-18T05:39:38.581Z"
   },
   {
    "duration": 23,
    "start_time": "2022-07-18T05:39:38.632Z"
   },
   {
    "duration": 28,
    "start_time": "2022-07-18T05:39:38.658Z"
   },
   {
    "duration": 4,
    "start_time": "2022-07-18T05:39:38.688Z"
   },
   {
    "duration": 38,
    "start_time": "2022-07-18T05:39:38.695Z"
   },
   {
    "duration": 10,
    "start_time": "2022-07-18T05:39:38.737Z"
   },
   {
    "duration": 6,
    "start_time": "2022-07-18T05:39:38.749Z"
   },
   {
    "duration": 387,
    "start_time": "2022-07-18T05:39:38.757Z"
   },
   {
    "duration": 5,
    "start_time": "2022-07-18T05:39:39.147Z"
   },
   {
    "duration": 19,
    "start_time": "2022-07-18T05:39:39.154Z"
   },
   {
    "duration": 77,
    "start_time": "2022-07-18T05:39:39.176Z"
   },
   {
    "duration": 112,
    "start_time": "2022-07-18T05:39:39.256Z"
   },
   {
    "duration": 20,
    "start_time": "2022-07-18T05:39:39.371Z"
   },
   {
    "duration": 652,
    "start_time": "2022-07-18T05:39:39.394Z"
   },
   {
    "duration": 794,
    "start_time": "2022-07-18T05:39:40.047Z"
   },
   {
    "duration": 646,
    "start_time": "2022-07-18T05:39:40.845Z"
   },
   {
    "duration": 602,
    "start_time": "2022-07-18T05:39:41.494Z"
   },
   {
    "duration": 31,
    "start_time": "2022-07-18T05:39:42.098Z"
   },
   {
    "duration": 451,
    "start_time": "2022-07-18T05:39:42.131Z"
   },
   {
    "duration": 12,
    "start_time": "2022-07-18T05:39:42.585Z"
   },
   {
    "duration": 11,
    "start_time": "2022-07-18T05:39:42.600Z"
   },
   {
    "duration": 239,
    "start_time": "2022-07-18T05:39:42.613Z"
   },
   {
    "duration": 256,
    "start_time": "2022-07-18T05:39:42.856Z"
   },
   {
    "duration": 140,
    "start_time": "2022-07-18T05:39:43.114Z"
   },
   {
    "duration": 7,
    "start_time": "2022-07-18T05:39:43.256Z"
   },
   {
    "duration": 15,
    "start_time": "2022-07-18T05:39:43.266Z"
   },
   {
    "duration": 3,
    "start_time": "2022-07-18T05:39:43.283Z"
   },
   {
    "duration": 248,
    "start_time": "2022-07-18T05:39:43.288Z"
   },
   {
    "duration": 260,
    "start_time": "2022-07-18T05:39:43.541Z"
   },
   {
    "duration": 147,
    "start_time": "2022-07-18T05:39:43.803Z"
   },
   {
    "duration": 7,
    "start_time": "2022-07-18T05:39:43.953Z"
   },
   {
    "duration": 13,
    "start_time": "2022-07-18T05:39:43.963Z"
   },
   {
    "duration": 5,
    "start_time": "2022-07-18T05:39:43.979Z"
   },
   {
    "duration": 224,
    "start_time": "2022-07-18T05:39:43.986Z"
   },
   {
    "duration": 478,
    "start_time": "2022-07-18T05:39:44.211Z"
   },
   {
    "duration": 156,
    "start_time": "2022-07-18T05:39:44.691Z"
   },
   {
    "duration": 7,
    "start_time": "2022-07-18T05:39:44.849Z"
   },
   {
    "duration": 15,
    "start_time": "2022-07-18T05:39:44.857Z"
   },
   {
    "duration": 7,
    "start_time": "2022-07-18T05:39:44.874Z"
   },
   {
    "duration": 11,
    "start_time": "2022-07-18T05:39:44.882Z"
   },
   {
    "duration": 7,
    "start_time": "2022-07-18T05:39:44.895Z"
   },
   {
    "duration": 43,
    "start_time": "2022-07-18T05:39:44.903Z"
   },
   {
    "duration": 9,
    "start_time": "2022-07-18T05:39:44.948Z"
   },
   {
    "duration": 10166,
    "start_time": "2022-07-18T05:39:44.959Z"
   },
   {
    "duration": 7038,
    "start_time": "2022-07-18T05:39:55.132Z"
   },
   {
    "duration": 7470,
    "start_time": "2022-07-18T05:40:02.172Z"
   },
   {
    "duration": 7,
    "start_time": "2022-07-18T05:40:09.645Z"
   },
   {
    "duration": 7557,
    "start_time": "2022-07-18T05:41:48.853Z"
   },
   {
    "duration": 7724,
    "start_time": "2022-07-18T05:42:40.923Z"
   },
   {
    "duration": 25,
    "start_time": "2022-07-18T05:47:43.328Z"
   },
   {
    "duration": 33,
    "start_time": "2022-07-18T05:47:58.785Z"
   },
   {
    "duration": 89,
    "start_time": "2022-07-18T05:55:42.169Z"
   },
   {
    "duration": 6,
    "start_time": "2022-07-18T05:56:56.807Z"
   },
   {
    "duration": 114,
    "start_time": "2022-07-18T05:57:03.065Z"
   },
   {
    "duration": 18,
    "start_time": "2022-07-18T05:57:28.826Z"
   },
   {
    "duration": 22,
    "start_time": "2022-07-18T05:57:41.423Z"
   },
   {
    "duration": 24,
    "start_time": "2022-07-18T06:00:15.522Z"
   },
   {
    "duration": 6,
    "start_time": "2022-07-18T06:01:32.453Z"
   },
   {
    "duration": 4883,
    "start_time": "2022-07-18T06:01:36.349Z"
   },
   {
    "duration": 5162,
    "start_time": "2022-07-18T06:01:45.794Z"
   },
   {
    "duration": 5128,
    "start_time": "2022-07-18T06:01:55.721Z"
   },
   {
    "duration": 57,
    "start_time": "2022-07-18T06:05:33.701Z"
   },
   {
    "duration": 5602,
    "start_time": "2022-07-18T06:05:56.786Z"
   },
   {
    "duration": 830,
    "start_time": "2022-07-18T06:06:06.638Z"
   },
   {
    "duration": 8838,
    "start_time": "2022-07-18T06:06:13.200Z"
   },
   {
    "duration": 778,
    "start_time": "2022-07-18T06:06:28.619Z"
   },
   {
    "duration": 407222,
    "start_time": "2022-07-18T06:08:50.309Z"
   },
   {
    "duration": 81,
    "start_time": "2022-07-18T06:26:24.480Z"
   },
   {
    "duration": 1390,
    "start_time": "2022-07-18T06:28:25.641Z"
   },
   {
    "duration": 773,
    "start_time": "2022-07-18T06:28:27.033Z"
   },
   {
    "duration": 36,
    "start_time": "2022-07-18T06:28:27.808Z"
   },
   {
    "duration": 21,
    "start_time": "2022-07-18T06:28:27.845Z"
   },
   {
    "duration": 22,
    "start_time": "2022-07-18T06:28:27.868Z"
   },
   {
    "duration": 40,
    "start_time": "2022-07-18T06:28:27.891Z"
   },
   {
    "duration": 12,
    "start_time": "2022-07-18T06:28:27.933Z"
   },
   {
    "duration": 24,
    "start_time": "2022-07-18T06:28:27.947Z"
   },
   {
    "duration": 4,
    "start_time": "2022-07-18T06:28:27.973Z"
   },
   {
    "duration": 10,
    "start_time": "2022-07-18T06:28:27.979Z"
   },
   {
    "duration": 6,
    "start_time": "2022-07-18T06:28:27.991Z"
   },
   {
    "duration": 25,
    "start_time": "2022-07-18T06:28:27.999Z"
   },
   {
    "duration": 359,
    "start_time": "2022-07-18T06:28:28.026Z"
   },
   {
    "duration": 5,
    "start_time": "2022-07-18T06:28:28.388Z"
   },
   {
    "duration": 32,
    "start_time": "2022-07-18T06:28:28.395Z"
   },
   {
    "duration": 39,
    "start_time": "2022-07-18T06:28:28.430Z"
   },
   {
    "duration": 130,
    "start_time": "2022-07-18T06:28:28.471Z"
   },
   {
    "duration": 17,
    "start_time": "2022-07-18T06:28:28.602Z"
   },
   {
    "duration": 560,
    "start_time": "2022-07-18T06:28:28.624Z"
   },
   {
    "duration": 705,
    "start_time": "2022-07-18T06:28:29.186Z"
   },
   {
    "duration": 604,
    "start_time": "2022-07-18T06:28:29.893Z"
   },
   {
    "duration": 558,
    "start_time": "2022-07-18T06:28:30.499Z"
   },
   {
    "duration": 16,
    "start_time": "2022-07-18T06:28:31.058Z"
   },
   {
    "duration": 458,
    "start_time": "2022-07-18T06:28:31.077Z"
   },
   {
    "duration": 11,
    "start_time": "2022-07-18T06:28:31.537Z"
   },
   {
    "duration": 22,
    "start_time": "2022-07-18T06:28:31.550Z"
   },
   {
    "duration": 227,
    "start_time": "2022-07-18T06:28:31.574Z"
   },
   {
    "duration": 238,
    "start_time": "2022-07-18T06:28:31.803Z"
   },
   {
    "duration": 121,
    "start_time": "2022-07-18T06:28:32.043Z"
   },
   {
    "duration": 6,
    "start_time": "2022-07-18T06:28:32.166Z"
   },
   {
    "duration": 16,
    "start_time": "2022-07-18T06:28:32.174Z"
   },
   {
    "duration": 3,
    "start_time": "2022-07-18T06:28:32.192Z"
   },
   {
    "duration": 228,
    "start_time": "2022-07-18T06:28:32.197Z"
   },
   {
    "duration": 245,
    "start_time": "2022-07-18T06:28:32.427Z"
   },
   {
    "duration": 127,
    "start_time": "2022-07-18T06:28:32.674Z"
   },
   {
    "duration": 5,
    "start_time": "2022-07-18T06:28:32.803Z"
   },
   {
    "duration": 24,
    "start_time": "2022-07-18T06:28:32.810Z"
   },
   {
    "duration": 4,
    "start_time": "2022-07-18T06:28:32.836Z"
   },
   {
    "duration": 206,
    "start_time": "2022-07-18T06:28:32.842Z"
   },
   {
    "duration": 378,
    "start_time": "2022-07-18T06:28:33.049Z"
   },
   {
    "duration": 131,
    "start_time": "2022-07-18T06:28:33.430Z"
   },
   {
    "duration": 7,
    "start_time": "2022-07-18T06:28:33.563Z"
   },
   {
    "duration": 16,
    "start_time": "2022-07-18T06:28:33.572Z"
   },
   {
    "duration": 6,
    "start_time": "2022-07-18T06:28:33.590Z"
   },
   {
    "duration": 9,
    "start_time": "2022-07-18T06:28:33.597Z"
   },
   {
    "duration": 8,
    "start_time": "2022-07-18T06:28:33.624Z"
   },
   {
    "duration": 10,
    "start_time": "2022-07-18T06:28:33.634Z"
   },
   {
    "duration": 14,
    "start_time": "2022-07-18T06:28:33.646Z"
   },
   {
    "duration": 12,
    "start_time": "2022-07-18T06:28:33.662Z"
   },
   {
    "duration": 7847,
    "start_time": "2022-07-18T06:28:33.676Z"
   },
   {
    "duration": 4918,
    "start_time": "2022-07-18T06:28:41.526Z"
   },
   {
    "duration": 820,
    "start_time": "2022-07-18T06:28:46.446Z"
   },
   {
    "duration": 410420,
    "start_time": "2022-07-18T06:28:47.269Z"
   },
   {
    "duration": 545159,
    "start_time": "2022-07-18T06:35:37.691Z"
   },
   {
    "duration": 1609,
    "start_time": "2022-07-18T17:57:43.111Z"
   },
   {
    "duration": 2775,
    "start_time": "2022-07-18T17:57:44.722Z"
   },
   {
    "duration": 23,
    "start_time": "2022-07-18T17:57:47.499Z"
   },
   {
    "duration": 20,
    "start_time": "2022-07-18T17:57:47.524Z"
   },
   {
    "duration": 18,
    "start_time": "2022-07-18T17:57:47.547Z"
   },
   {
    "duration": 42,
    "start_time": "2022-07-18T17:57:47.567Z"
   },
   {
    "duration": 12,
    "start_time": "2022-07-18T17:57:47.611Z"
   },
   {
    "duration": 16,
    "start_time": "2022-07-18T17:57:47.625Z"
   },
   {
    "duration": 4,
    "start_time": "2022-07-18T17:57:47.643Z"
   },
   {
    "duration": 6,
    "start_time": "2022-07-18T17:57:47.649Z"
   },
   {
    "duration": 7,
    "start_time": "2022-07-18T17:57:47.657Z"
   },
   {
    "duration": 37,
    "start_time": "2022-07-18T17:57:47.666Z"
   },
   {
    "duration": 323,
    "start_time": "2022-07-18T17:57:47.704Z"
   },
   {
    "duration": 6,
    "start_time": "2022-07-18T17:57:48.030Z"
   },
   {
    "duration": 35,
    "start_time": "2022-07-18T17:57:48.037Z"
   },
   {
    "duration": 38,
    "start_time": "2022-07-18T17:57:48.074Z"
   },
   {
    "duration": 97,
    "start_time": "2022-07-18T17:57:48.114Z"
   },
   {
    "duration": 16,
    "start_time": "2022-07-18T17:57:48.213Z"
   },
   {
    "duration": 643,
    "start_time": "2022-07-18T17:57:48.231Z"
   },
   {
    "duration": 662,
    "start_time": "2022-07-18T17:57:48.876Z"
   },
   {
    "duration": 610,
    "start_time": "2022-07-18T17:57:49.540Z"
   },
   {
    "duration": 527,
    "start_time": "2022-07-18T17:57:50.152Z"
   },
   {
    "duration": 31,
    "start_time": "2022-07-18T17:57:50.681Z"
   },
   {
    "duration": 453,
    "start_time": "2022-07-18T17:57:50.714Z"
   },
   {
    "duration": 12,
    "start_time": "2022-07-18T17:57:51.169Z"
   },
   {
    "duration": 2,
    "start_time": "2022-07-18T17:57:51.183Z"
   },
   {
    "duration": 225,
    "start_time": "2022-07-18T17:57:51.187Z"
   },
   {
    "duration": 256,
    "start_time": "2022-07-18T17:57:51.414Z"
   },
   {
    "duration": 114,
    "start_time": "2022-07-18T17:57:51.672Z"
   },
   {
    "duration": 18,
    "start_time": "2022-07-18T17:57:51.789Z"
   },
   {
    "duration": 12,
    "start_time": "2022-07-18T17:57:51.808Z"
   },
   {
    "duration": 3,
    "start_time": "2022-07-18T17:57:51.821Z"
   },
   {
    "duration": 199,
    "start_time": "2022-07-18T17:57:51.826Z"
   },
   {
    "duration": 256,
    "start_time": "2022-07-18T17:57:52.027Z"
   },
   {
    "duration": 235,
    "start_time": "2022-07-18T17:57:52.285Z"
   },
   {
    "duration": 5,
    "start_time": "2022-07-18T17:57:52.521Z"
   },
   {
    "duration": 11,
    "start_time": "2022-07-18T17:57:52.527Z"
   },
   {
    "duration": 3,
    "start_time": "2022-07-18T17:57:52.540Z"
   },
   {
    "duration": 214,
    "start_time": "2022-07-18T17:57:52.544Z"
   },
   {
    "duration": 264,
    "start_time": "2022-07-18T17:57:52.759Z"
   },
   {
    "duration": 130,
    "start_time": "2022-07-18T17:57:53.027Z"
   },
   {
    "duration": 5,
    "start_time": "2022-07-18T17:57:53.158Z"
   },
   {
    "duration": 13,
    "start_time": "2022-07-18T17:57:53.165Z"
   },
   {
    "duration": 11,
    "start_time": "2022-07-18T17:57:53.179Z"
   },
   {
    "duration": 21,
    "start_time": "2022-07-18T17:57:53.191Z"
   },
   {
    "duration": 11,
    "start_time": "2022-07-18T17:57:53.213Z"
   },
   {
    "duration": 12,
    "start_time": "2022-07-18T17:57:53.225Z"
   },
   {
    "duration": 15,
    "start_time": "2022-07-18T17:57:53.238Z"
   },
   {
    "duration": 14,
    "start_time": "2022-07-18T17:57:53.254Z"
   },
   {
    "duration": 4741,
    "start_time": "2022-07-18T17:57:53.269Z"
   },
   {
    "duration": 4956,
    "start_time": "2022-07-18T17:57:58.012Z"
   },
   {
    "duration": 792,
    "start_time": "2022-07-18T17:58:02.970Z"
   },
   {
    "duration": 388746,
    "start_time": "2022-07-18T17:58:03.764Z"
   },
   {
    "duration": 492117,
    "start_time": "2022-07-18T18:04:32.514Z"
   },
   {
    "duration": 157,
    "start_time": "2022-07-18T18:17:44.341Z"
   },
   {
    "duration": 4,
    "start_time": "2022-07-18T18:17:59.658Z"
   },
   {
    "duration": 68,
    "start_time": "2022-07-18T18:18:08.771Z"
   },
   {
    "duration": 8876,
    "start_time": "2022-07-18T18:18:48.002Z"
   },
   {
    "duration": 9121,
    "start_time": "2022-07-18T18:20:29.766Z"
   },
   {
    "duration": 8931,
    "start_time": "2022-07-18T18:20:45.624Z"
   },
   {
    "duration": 9016,
    "start_time": "2022-07-18T18:21:03.381Z"
   },
   {
    "duration": 9377,
    "start_time": "2022-07-18T18:21:24.410Z"
   },
   {
    "duration": 10332,
    "start_time": "2022-07-18T18:21:40.067Z"
   },
   {
    "duration": 11758,
    "start_time": "2022-07-18T18:21:55.859Z"
   },
   {
    "duration": 9230,
    "start_time": "2022-07-18T18:22:18.257Z"
   },
   {
    "duration": 8979,
    "start_time": "2022-07-18T18:27:11.116Z"
   },
   {
    "duration": 5503,
    "start_time": "2022-07-18T18:27:49.493Z"
   },
   {
    "duration": 313920,
    "start_time": "2022-07-18T18:28:16.469Z"
   },
   {
    "duration": 4916,
    "start_time": "2022-07-18T18:33:48.126Z"
   },
   {
    "duration": 474289,
    "start_time": "2022-07-18T18:34:16.043Z"
   },
   {
    "duration": 378007,
    "start_time": "2022-07-18T18:42:34.307Z"
   },
   {
    "duration": 49,
    "start_time": "2022-07-18T18:48:52.316Z"
   },
   {
    "duration": 0,
    "start_time": "2022-07-18T18:48:52.366Z"
   },
   {
    "duration": 27,
    "start_time": "2022-07-18T19:16:24.886Z"
   },
   {
    "duration": 3,
    "start_time": "2022-07-18T19:22:11.796Z"
   },
   {
    "duration": 10,
    "start_time": "2022-07-18T19:22:16.190Z"
   },
   {
    "duration": 10,
    "start_time": "2022-07-18T19:23:29.210Z"
   },
   {
    "duration": 25,
    "start_time": "2022-07-18T19:23:36.626Z"
   },
   {
    "duration": 3,
    "start_time": "2022-07-18T19:24:00.295Z"
   },
   {
    "duration": 11,
    "start_time": "2022-07-18T19:24:04.210Z"
   },
   {
    "duration": 28,
    "start_time": "2022-07-18T19:24:11.335Z"
   },
   {
    "duration": 15,
    "start_time": "2022-07-18T19:24:51.661Z"
   },
   {
    "duration": 25,
    "start_time": "2022-07-18T19:25:40.955Z"
   },
   {
    "duration": 9,
    "start_time": "2022-07-18T19:29:20.146Z"
   },
   {
    "duration": 15,
    "start_time": "2022-07-18T19:29:26.549Z"
   },
   {
    "duration": 17,
    "start_time": "2022-07-18T19:30:01.454Z"
   },
   {
    "duration": 52,
    "start_time": "2022-07-18T19:30:29.515Z"
   },
   {
    "duration": 23,
    "start_time": "2022-07-18T19:30:52.717Z"
   },
   {
    "duration": 10,
    "start_time": "2022-07-18T19:35:02.643Z"
   },
   {
    "duration": 17,
    "start_time": "2022-07-18T19:35:33.161Z"
   },
   {
    "duration": 5,
    "start_time": "2022-07-18T19:36:11.230Z"
   },
   {
    "duration": 0,
    "start_time": "2022-07-18T19:42:06.333Z"
   },
   {
    "duration": 64408,
    "start_time": "2022-07-18T19:42:15.232Z"
   },
   {
    "duration": 0,
    "start_time": "2022-07-18T19:43:19.641Z"
   },
   {
    "duration": 0,
    "start_time": "2022-07-18T19:43:19.642Z"
   },
   {
    "duration": 6,
    "start_time": "2022-07-18T19:44:31.620Z"
   },
   {
    "duration": 33,
    "start_time": "2022-07-18T19:44:55.744Z"
   },
   {
    "duration": 9,
    "start_time": "2022-07-18T19:45:07.040Z"
   },
   {
    "duration": 5,
    "start_time": "2022-07-18T19:45:10.826Z"
   },
   {
    "duration": 25,
    "start_time": "2022-07-18T19:45:21.838Z"
   },
   {
    "duration": 5,
    "start_time": "2022-07-18T19:45:31.856Z"
   },
   {
    "duration": 63170,
    "start_time": "2022-07-18T19:46:27.453Z"
   },
   {
    "duration": 27,
    "start_time": "2022-07-18T19:49:41.160Z"
   },
   {
    "duration": 39,
    "start_time": "2022-07-18T19:49:52.649Z"
   },
   {
    "duration": 38,
    "start_time": "2022-07-18T19:50:31.576Z"
   },
   {
    "duration": 11,
    "start_time": "2022-07-18T19:51:16.384Z"
   },
   {
    "duration": 14,
    "start_time": "2022-07-18T19:51:29.839Z"
   },
   {
    "duration": 20,
    "start_time": "2022-07-18T19:51:49.959Z"
   },
   {
    "duration": 1423,
    "start_time": "2022-07-18T19:52:03.202Z"
   },
   {
    "duration": 815,
    "start_time": "2022-07-18T19:52:04.627Z"
   },
   {
    "duration": 39,
    "start_time": "2022-07-18T19:52:05.444Z"
   },
   {
    "duration": 52,
    "start_time": "2022-07-18T19:52:05.486Z"
   },
   {
    "duration": 49,
    "start_time": "2022-07-18T19:52:05.540Z"
   },
   {
    "duration": 36,
    "start_time": "2022-07-18T19:52:05.592Z"
   },
   {
    "duration": 40,
    "start_time": "2022-07-18T19:52:05.629Z"
   },
   {
    "duration": 26,
    "start_time": "2022-07-18T19:52:05.672Z"
   },
   {
    "duration": 5,
    "start_time": "2022-07-18T19:52:05.701Z"
   },
   {
    "duration": 4,
    "start_time": "2022-07-18T19:52:05.709Z"
   },
   {
    "duration": 17,
    "start_time": "2022-07-18T19:52:05.715Z"
   },
   {
    "duration": 10,
    "start_time": "2022-07-18T19:52:05.735Z"
   },
   {
    "duration": 374,
    "start_time": "2022-07-18T19:52:05.747Z"
   },
   {
    "duration": 7,
    "start_time": "2022-07-18T19:52:06.123Z"
   },
   {
    "duration": 18,
    "start_time": "2022-07-18T19:52:06.132Z"
   },
   {
    "duration": 58,
    "start_time": "2022-07-18T19:52:06.153Z"
   },
   {
    "duration": 105,
    "start_time": "2022-07-18T19:52:06.212Z"
   },
   {
    "duration": 22,
    "start_time": "2022-07-18T19:52:06.319Z"
   },
   {
    "duration": 679,
    "start_time": "2022-07-18T19:52:06.343Z"
   },
   {
    "duration": 796,
    "start_time": "2022-07-18T19:52:07.024Z"
   },
   {
    "duration": 685,
    "start_time": "2022-07-18T19:52:07.822Z"
   },
   {
    "duration": 806,
    "start_time": "2022-07-18T19:52:08.510Z"
   },
   {
    "duration": 13,
    "start_time": "2022-07-18T19:52:09.319Z"
   },
   {
    "duration": 489,
    "start_time": "2022-07-18T19:52:09.333Z"
   },
   {
    "duration": 15,
    "start_time": "2022-07-18T19:52:09.824Z"
   },
   {
    "duration": 4,
    "start_time": "2022-07-18T19:52:09.841Z"
   },
   {
    "duration": 285,
    "start_time": "2022-07-18T19:52:09.847Z"
   },
   {
    "duration": 267,
    "start_time": "2022-07-18T19:52:10.137Z"
   },
   {
    "duration": 121,
    "start_time": "2022-07-18T19:52:10.413Z"
   },
   {
    "duration": 7,
    "start_time": "2022-07-18T19:52:10.536Z"
   },
   {
    "duration": 14,
    "start_time": "2022-07-18T19:52:10.544Z"
   },
   {
    "duration": 3,
    "start_time": "2022-07-18T19:52:10.559Z"
   },
   {
    "duration": 228,
    "start_time": "2022-07-18T19:52:10.564Z"
   },
   {
    "duration": 319,
    "start_time": "2022-07-18T19:52:10.794Z"
   },
   {
    "duration": 128,
    "start_time": "2022-07-18T19:52:11.119Z"
   },
   {
    "duration": 5,
    "start_time": "2022-07-18T19:52:11.249Z"
   },
   {
    "duration": 12,
    "start_time": "2022-07-18T19:52:11.256Z"
   },
   {
    "duration": 3,
    "start_time": "2022-07-18T19:52:11.271Z"
   },
   {
    "duration": 218,
    "start_time": "2022-07-18T19:52:11.276Z"
   },
   {
    "duration": 420,
    "start_time": "2022-07-18T19:52:11.496Z"
   },
   {
    "duration": 143,
    "start_time": "2022-07-18T19:52:11.917Z"
   },
   {
    "duration": 6,
    "start_time": "2022-07-18T19:52:12.062Z"
   },
   {
    "duration": 17,
    "start_time": "2022-07-18T19:52:12.070Z"
   },
   {
    "duration": 21,
    "start_time": "2022-07-18T19:52:12.088Z"
   },
   {
    "duration": 17,
    "start_time": "2022-07-18T19:52:12.112Z"
   },
   {
    "duration": 8,
    "start_time": "2022-07-18T19:52:12.130Z"
   },
   {
    "duration": 6,
    "start_time": "2022-07-18T19:52:12.140Z"
   },
   {
    "duration": 13,
    "start_time": "2022-07-18T19:52:12.148Z"
   },
   {
    "duration": 10,
    "start_time": "2022-07-18T19:52:12.163Z"
   },
   {
    "duration": 4742,
    "start_time": "2022-07-18T19:52:12.176Z"
   },
   {
    "duration": 6245,
    "start_time": "2022-07-18T19:52:16.926Z"
   },
   {
    "duration": 879,
    "start_time": "2022-07-18T19:52:23.173Z"
   },
   {
    "duration": 1401,
    "start_time": "2022-07-18T19:55:41.825Z"
   },
   {
    "duration": 740,
    "start_time": "2022-07-18T19:55:43.228Z"
   },
   {
    "duration": 38,
    "start_time": "2022-07-18T19:55:43.971Z"
   },
   {
    "duration": 36,
    "start_time": "2022-07-18T19:55:44.017Z"
   },
   {
    "duration": 24,
    "start_time": "2022-07-18T19:55:44.055Z"
   },
   {
    "duration": 39,
    "start_time": "2022-07-18T19:55:44.081Z"
   },
   {
    "duration": 15,
    "start_time": "2022-07-18T19:55:44.122Z"
   },
   {
    "duration": 17,
    "start_time": "2022-07-18T19:55:44.138Z"
   },
   {
    "duration": 4,
    "start_time": "2022-07-18T19:55:44.157Z"
   },
   {
    "duration": 7,
    "start_time": "2022-07-18T19:55:44.162Z"
   },
   {
    "duration": 44,
    "start_time": "2022-07-18T19:55:44.170Z"
   },
   {
    "duration": 4,
    "start_time": "2022-07-18T19:55:44.219Z"
   },
   {
    "duration": 366,
    "start_time": "2022-07-18T19:55:44.225Z"
   },
   {
    "duration": 16,
    "start_time": "2022-07-18T19:55:44.594Z"
   },
   {
    "duration": 20,
    "start_time": "2022-07-18T19:55:44.618Z"
   },
   {
    "duration": 67,
    "start_time": "2022-07-18T19:55:44.641Z"
   },
   {
    "duration": 116,
    "start_time": "2022-07-18T19:55:44.709Z"
   },
   {
    "duration": 57,
    "start_time": "2022-07-18T19:55:44.829Z"
   },
   {
    "duration": 798,
    "start_time": "2022-07-18T19:55:44.891Z"
   },
   {
    "duration": 773,
    "start_time": "2022-07-18T19:55:45.691Z"
   },
   {
    "duration": 625,
    "start_time": "2022-07-18T19:55:46.465Z"
   },
   {
    "duration": 603,
    "start_time": "2022-07-18T19:55:47.092Z"
   },
   {
    "duration": 28,
    "start_time": "2022-07-18T19:55:47.697Z"
   },
   {
    "duration": 519,
    "start_time": "2022-07-18T19:55:47.727Z"
   },
   {
    "duration": 12,
    "start_time": "2022-07-18T19:55:48.247Z"
   },
   {
    "duration": 2,
    "start_time": "2022-07-18T19:55:48.261Z"
   },
   {
    "duration": 256,
    "start_time": "2022-07-18T19:55:48.265Z"
   },
   {
    "duration": 323,
    "start_time": "2022-07-18T19:55:48.522Z"
   },
   {
    "duration": 134,
    "start_time": "2022-07-18T19:55:48.846Z"
   },
   {
    "duration": 7,
    "start_time": "2022-07-18T19:55:48.982Z"
   },
   {
    "duration": 28,
    "start_time": "2022-07-18T19:55:48.991Z"
   },
   {
    "duration": 20,
    "start_time": "2022-07-18T19:55:49.022Z"
   },
   {
    "duration": 224,
    "start_time": "2022-07-18T19:55:49.044Z"
   },
   {
    "duration": 291,
    "start_time": "2022-07-18T19:55:49.270Z"
   },
   {
    "duration": 157,
    "start_time": "2022-07-18T19:55:49.562Z"
   },
   {
    "duration": 11,
    "start_time": "2022-07-18T19:55:49.721Z"
   },
   {
    "duration": 40,
    "start_time": "2022-07-18T19:55:49.733Z"
   },
   {
    "duration": 20,
    "start_time": "2022-07-18T19:55:49.776Z"
   },
   {
    "duration": 256,
    "start_time": "2022-07-18T19:55:49.798Z"
   },
   {
    "duration": 403,
    "start_time": "2022-07-18T19:55:50.055Z"
   },
   {
    "duration": 152,
    "start_time": "2022-07-18T19:55:50.463Z"
   },
   {
    "duration": 5,
    "start_time": "2022-07-18T19:55:50.617Z"
   },
   {
    "duration": 11,
    "start_time": "2022-07-18T19:55:50.624Z"
   },
   {
    "duration": 5,
    "start_time": "2022-07-18T19:55:50.637Z"
   },
   {
    "duration": 6,
    "start_time": "2022-07-18T19:55:50.644Z"
   },
   {
    "duration": 8,
    "start_time": "2022-07-18T19:55:50.651Z"
   },
   {
    "duration": 6,
    "start_time": "2022-07-18T19:55:50.660Z"
   },
   {
    "duration": 9,
    "start_time": "2022-07-18T19:55:50.668Z"
   },
   {
    "duration": 29,
    "start_time": "2022-07-18T19:55:50.678Z"
   },
   {
    "duration": 4297,
    "start_time": "2022-07-18T19:55:50.709Z"
   },
   {
    "duration": 6009,
    "start_time": "2022-07-18T19:55:55.010Z"
   },
   {
    "duration": 813,
    "start_time": "2022-07-18T19:56:01.024Z"
   },
   {
    "duration": 1480,
    "start_time": "2022-07-18T19:56:32.618Z"
   },
   {
    "duration": 892,
    "start_time": "2022-07-18T19:56:34.101Z"
   },
   {
    "duration": 48,
    "start_time": "2022-07-18T19:56:34.995Z"
   },
   {
    "duration": 35,
    "start_time": "2022-07-18T19:56:35.045Z"
   },
   {
    "duration": 86,
    "start_time": "2022-07-18T19:56:35.083Z"
   },
   {
    "duration": 30,
    "start_time": "2022-07-18T19:56:35.179Z"
   },
   {
    "duration": 56,
    "start_time": "2022-07-18T19:56:35.211Z"
   },
   {
    "duration": 58,
    "start_time": "2022-07-18T19:56:35.269Z"
   },
   {
    "duration": 5,
    "start_time": "2022-07-18T19:56:35.330Z"
   },
   {
    "duration": 32,
    "start_time": "2022-07-18T19:56:35.337Z"
   },
   {
    "duration": 25,
    "start_time": "2022-07-18T19:56:35.371Z"
   },
   {
    "duration": 53,
    "start_time": "2022-07-18T19:56:35.398Z"
   },
   {
    "duration": 536,
    "start_time": "2022-07-18T19:56:35.455Z"
   },
   {
    "duration": 10,
    "start_time": "2022-07-18T19:56:35.994Z"
   },
   {
    "duration": 45,
    "start_time": "2022-07-18T19:56:36.006Z"
   },
   {
    "duration": 54,
    "start_time": "2022-07-18T19:56:36.053Z"
   },
   {
    "duration": 138,
    "start_time": "2022-07-18T19:56:36.108Z"
   },
   {
    "duration": 18,
    "start_time": "2022-07-18T19:56:36.248Z"
   },
   {
    "duration": 784,
    "start_time": "2022-07-18T19:56:36.268Z"
   },
   {
    "duration": 837,
    "start_time": "2022-07-18T19:56:37.056Z"
   },
   {
    "duration": 768,
    "start_time": "2022-07-18T19:56:37.896Z"
   },
   {
    "duration": 727,
    "start_time": "2022-07-18T19:56:38.666Z"
   },
   {
    "duration": 34,
    "start_time": "2022-07-18T19:56:39.395Z"
   },
   {
    "duration": 601,
    "start_time": "2022-07-18T19:56:39.431Z"
   },
   {
    "duration": 15,
    "start_time": "2022-07-18T19:56:40.035Z"
   },
   {
    "duration": 5,
    "start_time": "2022-07-18T19:56:40.052Z"
   },
   {
    "duration": 256,
    "start_time": "2022-07-18T19:56:40.059Z"
   },
   {
    "duration": 291,
    "start_time": "2022-07-18T19:56:40.323Z"
   },
   {
    "duration": 123,
    "start_time": "2022-07-18T19:56:40.616Z"
   },
   {
    "duration": 5,
    "start_time": "2022-07-18T19:56:40.741Z"
   },
   {
    "duration": 17,
    "start_time": "2022-07-18T19:56:40.748Z"
   },
   {
    "duration": 3,
    "start_time": "2022-07-18T19:56:40.767Z"
   },
   {
    "duration": 224,
    "start_time": "2022-07-18T19:56:40.772Z"
   },
   {
    "duration": 260,
    "start_time": "2022-07-18T19:56:40.997Z"
   },
   {
    "duration": 185,
    "start_time": "2022-07-18T19:56:41.259Z"
   },
   {
    "duration": 6,
    "start_time": "2022-07-18T19:56:41.446Z"
   },
   {
    "duration": 16,
    "start_time": "2022-07-18T19:56:41.454Z"
   },
   {
    "duration": 9,
    "start_time": "2022-07-18T19:56:41.472Z"
   },
   {
    "duration": 274,
    "start_time": "2022-07-18T19:56:41.484Z"
   },
   {
    "duration": 465,
    "start_time": "2022-07-18T19:56:41.760Z"
   },
   {
    "duration": 139,
    "start_time": "2022-07-18T19:56:42.232Z"
   },
   {
    "duration": 4,
    "start_time": "2022-07-18T19:56:42.373Z"
   },
   {
    "duration": 29,
    "start_time": "2022-07-18T19:56:42.379Z"
   },
   {
    "duration": 11,
    "start_time": "2022-07-18T19:56:42.415Z"
   },
   {
    "duration": 8,
    "start_time": "2022-07-18T19:56:42.433Z"
   },
   {
    "duration": 5,
    "start_time": "2022-07-18T19:56:42.444Z"
   },
   {
    "duration": 10,
    "start_time": "2022-07-18T19:56:42.450Z"
   },
   {
    "duration": 9,
    "start_time": "2022-07-18T19:56:42.463Z"
   },
   {
    "duration": 8,
    "start_time": "2022-07-18T19:56:42.474Z"
   },
   {
    "duration": 6643,
    "start_time": "2022-07-18T19:56:42.483Z"
   },
   {
    "duration": 6180,
    "start_time": "2022-07-18T19:56:49.135Z"
   },
   {
    "duration": 762,
    "start_time": "2022-07-18T19:56:55.320Z"
   },
   {
    "duration": 2,
    "start_time": "2022-07-18T19:56:56.084Z"
   },
   {
    "duration": 16,
    "start_time": "2022-07-18T19:56:56.088Z"
   },
   {
    "duration": 19,
    "start_time": "2022-07-18T19:56:56.106Z"
   },
   {
    "duration": 17,
    "start_time": "2022-07-18T19:56:56.127Z"
   },
   {
    "duration": 148,
    "start_time": "2022-07-18T19:56:56.146Z"
   },
   {
    "duration": 0,
    "start_time": "2022-07-18T19:56:56.296Z"
   },
   {
    "duration": 0,
    "start_time": "2022-07-18T19:56:56.297Z"
   },
   {
    "duration": 0,
    "start_time": "2022-07-18T19:56:56.299Z"
   },
   {
    "duration": 0,
    "start_time": "2022-07-18T19:56:56.301Z"
   },
   {
    "duration": 0,
    "start_time": "2022-07-18T19:56:56.302Z"
   },
   {
    "duration": 9,
    "start_time": "2022-07-18T19:57:12.190Z"
   },
   {
    "duration": 31,
    "start_time": "2022-07-18T19:57:19.145Z"
   },
   {
    "duration": 7,
    "start_time": "2022-07-18T19:57:20.082Z"
   },
   {
    "duration": 14,
    "start_time": "2022-07-18T19:57:21.862Z"
   },
   {
    "duration": 16,
    "start_time": "2022-07-18T19:57:50.272Z"
   },
   {
    "duration": 11,
    "start_time": "2022-07-18T19:59:15.043Z"
   },
   {
    "duration": 28,
    "start_time": "2022-07-18T20:00:16.041Z"
   },
   {
    "duration": 11,
    "start_time": "2022-07-18T20:00:28.517Z"
   },
   {
    "duration": 10,
    "start_time": "2022-07-18T20:01:13.291Z"
   },
   {
    "duration": 1492,
    "start_time": "2022-07-18T20:04:43.105Z"
   },
   {
    "duration": 711,
    "start_time": "2022-07-18T20:04:44.599Z"
   },
   {
    "duration": 32,
    "start_time": "2022-07-18T20:04:45.318Z"
   },
   {
    "duration": 56,
    "start_time": "2022-07-18T20:04:45.353Z"
   },
   {
    "duration": 47,
    "start_time": "2022-07-18T20:04:45.415Z"
   },
   {
    "duration": 73,
    "start_time": "2022-07-18T20:04:45.464Z"
   },
   {
    "duration": 52,
    "start_time": "2022-07-18T20:04:45.540Z"
   },
   {
    "duration": 50,
    "start_time": "2022-07-18T20:04:45.594Z"
   },
   {
    "duration": 21,
    "start_time": "2022-07-18T20:04:45.647Z"
   },
   {
    "duration": 7,
    "start_time": "2022-07-18T20:04:45.671Z"
   },
   {
    "duration": 5,
    "start_time": "2022-07-18T20:04:45.679Z"
   },
   {
    "duration": 5,
    "start_time": "2022-07-18T20:04:45.686Z"
   },
   {
    "duration": 343,
    "start_time": "2022-07-18T20:04:45.692Z"
   },
   {
    "duration": 5,
    "start_time": "2022-07-18T20:04:46.036Z"
   },
   {
    "duration": 29,
    "start_time": "2022-07-18T20:04:46.043Z"
   },
   {
    "duration": 41,
    "start_time": "2022-07-18T20:04:46.074Z"
   },
   {
    "duration": 102,
    "start_time": "2022-07-18T20:04:46.117Z"
   },
   {
    "duration": 17,
    "start_time": "2022-07-18T20:04:46.221Z"
   },
   {
    "duration": 631,
    "start_time": "2022-07-18T20:04:46.240Z"
   },
   {
    "duration": 775,
    "start_time": "2022-07-18T20:04:46.872Z"
   },
   {
    "duration": 643,
    "start_time": "2022-07-18T20:04:47.649Z"
   },
   {
    "duration": 548,
    "start_time": "2022-07-18T20:04:48.293Z"
   },
   {
    "duration": 12,
    "start_time": "2022-07-18T20:04:48.842Z"
   },
   {
    "duration": 470,
    "start_time": "2022-07-18T20:04:48.856Z"
   },
   {
    "duration": 13,
    "start_time": "2022-07-18T20:04:49.327Z"
   },
   {
    "duration": 4,
    "start_time": "2022-07-18T20:04:49.341Z"
   },
   {
    "duration": 230,
    "start_time": "2022-07-18T20:04:49.347Z"
   },
   {
    "duration": 255,
    "start_time": "2022-07-18T20:04:49.581Z"
   },
   {
    "duration": 147,
    "start_time": "2022-07-18T20:04:49.837Z"
   },
   {
    "duration": 20,
    "start_time": "2022-07-18T20:04:49.986Z"
   },
   {
    "duration": 14,
    "start_time": "2022-07-18T20:04:50.009Z"
   },
   {
    "duration": 3,
    "start_time": "2022-07-18T20:04:50.025Z"
   },
   {
    "duration": 201,
    "start_time": "2022-07-18T20:04:50.030Z"
   },
   {
    "duration": 252,
    "start_time": "2022-07-18T20:04:50.232Z"
   },
   {
    "duration": 137,
    "start_time": "2022-07-18T20:04:50.486Z"
   },
   {
    "duration": 5,
    "start_time": "2022-07-18T20:04:50.625Z"
   },
   {
    "duration": 11,
    "start_time": "2022-07-18T20:04:50.632Z"
   },
   {
    "duration": 3,
    "start_time": "2022-07-18T20:04:50.645Z"
   },
   {
    "duration": 209,
    "start_time": "2022-07-18T20:04:50.650Z"
   },
   {
    "duration": 436,
    "start_time": "2022-07-18T20:04:50.861Z"
   },
   {
    "duration": 159,
    "start_time": "2022-07-18T20:04:51.298Z"
   },
   {
    "duration": 4,
    "start_time": "2022-07-18T20:04:51.459Z"
   },
   {
    "duration": 13,
    "start_time": "2022-07-18T20:04:51.465Z"
   },
   {
    "duration": 18,
    "start_time": "2022-07-18T20:04:51.480Z"
   },
   {
    "duration": 41,
    "start_time": "2022-07-18T20:04:51.499Z"
   },
   {
    "duration": 26,
    "start_time": "2022-07-18T20:04:51.542Z"
   },
   {
    "duration": 13,
    "start_time": "2022-07-18T20:04:51.569Z"
   },
   {
    "duration": 27,
    "start_time": "2022-07-18T20:04:51.584Z"
   },
   {
    "duration": 24,
    "start_time": "2022-07-18T20:04:51.614Z"
   },
   {
    "duration": 23,
    "start_time": "2022-07-18T20:04:51.640Z"
   },
   {
    "duration": 116,
    "start_time": "2022-07-18T20:04:51.664Z"
   },
   {
    "duration": 0,
    "start_time": "2022-07-18T20:04:51.781Z"
   },
   {
    "duration": 0,
    "start_time": "2022-07-18T20:04:51.782Z"
   },
   {
    "duration": 0,
    "start_time": "2022-07-18T20:04:51.784Z"
   },
   {
    "duration": 0,
    "start_time": "2022-07-18T20:04:51.785Z"
   },
   {
    "duration": 0,
    "start_time": "2022-07-18T20:04:51.786Z"
   },
   {
    "duration": 0,
    "start_time": "2022-07-18T20:04:51.787Z"
   },
   {
    "duration": 0,
    "start_time": "2022-07-18T20:04:51.788Z"
   },
   {
    "duration": 0,
    "start_time": "2022-07-18T20:04:51.789Z"
   },
   {
    "duration": 0,
    "start_time": "2022-07-18T20:04:51.790Z"
   },
   {
    "duration": 0,
    "start_time": "2022-07-18T20:04:51.791Z"
   },
   {
    "duration": 0,
    "start_time": "2022-07-18T20:04:51.812Z"
   },
   {
    "duration": 0,
    "start_time": "2022-07-18T20:04:51.814Z"
   },
   {
    "duration": 0,
    "start_time": "2022-07-18T20:04:51.816Z"
   },
   {
    "duration": 1,
    "start_time": "2022-07-18T20:04:51.817Z"
   },
   {
    "duration": 3,
    "start_time": "2022-07-18T20:05:24.887Z"
   },
   {
    "duration": 5372,
    "start_time": "2022-07-18T20:05:25.744Z"
   },
   {
    "duration": 6442,
    "start_time": "2022-07-18T20:05:31.127Z"
   },
   {
    "duration": 690,
    "start_time": "2022-07-18T20:05:37.570Z"
   },
   {
    "duration": 3,
    "start_time": "2022-07-18T20:05:38.263Z"
   },
   {
    "duration": 7,
    "start_time": "2022-07-18T20:05:38.268Z"
   },
   {
    "duration": 6,
    "start_time": "2022-07-18T20:05:38.277Z"
   },
   {
    "duration": 7,
    "start_time": "2022-07-18T20:05:38.285Z"
   },
   {
    "duration": 18,
    "start_time": "2022-07-18T20:05:38.304Z"
   },
   {
    "duration": 0,
    "start_time": "2022-07-18T20:05:38.325Z"
   },
   {
    "duration": 0,
    "start_time": "2022-07-18T20:05:38.327Z"
   },
   {
    "duration": 0,
    "start_time": "2022-07-18T20:05:38.328Z"
   },
   {
    "duration": 11,
    "start_time": "2022-07-18T20:05:46.658Z"
   },
   {
    "duration": 17,
    "start_time": "2022-07-18T20:05:53.632Z"
   },
   {
    "duration": 19,
    "start_time": "2022-07-18T20:06:00.166Z"
   },
   {
    "duration": 6,
    "start_time": "2022-07-18T20:06:00.985Z"
   },
   {
    "duration": 14,
    "start_time": "2022-07-18T20:06:01.979Z"
   },
   {
    "duration": 19,
    "start_time": "2022-07-18T20:06:02.529Z"
   },
   {
    "duration": 16,
    "start_time": "2022-07-18T20:06:23.172Z"
   },
   {
    "duration": 1296,
    "start_time": "2022-07-18T20:09:18.153Z"
   },
   {
    "duration": 705,
    "start_time": "2022-07-18T20:09:19.451Z"
   },
   {
    "duration": 23,
    "start_time": "2022-07-18T20:09:20.158Z"
   },
   {
    "duration": 30,
    "start_time": "2022-07-18T20:09:20.183Z"
   },
   {
    "duration": 25,
    "start_time": "2022-07-18T20:09:20.216Z"
   },
   {
    "duration": 21,
    "start_time": "2022-07-18T20:09:20.242Z"
   },
   {
    "duration": 12,
    "start_time": "2022-07-18T20:09:20.265Z"
   },
   {
    "duration": 40,
    "start_time": "2022-07-18T20:09:20.279Z"
   },
   {
    "duration": 4,
    "start_time": "2022-07-18T20:09:20.321Z"
   },
   {
    "duration": 8,
    "start_time": "2022-07-18T20:09:20.328Z"
   },
   {
    "duration": 7,
    "start_time": "2022-07-18T20:09:20.337Z"
   },
   {
    "duration": 11,
    "start_time": "2022-07-18T20:09:20.345Z"
   },
   {
    "duration": 354,
    "start_time": "2022-07-18T20:09:20.357Z"
   },
   {
    "duration": 6,
    "start_time": "2022-07-18T20:09:20.712Z"
   },
   {
    "duration": 18,
    "start_time": "2022-07-18T20:09:20.719Z"
   },
   {
    "duration": 42,
    "start_time": "2022-07-18T20:09:20.739Z"
   },
   {
    "duration": 106,
    "start_time": "2022-07-18T20:09:20.783Z"
   },
   {
    "duration": 26,
    "start_time": "2022-07-18T20:09:20.891Z"
   },
   {
    "duration": 626,
    "start_time": "2022-07-18T20:09:20.919Z"
   },
   {
    "duration": 745,
    "start_time": "2022-07-18T20:09:21.547Z"
   },
   {
    "duration": 659,
    "start_time": "2022-07-18T20:09:22.294Z"
   },
   {
    "duration": 614,
    "start_time": "2022-07-18T20:09:22.954Z"
   },
   {
    "duration": 11,
    "start_time": "2022-07-18T20:09:23.570Z"
   },
   {
    "duration": 475,
    "start_time": "2022-07-18T20:09:23.582Z"
   },
   {
    "duration": 12,
    "start_time": "2022-07-18T20:09:24.059Z"
   },
   {
    "duration": 3,
    "start_time": "2022-07-18T20:09:24.072Z"
   },
   {
    "duration": 238,
    "start_time": "2022-07-18T20:09:24.077Z"
   },
   {
    "duration": 233,
    "start_time": "2022-07-18T20:09:24.318Z"
   },
   {
    "duration": 117,
    "start_time": "2022-07-18T20:09:24.552Z"
   },
   {
    "duration": 5,
    "start_time": "2022-07-18T20:09:24.671Z"
   },
   {
    "duration": 14,
    "start_time": "2022-07-18T20:09:24.677Z"
   },
   {
    "duration": 16,
    "start_time": "2022-07-18T20:09:24.701Z"
   },
   {
    "duration": 204,
    "start_time": "2022-07-18T20:09:24.718Z"
   },
   {
    "duration": 236,
    "start_time": "2022-07-18T20:09:24.923Z"
   },
   {
    "duration": 176,
    "start_time": "2022-07-18T20:09:25.164Z"
   },
   {
    "duration": 6,
    "start_time": "2022-07-18T20:09:25.342Z"
   },
   {
    "duration": 25,
    "start_time": "2022-07-18T20:09:25.350Z"
   },
   {
    "duration": 5,
    "start_time": "2022-07-18T20:09:25.377Z"
   },
   {
    "duration": 220,
    "start_time": "2022-07-18T20:09:25.383Z"
   },
   {
    "duration": 384,
    "start_time": "2022-07-18T20:09:25.606Z"
   },
   {
    "duration": 133,
    "start_time": "2022-07-18T20:09:25.992Z"
   },
   {
    "duration": 6,
    "start_time": "2022-07-18T20:09:26.127Z"
   },
   {
    "duration": 14,
    "start_time": "2022-07-18T20:09:26.134Z"
   },
   {
    "duration": 6,
    "start_time": "2022-07-18T20:09:26.150Z"
   },
   {
    "duration": 6,
    "start_time": "2022-07-18T20:09:26.157Z"
   },
   {
    "duration": 5,
    "start_time": "2022-07-18T20:09:26.165Z"
   },
   {
    "duration": 5,
    "start_time": "2022-07-18T20:09:26.172Z"
   },
   {
    "duration": 7,
    "start_time": "2022-07-18T20:09:26.201Z"
   },
   {
    "duration": 16,
    "start_time": "2022-07-18T20:09:26.212Z"
   },
   {
    "duration": 17,
    "start_time": "2022-07-18T20:09:26.229Z"
   },
   {
    "duration": 105,
    "start_time": "2022-07-18T20:09:26.248Z"
   },
   {
    "duration": 0,
    "start_time": "2022-07-18T20:09:26.354Z"
   },
   {
    "duration": 0,
    "start_time": "2022-07-18T20:09:26.356Z"
   },
   {
    "duration": 0,
    "start_time": "2022-07-18T20:09:26.357Z"
   },
   {
    "duration": 0,
    "start_time": "2022-07-18T20:09:26.358Z"
   },
   {
    "duration": 0,
    "start_time": "2022-07-18T20:09:26.359Z"
   },
   {
    "duration": 0,
    "start_time": "2022-07-18T20:09:26.360Z"
   },
   {
    "duration": 0,
    "start_time": "2022-07-18T20:09:26.362Z"
   },
   {
    "duration": 0,
    "start_time": "2022-07-18T20:09:26.363Z"
   },
   {
    "duration": 0,
    "start_time": "2022-07-18T20:09:26.364Z"
   },
   {
    "duration": 0,
    "start_time": "2022-07-18T20:09:26.366Z"
   },
   {
    "duration": 0,
    "start_time": "2022-07-18T20:09:26.366Z"
   },
   {
    "duration": 0,
    "start_time": "2022-07-18T20:09:26.368Z"
   },
   {
    "duration": 0,
    "start_time": "2022-07-18T20:09:26.369Z"
   },
   {
    "duration": 0,
    "start_time": "2022-07-18T20:09:26.403Z"
   },
   {
    "duration": 3551,
    "start_time": "2022-07-18T20:09:36.454Z"
   },
   {
    "duration": 5368,
    "start_time": "2022-07-18T20:09:44.872Z"
   },
   {
    "duration": 673,
    "start_time": "2022-07-18T20:09:50.242Z"
   },
   {
    "duration": 3,
    "start_time": "2022-07-18T20:09:56.197Z"
   },
   {
    "duration": 2,
    "start_time": "2022-07-18T20:09:56.393Z"
   },
   {
    "duration": 2,
    "start_time": "2022-07-18T20:09:57.865Z"
   },
   {
    "duration": 15,
    "start_time": "2022-07-18T20:09:58.098Z"
   },
   {
    "duration": 15,
    "start_time": "2022-07-18T20:09:59.446Z"
   },
   {
    "duration": 14,
    "start_time": "2022-07-18T20:10:07.858Z"
   },
   {
    "duration": 10,
    "start_time": "2022-07-18T20:10:11.802Z"
   },
   {
    "duration": 11,
    "start_time": "2022-07-18T20:10:12.675Z"
   },
   {
    "duration": 12,
    "start_time": "2022-07-18T20:10:27.125Z"
   },
   {
    "duration": 11,
    "start_time": "2022-07-18T20:10:41.581Z"
   },
   {
    "duration": 5,
    "start_time": "2022-07-18T20:10:47.268Z"
   },
   {
    "duration": 51237,
    "start_time": "2022-07-18T20:11:02.380Z"
   },
   {
    "duration": 1357,
    "start_time": "2022-07-18T20:12:40.938Z"
   },
   {
    "duration": 695,
    "start_time": "2022-07-18T20:12:42.297Z"
   },
   {
    "duration": 42,
    "start_time": "2022-07-18T20:12:42.994Z"
   },
   {
    "duration": 21,
    "start_time": "2022-07-18T20:12:43.037Z"
   },
   {
    "duration": 20,
    "start_time": "2022-07-18T20:12:43.060Z"
   },
   {
    "duration": 34,
    "start_time": "2022-07-18T20:12:43.081Z"
   },
   {
    "duration": 13,
    "start_time": "2022-07-18T20:12:43.117Z"
   },
   {
    "duration": 17,
    "start_time": "2022-07-18T20:12:43.131Z"
   },
   {
    "duration": 3,
    "start_time": "2022-07-18T20:12:43.150Z"
   },
   {
    "duration": 7,
    "start_time": "2022-07-18T20:12:43.155Z"
   },
   {
    "duration": 6,
    "start_time": "2022-07-18T20:12:43.163Z"
   },
   {
    "duration": 6,
    "start_time": "2022-07-18T20:12:43.171Z"
   },
   {
    "duration": 380,
    "start_time": "2022-07-18T20:12:43.178Z"
   },
   {
    "duration": 5,
    "start_time": "2022-07-18T20:12:43.561Z"
   },
   {
    "duration": 39,
    "start_time": "2022-07-18T20:12:43.567Z"
   },
   {
    "duration": 60,
    "start_time": "2022-07-18T20:12:43.607Z"
   },
   {
    "duration": 95,
    "start_time": "2022-07-18T20:12:43.669Z"
   },
   {
    "duration": 16,
    "start_time": "2022-07-18T20:12:43.765Z"
   },
   {
    "duration": 668,
    "start_time": "2022-07-18T20:12:43.783Z"
   },
   {
    "duration": 730,
    "start_time": "2022-07-18T20:12:44.452Z"
   },
   {
    "duration": 711,
    "start_time": "2022-07-18T20:12:45.184Z"
   },
   {
    "duration": 537,
    "start_time": "2022-07-18T20:12:45.897Z"
   },
   {
    "duration": 11,
    "start_time": "2022-07-18T20:12:46.436Z"
   },
   {
    "duration": 451,
    "start_time": "2022-07-18T20:12:46.448Z"
   },
   {
    "duration": 23,
    "start_time": "2022-07-18T20:12:46.902Z"
   },
   {
    "duration": 6,
    "start_time": "2022-07-18T20:12:46.927Z"
   },
   {
    "duration": 200,
    "start_time": "2022-07-18T20:12:46.934Z"
   },
   {
    "duration": 237,
    "start_time": "2022-07-18T20:12:47.136Z"
   },
   {
    "duration": 110,
    "start_time": "2022-07-18T20:12:47.375Z"
   },
   {
    "duration": 27,
    "start_time": "2022-07-18T20:12:47.487Z"
   },
   {
    "duration": 20,
    "start_time": "2022-07-18T20:12:47.520Z"
   },
   {
    "duration": 3,
    "start_time": "2022-07-18T20:12:47.542Z"
   },
   {
    "duration": 204,
    "start_time": "2022-07-18T20:12:47.547Z"
   },
   {
    "duration": 267,
    "start_time": "2022-07-18T20:12:47.752Z"
   },
   {
    "duration": 123,
    "start_time": "2022-07-18T20:12:48.022Z"
   },
   {
    "duration": 5,
    "start_time": "2022-07-18T20:12:48.147Z"
   },
   {
    "duration": 13,
    "start_time": "2022-07-18T20:12:48.154Z"
   },
   {
    "duration": 2,
    "start_time": "2022-07-18T20:12:48.169Z"
   },
   {
    "duration": 209,
    "start_time": "2022-07-18T20:12:48.173Z"
   },
   {
    "duration": 363,
    "start_time": "2022-07-18T20:12:48.384Z"
   },
   {
    "duration": 125,
    "start_time": "2022-07-18T20:12:48.750Z"
   },
   {
    "duration": 5,
    "start_time": "2022-07-18T20:12:48.877Z"
   },
   {
    "duration": 32,
    "start_time": "2022-07-18T20:12:48.883Z"
   },
   {
    "duration": 7,
    "start_time": "2022-07-18T20:12:48.917Z"
   },
   {
    "duration": 6,
    "start_time": "2022-07-18T20:12:48.926Z"
   },
   {
    "duration": 5,
    "start_time": "2022-07-18T20:12:48.934Z"
   },
   {
    "duration": 12,
    "start_time": "2022-07-18T20:12:48.941Z"
   },
   {
    "duration": 9,
    "start_time": "2022-07-18T20:12:48.954Z"
   },
   {
    "duration": 9,
    "start_time": "2022-07-18T20:12:48.965Z"
   },
   {
    "duration": 22,
    "start_time": "2022-07-18T20:12:48.976Z"
   },
   {
    "duration": 4603,
    "start_time": "2022-07-18T20:12:48.999Z"
   },
   {
    "duration": 5635,
    "start_time": "2022-07-18T20:12:53.604Z"
   },
   {
    "duration": 621,
    "start_time": "2022-07-18T20:12:59.241Z"
   },
   {
    "duration": 296327,
    "start_time": "2022-07-18T20:12:59.864Z"
   },
   {
    "duration": 434118,
    "start_time": "2022-07-18T20:17:56.193Z"
   },
   {
    "duration": 7657,
    "start_time": "2022-07-18T20:25:10.316Z"
   },
   {
    "duration": 7189,
    "start_time": "2022-07-18T20:25:17.975Z"
   },
   {
    "duration": 11,
    "start_time": "2022-07-18T20:25:25.167Z"
   },
   {
    "duration": 20,
    "start_time": "2022-07-18T20:25:25.180Z"
   },
   {
    "duration": 52210,
    "start_time": "2022-07-18T20:25:25.209Z"
   },
   {
    "duration": 59976,
    "start_time": "2022-07-18T20:26:17.421Z"
   },
   {
    "duration": 109,
    "start_time": "2022-07-18T20:27:17.398Z"
   },
   {
    "duration": 12,
    "start_time": "2022-07-18T20:28:03.795Z"
   },
   {
    "duration": 49739,
    "start_time": "2022-07-18T20:28:19.372Z"
   },
   {
    "duration": 14,
    "start_time": "2022-07-18T20:29:09.123Z"
   },
   {
    "duration": 12,
    "start_time": "2022-07-18T20:29:43.958Z"
   },
   {
    "duration": 918,
    "start_time": "2022-07-18T20:30:05.650Z"
   },
   {
    "duration": 932,
    "start_time": "2022-07-18T20:30:19.127Z"
   },
   {
    "duration": 9,
    "start_time": "2022-07-18T20:30:22.223Z"
   },
   {
    "duration": 17,
    "start_time": "2022-07-18T20:31:15.399Z"
   },
   {
    "duration": 1132,
    "start_time": "2022-07-18T20:31:20.709Z"
   },
   {
    "duration": 906,
    "start_time": "2022-07-18T20:31:38.624Z"
   },
   {
    "duration": 965,
    "start_time": "2022-07-18T20:31:57.686Z"
   },
   {
    "duration": 47,
    "start_time": "2022-07-18T20:31:58.652Z"
   },
   {
    "duration": 1166,
    "start_time": "2022-07-18T20:32:03.928Z"
   },
   {
    "duration": 9,
    "start_time": "2022-07-18T20:32:09.896Z"
   },
   {
    "duration": 8,
    "start_time": "2022-07-18T20:32:19.727Z"
   },
   {
    "duration": 948,
    "start_time": "2022-07-18T20:32:31.532Z"
   },
   {
    "duration": 1103,
    "start_time": "2022-07-18T20:32:40.875Z"
   },
   {
    "duration": 4,
    "start_time": "2022-07-18T20:33:31.721Z"
   },
   {
    "duration": 13,
    "start_time": "2022-07-18T20:34:52.702Z"
   },
   {
    "duration": 8603,
    "start_time": "2022-07-18T20:35:13.443Z"
   },
   {
    "duration": 8331,
    "start_time": "2022-07-18T20:35:39.853Z"
   },
   {
    "duration": 3,
    "start_time": "2022-07-18T20:35:59.642Z"
   },
   {
    "duration": 66382,
    "start_time": "2022-07-18T20:38:47.555Z"
   },
   {
    "duration": 1980,
    "start_time": "2022-07-19T04:23:38.040Z"
   },
   {
    "duration": 2797,
    "start_time": "2022-07-19T04:23:40.024Z"
   },
   {
    "duration": 25,
    "start_time": "2022-07-19T04:23:42.822Z"
   },
   {
    "duration": 19,
    "start_time": "2022-07-19T04:23:42.849Z"
   },
   {
    "duration": 21,
    "start_time": "2022-07-19T04:23:42.870Z"
   },
   {
    "duration": 38,
    "start_time": "2022-07-19T04:23:42.892Z"
   },
   {
    "duration": 11,
    "start_time": "2022-07-19T04:23:42.932Z"
   },
   {
    "duration": 16,
    "start_time": "2022-07-19T04:23:42.945Z"
   },
   {
    "duration": 4,
    "start_time": "2022-07-19T04:23:42.962Z"
   },
   {
    "duration": 10,
    "start_time": "2022-07-19T04:23:42.968Z"
   },
   {
    "duration": 7,
    "start_time": "2022-07-19T04:23:42.980Z"
   },
   {
    "duration": 6,
    "start_time": "2022-07-19T04:23:42.988Z"
   },
   {
    "duration": 350,
    "start_time": "2022-07-19T04:23:42.995Z"
   },
   {
    "duration": 5,
    "start_time": "2022-07-19T04:23:43.349Z"
   },
   {
    "duration": 25,
    "start_time": "2022-07-19T04:23:43.355Z"
   },
   {
    "duration": 46,
    "start_time": "2022-07-19T04:23:43.381Z"
   },
   {
    "duration": 95,
    "start_time": "2022-07-19T04:23:43.428Z"
   },
   {
    "duration": 16,
    "start_time": "2022-07-19T04:23:43.525Z"
   },
   {
    "duration": 656,
    "start_time": "2022-07-19T04:23:43.543Z"
   },
   {
    "duration": 631,
    "start_time": "2022-07-19T04:23:44.201Z"
   },
   {
    "duration": 589,
    "start_time": "2022-07-19T04:23:44.834Z"
   },
   {
    "duration": 514,
    "start_time": "2022-07-19T04:23:45.425Z"
   },
   {
    "duration": 11,
    "start_time": "2022-07-19T04:23:45.941Z"
   },
   {
    "duration": 425,
    "start_time": "2022-07-19T04:23:45.954Z"
   },
   {
    "duration": 11,
    "start_time": "2022-07-19T04:23:46.381Z"
   },
   {
    "duration": 2,
    "start_time": "2022-07-19T04:23:46.394Z"
   },
   {
    "duration": 204,
    "start_time": "2022-07-19T04:23:46.398Z"
   },
   {
    "duration": 245,
    "start_time": "2022-07-19T04:23:46.604Z"
   },
   {
    "duration": 119,
    "start_time": "2022-07-19T04:23:46.851Z"
   },
   {
    "duration": 7,
    "start_time": "2022-07-19T04:23:46.973Z"
   },
   {
    "duration": 25,
    "start_time": "2022-07-19T04:23:46.982Z"
   },
   {
    "duration": 3,
    "start_time": "2022-07-19T04:23:47.009Z"
   },
   {
    "duration": 238,
    "start_time": "2022-07-19T04:23:47.013Z"
   },
   {
    "duration": 254,
    "start_time": "2022-07-19T04:23:47.253Z"
   },
   {
    "duration": 275,
    "start_time": "2022-07-19T04:23:47.509Z"
   },
   {
    "duration": 5,
    "start_time": "2022-07-19T04:23:47.786Z"
   },
   {
    "duration": 12,
    "start_time": "2022-07-19T04:23:47.793Z"
   },
   {
    "duration": 17,
    "start_time": "2022-07-19T04:23:47.807Z"
   },
   {
    "duration": 188,
    "start_time": "2022-07-19T04:23:47.826Z"
   },
   {
    "duration": 251,
    "start_time": "2022-07-19T04:23:48.016Z"
   },
   {
    "duration": 130,
    "start_time": "2022-07-19T04:23:48.271Z"
   },
   {
    "duration": 22,
    "start_time": "2022-07-19T04:23:48.403Z"
   },
   {
    "duration": 11,
    "start_time": "2022-07-19T04:23:48.427Z"
   },
   {
    "duration": 6,
    "start_time": "2022-07-19T04:23:48.440Z"
   },
   {
    "duration": 7,
    "start_time": "2022-07-19T04:23:48.448Z"
   },
   {
    "duration": 8,
    "start_time": "2022-07-19T04:23:48.457Z"
   },
   {
    "duration": 11,
    "start_time": "2022-07-19T04:23:48.466Z"
   },
   {
    "duration": 9,
    "start_time": "2022-07-19T04:23:48.479Z"
   },
   {
    "duration": 11,
    "start_time": "2022-07-19T04:23:48.490Z"
   },
   {
    "duration": 31,
    "start_time": "2022-07-19T04:23:48.503Z"
   },
   {
    "duration": 1629,
    "start_time": "2022-07-19T18:06:45.636Z"
   },
   {
    "duration": 2039,
    "start_time": "2022-07-19T18:06:47.268Z"
   },
   {
    "duration": 29,
    "start_time": "2022-07-19T18:06:49.313Z"
   },
   {
    "duration": 22,
    "start_time": "2022-07-19T18:06:49.344Z"
   },
   {
    "duration": 56,
    "start_time": "2022-07-19T18:06:49.368Z"
   },
   {
    "duration": 21,
    "start_time": "2022-07-19T18:06:49.426Z"
   },
   {
    "duration": 14,
    "start_time": "2022-07-19T18:06:49.449Z"
   },
   {
    "duration": 53,
    "start_time": "2022-07-19T18:06:49.465Z"
   },
   {
    "duration": 4,
    "start_time": "2022-07-19T18:06:49.521Z"
   },
   {
    "duration": 6,
    "start_time": "2022-07-19T18:06:49.527Z"
   },
   {
    "duration": 8,
    "start_time": "2022-07-19T18:06:49.535Z"
   },
   {
    "duration": 4,
    "start_time": "2022-07-19T18:06:49.544Z"
   },
   {
    "duration": 371,
    "start_time": "2022-07-19T18:06:49.550Z"
   },
   {
    "duration": 6,
    "start_time": "2022-07-19T18:06:49.923Z"
   },
   {
    "duration": 17,
    "start_time": "2022-07-19T18:06:49.930Z"
   },
   {
    "duration": 39,
    "start_time": "2022-07-19T18:06:49.949Z"
   },
   {
    "duration": 126,
    "start_time": "2022-07-19T18:06:49.990Z"
   },
   {
    "duration": 16,
    "start_time": "2022-07-19T18:06:50.118Z"
   },
   {
    "duration": 662,
    "start_time": "2022-07-19T18:06:50.136Z"
   },
   {
    "duration": 752,
    "start_time": "2022-07-19T18:06:50.800Z"
   },
   {
    "duration": 734,
    "start_time": "2022-07-19T18:06:51.554Z"
   },
   {
    "duration": 603,
    "start_time": "2022-07-19T18:06:52.289Z"
   },
   {
    "duration": 17,
    "start_time": "2022-07-19T18:06:52.894Z"
   },
   {
    "duration": 474,
    "start_time": "2022-07-19T18:06:52.912Z"
   },
   {
    "duration": 13,
    "start_time": "2022-07-19T18:06:53.388Z"
   },
   {
    "duration": 4,
    "start_time": "2022-07-19T18:06:53.410Z"
   },
   {
    "duration": 257,
    "start_time": "2022-07-19T18:06:53.419Z"
   },
   {
    "duration": 266,
    "start_time": "2022-07-19T18:06:53.678Z"
   },
   {
    "duration": 131,
    "start_time": "2022-07-19T18:06:53.946Z"
   },
   {
    "duration": 5,
    "start_time": "2022-07-19T18:06:54.079Z"
   },
   {
    "duration": 30,
    "start_time": "2022-07-19T18:06:54.086Z"
   },
   {
    "duration": 12,
    "start_time": "2022-07-19T18:06:54.118Z"
   },
   {
    "duration": 209,
    "start_time": "2022-07-19T18:06:54.131Z"
   },
   {
    "duration": 336,
    "start_time": "2022-07-19T18:06:54.342Z"
   },
   {
    "duration": 140,
    "start_time": "2022-07-19T18:06:54.680Z"
   },
   {
    "duration": 7,
    "start_time": "2022-07-19T18:06:54.821Z"
   },
   {
    "duration": 12,
    "start_time": "2022-07-19T18:06:54.829Z"
   },
   {
    "duration": 3,
    "start_time": "2022-07-19T18:06:54.843Z"
   },
   {
    "duration": 220,
    "start_time": "2022-07-19T18:06:54.847Z"
   },
   {
    "duration": 465,
    "start_time": "2022-07-19T18:06:55.068Z"
   },
   {
    "duration": 146,
    "start_time": "2022-07-19T18:06:55.535Z"
   },
   {
    "duration": 5,
    "start_time": "2022-07-19T18:06:55.683Z"
   },
   {
    "duration": 26,
    "start_time": "2022-07-19T18:06:55.690Z"
   },
   {
    "duration": 6,
    "start_time": "2022-07-19T18:06:55.718Z"
   },
   {
    "duration": 5,
    "start_time": "2022-07-19T18:06:55.725Z"
   },
   {
    "duration": 5,
    "start_time": "2022-07-19T18:06:55.732Z"
   },
   {
    "duration": 11,
    "start_time": "2022-07-19T18:06:55.739Z"
   },
   {
    "duration": 11,
    "start_time": "2022-07-19T18:06:55.752Z"
   },
   {
    "duration": 8,
    "start_time": "2022-07-19T18:06:55.765Z"
   },
   {
    "duration": 3339,
    "start_time": "2022-07-19T18:06:55.775Z"
   },
   {
    "duration": 6440,
    "start_time": "2022-07-19T18:06:59.116Z"
   },
   {
    "duration": 713,
    "start_time": "2022-07-19T18:07:05.558Z"
   },
   {
    "duration": 1560,
    "start_time": "2022-07-19T18:07:24.121Z"
   },
   {
    "duration": 801,
    "start_time": "2022-07-19T18:07:25.684Z"
   },
   {
    "duration": 35,
    "start_time": "2022-07-19T18:07:26.487Z"
   },
   {
    "duration": 23,
    "start_time": "2022-07-19T18:07:26.524Z"
   },
   {
    "duration": 32,
    "start_time": "2022-07-19T18:07:26.549Z"
   },
   {
    "duration": 39,
    "start_time": "2022-07-19T18:07:26.583Z"
   },
   {
    "duration": 17,
    "start_time": "2022-07-19T18:07:26.624Z"
   },
   {
    "duration": 27,
    "start_time": "2022-07-19T18:07:26.643Z"
   },
   {
    "duration": 5,
    "start_time": "2022-07-19T18:07:26.671Z"
   },
   {
    "duration": 40,
    "start_time": "2022-07-19T18:07:26.679Z"
   },
   {
    "duration": 10,
    "start_time": "2022-07-19T18:07:26.721Z"
   },
   {
    "duration": 9,
    "start_time": "2022-07-19T18:07:26.732Z"
   },
   {
    "duration": 382,
    "start_time": "2022-07-19T18:07:26.743Z"
   },
   {
    "duration": 5,
    "start_time": "2022-07-19T18:07:27.127Z"
   },
   {
    "duration": 17,
    "start_time": "2022-07-19T18:07:27.134Z"
   },
   {
    "duration": 57,
    "start_time": "2022-07-19T18:07:27.153Z"
   },
   {
    "duration": 106,
    "start_time": "2022-07-19T18:07:27.212Z"
   },
   {
    "duration": 17,
    "start_time": "2022-07-19T18:07:27.321Z"
   },
   {
    "duration": 710,
    "start_time": "2022-07-19T18:07:27.340Z"
   },
   {
    "duration": 820,
    "start_time": "2022-07-19T18:07:28.052Z"
   },
   {
    "duration": 696,
    "start_time": "2022-07-19T18:07:28.874Z"
   },
   {
    "duration": 621,
    "start_time": "2022-07-19T18:07:29.572Z"
   },
   {
    "duration": 26,
    "start_time": "2022-07-19T18:07:30.195Z"
   },
   {
    "duration": 561,
    "start_time": "2022-07-19T18:07:30.224Z"
   },
   {
    "duration": 23,
    "start_time": "2022-07-19T18:07:30.787Z"
   },
   {
    "duration": 10,
    "start_time": "2022-07-19T18:07:30.812Z"
   },
   {
    "duration": 251,
    "start_time": "2022-07-19T18:07:30.823Z"
   },
   {
    "duration": 294,
    "start_time": "2022-07-19T18:07:31.078Z"
   },
   {
    "duration": 138,
    "start_time": "2022-07-19T18:07:31.374Z"
   },
   {
    "duration": 7,
    "start_time": "2022-07-19T18:07:31.514Z"
   },
   {
    "duration": 15,
    "start_time": "2022-07-19T18:07:31.523Z"
   },
   {
    "duration": 6,
    "start_time": "2022-07-19T18:07:31.540Z"
   },
   {
    "duration": 229,
    "start_time": "2022-07-19T18:07:31.548Z"
   },
   {
    "duration": 355,
    "start_time": "2022-07-19T18:07:31.779Z"
   },
   {
    "duration": 192,
    "start_time": "2022-07-19T18:07:32.137Z"
   },
   {
    "duration": 6,
    "start_time": "2022-07-19T18:07:32.332Z"
   },
   {
    "duration": 15,
    "start_time": "2022-07-19T18:07:32.340Z"
   },
   {
    "duration": 4,
    "start_time": "2022-07-19T18:07:32.357Z"
   },
   {
    "duration": 238,
    "start_time": "2022-07-19T18:07:32.363Z"
   },
   {
    "duration": 451,
    "start_time": "2022-07-19T18:07:32.603Z"
   },
   {
    "duration": 141,
    "start_time": "2022-07-19T18:07:33.056Z"
   },
   {
    "duration": 11,
    "start_time": "2022-07-19T18:07:33.199Z"
   },
   {
    "duration": 10,
    "start_time": "2022-07-19T18:07:33.212Z"
   },
   {
    "duration": 6,
    "start_time": "2022-07-19T18:07:33.224Z"
   },
   {
    "duration": 9,
    "start_time": "2022-07-19T18:07:33.232Z"
   },
   {
    "duration": 6,
    "start_time": "2022-07-19T18:07:33.243Z"
   },
   {
    "duration": 7,
    "start_time": "2022-07-19T18:07:33.251Z"
   },
   {
    "duration": 10,
    "start_time": "2022-07-19T18:07:33.260Z"
   },
   {
    "duration": 38,
    "start_time": "2022-07-19T18:07:33.272Z"
   },
   {
    "duration": 2907,
    "start_time": "2022-07-19T18:07:33.312Z"
   },
   {
    "duration": 6526,
    "start_time": "2022-07-19T18:07:36.222Z"
   },
   {
    "duration": 8988,
    "start_time": "2022-07-19T18:07:42.750Z"
   },
   {
    "duration": 1495,
    "start_time": "2022-07-19T18:09:04.956Z"
   },
   {
    "duration": 779,
    "start_time": "2022-07-19T18:09:06.453Z"
   },
   {
    "duration": 31,
    "start_time": "2022-07-19T18:09:07.234Z"
   },
   {
    "duration": 52,
    "start_time": "2022-07-19T18:09:07.268Z"
   },
   {
    "duration": 35,
    "start_time": "2022-07-19T18:09:07.325Z"
   },
   {
    "duration": 48,
    "start_time": "2022-07-19T18:09:07.362Z"
   },
   {
    "duration": 22,
    "start_time": "2022-07-19T18:09:07.413Z"
   },
   {
    "duration": 29,
    "start_time": "2022-07-19T18:09:07.437Z"
   },
   {
    "duration": 4,
    "start_time": "2022-07-19T18:09:07.468Z"
   },
   {
    "duration": 7,
    "start_time": "2022-07-19T18:09:07.509Z"
   },
   {
    "duration": 9,
    "start_time": "2022-07-19T18:09:07.518Z"
   },
   {
    "duration": 9,
    "start_time": "2022-07-19T18:09:07.529Z"
   },
   {
    "duration": 428,
    "start_time": "2022-07-19T18:09:07.541Z"
   },
   {
    "duration": 6,
    "start_time": "2022-07-19T18:09:07.971Z"
   },
   {
    "duration": 34,
    "start_time": "2022-07-19T18:09:07.979Z"
   },
   {
    "duration": 40,
    "start_time": "2022-07-19T18:09:08.016Z"
   },
   {
    "duration": 143,
    "start_time": "2022-07-19T18:09:08.058Z"
   },
   {
    "duration": 18,
    "start_time": "2022-07-19T18:09:08.203Z"
   },
   {
    "duration": 823,
    "start_time": "2022-07-19T18:09:08.223Z"
   },
   {
    "duration": 803,
    "start_time": "2022-07-19T18:09:09.049Z"
   },
   {
    "duration": 726,
    "start_time": "2022-07-19T18:09:09.854Z"
   },
   {
    "duration": 689,
    "start_time": "2022-07-19T18:09:10.582Z"
   },
   {
    "duration": 17,
    "start_time": "2022-07-19T18:09:11.273Z"
   },
   {
    "duration": 733,
    "start_time": "2022-07-19T18:09:11.292Z"
   },
   {
    "duration": 17,
    "start_time": "2022-07-19T18:09:12.028Z"
   },
   {
    "duration": 60,
    "start_time": "2022-07-19T18:09:12.047Z"
   },
   {
    "duration": 353,
    "start_time": "2022-07-19T18:09:12.110Z"
   },
   {
    "duration": 293,
    "start_time": "2022-07-19T18:09:12.468Z"
   },
   {
    "duration": 136,
    "start_time": "2022-07-19T18:09:12.763Z"
   },
   {
    "duration": 7,
    "start_time": "2022-07-19T18:09:12.910Z"
   },
   {
    "duration": 46,
    "start_time": "2022-07-19T18:09:12.919Z"
   },
   {
    "duration": 25,
    "start_time": "2022-07-19T18:09:12.968Z"
   },
   {
    "duration": 245,
    "start_time": "2022-07-19T18:09:12.995Z"
   },
   {
    "duration": 300,
    "start_time": "2022-07-19T18:09:13.242Z"
   },
   {
    "duration": 231,
    "start_time": "2022-07-19T18:09:13.544Z"
   },
   {
    "duration": 7,
    "start_time": "2022-07-19T18:09:13.777Z"
   },
   {
    "duration": 24,
    "start_time": "2022-07-19T18:09:13.786Z"
   },
   {
    "duration": 4,
    "start_time": "2022-07-19T18:09:13.812Z"
   },
   {
    "duration": 234,
    "start_time": "2022-07-19T18:09:13.818Z"
   },
   {
    "duration": 529,
    "start_time": "2022-07-19T18:09:14.055Z"
   },
   {
    "duration": 155,
    "start_time": "2022-07-19T18:09:14.586Z"
   },
   {
    "duration": 7,
    "start_time": "2022-07-19T18:09:14.743Z"
   },
   {
    "duration": 15,
    "start_time": "2022-07-19T18:09:14.751Z"
   },
   {
    "duration": 7,
    "start_time": "2022-07-19T18:09:14.768Z"
   },
   {
    "duration": 33,
    "start_time": "2022-07-19T18:09:14.778Z"
   },
   {
    "duration": 7,
    "start_time": "2022-07-19T18:09:14.814Z"
   },
   {
    "duration": 7,
    "start_time": "2022-07-19T18:09:14.823Z"
   },
   {
    "duration": 12,
    "start_time": "2022-07-19T18:09:14.832Z"
   },
   {
    "duration": 10,
    "start_time": "2022-07-19T18:09:14.846Z"
   },
   {
    "duration": 3669,
    "start_time": "2022-07-19T18:09:14.858Z"
   },
   {
    "duration": 5529,
    "start_time": "2022-07-19T18:09:18.530Z"
   },
   {
    "duration": 9239,
    "start_time": "2022-07-19T18:09:24.061Z"
   },
   {
    "duration": 76718,
    "start_time": "2022-07-19T18:09:33.302Z"
   },
   {
    "duration": 8531,
    "start_time": "2022-07-19T18:10:50.021Z"
   },
   {
    "duration": 8082,
    "start_time": "2022-07-19T18:10:58.555Z"
   },
   {
    "duration": 13,
    "start_time": "2022-07-19T18:11:06.639Z"
   },
   {
    "duration": 14,
    "start_time": "2022-07-19T18:11:06.654Z"
   },
   {
    "duration": 10093,
    "start_time": "2022-07-19T18:11:06.670Z"
   },
   {
    "duration": 9778,
    "start_time": "2022-07-19T18:11:16.765Z"
   },
   {
    "duration": 4,
    "start_time": "2022-07-19T18:11:26.546Z"
   },
   {
    "duration": 7,
    "start_time": "2022-07-19T18:11:26.556Z"
   },
   {
    "duration": 3,
    "start_time": "2022-07-19T18:11:33.980Z"
   },
   {
    "duration": 5365,
    "start_time": "2022-07-19T18:11:41.636Z"
   },
   {
    "duration": 850,
    "start_time": "2022-07-19T18:11:53.183Z"
   },
   {
    "duration": 76372,
    "start_time": "2022-07-19T18:12:03.040Z"
   },
   {
    "duration": 8651,
    "start_time": "2022-07-19T18:13:19.414Z"
   },
   {
    "duration": 8158,
    "start_time": "2022-07-19T18:13:28.067Z"
   },
   {
    "duration": 3,
    "start_time": "2022-07-19T18:15:56.774Z"
   },
   {
    "duration": 8,
    "start_time": "2022-07-19T18:17:24.556Z"
   },
   {
    "duration": 10,
    "start_time": "2022-07-19T18:18:02.276Z"
   },
   {
    "duration": 5,
    "start_time": "2022-07-19T18:18:13.778Z"
   },
   {
    "duration": 3528,
    "start_time": "2022-07-19T18:29:17.882Z"
   },
   {
    "duration": 4,
    "start_time": "2022-07-19T18:33:23.778Z"
   },
   {
    "duration": 117,
    "start_time": "2022-07-19T18:34:18.943Z"
   },
   {
    "duration": 4,
    "start_time": "2022-07-19T18:34:27.837Z"
   },
   {
    "duration": 203,
    "start_time": "2022-07-19T18:34:28.585Z"
   },
   {
    "duration": 319,
    "start_time": "2022-07-19T18:34:31.647Z"
   },
   {
    "duration": 121,
    "start_time": "2022-07-19T18:34:37.450Z"
   },
   {
    "duration": 131,
    "start_time": "2022-07-19T18:34:41.664Z"
   },
   {
    "duration": 1549,
    "start_time": "2022-07-19T18:34:44.398Z"
   },
   {
    "duration": 6,
    "start_time": "2022-07-19T18:34:52.489Z"
   },
   {
    "duration": 11,
    "start_time": "2022-07-19T18:35:09.202Z"
   },
   {
    "duration": 17,
    "start_time": "2022-07-19T18:35:25.457Z"
   },
   {
    "duration": 1807,
    "start_time": "2022-07-19T18:35:40.946Z"
   },
   {
    "duration": 767,
    "start_time": "2022-07-19T18:35:42.756Z"
   },
   {
    "duration": 26,
    "start_time": "2022-07-19T18:35:43.525Z"
   },
   {
    "duration": 22,
    "start_time": "2022-07-19T18:35:43.553Z"
   },
   {
    "duration": 43,
    "start_time": "2022-07-19T18:35:43.577Z"
   },
   {
    "duration": 25,
    "start_time": "2022-07-19T18:35:43.622Z"
   },
   {
    "duration": 13,
    "start_time": "2022-07-19T18:35:43.649Z"
   },
   {
    "duration": 30,
    "start_time": "2022-07-19T18:35:43.664Z"
   },
   {
    "duration": 16,
    "start_time": "2022-07-19T18:35:43.696Z"
   },
   {
    "duration": 22,
    "start_time": "2022-07-19T18:35:43.714Z"
   },
   {
    "duration": 9,
    "start_time": "2022-07-19T18:35:43.738Z"
   },
   {
    "duration": 18,
    "start_time": "2022-07-19T18:35:43.749Z"
   },
   {
    "duration": 374,
    "start_time": "2022-07-19T18:35:43.769Z"
   },
   {
    "duration": 6,
    "start_time": "2022-07-19T18:35:44.146Z"
   },
   {
    "duration": 32,
    "start_time": "2022-07-19T18:35:44.154Z"
   },
   {
    "duration": 60,
    "start_time": "2022-07-19T18:35:44.189Z"
   },
   {
    "duration": 104,
    "start_time": "2022-07-19T18:35:44.251Z"
   },
   {
    "duration": 18,
    "start_time": "2022-07-19T18:35:44.358Z"
   },
   {
    "duration": 732,
    "start_time": "2022-07-19T18:35:44.378Z"
   },
   {
    "duration": 818,
    "start_time": "2022-07-19T18:35:45.112Z"
   },
   {
    "duration": 688,
    "start_time": "2022-07-19T18:35:45.932Z"
   },
   {
    "duration": 585,
    "start_time": "2022-07-19T18:35:46.621Z"
   },
   {
    "duration": 11,
    "start_time": "2022-07-19T18:35:47.210Z"
   },
   {
    "duration": 497,
    "start_time": "2022-07-19T18:35:47.223Z"
   },
   {
    "duration": 12,
    "start_time": "2022-07-19T18:35:47.722Z"
   },
   {
    "duration": 4,
    "start_time": "2022-07-19T18:35:47.735Z"
   },
   {
    "duration": 242,
    "start_time": "2022-07-19T18:35:47.741Z"
   },
   {
    "duration": 272,
    "start_time": "2022-07-19T18:35:47.985Z"
   },
   {
    "duration": 127,
    "start_time": "2022-07-19T18:35:48.259Z"
   },
   {
    "duration": 6,
    "start_time": "2022-07-19T18:35:48.388Z"
   },
   {
    "duration": 13,
    "start_time": "2022-07-19T18:35:48.410Z"
   },
   {
    "duration": 4,
    "start_time": "2022-07-19T18:35:48.425Z"
   },
   {
    "duration": 230,
    "start_time": "2022-07-19T18:35:48.431Z"
   },
   {
    "duration": 271,
    "start_time": "2022-07-19T18:35:48.663Z"
   },
   {
    "duration": 151,
    "start_time": "2022-07-19T18:35:48.937Z"
   },
   {
    "duration": 7,
    "start_time": "2022-07-19T18:35:49.090Z"
   },
   {
    "duration": 15,
    "start_time": "2022-07-19T18:35:49.109Z"
   },
   {
    "duration": 3,
    "start_time": "2022-07-19T18:35:49.126Z"
   },
   {
    "duration": 221,
    "start_time": "2022-07-19T18:35:49.131Z"
   },
   {
    "duration": 443,
    "start_time": "2022-07-19T18:35:49.353Z"
   },
   {
    "duration": 147,
    "start_time": "2022-07-19T18:35:49.801Z"
   },
   {
    "duration": 7,
    "start_time": "2022-07-19T18:35:49.949Z"
   },
   {
    "duration": 16,
    "start_time": "2022-07-19T18:35:49.958Z"
   },
   {
    "duration": 7,
    "start_time": "2022-07-19T18:35:49.977Z"
   },
   {
    "duration": 31,
    "start_time": "2022-07-19T18:35:49.985Z"
   },
   {
    "duration": 11,
    "start_time": "2022-07-19T18:35:50.018Z"
   },
   {
    "duration": 5,
    "start_time": "2022-07-19T18:35:50.032Z"
   },
   {
    "duration": 9,
    "start_time": "2022-07-19T18:35:50.039Z"
   },
   {
    "duration": 10,
    "start_time": "2022-07-19T18:35:50.050Z"
   },
   {
    "duration": 2953,
    "start_time": "2022-07-19T18:35:50.062Z"
   },
   {
    "duration": 92,
    "start_time": "2022-07-19T18:35:53.018Z"
   },
   {
    "duration": 5079,
    "start_time": "2022-07-19T18:35:53.113Z"
   },
   {
    "duration": 733,
    "start_time": "2022-07-19T18:35:58.194Z"
   },
   {
    "duration": 75970,
    "start_time": "2022-07-19T18:35:58.929Z"
   },
   {
    "duration": 9522,
    "start_time": "2022-07-19T18:37:14.901Z"
   },
   {
    "duration": 9211,
    "start_time": "2022-07-19T18:37:24.425Z"
   },
   {
    "duration": 11,
    "start_time": "2022-07-19T18:37:33.638Z"
   },
   {
    "duration": 22,
    "start_time": "2022-07-19T18:37:33.651Z"
   },
   {
    "duration": 9606,
    "start_time": "2022-07-19T18:37:33.675Z"
   },
   {
    "duration": 9548,
    "start_time": "2022-07-19T18:37:43.283Z"
   },
   {
    "duration": 4,
    "start_time": "2022-07-19T18:37:52.833Z"
   },
   {
    "duration": 13,
    "start_time": "2022-07-19T18:37:52.839Z"
   },
   {
    "duration": 16,
    "start_time": "2022-07-19T18:37:52.854Z"
   },
   {
    "duration": 18,
    "start_time": "2022-07-19T18:37:52.872Z"
   },
   {
    "duration": 460,
    "start_time": "2022-07-19T18:41:12.621Z"
   },
   {
    "duration": 458,
    "start_time": "2022-07-19T18:41:53.768Z"
   },
   {
    "duration": 1464,
    "start_time": "2022-07-19T18:44:04.832Z"
   },
   {
    "duration": 764,
    "start_time": "2022-07-19T18:44:06.298Z"
   },
   {
    "duration": 27,
    "start_time": "2022-07-19T18:44:07.064Z"
   },
   {
    "duration": 32,
    "start_time": "2022-07-19T18:44:07.093Z"
   },
   {
    "duration": 32,
    "start_time": "2022-07-19T18:44:07.126Z"
   },
   {
    "duration": 24,
    "start_time": "2022-07-19T18:44:07.159Z"
   },
   {
    "duration": 31,
    "start_time": "2022-07-19T18:44:07.184Z"
   },
   {
    "duration": 19,
    "start_time": "2022-07-19T18:44:07.217Z"
   },
   {
    "duration": 4,
    "start_time": "2022-07-19T18:44:07.238Z"
   },
   {
    "duration": 8,
    "start_time": "2022-07-19T18:44:07.245Z"
   },
   {
    "duration": 8,
    "start_time": "2022-07-19T18:44:07.255Z"
   },
   {
    "duration": 11,
    "start_time": "2022-07-19T18:44:07.265Z"
   },
   {
    "duration": 399,
    "start_time": "2022-07-19T18:44:07.277Z"
   },
   {
    "duration": 6,
    "start_time": "2022-07-19T18:44:07.677Z"
   },
   {
    "duration": 27,
    "start_time": "2022-07-19T18:44:07.684Z"
   },
   {
    "duration": 40,
    "start_time": "2022-07-19T18:44:07.713Z"
   },
   {
    "duration": 127,
    "start_time": "2022-07-19T18:44:07.755Z"
   },
   {
    "duration": 17,
    "start_time": "2022-07-19T18:44:07.883Z"
   },
   {
    "duration": 694,
    "start_time": "2022-07-19T18:44:07.911Z"
   },
   {
    "duration": 835,
    "start_time": "2022-07-19T18:44:08.610Z"
   },
   {
    "duration": 676,
    "start_time": "2022-07-19T18:44:09.447Z"
   },
   {
    "duration": 630,
    "start_time": "2022-07-19T18:44:10.125Z"
   },
   {
    "duration": 13,
    "start_time": "2022-07-19T18:44:10.756Z"
   },
   {
    "duration": 511,
    "start_time": "2022-07-19T18:44:10.770Z"
   },
   {
    "duration": 12,
    "start_time": "2022-07-19T18:44:11.283Z"
   },
   {
    "duration": 15,
    "start_time": "2022-07-19T18:44:11.297Z"
   },
   {
    "duration": 252,
    "start_time": "2022-07-19T18:44:11.314Z"
   },
   {
    "duration": 299,
    "start_time": "2022-07-19T18:44:11.572Z"
   },
   {
    "duration": 177,
    "start_time": "2022-07-19T18:44:11.873Z"
   },
   {
    "duration": 7,
    "start_time": "2022-07-19T18:44:12.053Z"
   },
   {
    "duration": 22,
    "start_time": "2022-07-19T18:44:12.062Z"
   },
   {
    "duration": 20,
    "start_time": "2022-07-19T18:44:12.087Z"
   },
   {
    "duration": 211,
    "start_time": "2022-07-19T18:44:12.110Z"
   },
   {
    "duration": 299,
    "start_time": "2022-07-19T18:44:12.322Z"
   },
   {
    "duration": 148,
    "start_time": "2022-07-19T18:44:12.623Z"
   },
   {
    "duration": 6,
    "start_time": "2022-07-19T18:44:12.773Z"
   },
   {
    "duration": 29,
    "start_time": "2022-07-19T18:44:12.781Z"
   },
   {
    "duration": 3,
    "start_time": "2022-07-19T18:44:12.812Z"
   },
   {
    "duration": 217,
    "start_time": "2022-07-19T18:44:12.817Z"
   },
   {
    "duration": 448,
    "start_time": "2022-07-19T18:44:13.036Z"
   },
   {
    "duration": 174,
    "start_time": "2022-07-19T18:44:13.486Z"
   },
   {
    "duration": 8,
    "start_time": "2022-07-19T18:44:13.662Z"
   },
   {
    "duration": 17,
    "start_time": "2022-07-19T18:44:13.672Z"
   },
   {
    "duration": 24,
    "start_time": "2022-07-19T18:44:13.692Z"
   },
   {
    "duration": 10,
    "start_time": "2022-07-19T18:44:13.718Z"
   },
   {
    "duration": 11,
    "start_time": "2022-07-19T18:44:13.730Z"
   },
   {
    "duration": 12,
    "start_time": "2022-07-19T18:44:13.743Z"
   },
   {
    "duration": 14,
    "start_time": "2022-07-19T18:44:13.757Z"
   },
   {
    "duration": 10,
    "start_time": "2022-07-19T18:44:13.773Z"
   },
   {
    "duration": 3127,
    "start_time": "2022-07-19T18:44:13.785Z"
   },
   {
    "duration": 6,
    "start_time": "2022-07-19T18:44:16.915Z"
   },
   {
    "duration": 5177,
    "start_time": "2022-07-19T18:44:16.923Z"
   },
   {
    "duration": 756,
    "start_time": "2022-07-19T18:44:22.102Z"
   },
   {
    "duration": 76007,
    "start_time": "2022-07-19T18:44:22.861Z"
   },
   {
    "duration": 9738,
    "start_time": "2022-07-19T18:45:38.870Z"
   },
   {
    "duration": 9156,
    "start_time": "2022-07-19T18:45:48.610Z"
   },
   {
    "duration": 12,
    "start_time": "2022-07-19T18:45:57.768Z"
   },
   {
    "duration": 15,
    "start_time": "2022-07-19T18:45:57.782Z"
   },
   {
    "duration": 9492,
    "start_time": "2022-07-19T18:45:57.800Z"
   },
   {
    "duration": 9582,
    "start_time": "2022-07-19T18:46:07.293Z"
   },
   {
    "duration": 5,
    "start_time": "2022-07-19T18:46:16.878Z"
   },
   {
    "duration": 25,
    "start_time": "2022-07-19T18:46:16.885Z"
   },
   {
    "duration": 10,
    "start_time": "2022-07-19T18:46:16.913Z"
   },
   {
    "duration": 6,
    "start_time": "2022-07-19T18:46:16.925Z"
   }
  ],
  "kernelspec": {
   "display_name": "Python 3 (ipykernel)",
   "language": "python",
   "name": "python3"
  },
  "language_info": {
   "codemirror_mode": {
    "name": "ipython",
    "version": 3
   },
   "file_extension": ".py",
   "mimetype": "text/x-python",
   "name": "python",
   "nbconvert_exporter": "python",
   "pygments_lexer": "ipython3",
   "version": "3.9.5"
  },
  "toc": {
   "base_numbering": 1,
   "nav_menu": {},
   "number_sections": true,
   "sideBar": true,
   "skip_h1_title": true,
   "title_cell": "Содержание",
   "title_sidebar": "Contents",
   "toc_cell": true,
   "toc_position": {},
   "toc_section_display": true,
   "toc_window_display": true
  }
 },
 "nbformat": 4,
 "nbformat_minor": 2
}
